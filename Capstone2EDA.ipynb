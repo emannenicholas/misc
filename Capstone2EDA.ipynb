{
 "cells": [
  {
   "cell_type": "markdown",
   "metadata": {},
   "source": [
    "# Info from Kaggle\n",
    "\n",
    "Data Fields\n",
    "* PetID - Unique hash ID of pet profile\n",
    "* AdoptionSpeed - Categorical speed of adoption. Lower is faster. This is the value to predict. See below section for more info.\n",
    "* Type - Type of animal (1 = Dog, 2 = Cat)\n",
    "* Name - Name of pet (Empty if not named)\n",
    "* Age - Age of pet when listed, in months\n",
    "* Breed1 - Primary breed of pet (Refer to BreedLabels dictionary)\n",
    "* Breed2 - Secondary breed of pet, if pet is of mixed breed (Refer to BreedLabels dictionary)\n",
    "* Gender - Gender of pet (1 = Male, 2 = Female, 3 = Mixed, if profile represents group of pets)\n",
    "* Color1 - Color 1 of pet (Refer to ColorLabels dictionary)\n",
    "* Color2 - Color 2 of pet (Refer to ColorLabels dictionary)\n",
    "* Color3 - Color 3 of pet (Refer to ColorLabels dictionary)\n",
    "* MaturitySize - Size at maturity (1 = Small, 2 = Medium, 3 = Large, 4 = Extra Large, 0 = Not Specified)\n",
    "* FurLength - Fur length (1 = Short, 2 = Medium, 3 = Long, 0 = Not Specified)\n",
    "* Vaccinated - Pet has been vaccinated (1 = Yes, 2 = No, 3 = Not Sure)\n",
    "* Dewormed - Pet has been dewormed (1 = Yes, 2 = No, 3 = Not Sure)\n",
    "* Sterilized - Pet has been spayed / neutered (1 = Yes, 2 = No, 3 = Not Sure)\n",
    "* Health - Health Condition (1 = Healthy, 2 = Minor Injury, 3 = Serious Injury, 0 = Not Specified)\n",
    "* Quantity - Number of pets represented in profile\n",
    "* Fee - Adoption fee (0 = Free)\n",
    "* State - State location in Malaysia (Refer to StateLabels dictionary)\n",
    "* RescuerID - Unique hash ID of rescuer\n",
    "* VideoAmt - Total uploaded videos for this pet\n",
    "* PhotoAmt - Total uploaded photos for this pet\n",
    "* Description - Profile write-up for this pet. The primary language used is English, with some in Malay or Chinese.\n",
    "\n",
    "AdoptionSpeed\n",
    "\n",
    "Contestants are required to predict this value. The value is determined by how quickly, if at all, a pet is adopted. The values are determined in the following way:\n",
    "* 0 - Pet was adopted on the same day as it was listed.\n",
    "* 1 - Pet was adopted between 1 and 7 days (1st week) after being listed.\n",
    "* 2 - Pet was adopted between 8 and 30 days (1st month) after being listed.\n",
    "* 3 - Pet was adopted between 31 and 90 days (2nd & 3rd month) after being listed.\n",
    "* 4 - No adoption after 100 days of being listed. (There are no pets in this dataset that waited between 90 and 100 days)."
   ]
  },
  {
   "cell_type": "markdown",
   "metadata": {},
   "source": [
    "# Setting up the Environment"
   ]
  },
  {
   "cell_type": "code",
   "execution_count": 1,
   "metadata": {},
   "outputs": [
    {
     "data": {
      "application/javascript": [
       "\n",
       "            setTimeout(function() {\n",
       "                var nbb_cell_id = 1;\n",
       "                var nbb_unformatted_code = \"%load_ext nb_black\";\n",
       "                var nbb_formatted_code = \"%load_ext nb_black\";\n",
       "                var nbb_cells = Jupyter.notebook.get_cells();\n",
       "                for (var i = 0; i < nbb_cells.length; ++i) {\n",
       "                    if (nbb_cells[i].input_prompt_number == nbb_cell_id) {\n",
       "                        if (nbb_cells[i].get_text() == nbb_unformatted_code) {\n",
       "                             nbb_cells[i].set_text(nbb_formatted_code);\n",
       "                        }\n",
       "                        break;\n",
       "                    }\n",
       "                }\n",
       "            }, 500);\n",
       "            "
      ],
      "text/plain": [
       "<IPython.core.display.Javascript object>"
      ]
     },
     "metadata": {},
     "output_type": "display_data"
    }
   ],
   "source": [
    "%load_ext nb_black"
   ]
  },
  {
   "cell_type": "code",
   "execution_count": 2,
   "metadata": {},
   "outputs": [
    {
     "data": {
      "application/javascript": [
       "\n",
       "            setTimeout(function() {\n",
       "                var nbb_cell_id = 2;\n",
       "                var nbb_unformatted_code = \"import warnings\\n\\nimport pandas as pd\\nimport numpy as np\\n\\nfrom sklearn.model_selection import train_test_split, GridSearchCV\\nfrom sklearn.linear_model import Ridge, Lasso, ElasticNet, LinearRegression\\nfrom sklearn.preprocessing import OneHotEncoder\\nfrom sklearn.compose import ColumnTransformer\\nfrom sklearn.ensemble import GradientBoostingClassifier, GradientBoostingRegressor\\nfrom sklearn.metrics import (\\n    mean_absolute_error,\\n    confusion_matrix,\\n    classification_report,\\n    roc_curve,\\n    precision_recall_curve,\\n    roc_auc_score,\\n)\\nfrom sklearn.pipeline import Pipeline\\nfrom sklearn.dummy import DummyClassifier\\n\\nfrom category_encoders import LeaveOneOutEncoder\\n\\n\\nfrom scipy import stats\\nimport statsmodels.api as sm\\nfrom sklearn.metrics import mean_absolute_error\\nfrom statsmodels.tools.eval_measures import mse, rmse\\nfrom statsmodels.stats.outliers_influence import variance_inflation_factor\\n\\nimport seaborn as sns\\nimport matplotlib.pyplot as plt\";\n",
       "                var nbb_formatted_code = \"import warnings\\n\\nimport pandas as pd\\nimport numpy as np\\n\\nfrom sklearn.model_selection import train_test_split, GridSearchCV\\nfrom sklearn.linear_model import Ridge, Lasso, ElasticNet, LinearRegression\\nfrom sklearn.preprocessing import OneHotEncoder\\nfrom sklearn.compose import ColumnTransformer\\nfrom sklearn.ensemble import GradientBoostingClassifier, GradientBoostingRegressor\\nfrom sklearn.metrics import (\\n    mean_absolute_error,\\n    confusion_matrix,\\n    classification_report,\\n    roc_curve,\\n    precision_recall_curve,\\n    roc_auc_score,\\n)\\nfrom sklearn.pipeline import Pipeline\\nfrom sklearn.dummy import DummyClassifier\\n\\nfrom category_encoders import LeaveOneOutEncoder\\n\\n\\nfrom scipy import stats\\nimport statsmodels.api as sm\\nfrom sklearn.metrics import mean_absolute_error\\nfrom statsmodels.tools.eval_measures import mse, rmse\\nfrom statsmodels.stats.outliers_influence import variance_inflation_factor\\n\\nimport seaborn as sns\\nimport matplotlib.pyplot as plt\";\n",
       "                var nbb_cells = Jupyter.notebook.get_cells();\n",
       "                for (var i = 0; i < nbb_cells.length; ++i) {\n",
       "                    if (nbb_cells[i].input_prompt_number == nbb_cell_id) {\n",
       "                        if (nbb_cells[i].get_text() == nbb_unformatted_code) {\n",
       "                             nbb_cells[i].set_text(nbb_formatted_code);\n",
       "                        }\n",
       "                        break;\n",
       "                    }\n",
       "                }\n",
       "            }, 500);\n",
       "            "
      ],
      "text/plain": [
       "<IPython.core.display.Javascript object>"
      ]
     },
     "metadata": {},
     "output_type": "display_data"
    }
   ],
   "source": [
    "import warnings\n",
    "\n",
    "import pandas as pd\n",
    "import numpy as np\n",
    "\n",
    "from sklearn.model_selection import train_test_split, GridSearchCV\n",
    "from sklearn.linear_model import Ridge, Lasso, ElasticNet, LinearRegression\n",
    "from sklearn.preprocessing import OneHotEncoder\n",
    "from sklearn.compose import ColumnTransformer\n",
    "from sklearn.ensemble import GradientBoostingClassifier, GradientBoostingRegressor\n",
    "from sklearn.metrics import (\n",
    "    mean_absolute_error,\n",
    "    confusion_matrix,\n",
    "    classification_report,\n",
    "    roc_curve,\n",
    "    precision_recall_curve,\n",
    "    roc_auc_score,\n",
    ")\n",
    "from sklearn.pipeline import Pipeline\n",
    "from sklearn.dummy import DummyClassifier\n",
    "\n",
    "from category_encoders import LeaveOneOutEncoder\n",
    "\n",
    "\n",
    "from scipy import stats\n",
    "import statsmodels.api as sm\n",
    "from sklearn.metrics import mean_absolute_error\n",
    "from statsmodels.tools.eval_measures import mse, rmse\n",
    "from statsmodels.stats.outliers_influence import variance_inflation_factor\n",
    "\n",
    "import seaborn as sns\n",
    "import matplotlib.pyplot as plt"
   ]
  },
  {
   "cell_type": "markdown",
   "metadata": {},
   "source": [
    "## Adam's generously provided functions"
   ]
  },
  {
   "cell_type": "code",
   "execution_count": 3,
   "metadata": {},
   "outputs": [
    {
     "data": {
      "application/javascript": [
       "\n",
       "            setTimeout(function() {\n",
       "                var nbb_cell_id = 3;\n",
       "                var nbb_unformatted_code = \"def print_vif(x):\\n    \\\"\\\"\\\"Utility for checking multicollinearity assumption\\n    \\n    :param x: input features to check using VIF. This is assumed to be a pandas.DataFrame\\n    :return: nothing is returned the VIFs are printed as a pandas series\\n    \\\"\\\"\\\"\\n    # Silence numpy FutureWarning about .ptp\\n    with warnings.catch_warnings():\\n        warnings.simplefilter(\\\"ignore\\\")\\n        x = sm.add_constant(x)\\n\\n    vifs = []\\n    for i in range(x.shape[1]):\\n        vif = variance_inflation_factor(x.values, i)\\n        vifs.append(vif)\\n\\n    print(\\\"VIF results\\\\n-------------------------------\\\")\\n    print(pd.Series(vifs, index=x.columns))\\n    print(\\\"-------------------------------\\\\n\\\")\\n\\n\\ndef one_hot_encode(X, encode_cols, index=None):\\n    other_cols = [c for c in X.columns if c not in encode_cols]\\n\\n    ct = ColumnTransformer(\\n        #   Format\\n        #   [(\\\"name of step\\\", what_to_do(), [what columns to do it to])]\\n        [\\n            (\\n                \\\"one hot encode\\\",\\n                OneHotEncoder(drop=\\\"first\\\", categories=\\\"auto\\\", sparse=False),\\n                encode_cols,\\n            )\\n        ],\\n        remainder=\\\"passthrough\\\",\\n    )\\n\\n    ct.fit(X)\\n\\n    # This is not the flexible and definitely not the most\\n    # readable way to get column names, a function would be better\\n    encoded_names = ct.transformers_[0][1].get_feature_names()\\n    encoded_names = list(encoded_names)\\n\\n    X_encoded = ct.transform(X)\\n    X_encoded = pd.DataFrame(X_encoded, columns=encoded_names + other_cols, index=index)\\n\\n    for i, name in enumerate(encode_cols):\\n        X_encoded.columns = X_encoded.columns.str.replace(f\\\"^x{i}\\\", name)\\n\\n    return X_encoded\\n\\n\\ndef eval_preds(y_true, y_pred):\\n    error = y_true - y_pred\\n\\n    rmse = np.sqrt((error ** 2).mean())\\n    mae = error.abs().mean()\\n    mape = (error / y_true).abs().mean()\\n\\n    print(f\\\"rmse {rmse:.2f}\\\")\\n    print(f\\\"mae {mae:.2f}\\\")\\n    print(f\\\"mape {mape:.2f}\\\")\\n\\n    line_pts = [y_true.min(), y_true.max()]\\n    plt.scatter(y_true, y_pred)\\n    plt.plot(line_pts, line_pts, c=\\\"red\\\", ls=\\\"--\\\", alpha=0.5)\\n    plt.xlabel(\\\"Actual\\\")\\n    plt.ylabel(\\\"Fit\\\")\\n    plt.show()\";\n",
       "                var nbb_formatted_code = \"def print_vif(x):\\n    \\\"\\\"\\\"Utility for checking multicollinearity assumption\\n    \\n    :param x: input features to check using VIF. This is assumed to be a pandas.DataFrame\\n    :return: nothing is returned the VIFs are printed as a pandas series\\n    \\\"\\\"\\\"\\n    # Silence numpy FutureWarning about .ptp\\n    with warnings.catch_warnings():\\n        warnings.simplefilter(\\\"ignore\\\")\\n        x = sm.add_constant(x)\\n\\n    vifs = []\\n    for i in range(x.shape[1]):\\n        vif = variance_inflation_factor(x.values, i)\\n        vifs.append(vif)\\n\\n    print(\\\"VIF results\\\\n-------------------------------\\\")\\n    print(pd.Series(vifs, index=x.columns))\\n    print(\\\"-------------------------------\\\\n\\\")\\n\\n\\ndef one_hot_encode(X, encode_cols, index=None):\\n    other_cols = [c for c in X.columns if c not in encode_cols]\\n\\n    ct = ColumnTransformer(\\n        #   Format\\n        #   [(\\\"name of step\\\", what_to_do(), [what columns to do it to])]\\n        [\\n            (\\n                \\\"one hot encode\\\",\\n                OneHotEncoder(drop=\\\"first\\\", categories=\\\"auto\\\", sparse=False),\\n                encode_cols,\\n            )\\n        ],\\n        remainder=\\\"passthrough\\\",\\n    )\\n\\n    ct.fit(X)\\n\\n    # This is not the flexible and definitely not the most\\n    # readable way to get column names, a function would be better\\n    encoded_names = ct.transformers_[0][1].get_feature_names()\\n    encoded_names = list(encoded_names)\\n\\n    X_encoded = ct.transform(X)\\n    X_encoded = pd.DataFrame(X_encoded, columns=encoded_names + other_cols, index=index)\\n\\n    for i, name in enumerate(encode_cols):\\n        X_encoded.columns = X_encoded.columns.str.replace(f\\\"^x{i}\\\", name)\\n\\n    return X_encoded\\n\\n\\ndef eval_preds(y_true, y_pred):\\n    error = y_true - y_pred\\n\\n    rmse = np.sqrt((error ** 2).mean())\\n    mae = error.abs().mean()\\n    mape = (error / y_true).abs().mean()\\n\\n    print(f\\\"rmse {rmse:.2f}\\\")\\n    print(f\\\"mae {mae:.2f}\\\")\\n    print(f\\\"mape {mape:.2f}\\\")\\n\\n    line_pts = [y_true.min(), y_true.max()]\\n    plt.scatter(y_true, y_pred)\\n    plt.plot(line_pts, line_pts, c=\\\"red\\\", ls=\\\"--\\\", alpha=0.5)\\n    plt.xlabel(\\\"Actual\\\")\\n    plt.ylabel(\\\"Fit\\\")\\n    plt.show()\";\n",
       "                var nbb_cells = Jupyter.notebook.get_cells();\n",
       "                for (var i = 0; i < nbb_cells.length; ++i) {\n",
       "                    if (nbb_cells[i].input_prompt_number == nbb_cell_id) {\n",
       "                        if (nbb_cells[i].get_text() == nbb_unformatted_code) {\n",
       "                             nbb_cells[i].set_text(nbb_formatted_code);\n",
       "                        }\n",
       "                        break;\n",
       "                    }\n",
       "                }\n",
       "            }, 500);\n",
       "            "
      ],
      "text/plain": [
       "<IPython.core.display.Javascript object>"
      ]
     },
     "metadata": {},
     "output_type": "display_data"
    }
   ],
   "source": [
    "def print_vif(x):\n",
    "    \"\"\"Utility for checking multicollinearity assumption\n",
    "    \n",
    "    :param x: input features to check using VIF. This is assumed to be a pandas.DataFrame\n",
    "    :return: nothing is returned the VIFs are printed as a pandas series\n",
    "    \"\"\"\n",
    "    # Silence numpy FutureWarning about .ptp\n",
    "    with warnings.catch_warnings():\n",
    "        warnings.simplefilter(\"ignore\")\n",
    "        x = sm.add_constant(x)\n",
    "\n",
    "    vifs = []\n",
    "    for i in range(x.shape[1]):\n",
    "        vif = variance_inflation_factor(x.values, i)\n",
    "        vifs.append(vif)\n",
    "\n",
    "    print(\"VIF results\\n-------------------------------\")\n",
    "    print(pd.Series(vifs, index=x.columns))\n",
    "    print(\"-------------------------------\\n\")\n",
    "\n",
    "\n",
    "def one_hot_encode(X, encode_cols, index=None):\n",
    "    other_cols = [c for c in X.columns if c not in encode_cols]\n",
    "\n",
    "    ct = ColumnTransformer(\n",
    "        #   Format\n",
    "        #   [(\"name of step\", what_to_do(), [what columns to do it to])]\n",
    "        [\n",
    "            (\n",
    "                \"one hot encode\",\n",
    "                OneHotEncoder(drop=\"first\", categories=\"auto\", sparse=False),\n",
    "                encode_cols,\n",
    "            )\n",
    "        ],\n",
    "        remainder=\"passthrough\",\n",
    "    )\n",
    "\n",
    "    ct.fit(X)\n",
    "\n",
    "    # This is not the flexible and definitely not the most\n",
    "    # readable way to get column names, a function would be better\n",
    "    encoded_names = ct.transformers_[0][1].get_feature_names()\n",
    "    encoded_names = list(encoded_names)\n",
    "\n",
    "    X_encoded = ct.transform(X)\n",
    "    X_encoded = pd.DataFrame(X_encoded, columns=encoded_names + other_cols, index=index)\n",
    "\n",
    "    for i, name in enumerate(encode_cols):\n",
    "        X_encoded.columns = X_encoded.columns.str.replace(f\"^x{i}\", name)\n",
    "\n",
    "    return X_encoded\n",
    "\n",
    "\n",
    "def eval_preds(y_true, y_pred):\n",
    "    error = y_true - y_pred\n",
    "\n",
    "    rmse = np.sqrt((error ** 2).mean())\n",
    "    mae = error.abs().mean()\n",
    "    mape = (error / y_true).abs().mean()\n",
    "\n",
    "    print(f\"rmse {rmse:.2f}\")\n",
    "    print(f\"mae {mae:.2f}\")\n",
    "    print(f\"mape {mape:.2f}\")\n",
    "\n",
    "    line_pts = [y_true.min(), y_true.max()]\n",
    "    plt.scatter(y_true, y_pred)\n",
    "    plt.plot(line_pts, line_pts, c=\"red\", ls=\"--\", alpha=0.5)\n",
    "    plt.xlabel(\"Actual\")\n",
    "    plt.ylabel(\"Fit\")\n",
    "    plt.show()"
   ]
  },
  {
   "cell_type": "markdown",
   "metadata": {},
   "source": [
    "## From the Reading"
   ]
  },
  {
   "cell_type": "code",
   "execution_count": 4,
   "metadata": {},
   "outputs": [
    {
     "data": {
      "application/javascript": [
       "\n",
       "            setTimeout(function() {\n",
       "                var nbb_cell_id = 4;\n",
       "                var nbb_unformatted_code = \"def plot_confusion_matrix(\\n    cm, target_names, title=\\\"Confusion matrix\\\", cmap=None, normalize=True\\n):\\n    \\\"\\\"\\\"\\n    given a sklearn confusion matrix (cm), make a nice plot\\n\\n    Arguments\\n    ---------\\n    cm:           confusion matrix from sklearn.metrics.confusion_matrix\\n\\n    target_names: given classification classes such as [0, 1, 2]\\n                  the class names, for example: ['high', 'medium', 'low']\\n\\n    title:        the text to display at the top of the matrix\\n\\n    cmap:         the gradient of the values displayed from matplotlib.pyplot.cm\\n                  see http://matplotlib.org/examples/color/colormaps_reference.html\\n                  plt.get_cmap('jet') or plt.cm.Blues\\n\\n    normalize:    If False, plot the raw numbers\\n                  If True, plot the proportions\\n\\n    Usage\\n    -----\\n    plot_confusion_matrix(cm           = cm,                  # confusion matrix created by\\n                                                              # sklearn.metrics.confusion_matrix\\n                          normalize    = True,                # show proportions\\n                          target_names = y_labels_vals,       # list of names of the classes\\n                          title        = best_estimator_name) # title of graph\\n\\n    Citiation\\n    ---------\\n    http://scikit-learn.org/stable/auto_examples/model_selection/plot_confusion_matrix.html\\n\\n    \\\"\\\"\\\"\\n    import matplotlib.pyplot as plt\\n    import numpy as np\\n    import itertools\\n\\n    accuracy = np.trace(cm) / float(np.sum(cm))\\n    misclass = 1 - accuracy\\n\\n    if cmap is None:\\n        cmap = plt.get_cmap(\\\"Blues\\\")\\n\\n    plt.figure(figsize=(8, 6))\\n    plt.imshow(cm, interpolation=\\\"nearest\\\", cmap=cmap)\\n    plt.title(title)\\n    plt.colorbar()\\n\\n    if target_names is not None:\\n        tick_marks = np.arange(len(target_names))\\n        plt.xticks(tick_marks, target_names, rotation=45)\\n        plt.yticks(tick_marks, target_names)\\n\\n    if normalize:\\n        cm = cm.astype(\\\"float\\\") / cm.sum(axis=1)[:, np.newaxis]\\n\\n    thresh = cm.max() / 1.5 if normalize else cm.max() / 2\\n    for i, j in itertools.product(range(cm.shape[0]), range(cm.shape[1])):\\n        if normalize:\\n            plt.text(\\n                j,\\n                i,\\n                \\\"{:0.4f}\\\".format(cm[i, j]),\\n                horizontalalignment=\\\"center\\\",\\n                color=\\\"white\\\" if cm[i, j] > thresh else \\\"black\\\",\\n            )\\n        else:\\n            plt.text(\\n                j,\\n                i,\\n                \\\"{:,}\\\".format(cm[i, j]),\\n                horizontalalignment=\\\"center\\\",\\n                color=\\\"white\\\" if cm[i, j] > thresh else \\\"black\\\",\\n            )\\n\\n    plt.tight_layout()\\n    plt.ylabel(\\\"Predicted label\\\")\\n    plt.xlabel(\\n        \\\"True label\\\\naccuracy={:0.4f}; misclass={:0.4f}\\\".format(accuracy, misclass)\\n    )\\n    plt.show()\";\n",
       "                var nbb_formatted_code = \"def plot_confusion_matrix(\\n    cm, target_names, title=\\\"Confusion matrix\\\", cmap=None, normalize=True\\n):\\n    \\\"\\\"\\\"\\n    given a sklearn confusion matrix (cm), make a nice plot\\n\\n    Arguments\\n    ---------\\n    cm:           confusion matrix from sklearn.metrics.confusion_matrix\\n\\n    target_names: given classification classes such as [0, 1, 2]\\n                  the class names, for example: ['high', 'medium', 'low']\\n\\n    title:        the text to display at the top of the matrix\\n\\n    cmap:         the gradient of the values displayed from matplotlib.pyplot.cm\\n                  see http://matplotlib.org/examples/color/colormaps_reference.html\\n                  plt.get_cmap('jet') or plt.cm.Blues\\n\\n    normalize:    If False, plot the raw numbers\\n                  If True, plot the proportions\\n\\n    Usage\\n    -----\\n    plot_confusion_matrix(cm           = cm,                  # confusion matrix created by\\n                                                              # sklearn.metrics.confusion_matrix\\n                          normalize    = True,                # show proportions\\n                          target_names = y_labels_vals,       # list of names of the classes\\n                          title        = best_estimator_name) # title of graph\\n\\n    Citiation\\n    ---------\\n    http://scikit-learn.org/stable/auto_examples/model_selection/plot_confusion_matrix.html\\n\\n    \\\"\\\"\\\"\\n    import matplotlib.pyplot as plt\\n    import numpy as np\\n    import itertools\\n\\n    accuracy = np.trace(cm) / float(np.sum(cm))\\n    misclass = 1 - accuracy\\n\\n    if cmap is None:\\n        cmap = plt.get_cmap(\\\"Blues\\\")\\n\\n    plt.figure(figsize=(8, 6))\\n    plt.imshow(cm, interpolation=\\\"nearest\\\", cmap=cmap)\\n    plt.title(title)\\n    plt.colorbar()\\n\\n    if target_names is not None:\\n        tick_marks = np.arange(len(target_names))\\n        plt.xticks(tick_marks, target_names, rotation=45)\\n        plt.yticks(tick_marks, target_names)\\n\\n    if normalize:\\n        cm = cm.astype(\\\"float\\\") / cm.sum(axis=1)[:, np.newaxis]\\n\\n    thresh = cm.max() / 1.5 if normalize else cm.max() / 2\\n    for i, j in itertools.product(range(cm.shape[0]), range(cm.shape[1])):\\n        if normalize:\\n            plt.text(\\n                j,\\n                i,\\n                \\\"{:0.4f}\\\".format(cm[i, j]),\\n                horizontalalignment=\\\"center\\\",\\n                color=\\\"white\\\" if cm[i, j] > thresh else \\\"black\\\",\\n            )\\n        else:\\n            plt.text(\\n                j,\\n                i,\\n                \\\"{:,}\\\".format(cm[i, j]),\\n                horizontalalignment=\\\"center\\\",\\n                color=\\\"white\\\" if cm[i, j] > thresh else \\\"black\\\",\\n            )\\n\\n    plt.tight_layout()\\n    plt.ylabel(\\\"Predicted label\\\")\\n    plt.xlabel(\\n        \\\"True label\\\\naccuracy={:0.4f}; misclass={:0.4f}\\\".format(accuracy, misclass)\\n    )\\n    plt.show()\";\n",
       "                var nbb_cells = Jupyter.notebook.get_cells();\n",
       "                for (var i = 0; i < nbb_cells.length; ++i) {\n",
       "                    if (nbb_cells[i].input_prompt_number == nbb_cell_id) {\n",
       "                        if (nbb_cells[i].get_text() == nbb_unformatted_code) {\n",
       "                             nbb_cells[i].set_text(nbb_formatted_code);\n",
       "                        }\n",
       "                        break;\n",
       "                    }\n",
       "                }\n",
       "            }, 500);\n",
       "            "
      ],
      "text/plain": [
       "<IPython.core.display.Javascript object>"
      ]
     },
     "metadata": {},
     "output_type": "display_data"
    }
   ],
   "source": [
    "def plot_confusion_matrix(\n",
    "    cm, target_names, title=\"Confusion matrix\", cmap=None, normalize=True\n",
    "):\n",
    "    \"\"\"\n",
    "    given a sklearn confusion matrix (cm), make a nice plot\n",
    "\n",
    "    Arguments\n",
    "    ---------\n",
    "    cm:           confusion matrix from sklearn.metrics.confusion_matrix\n",
    "\n",
    "    target_names: given classification classes such as [0, 1, 2]\n",
    "                  the class names, for example: ['high', 'medium', 'low']\n",
    "\n",
    "    title:        the text to display at the top of the matrix\n",
    "\n",
    "    cmap:         the gradient of the values displayed from matplotlib.pyplot.cm\n",
    "                  see http://matplotlib.org/examples/color/colormaps_reference.html\n",
    "                  plt.get_cmap('jet') or plt.cm.Blues\n",
    "\n",
    "    normalize:    If False, plot the raw numbers\n",
    "                  If True, plot the proportions\n",
    "\n",
    "    Usage\n",
    "    -----\n",
    "    plot_confusion_matrix(cm           = cm,                  # confusion matrix created by\n",
    "                                                              # sklearn.metrics.confusion_matrix\n",
    "                          normalize    = True,                # show proportions\n",
    "                          target_names = y_labels_vals,       # list of names of the classes\n",
    "                          title        = best_estimator_name) # title of graph\n",
    "\n",
    "    Citiation\n",
    "    ---------\n",
    "    http://scikit-learn.org/stable/auto_examples/model_selection/plot_confusion_matrix.html\n",
    "\n",
    "    \"\"\"\n",
    "    import matplotlib.pyplot as plt\n",
    "    import numpy as np\n",
    "    import itertools\n",
    "\n",
    "    accuracy = np.trace(cm) / float(np.sum(cm))\n",
    "    misclass = 1 - accuracy\n",
    "\n",
    "    if cmap is None:\n",
    "        cmap = plt.get_cmap(\"Blues\")\n",
    "\n",
    "    plt.figure(figsize=(8, 6))\n",
    "    plt.imshow(cm, interpolation=\"nearest\", cmap=cmap)\n",
    "    plt.title(title)\n",
    "    plt.colorbar()\n",
    "\n",
    "    if target_names is not None:\n",
    "        tick_marks = np.arange(len(target_names))\n",
    "        plt.xticks(tick_marks, target_names, rotation=45)\n",
    "        plt.yticks(tick_marks, target_names)\n",
    "\n",
    "    if normalize:\n",
    "        cm = cm.astype(\"float\") / cm.sum(axis=1)[:, np.newaxis]\n",
    "\n",
    "    thresh = cm.max() / 1.5 if normalize else cm.max() / 2\n",
    "    for i, j in itertools.product(range(cm.shape[0]), range(cm.shape[1])):\n",
    "        if normalize:\n",
    "            plt.text(\n",
    "                j,\n",
    "                i,\n",
    "                \"{:0.4f}\".format(cm[i, j]),\n",
    "                horizontalalignment=\"center\",\n",
    "                color=\"white\" if cm[i, j] > thresh else \"black\",\n",
    "            )\n",
    "        else:\n",
    "            plt.text(\n",
    "                j,\n",
    "                i,\n",
    "                \"{:,}\".format(cm[i, j]),\n",
    "                horizontalalignment=\"center\",\n",
    "                color=\"white\" if cm[i, j] > thresh else \"black\",\n",
    "            )\n",
    "\n",
    "    plt.tight_layout()\n",
    "    plt.ylabel(\"Predicted label\")\n",
    "    plt.xlabel(\n",
    "        \"True label\\naccuracy={:0.4f}; misclass={:0.4f}\".format(accuracy, misclass)\n",
    "    )\n",
    "    plt.show()"
   ]
  },
  {
   "cell_type": "markdown",
   "metadata": {},
   "source": [
    "# Reading in the Data"
   ]
  },
  {
   "cell_type": "code",
   "execution_count": 5,
   "metadata": {},
   "outputs": [
    {
     "data": {
      "application/javascript": [
       "\n",
       "            setTimeout(function() {\n",
       "                var nbb_cell_id = 5;\n",
       "                var nbb_unformatted_code = \"breed_labels_df = pd.read_csv(\\\"breed_labels.csv\\\")\";\n",
       "                var nbb_formatted_code = \"breed_labels_df = pd.read_csv(\\\"breed_labels.csv\\\")\";\n",
       "                var nbb_cells = Jupyter.notebook.get_cells();\n",
       "                for (var i = 0; i < nbb_cells.length; ++i) {\n",
       "                    if (nbb_cells[i].input_prompt_number == nbb_cell_id) {\n",
       "                        if (nbb_cells[i].get_text() == nbb_unformatted_code) {\n",
       "                             nbb_cells[i].set_text(nbb_formatted_code);\n",
       "                        }\n",
       "                        break;\n",
       "                    }\n",
       "                }\n",
       "            }, 500);\n",
       "            "
      ],
      "text/plain": [
       "<IPython.core.display.Javascript object>"
      ]
     },
     "metadata": {},
     "output_type": "display_data"
    }
   ],
   "source": [
    "breed_labels_df = pd.read_csv(\"breed_labels.csv\")"
   ]
  },
  {
   "cell_type": "code",
   "execution_count": 6,
   "metadata": {},
   "outputs": [
    {
     "data": {
      "text/html": [
       "<div>\n",
       "<style scoped>\n",
       "    .dataframe tbody tr th:only-of-type {\n",
       "        vertical-align: middle;\n",
       "    }\n",
       "\n",
       "    .dataframe tbody tr th {\n",
       "        vertical-align: top;\n",
       "    }\n",
       "\n",
       "    .dataframe thead th {\n",
       "        text-align: right;\n",
       "    }\n",
       "</style>\n",
       "<table border=\"1\" class=\"dataframe\">\n",
       "  <thead>\n",
       "    <tr style=\"text-align: right;\">\n",
       "      <th></th>\n",
       "      <th>BreedID</th>\n",
       "      <th>Type</th>\n",
       "      <th>BreedName</th>\n",
       "    </tr>\n",
       "  </thead>\n",
       "  <tbody>\n",
       "    <tr>\n",
       "      <td>302</td>\n",
       "      <td>302</td>\n",
       "      <td>2</td>\n",
       "      <td>Torbie</td>\n",
       "    </tr>\n",
       "    <tr>\n",
       "      <td>303</td>\n",
       "      <td>303</td>\n",
       "      <td>2</td>\n",
       "      <td>Tortoiseshell</td>\n",
       "    </tr>\n",
       "    <tr>\n",
       "      <td>304</td>\n",
       "      <td>304</td>\n",
       "      <td>2</td>\n",
       "      <td>Turkish Angora</td>\n",
       "    </tr>\n",
       "    <tr>\n",
       "      <td>305</td>\n",
       "      <td>305</td>\n",
       "      <td>2</td>\n",
       "      <td>Turkish Van</td>\n",
       "    </tr>\n",
       "    <tr>\n",
       "      <td>306</td>\n",
       "      <td>306</td>\n",
       "      <td>2</td>\n",
       "      <td>Tuxedo</td>\n",
       "    </tr>\n",
       "  </tbody>\n",
       "</table>\n",
       "</div>"
      ],
      "text/plain": [
       "     BreedID  Type       BreedName\n",
       "302      302     2          Torbie\n",
       "303      303     2   Tortoiseshell\n",
       "304      304     2  Turkish Angora\n",
       "305      305     2     Turkish Van\n",
       "306      306     2          Tuxedo"
      ]
     },
     "execution_count": 6,
     "metadata": {},
     "output_type": "execute_result"
    },
    {
     "data": {
      "application/javascript": [
       "\n",
       "            setTimeout(function() {\n",
       "                var nbb_cell_id = 6;\n",
       "                var nbb_unformatted_code = \"breed_labels_df.tail()\";\n",
       "                var nbb_formatted_code = \"breed_labels_df.tail()\";\n",
       "                var nbb_cells = Jupyter.notebook.get_cells();\n",
       "                for (var i = 0; i < nbb_cells.length; ++i) {\n",
       "                    if (nbb_cells[i].input_prompt_number == nbb_cell_id) {\n",
       "                        if (nbb_cells[i].get_text() == nbb_unformatted_code) {\n",
       "                             nbb_cells[i].set_text(nbb_formatted_code);\n",
       "                        }\n",
       "                        break;\n",
       "                    }\n",
       "                }\n",
       "            }, 500);\n",
       "            "
      ],
      "text/plain": [
       "<IPython.core.display.Javascript object>"
      ]
     },
     "metadata": {},
     "output_type": "display_data"
    }
   ],
   "source": [
    "breed_labels_df.tail()"
   ]
  },
  {
   "cell_type": "code",
   "execution_count": 7,
   "metadata": {},
   "outputs": [
    {
     "data": {
      "application/javascript": [
       "\n",
       "            setTimeout(function() {\n",
       "                var nbb_cell_id = 7;\n",
       "                var nbb_unformatted_code = \"color_labels_df = pd.read_csv(\\\"color_labels.csv\\\")\";\n",
       "                var nbb_formatted_code = \"color_labels_df = pd.read_csv(\\\"color_labels.csv\\\")\";\n",
       "                var nbb_cells = Jupyter.notebook.get_cells();\n",
       "                for (var i = 0; i < nbb_cells.length; ++i) {\n",
       "                    if (nbb_cells[i].input_prompt_number == nbb_cell_id) {\n",
       "                        if (nbb_cells[i].get_text() == nbb_unformatted_code) {\n",
       "                             nbb_cells[i].set_text(nbb_formatted_code);\n",
       "                        }\n",
       "                        break;\n",
       "                    }\n",
       "                }\n",
       "            }, 500);\n",
       "            "
      ],
      "text/plain": [
       "<IPython.core.display.Javascript object>"
      ]
     },
     "metadata": {},
     "output_type": "display_data"
    }
   ],
   "source": [
    "color_labels_df = pd.read_csv(\"color_labels.csv\")"
   ]
  },
  {
   "cell_type": "code",
   "execution_count": 8,
   "metadata": {},
   "outputs": [
    {
     "data": {
      "text/html": [
       "<div>\n",
       "<style scoped>\n",
       "    .dataframe tbody tr th:only-of-type {\n",
       "        vertical-align: middle;\n",
       "    }\n",
       "\n",
       "    .dataframe tbody tr th {\n",
       "        vertical-align: top;\n",
       "    }\n",
       "\n",
       "    .dataframe thead th {\n",
       "        text-align: right;\n",
       "    }\n",
       "</style>\n",
       "<table border=\"1\" class=\"dataframe\">\n",
       "  <thead>\n",
       "    <tr style=\"text-align: right;\">\n",
       "      <th></th>\n",
       "      <th>ColorID</th>\n",
       "      <th>ColorName</th>\n",
       "    </tr>\n",
       "  </thead>\n",
       "  <tbody>\n",
       "    <tr>\n",
       "      <td>0</td>\n",
       "      <td>1</td>\n",
       "      <td>Black</td>\n",
       "    </tr>\n",
       "    <tr>\n",
       "      <td>1</td>\n",
       "      <td>2</td>\n",
       "      <td>Brown</td>\n",
       "    </tr>\n",
       "    <tr>\n",
       "      <td>2</td>\n",
       "      <td>3</td>\n",
       "      <td>Golden</td>\n",
       "    </tr>\n",
       "    <tr>\n",
       "      <td>3</td>\n",
       "      <td>4</td>\n",
       "      <td>Yellow</td>\n",
       "    </tr>\n",
       "    <tr>\n",
       "      <td>4</td>\n",
       "      <td>5</td>\n",
       "      <td>Cream</td>\n",
       "    </tr>\n",
       "    <tr>\n",
       "      <td>5</td>\n",
       "      <td>6</td>\n",
       "      <td>Gray</td>\n",
       "    </tr>\n",
       "    <tr>\n",
       "      <td>6</td>\n",
       "      <td>7</td>\n",
       "      <td>White</td>\n",
       "    </tr>\n",
       "  </tbody>\n",
       "</table>\n",
       "</div>"
      ],
      "text/plain": [
       "   ColorID ColorName\n",
       "0        1     Black\n",
       "1        2     Brown\n",
       "2        3    Golden\n",
       "3        4    Yellow\n",
       "4        5     Cream\n",
       "5        6      Gray\n",
       "6        7     White"
      ]
     },
     "execution_count": 8,
     "metadata": {},
     "output_type": "execute_result"
    },
    {
     "data": {
      "application/javascript": [
       "\n",
       "            setTimeout(function() {\n",
       "                var nbb_cell_id = 8;\n",
       "                var nbb_unformatted_code = \"color_labels_df.head(20)\";\n",
       "                var nbb_formatted_code = \"color_labels_df.head(20)\";\n",
       "                var nbb_cells = Jupyter.notebook.get_cells();\n",
       "                for (var i = 0; i < nbb_cells.length; ++i) {\n",
       "                    if (nbb_cells[i].input_prompt_number == nbb_cell_id) {\n",
       "                        if (nbb_cells[i].get_text() == nbb_unformatted_code) {\n",
       "                             nbb_cells[i].set_text(nbb_formatted_code);\n",
       "                        }\n",
       "                        break;\n",
       "                    }\n",
       "                }\n",
       "            }, 500);\n",
       "            "
      ],
      "text/plain": [
       "<IPython.core.display.Javascript object>"
      ]
     },
     "metadata": {},
     "output_type": "display_data"
    }
   ],
   "source": [
    "color_labels_df.head(20)"
   ]
  },
  {
   "cell_type": "code",
   "execution_count": 9,
   "metadata": {},
   "outputs": [
    {
     "data": {
      "application/javascript": [
       "\n",
       "            setTimeout(function() {\n",
       "                var nbb_cell_id = 9;\n",
       "                var nbb_unformatted_code = \"state_labels_df = pd.read_csv(\\\"state_labels.csv\\\")\";\n",
       "                var nbb_formatted_code = \"state_labels_df = pd.read_csv(\\\"state_labels.csv\\\")\";\n",
       "                var nbb_cells = Jupyter.notebook.get_cells();\n",
       "                for (var i = 0; i < nbb_cells.length; ++i) {\n",
       "                    if (nbb_cells[i].input_prompt_number == nbb_cell_id) {\n",
       "                        if (nbb_cells[i].get_text() == nbb_unformatted_code) {\n",
       "                             nbb_cells[i].set_text(nbb_formatted_code);\n",
       "                        }\n",
       "                        break;\n",
       "                    }\n",
       "                }\n",
       "            }, 500);\n",
       "            "
      ],
      "text/plain": [
       "<IPython.core.display.Javascript object>"
      ]
     },
     "metadata": {},
     "output_type": "display_data"
    }
   ],
   "source": [
    "state_labels_df = pd.read_csv(\"state_labels.csv\")"
   ]
  },
  {
   "cell_type": "code",
   "execution_count": 10,
   "metadata": {},
   "outputs": [
    {
     "data": {
      "text/html": [
       "<div>\n",
       "<style scoped>\n",
       "    .dataframe tbody tr th:only-of-type {\n",
       "        vertical-align: middle;\n",
       "    }\n",
       "\n",
       "    .dataframe tbody tr th {\n",
       "        vertical-align: top;\n",
       "    }\n",
       "\n",
       "    .dataframe thead th {\n",
       "        text-align: right;\n",
       "    }\n",
       "</style>\n",
       "<table border=\"1\" class=\"dataframe\">\n",
       "  <thead>\n",
       "    <tr style=\"text-align: right;\">\n",
       "      <th></th>\n",
       "      <th>StateID</th>\n",
       "      <th>StateName</th>\n",
       "    </tr>\n",
       "  </thead>\n",
       "  <tbody>\n",
       "    <tr>\n",
       "      <td>0</td>\n",
       "      <td>41336</td>\n",
       "      <td>Johor</td>\n",
       "    </tr>\n",
       "    <tr>\n",
       "      <td>1</td>\n",
       "      <td>41325</td>\n",
       "      <td>Kedah</td>\n",
       "    </tr>\n",
       "    <tr>\n",
       "      <td>2</td>\n",
       "      <td>41367</td>\n",
       "      <td>Kelantan</td>\n",
       "    </tr>\n",
       "    <tr>\n",
       "      <td>3</td>\n",
       "      <td>41401</td>\n",
       "      <td>Kuala Lumpur</td>\n",
       "    </tr>\n",
       "    <tr>\n",
       "      <td>4</td>\n",
       "      <td>41415</td>\n",
       "      <td>Labuan</td>\n",
       "    </tr>\n",
       "    <tr>\n",
       "      <td>5</td>\n",
       "      <td>41324</td>\n",
       "      <td>Melaka</td>\n",
       "    </tr>\n",
       "    <tr>\n",
       "      <td>6</td>\n",
       "      <td>41332</td>\n",
       "      <td>Negeri Sembilan</td>\n",
       "    </tr>\n",
       "    <tr>\n",
       "      <td>7</td>\n",
       "      <td>41335</td>\n",
       "      <td>Pahang</td>\n",
       "    </tr>\n",
       "    <tr>\n",
       "      <td>8</td>\n",
       "      <td>41330</td>\n",
       "      <td>Perak</td>\n",
       "    </tr>\n",
       "    <tr>\n",
       "      <td>9</td>\n",
       "      <td>41380</td>\n",
       "      <td>Perlis</td>\n",
       "    </tr>\n",
       "    <tr>\n",
       "      <td>10</td>\n",
       "      <td>41327</td>\n",
       "      <td>Pulau Pinang</td>\n",
       "    </tr>\n",
       "    <tr>\n",
       "      <td>11</td>\n",
       "      <td>41345</td>\n",
       "      <td>Sabah</td>\n",
       "    </tr>\n",
       "    <tr>\n",
       "      <td>12</td>\n",
       "      <td>41342</td>\n",
       "      <td>Sarawak</td>\n",
       "    </tr>\n",
       "    <tr>\n",
       "      <td>13</td>\n",
       "      <td>41326</td>\n",
       "      <td>Selangor</td>\n",
       "    </tr>\n",
       "    <tr>\n",
       "      <td>14</td>\n",
       "      <td>41361</td>\n",
       "      <td>Terengganu</td>\n",
       "    </tr>\n",
       "  </tbody>\n",
       "</table>\n",
       "</div>"
      ],
      "text/plain": [
       "    StateID        StateName\n",
       "0     41336            Johor\n",
       "1     41325            Kedah\n",
       "2     41367         Kelantan\n",
       "3     41401     Kuala Lumpur\n",
       "4     41415           Labuan\n",
       "5     41324           Melaka\n",
       "6     41332  Negeri Sembilan\n",
       "7     41335           Pahang\n",
       "8     41330            Perak\n",
       "9     41380           Perlis\n",
       "10    41327     Pulau Pinang\n",
       "11    41345            Sabah\n",
       "12    41342          Sarawak\n",
       "13    41326         Selangor\n",
       "14    41361       Terengganu"
      ]
     },
     "execution_count": 10,
     "metadata": {},
     "output_type": "execute_result"
    },
    {
     "data": {
      "application/javascript": [
       "\n",
       "            setTimeout(function() {\n",
       "                var nbb_cell_id = 10;\n",
       "                var nbb_unformatted_code = \"state_labels_df.head(20)\";\n",
       "                var nbb_formatted_code = \"state_labels_df.head(20)\";\n",
       "                var nbb_cells = Jupyter.notebook.get_cells();\n",
       "                for (var i = 0; i < nbb_cells.length; ++i) {\n",
       "                    if (nbb_cells[i].input_prompt_number == nbb_cell_id) {\n",
       "                        if (nbb_cells[i].get_text() == nbb_unformatted_code) {\n",
       "                             nbb_cells[i].set_text(nbb_formatted_code);\n",
       "                        }\n",
       "                        break;\n",
       "                    }\n",
       "                }\n",
       "            }, 500);\n",
       "            "
      ],
      "text/plain": [
       "<IPython.core.display.Javascript object>"
      ]
     },
     "metadata": {},
     "output_type": "display_data"
    }
   ],
   "source": [
    "state_labels_df.head(20)"
   ]
  },
  {
   "cell_type": "code",
   "execution_count": 11,
   "metadata": {},
   "outputs": [
    {
     "data": {
      "application/javascript": [
       "\n",
       "            setTimeout(function() {\n",
       "                var nbb_cell_id = 11;\n",
       "                var nbb_unformatted_code = \"df = pd.read_csv(\\\"train/train.csv\\\")\";\n",
       "                var nbb_formatted_code = \"df = pd.read_csv(\\\"train/train.csv\\\")\";\n",
       "                var nbb_cells = Jupyter.notebook.get_cells();\n",
       "                for (var i = 0; i < nbb_cells.length; ++i) {\n",
       "                    if (nbb_cells[i].input_prompt_number == nbb_cell_id) {\n",
       "                        if (nbb_cells[i].get_text() == nbb_unformatted_code) {\n",
       "                             nbb_cells[i].set_text(nbb_formatted_code);\n",
       "                        }\n",
       "                        break;\n",
       "                    }\n",
       "                }\n",
       "            }, 500);\n",
       "            "
      ],
      "text/plain": [
       "<IPython.core.display.Javascript object>"
      ]
     },
     "metadata": {},
     "output_type": "display_data"
    }
   ],
   "source": [
    "df = pd.read_csv(\"train/train.csv\")"
   ]
  },
  {
   "cell_type": "code",
   "execution_count": 12,
   "metadata": {},
   "outputs": [
    {
     "data": {
      "text/html": [
       "<div>\n",
       "<style scoped>\n",
       "    .dataframe tbody tr th:only-of-type {\n",
       "        vertical-align: middle;\n",
       "    }\n",
       "\n",
       "    .dataframe tbody tr th {\n",
       "        vertical-align: top;\n",
       "    }\n",
       "\n",
       "    .dataframe thead th {\n",
       "        text-align: right;\n",
       "    }\n",
       "</style>\n",
       "<table border=\"1\" class=\"dataframe\">\n",
       "  <thead>\n",
       "    <tr style=\"text-align: right;\">\n",
       "      <th></th>\n",
       "      <th>Type</th>\n",
       "      <th>Name</th>\n",
       "      <th>Age</th>\n",
       "      <th>Breed1</th>\n",
       "      <th>Breed2</th>\n",
       "      <th>Gender</th>\n",
       "      <th>Color1</th>\n",
       "      <th>Color2</th>\n",
       "      <th>Color3</th>\n",
       "      <th>MaturitySize</th>\n",
       "      <th>...</th>\n",
       "      <th>Health</th>\n",
       "      <th>Quantity</th>\n",
       "      <th>Fee</th>\n",
       "      <th>State</th>\n",
       "      <th>RescuerID</th>\n",
       "      <th>VideoAmt</th>\n",
       "      <th>Description</th>\n",
       "      <th>PetID</th>\n",
       "      <th>PhotoAmt</th>\n",
       "      <th>AdoptionSpeed</th>\n",
       "    </tr>\n",
       "  </thead>\n",
       "  <tbody>\n",
       "    <tr>\n",
       "      <td>0</td>\n",
       "      <td>2</td>\n",
       "      <td>Nibble</td>\n",
       "      <td>3</td>\n",
       "      <td>299</td>\n",
       "      <td>0</td>\n",
       "      <td>1</td>\n",
       "      <td>1</td>\n",
       "      <td>7</td>\n",
       "      <td>0</td>\n",
       "      <td>1</td>\n",
       "      <td>...</td>\n",
       "      <td>1</td>\n",
       "      <td>1</td>\n",
       "      <td>100</td>\n",
       "      <td>41326</td>\n",
       "      <td>8480853f516546f6cf33aa88cd76c379</td>\n",
       "      <td>0</td>\n",
       "      <td>Nibble is a 3+ month old ball of cuteness. He ...</td>\n",
       "      <td>86e1089a3</td>\n",
       "      <td>1.0</td>\n",
       "      <td>2</td>\n",
       "    </tr>\n",
       "    <tr>\n",
       "      <td>1</td>\n",
       "      <td>2</td>\n",
       "      <td>No Name Yet</td>\n",
       "      <td>1</td>\n",
       "      <td>265</td>\n",
       "      <td>0</td>\n",
       "      <td>1</td>\n",
       "      <td>1</td>\n",
       "      <td>2</td>\n",
       "      <td>0</td>\n",
       "      <td>2</td>\n",
       "      <td>...</td>\n",
       "      <td>1</td>\n",
       "      <td>1</td>\n",
       "      <td>0</td>\n",
       "      <td>41401</td>\n",
       "      <td>3082c7125d8fb66f7dd4bff4192c8b14</td>\n",
       "      <td>0</td>\n",
       "      <td>I just found it alone yesterday near my apartm...</td>\n",
       "      <td>6296e909a</td>\n",
       "      <td>2.0</td>\n",
       "      <td>0</td>\n",
       "    </tr>\n",
       "    <tr>\n",
       "      <td>2</td>\n",
       "      <td>1</td>\n",
       "      <td>Brisco</td>\n",
       "      <td>1</td>\n",
       "      <td>307</td>\n",
       "      <td>0</td>\n",
       "      <td>1</td>\n",
       "      <td>2</td>\n",
       "      <td>7</td>\n",
       "      <td>0</td>\n",
       "      <td>2</td>\n",
       "      <td>...</td>\n",
       "      <td>1</td>\n",
       "      <td>1</td>\n",
       "      <td>0</td>\n",
       "      <td>41326</td>\n",
       "      <td>fa90fa5b1ee11c86938398b60abc32cb</td>\n",
       "      <td>0</td>\n",
       "      <td>Their pregnant mother was dumped by her irresp...</td>\n",
       "      <td>3422e4906</td>\n",
       "      <td>7.0</td>\n",
       "      <td>3</td>\n",
       "    </tr>\n",
       "    <tr>\n",
       "      <td>3</td>\n",
       "      <td>1</td>\n",
       "      <td>Miko</td>\n",
       "      <td>4</td>\n",
       "      <td>307</td>\n",
       "      <td>0</td>\n",
       "      <td>2</td>\n",
       "      <td>1</td>\n",
       "      <td>2</td>\n",
       "      <td>0</td>\n",
       "      <td>2</td>\n",
       "      <td>...</td>\n",
       "      <td>1</td>\n",
       "      <td>1</td>\n",
       "      <td>150</td>\n",
       "      <td>41401</td>\n",
       "      <td>9238e4f44c71a75282e62f7136c6b240</td>\n",
       "      <td>0</td>\n",
       "      <td>Good guard dog, very alert, active, obedience ...</td>\n",
       "      <td>5842f1ff5</td>\n",
       "      <td>8.0</td>\n",
       "      <td>2</td>\n",
       "    </tr>\n",
       "    <tr>\n",
       "      <td>4</td>\n",
       "      <td>1</td>\n",
       "      <td>Hunter</td>\n",
       "      <td>1</td>\n",
       "      <td>307</td>\n",
       "      <td>0</td>\n",
       "      <td>1</td>\n",
       "      <td>1</td>\n",
       "      <td>0</td>\n",
       "      <td>0</td>\n",
       "      <td>2</td>\n",
       "      <td>...</td>\n",
       "      <td>1</td>\n",
       "      <td>1</td>\n",
       "      <td>0</td>\n",
       "      <td>41326</td>\n",
       "      <td>95481e953f8aed9ec3d16fc4509537e8</td>\n",
       "      <td>0</td>\n",
       "      <td>This handsome yet cute boy is up for adoption....</td>\n",
       "      <td>850a43f90</td>\n",
       "      <td>3.0</td>\n",
       "      <td>2</td>\n",
       "    </tr>\n",
       "  </tbody>\n",
       "</table>\n",
       "<p>5 rows × 24 columns</p>\n",
       "</div>"
      ],
      "text/plain": [
       "   Type         Name  Age  Breed1  Breed2  Gender  Color1  Color2  Color3  \\\n",
       "0     2       Nibble    3     299       0       1       1       7       0   \n",
       "1     2  No Name Yet    1     265       0       1       1       2       0   \n",
       "2     1       Brisco    1     307       0       1       2       7       0   \n",
       "3     1         Miko    4     307       0       2       1       2       0   \n",
       "4     1       Hunter    1     307       0       1       1       0       0   \n",
       "\n",
       "   MaturitySize  ...  Health  Quantity  Fee  State  \\\n",
       "0             1  ...       1         1  100  41326   \n",
       "1             2  ...       1         1    0  41401   \n",
       "2             2  ...       1         1    0  41326   \n",
       "3             2  ...       1         1  150  41401   \n",
       "4             2  ...       1         1    0  41326   \n",
       "\n",
       "                          RescuerID  VideoAmt  \\\n",
       "0  8480853f516546f6cf33aa88cd76c379         0   \n",
       "1  3082c7125d8fb66f7dd4bff4192c8b14         0   \n",
       "2  fa90fa5b1ee11c86938398b60abc32cb         0   \n",
       "3  9238e4f44c71a75282e62f7136c6b240         0   \n",
       "4  95481e953f8aed9ec3d16fc4509537e8         0   \n",
       "\n",
       "                                         Description      PetID PhotoAmt  \\\n",
       "0  Nibble is a 3+ month old ball of cuteness. He ...  86e1089a3      1.0   \n",
       "1  I just found it alone yesterday near my apartm...  6296e909a      2.0   \n",
       "2  Their pregnant mother was dumped by her irresp...  3422e4906      7.0   \n",
       "3  Good guard dog, very alert, active, obedience ...  5842f1ff5      8.0   \n",
       "4  This handsome yet cute boy is up for adoption....  850a43f90      3.0   \n",
       "\n",
       "   AdoptionSpeed  \n",
       "0              2  \n",
       "1              0  \n",
       "2              3  \n",
       "3              2  \n",
       "4              2  \n",
       "\n",
       "[5 rows x 24 columns]"
      ]
     },
     "execution_count": 12,
     "metadata": {},
     "output_type": "execute_result"
    },
    {
     "data": {
      "application/javascript": [
       "\n",
       "            setTimeout(function() {\n",
       "                var nbb_cell_id = 12;\n",
       "                var nbb_unformatted_code = \"df.head()\";\n",
       "                var nbb_formatted_code = \"df.head()\";\n",
       "                var nbb_cells = Jupyter.notebook.get_cells();\n",
       "                for (var i = 0; i < nbb_cells.length; ++i) {\n",
       "                    if (nbb_cells[i].input_prompt_number == nbb_cell_id) {\n",
       "                        if (nbb_cells[i].get_text() == nbb_unformatted_code) {\n",
       "                             nbb_cells[i].set_text(nbb_formatted_code);\n",
       "                        }\n",
       "                        break;\n",
       "                    }\n",
       "                }\n",
       "            }, 500);\n",
       "            "
      ],
      "text/plain": [
       "<IPython.core.display.Javascript object>"
      ]
     },
     "metadata": {},
     "output_type": "display_data"
    }
   ],
   "source": [
    "df.head()"
   ]
  },
  {
   "cell_type": "markdown",
   "metadata": {},
   "source": [
    "## Missing values"
   ]
  },
  {
   "cell_type": "code",
   "execution_count": 13,
   "metadata": {},
   "outputs": [
    {
     "name": "stdout",
     "output_type": "stream",
     "text": [
      "<class 'pandas.core.frame.DataFrame'>\n",
      "RangeIndex: 14993 entries, 0 to 14992\n",
      "Data columns (total 24 columns):\n",
      "Type             14993 non-null int64\n",
      "Name             13736 non-null object\n",
      "Age              14993 non-null int64\n",
      "Breed1           14993 non-null int64\n",
      "Breed2           14993 non-null int64\n",
      "Gender           14993 non-null int64\n",
      "Color1           14993 non-null int64\n",
      "Color2           14993 non-null int64\n",
      "Color3           14993 non-null int64\n",
      "MaturitySize     14993 non-null int64\n",
      "FurLength        14993 non-null int64\n",
      "Vaccinated       14993 non-null int64\n",
      "Dewormed         14993 non-null int64\n",
      "Sterilized       14993 non-null int64\n",
      "Health           14993 non-null int64\n",
      "Quantity         14993 non-null int64\n",
      "Fee              14993 non-null int64\n",
      "State            14993 non-null int64\n",
      "RescuerID        14993 non-null object\n",
      "VideoAmt         14993 non-null int64\n",
      "Description      14981 non-null object\n",
      "PetID            14993 non-null object\n",
      "PhotoAmt         14993 non-null float64\n",
      "AdoptionSpeed    14993 non-null int64\n",
      "dtypes: float64(1), int64(19), object(4)\n",
      "memory usage: 2.7+ MB\n"
     ]
    },
    {
     "data": {
      "application/javascript": [
       "\n",
       "            setTimeout(function() {\n",
       "                var nbb_cell_id = 13;\n",
       "                var nbb_unformatted_code = \"df.info()\";\n",
       "                var nbb_formatted_code = \"df.info()\";\n",
       "                var nbb_cells = Jupyter.notebook.get_cells();\n",
       "                for (var i = 0; i < nbb_cells.length; ++i) {\n",
       "                    if (nbb_cells[i].input_prompt_number == nbb_cell_id) {\n",
       "                        if (nbb_cells[i].get_text() == nbb_unformatted_code) {\n",
       "                             nbb_cells[i].set_text(nbb_formatted_code);\n",
       "                        }\n",
       "                        break;\n",
       "                    }\n",
       "                }\n",
       "            }, 500);\n",
       "            "
      ],
      "text/plain": [
       "<IPython.core.display.Javascript object>"
      ]
     },
     "metadata": {},
     "output_type": "display_data"
    }
   ],
   "source": [
    "df.info()"
   ]
  },
  {
   "cell_type": "markdown",
   "metadata": {},
   "source": [
    "Looks like `Name` and `Description` have some missingness.  Not too worried about these, so let's deal with them as we come to them.\n",
    "\n",
    "Now let's go through each of the variables to understand the data better, and get a sense for whether they correlate with our target, `AdoptionSpeed`."
   ]
  },
  {
   "cell_type": "markdown",
   "metadata": {},
   "source": [
    "# Data Cleaning and Univariate Analysis"
   ]
  },
  {
   "cell_type": "markdown",
   "metadata": {},
   "source": [
    "### Type\n",
    "\n",
    "1 is dog, 2 is cat."
   ]
  },
  {
   "cell_type": "code",
   "execution_count": 14,
   "metadata": {},
   "outputs": [
    {
     "data": {
      "text/plain": [
       "1    8132\n",
       "2    6861\n",
       "Name: Type, dtype: int64"
      ]
     },
     "execution_count": 14,
     "metadata": {},
     "output_type": "execute_result"
    },
    {
     "data": {
      "application/javascript": [
       "\n",
       "            setTimeout(function() {\n",
       "                var nbb_cell_id = 14;\n",
       "                var nbb_unformatted_code = \"df[\\\"Type\\\"].value_counts()\";\n",
       "                var nbb_formatted_code = \"df[\\\"Type\\\"].value_counts()\";\n",
       "                var nbb_cells = Jupyter.notebook.get_cells();\n",
       "                for (var i = 0; i < nbb_cells.length; ++i) {\n",
       "                    if (nbb_cells[i].input_prompt_number == nbb_cell_id) {\n",
       "                        if (nbb_cells[i].get_text() == nbb_unformatted_code) {\n",
       "                             nbb_cells[i].set_text(nbb_formatted_code);\n",
       "                        }\n",
       "                        break;\n",
       "                    }\n",
       "                }\n",
       "            }, 500);\n",
       "            "
      ],
      "text/plain": [
       "<IPython.core.display.Javascript object>"
      ]
     },
     "metadata": {},
     "output_type": "display_data"
    }
   ],
   "source": [
    "df[\"Type\"].value_counts()"
   ]
  },
  {
   "cell_type": "markdown",
   "metadata": {},
   "source": [
    "Let's make \"Type\" into a zero or a 1 for convention's sake"
   ]
  },
  {
   "cell_type": "code",
   "execution_count": 15,
   "metadata": {},
   "outputs": [
    {
     "data": {
      "application/javascript": [
       "\n",
       "            setTimeout(function() {\n",
       "                var nbb_cell_id = 15;\n",
       "                var nbb_unformatted_code = \"df[\\\"Type\\\"] = df[\\\"Type\\\"] - 1\";\n",
       "                var nbb_formatted_code = \"df[\\\"Type\\\"] = df[\\\"Type\\\"] - 1\";\n",
       "                var nbb_cells = Jupyter.notebook.get_cells();\n",
       "                for (var i = 0; i < nbb_cells.length; ++i) {\n",
       "                    if (nbb_cells[i].input_prompt_number == nbb_cell_id) {\n",
       "                        if (nbb_cells[i].get_text() == nbb_unformatted_code) {\n",
       "                             nbb_cells[i].set_text(nbb_formatted_code);\n",
       "                        }\n",
       "                        break;\n",
       "                    }\n",
       "                }\n",
       "            }, 500);\n",
       "            "
      ],
      "text/plain": [
       "<IPython.core.display.Javascript object>"
      ]
     },
     "metadata": {},
     "output_type": "display_data"
    }
   ],
   "source": [
    "df[\"Type\"] = df[\"Type\"] - 1"
   ]
  },
  {
   "cell_type": "code",
   "execution_count": 16,
   "metadata": {},
   "outputs": [
    {
     "data": {
      "text/plain": [
       "0    8132\n",
       "1    6861\n",
       "Name: Type, dtype: int64"
      ]
     },
     "execution_count": 16,
     "metadata": {},
     "output_type": "execute_result"
    },
    {
     "data": {
      "application/javascript": [
       "\n",
       "            setTimeout(function() {\n",
       "                var nbb_cell_id = 16;\n",
       "                var nbb_unformatted_code = \"df[\\\"Type\\\"].value_counts()\";\n",
       "                var nbb_formatted_code = \"df[\\\"Type\\\"].value_counts()\";\n",
       "                var nbb_cells = Jupyter.notebook.get_cells();\n",
       "                for (var i = 0; i < nbb_cells.length; ++i) {\n",
       "                    if (nbb_cells[i].input_prompt_number == nbb_cell_id) {\n",
       "                        if (nbb_cells[i].get_text() == nbb_unformatted_code) {\n",
       "                             nbb_cells[i].set_text(nbb_formatted_code);\n",
       "                        }\n",
       "                        break;\n",
       "                    }\n",
       "                }\n",
       "            }, 500);\n",
       "            "
      ],
      "text/plain": [
       "<IPython.core.display.Javascript object>"
      ]
     },
     "metadata": {},
     "output_type": "display_data"
    }
   ],
   "source": [
    "df[\"Type\"].value_counts()"
   ]
  },
  {
   "cell_type": "code",
   "execution_count": 17,
   "metadata": {},
   "outputs": [
    {
     "data": {
      "image/png": "[encoded data removed]",
      "text/plain": [
       "<Figure size 432x288 with 1 Axes>"
      ]
     },
     "metadata": {
      "needs_background": "light"
     },
     "output_type": "display_data"
    },
    {
     "data": {
      "application/javascript": [
       "\n",
       "            setTimeout(function() {\n",
       "                var nbb_cell_id = 17;\n",
       "                var nbb_unformatted_code = \"sns.violinplot(x=\\\"Type\\\", y=\\\"AdoptionSpeed\\\", palette=[\\\"y\\\", \\\"cyan\\\"], data=df)\\nplt.xlabel(\\\"Type 0-Dog, 1-Cat\\\")\\nplt.show()\";\n",
       "                var nbb_formatted_code = \"sns.violinplot(x=\\\"Type\\\", y=\\\"AdoptionSpeed\\\", palette=[\\\"y\\\", \\\"cyan\\\"], data=df)\\nplt.xlabel(\\\"Type 0-Dog, 1-Cat\\\")\\nplt.show()\";\n",
       "                var nbb_cells = Jupyter.notebook.get_cells();\n",
       "                for (var i = 0; i < nbb_cells.length; ++i) {\n",
       "                    if (nbb_cells[i].input_prompt_number == nbb_cell_id) {\n",
       "                        if (nbb_cells[i].get_text() == nbb_unformatted_code) {\n",
       "                             nbb_cells[i].set_text(nbb_formatted_code);\n",
       "                        }\n",
       "                        break;\n",
       "                    }\n",
       "                }\n",
       "            }, 500);\n",
       "            "
      ],
      "text/plain": [
       "<IPython.core.display.Javascript object>"
      ]
     },
     "metadata": {},
     "output_type": "display_data"
    }
   ],
   "source": [
    "sns.violinplot(x=\"Type\", y=\"AdoptionSpeed\", palette=[\"y\", \"cyan\"], data=df)\n",
    "plt.xlabel(\"Type 0-Dog, 1-Cat\")\n",
    "plt.show()"
   ]
  },
  {
   "cell_type": "code",
   "execution_count": 18,
   "metadata": {},
   "outputs": [
    {
     "data": {
      "image/png": "[encoded data removed]",
      "text/plain": [
       "<Figure size 432x288 with 1 Axes>"
      ]
     },
     "metadata": {
      "needs_background": "light"
     },
     "output_type": "display_data"
    },
    {
     "data": {
      "application/javascript": [
       "\n",
       "            setTimeout(function() {\n",
       "                var nbb_cell_id = 18;\n",
       "                var nbb_unformatted_code = \"sns.boxplot(\\\"Type\\\", \\\"AdoptionSpeed\\\", data=df)\\nplt.ylabel(\\\"Adoption Time\\\")\\nplt.xlabel(\\\"\\\")\\nplt.xticks([0, 1], labels=[\\\"Dog\\\", \\\"Cat\\\"])\\nplt.title(\\\"Adoption Time vs Type\\\")\\n# plt.show()\\nplt.savefig(\\\"type_vs_AdoptSpeed.png\\\", dpi=1000)\";\n",
       "                var nbb_formatted_code = \"sns.boxplot(\\\"Type\\\", \\\"AdoptionSpeed\\\", data=df)\\nplt.ylabel(\\\"Adoption Time\\\")\\nplt.xlabel(\\\"\\\")\\nplt.xticks([0, 1], labels=[\\\"Dog\\\", \\\"Cat\\\"])\\nplt.title(\\\"Adoption Time vs Type\\\")\\n# plt.show()\\nplt.savefig(\\\"type_vs_AdoptSpeed.png\\\", dpi=1000)\";\n",
       "                var nbb_cells = Jupyter.notebook.get_cells();\n",
       "                for (var i = 0; i < nbb_cells.length; ++i) {\n",
       "                    if (nbb_cells[i].input_prompt_number == nbb_cell_id) {\n",
       "                        if (nbb_cells[i].get_text() == nbb_unformatted_code) {\n",
       "                             nbb_cells[i].set_text(nbb_formatted_code);\n",
       "                        }\n",
       "                        break;\n",
       "                    }\n",
       "                }\n",
       "            }, 500);\n",
       "            "
      ],
      "text/plain": [
       "<IPython.core.display.Javascript object>"
      ]
     },
     "metadata": {},
     "output_type": "display_data"
    }
   ],
   "source": [
    "sns.boxplot(\"Type\", \"AdoptionSpeed\", data=df)\n",
    "plt.ylabel(\"Adoption Time\")\n",
    "plt.xlabel(\"\")\n",
    "plt.xticks([0, 1], labels=[\"Dog\", \"Cat\"])\n",
    "plt.title(\"Adoption Time vs Type\")\n",
    "# plt.show()\n",
    "plt.savefig(\"type_vs_AdoptSpeed.png\", dpi=1000)"
   ]
  },
  {
   "cell_type": "code",
   "execution_count": 19,
   "metadata": {},
   "outputs": [
    {
     "data": {
      "application/javascript": [
       "\n",
       "            setTimeout(function() {\n",
       "                var nbb_cell_id = 19;\n",
       "                var nbb_unformatted_code = \"from scipy.stats import mannwhitneyu\";\n",
       "                var nbb_formatted_code = \"from scipy.stats import mannwhitneyu\";\n",
       "                var nbb_cells = Jupyter.notebook.get_cells();\n",
       "                for (var i = 0; i < nbb_cells.length; ++i) {\n",
       "                    if (nbb_cells[i].input_prompt_number == nbb_cell_id) {\n",
       "                        if (nbb_cells[i].get_text() == nbb_unformatted_code) {\n",
       "                             nbb_cells[i].set_text(nbb_formatted_code);\n",
       "                        }\n",
       "                        break;\n",
       "                    }\n",
       "                }\n",
       "            }, 500);\n",
       "            "
      ],
      "text/plain": [
       "<IPython.core.display.Javascript object>"
      ]
     },
     "metadata": {},
     "output_type": "display_data"
    }
   ],
   "source": [
    "from scipy.stats import mannwhitneyu"
   ]
  },
  {
   "cell_type": "code",
   "execution_count": 20,
   "metadata": {},
   "outputs": [
    {
     "data": {
      "text/plain": [
       "2.042951671218515e-28"
      ]
     },
     "execution_count": 20,
     "metadata": {},
     "output_type": "execute_result"
    },
    {
     "data": {
      "application/javascript": [
       "\n",
       "            setTimeout(function() {\n",
       "                var nbb_cell_id = 20;\n",
       "                var nbb_unformatted_code = \"cats_df = df[df[\\\"Type\\\"] == 1]\\ndogs_df = df[df[\\\"Type\\\"] == 0]\\ncats_adoptionspeeds = np.array(cats_df[\\\"AdoptionSpeed\\\"])\\ndogs_adoptionspeeds = np.array(dogs_df[\\\"AdoptionSpeed\\\"])\\n\\n_, p = mannwhitneyu(cats_adoptionspeeds, dogs_adoptionspeeds)\\np\";\n",
       "                var nbb_formatted_code = \"cats_df = df[df[\\\"Type\\\"] == 1]\\ndogs_df = df[df[\\\"Type\\\"] == 0]\\ncats_adoptionspeeds = np.array(cats_df[\\\"AdoptionSpeed\\\"])\\ndogs_adoptionspeeds = np.array(dogs_df[\\\"AdoptionSpeed\\\"])\\n\\n_, p = mannwhitneyu(cats_adoptionspeeds, dogs_adoptionspeeds)\\np\";\n",
       "                var nbb_cells = Jupyter.notebook.get_cells();\n",
       "                for (var i = 0; i < nbb_cells.length; ++i) {\n",
       "                    if (nbb_cells[i].input_prompt_number == nbb_cell_id) {\n",
       "                        if (nbb_cells[i].get_text() == nbb_unformatted_code) {\n",
       "                             nbb_cells[i].set_text(nbb_formatted_code);\n",
       "                        }\n",
       "                        break;\n",
       "                    }\n",
       "                }\n",
       "            }, 500);\n",
       "            "
      ],
      "text/plain": [
       "<IPython.core.display.Javascript object>"
      ]
     },
     "metadata": {},
     "output_type": "display_data"
    }
   ],
   "source": [
    "cats_df = df[df[\"Type\"] == 1]\n",
    "dogs_df = df[df[\"Type\"] == 0]\n",
    "cats_adoptionspeeds = np.array(cats_df[\"AdoptionSpeed\"])\n",
    "dogs_adoptionspeeds = np.array(dogs_df[\"AdoptionSpeed\"])\n",
    "\n",
    "_, p = mannwhitneyu(cats_adoptionspeeds, dogs_adoptionspeeds)\n",
    "p"
   ]
  },
  {
   "cell_type": "markdown",
   "metadata": {},
   "source": [
    "### Name"
   ]
  },
  {
   "cell_type": "markdown",
   "metadata": {},
   "source": [
    "Missing some names, let's investigate..."
   ]
  },
  {
   "cell_type": "markdown",
   "metadata": {},
   "source": [
    "Are they MAR?"
   ]
  },
  {
   "cell_type": "code",
   "execution_count": 21,
   "metadata": {
    "scrolled": true
   },
   "outputs": [
    {
     "name": "stderr",
     "output_type": "stream",
     "text": [
      "/opt/anaconda3/lib/python3.7/site-packages/ipykernel_launcher.py:1: UserWarning: Boolean Series key will be reindexed to match DataFrame index.\n",
      "  \"\"\"Entry point for launching an IPython kernel.\n"
     ]
    },
    {
     "data": {
      "text/html": [
       "<div>\n",
       "<style scoped>\n",
       "    .dataframe tbody tr th:only-of-type {\n",
       "        vertical-align: middle;\n",
       "    }\n",
       "\n",
       "    .dataframe tbody tr th {\n",
       "        vertical-align: top;\n",
       "    }\n",
       "\n",
       "    .dataframe thead th {\n",
       "        text-align: right;\n",
       "    }\n",
       "</style>\n",
       "<table border=\"1\" class=\"dataframe\">\n",
       "  <thead>\n",
       "    <tr style=\"text-align: right;\">\n",
       "      <th></th>\n",
       "      <th>Type</th>\n",
       "      <th>Name</th>\n",
       "      <th>Age</th>\n",
       "      <th>Breed1</th>\n",
       "      <th>Breed2</th>\n",
       "      <th>Gender</th>\n",
       "      <th>Color1</th>\n",
       "      <th>Color2</th>\n",
       "      <th>Color3</th>\n",
       "      <th>MaturitySize</th>\n",
       "      <th>...</th>\n",
       "      <th>Health</th>\n",
       "      <th>Quantity</th>\n",
       "      <th>Fee</th>\n",
       "      <th>State</th>\n",
       "      <th>RescuerID</th>\n",
       "      <th>VideoAmt</th>\n",
       "      <th>Description</th>\n",
       "      <th>PetID</th>\n",
       "      <th>PhotoAmt</th>\n",
       "      <th>AdoptionSpeed</th>\n",
       "    </tr>\n",
       "  </thead>\n",
       "  <tbody>\n",
       "    <tr>\n",
       "      <td>5</td>\n",
       "      <td>1</td>\n",
       "      <td>NaN</td>\n",
       "      <td>3</td>\n",
       "      <td>266</td>\n",
       "      <td>0</td>\n",
       "      <td>2</td>\n",
       "      <td>5</td>\n",
       "      <td>6</td>\n",
       "      <td>0</td>\n",
       "      <td>2</td>\n",
       "      <td>...</td>\n",
       "      <td>1</td>\n",
       "      <td>1</td>\n",
       "      <td>0</td>\n",
       "      <td>41326</td>\n",
       "      <td>22fe332bf9c924d4718005891c63fbed</td>\n",
       "      <td>0</td>\n",
       "      <td>This is a stray kitten that came to my house. ...</td>\n",
       "      <td>d24c30b4b</td>\n",
       "      <td>2.0</td>\n",
       "      <td>2</td>\n",
       "    </tr>\n",
       "    <tr>\n",
       "      <td>8</td>\n",
       "      <td>1</td>\n",
       "      <td>NaN</td>\n",
       "      <td>2</td>\n",
       "      <td>265</td>\n",
       "      <td>0</td>\n",
       "      <td>2</td>\n",
       "      <td>6</td>\n",
       "      <td>0</td>\n",
       "      <td>0</td>\n",
       "      <td>2</td>\n",
       "      <td>...</td>\n",
       "      <td>1</td>\n",
       "      <td>1</td>\n",
       "      <td>0</td>\n",
       "      <td>41326</td>\n",
       "      <td>d8af7afece71334473575c9f70daf00d</td>\n",
       "      <td>0</td>\n",
       "      <td>healthy and active, feisty kitten found in nei...</td>\n",
       "      <td>c06d167ca</td>\n",
       "      <td>6.0</td>\n",
       "      <td>1</td>\n",
       "    </tr>\n",
       "    <tr>\n",
       "      <td>19</td>\n",
       "      <td>1</td>\n",
       "      <td>NaN</td>\n",
       "      <td>1</td>\n",
       "      <td>266</td>\n",
       "      <td>0</td>\n",
       "      <td>3</td>\n",
       "      <td>1</td>\n",
       "      <td>2</td>\n",
       "      <td>7</td>\n",
       "      <td>1</td>\n",
       "      <td>...</td>\n",
       "      <td>1</td>\n",
       "      <td>5</td>\n",
       "      <td>0</td>\n",
       "      <td>41326</td>\n",
       "      <td>b752f78276215f44581eeb6eea1e63bc</td>\n",
       "      <td>0</td>\n",
       "      <td>Birth Date: Oct 30th Kitty 1, Melly -Female Sa...</td>\n",
       "      <td>b10e7605a</td>\n",
       "      <td>1.0</td>\n",
       "      <td>4</td>\n",
       "    </tr>\n",
       "    <tr>\n",
       "      <td>33</td>\n",
       "      <td>1</td>\n",
       "      <td>NaN</td>\n",
       "      <td>4</td>\n",
       "      <td>266</td>\n",
       "      <td>0</td>\n",
       "      <td>2</td>\n",
       "      <td>1</td>\n",
       "      <td>6</td>\n",
       "      <td>7</td>\n",
       "      <td>1</td>\n",
       "      <td>...</td>\n",
       "      <td>1</td>\n",
       "      <td>2</td>\n",
       "      <td>0</td>\n",
       "      <td>41326</td>\n",
       "      <td>7d58438884ab468dce87c7e252bbd6e4</td>\n",
       "      <td>0</td>\n",
       "      <td>Two gorgeous kittens have just lost their mumm...</td>\n",
       "      <td>9415bc79e</td>\n",
       "      <td>7.0</td>\n",
       "      <td>3</td>\n",
       "    </tr>\n",
       "    <tr>\n",
       "      <td>36</td>\n",
       "      <td>1</td>\n",
       "      <td>NaN</td>\n",
       "      <td>24</td>\n",
       "      <td>265</td>\n",
       "      <td>292</td>\n",
       "      <td>2</td>\n",
       "      <td>1</td>\n",
       "      <td>4</td>\n",
       "      <td>0</td>\n",
       "      <td>2</td>\n",
       "      <td>...</td>\n",
       "      <td>1</td>\n",
       "      <td>3</td>\n",
       "      <td>0</td>\n",
       "      <td>41326</td>\n",
       "      <td>90b00f90ffdf9ec1cac529a2bbef3ecc</td>\n",
       "      <td>0</td>\n",
       "      <td>she fat n healthy. in door cat</td>\n",
       "      <td>61fa73996</td>\n",
       "      <td>2.0</td>\n",
       "      <td>4</td>\n",
       "    </tr>\n",
       "    <tr>\n",
       "      <td>...</td>\n",
       "      <td>...</td>\n",
       "      <td>...</td>\n",
       "      <td>...</td>\n",
       "      <td>...</td>\n",
       "      <td>...</td>\n",
       "      <td>...</td>\n",
       "      <td>...</td>\n",
       "      <td>...</td>\n",
       "      <td>...</td>\n",
       "      <td>...</td>\n",
       "      <td>...</td>\n",
       "      <td>...</td>\n",
       "      <td>...</td>\n",
       "      <td>...</td>\n",
       "      <td>...</td>\n",
       "      <td>...</td>\n",
       "      <td>...</td>\n",
       "      <td>...</td>\n",
       "      <td>...</td>\n",
       "      <td>...</td>\n",
       "      <td>...</td>\n",
       "    </tr>\n",
       "    <tr>\n",
       "      <td>14871</td>\n",
       "      <td>0</td>\n",
       "      <td>NaN</td>\n",
       "      <td>2</td>\n",
       "      <td>307</td>\n",
       "      <td>0</td>\n",
       "      <td>2</td>\n",
       "      <td>4</td>\n",
       "      <td>7</td>\n",
       "      <td>0</td>\n",
       "      <td>2</td>\n",
       "      <td>...</td>\n",
       "      <td>1</td>\n",
       "      <td>1</td>\n",
       "      <td>0</td>\n",
       "      <td>41324</td>\n",
       "      <td>c8ea0bc42e630c72747986c4c0ce36aa</td>\n",
       "      <td>0</td>\n",
       "      <td>mixed breed. interested please kindly email me</td>\n",
       "      <td>5aff9022b</td>\n",
       "      <td>1.0</td>\n",
       "      <td>4</td>\n",
       "    </tr>\n",
       "    <tr>\n",
       "      <td>14930</td>\n",
       "      <td>0</td>\n",
       "      <td>NaN</td>\n",
       "      <td>12</td>\n",
       "      <td>307</td>\n",
       "      <td>307</td>\n",
       "      <td>1</td>\n",
       "      <td>2</td>\n",
       "      <td>7</td>\n",
       "      <td>0</td>\n",
       "      <td>2</td>\n",
       "      <td>...</td>\n",
       "      <td>1</td>\n",
       "      <td>1</td>\n",
       "      <td>0</td>\n",
       "      <td>41401</td>\n",
       "      <td>5c4ddaeafcbdfca6d291c6d010f1c35c</td>\n",
       "      <td>0</td>\n",
       "      <td>Friendly and loyal mongrel looking for a home....</td>\n",
       "      <td>1f70f8112</td>\n",
       "      <td>3.0</td>\n",
       "      <td>1</td>\n",
       "    </tr>\n",
       "    <tr>\n",
       "      <td>14935</td>\n",
       "      <td>1</td>\n",
       "      <td>NaN</td>\n",
       "      <td>1</td>\n",
       "      <td>243</td>\n",
       "      <td>0</td>\n",
       "      <td>3</td>\n",
       "      <td>2</td>\n",
       "      <td>3</td>\n",
       "      <td>4</td>\n",
       "      <td>2</td>\n",
       "      <td>...</td>\n",
       "      <td>1</td>\n",
       "      <td>2</td>\n",
       "      <td>0</td>\n",
       "      <td>41336</td>\n",
       "      <td>8d3049f2bb476520449863435ad067ec</td>\n",
       "      <td>0</td>\n",
       "      <td>the 2 kittens follow my friend into our house(...</td>\n",
       "      <td>811b66c3e</td>\n",
       "      <td>5.0</td>\n",
       "      <td>1</td>\n",
       "    </tr>\n",
       "    <tr>\n",
       "      <td>14984</td>\n",
       "      <td>0</td>\n",
       "      <td>NaN</td>\n",
       "      <td>60</td>\n",
       "      <td>307</td>\n",
       "      <td>0</td>\n",
       "      <td>2</td>\n",
       "      <td>2</td>\n",
       "      <td>5</td>\n",
       "      <td>0</td>\n",
       "      <td>2</td>\n",
       "      <td>...</td>\n",
       "      <td>1</td>\n",
       "      <td>1</td>\n",
       "      <td>0</td>\n",
       "      <td>41324</td>\n",
       "      <td>c8ea0bc42e630c72747986c4c0ce36aa</td>\n",
       "      <td>0</td>\n",
       "      <td>abandoned,but healthy</td>\n",
       "      <td>f5dc70d35</td>\n",
       "      <td>1.0</td>\n",
       "      <td>4</td>\n",
       "    </tr>\n",
       "    <tr>\n",
       "      <td>14988</td>\n",
       "      <td>1</td>\n",
       "      <td>NaN</td>\n",
       "      <td>2</td>\n",
       "      <td>266</td>\n",
       "      <td>0</td>\n",
       "      <td>3</td>\n",
       "      <td>1</td>\n",
       "      <td>0</td>\n",
       "      <td>0</td>\n",
       "      <td>2</td>\n",
       "      <td>...</td>\n",
       "      <td>1</td>\n",
       "      <td>4</td>\n",
       "      <td>0</td>\n",
       "      <td>41326</td>\n",
       "      <td>61c84bd7bcb6fb31d2d480b1bcf9682e</td>\n",
       "      <td>0</td>\n",
       "      <td>I have 4 kittens that need to be adopt urgentl...</td>\n",
       "      <td>dc0935a84</td>\n",
       "      <td>3.0</td>\n",
       "      <td>2</td>\n",
       "    </tr>\n",
       "  </tbody>\n",
       "</table>\n",
       "<p>1257 rows × 24 columns</p>\n",
       "</div>"
      ],
      "text/plain": [
       "       Type Name  Age  Breed1  Breed2  Gender  Color1  Color2  Color3  \\\n",
       "5         1  NaN    3     266       0       2       5       6       0   \n",
       "8         1  NaN    2     265       0       2       6       0       0   \n",
       "19        1  NaN    1     266       0       3       1       2       7   \n",
       "33        1  NaN    4     266       0       2       1       6       7   \n",
       "36        1  NaN   24     265     292       2       1       4       0   \n",
       "...     ...  ...  ...     ...     ...     ...     ...     ...     ...   \n",
       "14871     0  NaN    2     307       0       2       4       7       0   \n",
       "14930     0  NaN   12     307     307       1       2       7       0   \n",
       "14935     1  NaN    1     243       0       3       2       3       4   \n",
       "14984     0  NaN   60     307       0       2       2       5       0   \n",
       "14988     1  NaN    2     266       0       3       1       0       0   \n",
       "\n",
       "       MaturitySize  ...  Health  Quantity  Fee  State  \\\n",
       "5                 2  ...       1         1    0  41326   \n",
       "8                 2  ...       1         1    0  41326   \n",
       "19                1  ...       1         5    0  41326   \n",
       "33                1  ...       1         2    0  41326   \n",
       "36                2  ...       1         3    0  41326   \n",
       "...             ...  ...     ...       ...  ...    ...   \n",
       "14871             2  ...       1         1    0  41324   \n",
       "14930             2  ...       1         1    0  41401   \n",
       "14935             2  ...       1         2    0  41336   \n",
       "14984             2  ...       1         1    0  41324   \n",
       "14988             2  ...       1         4    0  41326   \n",
       "\n",
       "                              RescuerID  VideoAmt  \\\n",
       "5      22fe332bf9c924d4718005891c63fbed         0   \n",
       "8      d8af7afece71334473575c9f70daf00d         0   \n",
       "19     b752f78276215f44581eeb6eea1e63bc         0   \n",
       "33     7d58438884ab468dce87c7e252bbd6e4         0   \n",
       "36     90b00f90ffdf9ec1cac529a2bbef3ecc         0   \n",
       "...                                 ...       ...   \n",
       "14871  c8ea0bc42e630c72747986c4c0ce36aa         0   \n",
       "14930  5c4ddaeafcbdfca6d291c6d010f1c35c         0   \n",
       "14935  8d3049f2bb476520449863435ad067ec         0   \n",
       "14984  c8ea0bc42e630c72747986c4c0ce36aa         0   \n",
       "14988  61c84bd7bcb6fb31d2d480b1bcf9682e         0   \n",
       "\n",
       "                                             Description      PetID PhotoAmt  \\\n",
       "5      This is a stray kitten that came to my house. ...  d24c30b4b      2.0   \n",
       "8      healthy and active, feisty kitten found in nei...  c06d167ca      6.0   \n",
       "19     Birth Date: Oct 30th Kitty 1, Melly -Female Sa...  b10e7605a      1.0   \n",
       "33     Two gorgeous kittens have just lost their mumm...  9415bc79e      7.0   \n",
       "36                        she fat n healthy. in door cat  61fa73996      2.0   \n",
       "...                                                  ...        ...      ...   \n",
       "14871     mixed breed. interested please kindly email me  5aff9022b      1.0   \n",
       "14930  Friendly and loyal mongrel looking for a home....  1f70f8112      3.0   \n",
       "14935  the 2 kittens follow my friend into our house(...  811b66c3e      5.0   \n",
       "14984                              abandoned,but healthy  f5dc70d35      1.0   \n",
       "14988  I have 4 kittens that need to be adopt urgentl...  dc0935a84      3.0   \n",
       "\n",
       "       AdoptionSpeed  \n",
       "5                  2  \n",
       "8                  1  \n",
       "19                 4  \n",
       "33                 3  \n",
       "36                 4  \n",
       "...              ...  \n",
       "14871              4  \n",
       "14930              1  \n",
       "14935              1  \n",
       "14984              4  \n",
       "14988              2  \n",
       "\n",
       "[1257 rows x 24 columns]"
      ]
     },
     "execution_count": 21,
     "metadata": {},
     "output_type": "execute_result"
    },
    {
     "data": {
      "application/javascript": [
       "\n",
       "            setTimeout(function() {\n",
       "                var nbb_cell_id = 21;\n",
       "                var nbb_unformatted_code = \"df[df[\\\"Name\\\"].isna().sort_values(ascending=False)]\";\n",
       "                var nbb_formatted_code = \"df[df[\\\"Name\\\"].isna().sort_values(ascending=False)]\";\n",
       "                var nbb_cells = Jupyter.notebook.get_cells();\n",
       "                for (var i = 0; i < nbb_cells.length; ++i) {\n",
       "                    if (nbb_cells[i].input_prompt_number == nbb_cell_id) {\n",
       "                        if (nbb_cells[i].get_text() == nbb_unformatted_code) {\n",
       "                             nbb_cells[i].set_text(nbb_formatted_code);\n",
       "                        }\n",
       "                        break;\n",
       "                    }\n",
       "                }\n",
       "            }, 500);\n",
       "            "
      ],
      "text/plain": [
       "<IPython.core.display.Javascript object>"
      ]
     },
     "metadata": {},
     "output_type": "display_data"
    }
   ],
   "source": [
    "df[df[\"Name\"].isna().sort_values(ascending=False)]"
   ]
  },
  {
   "cell_type": "markdown",
   "metadata": {},
   "source": [
    "What kind of names do we have? First, let's transform this to lowercase so we don't have any issues with string matching..."
   ]
  },
  {
   "cell_type": "code",
   "execution_count": 22,
   "metadata": {},
   "outputs": [
    {
     "data": {
      "text/plain": [
       "baby                       67\n",
       "lucky                      66\n",
       "mimi                       59\n",
       "brownie                    55\n",
       "no name                    55\n",
       "                           ..\n",
       "buttermilk                  1\n",
       "mummy and three kittens     1\n",
       "4 stray kittens             1\n",
       "1 puppy for adoption        1\n",
       "sven                        1\n",
       "Name: Name, Length: 8846, dtype: int64"
      ]
     },
     "execution_count": 22,
     "metadata": {},
     "output_type": "execute_result"
    },
    {
     "data": {
      "application/javascript": [
       "\n",
       "            setTimeout(function() {\n",
       "                var nbb_cell_id = 22;\n",
       "                var nbb_unformatted_code = \"df[\\\"Name\\\"] = df[\\\"Name\\\"].str.lower()\\n\\ndf[\\\"Name\\\"].value_counts()\";\n",
       "                var nbb_formatted_code = \"df[\\\"Name\\\"] = df[\\\"Name\\\"].str.lower()\\n\\ndf[\\\"Name\\\"].value_counts()\";\n",
       "                var nbb_cells = Jupyter.notebook.get_cells();\n",
       "                for (var i = 0; i < nbb_cells.length; ++i) {\n",
       "                    if (nbb_cells[i].input_prompt_number == nbb_cell_id) {\n",
       "                        if (nbb_cells[i].get_text() == nbb_unformatted_code) {\n",
       "                             nbb_cells[i].set_text(nbb_formatted_code);\n",
       "                        }\n",
       "                        break;\n",
       "                    }\n",
       "                }\n",
       "            }, 500);\n",
       "            "
      ],
      "text/plain": [
       "<IPython.core.display.Javascript object>"
      ]
     },
     "metadata": {},
     "output_type": "display_data"
    }
   ],
   "source": [
    "df[\"Name\"] = df[\"Name\"].str.lower()\n",
    "\n",
    "df[\"Name\"].value_counts()"
   ]
  },
  {
   "cell_type": "markdown",
   "metadata": {},
   "source": [
    "Looks like we have several \"names\" that aren't really names (No Name, No Name Yet, Kitty, Kittens, Kitten, Puppy, Puppies, etc.).  We also have some that are null.  \n",
    "\n",
    "Strategy: Let's make all of these the same \"no name\" value. "
   ]
  },
  {
   "cell_type": "code",
   "execution_count": 23,
   "metadata": {},
   "outputs": [
    {
     "data": {
      "application/javascript": [
       "\n",
       "            setTimeout(function() {\n",
       "                var nbb_cell_id = 23;\n",
       "                var nbb_unformatted_code = \"df[\\\"Name\\\"] = df[\\\"Name\\\"].fillna(\\\"no name\\\")\\n\\nno_name_list = [\\n    \\\"puppy\\\",\\n    \\\"puppies\\\",\\n    \\\"dog\\\",\\n    \\\"kitten\\\",\\n    \\\"kitty\\\",\\n    \\\"kitties\\\",\\n    \\\"kittens\\\",\\n    \\\"cat\\\",\\n    \\\"no name\\\",\\n    \\\"no name yet\\\",\\n]\\n\\n\\nnames = df[\\\"Name\\\"]\\nno_names = []\\n\\nfor name in names:\\n    if name in no_name_list:\\n        no_names.append(\\\"no name\\\")\\n    else:\\n        no_names.append(name)\\n\\ndf[\\\"Name\\\"] = no_names\";\n",
       "                var nbb_formatted_code = \"df[\\\"Name\\\"] = df[\\\"Name\\\"].fillna(\\\"no name\\\")\\n\\nno_name_list = [\\n    \\\"puppy\\\",\\n    \\\"puppies\\\",\\n    \\\"dog\\\",\\n    \\\"kitten\\\",\\n    \\\"kitty\\\",\\n    \\\"kitties\\\",\\n    \\\"kittens\\\",\\n    \\\"cat\\\",\\n    \\\"no name\\\",\\n    \\\"no name yet\\\",\\n]\\n\\n\\nnames = df[\\\"Name\\\"]\\nno_names = []\\n\\nfor name in names:\\n    if name in no_name_list:\\n        no_names.append(\\\"no name\\\")\\n    else:\\n        no_names.append(name)\\n\\ndf[\\\"Name\\\"] = no_names\";\n",
       "                var nbb_cells = Jupyter.notebook.get_cells();\n",
       "                for (var i = 0; i < nbb_cells.length; ++i) {\n",
       "                    if (nbb_cells[i].input_prompt_number == nbb_cell_id) {\n",
       "                        if (nbb_cells[i].get_text() == nbb_unformatted_code) {\n",
       "                             nbb_cells[i].set_text(nbb_formatted_code);\n",
       "                        }\n",
       "                        break;\n",
       "                    }\n",
       "                }\n",
       "            }, 500);\n",
       "            "
      ],
      "text/plain": [
       "<IPython.core.display.Javascript object>"
      ]
     },
     "metadata": {},
     "output_type": "display_data"
    }
   ],
   "source": [
    "df[\"Name\"] = df[\"Name\"].fillna(\"no name\")\n",
    "\n",
    "no_name_list = [\n",
    "    \"puppy\",\n",
    "    \"puppies\",\n",
    "    \"dog\",\n",
    "    \"kitten\",\n",
    "    \"kitty\",\n",
    "    \"kitties\",\n",
    "    \"kittens\",\n",
    "    \"cat\",\n",
    "    \"no name\",\n",
    "    \"no name yet\",\n",
    "]\n",
    "\n",
    "\n",
    "names = df[\"Name\"]\n",
    "no_names = []\n",
    "\n",
    "for name in names:\n",
    "    if name in no_name_list:\n",
    "        no_names.append(\"no name\")\n",
    "    else:\n",
    "        no_names.append(name)\n",
    "\n",
    "df[\"Name\"] = no_names"
   ]
  },
  {
   "cell_type": "code",
   "execution_count": 24,
   "metadata": {},
   "outputs": [
    {
     "data": {
      "application/javascript": [
       "\n",
       "            setTimeout(function() {\n",
       "                var nbb_cell_id = 24;\n",
       "                var nbb_unformatted_code = \"has_names = []\\nnames = df[\\\"Name\\\"]\\n\\nfor name in names:\\n    if name == \\\"no name\\\":\\n        has_names.append(0)\\n    else:\\n        has_names.append(1)\\n\\ndf[\\\"has_name\\\"] = has_names\";\n",
       "                var nbb_formatted_code = \"has_names = []\\nnames = df[\\\"Name\\\"]\\n\\nfor name in names:\\n    if name == \\\"no name\\\":\\n        has_names.append(0)\\n    else:\\n        has_names.append(1)\\n\\ndf[\\\"has_name\\\"] = has_names\";\n",
       "                var nbb_cells = Jupyter.notebook.get_cells();\n",
       "                for (var i = 0; i < nbb_cells.length; ++i) {\n",
       "                    if (nbb_cells[i].input_prompt_number == nbb_cell_id) {\n",
       "                        if (nbb_cells[i].get_text() == nbb_unformatted_code) {\n",
       "                             nbb_cells[i].set_text(nbb_formatted_code);\n",
       "                        }\n",
       "                        break;\n",
       "                    }\n",
       "                }\n",
       "            }, 500);\n",
       "            "
      ],
      "text/plain": [
       "<IPython.core.display.Javascript object>"
      ]
     },
     "metadata": {},
     "output_type": "display_data"
    }
   ],
   "source": [
    "has_names = []\n",
    "names = df[\"Name\"]\n",
    "\n",
    "for name in names:\n",
    "    if name == \"no name\":\n",
    "        has_names.append(0)\n",
    "    else:\n",
    "        has_names.append(1)\n",
    "\n",
    "df[\"has_name\"] = has_names"
   ]
  },
  {
   "cell_type": "code",
   "execution_count": 25,
   "metadata": {},
   "outputs": [
    {
     "data": {
      "image/png": "[encoded data removed]",
      "text/plain": [
       "<Figure size 432x288 with 1 Axes>"
      ]
     },
     "metadata": {
      "needs_background": "light"
     },
     "output_type": "display_data"
    },
    {
     "data": {
      "application/javascript": [
       "\n",
       "            setTimeout(function() {\n",
       "                var nbb_cell_id = 25;\n",
       "                var nbb_unformatted_code = \"sns.violinplot(x=\\\"has_name\\\", y=\\\"AdoptionSpeed\\\", data=df)\\nplt.show()\";\n",
       "                var nbb_formatted_code = \"sns.violinplot(x=\\\"has_name\\\", y=\\\"AdoptionSpeed\\\", data=df)\\nplt.show()\";\n",
       "                var nbb_cells = Jupyter.notebook.get_cells();\n",
       "                for (var i = 0; i < nbb_cells.length; ++i) {\n",
       "                    if (nbb_cells[i].input_prompt_number == nbb_cell_id) {\n",
       "                        if (nbb_cells[i].get_text() == nbb_unformatted_code) {\n",
       "                             nbb_cells[i].set_text(nbb_formatted_code);\n",
       "                        }\n",
       "                        break;\n",
       "                    }\n",
       "                }\n",
       "            }, 500);\n",
       "            "
      ],
      "text/plain": [
       "<IPython.core.display.Javascript object>"
      ]
     },
     "metadata": {},
     "output_type": "display_data"
    }
   ],
   "source": [
    "sns.violinplot(x=\"has_name\", y=\"AdoptionSpeed\", data=df)\n",
    "plt.show()"
   ]
  },
  {
   "cell_type": "markdown",
   "metadata": {},
   "source": [
    "TODO: Investigage why are adoption speeds more discretely distributed for animals with names?"
   ]
  },
  {
   "cell_type": "markdown",
   "metadata": {},
   "source": [
    "### Age"
   ]
  },
  {
   "cell_type": "code",
   "execution_count": 26,
   "metadata": {},
   "outputs": [
    {
     "data": {
      "text/plain": [
       "count    14993.000000\n",
       "mean        10.452078\n",
       "std         18.155790\n",
       "min          0.000000\n",
       "25%          2.000000\n",
       "50%          3.000000\n",
       "75%         12.000000\n",
       "max        255.000000\n",
       "Name: Age, dtype: float64"
      ]
     },
     "execution_count": 26,
     "metadata": {},
     "output_type": "execute_result"
    },
    {
     "data": {
      "application/javascript": [
       "\n",
       "            setTimeout(function() {\n",
       "                var nbb_cell_id = 26;\n",
       "                var nbb_unformatted_code = \"df[\\\"Age\\\"].describe()\";\n",
       "                var nbb_formatted_code = \"df[\\\"Age\\\"].describe()\";\n",
       "                var nbb_cells = Jupyter.notebook.get_cells();\n",
       "                for (var i = 0; i < nbb_cells.length; ++i) {\n",
       "                    if (nbb_cells[i].input_prompt_number == nbb_cell_id) {\n",
       "                        if (nbb_cells[i].get_text() == nbb_unformatted_code) {\n",
       "                             nbb_cells[i].set_text(nbb_formatted_code);\n",
       "                        }\n",
       "                        break;\n",
       "                    }\n",
       "                }\n",
       "            }, 500);\n",
       "            "
      ],
      "text/plain": [
       "<IPython.core.display.Javascript object>"
      ]
     },
     "metadata": {},
     "output_type": "display_data"
    }
   ],
   "source": [
    "df[\"Age\"].describe()"
   ]
  },
  {
   "cell_type": "code",
   "execution_count": 27,
   "metadata": {},
   "outputs": [
    {
     "data": {
      "text/plain": [
       "2     3503\n",
       "1     2304\n",
       "3     1966\n",
       "4     1109\n",
       "12     967\n",
       "24     651\n",
       "5      595\n",
       "6      558\n",
       "36     417\n",
       "8      309\n",
       "7      281\n",
       "48     241\n",
       "60     199\n",
       "9      184\n",
       "0      179\n",
       "18     165\n",
       "10     162\n",
       "72     104\n",
       "84     102\n",
       "11      94\n",
       "15      79\n",
       "14      76\n",
       "17      67\n",
       "30      52\n",
       "Name: Age, dtype: int64"
      ]
     },
     "execution_count": 27,
     "metadata": {},
     "output_type": "execute_result"
    },
    {
     "data": {
      "application/javascript": [
       "\n",
       "            setTimeout(function() {\n",
       "                var nbb_cell_id = 27;\n",
       "                var nbb_unformatted_code = \"df[\\\"Age\\\"].value_counts().head(24)\";\n",
       "                var nbb_formatted_code = \"df[\\\"Age\\\"].value_counts().head(24)\";\n",
       "                var nbb_cells = Jupyter.notebook.get_cells();\n",
       "                for (var i = 0; i < nbb_cells.length; ++i) {\n",
       "                    if (nbb_cells[i].input_prompt_number == nbb_cell_id) {\n",
       "                        if (nbb_cells[i].get_text() == nbb_unformatted_code) {\n",
       "                             nbb_cells[i].set_text(nbb_formatted_code);\n",
       "                        }\n",
       "                        break;\n",
       "                    }\n",
       "                }\n",
       "            }, 500);\n",
       "            "
      ],
      "text/plain": [
       "<IPython.core.display.Javascript object>"
      ]
     },
     "metadata": {},
     "output_type": "display_data"
    }
   ],
   "source": [
    "df[\"Age\"].value_counts().head(24)"
   ]
  },
  {
   "cell_type": "code",
   "execution_count": 28,
   "metadata": {},
   "outputs": [
    {
     "data": {
      "image/png": "[encoded data removed]",
      "text/plain": [
       "<Figure size 432x288 with 1 Axes>"
      ]
     },
     "metadata": {
      "needs_background": "light"
     },
     "output_type": "display_data"
    },
    {
     "data": {
      "application/javascript": [
       "\n",
       "            setTimeout(function() {\n",
       "                var nbb_cell_id = 28;\n",
       "                var nbb_unformatted_code = \"df[\\\"Age\\\"].hist()\\nplt.show()\";\n",
       "                var nbb_formatted_code = \"df[\\\"Age\\\"].hist()\\nplt.show()\";\n",
       "                var nbb_cells = Jupyter.notebook.get_cells();\n",
       "                for (var i = 0; i < nbb_cells.length; ++i) {\n",
       "                    if (nbb_cells[i].input_prompt_number == nbb_cell_id) {\n",
       "                        if (nbb_cells[i].get_text() == nbb_unformatted_code) {\n",
       "                             nbb_cells[i].set_text(nbb_formatted_code);\n",
       "                        }\n",
       "                        break;\n",
       "                    }\n",
       "                }\n",
       "            }, 500);\n",
       "            "
      ],
      "text/plain": [
       "<IPython.core.display.Javascript object>"
      ]
     },
     "metadata": {},
     "output_type": "display_data"
    }
   ],
   "source": [
    "df[\"Age\"].hist()\n",
    "plt.show()"
   ]
  },
  {
   "cell_type": "markdown",
   "metadata": {},
   "source": [
    "Very right-skewed distribution...let's log transform it using the Yeo-Johnson transformation."
   ]
  },
  {
   "cell_type": "code",
   "execution_count": 29,
   "metadata": {},
   "outputs": [
    {
     "data": {
      "image/png": "[encoded data removed]",
      "text/plain": [
       "<Figure size 432x288 with 1 Axes>"
      ]
     },
     "metadata": {
      "needs_background": "light"
     },
     "output_type": "display_data"
    },
    {
     "data": {
      "application/javascript": [
       "\n",
       "            setTimeout(function() {\n",
       "                var nbb_cell_id = 29;\n",
       "                var nbb_unformatted_code = \"age = df[\\\"Age\\\"].to_numpy() + 1\\n\\ndf[\\\"age_t\\\"], _ = stats.boxcox(age)\\n\\ndf[\\\"age_t\\\"].hist()\\nplt.show()\";\n",
       "                var nbb_formatted_code = \"age = df[\\\"Age\\\"].to_numpy() + 1\\n\\ndf[\\\"age_t\\\"], _ = stats.boxcox(age)\\n\\ndf[\\\"age_t\\\"].hist()\\nplt.show()\";\n",
       "                var nbb_cells = Jupyter.notebook.get_cells();\n",
       "                for (var i = 0; i < nbb_cells.length; ++i) {\n",
       "                    if (nbb_cells[i].input_prompt_number == nbb_cell_id) {\n",
       "                        if (nbb_cells[i].get_text() == nbb_unformatted_code) {\n",
       "                             nbb_cells[i].set_text(nbb_formatted_code);\n",
       "                        }\n",
       "                        break;\n",
       "                    }\n",
       "                }\n",
       "            }, 500);\n",
       "            "
      ],
      "text/plain": [
       "<IPython.core.display.Javascript object>"
      ]
     },
     "metadata": {},
     "output_type": "display_data"
    }
   ],
   "source": [
    "age = df[\"Age\"].to_numpy() + 1\n",
    "\n",
    "df[\"age_t\"], _ = stats.boxcox(age)\n",
    "\n",
    "df[\"age_t\"].hist()\n",
    "plt.show()"
   ]
  },
  {
   "cell_type": "code",
   "execution_count": 30,
   "metadata": {},
   "outputs": [
    {
     "data": {
      "image/png": "[encoded data removed]",
      "text/plain": [
       "<Figure size 432x288 with 1 Axes>"
      ]
     },
     "metadata": {
      "needs_background": "light"
     },
     "output_type": "display_data"
    },
    {
     "data": {
      "application/javascript": [
       "\n",
       "            setTimeout(function() {\n",
       "                var nbb_cell_id = 30;\n",
       "                var nbb_unformatted_code = \"sns.violinplot(\\\"AdoptionSpeed\\\", \\\"age_t\\\", data=df)\\nplt.ylabel(\\\"Logarithmic Age [log(months)]\\\")\\nplt.xlabel(\\\"Adoption Time\\\")\\nplt.title(\\\"Adoption Times vs Age\\\")\\nplt.show()\\n# plt.savefig(\\\"Age_vs_AdoptSpeed.png\\\", dpi=1000)\";\n",
       "                var nbb_formatted_code = \"sns.violinplot(\\\"AdoptionSpeed\\\", \\\"age_t\\\", data=df)\\nplt.ylabel(\\\"Logarithmic Age [log(months)]\\\")\\nplt.xlabel(\\\"Adoption Time\\\")\\nplt.title(\\\"Adoption Times vs Age\\\")\\nplt.show()\\n# plt.savefig(\\\"Age_vs_AdoptSpeed.png\\\", dpi=1000)\";\n",
       "                var nbb_cells = Jupyter.notebook.get_cells();\n",
       "                for (var i = 0; i < nbb_cells.length; ++i) {\n",
       "                    if (nbb_cells[i].input_prompt_number == nbb_cell_id) {\n",
       "                        if (nbb_cells[i].get_text() == nbb_unformatted_code) {\n",
       "                             nbb_cells[i].set_text(nbb_formatted_code);\n",
       "                        }\n",
       "                        break;\n",
       "                    }\n",
       "                }\n",
       "            }, 500);\n",
       "            "
      ],
      "text/plain": [
       "<IPython.core.display.Javascript object>"
      ]
     },
     "metadata": {},
     "output_type": "display_data"
    }
   ],
   "source": [
    "sns.violinplot(\"AdoptionSpeed\", \"age_t\", data=df)\n",
    "plt.ylabel(\"Logarithmic Age [log(months)]\")\n",
    "plt.xlabel(\"Adoption Time\")\n",
    "plt.title(\"Adoption Times vs Age\")\n",
    "plt.show()\n",
    "# plt.savefig(\"Age_vs_AdoptSpeed.png\", dpi=1000)"
   ]
  },
  {
   "cell_type": "code",
   "execution_count": null,
   "metadata": {},
   "outputs": [],
   "source": []
  },
  {
   "cell_type": "markdown",
   "metadata": {},
   "source": [
    "### Breed1 and Breed2"
   ]
  },
  {
   "cell_type": "code",
   "execution_count": 31,
   "metadata": {},
   "outputs": [
    {
     "data": {
      "image/png": "[encoded data removed]",
      "text/plain": [
       "<Figure size 432x288 with 1 Axes>"
      ]
     },
     "metadata": {
      "needs_background": "light"
     },
     "output_type": "display_data"
    },
    {
     "data": {
      "image/png": "[encoded data removed]",
      "text/plain": [
       "<Figure size 432x288 with 1 Axes>"
      ]
     },
     "metadata": {
      "needs_background": "light"
     },
     "output_type": "display_data"
    },
    {
     "data": {
      "application/javascript": [
       "\n",
       "            setTimeout(function() {\n",
       "                var nbb_cell_id = 31;\n",
       "                var nbb_unformatted_code = \"df[\\\"Breed1\\\"].hist()\\nplt.show()\\n\\ndf[\\\"Breed2\\\"].hist()\\nplt.show()\";\n",
       "                var nbb_formatted_code = \"df[\\\"Breed1\\\"].hist()\\nplt.show()\\n\\ndf[\\\"Breed2\\\"].hist()\\nplt.show()\";\n",
       "                var nbb_cells = Jupyter.notebook.get_cells();\n",
       "                for (var i = 0; i < nbb_cells.length; ++i) {\n",
       "                    if (nbb_cells[i].input_prompt_number == nbb_cell_id) {\n",
       "                        if (nbb_cells[i].get_text() == nbb_unformatted_code) {\n",
       "                             nbb_cells[i].set_text(nbb_formatted_code);\n",
       "                        }\n",
       "                        break;\n",
       "                    }\n",
       "                }\n",
       "            }, 500);\n",
       "            "
      ],
      "text/plain": [
       "<IPython.core.display.Javascript object>"
      ]
     },
     "metadata": {},
     "output_type": "display_data"
    }
   ],
   "source": [
    "df[\"Breed1\"].hist()\n",
    "plt.show()\n",
    "\n",
    "df[\"Breed2\"].hist()\n",
    "plt.show()"
   ]
  },
  {
   "cell_type": "markdown",
   "metadata": {},
   "source": [
    "Because there are so many breeds and major class imbalance, let's simplify and try to create an is_pure_bred feature.  We exclude mixed breed, no breed identified, and generic breeds like domestic short hair."
   ]
  },
  {
   "cell_type": "code",
   "execution_count": 32,
   "metadata": {},
   "outputs": [
    {
     "data": {
      "application/javascript": [
       "\n",
       "            setTimeout(function() {\n",
       "                var nbb_cell_id = 32;\n",
       "                var nbb_unformatted_code = \"is_pure_bred = []\\n\\nbreed1 = np.array(df[\\\"Breed1\\\"])\\nbreed2 = np.array(df[\\\"Breed2\\\"])\\n\\nexcluded_breed_codes = [0, 307, 264, 265, 266]\\n\\nfor i in range(0, len(breed1)):\\n    if breed1[i] not in excluded_breed_codes and breed2[i] == 0:\\n        is_pure_bred.append(1)\\n    else:\\n        is_pure_bred.append(0)\\n\\ndf[\\\"is_pure_bred\\\"] = is_pure_bred\";\n",
       "                var nbb_formatted_code = \"is_pure_bred = []\\n\\nbreed1 = np.array(df[\\\"Breed1\\\"])\\nbreed2 = np.array(df[\\\"Breed2\\\"])\\n\\nexcluded_breed_codes = [0, 307, 264, 265, 266]\\n\\nfor i in range(0, len(breed1)):\\n    if breed1[i] not in excluded_breed_codes and breed2[i] == 0:\\n        is_pure_bred.append(1)\\n    else:\\n        is_pure_bred.append(0)\\n\\ndf[\\\"is_pure_bred\\\"] = is_pure_bred\";\n",
       "                var nbb_cells = Jupyter.notebook.get_cells();\n",
       "                for (var i = 0; i < nbb_cells.length; ++i) {\n",
       "                    if (nbb_cells[i].input_prompt_number == nbb_cell_id) {\n",
       "                        if (nbb_cells[i].get_text() == nbb_unformatted_code) {\n",
       "                             nbb_cells[i].set_text(nbb_formatted_code);\n",
       "                        }\n",
       "                        break;\n",
       "                    }\n",
       "                }\n",
       "            }, 500);\n",
       "            "
      ],
      "text/plain": [
       "<IPython.core.display.Javascript object>"
      ]
     },
     "metadata": {},
     "output_type": "display_data"
    }
   ],
   "source": [
    "is_pure_bred = []\n",
    "\n",
    "breed1 = np.array(df[\"Breed1\"])\n",
    "breed2 = np.array(df[\"Breed2\"])\n",
    "\n",
    "excluded_breed_codes = [0, 307, 264, 265, 266]\n",
    "\n",
    "for i in range(0, len(breed1)):\n",
    "    if breed1[i] not in excluded_breed_codes and breed2[i] == 0:\n",
    "        is_pure_bred.append(1)\n",
    "    else:\n",
    "        is_pure_bred.append(0)\n",
    "\n",
    "df[\"is_pure_bred\"] = is_pure_bred"
   ]
  },
  {
   "cell_type": "code",
   "execution_count": 33,
   "metadata": {},
   "outputs": [
    {
     "data": {
      "image/png": "[encoded data removed]",
      "text/plain": [
       "<Figure size 432x288 with 1 Axes>"
      ]
     },
     "metadata": {
      "needs_background": "light"
     },
     "output_type": "display_data"
    },
    {
     "data": {
      "application/javascript": [
       "\n",
       "            setTimeout(function() {\n",
       "                var nbb_cell_id = 33;\n",
       "                var nbb_unformatted_code = \"sns.boxplot(\\\"is_pure_bred\\\", \\\"AdoptionSpeed\\\", data=df)\\nplt.ylabel(\\\"Adoption Time\\\")\\nplt.xlabel(\\\"\\\")\\nplt.xticks([0, 1], labels=[\\\"Mixed Breed\\\", \\\"Purebred\\\"])\\nplt.title(\\\"Adoption Time vs Breed\\\")\\n# plt.show()\\nplt.savefig(\\\"breed_vs_AdoptSpeed.png\\\", dpi=1000)\";\n",
       "                var nbb_formatted_code = \"sns.boxplot(\\\"is_pure_bred\\\", \\\"AdoptionSpeed\\\", data=df)\\nplt.ylabel(\\\"Adoption Time\\\")\\nplt.xlabel(\\\"\\\")\\nplt.xticks([0, 1], labels=[\\\"Mixed Breed\\\", \\\"Purebred\\\"])\\nplt.title(\\\"Adoption Time vs Breed\\\")\\n# plt.show()\\nplt.savefig(\\\"breed_vs_AdoptSpeed.png\\\", dpi=1000)\";\n",
       "                var nbb_cells = Jupyter.notebook.get_cells();\n",
       "                for (var i = 0; i < nbb_cells.length; ++i) {\n",
       "                    if (nbb_cells[i].input_prompt_number == nbb_cell_id) {\n",
       "                        if (nbb_cells[i].get_text() == nbb_unformatted_code) {\n",
       "                             nbb_cells[i].set_text(nbb_formatted_code);\n",
       "                        }\n",
       "                        break;\n",
       "                    }\n",
       "                }\n",
       "            }, 500);\n",
       "            "
      ],
      "text/plain": [
       "<IPython.core.display.Javascript object>"
      ]
     },
     "metadata": {},
     "output_type": "display_data"
    }
   ],
   "source": [
    "sns.boxplot(\"is_pure_bred\", \"AdoptionSpeed\", data=df)\n",
    "plt.ylabel(\"Adoption Time\")\n",
    "plt.xlabel(\"\")\n",
    "plt.xticks([0, 1], labels=[\"Mixed Breed\", \"Purebred\"])\n",
    "plt.title(\"Adoption Time vs Breed\")\n",
    "# plt.show()\n",
    "plt.savefig(\"breed_vs_AdoptSpeed.png\", dpi=1000)"
   ]
  },
  {
   "cell_type": "code",
   "execution_count": 34,
   "metadata": {},
   "outputs": [
    {
     "data": {
      "text/plain": [
       "4.7569708331712775e-24"
      ]
     },
     "execution_count": 34,
     "metadata": {},
     "output_type": "execute_result"
    },
    {
     "data": {
      "application/javascript": [
       "\n",
       "            setTimeout(function() {\n",
       "                var nbb_cell_id = 34;\n",
       "                var nbb_unformatted_code = \"mixed_df = df[df[\\\"is_pure_bred\\\"] == 0]\\npure_df = df[df[\\\"is_pure_bred\\\"] == 1]\\nmixed_adoptionspeeds = np.array(mixed_df[\\\"AdoptionSpeed\\\"])\\npure_adoptionspeeds = np.array(pure_df[\\\"AdoptionSpeed\\\"])\\n\\n_, p = mannwhitneyu(mixed_adoptionspeeds, pure_adoptionspeeds)\\np\";\n",
       "                var nbb_formatted_code = \"mixed_df = df[df[\\\"is_pure_bred\\\"] == 0]\\npure_df = df[df[\\\"is_pure_bred\\\"] == 1]\\nmixed_adoptionspeeds = np.array(mixed_df[\\\"AdoptionSpeed\\\"])\\npure_adoptionspeeds = np.array(pure_df[\\\"AdoptionSpeed\\\"])\\n\\n_, p = mannwhitneyu(mixed_adoptionspeeds, pure_adoptionspeeds)\\np\";\n",
       "                var nbb_cells = Jupyter.notebook.get_cells();\n",
       "                for (var i = 0; i < nbb_cells.length; ++i) {\n",
       "                    if (nbb_cells[i].input_prompt_number == nbb_cell_id) {\n",
       "                        if (nbb_cells[i].get_text() == nbb_unformatted_code) {\n",
       "                             nbb_cells[i].set_text(nbb_formatted_code);\n",
       "                        }\n",
       "                        break;\n",
       "                    }\n",
       "                }\n",
       "            }, 500);\n",
       "            "
      ],
      "text/plain": [
       "<IPython.core.display.Javascript object>"
      ]
     },
     "metadata": {},
     "output_type": "display_data"
    }
   ],
   "source": [
    "mixed_df = df[df[\"is_pure_bred\"] == 0]\n",
    "pure_df = df[df[\"is_pure_bred\"] == 1]\n",
    "mixed_adoptionspeeds = np.array(mixed_df[\"AdoptionSpeed\"])\n",
    "pure_adoptionspeeds = np.array(pure_df[\"AdoptionSpeed\"])\n",
    "\n",
    "_, p = mannwhitneyu(mixed_adoptionspeeds, pure_adoptionspeeds)\n",
    "p"
   ]
  },
  {
   "cell_type": "markdown",
   "metadata": {},
   "source": [
    "### Gender\n",
    "\n",
    "1 - Male, 2 - Female, 3 - mixed (group of animals)"
   ]
  },
  {
   "cell_type": "code",
   "execution_count": 35,
   "metadata": {},
   "outputs": [
    {
     "data": {
      "text/plain": [
       "2    7277\n",
       "1    5536\n",
       "3    2180\n",
       "Name: Gender, dtype: int64"
      ]
     },
     "execution_count": 35,
     "metadata": {},
     "output_type": "execute_result"
    },
    {
     "data": {
      "application/javascript": [
       "\n",
       "            setTimeout(function() {\n",
       "                var nbb_cell_id = 35;\n",
       "                var nbb_unformatted_code = \"df[\\\"Gender\\\"].value_counts()\";\n",
       "                var nbb_formatted_code = \"df[\\\"Gender\\\"].value_counts()\";\n",
       "                var nbb_cells = Jupyter.notebook.get_cells();\n",
       "                for (var i = 0; i < nbb_cells.length; ++i) {\n",
       "                    if (nbb_cells[i].input_prompt_number == nbb_cell_id) {\n",
       "                        if (nbb_cells[i].get_text() == nbb_unformatted_code) {\n",
       "                             nbb_cells[i].set_text(nbb_formatted_code);\n",
       "                        }\n",
       "                        break;\n",
       "                    }\n",
       "                }\n",
       "            }, 500);\n",
       "            "
      ],
      "text/plain": [
       "<IPython.core.display.Javascript object>"
      ]
     },
     "metadata": {},
     "output_type": "display_data"
    }
   ],
   "source": [
    "df[\"Gender\"].value_counts()"
   ]
  },
  {
   "cell_type": "code",
   "execution_count": 36,
   "metadata": {},
   "outputs": [
    {
     "data": {
      "image/png": "[encoded data removed]",
      "text/plain": [
       "<Figure size 432x288 with 1 Axes>"
      ]
     },
     "metadata": {
      "needs_background": "light"
     },
     "output_type": "display_data"
    },
    {
     "data": {
      "application/javascript": [
       "\n",
       "            setTimeout(function() {\n",
       "                var nbb_cell_id = 36;\n",
       "                var nbb_unformatted_code = \"sns.boxplot(x=\\\"Gender\\\", y=\\\"AdoptionSpeed\\\", data=df)\\nplt.show()\";\n",
       "                var nbb_formatted_code = \"sns.boxplot(x=\\\"Gender\\\", y=\\\"AdoptionSpeed\\\", data=df)\\nplt.show()\";\n",
       "                var nbb_cells = Jupyter.notebook.get_cells();\n",
       "                for (var i = 0; i < nbb_cells.length; ++i) {\n",
       "                    if (nbb_cells[i].input_prompt_number == nbb_cell_id) {\n",
       "                        if (nbb_cells[i].get_text() == nbb_unformatted_code) {\n",
       "                             nbb_cells[i].set_text(nbb_formatted_code);\n",
       "                        }\n",
       "                        break;\n",
       "                    }\n",
       "                }\n",
       "            }, 500);\n",
       "            "
      ],
      "text/plain": [
       "<IPython.core.display.Javascript object>"
      ]
     },
     "metadata": {},
     "output_type": "display_data"
    }
   ],
   "source": [
    "sns.boxplot(x=\"Gender\", y=\"AdoptionSpeed\", data=df)\n",
    "plt.show()"
   ]
  },
  {
   "cell_type": "markdown",
   "metadata": {},
   "source": [
    "### Color1, Color2, and Color3"
   ]
  },
  {
   "cell_type": "code",
   "execution_count": 37,
   "metadata": {},
   "outputs": [
    {
     "name": "stdout",
     "output_type": "stream",
     "text": [
      "Color1:\n"
     ]
    },
    {
     "data": {
      "text/plain": [
       "1    7427\n",
       "2    3750\n",
       "3     947\n",
       "5     884\n",
       "6     684\n",
       "7     667\n",
       "4     634\n",
       "Name: Color1, dtype: int64"
      ]
     },
     "metadata": {},
     "output_type": "display_data"
    },
    {
     "name": "stdout",
     "output_type": "stream",
     "text": [
      "Color2:\n"
     ]
    },
    {
     "data": {
      "text/plain": [
       "0    4471\n",
       "7    3438\n",
       "2    3313\n",
       "5    1128\n",
       "6    1063\n",
       "4     870\n",
       "3     710\n",
       "Name: Color2, dtype: int64"
      ]
     },
     "metadata": {},
     "output_type": "display_data"
    },
    {
     "name": "stdout",
     "output_type": "stream",
     "text": [
      "Color3:\n"
     ]
    },
    {
     "data": {
      "text/plain": [
       "0    10604\n",
       "7     3221\n",
       "5      417\n",
       "6      378\n",
       "4      198\n",
       "3      175\n",
       "Name: Color3, dtype: int64"
      ]
     },
     "metadata": {},
     "output_type": "display_data"
    },
    {
     "data": {
      "application/javascript": [
       "\n",
       "            setTimeout(function() {\n",
       "                var nbb_cell_id = 37;\n",
       "                var nbb_unformatted_code = \"print(\\\"Color1:\\\")\\ndisplay(df[\\\"Color1\\\"].value_counts())\\n\\nprint(\\\"Color2:\\\")\\ndisplay(df[\\\"Color2\\\"].value_counts())\\n\\nprint(\\\"Color3:\\\")\\ndisplay(df[\\\"Color3\\\"].value_counts())\";\n",
       "                var nbb_formatted_code = \"print(\\\"Color1:\\\")\\ndisplay(df[\\\"Color1\\\"].value_counts())\\n\\nprint(\\\"Color2:\\\")\\ndisplay(df[\\\"Color2\\\"].value_counts())\\n\\nprint(\\\"Color3:\\\")\\ndisplay(df[\\\"Color3\\\"].value_counts())\";\n",
       "                var nbb_cells = Jupyter.notebook.get_cells();\n",
       "                for (var i = 0; i < nbb_cells.length; ++i) {\n",
       "                    if (nbb_cells[i].input_prompt_number == nbb_cell_id) {\n",
       "                        if (nbb_cells[i].get_text() == nbb_unformatted_code) {\n",
       "                             nbb_cells[i].set_text(nbb_formatted_code);\n",
       "                        }\n",
       "                        break;\n",
       "                    }\n",
       "                }\n",
       "            }, 500);\n",
       "            "
      ],
      "text/plain": [
       "<IPython.core.display.Javascript object>"
      ]
     },
     "metadata": {},
     "output_type": "display_data"
    }
   ],
   "source": [
    "print(\"Color1:\")\n",
    "display(df[\"Color1\"].value_counts())\n",
    "\n",
    "print(\"Color2:\")\n",
    "display(df[\"Color2\"].value_counts())\n",
    "\n",
    "print(\"Color3:\")\n",
    "display(df[\"Color3\"].value_counts())"
   ]
  },
  {
   "cell_type": "code",
   "execution_count": 38,
   "metadata": {},
   "outputs": [
    {
     "data": {
      "image/png": "[encoded data removed]",
      "text/plain": [
       "<Figure size 432x288 with 1 Axes>"
      ]
     },
     "metadata": {
      "needs_background": "light"
     },
     "output_type": "display_data"
    },
    {
     "data": {
      "image/png": "[encoded data removed]",
      "text/plain": [
       "<Figure size 432x288 with 1 Axes>"
      ]
     },
     "metadata": {
      "needs_background": "light"
     },
     "output_type": "display_data"
    },
    {
     "data": {
      "image/png": "[encoded data removed]",
      "text/plain": [
       "<Figure size 432x288 with 1 Axes>"
      ]
     },
     "metadata": {
      "needs_background": "light"
     },
     "output_type": "display_data"
    },
    {
     "data": {
      "application/javascript": [
       "\n",
       "            setTimeout(function() {\n",
       "                var nbb_cell_id = 38;\n",
       "                var nbb_unformatted_code = \"sns.barplot(x=\\\"Color1\\\", y=\\\"AdoptionSpeed\\\", data=df)\\nplt.show()\\n\\nsns.barplot(x=\\\"Color2\\\", y=\\\"AdoptionSpeed\\\", data=df)\\nplt.show()\\n\\nsns.barplot(x=\\\"Color3\\\", y=\\\"AdoptionSpeed\\\", data=df)\\nplt.show()\";\n",
       "                var nbb_formatted_code = \"sns.barplot(x=\\\"Color1\\\", y=\\\"AdoptionSpeed\\\", data=df)\\nplt.show()\\n\\nsns.barplot(x=\\\"Color2\\\", y=\\\"AdoptionSpeed\\\", data=df)\\nplt.show()\\n\\nsns.barplot(x=\\\"Color3\\\", y=\\\"AdoptionSpeed\\\", data=df)\\nplt.show()\";\n",
       "                var nbb_cells = Jupyter.notebook.get_cells();\n",
       "                for (var i = 0; i < nbb_cells.length; ++i) {\n",
       "                    if (nbb_cells[i].input_prompt_number == nbb_cell_id) {\n",
       "                        if (nbb_cells[i].get_text() == nbb_unformatted_code) {\n",
       "                             nbb_cells[i].set_text(nbb_formatted_code);\n",
       "                        }\n",
       "                        break;\n",
       "                    }\n",
       "                }\n",
       "            }, 500);\n",
       "            "
      ],
      "text/plain": [
       "<IPython.core.display.Javascript object>"
      ]
     },
     "metadata": {},
     "output_type": "display_data"
    }
   ],
   "source": [
    "sns.barplot(x=\"Color1\", y=\"AdoptionSpeed\", data=df)\n",
    "plt.show()\n",
    "\n",
    "sns.barplot(x=\"Color2\", y=\"AdoptionSpeed\", data=df)\n",
    "plt.show()\n",
    "\n",
    "sns.barplot(x=\"Color3\", y=\"AdoptionSpeed\", data=df)\n",
    "plt.show()"
   ]
  },
  {
   "cell_type": "markdown",
   "metadata": {},
   "source": [
    "Seems like Color2 and Color3 have a zero category, which must mean that the animal has no second or third color.\n",
    "\n",
    "In my experience, black dogs and cats are adopted less often than other colorings.  I'm curious if this is true in this dataset too.\n",
    "\n",
    "Let's create a feature, `is_black`, that will be 1 if the dog/cat has Color1 that's black and Color2 and Color3 of 0, and 0 otherwise."
   ]
  },
  {
   "cell_type": "code",
   "execution_count": 39,
   "metadata": {},
   "outputs": [
    {
     "data": {
      "application/javascript": [
       "\n",
       "            setTimeout(function() {\n",
       "                var nbb_cell_id = 39;\n",
       "                var nbb_unformatted_code = \"is_black = []\\n\\nfor i in range(0, len(df[\\\"Color1\\\"])):\\n    if df[\\\"Color1\\\"][i] == 1 and df[\\\"Color2\\\"][i] == 0 and df[\\\"Color3\\\"][i] == 0:\\n        is_black.append(1)\\n    else:\\n        is_black.append(0)\\n\\ndf[\\\"is_black\\\"] = is_black\";\n",
       "                var nbb_formatted_code = \"is_black = []\\n\\nfor i in range(0, len(df[\\\"Color1\\\"])):\\n    if df[\\\"Color1\\\"][i] == 1 and df[\\\"Color2\\\"][i] == 0 and df[\\\"Color3\\\"][i] == 0:\\n        is_black.append(1)\\n    else:\\n        is_black.append(0)\\n\\ndf[\\\"is_black\\\"] = is_black\";\n",
       "                var nbb_cells = Jupyter.notebook.get_cells();\n",
       "                for (var i = 0; i < nbb_cells.length; ++i) {\n",
       "                    if (nbb_cells[i].input_prompt_number == nbb_cell_id) {\n",
       "                        if (nbb_cells[i].get_text() == nbb_unformatted_code) {\n",
       "                             nbb_cells[i].set_text(nbb_formatted_code);\n",
       "                        }\n",
       "                        break;\n",
       "                    }\n",
       "                }\n",
       "            }, 500);\n",
       "            "
      ],
      "text/plain": [
       "<IPython.core.display.Javascript object>"
      ]
     },
     "metadata": {},
     "output_type": "display_data"
    }
   ],
   "source": [
    "is_black = []\n",
    "\n",
    "for i in range(0, len(df[\"Color1\"])):\n",
    "    if df[\"Color1\"][i] == 1 and df[\"Color2\"][i] == 0 and df[\"Color3\"][i] == 0:\n",
    "        is_black.append(1)\n",
    "    else:\n",
    "        is_black.append(0)\n",
    "\n",
    "df[\"is_black\"] = is_black"
   ]
  },
  {
   "cell_type": "code",
   "execution_count": 40,
   "metadata": {},
   "outputs": [
    {
     "data": {
      "image/png": "[encoded data removed]",
      "text/plain": [
       "<Figure size 432x288 with 1 Axes>"
      ]
     },
     "metadata": {
      "needs_background": "light"
     },
     "output_type": "display_data"
    },
    {
     "data": {
      "application/javascript": [
       "\n",
       "            setTimeout(function() {\n",
       "                var nbb_cell_id = 40;\n",
       "                var nbb_unformatted_code = \"sns.barplot(x=\\\"is_black\\\", y=\\\"AdoptionSpeed\\\", data=df)\\nplt.show()\";\n",
       "                var nbb_formatted_code = \"sns.barplot(x=\\\"is_black\\\", y=\\\"AdoptionSpeed\\\", data=df)\\nplt.show()\";\n",
       "                var nbb_cells = Jupyter.notebook.get_cells();\n",
       "                for (var i = 0; i < nbb_cells.length; ++i) {\n",
       "                    if (nbb_cells[i].input_prompt_number == nbb_cell_id) {\n",
       "                        if (nbb_cells[i].get_text() == nbb_unformatted_code) {\n",
       "                             nbb_cells[i].set_text(nbb_formatted_code);\n",
       "                        }\n",
       "                        break;\n",
       "                    }\n",
       "                }\n",
       "            }, 500);\n",
       "            "
      ],
      "text/plain": [
       "<IPython.core.display.Javascript object>"
      ]
     },
     "metadata": {},
     "output_type": "display_data"
    }
   ],
   "source": [
    "sns.barplot(x=\"is_black\", y=\"AdoptionSpeed\", data=df)\n",
    "plt.show()"
   ]
  },
  {
   "cell_type": "markdown",
   "metadata": {},
   "source": [
    "### MaturitySize"
   ]
  },
  {
   "cell_type": "code",
   "execution_count": 41,
   "metadata": {},
   "outputs": [
    {
     "data": {
      "text/plain": [
       "2    10305\n",
       "1     3395\n",
       "3     1260\n",
       "4       33\n",
       "Name: MaturitySize, dtype: int64"
      ]
     },
     "execution_count": 41,
     "metadata": {},
     "output_type": "execute_result"
    },
    {
     "data": {
      "application/javascript": [
       "\n",
       "            setTimeout(function() {\n",
       "                var nbb_cell_id = 41;\n",
       "                var nbb_unformatted_code = \"df[\\\"MaturitySize\\\"].value_counts()\";\n",
       "                var nbb_formatted_code = \"df[\\\"MaturitySize\\\"].value_counts()\";\n",
       "                var nbb_cells = Jupyter.notebook.get_cells();\n",
       "                for (var i = 0; i < nbb_cells.length; ++i) {\n",
       "                    if (nbb_cells[i].input_prompt_number == nbb_cell_id) {\n",
       "                        if (nbb_cells[i].get_text() == nbb_unformatted_code) {\n",
       "                             nbb_cells[i].set_text(nbb_formatted_code);\n",
       "                        }\n",
       "                        break;\n",
       "                    }\n",
       "                }\n",
       "            }, 500);\n",
       "            "
      ],
      "text/plain": [
       "<IPython.core.display.Javascript object>"
      ]
     },
     "metadata": {},
     "output_type": "display_data"
    }
   ],
   "source": [
    "df[\"MaturitySize\"].value_counts()"
   ]
  },
  {
   "cell_type": "markdown",
   "metadata": {},
   "source": [
    "Combine 4's into threes for a combined large and extra-large category."
   ]
  },
  {
   "cell_type": "code",
   "execution_count": 42,
   "metadata": {},
   "outputs": [
    {
     "data": {
      "application/javascript": [
       "\n",
       "            setTimeout(function() {\n",
       "                var nbb_cell_id = 42;\n",
       "                var nbb_unformatted_code = \"new_maturity_size = []\\nmaturity_size = df[\\\"MaturitySize\\\"]\\n\\nfor size in maturity_size:\\n    if size == 4:\\n        new_maturity_size.append(3)\\n    else:\\n        new_maturity_size.append(size)\\n\\ndf[\\\"maturity_size\\\"] = new_maturity_size\";\n",
       "                var nbb_formatted_code = \"new_maturity_size = []\\nmaturity_size = df[\\\"MaturitySize\\\"]\\n\\nfor size in maturity_size:\\n    if size == 4:\\n        new_maturity_size.append(3)\\n    else:\\n        new_maturity_size.append(size)\\n\\ndf[\\\"maturity_size\\\"] = new_maturity_size\";\n",
       "                var nbb_cells = Jupyter.notebook.get_cells();\n",
       "                for (var i = 0; i < nbb_cells.length; ++i) {\n",
       "                    if (nbb_cells[i].input_prompt_number == nbb_cell_id) {\n",
       "                        if (nbb_cells[i].get_text() == nbb_unformatted_code) {\n",
       "                             nbb_cells[i].set_text(nbb_formatted_code);\n",
       "                        }\n",
       "                        break;\n",
       "                    }\n",
       "                }\n",
       "            }, 500);\n",
       "            "
      ],
      "text/plain": [
       "<IPython.core.display.Javascript object>"
      ]
     },
     "metadata": {},
     "output_type": "display_data"
    }
   ],
   "source": [
    "new_maturity_size = []\n",
    "maturity_size = df[\"MaturitySize\"]\n",
    "\n",
    "for size in maturity_size:\n",
    "    if size == 4:\n",
    "        new_maturity_size.append(3)\n",
    "    else:\n",
    "        new_maturity_size.append(size)\n",
    "\n",
    "df[\"maturity_size\"] = new_maturity_size"
   ]
  },
  {
   "cell_type": "code",
   "execution_count": 43,
   "metadata": {},
   "outputs": [
    {
     "data": {
      "text/plain": [
       "2    10305\n",
       "1     3395\n",
       "3     1293\n",
       "Name: maturity_size, dtype: int64"
      ]
     },
     "execution_count": 43,
     "metadata": {},
     "output_type": "execute_result"
    },
    {
     "data": {
      "application/javascript": [
       "\n",
       "            setTimeout(function() {\n",
       "                var nbb_cell_id = 43;\n",
       "                var nbb_unformatted_code = \"df[\\\"maturity_size\\\"].value_counts()\";\n",
       "                var nbb_formatted_code = \"df[\\\"maturity_size\\\"].value_counts()\";\n",
       "                var nbb_cells = Jupyter.notebook.get_cells();\n",
       "                for (var i = 0; i < nbb_cells.length; ++i) {\n",
       "                    if (nbb_cells[i].input_prompt_number == nbb_cell_id) {\n",
       "                        if (nbb_cells[i].get_text() == nbb_unformatted_code) {\n",
       "                             nbb_cells[i].set_text(nbb_formatted_code);\n",
       "                        }\n",
       "                        break;\n",
       "                    }\n",
       "                }\n",
       "            }, 500);\n",
       "            "
      ],
      "text/plain": [
       "<IPython.core.display.Javascript object>"
      ]
     },
     "metadata": {},
     "output_type": "display_data"
    }
   ],
   "source": [
    "df[\"maturity_size\"].value_counts()"
   ]
  },
  {
   "cell_type": "code",
   "execution_count": 44,
   "metadata": {},
   "outputs": [
    {
     "data": {
      "image/png": "[encoded data removed]",
      "text/plain": [
       "<Figure size 432x288 with 1 Axes>"
      ]
     },
     "metadata": {
      "needs_background": "light"
     },
     "output_type": "display_data"
    },
    {
     "data": {
      "application/javascript": [
       "\n",
       "            setTimeout(function() {\n",
       "                var nbb_cell_id = 44;\n",
       "                var nbb_unformatted_code = \"sns.barplot(x=\\\"maturity_size\\\", y=\\\"AdoptionSpeed\\\", data=df)\\nplt.show()\";\n",
       "                var nbb_formatted_code = \"sns.barplot(x=\\\"maturity_size\\\", y=\\\"AdoptionSpeed\\\", data=df)\\nplt.show()\";\n",
       "                var nbb_cells = Jupyter.notebook.get_cells();\n",
       "                for (var i = 0; i < nbb_cells.length; ++i) {\n",
       "                    if (nbb_cells[i].input_prompt_number == nbb_cell_id) {\n",
       "                        if (nbb_cells[i].get_text() == nbb_unformatted_code) {\n",
       "                             nbb_cells[i].set_text(nbb_formatted_code);\n",
       "                        }\n",
       "                        break;\n",
       "                    }\n",
       "                }\n",
       "            }, 500);\n",
       "            "
      ],
      "text/plain": [
       "<IPython.core.display.Javascript object>"
      ]
     },
     "metadata": {},
     "output_type": "display_data"
    }
   ],
   "source": [
    "sns.barplot(x=\"maturity_size\", y=\"AdoptionSpeed\", data=df)\n",
    "plt.show()"
   ]
  },
  {
   "cell_type": "markdown",
   "metadata": {},
   "source": [
    "### FurLength"
   ]
  },
  {
   "cell_type": "code",
   "execution_count": 45,
   "metadata": {},
   "outputs": [
    {
     "data": {
      "text/plain": [
       "1    8808\n",
       "2    5361\n",
       "3     824\n",
       "Name: FurLength, dtype: int64"
      ]
     },
     "execution_count": 45,
     "metadata": {},
     "output_type": "execute_result"
    },
    {
     "data": {
      "application/javascript": [
       "\n",
       "            setTimeout(function() {\n",
       "                var nbb_cell_id = 45;\n",
       "                var nbb_unformatted_code = \"df[\\\"FurLength\\\"].value_counts()\";\n",
       "                var nbb_formatted_code = \"df[\\\"FurLength\\\"].value_counts()\";\n",
       "                var nbb_cells = Jupyter.notebook.get_cells();\n",
       "                for (var i = 0; i < nbb_cells.length; ++i) {\n",
       "                    if (nbb_cells[i].input_prompt_number == nbb_cell_id) {\n",
       "                        if (nbb_cells[i].get_text() == nbb_unformatted_code) {\n",
       "                             nbb_cells[i].set_text(nbb_formatted_code);\n",
       "                        }\n",
       "                        break;\n",
       "                    }\n",
       "                }\n",
       "            }, 500);\n",
       "            "
      ],
      "text/plain": [
       "<IPython.core.display.Javascript object>"
      ]
     },
     "metadata": {},
     "output_type": "display_data"
    }
   ],
   "source": [
    "df[\"FurLength\"].value_counts()"
   ]
  },
  {
   "cell_type": "code",
   "execution_count": 46,
   "metadata": {},
   "outputs": [
    {
     "data": {
      "image/png": "[encoded data removed]",
      "text/plain": [
       "<Figure size 432x288 with 1 Axes>"
      ]
     },
     "metadata": {
      "needs_background": "light"
     },
     "output_type": "display_data"
    },
    {
     "data": {
      "application/javascript": [
       "\n",
       "            setTimeout(function() {\n",
       "                var nbb_cell_id = 46;\n",
       "                var nbb_unformatted_code = \"sns.barplot(x=\\\"FurLength\\\", y=\\\"AdoptionSpeed\\\", data=df)\\nplt.show()\";\n",
       "                var nbb_formatted_code = \"sns.barplot(x=\\\"FurLength\\\", y=\\\"AdoptionSpeed\\\", data=df)\\nplt.show()\";\n",
       "                var nbb_cells = Jupyter.notebook.get_cells();\n",
       "                for (var i = 0; i < nbb_cells.length; ++i) {\n",
       "                    if (nbb_cells[i].input_prompt_number == nbb_cell_id) {\n",
       "                        if (nbb_cells[i].get_text() == nbb_unformatted_code) {\n",
       "                             nbb_cells[i].set_text(nbb_formatted_code);\n",
       "                        }\n",
       "                        break;\n",
       "                    }\n",
       "                }\n",
       "            }, 500);\n",
       "            "
      ],
      "text/plain": [
       "<IPython.core.display.Javascript object>"
      ]
     },
     "metadata": {},
     "output_type": "display_data"
    }
   ],
   "source": [
    "sns.barplot(x=\"FurLength\", y=\"AdoptionSpeed\", data=df)\n",
    "plt.show()"
   ]
  },
  {
   "cell_type": "markdown",
   "metadata": {},
   "source": [
    "### Vaccinated "
   ]
  },
  {
   "cell_type": "code",
   "execution_count": 47,
   "metadata": {},
   "outputs": [
    {
     "data": {
      "text/plain": [
       "2    7227\n",
       "1    5898\n",
       "3    1868\n",
       "Name: Vaccinated, dtype: int64"
      ]
     },
     "execution_count": 47,
     "metadata": {},
     "output_type": "execute_result"
    },
    {
     "data": {
      "application/javascript": [
       "\n",
       "            setTimeout(function() {\n",
       "                var nbb_cell_id = 47;\n",
       "                var nbb_unformatted_code = \"df[\\\"Vaccinated\\\"].value_counts()\";\n",
       "                var nbb_formatted_code = \"df[\\\"Vaccinated\\\"].value_counts()\";\n",
       "                var nbb_cells = Jupyter.notebook.get_cells();\n",
       "                for (var i = 0; i < nbb_cells.length; ++i) {\n",
       "                    if (nbb_cells[i].input_prompt_number == nbb_cell_id) {\n",
       "                        if (nbb_cells[i].get_text() == nbb_unformatted_code) {\n",
       "                             nbb_cells[i].set_text(nbb_formatted_code);\n",
       "                        }\n",
       "                        break;\n",
       "                    }\n",
       "                }\n",
       "            }, 500);\n",
       "            "
      ],
      "text/plain": [
       "<IPython.core.display.Javascript object>"
      ]
     },
     "metadata": {},
     "output_type": "display_data"
    }
   ],
   "source": [
    "df[\"Vaccinated\"].value_counts()"
   ]
  },
  {
   "cell_type": "code",
   "execution_count": 48,
   "metadata": {},
   "outputs": [
    {
     "data": {
      "image/png": "[encoded data removed]",
      "text/plain": [
       "<Figure size 432x288 with 1 Axes>"
      ]
     },
     "metadata": {
      "needs_background": "light"
     },
     "output_type": "display_data"
    },
    {
     "data": {
      "application/javascript": [
       "\n",
       "            setTimeout(function() {\n",
       "                var nbb_cell_id = 48;\n",
       "                var nbb_unformatted_code = \"sns.barplot(x=\\\"Vaccinated\\\", y=\\\"AdoptionSpeed\\\", data=df)\\nplt.show()\";\n",
       "                var nbb_formatted_code = \"sns.barplot(x=\\\"Vaccinated\\\", y=\\\"AdoptionSpeed\\\", data=df)\\nplt.show()\";\n",
       "                var nbb_cells = Jupyter.notebook.get_cells();\n",
       "                for (var i = 0; i < nbb_cells.length; ++i) {\n",
       "                    if (nbb_cells[i].input_prompt_number == nbb_cell_id) {\n",
       "                        if (nbb_cells[i].get_text() == nbb_unformatted_code) {\n",
       "                             nbb_cells[i].set_text(nbb_formatted_code);\n",
       "                        }\n",
       "                        break;\n",
       "                    }\n",
       "                }\n",
       "            }, 500);\n",
       "            "
      ],
      "text/plain": [
       "<IPython.core.display.Javascript object>"
      ]
     },
     "metadata": {},
     "output_type": "display_data"
    }
   ],
   "source": [
    "sns.barplot(x=\"Vaccinated\", y=\"AdoptionSpeed\", data=df)\n",
    "plt.show()"
   ]
  },
  {
   "cell_type": "markdown",
   "metadata": {},
   "source": [
    "### Dewormed"
   ]
  },
  {
   "cell_type": "code",
   "execution_count": 49,
   "metadata": {},
   "outputs": [
    {
     "data": {
      "text/plain": [
       "1    8397\n",
       "2    4815\n",
       "3    1781\n",
       "Name: Dewormed, dtype: int64"
      ]
     },
     "execution_count": 49,
     "metadata": {},
     "output_type": "execute_result"
    },
    {
     "data": {
      "application/javascript": [
       "\n",
       "            setTimeout(function() {\n",
       "                var nbb_cell_id = 49;\n",
       "                var nbb_unformatted_code = \"df[\\\"Dewormed\\\"].value_counts()\";\n",
       "                var nbb_formatted_code = \"df[\\\"Dewormed\\\"].value_counts()\";\n",
       "                var nbb_cells = Jupyter.notebook.get_cells();\n",
       "                for (var i = 0; i < nbb_cells.length; ++i) {\n",
       "                    if (nbb_cells[i].input_prompt_number == nbb_cell_id) {\n",
       "                        if (nbb_cells[i].get_text() == nbb_unformatted_code) {\n",
       "                             nbb_cells[i].set_text(nbb_formatted_code);\n",
       "                        }\n",
       "                        break;\n",
       "                    }\n",
       "                }\n",
       "            }, 500);\n",
       "            "
      ],
      "text/plain": [
       "<IPython.core.display.Javascript object>"
      ]
     },
     "metadata": {},
     "output_type": "display_data"
    }
   ],
   "source": [
    "df[\"Dewormed\"].value_counts()"
   ]
  },
  {
   "cell_type": "code",
   "execution_count": 50,
   "metadata": {},
   "outputs": [
    {
     "data": {
      "image/png": "[encoded data removed]",
      "text/plain": [
       "<Figure size 432x288 with 1 Axes>"
      ]
     },
     "metadata": {
      "needs_background": "light"
     },
     "output_type": "display_data"
    },
    {
     "data": {
      "application/javascript": [
       "\n",
       "            setTimeout(function() {\n",
       "                var nbb_cell_id = 50;\n",
       "                var nbb_unformatted_code = \"sns.barplot(x=\\\"Dewormed\\\", y=\\\"AdoptionSpeed\\\", data=df)\\nplt.show()\";\n",
       "                var nbb_formatted_code = \"sns.barplot(x=\\\"Dewormed\\\", y=\\\"AdoptionSpeed\\\", data=df)\\nplt.show()\";\n",
       "                var nbb_cells = Jupyter.notebook.get_cells();\n",
       "                for (var i = 0; i < nbb_cells.length; ++i) {\n",
       "                    if (nbb_cells[i].input_prompt_number == nbb_cell_id) {\n",
       "                        if (nbb_cells[i].get_text() == nbb_unformatted_code) {\n",
       "                             nbb_cells[i].set_text(nbb_formatted_code);\n",
       "                        }\n",
       "                        break;\n",
       "                    }\n",
       "                }\n",
       "            }, 500);\n",
       "            "
      ],
      "text/plain": [
       "<IPython.core.display.Javascript object>"
      ]
     },
     "metadata": {},
     "output_type": "display_data"
    }
   ],
   "source": [
    "sns.barplot(x=\"Dewormed\", y=\"AdoptionSpeed\", data=df)\n",
    "plt.show()"
   ]
  },
  {
   "cell_type": "markdown",
   "metadata": {},
   "source": [
    "### Sterilized"
   ]
  },
  {
   "cell_type": "code",
   "execution_count": 51,
   "metadata": {},
   "outputs": [
    {
     "data": {
      "text/plain": [
       "2    10077\n",
       "1     3101\n",
       "3     1815\n",
       "Name: Sterilized, dtype: int64"
      ]
     },
     "execution_count": 51,
     "metadata": {},
     "output_type": "execute_result"
    },
    {
     "data": {
      "application/javascript": [
       "\n",
       "            setTimeout(function() {\n",
       "                var nbb_cell_id = 51;\n",
       "                var nbb_unformatted_code = \"df[\\\"Sterilized\\\"].value_counts()\";\n",
       "                var nbb_formatted_code = \"df[\\\"Sterilized\\\"].value_counts()\";\n",
       "                var nbb_cells = Jupyter.notebook.get_cells();\n",
       "                for (var i = 0; i < nbb_cells.length; ++i) {\n",
       "                    if (nbb_cells[i].input_prompt_number == nbb_cell_id) {\n",
       "                        if (nbb_cells[i].get_text() == nbb_unformatted_code) {\n",
       "                             nbb_cells[i].set_text(nbb_formatted_code);\n",
       "                        }\n",
       "                        break;\n",
       "                    }\n",
       "                }\n",
       "            }, 500);\n",
       "            "
      ],
      "text/plain": [
       "<IPython.core.display.Javascript object>"
      ]
     },
     "metadata": {},
     "output_type": "display_data"
    }
   ],
   "source": [
    "df[\"Sterilized\"].value_counts()"
   ]
  },
  {
   "cell_type": "code",
   "execution_count": 52,
   "metadata": {},
   "outputs": [
    {
     "data": {
      "image/png": "[encoded data removed]",
      "text/plain": [
       "<Figure size 432x288 with 1 Axes>"
      ]
     },
     "metadata": {
      "needs_background": "light"
     },
     "output_type": "display_data"
    },
    {
     "data": {
      "application/javascript": [
       "\n",
       "            setTimeout(function() {\n",
       "                var nbb_cell_id = 52;\n",
       "                var nbb_unformatted_code = \"sns.boxplot(x=\\\"Sterilized\\\", y=\\\"AdoptionSpeed\\\", data=df)\\nplt.show()\";\n",
       "                var nbb_formatted_code = \"sns.boxplot(x=\\\"Sterilized\\\", y=\\\"AdoptionSpeed\\\", data=df)\\nplt.show()\";\n",
       "                var nbb_cells = Jupyter.notebook.get_cells();\n",
       "                for (var i = 0; i < nbb_cells.length; ++i) {\n",
       "                    if (nbb_cells[i].input_prompt_number == nbb_cell_id) {\n",
       "                        if (nbb_cells[i].get_text() == nbb_unformatted_code) {\n",
       "                             nbb_cells[i].set_text(nbb_formatted_code);\n",
       "                        }\n",
       "                        break;\n",
       "                    }\n",
       "                }\n",
       "            }, 500);\n",
       "            "
      ],
      "text/plain": [
       "<IPython.core.display.Javascript object>"
      ]
     },
     "metadata": {},
     "output_type": "display_data"
    }
   ],
   "source": [
    "sns.boxplot(x=\"Sterilized\", y=\"AdoptionSpeed\", data=df)\n",
    "plt.show()"
   ]
  },
  {
   "cell_type": "code",
   "execution_count": 53,
   "metadata": {},
   "outputs": [
    {
     "data": {
      "image/png": "[encoded data removed]",
      "text/plain": [
       "<Figure size 432x288 with 1 Axes>"
      ]
     },
     "metadata": {
      "needs_background": "light"
     },
     "output_type": "display_data"
    },
    {
     "data": {
      "image/png": "[encoded data removed]",
      "text/plain": [
       "<Figure size 432x288 with 1 Axes>"
      ]
     },
     "metadata": {
      "needs_background": "light"
     },
     "output_type": "display_data"
    },
    {
     "data": {
      "application/javascript": [
       "\n",
       "            setTimeout(function() {\n",
       "                var nbb_cell_id = 53;\n",
       "                var nbb_unformatted_code = \"sns.boxplot(x=\\\"Sterilized\\\", y=\\\"AdoptionSpeed\\\", data=df)\\nplt.ylabel(\\\"Adoption Time\\\")\\nplt.xlabel(\\\"\\\")\\nplt.xticks([0, 1, 2], labels=[\\\"Sterilized\\\", \\\"Not Sterilized\\\", \\\"Not Sure\\\"])\\nplt.title(\\\"Adoption Time vs Sterilization\\\")\\nplt.show()\\n# plt.savefig(\\\"ster_vs_AdoptSpeed.png\\\", dpi=1000)\\n\\nsns.boxplot(x=\\\"Sterilized\\\", y=\\\"age_t\\\", data=df)\\nplt.ylabel(\\\"Age\\\")\\nplt.xlabel(\\\"\\\")\\nplt.xticks([0, 1, 2], labels=[\\\"Sterilized\\\", \\\"Not Sterilized\\\", \\\"Not Sure\\\"])\\nplt.title(\\\"Age vs Sterilization\\\")\\n# plt.show()\\nplt.savefig(\\\"age_vs_ster.png\\\", dpi=1000)\";\n",
       "                var nbb_formatted_code = \"sns.boxplot(x=\\\"Sterilized\\\", y=\\\"AdoptionSpeed\\\", data=df)\\nplt.ylabel(\\\"Adoption Time\\\")\\nplt.xlabel(\\\"\\\")\\nplt.xticks([0, 1, 2], labels=[\\\"Sterilized\\\", \\\"Not Sterilized\\\", \\\"Not Sure\\\"])\\nplt.title(\\\"Adoption Time vs Sterilization\\\")\\nplt.show()\\n# plt.savefig(\\\"ster_vs_AdoptSpeed.png\\\", dpi=1000)\\n\\nsns.boxplot(x=\\\"Sterilized\\\", y=\\\"age_t\\\", data=df)\\nplt.ylabel(\\\"Age\\\")\\nplt.xlabel(\\\"\\\")\\nplt.xticks([0, 1, 2], labels=[\\\"Sterilized\\\", \\\"Not Sterilized\\\", \\\"Not Sure\\\"])\\nplt.title(\\\"Age vs Sterilization\\\")\\n# plt.show()\\nplt.savefig(\\\"age_vs_ster.png\\\", dpi=1000)\";\n",
       "                var nbb_cells = Jupyter.notebook.get_cells();\n",
       "                for (var i = 0; i < nbb_cells.length; ++i) {\n",
       "                    if (nbb_cells[i].input_prompt_number == nbb_cell_id) {\n",
       "                        if (nbb_cells[i].get_text() == nbb_unformatted_code) {\n",
       "                             nbb_cells[i].set_text(nbb_formatted_code);\n",
       "                        }\n",
       "                        break;\n",
       "                    }\n",
       "                }\n",
       "            }, 500);\n",
       "            "
      ],
      "text/plain": [
       "<IPython.core.display.Javascript object>"
      ]
     },
     "metadata": {},
     "output_type": "display_data"
    }
   ],
   "source": [
    "sns.boxplot(x=\"Sterilized\", y=\"AdoptionSpeed\", data=df)\n",
    "plt.ylabel(\"Adoption Time\")\n",
    "plt.xlabel(\"\")\n",
    "plt.xticks([0, 1, 2], labels=[\"Sterilized\", \"Not Sterilized\", \"Not Sure\"])\n",
    "plt.title(\"Adoption Time vs Sterilization\")\n",
    "plt.show()\n",
    "# plt.savefig(\"ster_vs_AdoptSpeed.png\", dpi=1000)\n",
    "\n",
    "sns.boxplot(x=\"Sterilized\", y=\"age_t\", data=df)\n",
    "plt.ylabel(\"Age\")\n",
    "plt.xlabel(\"\")\n",
    "plt.xticks([0, 1, 2], labels=[\"Sterilized\", \"Not Sterilized\", \"Not Sure\"])\n",
    "plt.title(\"Age vs Sterilization\")\n",
    "# plt.show()\n",
    "plt.savefig(\"age_vs_ster.png\", dpi=1000)"
   ]
  },
  {
   "cell_type": "code",
   "execution_count": 54,
   "metadata": {},
   "outputs": [
    {
     "name": "stderr",
     "output_type": "stream",
     "text": [
      "/opt/anaconda3/lib/python3.7/site-packages/scipy/stats/stats.py:5700: RuntimeWarning: divide by zero encountered in double_scalars\n",
      "  z = (bigu - meanrank) / sd\n"
     ]
    },
    {
     "data": {
      "text/plain": [
       "0.0"
      ]
     },
     "execution_count": 54,
     "metadata": {},
     "output_type": "execute_result"
    },
    {
     "data": {
      "application/javascript": [
       "\n",
       "            setTimeout(function() {\n",
       "                var nbb_cell_id = 54;\n",
       "                var nbb_unformatted_code = \"ster_df = df[df[\\\"Sterilized\\\"] == 0]\\nnotster_df = df[df[\\\"Sterilized\\\"] == 1]\\nster_adoptionspeeds = np.array(ster_df[\\\"AdoptionSpeed\\\"])\\nnotster_adoptionspeeds = np.array(notster_df[\\\"AdoptionSpeed\\\"])\\n\\n_, p = mannwhitneyu(ster_adoptionspeeds, notster_adoptionspeeds)\\np\";\n",
       "                var nbb_formatted_code = \"ster_df = df[df[\\\"Sterilized\\\"] == 0]\\nnotster_df = df[df[\\\"Sterilized\\\"] == 1]\\nster_adoptionspeeds = np.array(ster_df[\\\"AdoptionSpeed\\\"])\\nnotster_adoptionspeeds = np.array(notster_df[\\\"AdoptionSpeed\\\"])\\n\\n_, p = mannwhitneyu(ster_adoptionspeeds, notster_adoptionspeeds)\\np\";\n",
       "                var nbb_cells = Jupyter.notebook.get_cells();\n",
       "                for (var i = 0; i < nbb_cells.length; ++i) {\n",
       "                    if (nbb_cells[i].input_prompt_number == nbb_cell_id) {\n",
       "                        if (nbb_cells[i].get_text() == nbb_unformatted_code) {\n",
       "                             nbb_cells[i].set_text(nbb_formatted_code);\n",
       "                        }\n",
       "                        break;\n",
       "                    }\n",
       "                }\n",
       "            }, 500);\n",
       "            "
      ],
      "text/plain": [
       "<IPython.core.display.Javascript object>"
      ]
     },
     "metadata": {},
     "output_type": "display_data"
    }
   ],
   "source": [
    "ster_df = df[df[\"Sterilized\"] == 0]\n",
    "notster_df = df[df[\"Sterilized\"] == 1]\n",
    "ster_adoptionspeeds = np.array(ster_df[\"AdoptionSpeed\"])\n",
    "notster_adoptionspeeds = np.array(notster_df[\"AdoptionSpeed\"])\n",
    "\n",
    "_, p = mannwhitneyu(ster_adoptionspeeds, notster_adoptionspeeds)\n",
    "p"
   ]
  },
  {
   "cell_type": "markdown",
   "metadata": {},
   "source": [
    "Interesting that more are not sterilized than are, but the adoption speed is less for non-sterilized animals, though I'm guessing this a function of age.\n",
    "\n",
    "#TODO: tease out the relationship between age and sterilized, vaccinated, and dewormed.\n",
    "\n",
    "Also, the sterilized, vaccinated, and dewormed categories look collinear.  I'm guessing a dog or cat that has been sterilized must have already been dewormed and vaccinated."
   ]
  },
  {
   "cell_type": "markdown",
   "metadata": {},
   "source": [
    "### Health"
   ]
  },
  {
   "cell_type": "code",
   "execution_count": 55,
   "metadata": {},
   "outputs": [
    {
     "data": {
      "text/plain": [
       "1    14478\n",
       "2      481\n",
       "3       34\n",
       "Name: Health, dtype: int64"
      ]
     },
     "execution_count": 55,
     "metadata": {},
     "output_type": "execute_result"
    },
    {
     "data": {
      "application/javascript": [
       "\n",
       "            setTimeout(function() {\n",
       "                var nbb_cell_id = 55;\n",
       "                var nbb_unformatted_code = \"df[\\\"Health\\\"].value_counts()\";\n",
       "                var nbb_formatted_code = \"df[\\\"Health\\\"].value_counts()\";\n",
       "                var nbb_cells = Jupyter.notebook.get_cells();\n",
       "                for (var i = 0; i < nbb_cells.length; ++i) {\n",
       "                    if (nbb_cells[i].input_prompt_number == nbb_cell_id) {\n",
       "                        if (nbb_cells[i].get_text() == nbb_unformatted_code) {\n",
       "                             nbb_cells[i].set_text(nbb_formatted_code);\n",
       "                        }\n",
       "                        break;\n",
       "                    }\n",
       "                }\n",
       "            }, 500);\n",
       "            "
      ],
      "text/plain": [
       "<IPython.core.display.Javascript object>"
      ]
     },
     "metadata": {},
     "output_type": "display_data"
    }
   ],
   "source": [
    "df[\"Health\"].value_counts()"
   ]
  },
  {
   "cell_type": "code",
   "execution_count": 56,
   "metadata": {},
   "outputs": [
    {
     "data": {
      "image/png": "[encoded data removed]",
      "text/plain": [
       "<Figure size 432x288 with 1 Axes>"
      ]
     },
     "metadata": {
      "needs_background": "light"
     },
     "output_type": "display_data"
    },
    {
     "data": {
      "application/javascript": [
       "\n",
       "            setTimeout(function() {\n",
       "                var nbb_cell_id = 56;\n",
       "                var nbb_unformatted_code = \"sns.barplot(x=\\\"Health\\\", y=\\\"AdoptionSpeed\\\", data=df)\\nplt.show()\";\n",
       "                var nbb_formatted_code = \"sns.barplot(x=\\\"Health\\\", y=\\\"AdoptionSpeed\\\", data=df)\\nplt.show()\";\n",
       "                var nbb_cells = Jupyter.notebook.get_cells();\n",
       "                for (var i = 0; i < nbb_cells.length; ++i) {\n",
       "                    if (nbb_cells[i].input_prompt_number == nbb_cell_id) {\n",
       "                        if (nbb_cells[i].get_text() == nbb_unformatted_code) {\n",
       "                             nbb_cells[i].set_text(nbb_formatted_code);\n",
       "                        }\n",
       "                        break;\n",
       "                    }\n",
       "                }\n",
       "            }, 500);\n",
       "            "
      ],
      "text/plain": [
       "<IPython.core.display.Javascript object>"
      ]
     },
     "metadata": {},
     "output_type": "display_data"
    }
   ],
   "source": [
    "sns.barplot(x=\"Health\", y=\"AdoptionSpeed\", data=df)\n",
    "plt.show()"
   ]
  },
  {
   "cell_type": "markdown",
   "metadata": {},
   "source": [
    "Combining 2s and 3s into an \"is_injured\" category."
   ]
  },
  {
   "cell_type": "code",
   "execution_count": 57,
   "metadata": {},
   "outputs": [
    {
     "data": {
      "application/javascript": [
       "\n",
       "            setTimeout(function() {\n",
       "                var nbb_cell_id = 57;\n",
       "                var nbb_unformatted_code = \"is_injured = []\\n\\nfor i in range(0, len(df[\\\"Health\\\"])):\\n    if df[\\\"Health\\\"][i] >= 2:\\n        is_injured.append(1)\\n    else:\\n        is_injured.append(0)\\n\\ndf[\\\"is_injured\\\"] = is_injured\";\n",
       "                var nbb_formatted_code = \"is_injured = []\\n\\nfor i in range(0, len(df[\\\"Health\\\"])):\\n    if df[\\\"Health\\\"][i] >= 2:\\n        is_injured.append(1)\\n    else:\\n        is_injured.append(0)\\n\\ndf[\\\"is_injured\\\"] = is_injured\";\n",
       "                var nbb_cells = Jupyter.notebook.get_cells();\n",
       "                for (var i = 0; i < nbb_cells.length; ++i) {\n",
       "                    if (nbb_cells[i].input_prompt_number == nbb_cell_id) {\n",
       "                        if (nbb_cells[i].get_text() == nbb_unformatted_code) {\n",
       "                             nbb_cells[i].set_text(nbb_formatted_code);\n",
       "                        }\n",
       "                        break;\n",
       "                    }\n",
       "                }\n",
       "            }, 500);\n",
       "            "
      ],
      "text/plain": [
       "<IPython.core.display.Javascript object>"
      ]
     },
     "metadata": {},
     "output_type": "display_data"
    }
   ],
   "source": [
    "is_injured = []\n",
    "\n",
    "for i in range(0, len(df[\"Health\"])):\n",
    "    if df[\"Health\"][i] >= 2:\n",
    "        is_injured.append(1)\n",
    "    else:\n",
    "        is_injured.append(0)\n",
    "\n",
    "df[\"is_injured\"] = is_injured"
   ]
  },
  {
   "cell_type": "code",
   "execution_count": 58,
   "metadata": {},
   "outputs": [
    {
     "data": {
      "text/plain": [
       "0    14478\n",
       "1      515\n",
       "Name: is_injured, dtype: int64"
      ]
     },
     "execution_count": 58,
     "metadata": {},
     "output_type": "execute_result"
    },
    {
     "data": {
      "application/javascript": [
       "\n",
       "            setTimeout(function() {\n",
       "                var nbb_cell_id = 58;\n",
       "                var nbb_unformatted_code = \"df[\\\"is_injured\\\"].value_counts()\";\n",
       "                var nbb_formatted_code = \"df[\\\"is_injured\\\"].value_counts()\";\n",
       "                var nbb_cells = Jupyter.notebook.get_cells();\n",
       "                for (var i = 0; i < nbb_cells.length; ++i) {\n",
       "                    if (nbb_cells[i].input_prompt_number == nbb_cell_id) {\n",
       "                        if (nbb_cells[i].get_text() == nbb_unformatted_code) {\n",
       "                             nbb_cells[i].set_text(nbb_formatted_code);\n",
       "                        }\n",
       "                        break;\n",
       "                    }\n",
       "                }\n",
       "            }, 500);\n",
       "            "
      ],
      "text/plain": [
       "<IPython.core.display.Javascript object>"
      ]
     },
     "metadata": {},
     "output_type": "display_data"
    }
   ],
   "source": [
    "df[\"is_injured\"].value_counts()"
   ]
  },
  {
   "cell_type": "code",
   "execution_count": 59,
   "metadata": {},
   "outputs": [
    {
     "data": {
      "image/png": "[encoded data removed]",
      "text/plain": [
       "<Figure size 432x288 with 1 Axes>"
      ]
     },
     "metadata": {
      "needs_background": "light"
     },
     "output_type": "display_data"
    },
    {
     "data": {
      "application/javascript": [
       "\n",
       "            setTimeout(function() {\n",
       "                var nbb_cell_id = 59;\n",
       "                var nbb_unformatted_code = \"sns.barplot(x=\\\"is_injured\\\", y=\\\"AdoptionSpeed\\\", data=df)\\nplt.show()\";\n",
       "                var nbb_formatted_code = \"sns.barplot(x=\\\"is_injured\\\", y=\\\"AdoptionSpeed\\\", data=df)\\nplt.show()\";\n",
       "                var nbb_cells = Jupyter.notebook.get_cells();\n",
       "                for (var i = 0; i < nbb_cells.length; ++i) {\n",
       "                    if (nbb_cells[i].input_prompt_number == nbb_cell_id) {\n",
       "                        if (nbb_cells[i].get_text() == nbb_unformatted_code) {\n",
       "                             nbb_cells[i].set_text(nbb_formatted_code);\n",
       "                        }\n",
       "                        break;\n",
       "                    }\n",
       "                }\n",
       "            }, 500);\n",
       "            "
      ],
      "text/plain": [
       "<IPython.core.display.Javascript object>"
      ]
     },
     "metadata": {},
     "output_type": "display_data"
    }
   ],
   "source": [
    "sns.barplot(x=\"is_injured\", y=\"AdoptionSpeed\", data=df)\n",
    "plt.show()"
   ]
  },
  {
   "cell_type": "markdown",
   "metadata": {},
   "source": [
    "### Quantity"
   ]
  },
  {
   "cell_type": "code",
   "execution_count": 60,
   "metadata": {},
   "outputs": [
    {
     "data": {
      "text/plain": [
       "1     11565\n",
       "2      1422\n",
       "3       726\n",
       "4       531\n",
       "5       333\n",
       "6       185\n",
       "7        84\n",
       "8        52\n",
       "9        33\n",
       "10       19\n",
       "20       12\n",
       "11       10\n",
       "12        6\n",
       "15        4\n",
       "17        3\n",
       "16        3\n",
       "13        2\n",
       "14        2\n",
       "18        1\n",
       "Name: Quantity, dtype: int64"
      ]
     },
     "execution_count": 60,
     "metadata": {},
     "output_type": "execute_result"
    },
    {
     "data": {
      "application/javascript": [
       "\n",
       "            setTimeout(function() {\n",
       "                var nbb_cell_id = 60;\n",
       "                var nbb_unformatted_code = \"df[\\\"Quantity\\\"].value_counts()\";\n",
       "                var nbb_formatted_code = \"df[\\\"Quantity\\\"].value_counts()\";\n",
       "                var nbb_cells = Jupyter.notebook.get_cells();\n",
       "                for (var i = 0; i < nbb_cells.length; ++i) {\n",
       "                    if (nbb_cells[i].input_prompt_number == nbb_cell_id) {\n",
       "                        if (nbb_cells[i].get_text() == nbb_unformatted_code) {\n",
       "                             nbb_cells[i].set_text(nbb_formatted_code);\n",
       "                        }\n",
       "                        break;\n",
       "                    }\n",
       "                }\n",
       "            }, 500);\n",
       "            "
      ],
      "text/plain": [
       "<IPython.core.display.Javascript object>"
      ]
     },
     "metadata": {},
     "output_type": "display_data"
    }
   ],
   "source": [
    "df[\"Quantity\"].value_counts()"
   ]
  },
  {
   "cell_type": "markdown",
   "metadata": {},
   "source": [
    "Combining all quantities greater than 4 into a 5-and-up category..."
   ]
  },
  {
   "cell_type": "code",
   "execution_count": 61,
   "metadata": {},
   "outputs": [
    {
     "data": {
      "application/javascript": [
       "\n",
       "            setTimeout(function() {\n",
       "                var nbb_cell_id = 61;\n",
       "                var nbb_unformatted_code = \"new_quant = []\\n\\nfor quant in df[\\\"Quantity\\\"]:\\n    if quant > 4:\\n        new_quant.append(5)\\n    else:\\n        new_quant.append(quant)\\n\\ndf[\\\"1_5_quantity\\\"] = new_quant\";\n",
       "                var nbb_formatted_code = \"new_quant = []\\n\\nfor quant in df[\\\"Quantity\\\"]:\\n    if quant > 4:\\n        new_quant.append(5)\\n    else:\\n        new_quant.append(quant)\\n\\ndf[\\\"1_5_quantity\\\"] = new_quant\";\n",
       "                var nbb_cells = Jupyter.notebook.get_cells();\n",
       "                for (var i = 0; i < nbb_cells.length; ++i) {\n",
       "                    if (nbb_cells[i].input_prompt_number == nbb_cell_id) {\n",
       "                        if (nbb_cells[i].get_text() == nbb_unformatted_code) {\n",
       "                             nbb_cells[i].set_text(nbb_formatted_code);\n",
       "                        }\n",
       "                        break;\n",
       "                    }\n",
       "                }\n",
       "            }, 500);\n",
       "            "
      ],
      "text/plain": [
       "<IPython.core.display.Javascript object>"
      ]
     },
     "metadata": {},
     "output_type": "display_data"
    }
   ],
   "source": [
    "new_quant = []\n",
    "\n",
    "for quant in df[\"Quantity\"]:\n",
    "    if quant > 4:\n",
    "        new_quant.append(5)\n",
    "    else:\n",
    "        new_quant.append(quant)\n",
    "\n",
    "df[\"1_5_quantity\"] = new_quant"
   ]
  },
  {
   "cell_type": "code",
   "execution_count": 62,
   "metadata": {},
   "outputs": [
    {
     "data": {
      "text/plain": [
       "1    11565\n",
       "2     1422\n",
       "5      749\n",
       "3      726\n",
       "4      531\n",
       "Name: 1_5_quantity, dtype: int64"
      ]
     },
     "execution_count": 62,
     "metadata": {},
     "output_type": "execute_result"
    },
    {
     "data": {
      "application/javascript": [
       "\n",
       "            setTimeout(function() {\n",
       "                var nbb_cell_id = 62;\n",
       "                var nbb_unformatted_code = \"df[\\\"1_5_quantity\\\"].value_counts()\";\n",
       "                var nbb_formatted_code = \"df[\\\"1_5_quantity\\\"].value_counts()\";\n",
       "                var nbb_cells = Jupyter.notebook.get_cells();\n",
       "                for (var i = 0; i < nbb_cells.length; ++i) {\n",
       "                    if (nbb_cells[i].input_prompt_number == nbb_cell_id) {\n",
       "                        if (nbb_cells[i].get_text() == nbb_unformatted_code) {\n",
       "                             nbb_cells[i].set_text(nbb_formatted_code);\n",
       "                        }\n",
       "                        break;\n",
       "                    }\n",
       "                }\n",
       "            }, 500);\n",
       "            "
      ],
      "text/plain": [
       "<IPython.core.display.Javascript object>"
      ]
     },
     "metadata": {},
     "output_type": "display_data"
    }
   ],
   "source": [
    "df[\"1_5_quantity\"].value_counts()"
   ]
  },
  {
   "cell_type": "code",
   "execution_count": 63,
   "metadata": {},
   "outputs": [
    {
     "data": {
      "image/png": "[encoded data removed]",
      "text/plain": [
       "<Figure size 432x288 with 1 Axes>"
      ]
     },
     "metadata": {
      "needs_background": "light"
     },
     "output_type": "display_data"
    },
    {
     "data": {
      "application/javascript": [
       "\n",
       "            setTimeout(function() {\n",
       "                var nbb_cell_id = 63;\n",
       "                var nbb_unformatted_code = \"sns.barplot(x=\\\"1_5_quantity\\\", y=\\\"AdoptionSpeed\\\", data=df)\\nplt.show()\";\n",
       "                var nbb_formatted_code = \"sns.barplot(x=\\\"1_5_quantity\\\", y=\\\"AdoptionSpeed\\\", data=df)\\nplt.show()\";\n",
       "                var nbb_cells = Jupyter.notebook.get_cells();\n",
       "                for (var i = 0; i < nbb_cells.length; ++i) {\n",
       "                    if (nbb_cells[i].input_prompt_number == nbb_cell_id) {\n",
       "                        if (nbb_cells[i].get_text() == nbb_unformatted_code) {\n",
       "                             nbb_cells[i].set_text(nbb_formatted_code);\n",
       "                        }\n",
       "                        break;\n",
       "                    }\n",
       "                }\n",
       "            }, 500);\n",
       "            "
      ],
      "text/plain": [
       "<IPython.core.display.Javascript object>"
      ]
     },
     "metadata": {},
     "output_type": "display_data"
    }
   ],
   "source": [
    "sns.barplot(x=\"1_5_quantity\", y=\"AdoptionSpeed\", data=df)\n",
    "plt.show()"
   ]
  },
  {
   "cell_type": "markdown",
   "metadata": {},
   "source": [
    "Let's see if throwing out all of the records with more than 1 adoptable animal helps our model..."
   ]
  },
  {
   "cell_type": "code",
   "execution_count": 64,
   "metadata": {},
   "outputs": [
    {
     "data": {
      "application/javascript": [
       "\n",
       "            setTimeout(function() {\n",
       "                var nbb_cell_id = 64;\n",
       "                var nbb_unformatted_code = \"# df = df[df[\\\"Quantity\\\"] == 1]\";\n",
       "                var nbb_formatted_code = \"# df = df[df[\\\"Quantity\\\"] == 1]\";\n",
       "                var nbb_cells = Jupyter.notebook.get_cells();\n",
       "                for (var i = 0; i < nbb_cells.length; ++i) {\n",
       "                    if (nbb_cells[i].input_prompt_number == nbb_cell_id) {\n",
       "                        if (nbb_cells[i].get_text() == nbb_unformatted_code) {\n",
       "                             nbb_cells[i].set_text(nbb_formatted_code);\n",
       "                        }\n",
       "                        break;\n",
       "                    }\n",
       "                }\n",
       "            }, 500);\n",
       "            "
      ],
      "text/plain": [
       "<IPython.core.display.Javascript object>"
      ]
     },
     "metadata": {},
     "output_type": "display_data"
    }
   ],
   "source": [
    "# df = df[df[\"Quantity\"] == 1]"
   ]
  },
  {
   "cell_type": "markdown",
   "metadata": {},
   "source": [
    "### Fee"
   ]
  },
  {
   "cell_type": "code",
   "execution_count": 65,
   "metadata": {},
   "outputs": [
    {
     "data": {
      "text/plain": [
       "0      12663\n",
       "50       468\n",
       "100      408\n",
       "200      219\n",
       "150      162\n",
       "20       136\n",
       "300      120\n",
       "30       103\n",
       "250       92\n",
       "1         82\n",
       "Name: Fee, dtype: int64"
      ]
     },
     "execution_count": 65,
     "metadata": {},
     "output_type": "execute_result"
    },
    {
     "data": {
      "application/javascript": [
       "\n",
       "            setTimeout(function() {\n",
       "                var nbb_cell_id = 65;\n",
       "                var nbb_unformatted_code = \"df[\\\"Fee\\\"].value_counts().head(10)\";\n",
       "                var nbb_formatted_code = \"df[\\\"Fee\\\"].value_counts().head(10)\";\n",
       "                var nbb_cells = Jupyter.notebook.get_cells();\n",
       "                for (var i = 0; i < nbb_cells.length; ++i) {\n",
       "                    if (nbb_cells[i].input_prompt_number == nbb_cell_id) {\n",
       "                        if (nbb_cells[i].get_text() == nbb_unformatted_code) {\n",
       "                             nbb_cells[i].set_text(nbb_formatted_code);\n",
       "                        }\n",
       "                        break;\n",
       "                    }\n",
       "                }\n",
       "            }, 500);\n",
       "            "
      ],
      "text/plain": [
       "<IPython.core.display.Javascript object>"
      ]
     },
     "metadata": {},
     "output_type": "display_data"
    }
   ],
   "source": [
    "df[\"Fee\"].value_counts().head(10)"
   ]
  },
  {
   "cell_type": "code",
   "execution_count": 66,
   "metadata": {},
   "outputs": [
    {
     "data": {
      "image/png": "[encoded data removed]",
      "text/plain": [
       "<Figure size 432x288 with 1 Axes>"
      ]
     },
     "metadata": {
      "needs_background": "light"
     },
     "output_type": "display_data"
    },
    {
     "data": {
      "application/javascript": [
       "\n",
       "            setTimeout(function() {\n",
       "                var nbb_cell_id = 66;\n",
       "                var nbb_unformatted_code = \"df[\\\"Fee\\\"].hist()\\nplt.show()\";\n",
       "                var nbb_formatted_code = \"df[\\\"Fee\\\"].hist()\\nplt.show()\";\n",
       "                var nbb_cells = Jupyter.notebook.get_cells();\n",
       "                for (var i = 0; i < nbb_cells.length; ++i) {\n",
       "                    if (nbb_cells[i].input_prompt_number == nbb_cell_id) {\n",
       "                        if (nbb_cells[i].get_text() == nbb_unformatted_code) {\n",
       "                             nbb_cells[i].set_text(nbb_formatted_code);\n",
       "                        }\n",
       "                        break;\n",
       "                    }\n",
       "                }\n",
       "            }, 500);\n",
       "            "
      ],
      "text/plain": [
       "<IPython.core.display.Javascript object>"
      ]
     },
     "metadata": {},
     "output_type": "display_data"
    }
   ],
   "source": [
    "df[\"Fee\"].hist()\n",
    "plt.show()"
   ]
  },
  {
   "cell_type": "markdown",
   "metadata": {},
   "source": [
    "Another very right-skewed distribution...Let's try transforming this like we did with age..."
   ]
  },
  {
   "cell_type": "code",
   "execution_count": 67,
   "metadata": {},
   "outputs": [
    {
     "data": {
      "image/png": "[encoded data removed]",
      "text/plain": [
       "<Figure size 432x288 with 1 Axes>"
      ]
     },
     "metadata": {
      "needs_background": "light"
     },
     "output_type": "display_data"
    },
    {
     "data": {
      "application/javascript": [
       "\n",
       "            setTimeout(function() {\n",
       "                var nbb_cell_id = 67;\n",
       "                var nbb_unformatted_code = \"fee = df[\\\"Fee\\\"].to_numpy() + 1\\ndf[\\\"fee_t\\\"] = np.log(fee + 1)\\n\\ndf[\\\"fee_t\\\"].hist()\\nplt.show()\";\n",
       "                var nbb_formatted_code = \"fee = df[\\\"Fee\\\"].to_numpy() + 1\\ndf[\\\"fee_t\\\"] = np.log(fee + 1)\\n\\ndf[\\\"fee_t\\\"].hist()\\nplt.show()\";\n",
       "                var nbb_cells = Jupyter.notebook.get_cells();\n",
       "                for (var i = 0; i < nbb_cells.length; ++i) {\n",
       "                    if (nbb_cells[i].input_prompt_number == nbb_cell_id) {\n",
       "                        if (nbb_cells[i].get_text() == nbb_unformatted_code) {\n",
       "                             nbb_cells[i].set_text(nbb_formatted_code);\n",
       "                        }\n",
       "                        break;\n",
       "                    }\n",
       "                }\n",
       "            }, 500);\n",
       "            "
      ],
      "text/plain": [
       "<IPython.core.display.Javascript object>"
      ]
     },
     "metadata": {},
     "output_type": "display_data"
    }
   ],
   "source": [
    "fee = df[\"Fee\"].to_numpy() + 1\n",
    "df[\"fee_t\"] = np.log(fee + 1)\n",
    "\n",
    "df[\"fee_t\"].hist()\n",
    "plt.show()"
   ]
  },
  {
   "cell_type": "markdown",
   "metadata": {},
   "source": [
    "Ew, that transformation didn't work.  Let's just try creating binary is_free column."
   ]
  },
  {
   "cell_type": "code",
   "execution_count": 68,
   "metadata": {},
   "outputs": [
    {
     "data": {
      "text/plain": [
       "1    12663\n",
       "0     2330\n",
       "Name: is_free, dtype: int64"
      ]
     },
     "execution_count": 68,
     "metadata": {},
     "output_type": "execute_result"
    },
    {
     "data": {
      "application/javascript": [
       "\n",
       "            setTimeout(function() {\n",
       "                var nbb_cell_id = 68;\n",
       "                var nbb_unformatted_code = \"is_free = []\\nfees = df[\\\"Fee\\\"]\\n\\nfor fee in fees:\\n    if fee == 0:\\n        is_free.append(1)\\n    else:\\n        is_free.append(0)\\n\\ndf[\\\"is_free\\\"] = is_free\\ndf[\\\"is_free\\\"].value_counts()\";\n",
       "                var nbb_formatted_code = \"is_free = []\\nfees = df[\\\"Fee\\\"]\\n\\nfor fee in fees:\\n    if fee == 0:\\n        is_free.append(1)\\n    else:\\n        is_free.append(0)\\n\\ndf[\\\"is_free\\\"] = is_free\\ndf[\\\"is_free\\\"].value_counts()\";\n",
       "                var nbb_cells = Jupyter.notebook.get_cells();\n",
       "                for (var i = 0; i < nbb_cells.length; ++i) {\n",
       "                    if (nbb_cells[i].input_prompt_number == nbb_cell_id) {\n",
       "                        if (nbb_cells[i].get_text() == nbb_unformatted_code) {\n",
       "                             nbb_cells[i].set_text(nbb_formatted_code);\n",
       "                        }\n",
       "                        break;\n",
       "                    }\n",
       "                }\n",
       "            }, 500);\n",
       "            "
      ],
      "text/plain": [
       "<IPython.core.display.Javascript object>"
      ]
     },
     "metadata": {},
     "output_type": "display_data"
    }
   ],
   "source": [
    "is_free = []\n",
    "fees = df[\"Fee\"]\n",
    "\n",
    "for fee in fees:\n",
    "    if fee == 0:\n",
    "        is_free.append(1)\n",
    "    else:\n",
    "        is_free.append(0)\n",
    "\n",
    "df[\"is_free\"] = is_free\n",
    "df[\"is_free\"].value_counts()"
   ]
  },
  {
   "cell_type": "code",
   "execution_count": 69,
   "metadata": {},
   "outputs": [
    {
     "data": {
      "image/png": "[encoded data removed]",
      "text/plain": [
       "<Figure size 432x288 with 1 Axes>"
      ]
     },
     "metadata": {
      "needs_background": "light"
     },
     "output_type": "display_data"
    },
    {
     "data": {
      "application/javascript": [
       "\n",
       "            setTimeout(function() {\n",
       "                var nbb_cell_id = 69;\n",
       "                var nbb_unformatted_code = \"sns.barplot(x=\\\"is_free\\\", y=\\\"AdoptionSpeed\\\", data=df)\\nplt.show()\";\n",
       "                var nbb_formatted_code = \"sns.barplot(x=\\\"is_free\\\", y=\\\"AdoptionSpeed\\\", data=df)\\nplt.show()\";\n",
       "                var nbb_cells = Jupyter.notebook.get_cells();\n",
       "                for (var i = 0; i < nbb_cells.length; ++i) {\n",
       "                    if (nbb_cells[i].input_prompt_number == nbb_cell_id) {\n",
       "                        if (nbb_cells[i].get_text() == nbb_unformatted_code) {\n",
       "                             nbb_cells[i].set_text(nbb_formatted_code);\n",
       "                        }\n",
       "                        break;\n",
       "                    }\n",
       "                }\n",
       "            }, 500);\n",
       "            "
      ],
      "text/plain": [
       "<IPython.core.display.Javascript object>"
      ]
     },
     "metadata": {},
     "output_type": "display_data"
    }
   ],
   "source": [
    "sns.barplot(x=\"is_free\", y=\"AdoptionSpeed\", data=df)\n",
    "plt.show()"
   ]
  },
  {
   "cell_type": "markdown",
   "metadata": {},
   "source": [
    "### State"
   ]
  },
  {
   "cell_type": "markdown",
   "metadata": {},
   "source": [
    "Will one-hot-encode this feature."
   ]
  },
  {
   "cell_type": "markdown",
   "metadata": {},
   "source": [
    "### RescuerID"
   ]
  },
  {
   "cell_type": "code",
   "execution_count": 70,
   "metadata": {},
   "outputs": [
    {
     "data": {
      "text/plain": [
       "fa90fa5b1ee11c86938398b60abc32cb    459\n",
       "aa66486163b6cbc25ea62a34b11c9b91    315\n",
       "c00756f2bdd8fa88fc9f07a8309f7d5d    231\n",
       "b53c34474d9e24574bcec6a3d3306a0d    228\n",
       "ee2747ce26468ec44c7194e7d1d9dad9    156\n",
       "95481e953f8aed9ec3d16fc4509537e8    134\n",
       "b770bac0ca797cf1433c48a35d30c4cb    111\n",
       "a042471e0f43f2cf707104a1a138a7df     95\n",
       "fd970cc91d06d82eebf046340137b272     93\n",
       "7ed6d84e2e6879245e55447aee39c328     85\n",
       "Name: RescuerID, dtype: int64"
      ]
     },
     "execution_count": 70,
     "metadata": {},
     "output_type": "execute_result"
    },
    {
     "data": {
      "application/javascript": [
       "\n",
       "            setTimeout(function() {\n",
       "                var nbb_cell_id = 70;\n",
       "                var nbb_unformatted_code = \"df[\\\"RescuerID\\\"].value_counts().head(10)\";\n",
       "                var nbb_formatted_code = \"df[\\\"RescuerID\\\"].value_counts().head(10)\";\n",
       "                var nbb_cells = Jupyter.notebook.get_cells();\n",
       "                for (var i = 0; i < nbb_cells.length; ++i) {\n",
       "                    if (nbb_cells[i].input_prompt_number == nbb_cell_id) {\n",
       "                        if (nbb_cells[i].get_text() == nbb_unformatted_code) {\n",
       "                             nbb_cells[i].set_text(nbb_formatted_code);\n",
       "                        }\n",
       "                        break;\n",
       "                    }\n",
       "                }\n",
       "            }, 500);\n",
       "            "
      ],
      "text/plain": [
       "<IPython.core.display.Javascript object>"
      ]
     },
     "metadata": {},
     "output_type": "display_data"
    }
   ],
   "source": [
    "df[\"RescuerID\"].value_counts().head(10)"
   ]
  },
  {
   "cell_type": "markdown",
   "metadata": {},
   "source": [
    "Creating an \"is_top_10_rescue\" column that flags whether pet is from a rescue that has some of the most entries."
   ]
  },
  {
   "cell_type": "code",
   "execution_count": 71,
   "metadata": {},
   "outputs": [
    {
     "data": {
      "application/javascript": [
       "\n",
       "            setTimeout(function() {\n",
       "                var nbb_cell_id = 71;\n",
       "                var nbb_unformatted_code = \"id_list = list(df[\\\"RescuerID\\\"].value_counts().index)\\ntop_10_rescues = id_list[0:10]\\n\\nrescue_col = df[\\\"RescuerID\\\"]\\nnew_rescues_arr = []\\n\\nfor rescue in rescue_col:\\n    if rescue in top_10_rescues:\\n        new_rescues_arr.append(1)\\n    else:\\n        new_rescues_arr.append(0)\\n\\ndf[\\\"is_top_10_rescue\\\"] = new_rescues_arr\";\n",
       "                var nbb_formatted_code = \"id_list = list(df[\\\"RescuerID\\\"].value_counts().index)\\ntop_10_rescues = id_list[0:10]\\n\\nrescue_col = df[\\\"RescuerID\\\"]\\nnew_rescues_arr = []\\n\\nfor rescue in rescue_col:\\n    if rescue in top_10_rescues:\\n        new_rescues_arr.append(1)\\n    else:\\n        new_rescues_arr.append(0)\\n\\ndf[\\\"is_top_10_rescue\\\"] = new_rescues_arr\";\n",
       "                var nbb_cells = Jupyter.notebook.get_cells();\n",
       "                for (var i = 0; i < nbb_cells.length; ++i) {\n",
       "                    if (nbb_cells[i].input_prompt_number == nbb_cell_id) {\n",
       "                        if (nbb_cells[i].get_text() == nbb_unformatted_code) {\n",
       "                             nbb_cells[i].set_text(nbb_formatted_code);\n",
       "                        }\n",
       "                        break;\n",
       "                    }\n",
       "                }\n",
       "            }, 500);\n",
       "            "
      ],
      "text/plain": [
       "<IPython.core.display.Javascript object>"
      ]
     },
     "metadata": {},
     "output_type": "display_data"
    }
   ],
   "source": [
    "id_list = list(df[\"RescuerID\"].value_counts().index)\n",
    "top_10_rescues = id_list[0:10]\n",
    "\n",
    "rescue_col = df[\"RescuerID\"]\n",
    "new_rescues_arr = []\n",
    "\n",
    "for rescue in rescue_col:\n",
    "    if rescue in top_10_rescues:\n",
    "        new_rescues_arr.append(1)\n",
    "    else:\n",
    "        new_rescues_arr.append(0)\n",
    "\n",
    "df[\"is_top_10_rescue\"] = new_rescues_arr"
   ]
  },
  {
   "cell_type": "code",
   "execution_count": 72,
   "metadata": {},
   "outputs": [
    {
     "data": {
      "text/plain": [
       "0    13086\n",
       "1     1907\n",
       "Name: is_top_10_rescue, dtype: int64"
      ]
     },
     "execution_count": 72,
     "metadata": {},
     "output_type": "execute_result"
    },
    {
     "data": {
      "application/javascript": [
       "\n",
       "            setTimeout(function() {\n",
       "                var nbb_cell_id = 72;\n",
       "                var nbb_unformatted_code = \"df[\\\"is_top_10_rescue\\\"].value_counts().head()\";\n",
       "                var nbb_formatted_code = \"df[\\\"is_top_10_rescue\\\"].value_counts().head()\";\n",
       "                var nbb_cells = Jupyter.notebook.get_cells();\n",
       "                for (var i = 0; i < nbb_cells.length; ++i) {\n",
       "                    if (nbb_cells[i].input_prompt_number == nbb_cell_id) {\n",
       "                        if (nbb_cells[i].get_text() == nbb_unformatted_code) {\n",
       "                             nbb_cells[i].set_text(nbb_formatted_code);\n",
       "                        }\n",
       "                        break;\n",
       "                    }\n",
       "                }\n",
       "            }, 500);\n",
       "            "
      ],
      "text/plain": [
       "<IPython.core.display.Javascript object>"
      ]
     },
     "metadata": {},
     "output_type": "display_data"
    }
   ],
   "source": [
    "df[\"is_top_10_rescue\"].value_counts().head()"
   ]
  },
  {
   "cell_type": "code",
   "execution_count": 73,
   "metadata": {},
   "outputs": [
    {
     "data": {
      "image/png": "[encoded data removed]",
      "text/plain": [
       "<Figure size 432x288 with 1 Axes>"
      ]
     },
     "metadata": {
      "needs_background": "light"
     },
     "output_type": "display_data"
    },
    {
     "data": {
      "application/javascript": [
       "\n",
       "            setTimeout(function() {\n",
       "                var nbb_cell_id = 73;\n",
       "                var nbb_unformatted_code = \"sns.barplot(x=\\\"is_top_10_rescue\\\", y=\\\"AdoptionSpeed\\\", data=df)\\nplt.show()\";\n",
       "                var nbb_formatted_code = \"sns.barplot(x=\\\"is_top_10_rescue\\\", y=\\\"AdoptionSpeed\\\", data=df)\\nplt.show()\";\n",
       "                var nbb_cells = Jupyter.notebook.get_cells();\n",
       "                for (var i = 0; i < nbb_cells.length; ++i) {\n",
       "                    if (nbb_cells[i].input_prompt_number == nbb_cell_id) {\n",
       "                        if (nbb_cells[i].get_text() == nbb_unformatted_code) {\n",
       "                             nbb_cells[i].set_text(nbb_formatted_code);\n",
       "                        }\n",
       "                        break;\n",
       "                    }\n",
       "                }\n",
       "            }, 500);\n",
       "            "
      ],
      "text/plain": [
       "<IPython.core.display.Javascript object>"
      ]
     },
     "metadata": {},
     "output_type": "display_data"
    }
   ],
   "source": [
    "sns.barplot(x=\"is_top_10_rescue\", y=\"AdoptionSpeed\", data=df)\n",
    "plt.show()"
   ]
  },
  {
   "cell_type": "markdown",
   "metadata": {},
   "source": [
    "### VideoAmt"
   ]
  },
  {
   "cell_type": "code",
   "execution_count": 74,
   "metadata": {},
   "outputs": [
    {
     "data": {
      "text/plain": [
       "0    14419\n",
       "1      417\n",
       "2       92\n",
       "3       36\n",
       "4       15\n",
       "5        7\n",
       "6        4\n",
       "8        2\n",
       "7        1\n",
       "Name: VideoAmt, dtype: int64"
      ]
     },
     "execution_count": 74,
     "metadata": {},
     "output_type": "execute_result"
    },
    {
     "data": {
      "application/javascript": [
       "\n",
       "            setTimeout(function() {\n",
       "                var nbb_cell_id = 74;\n",
       "                var nbb_unformatted_code = \"df[\\\"VideoAmt\\\"].value_counts().head(20)\";\n",
       "                var nbb_formatted_code = \"df[\\\"VideoAmt\\\"].value_counts().head(20)\";\n",
       "                var nbb_cells = Jupyter.notebook.get_cells();\n",
       "                for (var i = 0; i < nbb_cells.length; ++i) {\n",
       "                    if (nbb_cells[i].input_prompt_number == nbb_cell_id) {\n",
       "                        if (nbb_cells[i].get_text() == nbb_unformatted_code) {\n",
       "                             nbb_cells[i].set_text(nbb_formatted_code);\n",
       "                        }\n",
       "                        break;\n",
       "                    }\n",
       "                }\n",
       "            }, 500);\n",
       "            "
      ],
      "text/plain": [
       "<IPython.core.display.Javascript object>"
      ]
     },
     "metadata": {},
     "output_type": "display_data"
    }
   ],
   "source": [
    "df[\"VideoAmt\"].value_counts().head(20)"
   ]
  },
  {
   "cell_type": "markdown",
   "metadata": {},
   "source": [
    "Let's make this binary, aka has_video: 1-yes, 0-no."
   ]
  },
  {
   "cell_type": "code",
   "execution_count": 75,
   "metadata": {},
   "outputs": [
    {
     "data": {
      "application/javascript": [
       "\n",
       "            setTimeout(function() {\n",
       "                var nbb_cell_id = 75;\n",
       "                var nbb_unformatted_code = \"is_videoed = []\\nvideo_amts = df[\\\"VideoAmt\\\"]\\nfor video_amt in video_amts:\\n    if video_amt >= 1:\\n        is_videoed.append(1)\\n    else:\\n        is_videoed.append(0)\\n\\ndf[\\\"is_videoed\\\"] = is_videoed\";\n",
       "                var nbb_formatted_code = \"is_videoed = []\\nvideo_amts = df[\\\"VideoAmt\\\"]\\nfor video_amt in video_amts:\\n    if video_amt >= 1:\\n        is_videoed.append(1)\\n    else:\\n        is_videoed.append(0)\\n\\ndf[\\\"is_videoed\\\"] = is_videoed\";\n",
       "                var nbb_cells = Jupyter.notebook.get_cells();\n",
       "                for (var i = 0; i < nbb_cells.length; ++i) {\n",
       "                    if (nbb_cells[i].input_prompt_number == nbb_cell_id) {\n",
       "                        if (nbb_cells[i].get_text() == nbb_unformatted_code) {\n",
       "                             nbb_cells[i].set_text(nbb_formatted_code);\n",
       "                        }\n",
       "                        break;\n",
       "                    }\n",
       "                }\n",
       "            }, 500);\n",
       "            "
      ],
      "text/plain": [
       "<IPython.core.display.Javascript object>"
      ]
     },
     "metadata": {},
     "output_type": "display_data"
    }
   ],
   "source": [
    "is_videoed = []\n",
    "video_amts = df[\"VideoAmt\"]\n",
    "for video_amt in video_amts:\n",
    "    if video_amt >= 1:\n",
    "        is_videoed.append(1)\n",
    "    else:\n",
    "        is_videoed.append(0)\n",
    "\n",
    "df[\"is_videoed\"] = is_videoed"
   ]
  },
  {
   "cell_type": "code",
   "execution_count": 76,
   "metadata": {},
   "outputs": [
    {
     "data": {
      "text/plain": [
       "0    14419\n",
       "1      574\n",
       "Name: is_videoed, dtype: int64"
      ]
     },
     "execution_count": 76,
     "metadata": {},
     "output_type": "execute_result"
    },
    {
     "data": {
      "application/javascript": [
       "\n",
       "            setTimeout(function() {\n",
       "                var nbb_cell_id = 76;\n",
       "                var nbb_unformatted_code = \"df[\\\"is_videoed\\\"].value_counts()\";\n",
       "                var nbb_formatted_code = \"df[\\\"is_videoed\\\"].value_counts()\";\n",
       "                var nbb_cells = Jupyter.notebook.get_cells();\n",
       "                for (var i = 0; i < nbb_cells.length; ++i) {\n",
       "                    if (nbb_cells[i].input_prompt_number == nbb_cell_id) {\n",
       "                        if (nbb_cells[i].get_text() == nbb_unformatted_code) {\n",
       "                             nbb_cells[i].set_text(nbb_formatted_code);\n",
       "                        }\n",
       "                        break;\n",
       "                    }\n",
       "                }\n",
       "            }, 500);\n",
       "            "
      ],
      "text/plain": [
       "<IPython.core.display.Javascript object>"
      ]
     },
     "metadata": {},
     "output_type": "display_data"
    }
   ],
   "source": [
    "df[\"is_videoed\"].value_counts()"
   ]
  },
  {
   "cell_type": "code",
   "execution_count": 77,
   "metadata": {},
   "outputs": [
    {
     "data": {
      "image/png": "[encoded data removed]",
      "text/plain": [
       "<Figure size 432x288 with 1 Axes>"
      ]
     },
     "metadata": {
      "needs_background": "light"
     },
     "output_type": "display_data"
    },
    {
     "data": {
      "application/javascript": [
       "\n",
       "            setTimeout(function() {\n",
       "                var nbb_cell_id = 77;\n",
       "                var nbb_unformatted_code = \"sns.violinplot(x=\\\"is_videoed\\\", y=\\\"AdoptionSpeed\\\", data=df)\\nplt.show()\";\n",
       "                var nbb_formatted_code = \"sns.violinplot(x=\\\"is_videoed\\\", y=\\\"AdoptionSpeed\\\", data=df)\\nplt.show()\";\n",
       "                var nbb_cells = Jupyter.notebook.get_cells();\n",
       "                for (var i = 0; i < nbb_cells.length; ++i) {\n",
       "                    if (nbb_cells[i].input_prompt_number == nbb_cell_id) {\n",
       "                        if (nbb_cells[i].get_text() == nbb_unformatted_code) {\n",
       "                             nbb_cells[i].set_text(nbb_formatted_code);\n",
       "                        }\n",
       "                        break;\n",
       "                    }\n",
       "                }\n",
       "            }, 500);\n",
       "            "
      ],
      "text/plain": [
       "<IPython.core.display.Javascript object>"
      ]
     },
     "metadata": {},
     "output_type": "display_data"
    }
   ],
   "source": [
    "sns.violinplot(x=\"is_videoed\", y=\"AdoptionSpeed\", data=df)\n",
    "plt.show()"
   ]
  },
  {
   "cell_type": "markdown",
   "metadata": {},
   "source": [
    "### Description"
   ]
  },
  {
   "cell_type": "code",
   "execution_count": 78,
   "metadata": {},
   "outputs": [
    {
     "data": {
      "text/plain": [
       "For Adoption                               164\n",
       "Dog 4 Adoption                              54\n",
       "Cat for adoption                            25\n",
       "Friendly                                    20\n",
       "Please feel free to contact us : Stuart     18\n",
       "Name: Description, dtype: int64"
      ]
     },
     "execution_count": 78,
     "metadata": {},
     "output_type": "execute_result"
    },
    {
     "data": {
      "application/javascript": [
       "\n",
       "            setTimeout(function() {\n",
       "                var nbb_cell_id = 78;\n",
       "                var nbb_unformatted_code = \"df[\\\"Description\\\"].value_counts().head()\";\n",
       "                var nbb_formatted_code = \"df[\\\"Description\\\"].value_counts().head()\";\n",
       "                var nbb_cells = Jupyter.notebook.get_cells();\n",
       "                for (var i = 0; i < nbb_cells.length; ++i) {\n",
       "                    if (nbb_cells[i].input_prompt_number == nbb_cell_id) {\n",
       "                        if (nbb_cells[i].get_text() == nbb_unformatted_code) {\n",
       "                             nbb_cells[i].set_text(nbb_formatted_code);\n",
       "                        }\n",
       "                        break;\n",
       "                    }\n",
       "                }\n",
       "            }, 500);\n",
       "            "
      ],
      "text/plain": [
       "<IPython.core.display.Javascript object>"
      ]
     },
     "metadata": {},
     "output_type": "display_data"
    }
   ],
   "source": [
    "df[\"Description\"].value_counts().head()"
   ]
  },
  {
   "cell_type": "markdown",
   "metadata": {},
   "source": [
    "Dropping this column altogether.  NLP is beyond the scope of this study."
   ]
  },
  {
   "cell_type": "code",
   "execution_count": 79,
   "metadata": {},
   "outputs": [
    {
     "data": {
      "application/javascript": [
       "\n",
       "            setTimeout(function() {\n",
       "                var nbb_cell_id = 79;\n",
       "                var nbb_unformatted_code = \"df = df.drop(columns=[\\\"Description\\\"])\";\n",
       "                var nbb_formatted_code = \"df = df.drop(columns=[\\\"Description\\\"])\";\n",
       "                var nbb_cells = Jupyter.notebook.get_cells();\n",
       "                for (var i = 0; i < nbb_cells.length; ++i) {\n",
       "                    if (nbb_cells[i].input_prompt_number == nbb_cell_id) {\n",
       "                        if (nbb_cells[i].get_text() == nbb_unformatted_code) {\n",
       "                             nbb_cells[i].set_text(nbb_formatted_code);\n",
       "                        }\n",
       "                        break;\n",
       "                    }\n",
       "                }\n",
       "            }, 500);\n",
       "            "
      ],
      "text/plain": [
       "<IPython.core.display.Javascript object>"
      ]
     },
     "metadata": {},
     "output_type": "display_data"
    }
   ],
   "source": [
    "df = df.drop(columns=[\"Description\"])"
   ]
  },
  {
   "cell_type": "markdown",
   "metadata": {},
   "source": [
    "### PetID"
   ]
  },
  {
   "cell_type": "code",
   "execution_count": 80,
   "metadata": {},
   "outputs": [
    {
     "data": {
      "text/plain": [
       "cd81fa60a    1\n",
       "47787f847    1\n",
       "cfe66604e    1\n",
       "95a89f5f2    1\n",
       "caa616482    1\n",
       "700de2c49    1\n",
       "7b7b7b71e    1\n",
       "fa07f7477    1\n",
       "32bc0b4fa    1\n",
       "cae5c7ef1    1\n",
       "ce50f376f    1\n",
       "c7575df7b    1\n",
       "fabc9bfec    1\n",
       "3fe9fc6d9    1\n",
       "5145c1766    1\n",
       "59047a5a1    1\n",
       "13be42d0e    1\n",
       "28e14ee81    1\n",
       "198357b7e    1\n",
       "a684871b0    1\n",
       "Name: PetID, dtype: int64"
      ]
     },
     "execution_count": 80,
     "metadata": {},
     "output_type": "execute_result"
    },
    {
     "data": {
      "application/javascript": [
       "\n",
       "            setTimeout(function() {\n",
       "                var nbb_cell_id = 80;\n",
       "                var nbb_unformatted_code = \"df[\\\"PetID\\\"].value_counts().head(20)\";\n",
       "                var nbb_formatted_code = \"df[\\\"PetID\\\"].value_counts().head(20)\";\n",
       "                var nbb_cells = Jupyter.notebook.get_cells();\n",
       "                for (var i = 0; i < nbb_cells.length; ++i) {\n",
       "                    if (nbb_cells[i].input_prompt_number == nbb_cell_id) {\n",
       "                        if (nbb_cells[i].get_text() == nbb_unformatted_code) {\n",
       "                             nbb_cells[i].set_text(nbb_formatted_code);\n",
       "                        }\n",
       "                        break;\n",
       "                    }\n",
       "                }\n",
       "            }, 500);\n",
       "            "
      ],
      "text/plain": [
       "<IPython.core.display.Javascript object>"
      ]
     },
     "metadata": {},
     "output_type": "display_data"
    }
   ],
   "source": [
    "df[\"PetID\"].value_counts().head(20)"
   ]
  },
  {
   "cell_type": "markdown",
   "metadata": {},
   "source": [
    "These are unique for each record.  Will drop from dataset and just use a generic index instead..."
   ]
  },
  {
   "cell_type": "code",
   "execution_count": 81,
   "metadata": {},
   "outputs": [
    {
     "data": {
      "application/javascript": [
       "\n",
       "            setTimeout(function() {\n",
       "                var nbb_cell_id = 81;\n",
       "                var nbb_unformatted_code = \"df = df.drop(columns=[\\\"PetID\\\"])\";\n",
       "                var nbb_formatted_code = \"df = df.drop(columns=[\\\"PetID\\\"])\";\n",
       "                var nbb_cells = Jupyter.notebook.get_cells();\n",
       "                for (var i = 0; i < nbb_cells.length; ++i) {\n",
       "                    if (nbb_cells[i].input_prompt_number == nbb_cell_id) {\n",
       "                        if (nbb_cells[i].get_text() == nbb_unformatted_code) {\n",
       "                             nbb_cells[i].set_text(nbb_formatted_code);\n",
       "                        }\n",
       "                        break;\n",
       "                    }\n",
       "                }\n",
       "            }, 500);\n",
       "            "
      ],
      "text/plain": [
       "<IPython.core.display.Javascript object>"
      ]
     },
     "metadata": {},
     "output_type": "display_data"
    }
   ],
   "source": [
    "df = df.drop(columns=[\"PetID\"])"
   ]
  },
  {
   "cell_type": "markdown",
   "metadata": {},
   "source": [
    "### PhotoAmt"
   ]
  },
  {
   "cell_type": "code",
   "execution_count": 82,
   "metadata": {},
   "outputs": [
    {
     "data": {
      "text/plain": [
       "1.0     3075\n",
       "2.0     2518\n",
       "3.0     2511\n",
       "5.0     2147\n",
       "4.0     1881\n",
       "6.0      621\n",
       "7.0      432\n",
       "0.0      341\n",
       "8.0      314\n",
       "9.0      231\n",
       "10.0     190\n",
       "11.0     184\n",
       "12.0      97\n",
       "13.0      86\n",
       "14.0      78\n",
       "15.0      50\n",
       "16.0      39\n",
       "17.0      27\n",
       "20.0      25\n",
       "19.0      20\n",
       "Name: PhotoAmt, dtype: int64"
      ]
     },
     "execution_count": 82,
     "metadata": {},
     "output_type": "execute_result"
    },
    {
     "data": {
      "application/javascript": [
       "\n",
       "            setTimeout(function() {\n",
       "                var nbb_cell_id = 82;\n",
       "                var nbb_unformatted_code = \"df[\\\"PhotoAmt\\\"].value_counts().head(20)\";\n",
       "                var nbb_formatted_code = \"df[\\\"PhotoAmt\\\"].value_counts().head(20)\";\n",
       "                var nbb_cells = Jupyter.notebook.get_cells();\n",
       "                for (var i = 0; i < nbb_cells.length; ++i) {\n",
       "                    if (nbb_cells[i].input_prompt_number == nbb_cell_id) {\n",
       "                        if (nbb_cells[i].get_text() == nbb_unformatted_code) {\n",
       "                             nbb_cells[i].set_text(nbb_formatted_code);\n",
       "                        }\n",
       "                        break;\n",
       "                    }\n",
       "                }\n",
       "            }, 500);\n",
       "            "
      ],
      "text/plain": [
       "<IPython.core.display.Javascript object>"
      ]
     },
     "metadata": {},
     "output_type": "display_data"
    }
   ],
   "source": [
    "df[\"PhotoAmt\"].value_counts().head(20)"
   ]
  },
  {
   "cell_type": "markdown",
   "metadata": {},
   "source": [
    "Combining all quantities of photos into a has_photo binary."
   ]
  },
  {
   "cell_type": "code",
   "execution_count": 83,
   "metadata": {},
   "outputs": [
    {
     "data": {
      "application/javascript": [
       "\n",
       "            setTimeout(function() {\n",
       "                var nbb_cell_id = 83;\n",
       "                var nbb_unformatted_code = \"has_photo = []\\n\\nphoto_amts = df[\\\"PhotoAmt\\\"]\\n\\nfor photo_amt in photo_amts:\\n    if photo_amt == 0:\\n        has_photo.append(0)\\n    else:\\n        has_photo.append(1)\\n\\ndf[\\\"has_photo\\\"] = has_photo\";\n",
       "                var nbb_formatted_code = \"has_photo = []\\n\\nphoto_amts = df[\\\"PhotoAmt\\\"]\\n\\nfor photo_amt in photo_amts:\\n    if photo_amt == 0:\\n        has_photo.append(0)\\n    else:\\n        has_photo.append(1)\\n\\ndf[\\\"has_photo\\\"] = has_photo\";\n",
       "                var nbb_cells = Jupyter.notebook.get_cells();\n",
       "                for (var i = 0; i < nbb_cells.length; ++i) {\n",
       "                    if (nbb_cells[i].input_prompt_number == nbb_cell_id) {\n",
       "                        if (nbb_cells[i].get_text() == nbb_unformatted_code) {\n",
       "                             nbb_cells[i].set_text(nbb_formatted_code);\n",
       "                        }\n",
       "                        break;\n",
       "                    }\n",
       "                }\n",
       "            }, 500);\n",
       "            "
      ],
      "text/plain": [
       "<IPython.core.display.Javascript object>"
      ]
     },
     "metadata": {},
     "output_type": "display_data"
    }
   ],
   "source": [
    "has_photo = []\n",
    "\n",
    "photo_amts = df[\"PhotoAmt\"]\n",
    "\n",
    "for photo_amt in photo_amts:\n",
    "    if photo_amt == 0:\n",
    "        has_photo.append(0)\n",
    "    else:\n",
    "        has_photo.append(1)\n",
    "\n",
    "df[\"has_photo\"] = has_photo"
   ]
  },
  {
   "cell_type": "code",
   "execution_count": 84,
   "metadata": {},
   "outputs": [
    {
     "data": {
      "image/png": "[encoded data removed]",
      "text/plain": [
       "<Figure size 432x288 with 1 Axes>"
      ]
     },
     "metadata": {
      "needs_background": "light"
     },
     "output_type": "display_data"
    },
    {
     "data": {
      "application/javascript": [
       "\n",
       "            setTimeout(function() {\n",
       "                var nbb_cell_id = 84;\n",
       "                var nbb_unformatted_code = \"sns.violinplot(x=\\\"has_photo\\\", y=\\\"AdoptionSpeed\\\", data=df)\\nplt.show()\";\n",
       "                var nbb_formatted_code = \"sns.violinplot(x=\\\"has_photo\\\", y=\\\"AdoptionSpeed\\\", data=df)\\nplt.show()\";\n",
       "                var nbb_cells = Jupyter.notebook.get_cells();\n",
       "                for (var i = 0; i < nbb_cells.length; ++i) {\n",
       "                    if (nbb_cells[i].input_prompt_number == nbb_cell_id) {\n",
       "                        if (nbb_cells[i].get_text() == nbb_unformatted_code) {\n",
       "                             nbb_cells[i].set_text(nbb_formatted_code);\n",
       "                        }\n",
       "                        break;\n",
       "                    }\n",
       "                }\n",
       "            }, 500);\n",
       "            "
      ],
      "text/plain": [
       "<IPython.core.display.Javascript object>"
      ]
     },
     "metadata": {},
     "output_type": "display_data"
    }
   ],
   "source": [
    "sns.violinplot(x=\"has_photo\", y=\"AdoptionSpeed\", data=df)\n",
    "plt.show()"
   ]
  },
  {
   "cell_type": "code",
   "execution_count": 85,
   "metadata": {},
   "outputs": [
    {
     "name": "stdout",
     "output_type": "stream",
     "text": [
      "<class 'pandas.core.frame.DataFrame'>\n",
      "RangeIndex: 14993 entries, 0 to 14992\n",
      "Data columns (total 34 columns):\n",
      "Type                14993 non-null int64\n",
      "Name                14993 non-null object\n",
      "Age                 14993 non-null int64\n",
      "Breed1              14993 non-null int64\n",
      "Breed2              14993 non-null int64\n",
      "Gender              14993 non-null int64\n",
      "Color1              14993 non-null int64\n",
      "Color2              14993 non-null int64\n",
      "Color3              14993 non-null int64\n",
      "MaturitySize        14993 non-null int64\n",
      "FurLength           14993 non-null int64\n",
      "Vaccinated          14993 non-null int64\n",
      "Dewormed            14993 non-null int64\n",
      "Sterilized          14993 non-null int64\n",
      "Health              14993 non-null int64\n",
      "Quantity            14993 non-null int64\n",
      "Fee                 14993 non-null int64\n",
      "State               14993 non-null int64\n",
      "RescuerID           14993 non-null object\n",
      "VideoAmt            14993 non-null int64\n",
      "PhotoAmt            14993 non-null float64\n",
      "AdoptionSpeed       14993 non-null int64\n",
      "has_name            14993 non-null int64\n",
      "age_t               14993 non-null float64\n",
      "is_pure_bred        14993 non-null int64\n",
      "is_black            14993 non-null int64\n",
      "maturity_size       14993 non-null int64\n",
      "is_injured          14993 non-null int64\n",
      "1_5_quantity        14993 non-null int64\n",
      "fee_t               14993 non-null float64\n",
      "is_free             14993 non-null int64\n",
      "is_top_10_rescue    14993 non-null int64\n",
      "is_videoed          14993 non-null int64\n",
      "has_photo           14993 non-null int64\n",
      "dtypes: float64(3), int64(29), object(2)\n",
      "memory usage: 3.9+ MB\n"
     ]
    },
    {
     "data": {
      "application/javascript": [
       "\n",
       "            setTimeout(function() {\n",
       "                var nbb_cell_id = 85;\n",
       "                var nbb_unformatted_code = \"df.info()\";\n",
       "                var nbb_formatted_code = \"df.info()\";\n",
       "                var nbb_cells = Jupyter.notebook.get_cells();\n",
       "                for (var i = 0; i < nbb_cells.length; ++i) {\n",
       "                    if (nbb_cells[i].input_prompt_number == nbb_cell_id) {\n",
       "                        if (nbb_cells[i].get_text() == nbb_unformatted_code) {\n",
       "                             nbb_cells[i].set_text(nbb_formatted_code);\n",
       "                        }\n",
       "                        break;\n",
       "                    }\n",
       "                }\n",
       "            }, 500);\n",
       "            "
      ],
      "text/plain": [
       "<IPython.core.display.Javascript object>"
      ]
     },
     "metadata": {},
     "output_type": "display_data"
    }
   ],
   "source": [
    "df.info()"
   ]
  },
  {
   "cell_type": "markdown",
   "metadata": {},
   "source": [
    "### AdoptionSpeed (Target)"
   ]
  },
  {
   "cell_type": "code",
   "execution_count": 86,
   "metadata": {},
   "outputs": [
    {
     "data": {
      "text/plain": [
       "4    4197\n",
       "2    4037\n",
       "3    3259\n",
       "1    3090\n",
       "0     410\n",
       "Name: AdoptionSpeed, dtype: int64"
      ]
     },
     "execution_count": 86,
     "metadata": {},
     "output_type": "execute_result"
    },
    {
     "data": {
      "application/javascript": [
       "\n",
       "            setTimeout(function() {\n",
       "                var nbb_cell_id = 86;\n",
       "                var nbb_unformatted_code = \"df[\\\"AdoptionSpeed\\\"].value_counts()\";\n",
       "                var nbb_formatted_code = \"df[\\\"AdoptionSpeed\\\"].value_counts()\";\n",
       "                var nbb_cells = Jupyter.notebook.get_cells();\n",
       "                for (var i = 0; i < nbb_cells.length; ++i) {\n",
       "                    if (nbb_cells[i].input_prompt_number == nbb_cell_id) {\n",
       "                        if (nbb_cells[i].get_text() == nbb_unformatted_code) {\n",
       "                             nbb_cells[i].set_text(nbb_formatted_code);\n",
       "                        }\n",
       "                        break;\n",
       "                    }\n",
       "                }\n",
       "            }, 500);\n",
       "            "
      ],
      "text/plain": [
       "<IPython.core.display.Javascript object>"
      ]
     },
     "metadata": {},
     "output_type": "display_data"
    }
   ],
   "source": [
    "df[\"AdoptionSpeed\"].value_counts()"
   ]
  },
  {
   "cell_type": "markdown",
   "metadata": {},
   "source": [
    "# Modeling - Linear Regression"
   ]
  },
  {
   "cell_type": "code",
   "execution_count": 87,
   "metadata": {},
   "outputs": [
    {
     "name": "stdout",
     "output_type": "stream",
     "text": [
      "<class 'pandas.core.frame.DataFrame'>\n",
      "RangeIndex: 14993 entries, 0 to 14992\n",
      "Data columns (total 27 columns):\n",
      "Gender_2            14993 non-null float64\n",
      "Gender_3            14993 non-null float64\n",
      "Vaccinated_2        14993 non-null float64\n",
      "Vaccinated_3        14993 non-null float64\n",
      "Dewormed_2          14993 non-null float64\n",
      "Dewormed_3          14993 non-null float64\n",
      "FurLength_2         14993 non-null float64\n",
      "FurLength_3         14993 non-null float64\n",
      "Sterilized_2        14993 non-null float64\n",
      "Sterilized_3        14993 non-null float64\n",
      "maturity_size_2     14993 non-null float64\n",
      "maturity_size_3     14993 non-null float64\n",
      "1_5_quantity_2      14993 non-null float64\n",
      "1_5_quantity_3      14993 non-null float64\n",
      "1_5_quantity_4      14993 non-null float64\n",
      "1_5_quantity_5      14993 non-null float64\n",
      "Type                14993 non-null float64\n",
      "AdoptionSpeed       14993 non-null float64\n",
      "has_name            14993 non-null float64\n",
      "age_t               14993 non-null float64\n",
      "is_pure_bred        14993 non-null float64\n",
      "is_black            14993 non-null float64\n",
      "is_injured          14993 non-null float64\n",
      "is_free             14993 non-null float64\n",
      "is_top_10_rescue    14993 non-null float64\n",
      "is_videoed          14993 non-null float64\n",
      "has_photo           14993 non-null float64\n",
      "dtypes: float64(27)\n",
      "memory usage: 3.1 MB\n"
     ]
    },
    {
     "data": {
      "application/javascript": [
       "\n",
       "            setTimeout(function() {\n",
       "                var nbb_cell_id = 87;\n",
       "                var nbb_unformatted_code = \"# dropping unnecessary or redundant columns\\ndf_lr = df.drop(\\n    columns=[\\n        \\\"Name\\\",\\n        \\\"Age\\\",\\n        \\\"Breed1\\\",\\n        \\\"Breed2\\\",\\n        \\\"Color1\\\",\\n        \\\"Color2\\\",\\n        \\\"Color3\\\",\\n        \\\"MaturitySize\\\",\\n        \\\"Health\\\",\\n        \\\"Quantity\\\",\\n        \\\"Fee\\\",\\n        \\\"fee_t\\\",\\n        \\\"VideoAmt\\\",\\n        \\\"PhotoAmt\\\",\\n        \\\"RescuerID\\\",\\n        \\\"State\\\",\\n    ]\\n)\\n\\n# categorical variables that need encoding\\ncat_columns = [\\n    \\\"Gender\\\",\\n    \\\"Vaccinated\\\",\\n    \\\"Dewormed\\\",\\n    \\\"FurLength\\\",\\n    \\\"Sterilized\\\",\\n    \\\"maturity_size\\\",\\n    \\\"1_5_quantity\\\",\\n]\\n\\n# one-hot encode the categorical columns\\ndummy_df = one_hot_encode(df_lr, encode_cols=cat_columns, index=df.index)\\n\\n# check to make sure it worked...can't be too careful!\\ndummy_df.info()\";\n",
       "                var nbb_formatted_code = \"# dropping unnecessary or redundant columns\\ndf_lr = df.drop(\\n    columns=[\\n        \\\"Name\\\",\\n        \\\"Age\\\",\\n        \\\"Breed1\\\",\\n        \\\"Breed2\\\",\\n        \\\"Color1\\\",\\n        \\\"Color2\\\",\\n        \\\"Color3\\\",\\n        \\\"MaturitySize\\\",\\n        \\\"Health\\\",\\n        \\\"Quantity\\\",\\n        \\\"Fee\\\",\\n        \\\"fee_t\\\",\\n        \\\"VideoAmt\\\",\\n        \\\"PhotoAmt\\\",\\n        \\\"RescuerID\\\",\\n        \\\"State\\\",\\n    ]\\n)\\n\\n# categorical variables that need encoding\\ncat_columns = [\\n    \\\"Gender\\\",\\n    \\\"Vaccinated\\\",\\n    \\\"Dewormed\\\",\\n    \\\"FurLength\\\",\\n    \\\"Sterilized\\\",\\n    \\\"maturity_size\\\",\\n    \\\"1_5_quantity\\\",\\n]\\n\\n# one-hot encode the categorical columns\\ndummy_df = one_hot_encode(df_lr, encode_cols=cat_columns, index=df.index)\\n\\n# check to make sure it worked...can't be too careful!\\ndummy_df.info()\";\n",
       "                var nbb_cells = Jupyter.notebook.get_cells();\n",
       "                for (var i = 0; i < nbb_cells.length; ++i) {\n",
       "                    if (nbb_cells[i].input_prompt_number == nbb_cell_id) {\n",
       "                        if (nbb_cells[i].get_text() == nbb_unformatted_code) {\n",
       "                             nbb_cells[i].set_text(nbb_formatted_code);\n",
       "                        }\n",
       "                        break;\n",
       "                    }\n",
       "                }\n",
       "            }, 500);\n",
       "            "
      ],
      "text/plain": [
       "<IPython.core.display.Javascript object>"
      ]
     },
     "metadata": {},
     "output_type": "display_data"
    }
   ],
   "source": [
    "# dropping unnecessary or redundant columns\n",
    "df_lr = df.drop(\n",
    "    columns=[\n",
    "        \"Name\",\n",
    "        \"Age\",\n",
    "        \"Breed1\",\n",
    "        \"Breed2\",\n",
    "        \"Color1\",\n",
    "        \"Color2\",\n",
    "        \"Color3\",\n",
    "        \"MaturitySize\",\n",
    "        \"Health\",\n",
    "        \"Quantity\",\n",
    "        \"Fee\",\n",
    "        \"fee_t\",\n",
    "        \"VideoAmt\",\n",
    "        \"PhotoAmt\",\n",
    "        \"RescuerID\",\n",
    "        \"State\",\n",
    "    ]\n",
    ")\n",
    "\n",
    "# categorical variables that need encoding\n",
    "cat_columns = [\n",
    "    \"Gender\",\n",
    "    \"Vaccinated\",\n",
    "    \"Dewormed\",\n",
    "    \"FurLength\",\n",
    "    \"Sterilized\",\n",
    "    \"maturity_size\",\n",
    "    \"1_5_quantity\",\n",
    "]\n",
    "\n",
    "# one-hot encode the categorical columns\n",
    "dummy_df = one_hot_encode(df_lr, encode_cols=cat_columns, index=df.index)\n",
    "\n",
    "# check to make sure it worked...can't be too careful!\n",
    "dummy_df.info()"
   ]
  },
  {
   "cell_type": "code",
   "execution_count": 88,
   "metadata": {},
   "outputs": [
    {
     "data": {
      "application/javascript": [
       "\n",
       "            setTimeout(function() {\n",
       "                var nbb_cell_id = 88;\n",
       "                var nbb_unformatted_code = \"# define X and y\\n\\nX = dummy_df.drop(columns=[\\\"AdoptionSpeed\\\"])\\ny = dummy_df[\\\"AdoptionSpeed\\\"]\\n\\n# train-test split\\nX_train, X_test, y_train, y_test = train_test_split(\\n    X, y, test_size=0.2, random_state=42, stratify=y\\n)\";\n",
       "                var nbb_formatted_code = \"# define X and y\\n\\nX = dummy_df.drop(columns=[\\\"AdoptionSpeed\\\"])\\ny = dummy_df[\\\"AdoptionSpeed\\\"]\\n\\n# train-test split\\nX_train, X_test, y_train, y_test = train_test_split(\\n    X, y, test_size=0.2, random_state=42, stratify=y\\n)\";\n",
       "                var nbb_cells = Jupyter.notebook.get_cells();\n",
       "                for (var i = 0; i < nbb_cells.length; ++i) {\n",
       "                    if (nbb_cells[i].input_prompt_number == nbb_cell_id) {\n",
       "                        if (nbb_cells[i].get_text() == nbb_unformatted_code) {\n",
       "                             nbb_cells[i].set_text(nbb_formatted_code);\n",
       "                        }\n",
       "                        break;\n",
       "                    }\n",
       "                }\n",
       "            }, 500);\n",
       "            "
      ],
      "text/plain": [
       "<IPython.core.display.Javascript object>"
      ]
     },
     "metadata": {},
     "output_type": "display_data"
    }
   ],
   "source": [
    "# define X and y\n",
    "\n",
    "X = dummy_df.drop(columns=[\"AdoptionSpeed\"])\n",
    "y = dummy_df[\"AdoptionSpeed\"]\n",
    "\n",
    "# train-test split\n",
    "X_train, X_test, y_train, y_test = train_test_split(\n",
    "    X, y, test_size=0.2, random_state=42, stratify=y\n",
    ")"
   ]
  },
  {
   "cell_type": "code",
   "execution_count": 89,
   "metadata": {},
   "outputs": [
    {
     "name": "stdout",
     "output_type": "stream",
     "text": [
      "VIF results\n",
      "-------------------------------\n",
      "const               94.580962\n",
      "Gender_2             1.215601\n",
      "Gender_3             2.896299\n",
      "Vaccinated_2         2.369512\n",
      "Vaccinated_3         3.801832\n",
      "Dewormed_2           1.881717\n",
      "Dewormed_3           3.697778\n",
      "FurLength_2          1.054292\n",
      "FurLength_3          1.118071\n",
      "Sterilized_2         2.066729\n",
      "Sterilized_3         2.051711\n",
      "maturity_size_2      1.362607\n",
      "maturity_size_3      1.336570\n",
      "1_5_quantity_2       1.420833\n",
      "1_5_quantity_3       1.473184\n",
      "1_5_quantity_4       1.488429\n",
      "1_5_quantity_5       1.771106\n",
      "Type                 1.194975\n",
      "has_name             1.092348\n",
      "age_t                1.737737\n",
      "is_pure_bred         1.164265\n",
      "is_black             1.012843\n",
      "is_injured           1.028089\n",
      "is_free              1.058514\n",
      "is_top_10_rescue     1.198636\n",
      "is_videoed           1.011478\n",
      "has_photo            1.011147\n",
      "dtype: float64\n",
      "-------------------------------\n",
      "\n"
     ]
    },
    {
     "data": {
      "application/javascript": [
       "\n",
       "            setTimeout(function() {\n",
       "                var nbb_cell_id = 89;\n",
       "                var nbb_unformatted_code = \"# multicollinearity check\\nprint_vif(X_train)\";\n",
       "                var nbb_formatted_code = \"# multicollinearity check\\nprint_vif(X_train)\";\n",
       "                var nbb_cells = Jupyter.notebook.get_cells();\n",
       "                for (var i = 0; i < nbb_cells.length; ++i) {\n",
       "                    if (nbb_cells[i].input_prompt_number == nbb_cell_id) {\n",
       "                        if (nbb_cells[i].get_text() == nbb_unformatted_code) {\n",
       "                             nbb_cells[i].set_text(nbb_formatted_code);\n",
       "                        }\n",
       "                        break;\n",
       "                    }\n",
       "                }\n",
       "            }, 500);\n",
       "            "
      ],
      "text/plain": [
       "<IPython.core.display.Javascript object>"
      ]
     },
     "metadata": {},
     "output_type": "display_data"
    }
   ],
   "source": [
    "# multicollinearity check\n",
    "print_vif(X_train)"
   ]
  },
  {
   "cell_type": "markdown",
   "metadata": {},
   "source": [
    "Looks like `Vaccinated` and `Dewormed` are correlated, which makes sense.  These treatments often happen at the same time in the US.  I'll drop `Dewormed` and `Vaccinated`, as well as `Gender_3`."
   ]
  },
  {
   "cell_type": "code",
   "execution_count": 90,
   "metadata": {},
   "outputs": [
    {
     "data": {
      "application/javascript": [
       "\n",
       "            setTimeout(function() {\n",
       "                var nbb_cell_id = 90;\n",
       "                var nbb_unformatted_code = \"drop_cols = [\\\"Vaccinated_3\\\", \\\"Dewormed_3\\\", \\\"Gender_3\\\"]\\nX_train = X_train.drop(columns=drop_cols, errors=\\\"ignore\\\")\\nX_test = X_test.drop(columns=drop_cols, errors=\\\"ignore\\\")\";\n",
       "                var nbb_formatted_code = \"drop_cols = [\\\"Vaccinated_3\\\", \\\"Dewormed_3\\\", \\\"Gender_3\\\"]\\nX_train = X_train.drop(columns=drop_cols, errors=\\\"ignore\\\")\\nX_test = X_test.drop(columns=drop_cols, errors=\\\"ignore\\\")\";\n",
       "                var nbb_cells = Jupyter.notebook.get_cells();\n",
       "                for (var i = 0; i < nbb_cells.length; ++i) {\n",
       "                    if (nbb_cells[i].input_prompt_number == nbb_cell_id) {\n",
       "                        if (nbb_cells[i].get_text() == nbb_unformatted_code) {\n",
       "                             nbb_cells[i].set_text(nbb_formatted_code);\n",
       "                        }\n",
       "                        break;\n",
       "                    }\n",
       "                }\n",
       "            }, 500);\n",
       "            "
      ],
      "text/plain": [
       "<IPython.core.display.Javascript object>"
      ]
     },
     "metadata": {},
     "output_type": "display_data"
    }
   ],
   "source": [
    "drop_cols = [\"Vaccinated_3\", \"Dewormed_3\", \"Gender_3\"]\n",
    "X_train = X_train.drop(columns=drop_cols, errors=\"ignore\")\n",
    "X_test = X_test.drop(columns=drop_cols, errors=\"ignore\")"
   ]
  },
  {
   "cell_type": "code",
   "execution_count": 91,
   "metadata": {},
   "outputs": [
    {
     "name": "stderr",
     "output_type": "stream",
     "text": [
      "/opt/anaconda3/lib/python3.7/site-packages/numpy/core/fromnumeric.py:2495: FutureWarning: Method .ptp is deprecated and will be removed in a future version. Use numpy.ptp instead.\n",
      "  return ptp(axis=axis, out=out, **kwargs)\n"
     ]
    },
    {
     "data": {
      "application/javascript": [
       "\n",
       "            setTimeout(function() {\n",
       "                var nbb_cell_id = 91;\n",
       "                var nbb_unformatted_code = \"# statsmodels requires a constant be added\\nX_test = sm.add_constant(X_test)\\nX_train = sm.add_constant(X_train)\";\n",
       "                var nbb_formatted_code = \"# statsmodels requires a constant be added\\nX_test = sm.add_constant(X_test)\\nX_train = sm.add_constant(X_train)\";\n",
       "                var nbb_cells = Jupyter.notebook.get_cells();\n",
       "                for (var i = 0; i < nbb_cells.length; ++i) {\n",
       "                    if (nbb_cells[i].input_prompt_number == nbb_cell_id) {\n",
       "                        if (nbb_cells[i].get_text() == nbb_unformatted_code) {\n",
       "                             nbb_cells[i].set_text(nbb_formatted_code);\n",
       "                        }\n",
       "                        break;\n",
       "                    }\n",
       "                }\n",
       "            }, 500);\n",
       "            "
      ],
      "text/plain": [
       "<IPython.core.display.Javascript object>"
      ]
     },
     "metadata": {},
     "output_type": "display_data"
    }
   ],
   "source": [
    "# statsmodels requires a constant be added\n",
    "X_test = sm.add_constant(X_test)\n",
    "X_train = sm.add_constant(X_train)"
   ]
  },
  {
   "cell_type": "code",
   "execution_count": 92,
   "metadata": {},
   "outputs": [
    {
     "name": "stdout",
     "output_type": "stream",
     "text": [
      "                            OLS Regression Results                            \n",
      "==============================================================================\n",
      "Dep. Variable:          AdoptionSpeed   R-squared:                       0.122\n",
      "Model:                            OLS   Adj. R-squared:                  0.121\n",
      "Method:                 Least Squares   F-statistic:                     72.64\n",
      "Date:                Sat, 02 May 2020   Prob (F-statistic):          2.69e-317\n",
      "Time:                        21:19:22   Log-Likelihood:                -18192.\n",
      "No. Observations:               11994   AIC:                         3.643e+04\n",
      "Df Residuals:                   11970   BIC:                         3.661e+04\n",
      "Df Model:                          23                                         \n",
      "Covariance Type:            nonrobust                                         \n",
      "====================================================================================\n",
      "                       coef    std err          t      P>|t|      [0.025      0.975]\n",
      "------------------------------------------------------------------------------------\n",
      "const                2.7818      0.098     28.460      0.000       2.590       2.973\n",
      "Gender_2             0.1048      0.021      4.935      0.000       0.063       0.146\n",
      "Vaccinated_2        -0.0562      0.030     -1.871      0.061      -0.115       0.003\n",
      "Dewormed_2           0.0250      0.030      0.844      0.399      -0.033       0.083\n",
      "FurLength_2         -0.1409      0.022     -6.530      0.000      -0.183      -0.099\n",
      "FurLength_3         -0.5878      0.047    -12.579      0.000      -0.679      -0.496\n",
      "Sterilized_2        -0.3021      0.031     -9.884      0.000      -0.362      -0.242\n",
      "Sterilized_3        -0.0881      0.038     -2.327      0.020      -0.162      -0.014\n",
      "maturity_size_2      0.1331      0.025      5.237      0.000       0.083       0.183\n",
      "maturity_size_3     -0.0542      0.042     -1.296      0.195      -0.136       0.028\n",
      "1_5_quantity_2       0.1235      0.035      3.492      0.000       0.054       0.193\n",
      "1_5_quantity_3       0.2487      0.049      5.034      0.000       0.152       0.345\n",
      "1_5_quantity_4       0.3736      0.056      6.702      0.000       0.264       0.483\n",
      "1_5_quantity_5       0.5293      0.049     10.875      0.000       0.434       0.625\n",
      "Type                -0.1369      0.022     -6.198      0.000      -0.180      -0.094\n",
      "has_name            -0.0915      0.035     -2.619      0.009      -0.160      -0.023\n",
      "age_t                0.6333      0.032     19.515      0.000       0.570       0.697\n",
      "is_pure_bred        -0.5237      0.032    -16.443      0.000      -0.586      -0.461\n",
      "is_black             0.1657      0.041      4.085      0.000       0.086       0.245\n",
      "is_injured           0.1947      0.056      3.461      0.001       0.084       0.305\n",
      "is_free             -0.0976      0.028     -3.434      0.001      -0.153      -0.042\n",
      "is_top_10_rescue    -0.0971      0.033     -2.951      0.003      -0.162      -0.033\n",
      "is_videoed          -0.0464      0.053     -0.877      0.380      -0.150       0.057\n",
      "has_photo           -0.5894      0.068     -8.673      0.000      -0.723      -0.456\n",
      "==============================================================================\n",
      "Omnibus:                      770.302   Durbin-Watson:                   2.019\n",
      "Prob(Omnibus):                  0.000   Jarque-Bera (JB):              351.588\n",
      "Skew:                          -0.220   Prob(JB):                     4.51e-77\n",
      "Kurtosis:                       2.286   Cond. No.                         29.2\n",
      "==============================================================================\n",
      "\n",
      "Warnings:\n",
      "[1] Standard Errors assume that the covariance matrix of the errors is correctly specified.\n"
     ]
    },
    {
     "data": {
      "application/javascript": [
       "\n",
       "            setTimeout(function() {\n",
       "                var nbb_cell_id = 92;\n",
       "                var nbb_unformatted_code = \"# fit an OLS model using statsmodels\\nresults = sm.OLS(y_train, X_train).fit()\\n\\n# print the summary results\\nprint(results.summary())\";\n",
       "                var nbb_formatted_code = \"# fit an OLS model using statsmodels\\nresults = sm.OLS(y_train, X_train).fit()\\n\\n# print the summary results\\nprint(results.summary())\";\n",
       "                var nbb_cells = Jupyter.notebook.get_cells();\n",
       "                for (var i = 0; i < nbb_cells.length; ++i) {\n",
       "                    if (nbb_cells[i].input_prompt_number == nbb_cell_id) {\n",
       "                        if (nbb_cells[i].get_text() == nbb_unformatted_code) {\n",
       "                             nbb_cells[i].set_text(nbb_formatted_code);\n",
       "                        }\n",
       "                        break;\n",
       "                    }\n",
       "                }\n",
       "            }, 500);\n",
       "            "
      ],
      "text/plain": [
       "<IPython.core.display.Javascript object>"
      ]
     },
     "metadata": {},
     "output_type": "display_data"
    }
   ],
   "source": [
    "# fit an OLS model using statsmodels\n",
    "results = sm.OLS(y_train, X_train).fit()\n",
    "\n",
    "# print the summary results\n",
    "print(results.summary())"
   ]
  },
  {
   "cell_type": "code",
   "execution_count": 93,
   "metadata": {},
   "outputs": [
    {
     "data": {
      "image/png": "[encoded data removed]",
      "text/plain": [
       "<Figure size 432x288 with 1 Axes>"
      ]
     },
     "metadata": {
      "needs_background": "light"
     },
     "output_type": "display_data"
    },
    {
     "name": "stdout",
     "output_type": "stream",
     "text": [
      "Mean absolute error of the prediction is: 0.9558650477813165\n",
      "Mean squared error of the prediction is: 1.2625770014562472\n",
      "Root mean squared error of the prediction is: 1.1236445173880605\n",
      "Mean absolute percentage error of the prediction is: inf\n"
     ]
    },
    {
     "data": {
      "application/javascript": [
       "\n",
       "            setTimeout(function() {\n",
       "                var nbb_cell_id = 93;\n",
       "                var nbb_unformatted_code = \"#making predictions with our test set.\\ny_preds = results.predict(X_test)\\n\\nsns.violinplot(y_test, y_preds)\\nplt.plot(y_test, y_test, color=\\\"red\\\")\\nplt.xlabel(\\\"true values\\\")\\nplt.ylabel(\\\"predicted values\\\")\\nplt.title(\\\"Charges: true and predicted values\\\")\\nplt.show()\\n\\nprint(\\\"Mean absolute error of the prediction is: {}\\\".format(mean_absolute_error(y_test, y_preds)))\\nprint(\\\"Mean squared error of the prediction is: {}\\\".format(mse(y_test, y_preds)))\\nprint(\\\"Root mean squared error of the prediction is: {}\\\".format(rmse(y_test, y_preds)))\\nprint(\\\"Mean absolute percentage error of the prediction is: {}\\\".format(np.mean(np.abs((y_test - y_preds) / y_test)) * 100))\";\n",
       "                var nbb_formatted_code = \"# making predictions with our test set.\\ny_preds = results.predict(X_test)\\n\\nsns.violinplot(y_test, y_preds)\\nplt.plot(y_test, y_test, color=\\\"red\\\")\\nplt.xlabel(\\\"true values\\\")\\nplt.ylabel(\\\"predicted values\\\")\\nplt.title(\\\"Charges: true and predicted values\\\")\\nplt.show()\\n\\nprint(\\n    \\\"Mean absolute error of the prediction is: {}\\\".format(\\n        mean_absolute_error(y_test, y_preds)\\n    )\\n)\\nprint(\\\"Mean squared error of the prediction is: {}\\\".format(mse(y_test, y_preds)))\\nprint(\\\"Root mean squared error of the prediction is: {}\\\".format(rmse(y_test, y_preds)))\\nprint(\\n    \\\"Mean absolute percentage error of the prediction is: {}\\\".format(\\n        np.mean(np.abs((y_test - y_preds) / y_test)) * 100\\n    )\\n)\";\n",
       "                var nbb_cells = Jupyter.notebook.get_cells();\n",
       "                for (var i = 0; i < nbb_cells.length; ++i) {\n",
       "                    if (nbb_cells[i].input_prompt_number == nbb_cell_id) {\n",
       "                        if (nbb_cells[i].get_text() == nbb_unformatted_code) {\n",
       "                             nbb_cells[i].set_text(nbb_formatted_code);\n",
       "                        }\n",
       "                        break;\n",
       "                    }\n",
       "                }\n",
       "            }, 500);\n",
       "            "
      ],
      "text/plain": [
       "<IPython.core.display.Javascript object>"
      ]
     },
     "metadata": {},
     "output_type": "display_data"
    }
   ],
   "source": [
    "#making predictions with our test set.\n",
    "y_preds = results.predict(X_test)\n",
    "\n",
    "sns.violinplot(y_test, y_preds)\n",
    "plt.plot(y_test, y_test, color=\"red\")\n",
    "plt.xlabel(\"true values\")\n",
    "plt.ylabel(\"predicted values\")\n",
    "plt.title(\"Charges: true and predicted values\")\n",
    "plt.show()\n",
    "\n",
    "print(\"Mean absolute error of the prediction is: {}\".format(mean_absolute_error(y_test, y_preds)))\n",
    "print(\"Mean squared error of the prediction is: {}\".format(mse(y_test, y_preds)))\n",
    "print(\"Root mean squared error of the prediction is: {}\".format(rmse(y_test, y_preds)))\n",
    "print(\"Mean absolute percentage error of the prediction is: {}\".format(np.mean(np.abs((y_test - y_preds) / y_test)) * 100))\n"
   ]
  },
  {
   "cell_type": "markdown",
   "metadata": {},
   "source": [
    "Ew that was a total fail.  Let's try a Lasso fit..."
   ]
  },
  {
   "cell_type": "code",
   "execution_count": 94,
   "metadata": {},
   "outputs": [
    {
     "name": "stdout",
     "output_type": "stream",
     "text": [
      "Fitting 5 folds for each of 1 candidates, totalling 5 fits\n",
      "selected alpha: 0.1\n"
     ]
    },
    {
     "name": "stderr",
     "output_type": "stream",
     "text": [
      "[Parallel(n_jobs=1)]: Using backend SequentialBackend with 1 concurrent workers.\n",
      "[Parallel(n_jobs=1)]: Done   5 out of   5 | elapsed:    0.0s finished\n"
     ]
    },
    {
     "data": {
      "text/html": [
       "<div>\n",
       "<style scoped>\n",
       "    .dataframe tbody tr th:only-of-type {\n",
       "        vertical-align: middle;\n",
       "    }\n",
       "\n",
       "    .dataframe tbody tr th {\n",
       "        vertical-align: top;\n",
       "    }\n",
       "\n",
       "    .dataframe thead th {\n",
       "        text-align: right;\n",
       "    }\n",
       "</style>\n",
       "<table border=\"1\" class=\"dataframe\">\n",
       "  <thead>\n",
       "    <tr style=\"text-align: right;\">\n",
       "      <th></th>\n",
       "      <th>feat</th>\n",
       "      <th>coef</th>\n",
       "    </tr>\n",
       "  </thead>\n",
       "  <tbody>\n",
       "    <tr>\n",
       "      <td>0</td>\n",
       "      <td>const</td>\n",
       "      <td>0.000000</td>\n",
       "    </tr>\n",
       "    <tr>\n",
       "      <td>1</td>\n",
       "      <td>Gender_2</td>\n",
       "      <td>0.000000</td>\n",
       "    </tr>\n",
       "    <tr>\n",
       "      <td>2</td>\n",
       "      <td>Vaccinated_2</td>\n",
       "      <td>-0.000000</td>\n",
       "    </tr>\n",
       "    <tr>\n",
       "      <td>3</td>\n",
       "      <td>Dewormed_2</td>\n",
       "      <td>-0.000000</td>\n",
       "    </tr>\n",
       "    <tr>\n",
       "      <td>4</td>\n",
       "      <td>FurLength_2</td>\n",
       "      <td>-0.000000</td>\n",
       "    </tr>\n",
       "    <tr>\n",
       "      <td>5</td>\n",
       "      <td>FurLength_3</td>\n",
       "      <td>-0.000000</td>\n",
       "    </tr>\n",
       "    <tr>\n",
       "      <td>6</td>\n",
       "      <td>Sterilized_2</td>\n",
       "      <td>-0.033552</td>\n",
       "    </tr>\n",
       "    <tr>\n",
       "      <td>7</td>\n",
       "      <td>Sterilized_3</td>\n",
       "      <td>0.000000</td>\n",
       "    </tr>\n",
       "    <tr>\n",
       "      <td>8</td>\n",
       "      <td>maturity_size_2</td>\n",
       "      <td>0.000000</td>\n",
       "    </tr>\n",
       "    <tr>\n",
       "      <td>9</td>\n",
       "      <td>maturity_size_3</td>\n",
       "      <td>-0.000000</td>\n",
       "    </tr>\n",
       "    <tr>\n",
       "      <td>10</td>\n",
       "      <td>1_5_quantity_2</td>\n",
       "      <td>0.000000</td>\n",
       "    </tr>\n",
       "    <tr>\n",
       "      <td>11</td>\n",
       "      <td>1_5_quantity_3</td>\n",
       "      <td>0.000000</td>\n",
       "    </tr>\n",
       "    <tr>\n",
       "      <td>12</td>\n",
       "      <td>1_5_quantity_4</td>\n",
       "      <td>0.000000</td>\n",
       "    </tr>\n",
       "    <tr>\n",
       "      <td>13</td>\n",
       "      <td>1_5_quantity_5</td>\n",
       "      <td>0.000000</td>\n",
       "    </tr>\n",
       "    <tr>\n",
       "      <td>14</td>\n",
       "      <td>Type</td>\n",
       "      <td>-0.000000</td>\n",
       "    </tr>\n",
       "    <tr>\n",
       "      <td>15</td>\n",
       "      <td>has_name</td>\n",
       "      <td>-0.000000</td>\n",
       "    </tr>\n",
       "    <tr>\n",
       "      <td>16</td>\n",
       "      <td>age_t</td>\n",
       "      <td>0.000000</td>\n",
       "    </tr>\n",
       "    <tr>\n",
       "      <td>17</td>\n",
       "      <td>is_pure_bred</td>\n",
       "      <td>-0.000000</td>\n",
       "    </tr>\n",
       "    <tr>\n",
       "      <td>18</td>\n",
       "      <td>is_black</td>\n",
       "      <td>0.000000</td>\n",
       "    </tr>\n",
       "    <tr>\n",
       "      <td>19</td>\n",
       "      <td>is_injured</td>\n",
       "      <td>0.000000</td>\n",
       "    </tr>\n",
       "    <tr>\n",
       "      <td>20</td>\n",
       "      <td>is_free</td>\n",
       "      <td>-0.000000</td>\n",
       "    </tr>\n",
       "    <tr>\n",
       "      <td>21</td>\n",
       "      <td>is_top_10_rescue</td>\n",
       "      <td>-0.000000</td>\n",
       "    </tr>\n",
       "    <tr>\n",
       "      <td>22</td>\n",
       "      <td>is_videoed</td>\n",
       "      <td>-0.000000</td>\n",
       "    </tr>\n",
       "    <tr>\n",
       "      <td>23</td>\n",
       "      <td>has_photo</td>\n",
       "      <td>-0.000000</td>\n",
       "    </tr>\n",
       "  </tbody>\n",
       "</table>\n",
       "</div>"
      ],
      "text/plain": [
       "                feat      coef\n",
       "0              const  0.000000\n",
       "1           Gender_2  0.000000\n",
       "2       Vaccinated_2 -0.000000\n",
       "3         Dewormed_2 -0.000000\n",
       "4        FurLength_2 -0.000000\n",
       "5        FurLength_3 -0.000000\n",
       "6       Sterilized_2 -0.033552\n",
       "7       Sterilized_3  0.000000\n",
       "8    maturity_size_2  0.000000\n",
       "9    maturity_size_3 -0.000000\n",
       "10    1_5_quantity_2  0.000000\n",
       "11    1_5_quantity_3  0.000000\n",
       "12    1_5_quantity_4  0.000000\n",
       "13    1_5_quantity_5  0.000000\n",
       "14              Type -0.000000\n",
       "15          has_name -0.000000\n",
       "16             age_t  0.000000\n",
       "17      is_pure_bred -0.000000\n",
       "18          is_black  0.000000\n",
       "19        is_injured  0.000000\n",
       "20           is_free -0.000000\n",
       "21  is_top_10_rescue -0.000000\n",
       "22        is_videoed -0.000000\n",
       "23         has_photo -0.000000"
      ]
     },
     "execution_count": 94,
     "metadata": {},
     "output_type": "execute_result"
    },
    {
     "data": {
      "application/javascript": [
       "\n",
       "            setTimeout(function() {\n",
       "                var nbb_cell_id = 94;\n",
       "                var nbb_unformatted_code = \"grid = {\\\"alpha\\\": [0.1]}\\n\\nlasso_cv = GridSearchCV(Lasso(), grid, verbose=1, cv=5)\\nlasso_cv.fit(X_train, y_train)\\n\\n# The best fit is in the best_estimator_ attribute\\nprint(f\\\"selected alpha: {lasso_cv.best_estimator_.alpha}\\\")\\n\\n\\ncoef_df = pd.DataFrame()\\ncoef_df[\\\"feat\\\"] = X_train.columns\\ncoef_df[\\\"coef\\\"] = lasso_cv.best_estimator_.coef_\\ncoef_df\";\n",
       "                var nbb_formatted_code = \"grid = {\\\"alpha\\\": [0.1]}\\n\\nlasso_cv = GridSearchCV(Lasso(), grid, verbose=1, cv=5)\\nlasso_cv.fit(X_train, y_train)\\n\\n# The best fit is in the best_estimator_ attribute\\nprint(f\\\"selected alpha: {lasso_cv.best_estimator_.alpha}\\\")\\n\\n\\ncoef_df = pd.DataFrame()\\ncoef_df[\\\"feat\\\"] = X_train.columns\\ncoef_df[\\\"coef\\\"] = lasso_cv.best_estimator_.coef_\\ncoef_df\";\n",
       "                var nbb_cells = Jupyter.notebook.get_cells();\n",
       "                for (var i = 0; i < nbb_cells.length; ++i) {\n",
       "                    if (nbb_cells[i].input_prompt_number == nbb_cell_id) {\n",
       "                        if (nbb_cells[i].get_text() == nbb_unformatted_code) {\n",
       "                             nbb_cells[i].set_text(nbb_formatted_code);\n",
       "                        }\n",
       "                        break;\n",
       "                    }\n",
       "                }\n",
       "            }, 500);\n",
       "            "
      ],
      "text/plain": [
       "<IPython.core.display.Javascript object>"
      ]
     },
     "metadata": {},
     "output_type": "display_data"
    }
   ],
   "source": [
    "grid = {\"alpha\": [0.1]}\n",
    "\n",
    "lasso_cv = GridSearchCV(Lasso(), grid, verbose=1, cv=5)\n",
    "lasso_cv.fit(X_train, y_train)\n",
    "\n",
    "# The best fit is in the best_estimator_ attribute\n",
    "print(f\"selected alpha: {lasso_cv.best_estimator_.alpha}\")\n",
    "\n",
    "\n",
    "coef_df = pd.DataFrame()\n",
    "coef_df[\"feat\"] = X_train.columns\n",
    "coef_df[\"coef\"] = lasso_cv.best_estimator_.coef_\n",
    "coef_df"
   ]
  },
  {
   "cell_type": "markdown",
   "metadata": {},
   "source": [
    "Lastly, let's try paring down the model to a few variables..."
   ]
  },
  {
   "cell_type": "code",
   "execution_count": 95,
   "metadata": {},
   "outputs": [
    {
     "data": {
      "application/javascript": [
       "\n",
       "            setTimeout(function() {\n",
       "                var nbb_cell_id = 95;\n",
       "                var nbb_unformatted_code = \"# subset\\ndf_lr_2 = df[\\n    [\\n        \\\"AdoptionSpeed\\\",\\n        \\\"Type\\\",\\n        \\\"age_t\\\",\\n        \\\"is_pure_bred\\\",\\n        \\\"has_photo\\\",\\n        \\\"is_injured\\\",\\n        \\\"is_black\\\",\\n    ]\\n]\\n\\nX = df_lr_2.drop(columns=[\\\"AdoptionSpeed\\\"])\\ny = df_lr_2[\\\"AdoptionSpeed\\\"]\\n\\nX_train, X_test, y_train, y_test = train_test_split(\\n    X, y, test_size=0.2, random_state=42, stratify=y\\n)\";\n",
       "                var nbb_formatted_code = \"# subset\\ndf_lr_2 = df[\\n    [\\n        \\\"AdoptionSpeed\\\",\\n        \\\"Type\\\",\\n        \\\"age_t\\\",\\n        \\\"is_pure_bred\\\",\\n        \\\"has_photo\\\",\\n        \\\"is_injured\\\",\\n        \\\"is_black\\\",\\n    ]\\n]\\n\\nX = df_lr_2.drop(columns=[\\\"AdoptionSpeed\\\"])\\ny = df_lr_2[\\\"AdoptionSpeed\\\"]\\n\\nX_train, X_test, y_train, y_test = train_test_split(\\n    X, y, test_size=0.2, random_state=42, stratify=y\\n)\";\n",
       "                var nbb_cells = Jupyter.notebook.get_cells();\n",
       "                for (var i = 0; i < nbb_cells.length; ++i) {\n",
       "                    if (nbb_cells[i].input_prompt_number == nbb_cell_id) {\n",
       "                        if (nbb_cells[i].get_text() == nbb_unformatted_code) {\n",
       "                             nbb_cells[i].set_text(nbb_formatted_code);\n",
       "                        }\n",
       "                        break;\n",
       "                    }\n",
       "                }\n",
       "            }, 500);\n",
       "            "
      ],
      "text/plain": [
       "<IPython.core.display.Javascript object>"
      ]
     },
     "metadata": {},
     "output_type": "display_data"
    }
   ],
   "source": [
    "# subset\n",
    "df_lr_2 = df[\n",
    "    [\n",
    "        \"AdoptionSpeed\",\n",
    "        \"Type\",\n",
    "        \"age_t\",\n",
    "        \"is_pure_bred\",\n",
    "        \"has_photo\",\n",
    "        \"is_injured\",\n",
    "        \"is_black\",\n",
    "    ]\n",
    "]\n",
    "\n",
    "X = df_lr_2.drop(columns=[\"AdoptionSpeed\"])\n",
    "y = df_lr_2[\"AdoptionSpeed\"]\n",
    "\n",
    "X_train, X_test, y_train, y_test = train_test_split(\n",
    "    X, y, test_size=0.2, random_state=42, stratify=y\n",
    ")"
   ]
  },
  {
   "cell_type": "code",
   "execution_count": 96,
   "metadata": {},
   "outputs": [
    {
     "name": "stdout",
     "output_type": "stream",
     "text": [
      "VIF results\n",
      "-------------------------------\n",
      "const           53.886071\n",
      "Type             1.007859\n",
      "age_t            1.108497\n",
      "is_pure_bred     1.104866\n",
      "has_photo        1.002996\n",
      "is_injured       1.010060\n",
      "is_black         1.003741\n",
      "dtype: float64\n",
      "-------------------------------\n",
      "\n"
     ]
    },
    {
     "data": {
      "application/javascript": [
       "\n",
       "            setTimeout(function() {\n",
       "                var nbb_cell_id = 96;\n",
       "                var nbb_unformatted_code = \"print_vif(X_train)\";\n",
       "                var nbb_formatted_code = \"print_vif(X_train)\";\n",
       "                var nbb_cells = Jupyter.notebook.get_cells();\n",
       "                for (var i = 0; i < nbb_cells.length; ++i) {\n",
       "                    if (nbb_cells[i].input_prompt_number == nbb_cell_id) {\n",
       "                        if (nbb_cells[i].get_text() == nbb_unformatted_code) {\n",
       "                             nbb_cells[i].set_text(nbb_formatted_code);\n",
       "                        }\n",
       "                        break;\n",
       "                    }\n",
       "                }\n",
       "            }, 500);\n",
       "            "
      ],
      "text/plain": [
       "<IPython.core.display.Javascript object>"
      ]
     },
     "metadata": {},
     "output_type": "display_data"
    }
   ],
   "source": [
    "print_vif(X_train)"
   ]
  },
  {
   "cell_type": "code",
   "execution_count": 97,
   "metadata": {},
   "outputs": [
    {
     "name": "stderr",
     "output_type": "stream",
     "text": [
      "/opt/anaconda3/lib/python3.7/site-packages/numpy/core/fromnumeric.py:2495: FutureWarning: Method .ptp is deprecated and will be removed in a future version. Use numpy.ptp instead.\n",
      "  return ptp(axis=axis, out=out, **kwargs)\n"
     ]
    },
    {
     "data": {
      "application/javascript": [
       "\n",
       "            setTimeout(function() {\n",
       "                var nbb_cell_id = 97;\n",
       "                var nbb_unformatted_code = \"X_test = sm.add_constant(X_test)\\nX_train = sm.add_constant(X_train)\";\n",
       "                var nbb_formatted_code = \"X_test = sm.add_constant(X_test)\\nX_train = sm.add_constant(X_train)\";\n",
       "                var nbb_cells = Jupyter.notebook.get_cells();\n",
       "                for (var i = 0; i < nbb_cells.length; ++i) {\n",
       "                    if (nbb_cells[i].input_prompt_number == nbb_cell_id) {\n",
       "                        if (nbb_cells[i].get_text() == nbb_unformatted_code) {\n",
       "                             nbb_cells[i].set_text(nbb_formatted_code);\n",
       "                        }\n",
       "                        break;\n",
       "                    }\n",
       "                }\n",
       "            }, 500);\n",
       "            "
      ],
      "text/plain": [
       "<IPython.core.display.Javascript object>"
      ]
     },
     "metadata": {},
     "output_type": "display_data"
    }
   ],
   "source": [
    "X_test = sm.add_constant(X_test)\n",
    "X_train = sm.add_constant(X_train)"
   ]
  },
  {
   "cell_type": "code",
   "execution_count": 98,
   "metadata": {},
   "outputs": [
    {
     "name": "stdout",
     "output_type": "stream",
     "text": [
      "                            OLS Regression Results                            \n",
      "==============================================================================\n",
      "Dep. Variable:          AdoptionSpeed   R-squared:                       0.078\n",
      "Model:                            OLS   Adj. R-squared:                  0.077\n",
      "Method:                 Least Squares   F-statistic:                     168.6\n",
      "Date:                Sat, 02 May 2020   Prob (F-statistic):          1.26e-206\n",
      "Time:                        21:19:23   Log-Likelihood:                -18489.\n",
      "No. Observations:               11994   AIC:                         3.699e+04\n",
      "Df Residuals:                   11987   BIC:                         3.704e+04\n",
      "Df Model:                           6                                         \n",
      "Covariance Type:            nonrobust                                         \n",
      "================================================================================\n",
      "                   coef    std err          t      P>|t|      [0.025      0.975]\n",
      "--------------------------------------------------------------------------------\n",
      "const            2.4884      0.076     32.831      0.000       2.340       2.637\n",
      "Type            -0.1551      0.021     -7.453      0.000      -0.196      -0.114\n",
      "age_t            0.6915      0.027     26.012      0.000       0.639       0.744\n",
      "is_pure_bred    -0.6073      0.032    -19.105      0.000      -0.670      -0.545\n",
      "has_photo       -0.6301      0.069     -9.088      0.000      -0.766      -0.494\n",
      "is_injured       0.1270      0.057      2.219      0.026       0.015       0.239\n",
      "is_black         0.1329      0.041      3.214      0.001       0.052       0.214\n",
      "==============================================================================\n",
      "Omnibus:                     1275.245   Durbin-Watson:                   2.010\n",
      "Prob(Omnibus):                  0.000   Jarque-Bera (JB):              420.092\n",
      "Skew:                          -0.188   Prob(JB):                     6.00e-92\n",
      "Kurtosis:                       2.164   Cond. No.                         18.3\n",
      "==============================================================================\n",
      "\n",
      "Warnings:\n",
      "[1] Standard Errors assume that the covariance matrix of the errors is correctly specified.\n"
     ]
    },
    {
     "data": {
      "application/javascript": [
       "\n",
       "            setTimeout(function() {\n",
       "                var nbb_cell_id = 98;\n",
       "                var nbb_unformatted_code = \"# We fit an OLS model using statsmodels\\nresults = sm.OLS(y_train, X_train).fit()\\n\\n# We print the summary results\\nprint(results.summary())\";\n",
       "                var nbb_formatted_code = \"# We fit an OLS model using statsmodels\\nresults = sm.OLS(y_train, X_train).fit()\\n\\n# We print the summary results\\nprint(results.summary())\";\n",
       "                var nbb_cells = Jupyter.notebook.get_cells();\n",
       "                for (var i = 0; i < nbb_cells.length; ++i) {\n",
       "                    if (nbb_cells[i].input_prompt_number == nbb_cell_id) {\n",
       "                        if (nbb_cells[i].get_text() == nbb_unformatted_code) {\n",
       "                             nbb_cells[i].set_text(nbb_formatted_code);\n",
       "                        }\n",
       "                        break;\n",
       "                    }\n",
       "                }\n",
       "            }, 500);\n",
       "            "
      ],
      "text/plain": [
       "<IPython.core.display.Javascript object>"
      ]
     },
     "metadata": {},
     "output_type": "display_data"
    }
   ],
   "source": [
    "# We fit an OLS model using statsmodels\n",
    "results = sm.OLS(y_train, X_train).fit()\n",
    "\n",
    "# We print the summary results\n",
    "print(results.summary())"
   ]
  },
  {
   "cell_type": "markdown",
   "metadata": {},
   "source": [
    "This didn't seem to work so well either...let's switch models"
   ]
  },
  {
   "cell_type": "markdown",
   "metadata": {},
   "source": [
    "# Modeling - Random Forest with Gradient Boosting"
   ]
  },
  {
   "cell_type": "code",
   "execution_count": 99,
   "metadata": {},
   "outputs": [
    {
     "data": {
      "application/javascript": [
       "\n",
       "            setTimeout(function() {\n",
       "                var nbb_cell_id = 99;\n",
       "                var nbb_unformatted_code = \"# dropping unnecessary or redundant columns\\ndf_rf = df.drop(\\n    columns=[\\n        \\\"Name\\\",\\n        \\\"Age\\\",\\n        \\\"Breed1\\\",\\n        \\\"Breed2\\\",\\n        # \\\"Color1\\\",\\n        \\\"Color2\\\",\\n        \\\"Color3\\\",\\n        \\\"MaturitySize\\\",\\n        \\\"Health\\\",\\n        \\\"Quantity\\\",\\n        \\\"Fee\\\",\\n        \\\"fee_t\\\",\\n        \\\"VideoAmt\\\",\\n        \\\"PhotoAmt\\\",\\n        \\\"RescuerID\\\",\\n        \\\"State\\\",\\n    ]\\n)\\n\\n# categorical variables that need encoding\\ncat_columns2 = [\\n    \\\"Gender\\\",\\n    \\\"Vaccinated\\\",\\n    \\\"Dewormed\\\",\\n    \\\"FurLength\\\",\\n    \\\"Sterilized\\\",\\n    \\\"maturity_size\\\",\\n    \\\"1_5_quantity\\\",\\n    # \\\"State\\\",\\n    \\\"Color1\\\",\\n    # \\\"Color2\\\",\\n    # \\\"Color3\\\",\\n]\";\n",
       "                var nbb_formatted_code = \"# dropping unnecessary or redundant columns\\ndf_rf = df.drop(\\n    columns=[\\n        \\\"Name\\\",\\n        \\\"Age\\\",\\n        \\\"Breed1\\\",\\n        \\\"Breed2\\\",\\n        # \\\"Color1\\\",\\n        \\\"Color2\\\",\\n        \\\"Color3\\\",\\n        \\\"MaturitySize\\\",\\n        \\\"Health\\\",\\n        \\\"Quantity\\\",\\n        \\\"Fee\\\",\\n        \\\"fee_t\\\",\\n        \\\"VideoAmt\\\",\\n        \\\"PhotoAmt\\\",\\n        \\\"RescuerID\\\",\\n        \\\"State\\\",\\n    ]\\n)\\n\\n# categorical variables that need encoding\\ncat_columns2 = [\\n    \\\"Gender\\\",\\n    \\\"Vaccinated\\\",\\n    \\\"Dewormed\\\",\\n    \\\"FurLength\\\",\\n    \\\"Sterilized\\\",\\n    \\\"maturity_size\\\",\\n    \\\"1_5_quantity\\\",\\n    # \\\"State\\\",\\n    \\\"Color1\\\",\\n    # \\\"Color2\\\",\\n    # \\\"Color3\\\",\\n]\";\n",
       "                var nbb_cells = Jupyter.notebook.get_cells();\n",
       "                for (var i = 0; i < nbb_cells.length; ++i) {\n",
       "                    if (nbb_cells[i].input_prompt_number == nbb_cell_id) {\n",
       "                        if (nbb_cells[i].get_text() == nbb_unformatted_code) {\n",
       "                             nbb_cells[i].set_text(nbb_formatted_code);\n",
       "                        }\n",
       "                        break;\n",
       "                    }\n",
       "                }\n",
       "            }, 500);\n",
       "            "
      ],
      "text/plain": [
       "<IPython.core.display.Javascript object>"
      ]
     },
     "metadata": {},
     "output_type": "display_data"
    }
   ],
   "source": [
    "# dropping unnecessary or redundant columns\n",
    "df_rf = df.drop(\n",
    "    columns=[\n",
    "        \"Name\",\n",
    "        \"Age\",\n",
    "        \"Breed1\",\n",
    "        \"Breed2\",\n",
    "        # \"Color1\",\n",
    "        \"Color2\",\n",
    "        \"Color3\",\n",
    "        \"MaturitySize\",\n",
    "        \"Health\",\n",
    "        \"Quantity\",\n",
    "        \"Fee\",\n",
    "        \"fee_t\",\n",
    "        \"VideoAmt\",\n",
    "        \"PhotoAmt\",\n",
    "        \"RescuerID\",\n",
    "        \"State\",\n",
    "    ]\n",
    ")\n",
    "\n",
    "# categorical variables that need encoding\n",
    "cat_columns2 = [\n",
    "    \"Gender\",\n",
    "    \"Vaccinated\",\n",
    "    \"Dewormed\",\n",
    "    \"FurLength\",\n",
    "    \"Sterilized\",\n",
    "    \"maturity_size\",\n",
    "    \"1_5_quantity\",\n",
    "    # \"State\",\n",
    "    \"Color1\",\n",
    "    # \"Color2\",\n",
    "    # \"Color3\",\n",
    "]"
   ]
  },
  {
   "cell_type": "code",
   "execution_count": 100,
   "metadata": {},
   "outputs": [
    {
     "name": "stdout",
     "output_type": "stream",
     "text": [
      "<class 'pandas.core.frame.DataFrame'>\n",
      "RangeIndex: 14993 entries, 0 to 14992\n",
      "Data columns (total 33 columns):\n",
      "Gender_2            14993 non-null float64\n",
      "Gender_3            14993 non-null float64\n",
      "Vaccinated_2        14993 non-null float64\n",
      "Vaccinated_3        14993 non-null float64\n",
      "Dewormed_2          14993 non-null float64\n",
      "Dewormed_3          14993 non-null float64\n",
      "FurLength_2         14993 non-null float64\n",
      "FurLength_3         14993 non-null float64\n",
      "Sterilized_2        14993 non-null float64\n",
      "Sterilized_3        14993 non-null float64\n",
      "maturity_size_2     14993 non-null float64\n",
      "maturity_size_3     14993 non-null float64\n",
      "1_5_quantity_2      14993 non-null float64\n",
      "1_5_quantity_3      14993 non-null float64\n",
      "1_5_quantity_4      14993 non-null float64\n",
      "1_5_quantity_5      14993 non-null float64\n",
      "Color1_2            14993 non-null float64\n",
      "Color1_3            14993 non-null float64\n",
      "Color1_4            14993 non-null float64\n",
      "Color1_5            14993 non-null float64\n",
      "Color1_6            14993 non-null float64\n",
      "Color1_7            14993 non-null float64\n",
      "Type                14993 non-null float64\n",
      "AdoptionSpeed       14993 non-null float64\n",
      "has_name            14993 non-null float64\n",
      "age_t               14993 non-null float64\n",
      "is_pure_bred        14993 non-null float64\n",
      "is_black            14993 non-null float64\n",
      "is_injured          14993 non-null float64\n",
      "is_free             14993 non-null float64\n",
      "is_top_10_rescue    14993 non-null float64\n",
      "is_videoed          14993 non-null float64\n",
      "has_photo           14993 non-null float64\n",
      "dtypes: float64(33)\n",
      "memory usage: 3.8 MB\n"
     ]
    },
    {
     "data": {
      "application/javascript": [
       "\n",
       "            setTimeout(function() {\n",
       "                var nbb_cell_id = 100;\n",
       "                var nbb_unformatted_code = \"# one-hot encode the categorical columns\\ndummy_df2 = one_hot_encode(df_rf, encode_cols=cat_columns2, index=df.index)\\n\\n# check to make sure it worked...can't be too careful!\\ndummy_df2.info()\";\n",
       "                var nbb_formatted_code = \"# one-hot encode the categorical columns\\ndummy_df2 = one_hot_encode(df_rf, encode_cols=cat_columns2, index=df.index)\\n\\n# check to make sure it worked...can't be too careful!\\ndummy_df2.info()\";\n",
       "                var nbb_cells = Jupyter.notebook.get_cells();\n",
       "                for (var i = 0; i < nbb_cells.length; ++i) {\n",
       "                    if (nbb_cells[i].input_prompt_number == nbb_cell_id) {\n",
       "                        if (nbb_cells[i].get_text() == nbb_unformatted_code) {\n",
       "                             nbb_cells[i].set_text(nbb_formatted_code);\n",
       "                        }\n",
       "                        break;\n",
       "                    }\n",
       "                }\n",
       "            }, 500);\n",
       "            "
      ],
      "text/plain": [
       "<IPython.core.display.Javascript object>"
      ]
     },
     "metadata": {},
     "output_type": "display_data"
    }
   ],
   "source": [
    "# one-hot encode the categorical columns\n",
    "dummy_df2 = one_hot_encode(df_rf, encode_cols=cat_columns2, index=df.index)\n",
    "\n",
    "# check to make sure it worked...can't be too careful!\n",
    "dummy_df2.info()"
   ]
  },
  {
   "cell_type": "code",
   "execution_count": 101,
   "metadata": {},
   "outputs": [
    {
     "name": "stdout",
     "output_type": "stream",
     "text": [
      "VIF results\n",
      "-------------------------------\n",
      "const               101.704127\n",
      "Gender_2              1.225715\n",
      "Gender_3              2.906564\n",
      "Vaccinated_2          2.380483\n",
      "Vaccinated_3          3.774573\n",
      "Dewormed_2            1.895275\n",
      "Dewormed_3            3.666136\n",
      "FurLength_2           1.059639\n",
      "FurLength_3           1.133694\n",
      "Sterilized_2          2.074688\n",
      "Sterilized_3          2.035514\n",
      "maturity_size_2       1.375377\n",
      "maturity_size_3       1.355313\n",
      "1_5_quantity_2        1.437139\n",
      "1_5_quantity_3        1.480171\n",
      "1_5_quantity_4        1.495030\n",
      "1_5_quantity_5        1.772090\n",
      "Color1_2              1.250143\n",
      "Color1_3              1.110300\n",
      "Color1_4              1.079070\n",
      "Color1_5              1.099380\n",
      "Color1_6              1.105156\n",
      "Color1_7              1.080237\n",
      "Type                  1.298067\n",
      "AdoptionSpeed         1.135862\n",
      "has_name              1.095253\n",
      "age_t                 1.814633\n",
      "is_pure_bred          1.187170\n",
      "is_black              1.107359\n",
      "is_injured            1.028704\n",
      "is_free               1.061148\n",
      "is_top_10_rescue      1.201194\n",
      "is_videoed            1.012688\n",
      "has_photo             1.019393\n",
      "dtype: float64\n",
      "-------------------------------\n",
      "\n"
     ]
    },
    {
     "data": {
      "application/javascript": [
       "\n",
       "            setTimeout(function() {\n",
       "                var nbb_cell_id = 101;\n",
       "                var nbb_unformatted_code = \"print_vif(dummy_df2)\";\n",
       "                var nbb_formatted_code = \"print_vif(dummy_df2)\";\n",
       "                var nbb_cells = Jupyter.notebook.get_cells();\n",
       "                for (var i = 0; i < nbb_cells.length; ++i) {\n",
       "                    if (nbb_cells[i].input_prompt_number == nbb_cell_id) {\n",
       "                        if (nbb_cells[i].get_text() == nbb_unformatted_code) {\n",
       "                             nbb_cells[i].set_text(nbb_formatted_code);\n",
       "                        }\n",
       "                        break;\n",
       "                    }\n",
       "                }\n",
       "            }, 500);\n",
       "            "
      ],
      "text/plain": [
       "<IPython.core.display.Javascript object>"
      ]
     },
     "metadata": {},
     "output_type": "display_data"
    }
   ],
   "source": [
    "print_vif(dummy_df2)"
   ]
  },
  {
   "cell_type": "code",
   "execution_count": 102,
   "metadata": {},
   "outputs": [
    {
     "data": {
      "application/javascript": [
       "\n",
       "            setTimeout(function() {\n",
       "                var nbb_cell_id = 102;\n",
       "                var nbb_unformatted_code = \"X = dummy_df2.drop(columns=[\\\"AdoptionSpeed\\\", \\\"Dewormed_3\\\", \\\"Vaccinated_3\\\"])\\ny = dummy_df2[\\\"AdoptionSpeed\\\"]\\n\\nX_train, X_test, y_train, y_test = train_test_split(\\n    X, y, test_size=0.2, random_state=42, stratify=y\\n)\";\n",
       "                var nbb_formatted_code = \"X = dummy_df2.drop(columns=[\\\"AdoptionSpeed\\\", \\\"Dewormed_3\\\", \\\"Vaccinated_3\\\"])\\ny = dummy_df2[\\\"AdoptionSpeed\\\"]\\n\\nX_train, X_test, y_train, y_test = train_test_split(\\n    X, y, test_size=0.2, random_state=42, stratify=y\\n)\";\n",
       "                var nbb_cells = Jupyter.notebook.get_cells();\n",
       "                for (var i = 0; i < nbb_cells.length; ++i) {\n",
       "                    if (nbb_cells[i].input_prompt_number == nbb_cell_id) {\n",
       "                        if (nbb_cells[i].get_text() == nbb_unformatted_code) {\n",
       "                             nbb_cells[i].set_text(nbb_formatted_code);\n",
       "                        }\n",
       "                        break;\n",
       "                    }\n",
       "                }\n",
       "            }, 500);\n",
       "            "
      ],
      "text/plain": [
       "<IPython.core.display.Javascript object>"
      ]
     },
     "metadata": {},
     "output_type": "display_data"
    }
   ],
   "source": [
    "X = dummy_df2.drop(columns=[\"AdoptionSpeed\", \"Dewormed_3\", \"Vaccinated_3\"])\n",
    "y = dummy_df2[\"AdoptionSpeed\"]\n",
    "\n",
    "X_train, X_test, y_train, y_test = train_test_split(\n",
    "    X, y, test_size=0.2, random_state=42, stratify=y\n",
    ")"
   ]
  },
  {
   "cell_type": "code",
   "execution_count": 103,
   "metadata": {},
   "outputs": [
    {
     "name": "stdout",
     "output_type": "stream",
     "text": [
      "train_score 0.42954810738702687\n",
      "test_score 0.3861287095698566\n"
     ]
    },
    {
     "data": {
      "application/javascript": [
       "\n",
       "            setTimeout(function() {\n",
       "                var nbb_cell_id = 103;\n",
       "                var nbb_unformatted_code = \"# fmt: off\\npipeline = Pipeline([\\n    #(\\\"encode_cats\\\", LeaveOneOutEncoder()),\\n    (\\\"gbc\\\", GradientBoostingClassifier())\\n])\\n# fmt: on\\n\\npipeline.fit(X_train, y_train)\\n\\ntrain_score = pipeline.score(X_train, y_train)\\ntest_score = pipeline.score(X_test, y_test)\\n\\nprint(f\\\"train_score {train_score}\\\")\\nprint(f\\\"test_score {test_score}\\\")\";\n",
       "                var nbb_formatted_code = \"# fmt: off\\npipeline = Pipeline([\\n    #(\\\"encode_cats\\\", LeaveOneOutEncoder()),\\n    (\\\"gbc\\\", GradientBoostingClassifier())\\n])\\n# fmt: on\\n\\npipeline.fit(X_train, y_train)\\n\\ntrain_score = pipeline.score(X_train, y_train)\\ntest_score = pipeline.score(X_test, y_test)\\n\\nprint(f\\\"train_score {train_score}\\\")\\nprint(f\\\"test_score {test_score}\\\")\";\n",
       "                var nbb_cells = Jupyter.notebook.get_cells();\n",
       "                for (var i = 0; i < nbb_cells.length; ++i) {\n",
       "                    if (nbb_cells[i].input_prompt_number == nbb_cell_id) {\n",
       "                        if (nbb_cells[i].get_text() == nbb_unformatted_code) {\n",
       "                             nbb_cells[i].set_text(nbb_formatted_code);\n",
       "                        }\n",
       "                        break;\n",
       "                    }\n",
       "                }\n",
       "            }, 500);\n",
       "            "
      ],
      "text/plain": [
       "<IPython.core.display.Javascript object>"
      ]
     },
     "metadata": {},
     "output_type": "display_data"
    }
   ],
   "source": [
    "# fmt: off\n",
    "pipeline = Pipeline([\n",
    "    #(\"encode_cats\", LeaveOneOutEncoder()),\n",
    "    (\"gbc\", GradientBoostingClassifier())\n",
    "])\n",
    "# fmt: on\n",
    "\n",
    "pipeline.fit(X_train, y_train)\n",
    "\n",
    "train_score = pipeline.score(X_train, y_train)\n",
    "test_score = pipeline.score(X_test, y_test)\n",
    "\n",
    "print(f\"train_score {train_score}\")\n",
    "print(f\"test_score {test_score}\")"
   ]
  },
  {
   "cell_type": "code",
   "execution_count": 104,
   "metadata": {},
   "outputs": [
    {
     "name": "stdout",
     "output_type": "stream",
     "text": [
      "              precision    recall  f1-score   support\n",
      "\n",
      "         0.0       0.20      0.02      0.04        82\n",
      "         1.0       0.32      0.30      0.31       618\n",
      "         2.0       0.34      0.43      0.38       807\n",
      "         3.0       0.43      0.12      0.19       652\n",
      "         4.0       0.46      0.65      0.54       840\n",
      "\n",
      "    accuracy                           0.39      2999\n",
      "   macro avg       0.35      0.30      0.29      2999\n",
      "weighted avg       0.38      0.39      0.36      2999\n",
      "\n"
     ]
    },
    {
     "data": {
      "application/javascript": [
       "\n",
       "            setTimeout(function() {\n",
       "                var nbb_cell_id = 104;\n",
       "                var nbb_unformatted_code = \"y_pred = pipeline.predict(X_test)\\nmean_absolute_error(y_test, y_pred)\\nconfusion_matrix(y_test, y_pred)\\nprint(classification_report(y_test, y_pred))\";\n",
       "                var nbb_formatted_code = \"y_pred = pipeline.predict(X_test)\\nmean_absolute_error(y_test, y_pred)\\nconfusion_matrix(y_test, y_pred)\\nprint(classification_report(y_test, y_pred))\";\n",
       "                var nbb_cells = Jupyter.notebook.get_cells();\n",
       "                for (var i = 0; i < nbb_cells.length; ++i) {\n",
       "                    if (nbb_cells[i].input_prompt_number == nbb_cell_id) {\n",
       "                        if (nbb_cells[i].get_text() == nbb_unformatted_code) {\n",
       "                             nbb_cells[i].set_text(nbb_formatted_code);\n",
       "                        }\n",
       "                        break;\n",
       "                    }\n",
       "                }\n",
       "            }, 500);\n",
       "            "
      ],
      "text/plain": [
       "<IPython.core.display.Javascript object>"
      ]
     },
     "metadata": {},
     "output_type": "display_data"
    }
   ],
   "source": [
    "y_pred = pipeline.predict(X_test)\n",
    "mean_absolute_error(y_test, y_pred)\n",
    "confusion_matrix(y_test, y_pred)\n",
    "print(classification_report(y_test, y_pred))"
   ]
  },
  {
   "cell_type": "markdown",
   "metadata": {},
   "source": [
    "Still not great predictive power, but way better than linear regression.  Let's run this model on a grid and find the best hyperparameters possible."
   ]
  },
  {
   "cell_type": "code",
   "execution_count": null,
   "metadata": {},
   "outputs": [
    {
     "name": "stdout",
     "output_type": "stream",
     "text": [
      "Fitting 7 folds for each of 1 candidates, totalling 7 fits\n"
     ]
    },
    {
     "name": "stderr",
     "output_type": "stream",
     "text": [
      "[Parallel(n_jobs=1)]: Using backend SequentialBackend with 1 concurrent workers.\n"
     ]
    }
   ],
   "source": [
    "# Takes a while to run\n",
    "# grid = {\n",
    "#     \"gbc__subsample\": [0.5, 0.75, 1.0],\n",
    "#     \"gbc__max_features\": [0.5, 0.75, 1.0],\n",
    "#     \"gbc__max_depth\": [5, 7, 9],\n",
    "# }\n",
    "\n",
    "# shorter option\n",
    "grid = {\n",
    "    \"gbc__subsample\": [0.25],\n",
    "    \"gbc__max_features\": [0.25],\n",
    "    \"gbc__max_depth\": [7],\n",
    "}\n",
    "\n",
    "n_trees = 100\n",
    "learning_rate = 2 / n_trees\n",
    "\n",
    "# fmt: off\n",
    "pipeline = Pipeline([\n",
    "#     (\"encode_cats\", LeaveOneOutEncoder()),\n",
    "    (\"gbc\", GradientBoostingClassifier(n_estimators=n_trees, \n",
    "                                      learning_rate=learning_rate))\n",
    "])\n",
    "# fmt: on\n",
    "\n",
    "pipeline_cv = GridSearchCV(pipeline, grid, verbose=1, cv=7)\n",
    "pipeline_cv.fit(X_train, y_train)\n",
    "\n",
    "pipeline_cv.best_params_"
   ]
  },
  {
   "cell_type": "code",
   "execution_count": null,
   "metadata": {},
   "outputs": [],
   "source": [
    "train_score = pipeline_cv.score(X_train, y_train)\n",
    "test_score = pipeline_cv.score(X_test, y_test)\n",
    "\n",
    "print(f\"train_score {train_score}\")\n",
    "print(f\"test_score {test_score}\")"
   ]
  },
  {
   "cell_type": "markdown",
   "metadata": {},
   "source": [
    "A little better with some tuning, but still not great.  Little bit of overfitting going on.  Let's compare these results to a super naive model:"
   ]
  },
  {
   "cell_type": "code",
   "execution_count": null,
   "metadata": {},
   "outputs": [],
   "source": [
    "dummy = DummyClassifier(strategy=\"uniform\")\n",
    "dummy.fit(X_train, y_train)\n",
    "dummy.score(X_test, y_test)"
   ]
  },
  {
   "cell_type": "markdown",
   "metadata": {},
   "source": [
    "We're doing 19% better than just predicting a uniform distribution.  Let's try to see where the model went wrong."
   ]
  },
  {
   "cell_type": "code",
   "execution_count": null,
   "metadata": {},
   "outputs": [],
   "source": [
    "y_pred = pipeline_cv.predict(X_test)\n",
    "\n",
    "confusion = confusion_matrix(y_test, y_pred)\n",
    "\n",
    "plot_confusion_matrix(\n",
    "    cm=confusion,\n",
    "    target_names=[\"0\", \"1\", \"2\", \"3\", \"4\"],\n",
    "    title=\"Confusion Matrix\",\n",
    "    normalize=False,\n",
    ")"
   ]
  },
  {
   "cell_type": "code",
   "execution_count": null,
   "metadata": {},
   "outputs": [],
   "source": [
    "feat_import = pipeline_cv.best_estimator_[\"gbc\"].feature_importances_\n",
    "feat_import_df = pd.DataFrame({\"feat\": X.columns, \"importance\": feat_import})\n",
    "feat_import_df = feat_import_df.sort_values(\"importance\", ascending=False)\n",
    "\n",
    "pred_df = X_test.copy()\n",
    "pred_df[\"actual\"] = y_test\n",
    "pred_df[\"predicted\"] = pipeline_cv.predict(X_test)\n",
    "pred_df[\"error\"] = pred_df[\"predicted\"] - pred_df[\"actual\"]\n",
    "pred_df[\"abs_error\"] = pred_df[\"error\"].abs()\n",
    "pred_df = pred_df.sort_values(\"abs_error\", ascending=False)\n",
    "\n",
    "most_important = list(feat_import_df[\"feat\"].head(6))\n",
    "\n",
    "display(feat_import_df.head(10))\n",
    "display(pred_df.head(10))\n",
    "\n",
    "plt.scatter(pred_df[\"actual\"], pred_df[\"predicted\"])\n",
    "plt.plot(\n",
    "    [pred_df[\"actual\"].min(), pred_df[\"actual\"].max()],\n",
    "    [pred_df[\"actual\"].min(), pred_df[\"actual\"].max()],\n",
    ")\n",
    "plt.show()\n",
    "\n",
    "print(most_important)\n",
    "\n",
    "important_vars_df = X[most_important]\n",
    "display(important_vars_df.head(10))\n",
    "important_vars_df[\"AdoptionSpeed\"] = df[\"AdoptionSpeed\"]\n",
    "sns.pairplot(important_vars_df)\n",
    "plt.show()"
   ]
  },
  {
   "cell_type": "markdown",
   "metadata": {},
   "source": [
    "Not a lot to glean from the mistakes being made.  They don't seem to point to any weakness in the model that can be fixed or tuned.  I think this is just a tough problem to model.  \n",
    "\n",
    "In future I may want to play around with adding in the photo and decription data.  I peaked at the results of the Kaggle competition and was relieved to see that no one scored above a 45%.  "
   ]
  }
 ],
 "metadata": {
  "kernelspec": {
   "display_name": "Python 3",
   "language": "python",
   "name": "python3"
  },
  "language_info": {
   "codemirror_mode": {
    "name": "ipython",
    "version": 3
   },
   "file_extension": ".py",
   "mimetype": "text/x-python",
   "name": "python",
   "nbconvert_exporter": "python",
   "pygments_lexer": "ipython3",
   "version": "3.7.4"
  }
 },
 "nbformat": 4,
 "nbformat_minor": 2
}
