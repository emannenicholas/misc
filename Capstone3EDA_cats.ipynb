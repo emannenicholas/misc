{
 "cells": [
  {
   "cell_type": "markdown",
   "metadata": {},
   "source": [
    "# Info from Kaggle\n",
    "\n",
    "Data Fields\n",
    "* PetID - Unique hash ID of pet profile\n",
    "* AdoptionSpeed - Categorical speed of adoption. Lower is faster. This is the value to predict. See below section for more info.\n",
    "* Type - Type of animal (1 = Dog, 2 = Cat)\n",
    "* Name - Name of pet (Empty if not named)\n",
    "* Age - Age of pet when listed, in months\n",
    "* Breed1 - Primary breed of pet (Refer to BreedLabels dictionary)\n",
    "* Breed2 - Secondary breed of pet, if pet is of mixed breed (Refer to BreedLabels dictionary)\n",
    "* Gender - Gender of pet (1 = Male, 2 = Female, 3 = Mixed, if profile represents group of pets)\n",
    "* Color1 - Color 1 of pet (Refer to ColorLabels dictionary)\n",
    "* Color2 - Color 2 of pet (Refer to ColorLabels dictionary)\n",
    "* Color3 - Color 3 of pet (Refer to ColorLabels dictionary)\n",
    "* MaturitySize - Size at maturity (1 = Small, 2 = Medium, 3 = Large, 4 = Extra Large, 0 = Not Specified)\n",
    "* FurLength - Fur length (1 = Short, 2 = Medium, 3 = Long, 0 = Not Specified)\n",
    "* Vaccinated - Pet has been vaccinated (1 = Yes, 2 = No, 3 = Not Sure)\n",
    "* Dewormed - Pet has been dewormed (1 = Yes, 2 = No, 3 = Not Sure)\n",
    "* Sterilized - Pet has been spayed / neutered (1 = Yes, 2 = No, 3 = Not Sure)\n",
    "* Health - Health Condition (1 = Healthy, 2 = Minor Injury, 3 = Serious Injury, 0 = Not Specified)\n",
    "* Quantity - Number of pets represented in profile\n",
    "* Fee - Adoption fee (0 = Free)\n",
    "* State - State location in Malaysia (Refer to StateLabels dictionary)\n",
    "* RescuerID - Unique hash ID of rescuer\n",
    "* VideoAmt - Total uploaded videos for this pet\n",
    "* PhotoAmt - Total uploaded photos for this pet\n",
    "* Description - Profile write-up for this pet. The primary language used is English, with some in Malay or Chinese.\n",
    "\n",
    "AdoptionSpeed\n",
    "\n",
    "Contestants are required to predict this value. The value is determined by how quickly, if at all, a pet is adopted. The values are determined in the following way:\n",
    "* 0 - Pet was adopted on the same day as it was listed.\n",
    "* 1 - Pet was adopted between 1 and 7 days (1st week) after being listed.\n",
    "* 2 - Pet was adopted between 8 and 30 days (1st month) after being listed.\n",
    "* 3 - Pet was adopted between 31 and 90 days (2nd & 3rd month) after being listed.\n",
    "* 4 - No adoption after 100 days of being listed. (There are no pets in this dataset that waited between 90 and 100 days)."
   ]
  },
  {
   "cell_type": "markdown",
   "metadata": {},
   "source": [
    "# Setting up the Environment"
   ]
  },
  {
   "cell_type": "code",
   "execution_count": 1,
   "metadata": {},
   "outputs": [
    {
     "data": {
      "application/javascript": [
       "\n",
       "            setTimeout(function() {\n",
       "                var nbb_cell_id = 1;\n",
       "                var nbb_unformatted_code = \"%reload_ext nb_black\";\n",
       "                var nbb_formatted_code = \"%reload_ext nb_black\";\n",
       "                var nbb_cells = Jupyter.notebook.get_cells();\n",
       "                for (var i = 0; i < nbb_cells.length; ++i) {\n",
       "                    if (nbb_cells[i].input_prompt_number == nbb_cell_id) {\n",
       "                        if (nbb_cells[i].get_text() == nbb_unformatted_code) {\n",
       "                             nbb_cells[i].set_text(nbb_formatted_code);\n",
       "                        }\n",
       "                        break;\n",
       "                    }\n",
       "                }\n",
       "            }, 500);\n",
       "            "
      ],
      "text/plain": [
       "<IPython.core.display.Javascript object>"
      ]
     },
     "metadata": {},
     "output_type": "display_data"
    }
   ],
   "source": [
    "%reload_ext nb_black"
   ]
  },
  {
   "cell_type": "code",
   "execution_count": 2,
   "metadata": {},
   "outputs": [
    {
     "name": "stderr",
     "output_type": "stream",
     "text": [
      "/opt/anaconda3/lib/python3.7/site-packages/statsmodels/tools/_testing.py:19: FutureWarning: pandas.util.testing is deprecated. Use the functions in the public API at pandas.testing instead.\n",
      "  import pandas.util.testing as tm\n"
     ]
    },
    {
     "data": {
      "application/javascript": [
       "\n",
       "            setTimeout(function() {\n",
       "                var nbb_cell_id = 2;\n",
       "                var nbb_unformatted_code = \"import warnings\\n\\nimport pandas as pd\\nimport numpy as np\\n\\nfrom pandas import get_dummies\\n\\nfrom sklearn.cluster import DBSCAN\\nfrom sklearn.cluster import AffinityPropagation\\nfrom sklearn.metrics import silhouette_score\\n\\nfrom scipy.spatial.distance import pdist, squareform\\n\\nfrom pyclustering.cluster.kmedoids import kmedoids\\n\\n\\nfrom scipy.stats import mannwhitneyu\\n\\nimport seaborn as sns\\nimport matplotlib.pyplot as plt\";\n",
       "                var nbb_formatted_code = \"import warnings\\n\\nimport pandas as pd\\nimport numpy as np\\n\\nfrom pandas import get_dummies\\n\\nfrom sklearn.cluster import DBSCAN\\nfrom sklearn.cluster import AffinityPropagation\\nfrom sklearn.metrics import silhouette_score\\n\\nfrom scipy.spatial.distance import pdist, squareform\\n\\nfrom pyclustering.cluster.kmedoids import kmedoids\\n\\n\\nfrom scipy.stats import mannwhitneyu\\n\\nimport seaborn as sns\\nimport matplotlib.pyplot as plt\";\n",
       "                var nbb_cells = Jupyter.notebook.get_cells();\n",
       "                for (var i = 0; i < nbb_cells.length; ++i) {\n",
       "                    if (nbb_cells[i].input_prompt_number == nbb_cell_id) {\n",
       "                        if (nbb_cells[i].get_text() == nbb_unformatted_code) {\n",
       "                             nbb_cells[i].set_text(nbb_formatted_code);\n",
       "                        }\n",
       "                        break;\n",
       "                    }\n",
       "                }\n",
       "            }, 500);\n",
       "            "
      ],
      "text/plain": [
       "<IPython.core.display.Javascript object>"
      ]
     },
     "metadata": {},
     "output_type": "display_data"
    }
   ],
   "source": [
    "import warnings\n",
    "\n",
    "import pandas as pd\n",
    "import numpy as np\n",
    "\n",
    "from pandas import get_dummies\n",
    "\n",
    "from sklearn.cluster import DBSCAN\n",
    "from sklearn.cluster import AffinityPropagation\n",
    "from sklearn.metrics import silhouette_score\n",
    "\n",
    "from scipy.spatial.distance import pdist, squareform\n",
    "\n",
    "from pyclustering.cluster.kmedoids import kmedoids\n",
    "\n",
    "\n",
    "from scipy.stats import mannwhitneyu\n",
    "\n",
    "import seaborn as sns\n",
    "import matplotlib.pyplot as plt"
   ]
  },
  {
   "cell_type": "markdown",
   "metadata": {},
   "source": [
    "# Reading in the Data"
   ]
  },
  {
   "cell_type": "code",
   "execution_count": 3,
   "metadata": {},
   "outputs": [
    {
     "data": {
      "application/javascript": [
       "\n",
       "            setTimeout(function() {\n",
       "                var nbb_cell_id = 3;\n",
       "                var nbb_unformatted_code = \"breed_labels_df = pd.read_csv(\\\"breed_labels.csv\\\")\";\n",
       "                var nbb_formatted_code = \"breed_labels_df = pd.read_csv(\\\"breed_labels.csv\\\")\";\n",
       "                var nbb_cells = Jupyter.notebook.get_cells();\n",
       "                for (var i = 0; i < nbb_cells.length; ++i) {\n",
       "                    if (nbb_cells[i].input_prompt_number == nbb_cell_id) {\n",
       "                        if (nbb_cells[i].get_text() == nbb_unformatted_code) {\n",
       "                             nbb_cells[i].set_text(nbb_formatted_code);\n",
       "                        }\n",
       "                        break;\n",
       "                    }\n",
       "                }\n",
       "            }, 500);\n",
       "            "
      ],
      "text/plain": [
       "<IPython.core.display.Javascript object>"
      ]
     },
     "metadata": {},
     "output_type": "display_data"
    }
   ],
   "source": [
    "breed_labels_df = pd.read_csv(\"breed_labels.csv\")"
   ]
  },
  {
   "cell_type": "code",
   "execution_count": 4,
   "metadata": {},
   "outputs": [
    {
     "data": {
      "text/html": [
       "<div>\n",
       "<style scoped>\n",
       "    .dataframe tbody tr th:only-of-type {\n",
       "        vertical-align: middle;\n",
       "    }\n",
       "\n",
       "    .dataframe tbody tr th {\n",
       "        vertical-align: top;\n",
       "    }\n",
       "\n",
       "    .dataframe thead th {\n",
       "        text-align: right;\n",
       "    }\n",
       "</style>\n",
       "<table border=\"1\" class=\"dataframe\">\n",
       "  <thead>\n",
       "    <tr style=\"text-align: right;\">\n",
       "      <th></th>\n",
       "      <th>BreedID</th>\n",
       "      <th>Type</th>\n",
       "      <th>BreedName</th>\n",
       "    </tr>\n",
       "  </thead>\n",
       "  <tbody>\n",
       "    <tr>\n",
       "      <th>302</th>\n",
       "      <td>302</td>\n",
       "      <td>2</td>\n",
       "      <td>Torbie</td>\n",
       "    </tr>\n",
       "    <tr>\n",
       "      <th>303</th>\n",
       "      <td>303</td>\n",
       "      <td>2</td>\n",
       "      <td>Tortoiseshell</td>\n",
       "    </tr>\n",
       "    <tr>\n",
       "      <th>304</th>\n",
       "      <td>304</td>\n",
       "      <td>2</td>\n",
       "      <td>Turkish Angora</td>\n",
       "    </tr>\n",
       "    <tr>\n",
       "      <th>305</th>\n",
       "      <td>305</td>\n",
       "      <td>2</td>\n",
       "      <td>Turkish Van</td>\n",
       "    </tr>\n",
       "    <tr>\n",
       "      <th>306</th>\n",
       "      <td>306</td>\n",
       "      <td>2</td>\n",
       "      <td>Tuxedo</td>\n",
       "    </tr>\n",
       "  </tbody>\n",
       "</table>\n",
       "</div>"
      ],
      "text/plain": [
       "     BreedID  Type       BreedName\n",
       "302      302     2          Torbie\n",
       "303      303     2   Tortoiseshell\n",
       "304      304     2  Turkish Angora\n",
       "305      305     2     Turkish Van\n",
       "306      306     2          Tuxedo"
      ]
     },
     "execution_count": 4,
     "metadata": {},
     "output_type": "execute_result"
    },
    {
     "data": {
      "application/javascript": [
       "\n",
       "            setTimeout(function() {\n",
       "                var nbb_cell_id = 4;\n",
       "                var nbb_unformatted_code = \"breed_labels_df.tail()\";\n",
       "                var nbb_formatted_code = \"breed_labels_df.tail()\";\n",
       "                var nbb_cells = Jupyter.notebook.get_cells();\n",
       "                for (var i = 0; i < nbb_cells.length; ++i) {\n",
       "                    if (nbb_cells[i].input_prompt_number == nbb_cell_id) {\n",
       "                        if (nbb_cells[i].get_text() == nbb_unformatted_code) {\n",
       "                             nbb_cells[i].set_text(nbb_formatted_code);\n",
       "                        }\n",
       "                        break;\n",
       "                    }\n",
       "                }\n",
       "            }, 500);\n",
       "            "
      ],
      "text/plain": [
       "<IPython.core.display.Javascript object>"
      ]
     },
     "metadata": {},
     "output_type": "display_data"
    }
   ],
   "source": [
    "breed_labels_df.tail()"
   ]
  },
  {
   "cell_type": "code",
   "execution_count": 5,
   "metadata": {},
   "outputs": [
    {
     "data": {
      "application/javascript": [
       "\n",
       "            setTimeout(function() {\n",
       "                var nbb_cell_id = 5;\n",
       "                var nbb_unformatted_code = \"color_labels_df = pd.read_csv(\\\"color_labels.csv\\\")\";\n",
       "                var nbb_formatted_code = \"color_labels_df = pd.read_csv(\\\"color_labels.csv\\\")\";\n",
       "                var nbb_cells = Jupyter.notebook.get_cells();\n",
       "                for (var i = 0; i < nbb_cells.length; ++i) {\n",
       "                    if (nbb_cells[i].input_prompt_number == nbb_cell_id) {\n",
       "                        if (nbb_cells[i].get_text() == nbb_unformatted_code) {\n",
       "                             nbb_cells[i].set_text(nbb_formatted_code);\n",
       "                        }\n",
       "                        break;\n",
       "                    }\n",
       "                }\n",
       "            }, 500);\n",
       "            "
      ],
      "text/plain": [
       "<IPython.core.display.Javascript object>"
      ]
     },
     "metadata": {},
     "output_type": "display_data"
    }
   ],
   "source": [
    "color_labels_df = pd.read_csv(\"color_labels.csv\")"
   ]
  },
  {
   "cell_type": "code",
   "execution_count": 6,
   "metadata": {},
   "outputs": [
    {
     "data": {
      "text/html": [
       "<div>\n",
       "<style scoped>\n",
       "    .dataframe tbody tr th:only-of-type {\n",
       "        vertical-align: middle;\n",
       "    }\n",
       "\n",
       "    .dataframe tbody tr th {\n",
       "        vertical-align: top;\n",
       "    }\n",
       "\n",
       "    .dataframe thead th {\n",
       "        text-align: right;\n",
       "    }\n",
       "</style>\n",
       "<table border=\"1\" class=\"dataframe\">\n",
       "  <thead>\n",
       "    <tr style=\"text-align: right;\">\n",
       "      <th></th>\n",
       "      <th>ColorID</th>\n",
       "      <th>ColorName</th>\n",
       "    </tr>\n",
       "  </thead>\n",
       "  <tbody>\n",
       "    <tr>\n",
       "      <th>0</th>\n",
       "      <td>1</td>\n",
       "      <td>Black</td>\n",
       "    </tr>\n",
       "    <tr>\n",
       "      <th>1</th>\n",
       "      <td>2</td>\n",
       "      <td>Brown</td>\n",
       "    </tr>\n",
       "    <tr>\n",
       "      <th>2</th>\n",
       "      <td>3</td>\n",
       "      <td>Golden</td>\n",
       "    </tr>\n",
       "    <tr>\n",
       "      <th>3</th>\n",
       "      <td>4</td>\n",
       "      <td>Yellow</td>\n",
       "    </tr>\n",
       "    <tr>\n",
       "      <th>4</th>\n",
       "      <td>5</td>\n",
       "      <td>Cream</td>\n",
       "    </tr>\n",
       "    <tr>\n",
       "      <th>5</th>\n",
       "      <td>6</td>\n",
       "      <td>Gray</td>\n",
       "    </tr>\n",
       "    <tr>\n",
       "      <th>6</th>\n",
       "      <td>7</td>\n",
       "      <td>White</td>\n",
       "    </tr>\n",
       "  </tbody>\n",
       "</table>\n",
       "</div>"
      ],
      "text/plain": [
       "   ColorID ColorName\n",
       "0        1     Black\n",
       "1        2     Brown\n",
       "2        3    Golden\n",
       "3        4    Yellow\n",
       "4        5     Cream\n",
       "5        6      Gray\n",
       "6        7     White"
      ]
     },
     "execution_count": 6,
     "metadata": {},
     "output_type": "execute_result"
    },
    {
     "data": {
      "application/javascript": [
       "\n",
       "            setTimeout(function() {\n",
       "                var nbb_cell_id = 6;\n",
       "                var nbb_unformatted_code = \"color_labels_df.head(20)\";\n",
       "                var nbb_formatted_code = \"color_labels_df.head(20)\";\n",
       "                var nbb_cells = Jupyter.notebook.get_cells();\n",
       "                for (var i = 0; i < nbb_cells.length; ++i) {\n",
       "                    if (nbb_cells[i].input_prompt_number == nbb_cell_id) {\n",
       "                        if (nbb_cells[i].get_text() == nbb_unformatted_code) {\n",
       "                             nbb_cells[i].set_text(nbb_formatted_code);\n",
       "                        }\n",
       "                        break;\n",
       "                    }\n",
       "                }\n",
       "            }, 500);\n",
       "            "
      ],
      "text/plain": [
       "<IPython.core.display.Javascript object>"
      ]
     },
     "metadata": {},
     "output_type": "display_data"
    }
   ],
   "source": [
    "color_labels_df.head(20)"
   ]
  },
  {
   "cell_type": "code",
   "execution_count": 7,
   "metadata": {},
   "outputs": [
    {
     "data": {
      "application/javascript": [
       "\n",
       "            setTimeout(function() {\n",
       "                var nbb_cell_id = 7;\n",
       "                var nbb_unformatted_code = \"state_labels_df = pd.read_csv(\\\"state_labels.csv\\\")\";\n",
       "                var nbb_formatted_code = \"state_labels_df = pd.read_csv(\\\"state_labels.csv\\\")\";\n",
       "                var nbb_cells = Jupyter.notebook.get_cells();\n",
       "                for (var i = 0; i < nbb_cells.length; ++i) {\n",
       "                    if (nbb_cells[i].input_prompt_number == nbb_cell_id) {\n",
       "                        if (nbb_cells[i].get_text() == nbb_unformatted_code) {\n",
       "                             nbb_cells[i].set_text(nbb_formatted_code);\n",
       "                        }\n",
       "                        break;\n",
       "                    }\n",
       "                }\n",
       "            }, 500);\n",
       "            "
      ],
      "text/plain": [
       "<IPython.core.display.Javascript object>"
      ]
     },
     "metadata": {},
     "output_type": "display_data"
    }
   ],
   "source": [
    "state_labels_df = pd.read_csv(\"state_labels.csv\")"
   ]
  },
  {
   "cell_type": "code",
   "execution_count": 8,
   "metadata": {},
   "outputs": [
    {
     "data": {
      "text/html": [
       "<div>\n",
       "<style scoped>\n",
       "    .dataframe tbody tr th:only-of-type {\n",
       "        vertical-align: middle;\n",
       "    }\n",
       "\n",
       "    .dataframe tbody tr th {\n",
       "        vertical-align: top;\n",
       "    }\n",
       "\n",
       "    .dataframe thead th {\n",
       "        text-align: right;\n",
       "    }\n",
       "</style>\n",
       "<table border=\"1\" class=\"dataframe\">\n",
       "  <thead>\n",
       "    <tr style=\"text-align: right;\">\n",
       "      <th></th>\n",
       "      <th>StateID</th>\n",
       "      <th>StateName</th>\n",
       "    </tr>\n",
       "  </thead>\n",
       "  <tbody>\n",
       "    <tr>\n",
       "      <th>0</th>\n",
       "      <td>41336</td>\n",
       "      <td>Johor</td>\n",
       "    </tr>\n",
       "    <tr>\n",
       "      <th>1</th>\n",
       "      <td>41325</td>\n",
       "      <td>Kedah</td>\n",
       "    </tr>\n",
       "    <tr>\n",
       "      <th>2</th>\n",
       "      <td>41367</td>\n",
       "      <td>Kelantan</td>\n",
       "    </tr>\n",
       "    <tr>\n",
       "      <th>3</th>\n",
       "      <td>41401</td>\n",
       "      <td>Kuala Lumpur</td>\n",
       "    </tr>\n",
       "    <tr>\n",
       "      <th>4</th>\n",
       "      <td>41415</td>\n",
       "      <td>Labuan</td>\n",
       "    </tr>\n",
       "    <tr>\n",
       "      <th>5</th>\n",
       "      <td>41324</td>\n",
       "      <td>Melaka</td>\n",
       "    </tr>\n",
       "    <tr>\n",
       "      <th>6</th>\n",
       "      <td>41332</td>\n",
       "      <td>Negeri Sembilan</td>\n",
       "    </tr>\n",
       "    <tr>\n",
       "      <th>7</th>\n",
       "      <td>41335</td>\n",
       "      <td>Pahang</td>\n",
       "    </tr>\n",
       "    <tr>\n",
       "      <th>8</th>\n",
       "      <td>41330</td>\n",
       "      <td>Perak</td>\n",
       "    </tr>\n",
       "    <tr>\n",
       "      <th>9</th>\n",
       "      <td>41380</td>\n",
       "      <td>Perlis</td>\n",
       "    </tr>\n",
       "    <tr>\n",
       "      <th>10</th>\n",
       "      <td>41327</td>\n",
       "      <td>Pulau Pinang</td>\n",
       "    </tr>\n",
       "    <tr>\n",
       "      <th>11</th>\n",
       "      <td>41345</td>\n",
       "      <td>Sabah</td>\n",
       "    </tr>\n",
       "    <tr>\n",
       "      <th>12</th>\n",
       "      <td>41342</td>\n",
       "      <td>Sarawak</td>\n",
       "    </tr>\n",
       "    <tr>\n",
       "      <th>13</th>\n",
       "      <td>41326</td>\n",
       "      <td>Selangor</td>\n",
       "    </tr>\n",
       "    <tr>\n",
       "      <th>14</th>\n",
       "      <td>41361</td>\n",
       "      <td>Terengganu</td>\n",
       "    </tr>\n",
       "  </tbody>\n",
       "</table>\n",
       "</div>"
      ],
      "text/plain": [
       "    StateID        StateName\n",
       "0     41336            Johor\n",
       "1     41325            Kedah\n",
       "2     41367         Kelantan\n",
       "3     41401     Kuala Lumpur\n",
       "4     41415           Labuan\n",
       "5     41324           Melaka\n",
       "6     41332  Negeri Sembilan\n",
       "7     41335           Pahang\n",
       "8     41330            Perak\n",
       "9     41380           Perlis\n",
       "10    41327     Pulau Pinang\n",
       "11    41345            Sabah\n",
       "12    41342          Sarawak\n",
       "13    41326         Selangor\n",
       "14    41361       Terengganu"
      ]
     },
     "execution_count": 8,
     "metadata": {},
     "output_type": "execute_result"
    },
    {
     "data": {
      "application/javascript": [
       "\n",
       "            setTimeout(function() {\n",
       "                var nbb_cell_id = 8;\n",
       "                var nbb_unformatted_code = \"state_labels_df.head(20)\";\n",
       "                var nbb_formatted_code = \"state_labels_df.head(20)\";\n",
       "                var nbb_cells = Jupyter.notebook.get_cells();\n",
       "                for (var i = 0; i < nbb_cells.length; ++i) {\n",
       "                    if (nbb_cells[i].input_prompt_number == nbb_cell_id) {\n",
       "                        if (nbb_cells[i].get_text() == nbb_unformatted_code) {\n",
       "                             nbb_cells[i].set_text(nbb_formatted_code);\n",
       "                        }\n",
       "                        break;\n",
       "                    }\n",
       "                }\n",
       "            }, 500);\n",
       "            "
      ],
      "text/plain": [
       "<IPython.core.display.Javascript object>"
      ]
     },
     "metadata": {},
     "output_type": "display_data"
    }
   ],
   "source": [
    "state_labels_df.head(20)"
   ]
  },
  {
   "cell_type": "code",
   "execution_count": 9,
   "metadata": {},
   "outputs": [
    {
     "data": {
      "application/javascript": [
       "\n",
       "            setTimeout(function() {\n",
       "                var nbb_cell_id = 9;\n",
       "                var nbb_unformatted_code = \"df = pd.read_csv(\\\"train/train.csv\\\")\";\n",
       "                var nbb_formatted_code = \"df = pd.read_csv(\\\"train/train.csv\\\")\";\n",
       "                var nbb_cells = Jupyter.notebook.get_cells();\n",
       "                for (var i = 0; i < nbb_cells.length; ++i) {\n",
       "                    if (nbb_cells[i].input_prompt_number == nbb_cell_id) {\n",
       "                        if (nbb_cells[i].get_text() == nbb_unformatted_code) {\n",
       "                             nbb_cells[i].set_text(nbb_formatted_code);\n",
       "                        }\n",
       "                        break;\n",
       "                    }\n",
       "                }\n",
       "            }, 500);\n",
       "            "
      ],
      "text/plain": [
       "<IPython.core.display.Javascript object>"
      ]
     },
     "metadata": {},
     "output_type": "display_data"
    }
   ],
   "source": [
    "df = pd.read_csv(\"train/train.csv\")"
   ]
  },
  {
   "cell_type": "code",
   "execution_count": 10,
   "metadata": {},
   "outputs": [
    {
     "data": {
      "text/html": [
       "<div>\n",
       "<style scoped>\n",
       "    .dataframe tbody tr th:only-of-type {\n",
       "        vertical-align: middle;\n",
       "    }\n",
       "\n",
       "    .dataframe tbody tr th {\n",
       "        vertical-align: top;\n",
       "    }\n",
       "\n",
       "    .dataframe thead th {\n",
       "        text-align: right;\n",
       "    }\n",
       "</style>\n",
       "<table border=\"1\" class=\"dataframe\">\n",
       "  <thead>\n",
       "    <tr style=\"text-align: right;\">\n",
       "      <th></th>\n",
       "      <th>Type</th>\n",
       "      <th>Name</th>\n",
       "      <th>Age</th>\n",
       "      <th>Breed1</th>\n",
       "      <th>Breed2</th>\n",
       "      <th>Gender</th>\n",
       "      <th>Color1</th>\n",
       "      <th>Color2</th>\n",
       "      <th>Color3</th>\n",
       "      <th>MaturitySize</th>\n",
       "      <th>...</th>\n",
       "      <th>Health</th>\n",
       "      <th>Quantity</th>\n",
       "      <th>Fee</th>\n",
       "      <th>State</th>\n",
       "      <th>RescuerID</th>\n",
       "      <th>VideoAmt</th>\n",
       "      <th>Description</th>\n",
       "      <th>PetID</th>\n",
       "      <th>PhotoAmt</th>\n",
       "      <th>AdoptionSpeed</th>\n",
       "    </tr>\n",
       "  </thead>\n",
       "  <tbody>\n",
       "    <tr>\n",
       "      <th>0</th>\n",
       "      <td>2</td>\n",
       "      <td>Nibble</td>\n",
       "      <td>3</td>\n",
       "      <td>299</td>\n",
       "      <td>0</td>\n",
       "      <td>1</td>\n",
       "      <td>1</td>\n",
       "      <td>7</td>\n",
       "      <td>0</td>\n",
       "      <td>1</td>\n",
       "      <td>...</td>\n",
       "      <td>1</td>\n",
       "      <td>1</td>\n",
       "      <td>100</td>\n",
       "      <td>41326</td>\n",
       "      <td>8480853f516546f6cf33aa88cd76c379</td>\n",
       "      <td>0</td>\n",
       "      <td>Nibble is a 3+ month old ball of cuteness. He ...</td>\n",
       "      <td>86e1089a3</td>\n",
       "      <td>1.0</td>\n",
       "      <td>2</td>\n",
       "    </tr>\n",
       "    <tr>\n",
       "      <th>1</th>\n",
       "      <td>2</td>\n",
       "      <td>No Name Yet</td>\n",
       "      <td>1</td>\n",
       "      <td>265</td>\n",
       "      <td>0</td>\n",
       "      <td>1</td>\n",
       "      <td>1</td>\n",
       "      <td>2</td>\n",
       "      <td>0</td>\n",
       "      <td>2</td>\n",
       "      <td>...</td>\n",
       "      <td>1</td>\n",
       "      <td>1</td>\n",
       "      <td>0</td>\n",
       "      <td>41401</td>\n",
       "      <td>3082c7125d8fb66f7dd4bff4192c8b14</td>\n",
       "      <td>0</td>\n",
       "      <td>I just found it alone yesterday near my apartm...</td>\n",
       "      <td>6296e909a</td>\n",
       "      <td>2.0</td>\n",
       "      <td>0</td>\n",
       "    </tr>\n",
       "    <tr>\n",
       "      <th>2</th>\n",
       "      <td>1</td>\n",
       "      <td>Brisco</td>\n",
       "      <td>1</td>\n",
       "      <td>307</td>\n",
       "      <td>0</td>\n",
       "      <td>1</td>\n",
       "      <td>2</td>\n",
       "      <td>7</td>\n",
       "      <td>0</td>\n",
       "      <td>2</td>\n",
       "      <td>...</td>\n",
       "      <td>1</td>\n",
       "      <td>1</td>\n",
       "      <td>0</td>\n",
       "      <td>41326</td>\n",
       "      <td>fa90fa5b1ee11c86938398b60abc32cb</td>\n",
       "      <td>0</td>\n",
       "      <td>Their pregnant mother was dumped by her irresp...</td>\n",
       "      <td>3422e4906</td>\n",
       "      <td>7.0</td>\n",
       "      <td>3</td>\n",
       "    </tr>\n",
       "    <tr>\n",
       "      <th>3</th>\n",
       "      <td>1</td>\n",
       "      <td>Miko</td>\n",
       "      <td>4</td>\n",
       "      <td>307</td>\n",
       "      <td>0</td>\n",
       "      <td>2</td>\n",
       "      <td>1</td>\n",
       "      <td>2</td>\n",
       "      <td>0</td>\n",
       "      <td>2</td>\n",
       "      <td>...</td>\n",
       "      <td>1</td>\n",
       "      <td>1</td>\n",
       "      <td>150</td>\n",
       "      <td>41401</td>\n",
       "      <td>9238e4f44c71a75282e62f7136c6b240</td>\n",
       "      <td>0</td>\n",
       "      <td>Good guard dog, very alert, active, obedience ...</td>\n",
       "      <td>5842f1ff5</td>\n",
       "      <td>8.0</td>\n",
       "      <td>2</td>\n",
       "    </tr>\n",
       "    <tr>\n",
       "      <th>4</th>\n",
       "      <td>1</td>\n",
       "      <td>Hunter</td>\n",
       "      <td>1</td>\n",
       "      <td>307</td>\n",
       "      <td>0</td>\n",
       "      <td>1</td>\n",
       "      <td>1</td>\n",
       "      <td>0</td>\n",
       "      <td>0</td>\n",
       "      <td>2</td>\n",
       "      <td>...</td>\n",
       "      <td>1</td>\n",
       "      <td>1</td>\n",
       "      <td>0</td>\n",
       "      <td>41326</td>\n",
       "      <td>95481e953f8aed9ec3d16fc4509537e8</td>\n",
       "      <td>0</td>\n",
       "      <td>This handsome yet cute boy is up for adoption....</td>\n",
       "      <td>850a43f90</td>\n",
       "      <td>3.0</td>\n",
       "      <td>2</td>\n",
       "    </tr>\n",
       "  </tbody>\n",
       "</table>\n",
       "<p>5 rows × 24 columns</p>\n",
       "</div>"
      ],
      "text/plain": [
       "   Type         Name  Age  Breed1  Breed2  Gender  Color1  Color2  Color3  \\\n",
       "0     2       Nibble    3     299       0       1       1       7       0   \n",
       "1     2  No Name Yet    1     265       0       1       1       2       0   \n",
       "2     1       Brisco    1     307       0       1       2       7       0   \n",
       "3     1         Miko    4     307       0       2       1       2       0   \n",
       "4     1       Hunter    1     307       0       1       1       0       0   \n",
       "\n",
       "   MaturitySize  ...  Health  Quantity  Fee  State  \\\n",
       "0             1  ...       1         1  100  41326   \n",
       "1             2  ...       1         1    0  41401   \n",
       "2             2  ...       1         1    0  41326   \n",
       "3             2  ...       1         1  150  41401   \n",
       "4             2  ...       1         1    0  41326   \n",
       "\n",
       "                          RescuerID  VideoAmt  \\\n",
       "0  8480853f516546f6cf33aa88cd76c379         0   \n",
       "1  3082c7125d8fb66f7dd4bff4192c8b14         0   \n",
       "2  fa90fa5b1ee11c86938398b60abc32cb         0   \n",
       "3  9238e4f44c71a75282e62f7136c6b240         0   \n",
       "4  95481e953f8aed9ec3d16fc4509537e8         0   \n",
       "\n",
       "                                         Description      PetID PhotoAmt  \\\n",
       "0  Nibble is a 3+ month old ball of cuteness. He ...  86e1089a3      1.0   \n",
       "1  I just found it alone yesterday near my apartm...  6296e909a      2.0   \n",
       "2  Their pregnant mother was dumped by her irresp...  3422e4906      7.0   \n",
       "3  Good guard dog, very alert, active, obedience ...  5842f1ff5      8.0   \n",
       "4  This handsome yet cute boy is up for adoption....  850a43f90      3.0   \n",
       "\n",
       "   AdoptionSpeed  \n",
       "0              2  \n",
       "1              0  \n",
       "2              3  \n",
       "3              2  \n",
       "4              2  \n",
       "\n",
       "[5 rows x 24 columns]"
      ]
     },
     "execution_count": 10,
     "metadata": {},
     "output_type": "execute_result"
    },
    {
     "data": {
      "application/javascript": [
       "\n",
       "            setTimeout(function() {\n",
       "                var nbb_cell_id = 10;\n",
       "                var nbb_unformatted_code = \"df.head()\";\n",
       "                var nbb_formatted_code = \"df.head()\";\n",
       "                var nbb_cells = Jupyter.notebook.get_cells();\n",
       "                for (var i = 0; i < nbb_cells.length; ++i) {\n",
       "                    if (nbb_cells[i].input_prompt_number == nbb_cell_id) {\n",
       "                        if (nbb_cells[i].get_text() == nbb_unformatted_code) {\n",
       "                             nbb_cells[i].set_text(nbb_formatted_code);\n",
       "                        }\n",
       "                        break;\n",
       "                    }\n",
       "                }\n",
       "            }, 500);\n",
       "            "
      ],
      "text/plain": [
       "<IPython.core.display.Javascript object>"
      ]
     },
     "metadata": {},
     "output_type": "display_data"
    }
   ],
   "source": [
    "df.head()"
   ]
  },
  {
   "cell_type": "markdown",
   "metadata": {},
   "source": [
    "## Missing values"
   ]
  },
  {
   "cell_type": "code",
   "execution_count": 11,
   "metadata": {},
   "outputs": [
    {
     "name": "stdout",
     "output_type": "stream",
     "text": [
      "<class 'pandas.core.frame.DataFrame'>\n",
      "RangeIndex: 14993 entries, 0 to 14992\n",
      "Data columns (total 24 columns):\n",
      " #   Column         Non-Null Count  Dtype  \n",
      "---  ------         --------------  -----  \n",
      " 0   Type           14993 non-null  int64  \n",
      " 1   Name           13736 non-null  object \n",
      " 2   Age            14993 non-null  int64  \n",
      " 3   Breed1         14993 non-null  int64  \n",
      " 4   Breed2         14993 non-null  int64  \n",
      " 5   Gender         14993 non-null  int64  \n",
      " 6   Color1         14993 non-null  int64  \n",
      " 7   Color2         14993 non-null  int64  \n",
      " 8   Color3         14993 non-null  int64  \n",
      " 9   MaturitySize   14993 non-null  int64  \n",
      " 10  FurLength      14993 non-null  int64  \n",
      " 11  Vaccinated     14993 non-null  int64  \n",
      " 12  Dewormed       14993 non-null  int64  \n",
      " 13  Sterilized     14993 non-null  int64  \n",
      " 14  Health         14993 non-null  int64  \n",
      " 15  Quantity       14993 non-null  int64  \n",
      " 16  Fee            14993 non-null  int64  \n",
      " 17  State          14993 non-null  int64  \n",
      " 18  RescuerID      14993 non-null  object \n",
      " 19  VideoAmt       14993 non-null  int64  \n",
      " 20  Description    14981 non-null  object \n",
      " 21  PetID          14993 non-null  object \n",
      " 22  PhotoAmt       14993 non-null  float64\n",
      " 23  AdoptionSpeed  14993 non-null  int64  \n",
      "dtypes: float64(1), int64(19), object(4)\n",
      "memory usage: 2.7+ MB\n"
     ]
    },
    {
     "data": {
      "application/javascript": [
       "\n",
       "            setTimeout(function() {\n",
       "                var nbb_cell_id = 11;\n",
       "                var nbb_unformatted_code = \"df.info()\";\n",
       "                var nbb_formatted_code = \"df.info()\";\n",
       "                var nbb_cells = Jupyter.notebook.get_cells();\n",
       "                for (var i = 0; i < nbb_cells.length; ++i) {\n",
       "                    if (nbb_cells[i].input_prompt_number == nbb_cell_id) {\n",
       "                        if (nbb_cells[i].get_text() == nbb_unformatted_code) {\n",
       "                             nbb_cells[i].set_text(nbb_formatted_code);\n",
       "                        }\n",
       "                        break;\n",
       "                    }\n",
       "                }\n",
       "            }, 500);\n",
       "            "
      ],
      "text/plain": [
       "<IPython.core.display.Javascript object>"
      ]
     },
     "metadata": {},
     "output_type": "display_data"
    }
   ],
   "source": [
    "df.info()"
   ]
  },
  {
   "cell_type": "markdown",
   "metadata": {},
   "source": [
    "Looks like `Name` and `Description` have some missingness.  Not too worried about these, so let's deal with them as we come to them.\n",
    "\n",
    "Now let's go through each of the variables to understand the data better, and get a sense for whether they correlate with our target, `AdoptionSpeed`."
   ]
  },
  {
   "cell_type": "markdown",
   "metadata": {},
   "source": [
    "# Data Cleaning and Univariate Analysis"
   ]
  },
  {
   "cell_type": "markdown",
   "metadata": {},
   "source": [
    "### Type\n",
    "\n",
    "1 is dog, 2 is cat.  Let's concern ourselves only with cats right now."
   ]
  },
  {
   "cell_type": "code",
   "execution_count": 12,
   "metadata": {},
   "outputs": [
    {
     "data": {
      "text/plain": [
       "1    8132\n",
       "2    6861\n",
       "Name: Type, dtype: int64"
      ]
     },
     "execution_count": 12,
     "metadata": {},
     "output_type": "execute_result"
    },
    {
     "data": {
      "application/javascript": [
       "\n",
       "            setTimeout(function() {\n",
       "                var nbb_cell_id = 12;\n",
       "                var nbb_unformatted_code = \"df[\\\"Type\\\"].value_counts()\";\n",
       "                var nbb_formatted_code = \"df[\\\"Type\\\"].value_counts()\";\n",
       "                var nbb_cells = Jupyter.notebook.get_cells();\n",
       "                for (var i = 0; i < nbb_cells.length; ++i) {\n",
       "                    if (nbb_cells[i].input_prompt_number == nbb_cell_id) {\n",
       "                        if (nbb_cells[i].get_text() == nbb_unformatted_code) {\n",
       "                             nbb_cells[i].set_text(nbb_formatted_code);\n",
       "                        }\n",
       "                        break;\n",
       "                    }\n",
       "                }\n",
       "            }, 500);\n",
       "            "
      ],
      "text/plain": [
       "<IPython.core.display.Javascript object>"
      ]
     },
     "metadata": {},
     "output_type": "display_data"
    }
   ],
   "source": [
    "df[\"Type\"].value_counts()"
   ]
  },
  {
   "cell_type": "markdown",
   "metadata": {},
   "source": [
    "Let's make \"Type\" into a zero or a 1 for convention's sake"
   ]
  },
  {
   "cell_type": "code",
   "execution_count": 13,
   "metadata": {},
   "outputs": [
    {
     "data": {
      "application/javascript": [
       "\n",
       "            setTimeout(function() {\n",
       "                var nbb_cell_id = 13;\n",
       "                var nbb_unformatted_code = \"df = df[df[\\\"Type\\\"] == 2]\";\n",
       "                var nbb_formatted_code = \"df = df[df[\\\"Type\\\"] == 2]\";\n",
       "                var nbb_cells = Jupyter.notebook.get_cells();\n",
       "                for (var i = 0; i < nbb_cells.length; ++i) {\n",
       "                    if (nbb_cells[i].input_prompt_number == nbb_cell_id) {\n",
       "                        if (nbb_cells[i].get_text() == nbb_unformatted_code) {\n",
       "                             nbb_cells[i].set_text(nbb_formatted_code);\n",
       "                        }\n",
       "                        break;\n",
       "                    }\n",
       "                }\n",
       "            }, 500);\n",
       "            "
      ],
      "text/plain": [
       "<IPython.core.display.Javascript object>"
      ]
     },
     "metadata": {},
     "output_type": "display_data"
    }
   ],
   "source": [
    "df = df[df[\"Type\"] == 2]"
   ]
  },
  {
   "cell_type": "code",
   "execution_count": 14,
   "metadata": {},
   "outputs": [
    {
     "data": {
      "text/plain": [
       "2    6861\n",
       "Name: Type, dtype: int64"
      ]
     },
     "execution_count": 14,
     "metadata": {},
     "output_type": "execute_result"
    },
    {
     "data": {
      "application/javascript": [
       "\n",
       "            setTimeout(function() {\n",
       "                var nbb_cell_id = 14;\n",
       "                var nbb_unformatted_code = \"df[\\\"Type\\\"].value_counts()\";\n",
       "                var nbb_formatted_code = \"df[\\\"Type\\\"].value_counts()\";\n",
       "                var nbb_cells = Jupyter.notebook.get_cells();\n",
       "                for (var i = 0; i < nbb_cells.length; ++i) {\n",
       "                    if (nbb_cells[i].input_prompt_number == nbb_cell_id) {\n",
       "                        if (nbb_cells[i].get_text() == nbb_unformatted_code) {\n",
       "                             nbb_cells[i].set_text(nbb_formatted_code);\n",
       "                        }\n",
       "                        break;\n",
       "                    }\n",
       "                }\n",
       "            }, 500);\n",
       "            "
      ],
      "text/plain": [
       "<IPython.core.display.Javascript object>"
      ]
     },
     "metadata": {},
     "output_type": "display_data"
    }
   ],
   "source": [
    "df[\"Type\"].value_counts()"
   ]
  },
  {
   "cell_type": "code",
   "execution_count": 15,
   "metadata": {},
   "outputs": [
    {
     "data": {
      "application/javascript": [
       "\n",
       "            setTimeout(function() {\n",
       "                var nbb_cell_id = 15;\n",
       "                var nbb_unformatted_code = \"df = df.drop(columns=[\\\"Type\\\"])\";\n",
       "                var nbb_formatted_code = \"df = df.drop(columns=[\\\"Type\\\"])\";\n",
       "                var nbb_cells = Jupyter.notebook.get_cells();\n",
       "                for (var i = 0; i < nbb_cells.length; ++i) {\n",
       "                    if (nbb_cells[i].input_prompt_number == nbb_cell_id) {\n",
       "                        if (nbb_cells[i].get_text() == nbb_unformatted_code) {\n",
       "                             nbb_cells[i].set_text(nbb_formatted_code);\n",
       "                        }\n",
       "                        break;\n",
       "                    }\n",
       "                }\n",
       "            }, 500);\n",
       "            "
      ],
      "text/plain": [
       "<IPython.core.display.Javascript object>"
      ]
     },
     "metadata": {},
     "output_type": "display_data"
    }
   ],
   "source": [
    "df = df.drop(columns=[\"Type\"])"
   ]
  },
  {
   "cell_type": "markdown",
   "metadata": {},
   "source": [
    "### Quantity"
   ]
  },
  {
   "cell_type": "markdown",
   "metadata": {},
   "source": [
    "Let's start by subsetting out the cats that aren't in groups.  This means restricting analysis to Quantity == 1"
   ]
  },
  {
   "cell_type": "code",
   "execution_count": 16,
   "metadata": {},
   "outputs": [
    {
     "data": {
      "application/javascript": [
       "\n",
       "            setTimeout(function() {\n",
       "                var nbb_cell_id = 16;\n",
       "                var nbb_unformatted_code = \"df = df[df[\\\"Quantity\\\"] == 1]\";\n",
       "                var nbb_formatted_code = \"df = df[df[\\\"Quantity\\\"] == 1]\";\n",
       "                var nbb_cells = Jupyter.notebook.get_cells();\n",
       "                for (var i = 0; i < nbb_cells.length; ++i) {\n",
       "                    if (nbb_cells[i].input_prompt_number == nbb_cell_id) {\n",
       "                        if (nbb_cells[i].get_text() == nbb_unformatted_code) {\n",
       "                             nbb_cells[i].set_text(nbb_formatted_code);\n",
       "                        }\n",
       "                        break;\n",
       "                    }\n",
       "                }\n",
       "            }, 500);\n",
       "            "
      ],
      "text/plain": [
       "<IPython.core.display.Javascript object>"
      ]
     },
     "metadata": {},
     "output_type": "display_data"
    }
   ],
   "source": [
    "df = df[df[\"Quantity\"] == 1]"
   ]
  },
  {
   "cell_type": "code",
   "execution_count": 248,
   "metadata": {},
   "outputs": [
    {
     "name": "stdout",
     "output_type": "stream",
     "text": [
      "<class 'pandas.core.frame.DataFrame'>\n",
      "Int64Index: 4943 entries, 0 to 14991\n",
      "Data columns (total 59 columns):\n",
      " #   Column            Non-Null Count  Dtype  \n",
      "---  ------            --------------  -----  \n",
      " 0   Name              4943 non-null   object \n",
      " 1   Age               4943 non-null   int64  \n",
      " 2   Breed1            4943 non-null   int64  \n",
      " 3   Breed2            4943 non-null   int64  \n",
      " 4   Gender            4943 non-null   int64  \n",
      " 5   Color1            4943 non-null   int64  \n",
      " 6   Color2            4943 non-null   int64  \n",
      " 7   Color3            4943 non-null   int64  \n",
      " 8   MaturitySize      4943 non-null   int64  \n",
      " 9   FurLength         4943 non-null   int64  \n",
      " 10  Vaccinated        4943 non-null   int64  \n",
      " 11  Dewormed          4943 non-null   int64  \n",
      " 12  Sterilized        4943 non-null   int64  \n",
      " 13  Health            4943 non-null   int64  \n",
      " 14  Quantity          4943 non-null   int64  \n",
      " 15  Fee               4943 non-null   int64  \n",
      " 16  State             4943 non-null   int64  \n",
      " 17  RescuerID         4943 non-null   object \n",
      " 18  VideoAmt          4943 non-null   int64  \n",
      " 19  PhotoAmt          4943 non-null   float64\n",
      " 20  AdoptionSpeed     4943 non-null   int64  \n",
      " 21  has_name          4943 non-null   int64  \n",
      " 22  has_no_name       4943 non-null   int64  \n",
      " 23  is_young          4943 non-null   int64  \n",
      " 24  is_old            4943 non-null   int64  \n",
      " 25  is_pure_bred      4943 non-null   int64  \n",
      " 26  is_mixed_breed    4943 non-null   int64  \n",
      " 27  is_female         4943 non-null   int64  \n",
      " 28  is_male           4943 non-null   int64  \n",
      " 29  is_black          4943 non-null   int64  \n",
      " 30  is_brown          4943 non-null   int64  \n",
      " 31  is_golden         4943 non-null   int64  \n",
      " 32  is_yellow         4943 non-null   int64  \n",
      " 33  is_cream          4943 non-null   int64  \n",
      " 34  is_gray           4943 non-null   int64  \n",
      " 35  is_white          4943 non-null   int64  \n",
      " 36  is_bicolor        4943 non-null   int64  \n",
      " 37  is_not_bicolor    4943 non-null   int64  \n",
      " 38  is_small_sized    4943 non-null   int64  \n",
      " 39  is_medium_sized   4943 non-null   int64  \n",
      " 40  is_large_sized    4943 non-null   int64  \n",
      " 41  is_short_hair     4943 non-null   int64  \n",
      " 42  is_medium_hair    4943 non-null   int64  \n",
      " 43  is_long_hair      4943 non-null   int64  \n",
      " 44  is_ster           4943 non-null   int64  \n",
      " 45  is_not_ster       4943 non-null   int64  \n",
      " 46  is_maybe_ster     4943 non-null   int64  \n",
      " 47  is_injured        4943 non-null   int64  \n",
      " 48  is_healthy        4943 non-null   int64  \n",
      " 49  is_free           4943 non-null   int64  \n",
      " 50  is_not_free       4943 non-null   int64  \n",
      " 51  is_selangor       4943 non-null   int64  \n",
      " 52  is_not_selangor   4943 non-null   int64  \n",
      " 53  is_top_10_rescue  4943 non-null   int64  \n",
      " 54  is_small_rescue   4943 non-null   int64  \n",
      " 55  is_videoed        4943 non-null   int64  \n",
      " 56  is_not_videoed    4943 non-null   int64  \n",
      " 57  has_photo         4943 non-null   int64  \n",
      " 58  has_no_photo      4943 non-null   int64  \n",
      "dtypes: float64(1), int64(56), object(2)\n",
      "memory usage: 2.4+ MB\n"
     ]
    },
    {
     "data": {
      "application/javascript": [
       "\n",
       "            setTimeout(function() {\n",
       "                var nbb_cell_id = 248;\n",
       "                var nbb_unformatted_code = \"df.info()\";\n",
       "                var nbb_formatted_code = \"df.info()\";\n",
       "                var nbb_cells = Jupyter.notebook.get_cells();\n",
       "                for (var i = 0; i < nbb_cells.length; ++i) {\n",
       "                    if (nbb_cells[i].input_prompt_number == nbb_cell_id) {\n",
       "                        if (nbb_cells[i].get_text() == nbb_unformatted_code) {\n",
       "                             nbb_cells[i].set_text(nbb_formatted_code);\n",
       "                        }\n",
       "                        break;\n",
       "                    }\n",
       "                }\n",
       "            }, 500);\n",
       "            "
      ],
      "text/plain": [
       "<IPython.core.display.Javascript object>"
      ]
     },
     "metadata": {},
     "output_type": "display_data"
    }
   ],
   "source": [
    "df.info()"
   ]
  },
  {
   "cell_type": "markdown",
   "metadata": {},
   "source": [
    "### Name"
   ]
  },
  {
   "cell_type": "markdown",
   "metadata": {},
   "source": [
    "Missing some names, let's investigate..."
   ]
  },
  {
   "cell_type": "markdown",
   "metadata": {},
   "source": [
    "Are they MAR?"
   ]
  },
  {
   "cell_type": "code",
   "execution_count": 17,
   "metadata": {
    "scrolled": true
   },
   "outputs": [
    {
     "name": "stderr",
     "output_type": "stream",
     "text": [
      "/opt/anaconda3/lib/python3.7/site-packages/ipykernel_launcher.py:1: UserWarning: Boolean Series key will be reindexed to match DataFrame index.\n",
      "  \"\"\"Entry point for launching an IPython kernel.\n"
     ]
    },
    {
     "data": {
      "text/html": [
       "<div>\n",
       "<style scoped>\n",
       "    .dataframe tbody tr th:only-of-type {\n",
       "        vertical-align: middle;\n",
       "    }\n",
       "\n",
       "    .dataframe tbody tr th {\n",
       "        vertical-align: top;\n",
       "    }\n",
       "\n",
       "    .dataframe thead th {\n",
       "        text-align: right;\n",
       "    }\n",
       "</style>\n",
       "<table border=\"1\" class=\"dataframe\">\n",
       "  <thead>\n",
       "    <tr style=\"text-align: right;\">\n",
       "      <th></th>\n",
       "      <th>Name</th>\n",
       "      <th>Age</th>\n",
       "      <th>Breed1</th>\n",
       "      <th>Breed2</th>\n",
       "      <th>Gender</th>\n",
       "      <th>Color1</th>\n",
       "      <th>Color2</th>\n",
       "      <th>Color3</th>\n",
       "      <th>MaturitySize</th>\n",
       "      <th>FurLength</th>\n",
       "      <th>...</th>\n",
       "      <th>Health</th>\n",
       "      <th>Quantity</th>\n",
       "      <th>Fee</th>\n",
       "      <th>State</th>\n",
       "      <th>RescuerID</th>\n",
       "      <th>VideoAmt</th>\n",
       "      <th>Description</th>\n",
       "      <th>PetID</th>\n",
       "      <th>PhotoAmt</th>\n",
       "      <th>AdoptionSpeed</th>\n",
       "    </tr>\n",
       "  </thead>\n",
       "  <tbody>\n",
       "    <tr>\n",
       "      <th>5</th>\n",
       "      <td>NaN</td>\n",
       "      <td>3</td>\n",
       "      <td>266</td>\n",
       "      <td>0</td>\n",
       "      <td>2</td>\n",
       "      <td>5</td>\n",
       "      <td>6</td>\n",
       "      <td>0</td>\n",
       "      <td>2</td>\n",
       "      <td>1</td>\n",
       "      <td>...</td>\n",
       "      <td>1</td>\n",
       "      <td>1</td>\n",
       "      <td>0</td>\n",
       "      <td>41326</td>\n",
       "      <td>22fe332bf9c924d4718005891c63fbed</td>\n",
       "      <td>0</td>\n",
       "      <td>This is a stray kitten that came to my house. ...</td>\n",
       "      <td>d24c30b4b</td>\n",
       "      <td>2.0</td>\n",
       "      <td>2</td>\n",
       "    </tr>\n",
       "    <tr>\n",
       "      <th>8</th>\n",
       "      <td>NaN</td>\n",
       "      <td>2</td>\n",
       "      <td>265</td>\n",
       "      <td>0</td>\n",
       "      <td>2</td>\n",
       "      <td>6</td>\n",
       "      <td>0</td>\n",
       "      <td>0</td>\n",
       "      <td>2</td>\n",
       "      <td>2</td>\n",
       "      <td>...</td>\n",
       "      <td>1</td>\n",
       "      <td>1</td>\n",
       "      <td>0</td>\n",
       "      <td>41326</td>\n",
       "      <td>d8af7afece71334473575c9f70daf00d</td>\n",
       "      <td>0</td>\n",
       "      <td>healthy and active, feisty kitten found in nei...</td>\n",
       "      <td>c06d167ca</td>\n",
       "      <td>6.0</td>\n",
       "      <td>1</td>\n",
       "    </tr>\n",
       "    <tr>\n",
       "      <th>66</th>\n",
       "      <td>NaN</td>\n",
       "      <td>3</td>\n",
       "      <td>266</td>\n",
       "      <td>0</td>\n",
       "      <td>2</td>\n",
       "      <td>2</td>\n",
       "      <td>0</td>\n",
       "      <td>0</td>\n",
       "      <td>2</td>\n",
       "      <td>1</td>\n",
       "      <td>...</td>\n",
       "      <td>1</td>\n",
       "      <td>1</td>\n",
       "      <td>0</td>\n",
       "      <td>41324</td>\n",
       "      <td>e3bbcf8a10e96c7ec63e557a176c9aa0</td>\n",
       "      <td>0</td>\n",
       "      <td>She needs a loving and caring home...</td>\n",
       "      <td>e540c1ba5</td>\n",
       "      <td>1.0</td>\n",
       "      <td>4</td>\n",
       "    </tr>\n",
       "    <tr>\n",
       "      <th>99</th>\n",
       "      <td>NaN</td>\n",
       "      <td>3</td>\n",
       "      <td>265</td>\n",
       "      <td>0</td>\n",
       "      <td>1</td>\n",
       "      <td>1</td>\n",
       "      <td>7</td>\n",
       "      <td>0</td>\n",
       "      <td>2</td>\n",
       "      <td>2</td>\n",
       "      <td>...</td>\n",
       "      <td>1</td>\n",
       "      <td>1</td>\n",
       "      <td>0</td>\n",
       "      <td>41326</td>\n",
       "      <td>c3f6408e1ee043b38bd0d39558b8edf5</td>\n",
       "      <td>0</td>\n",
       "      <td>owner desert them.....</td>\n",
       "      <td>0f24b6cd6</td>\n",
       "      <td>1.0</td>\n",
       "      <td>1</td>\n",
       "    </tr>\n",
       "    <tr>\n",
       "      <th>108</th>\n",
       "      <td>NaN</td>\n",
       "      <td>2</td>\n",
       "      <td>266</td>\n",
       "      <td>0</td>\n",
       "      <td>2</td>\n",
       "      <td>6</td>\n",
       "      <td>7</td>\n",
       "      <td>0</td>\n",
       "      <td>2</td>\n",
       "      <td>1</td>\n",
       "      <td>...</td>\n",
       "      <td>1</td>\n",
       "      <td>1</td>\n",
       "      <td>0</td>\n",
       "      <td>41401</td>\n",
       "      <td>abe54643224ddbb5c199cd46fbca0392</td>\n",
       "      <td>0</td>\n",
       "      <td>10 weeks old cute female kitty, lovable, cuddl...</td>\n",
       "      <td>4407e70f3</td>\n",
       "      <td>2.0</td>\n",
       "      <td>1</td>\n",
       "    </tr>\n",
       "    <tr>\n",
       "      <th>...</th>\n",
       "      <td>...</td>\n",
       "      <td>...</td>\n",
       "      <td>...</td>\n",
       "      <td>...</td>\n",
       "      <td>...</td>\n",
       "      <td>...</td>\n",
       "      <td>...</td>\n",
       "      <td>...</td>\n",
       "      <td>...</td>\n",
       "      <td>...</td>\n",
       "      <td>...</td>\n",
       "      <td>...</td>\n",
       "      <td>...</td>\n",
       "      <td>...</td>\n",
       "      <td>...</td>\n",
       "      <td>...</td>\n",
       "      <td>...</td>\n",
       "      <td>...</td>\n",
       "      <td>...</td>\n",
       "      <td>...</td>\n",
       "      <td>...</td>\n",
       "    </tr>\n",
       "    <tr>\n",
       "      <th>14671</th>\n",
       "      <td>NaN</td>\n",
       "      <td>1</td>\n",
       "      <td>299</td>\n",
       "      <td>299</td>\n",
       "      <td>2</td>\n",
       "      <td>1</td>\n",
       "      <td>2</td>\n",
       "      <td>7</td>\n",
       "      <td>2</td>\n",
       "      <td>1</td>\n",
       "      <td>...</td>\n",
       "      <td>1</td>\n",
       "      <td>1</td>\n",
       "      <td>0</td>\n",
       "      <td>41326</td>\n",
       "      <td>cd2f326ea0852643fe7fe8e97acca5ed</td>\n",
       "      <td>0</td>\n",
       "      <td>My eldest daughter found this little kitten cr...</td>\n",
       "      <td>cce8fa6c2</td>\n",
       "      <td>3.0</td>\n",
       "      <td>2</td>\n",
       "    </tr>\n",
       "    <tr>\n",
       "      <th>14709</th>\n",
       "      <td>NaN</td>\n",
       "      <td>4</td>\n",
       "      <td>266</td>\n",
       "      <td>0</td>\n",
       "      <td>2</td>\n",
       "      <td>5</td>\n",
       "      <td>0</td>\n",
       "      <td>0</td>\n",
       "      <td>1</td>\n",
       "      <td>1</td>\n",
       "      <td>...</td>\n",
       "      <td>2</td>\n",
       "      <td>1</td>\n",
       "      <td>0</td>\n",
       "      <td>41326</td>\n",
       "      <td>6612ac86f8e0b9566a4e7e93187f6712</td>\n",
       "      <td>0</td>\n",
       "      <td>this little kitten is found at my apartment ar...</td>\n",
       "      <td>72bb30805</td>\n",
       "      <td>1.0</td>\n",
       "      <td>4</td>\n",
       "    </tr>\n",
       "    <tr>\n",
       "      <th>14746</th>\n",
       "      <td>NaN</td>\n",
       "      <td>1</td>\n",
       "      <td>254</td>\n",
       "      <td>266</td>\n",
       "      <td>2</td>\n",
       "      <td>1</td>\n",
       "      <td>2</td>\n",
       "      <td>3</td>\n",
       "      <td>1</td>\n",
       "      <td>1</td>\n",
       "      <td>...</td>\n",
       "      <td>1</td>\n",
       "      <td>1</td>\n",
       "      <td>0</td>\n",
       "      <td>41401</td>\n",
       "      <td>db204da3bd185f11269c3888697c98fd</td>\n",
       "      <td>0</td>\n",
       "      <td>I save this baby cat from the drain.. she is a...</td>\n",
       "      <td>a22a8a017</td>\n",
       "      <td>2.0</td>\n",
       "      <td>4</td>\n",
       "    </tr>\n",
       "    <tr>\n",
       "      <th>14794</th>\n",
       "      <td>NaN</td>\n",
       "      <td>4</td>\n",
       "      <td>266</td>\n",
       "      <td>0</td>\n",
       "      <td>1</td>\n",
       "      <td>7</td>\n",
       "      <td>0</td>\n",
       "      <td>0</td>\n",
       "      <td>1</td>\n",
       "      <td>1</td>\n",
       "      <td>...</td>\n",
       "      <td>1</td>\n",
       "      <td>1</td>\n",
       "      <td>0</td>\n",
       "      <td>41336</td>\n",
       "      <td>cda9cadac8f524c705970b4ceccf2e5a</td>\n",
       "      <td>0</td>\n",
       "      <td>Hi, I've rescued this kitten from our nearby m...</td>\n",
       "      <td>7caa6d216</td>\n",
       "      <td>4.0</td>\n",
       "      <td>4</td>\n",
       "    </tr>\n",
       "    <tr>\n",
       "      <th>14818</th>\n",
       "      <td>NaN</td>\n",
       "      <td>15</td>\n",
       "      <td>249</td>\n",
       "      <td>266</td>\n",
       "      <td>2</td>\n",
       "      <td>5</td>\n",
       "      <td>0</td>\n",
       "      <td>0</td>\n",
       "      <td>2</td>\n",
       "      <td>2</td>\n",
       "      <td>...</td>\n",
       "      <td>1</td>\n",
       "      <td>1</td>\n",
       "      <td>200</td>\n",
       "      <td>41401</td>\n",
       "      <td>1f812902f9c640e3c54f378e55dce01a</td>\n",
       "      <td>0</td>\n",
       "      <td>Playful toilet train good temperament</td>\n",
       "      <td>e90137a54</td>\n",
       "      <td>2.0</td>\n",
       "      <td>4</td>\n",
       "    </tr>\n",
       "  </tbody>\n",
       "</table>\n",
       "<p>299 rows × 23 columns</p>\n",
       "</div>"
      ],
      "text/plain": [
       "      Name  Age  Breed1  Breed2  Gender  Color1  Color2  Color3  MaturitySize  \\\n",
       "5      NaN    3     266       0       2       5       6       0             2   \n",
       "8      NaN    2     265       0       2       6       0       0             2   \n",
       "66     NaN    3     266       0       2       2       0       0             2   \n",
       "99     NaN    3     265       0       1       1       7       0             2   \n",
       "108    NaN    2     266       0       2       6       7       0             2   \n",
       "...    ...  ...     ...     ...     ...     ...     ...     ...           ...   \n",
       "14671  NaN    1     299     299       2       1       2       7             2   \n",
       "14709  NaN    4     266       0       2       5       0       0             1   \n",
       "14746  NaN    1     254     266       2       1       2       3             1   \n",
       "14794  NaN    4     266       0       1       7       0       0             1   \n",
       "14818  NaN   15     249     266       2       5       0       0             2   \n",
       "\n",
       "       FurLength  ...  Health  Quantity  Fee  State  \\\n",
       "5              1  ...       1         1    0  41326   \n",
       "8              2  ...       1         1    0  41326   \n",
       "66             1  ...       1         1    0  41324   \n",
       "99             2  ...       1         1    0  41326   \n",
       "108            1  ...       1         1    0  41401   \n",
       "...          ...  ...     ...       ...  ...    ...   \n",
       "14671          1  ...       1         1    0  41326   \n",
       "14709          1  ...       2         1    0  41326   \n",
       "14746          1  ...       1         1    0  41401   \n",
       "14794          1  ...       1         1    0  41336   \n",
       "14818          2  ...       1         1  200  41401   \n",
       "\n",
       "                              RescuerID  VideoAmt  \\\n",
       "5      22fe332bf9c924d4718005891c63fbed         0   \n",
       "8      d8af7afece71334473575c9f70daf00d         0   \n",
       "66     e3bbcf8a10e96c7ec63e557a176c9aa0         0   \n",
       "99     c3f6408e1ee043b38bd0d39558b8edf5         0   \n",
       "108    abe54643224ddbb5c199cd46fbca0392         0   \n",
       "...                                 ...       ...   \n",
       "14671  cd2f326ea0852643fe7fe8e97acca5ed         0   \n",
       "14709  6612ac86f8e0b9566a4e7e93187f6712         0   \n",
       "14746  db204da3bd185f11269c3888697c98fd         0   \n",
       "14794  cda9cadac8f524c705970b4ceccf2e5a         0   \n",
       "14818  1f812902f9c640e3c54f378e55dce01a         0   \n",
       "\n",
       "                                             Description      PetID  PhotoAmt  \\\n",
       "5      This is a stray kitten that came to my house. ...  d24c30b4b       2.0   \n",
       "8      healthy and active, feisty kitten found in nei...  c06d167ca       6.0   \n",
       "66                 She needs a loving and caring home...  e540c1ba5       1.0   \n",
       "99                                owner desert them.....  0f24b6cd6       1.0   \n",
       "108    10 weeks old cute female kitty, lovable, cuddl...  4407e70f3       2.0   \n",
       "...                                                  ...        ...       ...   \n",
       "14671  My eldest daughter found this little kitten cr...  cce8fa6c2       3.0   \n",
       "14709  this little kitten is found at my apartment ar...  72bb30805       1.0   \n",
       "14746  I save this baby cat from the drain.. she is a...  a22a8a017       2.0   \n",
       "14794  Hi, I've rescued this kitten from our nearby m...  7caa6d216       4.0   \n",
       "14818              Playful toilet train good temperament  e90137a54       2.0   \n",
       "\n",
       "      AdoptionSpeed  \n",
       "5                 2  \n",
       "8                 1  \n",
       "66                4  \n",
       "99                1  \n",
       "108               1  \n",
       "...             ...  \n",
       "14671             2  \n",
       "14709             4  \n",
       "14746             4  \n",
       "14794             4  \n",
       "14818             4  \n",
       "\n",
       "[299 rows x 23 columns]"
      ]
     },
     "execution_count": 17,
     "metadata": {},
     "output_type": "execute_result"
    },
    {
     "data": {
      "application/javascript": [
       "\n",
       "            setTimeout(function() {\n",
       "                var nbb_cell_id = 17;\n",
       "                var nbb_unformatted_code = \"df[df[\\\"Name\\\"].isna().sort_values(ascending=False)]\";\n",
       "                var nbb_formatted_code = \"df[df[\\\"Name\\\"].isna().sort_values(ascending=False)]\";\n",
       "                var nbb_cells = Jupyter.notebook.get_cells();\n",
       "                for (var i = 0; i < nbb_cells.length; ++i) {\n",
       "                    if (nbb_cells[i].input_prompt_number == nbb_cell_id) {\n",
       "                        if (nbb_cells[i].get_text() == nbb_unformatted_code) {\n",
       "                             nbb_cells[i].set_text(nbb_formatted_code);\n",
       "                        }\n",
       "                        break;\n",
       "                    }\n",
       "                }\n",
       "            }, 500);\n",
       "            "
      ],
      "text/plain": [
       "<IPython.core.display.Javascript object>"
      ]
     },
     "metadata": {},
     "output_type": "display_data"
    }
   ],
   "source": [
    "df[df[\"Name\"].isna().sort_values(ascending=False)]"
   ]
  },
  {
   "cell_type": "markdown",
   "metadata": {},
   "source": [
    "What kind of names do we have? First, let's transform this to lowercase so we don't have any issues with string matching..."
   ]
  },
  {
   "cell_type": "code",
   "execution_count": 18,
   "metadata": {},
   "outputs": [
    {
     "data": {
      "text/plain": [
       "kitty                     34\n",
       "mimi                      32\n",
       "baby                      30\n",
       "ginger                    21\n",
       "no name                   20\n",
       "                          ..\n",
       "ginko                      1\n",
       "boy boy                    1\n",
       "anak kucing terbiar 05     1\n",
       "peper                      1\n",
       "puppy                      1\n",
       "Name: Name, Length: 3250, dtype: int64"
      ]
     },
     "execution_count": 18,
     "metadata": {},
     "output_type": "execute_result"
    },
    {
     "data": {
      "application/javascript": [
       "\n",
       "            setTimeout(function() {\n",
       "                var nbb_cell_id = 18;\n",
       "                var nbb_unformatted_code = \"df[\\\"Name\\\"] = df[\\\"Name\\\"].str.lower()\\n\\ndf[\\\"Name\\\"].value_counts()\";\n",
       "                var nbb_formatted_code = \"df[\\\"Name\\\"] = df[\\\"Name\\\"].str.lower()\\n\\ndf[\\\"Name\\\"].value_counts()\";\n",
       "                var nbb_cells = Jupyter.notebook.get_cells();\n",
       "                for (var i = 0; i < nbb_cells.length; ++i) {\n",
       "                    if (nbb_cells[i].input_prompt_number == nbb_cell_id) {\n",
       "                        if (nbb_cells[i].get_text() == nbb_unformatted_code) {\n",
       "                             nbb_cells[i].set_text(nbb_formatted_code);\n",
       "                        }\n",
       "                        break;\n",
       "                    }\n",
       "                }\n",
       "            }, 500);\n",
       "            "
      ],
      "text/plain": [
       "<IPython.core.display.Javascript object>"
      ]
     },
     "metadata": {},
     "output_type": "display_data"
    }
   ],
   "source": [
    "df[\"Name\"] = df[\"Name\"].str.lower()\n",
    "\n",
    "df[\"Name\"].value_counts()"
   ]
  },
  {
   "cell_type": "markdown",
   "metadata": {},
   "source": [
    "Looks like we have several \"names\" that aren't really names (No Name, No Name Yet, Kitty, Kittens, Kitten, Puppy, Puppies, etc.).  We also have some that are null.  \n",
    "\n",
    "Strategy: Let's make all of these the same \"no name\" value. "
   ]
  },
  {
   "cell_type": "code",
   "execution_count": 19,
   "metadata": {},
   "outputs": [
    {
     "data": {
      "application/javascript": [
       "\n",
       "            setTimeout(function() {\n",
       "                var nbb_cell_id = 19;\n",
       "                var nbb_unformatted_code = \"df[\\\"Name\\\"] = df[\\\"Name\\\"].fillna(\\\"no name\\\")\\n\\nno_name_list = [\\n    \\\"kitten\\\",\\n    \\\"kitty\\\",\\n    \\\"kitties\\\",\\n    \\\"kittens\\\",\\n    \\\"cat\\\",\\n    \\\"no name\\\",\\n    \\\"no name yet\\\",\\n]\\n\\n\\nnames = df[\\\"Name\\\"]\\nno_names = []\\n\\nfor name in names:\\n    if name in no_name_list:\\n        no_names.append(\\\"no name\\\")\\n    else:\\n        no_names.append(name)\\n\\ndf[\\\"Name\\\"] = no_names\";\n",
       "                var nbb_formatted_code = \"df[\\\"Name\\\"] = df[\\\"Name\\\"].fillna(\\\"no name\\\")\\n\\nno_name_list = [\\n    \\\"kitten\\\",\\n    \\\"kitty\\\",\\n    \\\"kitties\\\",\\n    \\\"kittens\\\",\\n    \\\"cat\\\",\\n    \\\"no name\\\",\\n    \\\"no name yet\\\",\\n]\\n\\n\\nnames = df[\\\"Name\\\"]\\nno_names = []\\n\\nfor name in names:\\n    if name in no_name_list:\\n        no_names.append(\\\"no name\\\")\\n    else:\\n        no_names.append(name)\\n\\ndf[\\\"Name\\\"] = no_names\";\n",
       "                var nbb_cells = Jupyter.notebook.get_cells();\n",
       "                for (var i = 0; i < nbb_cells.length; ++i) {\n",
       "                    if (nbb_cells[i].input_prompt_number == nbb_cell_id) {\n",
       "                        if (nbb_cells[i].get_text() == nbb_unformatted_code) {\n",
       "                             nbb_cells[i].set_text(nbb_formatted_code);\n",
       "                        }\n",
       "                        break;\n",
       "                    }\n",
       "                }\n",
       "            }, 500);\n",
       "            "
      ],
      "text/plain": [
       "<IPython.core.display.Javascript object>"
      ]
     },
     "metadata": {},
     "output_type": "display_data"
    }
   ],
   "source": [
    "df[\"Name\"] = df[\"Name\"].fillna(\"no name\")\n",
    "\n",
    "no_name_list = [\n",
    "    \"kitten\",\n",
    "    \"kitty\",\n",
    "    \"kitties\",\n",
    "    \"kittens\",\n",
    "    \"cat\",\n",
    "    \"no name\",\n",
    "    \"no name yet\",\n",
    "]\n",
    "\n",
    "\n",
    "names = df[\"Name\"]\n",
    "no_names = []\n",
    "\n",
    "for name in names:\n",
    "    if name in no_name_list:\n",
    "        no_names.append(\"no name\")\n",
    "    else:\n",
    "        no_names.append(name)\n",
    "\n",
    "df[\"Name\"] = no_names"
   ]
  },
  {
   "cell_type": "code",
   "execution_count": 20,
   "metadata": {},
   "outputs": [
    {
     "data": {
      "application/javascript": [
       "\n",
       "            setTimeout(function() {\n",
       "                var nbb_cell_id = 20;\n",
       "                var nbb_unformatted_code = \"has_name = []\\nnames = df[\\\"Name\\\"]\\n\\nfor name in names:\\n    if name == \\\"no name\\\":\\n        has_name.append(0)\\n    else:\\n        has_name.append(1)\\n\\nhas_name = np.array(has_name)\\ndf[\\\"has_name\\\"] = has_name\\ndf[\\\"has_no_name\\\"] = 1 - has_name\";\n",
       "                var nbb_formatted_code = \"has_name = []\\nnames = df[\\\"Name\\\"]\\n\\nfor name in names:\\n    if name == \\\"no name\\\":\\n        has_name.append(0)\\n    else:\\n        has_name.append(1)\\n\\nhas_name = np.array(has_name)\\ndf[\\\"has_name\\\"] = has_name\\ndf[\\\"has_no_name\\\"] = 1 - has_name\";\n",
       "                var nbb_cells = Jupyter.notebook.get_cells();\n",
       "                for (var i = 0; i < nbb_cells.length; ++i) {\n",
       "                    if (nbb_cells[i].input_prompt_number == nbb_cell_id) {\n",
       "                        if (nbb_cells[i].get_text() == nbb_unformatted_code) {\n",
       "                             nbb_cells[i].set_text(nbb_formatted_code);\n",
       "                        }\n",
       "                        break;\n",
       "                    }\n",
       "                }\n",
       "            }, 500);\n",
       "            "
      ],
      "text/plain": [
       "<IPython.core.display.Javascript object>"
      ]
     },
     "metadata": {},
     "output_type": "display_data"
    }
   ],
   "source": [
    "has_name = []\n",
    "names = df[\"Name\"]\n",
    "\n",
    "for name in names:\n",
    "    if name == \"no name\":\n",
    "        has_name.append(0)\n",
    "    else:\n",
    "        has_name.append(1)\n",
    "\n",
    "has_name = np.array(has_name)\n",
    "df[\"has_name\"] = has_name\n",
    "df[\"has_no_name\"] = 1 - has_name"
   ]
  },
  {
   "cell_type": "code",
   "execution_count": 21,
   "metadata": {},
   "outputs": [
    {
     "data": {
      "image/png": "[encoded data removed]",
      "text/plain": [
       "<Figure size 432x288 with 1 Axes>"
      ]
     },
     "metadata": {
      "needs_background": "light"
     },
     "output_type": "display_data"
    },
    {
     "data": {
      "application/javascript": [
       "\n",
       "            setTimeout(function() {\n",
       "                var nbb_cell_id = 21;\n",
       "                var nbb_unformatted_code = \"sns.violinplot(x=\\\"has_name\\\", y=\\\"AdoptionSpeed\\\", data=df)\\nplt.show()\";\n",
       "                var nbb_formatted_code = \"sns.violinplot(x=\\\"has_name\\\", y=\\\"AdoptionSpeed\\\", data=df)\\nplt.show()\";\n",
       "                var nbb_cells = Jupyter.notebook.get_cells();\n",
       "                for (var i = 0; i < nbb_cells.length; ++i) {\n",
       "                    if (nbb_cells[i].input_prompt_number == nbb_cell_id) {\n",
       "                        if (nbb_cells[i].get_text() == nbb_unformatted_code) {\n",
       "                             nbb_cells[i].set_text(nbb_formatted_code);\n",
       "                        }\n",
       "                        break;\n",
       "                    }\n",
       "                }\n",
       "            }, 500);\n",
       "            "
      ],
      "text/plain": [
       "<IPython.core.display.Javascript object>"
      ]
     },
     "metadata": {},
     "output_type": "display_data"
    }
   ],
   "source": [
    "sns.violinplot(x=\"has_name\", y=\"AdoptionSpeed\", data=df)\n",
    "plt.show()"
   ]
  },
  {
   "cell_type": "markdown",
   "metadata": {},
   "source": [
    "TODO: Investigage why are adoption speeds more discretely distributed for animals with names?"
   ]
  },
  {
   "cell_type": "markdown",
   "metadata": {},
   "source": [
    "### Age"
   ]
  },
  {
   "cell_type": "code",
   "execution_count": 22,
   "metadata": {},
   "outputs": [
    {
     "data": {
      "text/plain": [
       "count    4943.000000\n",
       "mean        8.237305\n",
       "std        13.247394\n",
       "min         0.000000\n",
       "25%         2.000000\n",
       "50%         4.000000\n",
       "75%         9.000000\n",
       "max       212.000000\n",
       "Name: Age, dtype: float64"
      ]
     },
     "execution_count": 22,
     "metadata": {},
     "output_type": "execute_result"
    },
    {
     "data": {
      "application/javascript": [
       "\n",
       "            setTimeout(function() {\n",
       "                var nbb_cell_id = 22;\n",
       "                var nbb_unformatted_code = \"df[\\\"Age\\\"].describe()\";\n",
       "                var nbb_formatted_code = \"df[\\\"Age\\\"].describe()\";\n",
       "                var nbb_cells = Jupyter.notebook.get_cells();\n",
       "                for (var i = 0; i < nbb_cells.length; ++i) {\n",
       "                    if (nbb_cells[i].input_prompt_number == nbb_cell_id) {\n",
       "                        if (nbb_cells[i].get_text() == nbb_unformatted_code) {\n",
       "                             nbb_cells[i].set_text(nbb_formatted_code);\n",
       "                        }\n",
       "                        break;\n",
       "                    }\n",
       "                }\n",
       "            }, 500);\n",
       "            "
      ],
      "text/plain": [
       "<IPython.core.display.Javascript object>"
      ]
     },
     "metadata": {},
     "output_type": "display_data"
    }
   ],
   "source": [
    "df[\"Age\"].describe()"
   ]
  },
  {
   "cell_type": "code",
   "execution_count": 23,
   "metadata": {},
   "outputs": [
    {
     "data": {
      "text/plain": [
       "2     1007\n",
       "3      740\n",
       "1      588\n",
       "4      489\n",
       "12     398\n",
       "5      280\n",
       "6      275\n",
       "24     172\n",
       "7      133\n",
       "8      122\n",
       "36      88\n",
       "10      73\n",
       "9       71\n",
       "18      58\n",
       "11      46\n",
       "48      43\n",
       "14      37\n",
       "0       36\n",
       "60      26\n",
       "15      26\n",
       "17      25\n",
       "16      19\n",
       "30      16\n",
       "13      14\n",
       "Name: Age, dtype: int64"
      ]
     },
     "execution_count": 23,
     "metadata": {},
     "output_type": "execute_result"
    },
    {
     "data": {
      "application/javascript": [
       "\n",
       "            setTimeout(function() {\n",
       "                var nbb_cell_id = 23;\n",
       "                var nbb_unformatted_code = \"df[\\\"Age\\\"].value_counts().head(24)\";\n",
       "                var nbb_formatted_code = \"df[\\\"Age\\\"].value_counts().head(24)\";\n",
       "                var nbb_cells = Jupyter.notebook.get_cells();\n",
       "                for (var i = 0; i < nbb_cells.length; ++i) {\n",
       "                    if (nbb_cells[i].input_prompt_number == nbb_cell_id) {\n",
       "                        if (nbb_cells[i].get_text() == nbb_unformatted_code) {\n",
       "                             nbb_cells[i].set_text(nbb_formatted_code);\n",
       "                        }\n",
       "                        break;\n",
       "                    }\n",
       "                }\n",
       "            }, 500);\n",
       "            "
      ],
      "text/plain": [
       "<IPython.core.display.Javascript object>"
      ]
     },
     "metadata": {},
     "output_type": "display_data"
    }
   ],
   "source": [
    "df[\"Age\"].value_counts().head(24)"
   ]
  },
  {
   "cell_type": "code",
   "execution_count": 24,
   "metadata": {},
   "outputs": [
    {
     "data": {
      "image/png": "[encoded data removed]",
      "text/plain": [
       "<Figure size 432x288 with 1 Axes>"
      ]
     },
     "metadata": {
      "needs_background": "light"
     },
     "output_type": "display_data"
    },
    {
     "data": {
      "application/javascript": [
       "\n",
       "            setTimeout(function() {\n",
       "                var nbb_cell_id = 24;\n",
       "                var nbb_unformatted_code = \"df[\\\"Age\\\"].hist()\\nplt.show()\";\n",
       "                var nbb_formatted_code = \"df[\\\"Age\\\"].hist()\\nplt.show()\";\n",
       "                var nbb_cells = Jupyter.notebook.get_cells();\n",
       "                for (var i = 0; i < nbb_cells.length; ++i) {\n",
       "                    if (nbb_cells[i].input_prompt_number == nbb_cell_id) {\n",
       "                        if (nbb_cells[i].get_text() == nbb_unformatted_code) {\n",
       "                             nbb_cells[i].set_text(nbb_formatted_code);\n",
       "                        }\n",
       "                        break;\n",
       "                    }\n",
       "                }\n",
       "            }, 500);\n",
       "            "
      ],
      "text/plain": [
       "<IPython.core.display.Javascript object>"
      ]
     },
     "metadata": {},
     "output_type": "display_data"
    }
   ],
   "source": [
    "df[\"Age\"].hist()\n",
    "plt.show()"
   ]
  },
  {
   "cell_type": "markdown",
   "metadata": {},
   "source": [
    "Very right-skewed distribution...let's make a new dummy variable called \"is_young\".  This will be a value of 1 if the animal is less than or equal to two months old, and 0 if the animal is older than two months."
   ]
  },
  {
   "cell_type": "code",
   "execution_count": 25,
   "metadata": {},
   "outputs": [
    {
     "data": {
      "text/plain": [
       "0    3312\n",
       "1    1631\n",
       "Name: is_young, dtype: int64"
      ]
     },
     "execution_count": 25,
     "metadata": {},
     "output_type": "execute_result"
    },
    {
     "data": {
      "application/javascript": [
       "\n",
       "            setTimeout(function() {\n",
       "                var nbb_cell_id = 25;\n",
       "                var nbb_unformatted_code = \"binary_ages = []\\nages = df[\\\"Age\\\"]\\n\\nfor age in ages:\\n    if age <= 2:\\n        binary_ages.append(1)\\n    else:\\n        binary_ages.append(0)\\n\\nbinary_ages = np.array(binary_ages)\\ndf[\\\"is_young\\\"] = binary_ages\\ndf[\\\"is_old\\\"] = 1 - binary_ages\\n\\ndf[\\\"is_young\\\"].value_counts()\";\n",
       "                var nbb_formatted_code = \"binary_ages = []\\nages = df[\\\"Age\\\"]\\n\\nfor age in ages:\\n    if age <= 2:\\n        binary_ages.append(1)\\n    else:\\n        binary_ages.append(0)\\n\\nbinary_ages = np.array(binary_ages)\\ndf[\\\"is_young\\\"] = binary_ages\\ndf[\\\"is_old\\\"] = 1 - binary_ages\\n\\ndf[\\\"is_young\\\"].value_counts()\";\n",
       "                var nbb_cells = Jupyter.notebook.get_cells();\n",
       "                for (var i = 0; i < nbb_cells.length; ++i) {\n",
       "                    if (nbb_cells[i].input_prompt_number == nbb_cell_id) {\n",
       "                        if (nbb_cells[i].get_text() == nbb_unformatted_code) {\n",
       "                             nbb_cells[i].set_text(nbb_formatted_code);\n",
       "                        }\n",
       "                        break;\n",
       "                    }\n",
       "                }\n",
       "            }, 500);\n",
       "            "
      ],
      "text/plain": [
       "<IPython.core.display.Javascript object>"
      ]
     },
     "metadata": {},
     "output_type": "display_data"
    }
   ],
   "source": [
    "binary_ages = []\n",
    "ages = df[\"Age\"]\n",
    "\n",
    "for age in ages:\n",
    "    if age <= 2:\n",
    "        binary_ages.append(1)\n",
    "    else:\n",
    "        binary_ages.append(0)\n",
    "\n",
    "binary_ages = np.array(binary_ages)\n",
    "df[\"is_young\"] = binary_ages\n",
    "df[\"is_old\"] = 1 - binary_ages\n",
    "\n",
    "df[\"is_young\"].value_counts()"
   ]
  },
  {
   "cell_type": "code",
   "execution_count": 26,
   "metadata": {},
   "outputs": [
    {
     "data": {
      "image/png": "[encoded data removed]",
      "text/plain": [
       "<Figure size 432x288 with 1 Axes>"
      ]
     },
     "metadata": {
      "needs_background": "light"
     },
     "output_type": "display_data"
    },
    {
     "data": {
      "application/javascript": [
       "\n",
       "            setTimeout(function() {\n",
       "                var nbb_cell_id = 26;\n",
       "                var nbb_unformatted_code = \"sns.boxplot(\\\"is_young\\\", \\\"AdoptionSpeed\\\", data=df)\\nplt.ylabel(\\\"Adoption Time\\\")\\nplt.xlabel(\\\"\\\")\\nplt.xticks([0, 1], labels=[\\\"Older\\\", \\\"Younger\\\"])\\nplt.title(\\\"Adoption Time vs Age\\\")\\n# plt.show()\\nplt.savefig(\\\"age_vs_AdoptSpeed.png\\\", dpi=1000)\";\n",
       "                var nbb_formatted_code = \"sns.boxplot(\\\"is_young\\\", \\\"AdoptionSpeed\\\", data=df)\\nplt.ylabel(\\\"Adoption Time\\\")\\nplt.xlabel(\\\"\\\")\\nplt.xticks([0, 1], labels=[\\\"Older\\\", \\\"Younger\\\"])\\nplt.title(\\\"Adoption Time vs Age\\\")\\n# plt.show()\\nplt.savefig(\\\"age_vs_AdoptSpeed.png\\\", dpi=1000)\";\n",
       "                var nbb_cells = Jupyter.notebook.get_cells();\n",
       "                for (var i = 0; i < nbb_cells.length; ++i) {\n",
       "                    if (nbb_cells[i].input_prompt_number == nbb_cell_id) {\n",
       "                        if (nbb_cells[i].get_text() == nbb_unformatted_code) {\n",
       "                             nbb_cells[i].set_text(nbb_formatted_code);\n",
       "                        }\n",
       "                        break;\n",
       "                    }\n",
       "                }\n",
       "            }, 500);\n",
       "            "
      ],
      "text/plain": [
       "<IPython.core.display.Javascript object>"
      ]
     },
     "metadata": {},
     "output_type": "display_data"
    }
   ],
   "source": [
    "sns.boxplot(\"is_young\", \"AdoptionSpeed\", data=df)\n",
    "plt.ylabel(\"Adoption Time\")\n",
    "plt.xlabel(\"\")\n",
    "plt.xticks([0, 1], labels=[\"Older\", \"Younger\"])\n",
    "plt.title(\"Adoption Time vs Age\")\n",
    "# plt.show()\n",
    "plt.savefig(\"age_vs_AdoptSpeed.png\", dpi=1000)"
   ]
  },
  {
   "cell_type": "markdown",
   "metadata": {},
   "source": [
    "### Breed1 and Breed2"
   ]
  },
  {
   "cell_type": "code",
   "execution_count": 27,
   "metadata": {},
   "outputs": [
    {
     "data": {
      "image/png": "[encoded data removed]",
      "text/plain": [
       "<Figure size 432x288 with 1 Axes>"
      ]
     },
     "metadata": {
      "needs_background": "light"
     },
     "output_type": "display_data"
    },
    {
     "data": {
      "image/png": "[encoded data removed]",
      "text/plain": [
       "<Figure size 432x288 with 1 Axes>"
      ]
     },
     "metadata": {
      "needs_background": "light"
     },
     "output_type": "display_data"
    },
    {
     "data": {
      "application/javascript": [
       "\n",
       "            setTimeout(function() {\n",
       "                var nbb_cell_id = 27;\n",
       "                var nbb_unformatted_code = \"df[\\\"Breed1\\\"].hist()\\nplt.show()\\n\\ndf[\\\"Breed2\\\"].hist()\\nplt.show()\";\n",
       "                var nbb_formatted_code = \"df[\\\"Breed1\\\"].hist()\\nplt.show()\\n\\ndf[\\\"Breed2\\\"].hist()\\nplt.show()\";\n",
       "                var nbb_cells = Jupyter.notebook.get_cells();\n",
       "                for (var i = 0; i < nbb_cells.length; ++i) {\n",
       "                    if (nbb_cells[i].input_prompt_number == nbb_cell_id) {\n",
       "                        if (nbb_cells[i].get_text() == nbb_unformatted_code) {\n",
       "                             nbb_cells[i].set_text(nbb_formatted_code);\n",
       "                        }\n",
       "                        break;\n",
       "                    }\n",
       "                }\n",
       "            }, 500);\n",
       "            "
      ],
      "text/plain": [
       "<IPython.core.display.Javascript object>"
      ]
     },
     "metadata": {},
     "output_type": "display_data"
    }
   ],
   "source": [
    "df[\"Breed1\"].hist()\n",
    "plt.show()\n",
    "\n",
    "df[\"Breed2\"].hist()\n",
    "plt.show()"
   ]
  },
  {
   "cell_type": "markdown",
   "metadata": {},
   "source": [
    "Because there are so many breeds and major class imbalance, let's simplify and try to create an is_pure_bred feature.  We exclude mixed breed, no breed identified, and generic breeds like domestic short hair."
   ]
  },
  {
   "cell_type": "code",
   "execution_count": 28,
   "metadata": {},
   "outputs": [
    {
     "data": {
      "application/javascript": [
       "\n",
       "            setTimeout(function() {\n",
       "                var nbb_cell_id = 28;\n",
       "                var nbb_unformatted_code = \"is_pure_bred = []\\n\\nbreed1 = np.array(df[\\\"Breed1\\\"])\\nbreed2 = np.array(df[\\\"Breed2\\\"])\\n\\nexcluded_breed_codes = [0, 307, 264, 265, 266]\\n\\nfor i in range(0, len(breed1)):\\n    if breed1[i] not in excluded_breed_codes and breed2[i] == 0:\\n        is_pure_bred.append(1)\\n    else:\\n        is_pure_bred.append(0)\\n\\nis_pure_bred = np.array(is_pure_bred)\\ndf[\\\"is_pure_bred\\\"] = is_pure_bred\\ndf[\\\"is_mixed_breed\\\"] = 1 - is_pure_bred\";\n",
       "                var nbb_formatted_code = \"is_pure_bred = []\\n\\nbreed1 = np.array(df[\\\"Breed1\\\"])\\nbreed2 = np.array(df[\\\"Breed2\\\"])\\n\\nexcluded_breed_codes = [0, 307, 264, 265, 266]\\n\\nfor i in range(0, len(breed1)):\\n    if breed1[i] not in excluded_breed_codes and breed2[i] == 0:\\n        is_pure_bred.append(1)\\n    else:\\n        is_pure_bred.append(0)\\n\\nis_pure_bred = np.array(is_pure_bred)\\ndf[\\\"is_pure_bred\\\"] = is_pure_bred\\ndf[\\\"is_mixed_breed\\\"] = 1 - is_pure_bred\";\n",
       "                var nbb_cells = Jupyter.notebook.get_cells();\n",
       "                for (var i = 0; i < nbb_cells.length; ++i) {\n",
       "                    if (nbb_cells[i].input_prompt_number == nbb_cell_id) {\n",
       "                        if (nbb_cells[i].get_text() == nbb_unformatted_code) {\n",
       "                             nbb_cells[i].set_text(nbb_formatted_code);\n",
       "                        }\n",
       "                        break;\n",
       "                    }\n",
       "                }\n",
       "            }, 500);\n",
       "            "
      ],
      "text/plain": [
       "<IPython.core.display.Javascript object>"
      ]
     },
     "metadata": {},
     "output_type": "display_data"
    }
   ],
   "source": [
    "is_pure_bred = []\n",
    "\n",
    "breed1 = np.array(df[\"Breed1\"])\n",
    "breed2 = np.array(df[\"Breed2\"])\n",
    "\n",
    "excluded_breed_codes = [0, 307, 264, 265, 266]\n",
    "\n",
    "for i in range(0, len(breed1)):\n",
    "    if breed1[i] not in excluded_breed_codes and breed2[i] == 0:\n",
    "        is_pure_bred.append(1)\n",
    "    else:\n",
    "        is_pure_bred.append(0)\n",
    "\n",
    "is_pure_bred = np.array(is_pure_bred)\n",
    "df[\"is_pure_bred\"] = is_pure_bred\n",
    "df[\"is_mixed_breed\"] = 1 - is_pure_bred"
   ]
  },
  {
   "cell_type": "code",
   "execution_count": 29,
   "metadata": {},
   "outputs": [
    {
     "data": {
      "image/png": "[encoded data removed]",
      "text/plain": [
       "<Figure size 432x288 with 1 Axes>"
      ]
     },
     "metadata": {
      "needs_background": "light"
     },
     "output_type": "display_data"
    },
    {
     "data": {
      "application/javascript": [
       "\n",
       "            setTimeout(function() {\n",
       "                var nbb_cell_id = 29;\n",
       "                var nbb_unformatted_code = \"sns.boxplot(\\\"is_pure_bred\\\", \\\"AdoptionSpeed\\\", data=df)\\nplt.ylabel(\\\"Adoption Time\\\")\\nplt.xlabel(\\\"\\\")\\nplt.xticks([0, 1], labels=[\\\"Mixed Breed\\\", \\\"Purebred\\\"])\\nplt.title(\\\"Adoption Time vs Breed\\\")\\n# plt.show()\\nplt.savefig(\\\"breed_vs_AdoptSpeed.png\\\", dpi=1000)\";\n",
       "                var nbb_formatted_code = \"sns.boxplot(\\\"is_pure_bred\\\", \\\"AdoptionSpeed\\\", data=df)\\nplt.ylabel(\\\"Adoption Time\\\")\\nplt.xlabel(\\\"\\\")\\nplt.xticks([0, 1], labels=[\\\"Mixed Breed\\\", \\\"Purebred\\\"])\\nplt.title(\\\"Adoption Time vs Breed\\\")\\n# plt.show()\\nplt.savefig(\\\"breed_vs_AdoptSpeed.png\\\", dpi=1000)\";\n",
       "                var nbb_cells = Jupyter.notebook.get_cells();\n",
       "                for (var i = 0; i < nbb_cells.length; ++i) {\n",
       "                    if (nbb_cells[i].input_prompt_number == nbb_cell_id) {\n",
       "                        if (nbb_cells[i].get_text() == nbb_unformatted_code) {\n",
       "                             nbb_cells[i].set_text(nbb_formatted_code);\n",
       "                        }\n",
       "                        break;\n",
       "                    }\n",
       "                }\n",
       "            }, 500);\n",
       "            "
      ],
      "text/plain": [
       "<IPython.core.display.Javascript object>"
      ]
     },
     "metadata": {},
     "output_type": "display_data"
    }
   ],
   "source": [
    "sns.boxplot(\"is_pure_bred\", \"AdoptionSpeed\", data=df)\n",
    "plt.ylabel(\"Adoption Time\")\n",
    "plt.xlabel(\"\")\n",
    "plt.xticks([0, 1], labels=[\"Mixed Breed\", \"Purebred\"])\n",
    "plt.title(\"Adoption Time vs Breed\")\n",
    "# plt.show()\n",
    "plt.savefig(\"breed_vs_AdoptSpeed.png\", dpi=1000)"
   ]
  },
  {
   "cell_type": "code",
   "execution_count": 30,
   "metadata": {},
   "outputs": [
    {
     "data": {
      "text/plain": [
       "0.08187205756716293"
      ]
     },
     "execution_count": 30,
     "metadata": {},
     "output_type": "execute_result"
    },
    {
     "data": {
      "application/javascript": [
       "\n",
       "            setTimeout(function() {\n",
       "                var nbb_cell_id = 30;\n",
       "                var nbb_unformatted_code = \"mixed_df = df[df[\\\"is_pure_bred\\\"] == 0]\\npure_df = df[df[\\\"is_pure_bred\\\"] == 1]\\nmixed_adoptionspeeds = np.array(mixed_df[\\\"AdoptionSpeed\\\"])\\npure_adoptionspeeds = np.array(pure_df[\\\"AdoptionSpeed\\\"])\\n\\n_, p = mannwhitneyu(mixed_adoptionspeeds, pure_adoptionspeeds)\\np\";\n",
       "                var nbb_formatted_code = \"mixed_df = df[df[\\\"is_pure_bred\\\"] == 0]\\npure_df = df[df[\\\"is_pure_bred\\\"] == 1]\\nmixed_adoptionspeeds = np.array(mixed_df[\\\"AdoptionSpeed\\\"])\\npure_adoptionspeeds = np.array(pure_df[\\\"AdoptionSpeed\\\"])\\n\\n_, p = mannwhitneyu(mixed_adoptionspeeds, pure_adoptionspeeds)\\np\";\n",
       "                var nbb_cells = Jupyter.notebook.get_cells();\n",
       "                for (var i = 0; i < nbb_cells.length; ++i) {\n",
       "                    if (nbb_cells[i].input_prompt_number == nbb_cell_id) {\n",
       "                        if (nbb_cells[i].get_text() == nbb_unformatted_code) {\n",
       "                             nbb_cells[i].set_text(nbb_formatted_code);\n",
       "                        }\n",
       "                        break;\n",
       "                    }\n",
       "                }\n",
       "            }, 500);\n",
       "            "
      ],
      "text/plain": [
       "<IPython.core.display.Javascript object>"
      ]
     },
     "metadata": {},
     "output_type": "display_data"
    }
   ],
   "source": [
    "mixed_df = df[df[\"is_pure_bred\"] == 0]\n",
    "pure_df = df[df[\"is_pure_bred\"] == 1]\n",
    "mixed_adoptionspeeds = np.array(mixed_df[\"AdoptionSpeed\"])\n",
    "pure_adoptionspeeds = np.array(pure_df[\"AdoptionSpeed\"])\n",
    "\n",
    "_, p = mannwhitneyu(mixed_adoptionspeeds, pure_adoptionspeeds)\n",
    "p"
   ]
  },
  {
   "cell_type": "markdown",
   "metadata": {},
   "source": [
    "### Gender\n",
    "\n",
    "1 - Male, 2 - Female, 3 - mixed (group of animals).  Let's drop the mixed groups for simplicity, and then encode female as 1 and male as 0."
   ]
  },
  {
   "cell_type": "code",
   "execution_count": 31,
   "metadata": {},
   "outputs": [
    {
     "data": {
      "text/plain": [
       "2    2662\n",
       "1    2281\n",
       "Name: Gender, dtype: int64"
      ]
     },
     "execution_count": 31,
     "metadata": {},
     "output_type": "execute_result"
    },
    {
     "data": {
      "application/javascript": [
       "\n",
       "            setTimeout(function() {\n",
       "                var nbb_cell_id = 31;\n",
       "                var nbb_unformatted_code = \"df[\\\"Gender\\\"].value_counts()\";\n",
       "                var nbb_formatted_code = \"df[\\\"Gender\\\"].value_counts()\";\n",
       "                var nbb_cells = Jupyter.notebook.get_cells();\n",
       "                for (var i = 0; i < nbb_cells.length; ++i) {\n",
       "                    if (nbb_cells[i].input_prompt_number == nbb_cell_id) {\n",
       "                        if (nbb_cells[i].get_text() == nbb_unformatted_code) {\n",
       "                             nbb_cells[i].set_text(nbb_formatted_code);\n",
       "                        }\n",
       "                        break;\n",
       "                    }\n",
       "                }\n",
       "            }, 500);\n",
       "            "
      ],
      "text/plain": [
       "<IPython.core.display.Javascript object>"
      ]
     },
     "metadata": {},
     "output_type": "display_data"
    }
   ],
   "source": [
    "df[\"Gender\"].value_counts()"
   ]
  },
  {
   "cell_type": "code",
   "execution_count": 32,
   "metadata": {},
   "outputs": [
    {
     "data": {
      "application/javascript": [
       "\n",
       "            setTimeout(function() {\n",
       "                var nbb_cell_id = 32;\n",
       "                var nbb_unformatted_code = \"df = df[df[\\\"Gender\\\"] != 3]\";\n",
       "                var nbb_formatted_code = \"df = df[df[\\\"Gender\\\"] != 3]\";\n",
       "                var nbb_cells = Jupyter.notebook.get_cells();\n",
       "                for (var i = 0; i < nbb_cells.length; ++i) {\n",
       "                    if (nbb_cells[i].input_prompt_number == nbb_cell_id) {\n",
       "                        if (nbb_cells[i].get_text() == nbb_unformatted_code) {\n",
       "                             nbb_cells[i].set_text(nbb_formatted_code);\n",
       "                        }\n",
       "                        break;\n",
       "                    }\n",
       "                }\n",
       "            }, 500);\n",
       "            "
      ],
      "text/plain": [
       "<IPython.core.display.Javascript object>"
      ]
     },
     "metadata": {},
     "output_type": "display_data"
    }
   ],
   "source": [
    "df = df[df[\"Gender\"] != 3]"
   ]
  },
  {
   "cell_type": "code",
   "execution_count": 33,
   "metadata": {},
   "outputs": [
    {
     "data": {
      "text/plain": [
       "2    2662\n",
       "1    2281\n",
       "Name: Gender, dtype: int64"
      ]
     },
     "execution_count": 33,
     "metadata": {},
     "output_type": "execute_result"
    },
    {
     "data": {
      "application/javascript": [
       "\n",
       "            setTimeout(function() {\n",
       "                var nbb_cell_id = 33;\n",
       "                var nbb_unformatted_code = \"df[\\\"Gender\\\"].value_counts()\";\n",
       "                var nbb_formatted_code = \"df[\\\"Gender\\\"].value_counts()\";\n",
       "                var nbb_cells = Jupyter.notebook.get_cells();\n",
       "                for (var i = 0; i < nbb_cells.length; ++i) {\n",
       "                    if (nbb_cells[i].input_prompt_number == nbb_cell_id) {\n",
       "                        if (nbb_cells[i].get_text() == nbb_unformatted_code) {\n",
       "                             nbb_cells[i].set_text(nbb_formatted_code);\n",
       "                        }\n",
       "                        break;\n",
       "                    }\n",
       "                }\n",
       "            }, 500);\n",
       "            "
      ],
      "text/plain": [
       "<IPython.core.display.Javascript object>"
      ]
     },
     "metadata": {},
     "output_type": "display_data"
    }
   ],
   "source": [
    "df[\"Gender\"].value_counts()"
   ]
  },
  {
   "cell_type": "code",
   "execution_count": 34,
   "metadata": {},
   "outputs": [
    {
     "data": {
      "text/plain": [
       "1    2662\n",
       "0    2281\n",
       "Name: is_female, dtype: int64"
      ]
     },
     "execution_count": 34,
     "metadata": {},
     "output_type": "execute_result"
    },
    {
     "data": {
      "application/javascript": [
       "\n",
       "            setTimeout(function() {\n",
       "                var nbb_cell_id = 34;\n",
       "                var nbb_unformatted_code = \"binary_genders = []\\ngenders = df[\\\"Gender\\\"]\\n\\nfor gender in genders:\\n    if gender == 2:\\n        binary_genders.append(1)\\n    else:\\n        binary_genders.append(0)\\n\\nbinary_genders = np.array(binary_genders)\\ndf[\\\"is_female\\\"] = binary_genders\\ndf[\\\"is_male\\\"] = 1 - binary_genders\\n\\ndf[\\\"is_female\\\"].value_counts()\";\n",
       "                var nbb_formatted_code = \"binary_genders = []\\ngenders = df[\\\"Gender\\\"]\\n\\nfor gender in genders:\\n    if gender == 2:\\n        binary_genders.append(1)\\n    else:\\n        binary_genders.append(0)\\n\\nbinary_genders = np.array(binary_genders)\\ndf[\\\"is_female\\\"] = binary_genders\\ndf[\\\"is_male\\\"] = 1 - binary_genders\\n\\ndf[\\\"is_female\\\"].value_counts()\";\n",
       "                var nbb_cells = Jupyter.notebook.get_cells();\n",
       "                for (var i = 0; i < nbb_cells.length; ++i) {\n",
       "                    if (nbb_cells[i].input_prompt_number == nbb_cell_id) {\n",
       "                        if (nbb_cells[i].get_text() == nbb_unformatted_code) {\n",
       "                             nbb_cells[i].set_text(nbb_formatted_code);\n",
       "                        }\n",
       "                        break;\n",
       "                    }\n",
       "                }\n",
       "            }, 500);\n",
       "            "
      ],
      "text/plain": [
       "<IPython.core.display.Javascript object>"
      ]
     },
     "metadata": {},
     "output_type": "display_data"
    }
   ],
   "source": [
    "binary_genders = []\n",
    "genders = df[\"Gender\"]\n",
    "\n",
    "for gender in genders:\n",
    "    if gender == 2:\n",
    "        binary_genders.append(1)\n",
    "    else:\n",
    "        binary_genders.append(0)\n",
    "\n",
    "binary_genders = np.array(binary_genders)\n",
    "df[\"is_female\"] = binary_genders\n",
    "df[\"is_male\"] = 1 - binary_genders\n",
    "\n",
    "df[\"is_female\"].value_counts()"
   ]
  },
  {
   "cell_type": "code",
   "execution_count": 35,
   "metadata": {},
   "outputs": [
    {
     "data": {
      "image/png": "[encoded data removed]",
      "text/plain": [
       "<Figure size 432x288 with 1 Axes>"
      ]
     },
     "metadata": {
      "needs_background": "light"
     },
     "output_type": "display_data"
    },
    {
     "data": {
      "application/javascript": [
       "\n",
       "            setTimeout(function() {\n",
       "                var nbb_cell_id = 35;\n",
       "                var nbb_unformatted_code = \"sns.boxplot(x=\\\"is_female\\\", y=\\\"AdoptionSpeed\\\", data=df)\\nplt.show()\";\n",
       "                var nbb_formatted_code = \"sns.boxplot(x=\\\"is_female\\\", y=\\\"AdoptionSpeed\\\", data=df)\\nplt.show()\";\n",
       "                var nbb_cells = Jupyter.notebook.get_cells();\n",
       "                for (var i = 0; i < nbb_cells.length; ++i) {\n",
       "                    if (nbb_cells[i].input_prompt_number == nbb_cell_id) {\n",
       "                        if (nbb_cells[i].get_text() == nbb_unformatted_code) {\n",
       "                             nbb_cells[i].set_text(nbb_formatted_code);\n",
       "                        }\n",
       "                        break;\n",
       "                    }\n",
       "                }\n",
       "            }, 500);\n",
       "            "
      ],
      "text/plain": [
       "<IPython.core.display.Javascript object>"
      ]
     },
     "metadata": {},
     "output_type": "display_data"
    }
   ],
   "source": [
    "sns.boxplot(x=\"is_female\", y=\"AdoptionSpeed\", data=df)\n",
    "plt.show()"
   ]
  },
  {
   "cell_type": "markdown",
   "metadata": {},
   "source": [
    "### Color1, Color2, and Color3"
   ]
  },
  {
   "cell_type": "code",
   "execution_count": 36,
   "metadata": {},
   "outputs": [
    {
     "data": {
      "text/html": [
       "<div>\n",
       "<style scoped>\n",
       "    .dataframe tbody tr th:only-of-type {\n",
       "        vertical-align: middle;\n",
       "    }\n",
       "\n",
       "    .dataframe tbody tr th {\n",
       "        vertical-align: top;\n",
       "    }\n",
       "\n",
       "    .dataframe thead th {\n",
       "        text-align: right;\n",
       "    }\n",
       "</style>\n",
       "<table border=\"1\" class=\"dataframe\">\n",
       "  <thead>\n",
       "    <tr style=\"text-align: right;\">\n",
       "      <th></th>\n",
       "      <th>ColorID</th>\n",
       "      <th>ColorName</th>\n",
       "    </tr>\n",
       "  </thead>\n",
       "  <tbody>\n",
       "    <tr>\n",
       "      <th>0</th>\n",
       "      <td>1</td>\n",
       "      <td>Black</td>\n",
       "    </tr>\n",
       "    <tr>\n",
       "      <th>1</th>\n",
       "      <td>2</td>\n",
       "      <td>Brown</td>\n",
       "    </tr>\n",
       "    <tr>\n",
       "      <th>2</th>\n",
       "      <td>3</td>\n",
       "      <td>Golden</td>\n",
       "    </tr>\n",
       "    <tr>\n",
       "      <th>3</th>\n",
       "      <td>4</td>\n",
       "      <td>Yellow</td>\n",
       "    </tr>\n",
       "    <tr>\n",
       "      <th>4</th>\n",
       "      <td>5</td>\n",
       "      <td>Cream</td>\n",
       "    </tr>\n",
       "    <tr>\n",
       "      <th>5</th>\n",
       "      <td>6</td>\n",
       "      <td>Gray</td>\n",
       "    </tr>\n",
       "    <tr>\n",
       "      <th>6</th>\n",
       "      <td>7</td>\n",
       "      <td>White</td>\n",
       "    </tr>\n",
       "  </tbody>\n",
       "</table>\n",
       "</div>"
      ],
      "text/plain": [
       "   ColorID ColorName\n",
       "0        1     Black\n",
       "1        2     Brown\n",
       "2        3    Golden\n",
       "3        4    Yellow\n",
       "4        5     Cream\n",
       "5        6      Gray\n",
       "6        7     White"
      ]
     },
     "execution_count": 36,
     "metadata": {},
     "output_type": "execute_result"
    },
    {
     "data": {
      "application/javascript": [
       "\n",
       "            setTimeout(function() {\n",
       "                var nbb_cell_id = 36;\n",
       "                var nbb_unformatted_code = \"color_labels_df\";\n",
       "                var nbb_formatted_code = \"color_labels_df\";\n",
       "                var nbb_cells = Jupyter.notebook.get_cells();\n",
       "                for (var i = 0; i < nbb_cells.length; ++i) {\n",
       "                    if (nbb_cells[i].input_prompt_number == nbb_cell_id) {\n",
       "                        if (nbb_cells[i].get_text() == nbb_unformatted_code) {\n",
       "                             nbb_cells[i].set_text(nbb_formatted_code);\n",
       "                        }\n",
       "                        break;\n",
       "                    }\n",
       "                }\n",
       "            }, 500);\n",
       "            "
      ],
      "text/plain": [
       "<IPython.core.display.Javascript object>"
      ]
     },
     "metadata": {},
     "output_type": "display_data"
    }
   ],
   "source": [
    "color_labels_df"
   ]
  },
  {
   "cell_type": "code",
   "execution_count": 37,
   "metadata": {},
   "outputs": [
    {
     "name": "stdout",
     "output_type": "stream",
     "text": [
      "Color1:\n"
     ]
    },
    {
     "data": {
      "text/plain": [
       "1    2306\n",
       "2     816\n",
       "6     490\n",
       "3     478\n",
       "4     363\n",
       "7     256\n",
       "5     234\n",
       "Name: Color1, dtype: int64"
      ]
     },
     "metadata": {},
     "output_type": "display_data"
    },
    {
     "name": "stdout",
     "output_type": "stream",
     "text": [
      "Color2:\n"
     ]
    },
    {
     "data": {
      "text/plain": [
       "7    1561\n",
       "0    1276\n",
       "2     586\n",
       "6     568\n",
       "4     388\n",
       "5     329\n",
       "3     235\n",
       "Name: Color2, dtype: int64"
      ]
     },
     "metadata": {},
     "output_type": "display_data"
    },
    {
     "name": "stdout",
     "output_type": "stream",
     "text": [
      "Color3:\n"
     ]
    },
    {
     "data": {
      "text/plain": [
       "0    3417\n",
       "7    1115\n",
       "6     167\n",
       "5     105\n",
       "4      80\n",
       "3      59\n",
       "Name: Color3, dtype: int64"
      ]
     },
     "metadata": {},
     "output_type": "display_data"
    },
    {
     "data": {
      "application/javascript": [
       "\n",
       "            setTimeout(function() {\n",
       "                var nbb_cell_id = 37;\n",
       "                var nbb_unformatted_code = \"print(\\\"Color1:\\\")\\ndisplay(df[\\\"Color1\\\"].value_counts())\\n\\nprint(\\\"Color2:\\\")\\ndisplay(df[\\\"Color2\\\"].value_counts())\\n\\nprint(\\\"Color3:\\\")\\ndisplay(df[\\\"Color3\\\"].value_counts())\";\n",
       "                var nbb_formatted_code = \"print(\\\"Color1:\\\")\\ndisplay(df[\\\"Color1\\\"].value_counts())\\n\\nprint(\\\"Color2:\\\")\\ndisplay(df[\\\"Color2\\\"].value_counts())\\n\\nprint(\\\"Color3:\\\")\\ndisplay(df[\\\"Color3\\\"].value_counts())\";\n",
       "                var nbb_cells = Jupyter.notebook.get_cells();\n",
       "                for (var i = 0; i < nbb_cells.length; ++i) {\n",
       "                    if (nbb_cells[i].input_prompt_number == nbb_cell_id) {\n",
       "                        if (nbb_cells[i].get_text() == nbb_unformatted_code) {\n",
       "                             nbb_cells[i].set_text(nbb_formatted_code);\n",
       "                        }\n",
       "                        break;\n",
       "                    }\n",
       "                }\n",
       "            }, 500);\n",
       "            "
      ],
      "text/plain": [
       "<IPython.core.display.Javascript object>"
      ]
     },
     "metadata": {},
     "output_type": "display_data"
    }
   ],
   "source": [
    "print(\"Color1:\")\n",
    "display(df[\"Color1\"].value_counts())\n",
    "\n",
    "print(\"Color2:\")\n",
    "display(df[\"Color2\"].value_counts())\n",
    "\n",
    "print(\"Color3:\")\n",
    "display(df[\"Color3\"].value_counts())"
   ]
  },
  {
   "cell_type": "code",
   "execution_count": 38,
   "metadata": {},
   "outputs": [
    {
     "data": {
      "image/png": "[encoded data removed]",
      "text/plain": [
       "<Figure size 432x288 with 1 Axes>"
      ]
     },
     "metadata": {
      "needs_background": "light"
     },
     "output_type": "display_data"
    },
    {
     "data": {
      "image/png": "[encoded data removed]",
      "text/plain": [
       "<Figure size 432x288 with 1 Axes>"
      ]
     },
     "metadata": {
      "needs_background": "light"
     },
     "output_type": "display_data"
    },
    {
     "data": {
      "image/png": "[encoded data removed]",
      "text/plain": [
       "<Figure size 432x288 with 1 Axes>"
      ]
     },
     "metadata": {
      "needs_background": "light"
     },
     "output_type": "display_data"
    },
    {
     "data": {
      "application/javascript": [
       "\n",
       "            setTimeout(function() {\n",
       "                var nbb_cell_id = 38;\n",
       "                var nbb_unformatted_code = \"sns.barplot(x=\\\"Color1\\\", y=\\\"AdoptionSpeed\\\", data=df)\\nplt.show()\\n\\nsns.barplot(x=\\\"Color2\\\", y=\\\"AdoptionSpeed\\\", data=df)\\nplt.show()\\n\\nsns.barplot(x=\\\"Color3\\\", y=\\\"AdoptionSpeed\\\", data=df)\\nplt.show()\";\n",
       "                var nbb_formatted_code = \"sns.barplot(x=\\\"Color1\\\", y=\\\"AdoptionSpeed\\\", data=df)\\nplt.show()\\n\\nsns.barplot(x=\\\"Color2\\\", y=\\\"AdoptionSpeed\\\", data=df)\\nplt.show()\\n\\nsns.barplot(x=\\\"Color3\\\", y=\\\"AdoptionSpeed\\\", data=df)\\nplt.show()\";\n",
       "                var nbb_cells = Jupyter.notebook.get_cells();\n",
       "                for (var i = 0; i < nbb_cells.length; ++i) {\n",
       "                    if (nbb_cells[i].input_prompt_number == nbb_cell_id) {\n",
       "                        if (nbb_cells[i].get_text() == nbb_unformatted_code) {\n",
       "                             nbb_cells[i].set_text(nbb_formatted_code);\n",
       "                        }\n",
       "                        break;\n",
       "                    }\n",
       "                }\n",
       "            }, 500);\n",
       "            "
      ],
      "text/plain": [
       "<IPython.core.display.Javascript object>"
      ]
     },
     "metadata": {},
     "output_type": "display_data"
    }
   ],
   "source": [
    "sns.barplot(x=\"Color1\", y=\"AdoptionSpeed\", data=df)\n",
    "plt.show()\n",
    "\n",
    "sns.barplot(x=\"Color2\", y=\"AdoptionSpeed\", data=df)\n",
    "plt.show()\n",
    "\n",
    "sns.barplot(x=\"Color3\", y=\"AdoptionSpeed\", data=df)\n",
    "plt.show()"
   ]
  },
  {
   "cell_type": "code",
   "execution_count": 39,
   "metadata": {},
   "outputs": [
    {
     "data": {
      "application/javascript": [
       "\n",
       "            setTimeout(function() {\n",
       "                var nbb_cell_id = 39;\n",
       "                var nbb_unformatted_code = \"a = np.array(df[\\\"Color1\\\"])\\nb = np.array(df[\\\"Color2\\\"])\\nc = np.array(df[\\\"Color3\\\"])\\n\\nis_black = [0] * len(a)\\nis_brown = [0] * len(a)\\nis_golden = [0] * len(a)\\nis_yellow = [0] * len(a)\\nis_cream = [0] * len(a)\\nis_gray = [0] * len(a)\\nis_white = [0] * len(a)\\nis_bicolor = [0] * len(a)\\nis_multicolor = [0] * len(a)\\n\\nfor i in np.arange(0, len(a)):\\n    if a[i] == 1:\\n        is_black[i] = 1\\n    if a[i] == 2:\\n        is_brown[i] = 1\\n    if a[i] == 3:\\n        is_golden[i] = 1\\n    if a[i] == 4:\\n        is_yellow[i] = 1\\n    if a[i] == 5:\\n        is_cream[i] = 1\\n    if a[i] == 6:\\n        is_gray[i] = 1\\n    if a[i] == 7:\\n        is_white[i] = 1\\n    if b[i] != 0 and c[i] == 0:\\n        is_bicolor[i] = 1\\n    if b[i] != 0 and c[i] != 0:\\n        is_multicolor[i] = 1\\n\\ndf[\\\"is_black\\\"] = is_black\\ndf[\\\"is_brown\\\"] = is_brown\\ndf[\\\"is_golden\\\"] = is_golden\\ndf[\\\"is_yellow\\\"] = is_yellow\\ndf[\\\"is_cream\\\"] = is_cream\\ndf[\\\"is_gray\\\"] = is_gray\\ndf[\\\"is_white\\\"] = is_white\\n\\nis_bicolor = np.array(is_bicolor)\\ndf[\\\"is_bicolor\\\"] = is_bicolor\\ndf[\\\"is_not_bicolor\\\"] = 1 - is_bicolor\";\n",
       "                var nbb_formatted_code = \"a = np.array(df[\\\"Color1\\\"])\\nb = np.array(df[\\\"Color2\\\"])\\nc = np.array(df[\\\"Color3\\\"])\\n\\nis_black = [0] * len(a)\\nis_brown = [0] * len(a)\\nis_golden = [0] * len(a)\\nis_yellow = [0] * len(a)\\nis_cream = [0] * len(a)\\nis_gray = [0] * len(a)\\nis_white = [0] * len(a)\\nis_bicolor = [0] * len(a)\\nis_multicolor = [0] * len(a)\\n\\nfor i in np.arange(0, len(a)):\\n    if a[i] == 1:\\n        is_black[i] = 1\\n    if a[i] == 2:\\n        is_brown[i] = 1\\n    if a[i] == 3:\\n        is_golden[i] = 1\\n    if a[i] == 4:\\n        is_yellow[i] = 1\\n    if a[i] == 5:\\n        is_cream[i] = 1\\n    if a[i] == 6:\\n        is_gray[i] = 1\\n    if a[i] == 7:\\n        is_white[i] = 1\\n    if b[i] != 0 and c[i] == 0:\\n        is_bicolor[i] = 1\\n    if b[i] != 0 and c[i] != 0:\\n        is_multicolor[i] = 1\\n\\ndf[\\\"is_black\\\"] = is_black\\ndf[\\\"is_brown\\\"] = is_brown\\ndf[\\\"is_golden\\\"] = is_golden\\ndf[\\\"is_yellow\\\"] = is_yellow\\ndf[\\\"is_cream\\\"] = is_cream\\ndf[\\\"is_gray\\\"] = is_gray\\ndf[\\\"is_white\\\"] = is_white\\n\\nis_bicolor = np.array(is_bicolor)\\ndf[\\\"is_bicolor\\\"] = is_bicolor\\ndf[\\\"is_not_bicolor\\\"] = 1 - is_bicolor\";\n",
       "                var nbb_cells = Jupyter.notebook.get_cells();\n",
       "                for (var i = 0; i < nbb_cells.length; ++i) {\n",
       "                    if (nbb_cells[i].input_prompt_number == nbb_cell_id) {\n",
       "                        if (nbb_cells[i].get_text() == nbb_unformatted_code) {\n",
       "                             nbb_cells[i].set_text(nbb_formatted_code);\n",
       "                        }\n",
       "                        break;\n",
       "                    }\n",
       "                }\n",
       "            }, 500);\n",
       "            "
      ],
      "text/plain": [
       "<IPython.core.display.Javascript object>"
      ]
     },
     "metadata": {},
     "output_type": "display_data"
    }
   ],
   "source": [
    "a = np.array(df[\"Color1\"])\n",
    "b = np.array(df[\"Color2\"])\n",
    "c = np.array(df[\"Color3\"])\n",
    "\n",
    "is_black = [0] * len(a)\n",
    "is_brown = [0] * len(a)\n",
    "is_golden = [0] * len(a)\n",
    "is_yellow = [0] * len(a)\n",
    "is_cream = [0] * len(a)\n",
    "is_gray = [0] * len(a)\n",
    "is_white = [0] * len(a)\n",
    "is_bicolor = [0] * len(a)\n",
    "is_multicolor = [0] * len(a)\n",
    "\n",
    "for i in np.arange(0, len(a)):\n",
    "    if a[i] == 1:\n",
    "        is_black[i] = 1\n",
    "    if a[i] == 2:\n",
    "        is_brown[i] = 1\n",
    "    if a[i] == 3:\n",
    "        is_golden[i] = 1\n",
    "    if a[i] == 4:\n",
    "        is_yellow[i] = 1\n",
    "    if a[i] == 5:\n",
    "        is_cream[i] = 1\n",
    "    if a[i] == 6:\n",
    "        is_gray[i] = 1\n",
    "    if a[i] == 7:\n",
    "        is_white[i] = 1\n",
    "    if b[i] != 0 and c[i] == 0:\n",
    "        is_bicolor[i] = 1\n",
    "    if b[i] != 0 and c[i] != 0:\n",
    "        is_multicolor[i] = 1\n",
    "\n",
    "df[\"is_black\"] = is_black\n",
    "df[\"is_brown\"] = is_brown\n",
    "df[\"is_golden\"] = is_golden\n",
    "df[\"is_yellow\"] = is_yellow\n",
    "df[\"is_cream\"] = is_cream\n",
    "df[\"is_gray\"] = is_gray\n",
    "df[\"is_white\"] = is_white\n",
    "\n",
    "is_bicolor = np.array(is_bicolor)\n",
    "df[\"is_bicolor\"] = is_bicolor\n",
    "df[\"is_not_bicolor\"] = 1 - is_bicolor"
   ]
  },
  {
   "cell_type": "markdown",
   "metadata": {},
   "source": [
    "### MaturitySize"
   ]
  },
  {
   "cell_type": "code",
   "execution_count": 40,
   "metadata": {},
   "outputs": [
    {
     "data": {
      "text/plain": [
       "2    3063\n",
       "1    1472\n",
       "3     401\n",
       "4       7\n",
       "Name: MaturitySize, dtype: int64"
      ]
     },
     "execution_count": 40,
     "metadata": {},
     "output_type": "execute_result"
    },
    {
     "data": {
      "application/javascript": [
       "\n",
       "            setTimeout(function() {\n",
       "                var nbb_cell_id = 40;\n",
       "                var nbb_unformatted_code = \"df[\\\"MaturitySize\\\"].value_counts()\";\n",
       "                var nbb_formatted_code = \"df[\\\"MaturitySize\\\"].value_counts()\";\n",
       "                var nbb_cells = Jupyter.notebook.get_cells();\n",
       "                for (var i = 0; i < nbb_cells.length; ++i) {\n",
       "                    if (nbb_cells[i].input_prompt_number == nbb_cell_id) {\n",
       "                        if (nbb_cells[i].get_text() == nbb_unformatted_code) {\n",
       "                             nbb_cells[i].set_text(nbb_formatted_code);\n",
       "                        }\n",
       "                        break;\n",
       "                    }\n",
       "                }\n",
       "            }, 500);\n",
       "            "
      ],
      "text/plain": [
       "<IPython.core.display.Javascript object>"
      ]
     },
     "metadata": {},
     "output_type": "display_data"
    }
   ],
   "source": [
    "df[\"MaturitySize\"].value_counts()"
   ]
  },
  {
   "cell_type": "code",
   "execution_count": 41,
   "metadata": {},
   "outputs": [
    {
     "data": {
      "image/png": "[encoded data removed]",
      "text/plain": [
       "<Figure size 432x288 with 1 Axes>"
      ]
     },
     "metadata": {
      "needs_background": "light"
     },
     "output_type": "display_data"
    },
    {
     "data": {
      "application/javascript": [
       "\n",
       "            setTimeout(function() {\n",
       "                var nbb_cell_id = 41;\n",
       "                var nbb_unformatted_code = \"sns.barplot(x=\\\"MaturitySize\\\", y=\\\"AdoptionSpeed\\\", data=df)\\nplt.show()\";\n",
       "                var nbb_formatted_code = \"sns.barplot(x=\\\"MaturitySize\\\", y=\\\"AdoptionSpeed\\\", data=df)\\nplt.show()\";\n",
       "                var nbb_cells = Jupyter.notebook.get_cells();\n",
       "                for (var i = 0; i < nbb_cells.length; ++i) {\n",
       "                    if (nbb_cells[i].input_prompt_number == nbb_cell_id) {\n",
       "                        if (nbb_cells[i].get_text() == nbb_unformatted_code) {\n",
       "                             nbb_cells[i].set_text(nbb_formatted_code);\n",
       "                        }\n",
       "                        break;\n",
       "                    }\n",
       "                }\n",
       "            }, 500);\n",
       "            "
      ],
      "text/plain": [
       "<IPython.core.display.Javascript object>"
      ]
     },
     "metadata": {},
     "output_type": "display_data"
    }
   ],
   "source": [
    "sns.barplot(x=\"MaturitySize\", y=\"AdoptionSpeed\", data=df)\n",
    "plt.show()"
   ]
  },
  {
   "cell_type": "markdown",
   "metadata": {},
   "source": [
    "Combine 4's into threes for a combined large and extra-large category.  Let's also one-hot encode this by hand.  If the animal is medium-sized, then is_medium = 1. If it's large, then is_large = 1. If both are zero, then the animal will be considered small."
   ]
  },
  {
   "cell_type": "code",
   "execution_count": 42,
   "metadata": {},
   "outputs": [
    {
     "data": {
      "application/javascript": [
       "\n",
       "            setTimeout(function() {\n",
       "                var nbb_cell_id = 42;\n",
       "                var nbb_unformatted_code = \"is_small = []\\nis_medium = []\\nis_large = []\\nmaturity_size = df[\\\"MaturitySize\\\"]\\n\\nfor size in maturity_size:\\n    if size == 4 or size == 3:\\n        is_small.append(0)\\n        is_large.append(1)\\n        is_medium.append(0)\\n    elif size == 2:\\n        is_small.append(0)\\n        is_medium.append(1)\\n        is_large.append(0)\\n    elif size == 1:\\n        is_small.append(1)\\n        is_medium.append(0)\\n        is_large.append(0)\\n    else:\\n        is_small.append(0)\\n        is_medium.append(0)\\n        is_large.append(0)\\n\\ndf[\\\"is_small_sized\\\"] = is_small\\ndf[\\\"is_medium_sized\\\"] = is_medium\\ndf[\\\"is_large_sized\\\"] = is_large\";\n",
       "                var nbb_formatted_code = \"is_small = []\\nis_medium = []\\nis_large = []\\nmaturity_size = df[\\\"MaturitySize\\\"]\\n\\nfor size in maturity_size:\\n    if size == 4 or size == 3:\\n        is_small.append(0)\\n        is_large.append(1)\\n        is_medium.append(0)\\n    elif size == 2:\\n        is_small.append(0)\\n        is_medium.append(1)\\n        is_large.append(0)\\n    elif size == 1:\\n        is_small.append(1)\\n        is_medium.append(0)\\n        is_large.append(0)\\n    else:\\n        is_small.append(0)\\n        is_medium.append(0)\\n        is_large.append(0)\\n\\ndf[\\\"is_small_sized\\\"] = is_small\\ndf[\\\"is_medium_sized\\\"] = is_medium\\ndf[\\\"is_large_sized\\\"] = is_large\";\n",
       "                var nbb_cells = Jupyter.notebook.get_cells();\n",
       "                for (var i = 0; i < nbb_cells.length; ++i) {\n",
       "                    if (nbb_cells[i].input_prompt_number == nbb_cell_id) {\n",
       "                        if (nbb_cells[i].get_text() == nbb_unformatted_code) {\n",
       "                             nbb_cells[i].set_text(nbb_formatted_code);\n",
       "                        }\n",
       "                        break;\n",
       "                    }\n",
       "                }\n",
       "            }, 500);\n",
       "            "
      ],
      "text/plain": [
       "<IPython.core.display.Javascript object>"
      ]
     },
     "metadata": {},
     "output_type": "display_data"
    }
   ],
   "source": [
    "is_small = []\n",
    "is_medium = []\n",
    "is_large = []\n",
    "maturity_size = df[\"MaturitySize\"]\n",
    "\n",
    "for size in maturity_size:\n",
    "    if size == 4 or size == 3:\n",
    "        is_small.append(0)\n",
    "        is_large.append(1)\n",
    "        is_medium.append(0)\n",
    "    elif size == 2:\n",
    "        is_small.append(0)\n",
    "        is_medium.append(1)\n",
    "        is_large.append(0)\n",
    "    elif size == 1:\n",
    "        is_small.append(1)\n",
    "        is_medium.append(0)\n",
    "        is_large.append(0)\n",
    "    else:\n",
    "        is_small.append(0)\n",
    "        is_medium.append(0)\n",
    "        is_large.append(0)\n",
    "\n",
    "df[\"is_small_sized\"] = is_small\n",
    "df[\"is_medium_sized\"] = is_medium\n",
    "df[\"is_large_sized\"] = is_large"
   ]
  },
  {
   "cell_type": "markdown",
   "metadata": {},
   "source": [
    "### FurLength"
   ]
  },
  {
   "cell_type": "code",
   "execution_count": 43,
   "metadata": {},
   "outputs": [
    {
     "data": {
      "text/plain": [
       "1    2948\n",
       "2    1636\n",
       "3     359\n",
       "Name: FurLength, dtype: int64"
      ]
     },
     "execution_count": 43,
     "metadata": {},
     "output_type": "execute_result"
    },
    {
     "data": {
      "application/javascript": [
       "\n",
       "            setTimeout(function() {\n",
       "                var nbb_cell_id = 43;\n",
       "                var nbb_unformatted_code = \"df[\\\"FurLength\\\"].value_counts()\";\n",
       "                var nbb_formatted_code = \"df[\\\"FurLength\\\"].value_counts()\";\n",
       "                var nbb_cells = Jupyter.notebook.get_cells();\n",
       "                for (var i = 0; i < nbb_cells.length; ++i) {\n",
       "                    if (nbb_cells[i].input_prompt_number == nbb_cell_id) {\n",
       "                        if (nbb_cells[i].get_text() == nbb_unformatted_code) {\n",
       "                             nbb_cells[i].set_text(nbb_formatted_code);\n",
       "                        }\n",
       "                        break;\n",
       "                    }\n",
       "                }\n",
       "            }, 500);\n",
       "            "
      ],
      "text/plain": [
       "<IPython.core.display.Javascript object>"
      ]
     },
     "metadata": {},
     "output_type": "display_data"
    }
   ],
   "source": [
    "df[\"FurLength\"].value_counts()"
   ]
  },
  {
   "cell_type": "code",
   "execution_count": 44,
   "metadata": {},
   "outputs": [
    {
     "data": {
      "application/javascript": [
       "\n",
       "            setTimeout(function() {\n",
       "                var nbb_cell_id = 44;\n",
       "                var nbb_unformatted_code = \"is_short_hair = []\\nis_medium_hair = []\\nis_long_hair = []\\nfur_lengths = df[\\\"FurLength\\\"]\\n\\nfor fur in fur_lengths:\\n    if fur == 1:\\n        is_short_hair.append(1)\\n        is_medium_hair.append(0)\\n        is_long_hair.append(0)\\n    if fur == 2:\\n        is_short_hair.append(0)\\n        is_medium_hair.append(1)\\n        is_long_hair.append(0)\\n    if fur == 3:\\n        is_short_hair.append(0)\\n        is_medium_hair.append(0)\\n        is_long_hair.append(1)\\n\\ndf[\\\"is_short_hair\\\"] = is_short_hair\\ndf[\\\"is_medium_hair\\\"] = is_medium_hair\\ndf[\\\"is_long_hair\\\"] = is_long_hair\";\n",
       "                var nbb_formatted_code = \"is_short_hair = []\\nis_medium_hair = []\\nis_long_hair = []\\nfur_lengths = df[\\\"FurLength\\\"]\\n\\nfor fur in fur_lengths:\\n    if fur == 1:\\n        is_short_hair.append(1)\\n        is_medium_hair.append(0)\\n        is_long_hair.append(0)\\n    if fur == 2:\\n        is_short_hair.append(0)\\n        is_medium_hair.append(1)\\n        is_long_hair.append(0)\\n    if fur == 3:\\n        is_short_hair.append(0)\\n        is_medium_hair.append(0)\\n        is_long_hair.append(1)\\n\\ndf[\\\"is_short_hair\\\"] = is_short_hair\\ndf[\\\"is_medium_hair\\\"] = is_medium_hair\\ndf[\\\"is_long_hair\\\"] = is_long_hair\";\n",
       "                var nbb_cells = Jupyter.notebook.get_cells();\n",
       "                for (var i = 0; i < nbb_cells.length; ++i) {\n",
       "                    if (nbb_cells[i].input_prompt_number == nbb_cell_id) {\n",
       "                        if (nbb_cells[i].get_text() == nbb_unformatted_code) {\n",
       "                             nbb_cells[i].set_text(nbb_formatted_code);\n",
       "                        }\n",
       "                        break;\n",
       "                    }\n",
       "                }\n",
       "            }, 500);\n",
       "            "
      ],
      "text/plain": [
       "<IPython.core.display.Javascript object>"
      ]
     },
     "metadata": {},
     "output_type": "display_data"
    }
   ],
   "source": [
    "is_short_hair = []\n",
    "is_medium_hair = []\n",
    "is_long_hair = []\n",
    "fur_lengths = df[\"FurLength\"]\n",
    "\n",
    "for fur in fur_lengths:\n",
    "    if fur == 1:\n",
    "        is_short_hair.append(1)\n",
    "        is_medium_hair.append(0)\n",
    "        is_long_hair.append(0)\n",
    "    if fur == 2:\n",
    "        is_short_hair.append(0)\n",
    "        is_medium_hair.append(1)\n",
    "        is_long_hair.append(0)\n",
    "    if fur == 3:\n",
    "        is_short_hair.append(0)\n",
    "        is_medium_hair.append(0)\n",
    "        is_long_hair.append(1)\n",
    "\n",
    "df[\"is_short_hair\"] = is_short_hair\n",
    "df[\"is_medium_hair\"] = is_medium_hair\n",
    "df[\"is_long_hair\"] = is_long_hair"
   ]
  },
  {
   "cell_type": "code",
   "execution_count": 45,
   "metadata": {},
   "outputs": [
    {
     "data": {
      "image/png": "[encoded data removed]",
      "text/plain": [
       "<Figure size 432x288 with 1 Axes>"
      ]
     },
     "metadata": {
      "needs_background": "light"
     },
     "output_type": "display_data"
    },
    {
     "data": {
      "application/javascript": [
       "\n",
       "            setTimeout(function() {\n",
       "                var nbb_cell_id = 45;\n",
       "                var nbb_unformatted_code = \"sns.barplot(x=\\\"FurLength\\\", y=\\\"AdoptionSpeed\\\", data=df)\\nplt.show()\";\n",
       "                var nbb_formatted_code = \"sns.barplot(x=\\\"FurLength\\\", y=\\\"AdoptionSpeed\\\", data=df)\\nplt.show()\";\n",
       "                var nbb_cells = Jupyter.notebook.get_cells();\n",
       "                for (var i = 0; i < nbb_cells.length; ++i) {\n",
       "                    if (nbb_cells[i].input_prompt_number == nbb_cell_id) {\n",
       "                        if (nbb_cells[i].get_text() == nbb_unformatted_code) {\n",
       "                             nbb_cells[i].set_text(nbb_formatted_code);\n",
       "                        }\n",
       "                        break;\n",
       "                    }\n",
       "                }\n",
       "            }, 500);\n",
       "            "
      ],
      "text/plain": [
       "<IPython.core.display.Javascript object>"
      ]
     },
     "metadata": {},
     "output_type": "display_data"
    }
   ],
   "source": [
    "sns.barplot(x=\"FurLength\", y=\"AdoptionSpeed\", data=df)\n",
    "plt.show()"
   ]
  },
  {
   "cell_type": "markdown",
   "metadata": {},
   "source": [
    "### Vaccinated "
   ]
  },
  {
   "cell_type": "code",
   "execution_count": 46,
   "metadata": {},
   "outputs": [
    {
     "data": {
      "text/plain": [
       "2    2824\n",
       "1    1611\n",
       "3     508\n",
       "Name: Vaccinated, dtype: int64"
      ]
     },
     "execution_count": 46,
     "metadata": {},
     "output_type": "execute_result"
    },
    {
     "data": {
      "application/javascript": [
       "\n",
       "            setTimeout(function() {\n",
       "                var nbb_cell_id = 46;\n",
       "                var nbb_unformatted_code = \"df[\\\"Vaccinated\\\"].value_counts()\";\n",
       "                var nbb_formatted_code = \"df[\\\"Vaccinated\\\"].value_counts()\";\n",
       "                var nbb_cells = Jupyter.notebook.get_cells();\n",
       "                for (var i = 0; i < nbb_cells.length; ++i) {\n",
       "                    if (nbb_cells[i].input_prompt_number == nbb_cell_id) {\n",
       "                        if (nbb_cells[i].get_text() == nbb_unformatted_code) {\n",
       "                             nbb_cells[i].set_text(nbb_formatted_code);\n",
       "                        }\n",
       "                        break;\n",
       "                    }\n",
       "                }\n",
       "            }, 500);\n",
       "            "
      ],
      "text/plain": [
       "<IPython.core.display.Javascript object>"
      ]
     },
     "metadata": {},
     "output_type": "display_data"
    }
   ],
   "source": [
    "df[\"Vaccinated\"].value_counts()"
   ]
  },
  {
   "cell_type": "code",
   "execution_count": 47,
   "metadata": {},
   "outputs": [
    {
     "data": {
      "image/png": "[encoded data removed]",
      "text/plain": [
       "<Figure size 432x288 with 1 Axes>"
      ]
     },
     "metadata": {
      "needs_background": "light"
     },
     "output_type": "display_data"
    },
    {
     "data": {
      "application/javascript": [
       "\n",
       "            setTimeout(function() {\n",
       "                var nbb_cell_id = 47;\n",
       "                var nbb_unformatted_code = \"sns.barplot(x=\\\"Vaccinated\\\", y=\\\"AdoptionSpeed\\\", data=df)\\nplt.show()\";\n",
       "                var nbb_formatted_code = \"sns.barplot(x=\\\"Vaccinated\\\", y=\\\"AdoptionSpeed\\\", data=df)\\nplt.show()\";\n",
       "                var nbb_cells = Jupyter.notebook.get_cells();\n",
       "                for (var i = 0; i < nbb_cells.length; ++i) {\n",
       "                    if (nbb_cells[i].input_prompt_number == nbb_cell_id) {\n",
       "                        if (nbb_cells[i].get_text() == nbb_unformatted_code) {\n",
       "                             nbb_cells[i].set_text(nbb_formatted_code);\n",
       "                        }\n",
       "                        break;\n",
       "                    }\n",
       "                }\n",
       "            }, 500);\n",
       "            "
      ],
      "text/plain": [
       "<IPython.core.display.Javascript object>"
      ]
     },
     "metadata": {},
     "output_type": "display_data"
    }
   ],
   "source": [
    "sns.barplot(x=\"Vaccinated\", y=\"AdoptionSpeed\", data=df)\n",
    "plt.show()"
   ]
  },
  {
   "cell_type": "markdown",
   "metadata": {},
   "source": [
    "Suspect this to be collinear with sterilized and dewormed.  "
   ]
  },
  {
   "cell_type": "markdown",
   "metadata": {},
   "source": [
    "### Dewormed"
   ]
  },
  {
   "cell_type": "code",
   "execution_count": 48,
   "metadata": {},
   "outputs": [
    {
     "data": {
      "text/plain": [
       "1    2799\n",
       "2    1683\n",
       "3     461\n",
       "Name: Dewormed, dtype: int64"
      ]
     },
     "execution_count": 48,
     "metadata": {},
     "output_type": "execute_result"
    },
    {
     "data": {
      "application/javascript": [
       "\n",
       "            setTimeout(function() {\n",
       "                var nbb_cell_id = 48;\n",
       "                var nbb_unformatted_code = \"df[\\\"Dewormed\\\"].value_counts()\";\n",
       "                var nbb_formatted_code = \"df[\\\"Dewormed\\\"].value_counts()\";\n",
       "                var nbb_cells = Jupyter.notebook.get_cells();\n",
       "                for (var i = 0; i < nbb_cells.length; ++i) {\n",
       "                    if (nbb_cells[i].input_prompt_number == nbb_cell_id) {\n",
       "                        if (nbb_cells[i].get_text() == nbb_unformatted_code) {\n",
       "                             nbb_cells[i].set_text(nbb_formatted_code);\n",
       "                        }\n",
       "                        break;\n",
       "                    }\n",
       "                }\n",
       "            }, 500);\n",
       "            "
      ],
      "text/plain": [
       "<IPython.core.display.Javascript object>"
      ]
     },
     "metadata": {},
     "output_type": "display_data"
    }
   ],
   "source": [
    "df[\"Dewormed\"].value_counts()"
   ]
  },
  {
   "cell_type": "code",
   "execution_count": 49,
   "metadata": {},
   "outputs": [
    {
     "data": {
      "image/png": "[encoded data removed]",
      "text/plain": [
       "<Figure size 432x288 with 1 Axes>"
      ]
     },
     "metadata": {
      "needs_background": "light"
     },
     "output_type": "display_data"
    },
    {
     "data": {
      "application/javascript": [
       "\n",
       "            setTimeout(function() {\n",
       "                var nbb_cell_id = 49;\n",
       "                var nbb_unformatted_code = \"sns.barplot(x=\\\"Dewormed\\\", y=\\\"AdoptionSpeed\\\", data=df)\\nplt.show()\";\n",
       "                var nbb_formatted_code = \"sns.barplot(x=\\\"Dewormed\\\", y=\\\"AdoptionSpeed\\\", data=df)\\nplt.show()\";\n",
       "                var nbb_cells = Jupyter.notebook.get_cells();\n",
       "                for (var i = 0; i < nbb_cells.length; ++i) {\n",
       "                    if (nbb_cells[i].input_prompt_number == nbb_cell_id) {\n",
       "                        if (nbb_cells[i].get_text() == nbb_unformatted_code) {\n",
       "                             nbb_cells[i].set_text(nbb_formatted_code);\n",
       "                        }\n",
       "                        break;\n",
       "                    }\n",
       "                }\n",
       "            }, 500);\n",
       "            "
      ],
      "text/plain": [
       "<IPython.core.display.Javascript object>"
      ]
     },
     "metadata": {},
     "output_type": "display_data"
    }
   ],
   "source": [
    "sns.barplot(x=\"Dewormed\", y=\"AdoptionSpeed\", data=df)\n",
    "plt.show()"
   ]
  },
  {
   "cell_type": "markdown",
   "metadata": {},
   "source": [
    "Suspect this to be collinear with sterilized and vaccinated.  "
   ]
  },
  {
   "cell_type": "markdown",
   "metadata": {},
   "source": [
    "### Sterilized"
   ]
  },
  {
   "cell_type": "code",
   "execution_count": 50,
   "metadata": {},
   "outputs": [
    {
     "data": {
      "text/plain": [
       "2    3405\n",
       "1    1037\n",
       "3     501\n",
       "Name: Sterilized, dtype: int64"
      ]
     },
     "execution_count": 50,
     "metadata": {},
     "output_type": "execute_result"
    },
    {
     "data": {
      "application/javascript": [
       "\n",
       "            setTimeout(function() {\n",
       "                var nbb_cell_id = 50;\n",
       "                var nbb_unformatted_code = \"df[\\\"Sterilized\\\"].value_counts()\";\n",
       "                var nbb_formatted_code = \"df[\\\"Sterilized\\\"].value_counts()\";\n",
       "                var nbb_cells = Jupyter.notebook.get_cells();\n",
       "                for (var i = 0; i < nbb_cells.length; ++i) {\n",
       "                    if (nbb_cells[i].input_prompt_number == nbb_cell_id) {\n",
       "                        if (nbb_cells[i].get_text() == nbb_unformatted_code) {\n",
       "                             nbb_cells[i].set_text(nbb_formatted_code);\n",
       "                        }\n",
       "                        break;\n",
       "                    }\n",
       "                }\n",
       "            }, 500);\n",
       "            "
      ],
      "text/plain": [
       "<IPython.core.display.Javascript object>"
      ]
     },
     "metadata": {},
     "output_type": "display_data"
    }
   ],
   "source": [
    "df[\"Sterilized\"].value_counts()"
   ]
  },
  {
   "cell_type": "code",
   "execution_count": 51,
   "metadata": {},
   "outputs": [
    {
     "data": {
      "image/png": "[encoded data removed]",
      "text/plain": [
       "<Figure size 432x288 with 1 Axes>"
      ]
     },
     "metadata": {
      "needs_background": "light"
     },
     "output_type": "display_data"
    },
    {
     "data": {
      "application/javascript": [
       "\n",
       "            setTimeout(function() {\n",
       "                var nbb_cell_id = 51;\n",
       "                var nbb_unformatted_code = \"sns.boxplot(x=\\\"Sterilized\\\", y=\\\"AdoptionSpeed\\\", data=df)\\nplt.show()\";\n",
       "                var nbb_formatted_code = \"sns.boxplot(x=\\\"Sterilized\\\", y=\\\"AdoptionSpeed\\\", data=df)\\nplt.show()\";\n",
       "                var nbb_cells = Jupyter.notebook.get_cells();\n",
       "                for (var i = 0; i < nbb_cells.length; ++i) {\n",
       "                    if (nbb_cells[i].input_prompt_number == nbb_cell_id) {\n",
       "                        if (nbb_cells[i].get_text() == nbb_unformatted_code) {\n",
       "                             nbb_cells[i].set_text(nbb_formatted_code);\n",
       "                        }\n",
       "                        break;\n",
       "                    }\n",
       "                }\n",
       "            }, 500);\n",
       "            "
      ],
      "text/plain": [
       "<IPython.core.display.Javascript object>"
      ]
     },
     "metadata": {},
     "output_type": "display_data"
    }
   ],
   "source": [
    "sns.boxplot(x=\"Sterilized\", y=\"AdoptionSpeed\", data=df)\n",
    "plt.show()"
   ]
  },
  {
   "cell_type": "code",
   "execution_count": 52,
   "metadata": {},
   "outputs": [
    {
     "name": "stderr",
     "output_type": "stream",
     "text": [
      "/opt/anaconda3/lib/python3.7/site-packages/scipy/stats/stats.py:5700: RuntimeWarning: divide by zero encountered in double_scalars\n",
      "  z = (bigu - meanrank) / sd\n"
     ]
    },
    {
     "data": {
      "text/plain": [
       "0.0"
      ]
     },
     "execution_count": 52,
     "metadata": {},
     "output_type": "execute_result"
    },
    {
     "data": {
      "application/javascript": [
       "\n",
       "            setTimeout(function() {\n",
       "                var nbb_cell_id = 52;\n",
       "                var nbb_unformatted_code = \"ster_df = df[df[\\\"Sterilized\\\"] == 0]\\nnotster_df = df[df[\\\"Sterilized\\\"] == 1]\\nster_adoptionspeeds = np.array(ster_df[\\\"AdoptionSpeed\\\"])\\nnotster_adoptionspeeds = np.array(notster_df[\\\"AdoptionSpeed\\\"])\\n\\n_, p = mannwhitneyu(ster_adoptionspeeds, notster_adoptionspeeds)\\np\";\n",
       "                var nbb_formatted_code = \"ster_df = df[df[\\\"Sterilized\\\"] == 0]\\nnotster_df = df[df[\\\"Sterilized\\\"] == 1]\\nster_adoptionspeeds = np.array(ster_df[\\\"AdoptionSpeed\\\"])\\nnotster_adoptionspeeds = np.array(notster_df[\\\"AdoptionSpeed\\\"])\\n\\n_, p = mannwhitneyu(ster_adoptionspeeds, notster_adoptionspeeds)\\np\";\n",
       "                var nbb_cells = Jupyter.notebook.get_cells();\n",
       "                for (var i = 0; i < nbb_cells.length; ++i) {\n",
       "                    if (nbb_cells[i].input_prompt_number == nbb_cell_id) {\n",
       "                        if (nbb_cells[i].get_text() == nbb_unformatted_code) {\n",
       "                             nbb_cells[i].set_text(nbb_formatted_code);\n",
       "                        }\n",
       "                        break;\n",
       "                    }\n",
       "                }\n",
       "            }, 500);\n",
       "            "
      ],
      "text/plain": [
       "<IPython.core.display.Javascript object>"
      ]
     },
     "metadata": {},
     "output_type": "display_data"
    }
   ],
   "source": [
    "ster_df = df[df[\"Sterilized\"] == 0]\n",
    "notster_df = df[df[\"Sterilized\"] == 1]\n",
    "ster_adoptionspeeds = np.array(ster_df[\"AdoptionSpeed\"])\n",
    "notster_adoptionspeeds = np.array(notster_df[\"AdoptionSpeed\"])\n",
    "\n",
    "_, p = mannwhitneyu(ster_adoptionspeeds, notster_adoptionspeeds)\n",
    "p"
   ]
  },
  {
   "cell_type": "markdown",
   "metadata": {},
   "source": [
    "Interesting that more are not sterilized than are, but the adoption speed is less for non-sterilized animals, though I'm guessing this a function of age.\n",
    "\n",
    "#TODO: tease out the relationship between age and sterilized, vaccinated, and dewormed.\n",
    "\n",
    "Also, the sterilized, vaccinated, and dewormed categories look collinear.  I'm guessing a dog or cat that has been sterilized must have already been dewormed and vaccinated."
   ]
  },
  {
   "cell_type": "code",
   "execution_count": 53,
   "metadata": {},
   "outputs": [
    {
     "data": {
      "application/javascript": [
       "\n",
       "            setTimeout(function() {\n",
       "                var nbb_cell_id = 53;\n",
       "                var nbb_unformatted_code = \"is_ster = []\\nis_not_ster = []\\nis_maybe_ster = []\\nsters = df[\\\"Sterilized\\\"]\\n\\nfor ster in sters:\\n    if ster == 1:\\n        is_ster.append(1)\\n        is_not_ster.append(0)\\n        is_maybe_ster.append(0)\\n    elif ster == 2:\\n        is_ster.append(0)\\n        is_not_ster.append(1)\\n        is_maybe_ster.append(0)\\n    elif ster == 3:\\n        is_ster.append(0)\\n        is_not_ster.append(0)\\n        is_maybe_ster.append(1)\\n    else:\\n        is_ster.append(0)\\n        is_not_ster.append(0)\\n        is_maybe_ster.append(0)\\n\\ndf[\\\"is_ster\\\"] = is_ster\\ndf[\\\"is_not_ster\\\"] = is_not_ster\\ndf[\\\"is_maybe_ster\\\"] = is_maybe_ster\";\n",
       "                var nbb_formatted_code = \"is_ster = []\\nis_not_ster = []\\nis_maybe_ster = []\\nsters = df[\\\"Sterilized\\\"]\\n\\nfor ster in sters:\\n    if ster == 1:\\n        is_ster.append(1)\\n        is_not_ster.append(0)\\n        is_maybe_ster.append(0)\\n    elif ster == 2:\\n        is_ster.append(0)\\n        is_not_ster.append(1)\\n        is_maybe_ster.append(0)\\n    elif ster == 3:\\n        is_ster.append(0)\\n        is_not_ster.append(0)\\n        is_maybe_ster.append(1)\\n    else:\\n        is_ster.append(0)\\n        is_not_ster.append(0)\\n        is_maybe_ster.append(0)\\n\\ndf[\\\"is_ster\\\"] = is_ster\\ndf[\\\"is_not_ster\\\"] = is_not_ster\\ndf[\\\"is_maybe_ster\\\"] = is_maybe_ster\";\n",
       "                var nbb_cells = Jupyter.notebook.get_cells();\n",
       "                for (var i = 0; i < nbb_cells.length; ++i) {\n",
       "                    if (nbb_cells[i].input_prompt_number == nbb_cell_id) {\n",
       "                        if (nbb_cells[i].get_text() == nbb_unformatted_code) {\n",
       "                             nbb_cells[i].set_text(nbb_formatted_code);\n",
       "                        }\n",
       "                        break;\n",
       "                    }\n",
       "                }\n",
       "            }, 500);\n",
       "            "
      ],
      "text/plain": [
       "<IPython.core.display.Javascript object>"
      ]
     },
     "metadata": {},
     "output_type": "display_data"
    }
   ],
   "source": [
    "is_ster = []\n",
    "is_not_ster = []\n",
    "is_maybe_ster = []\n",
    "sters = df[\"Sterilized\"]\n",
    "\n",
    "for ster in sters:\n",
    "    if ster == 1:\n",
    "        is_ster.append(1)\n",
    "        is_not_ster.append(0)\n",
    "        is_maybe_ster.append(0)\n",
    "    elif ster == 2:\n",
    "        is_ster.append(0)\n",
    "        is_not_ster.append(1)\n",
    "        is_maybe_ster.append(0)\n",
    "    elif ster == 3:\n",
    "        is_ster.append(0)\n",
    "        is_not_ster.append(0)\n",
    "        is_maybe_ster.append(1)\n",
    "    else:\n",
    "        is_ster.append(0)\n",
    "        is_not_ster.append(0)\n",
    "        is_maybe_ster.append(0)\n",
    "\n",
    "df[\"is_ster\"] = is_ster\n",
    "df[\"is_not_ster\"] = is_not_ster\n",
    "df[\"is_maybe_ster\"] = is_maybe_ster"
   ]
  },
  {
   "cell_type": "markdown",
   "metadata": {},
   "source": [
    "### Health"
   ]
  },
  {
   "cell_type": "code",
   "execution_count": 54,
   "metadata": {},
   "outputs": [
    {
     "data": {
      "text/plain": [
       "1    4758\n",
       "2     172\n",
       "3      13\n",
       "Name: Health, dtype: int64"
      ]
     },
     "execution_count": 54,
     "metadata": {},
     "output_type": "execute_result"
    },
    {
     "data": {
      "application/javascript": [
       "\n",
       "            setTimeout(function() {\n",
       "                var nbb_cell_id = 54;\n",
       "                var nbb_unformatted_code = \"df[\\\"Health\\\"].value_counts()\";\n",
       "                var nbb_formatted_code = \"df[\\\"Health\\\"].value_counts()\";\n",
       "                var nbb_cells = Jupyter.notebook.get_cells();\n",
       "                for (var i = 0; i < nbb_cells.length; ++i) {\n",
       "                    if (nbb_cells[i].input_prompt_number == nbb_cell_id) {\n",
       "                        if (nbb_cells[i].get_text() == nbb_unformatted_code) {\n",
       "                             nbb_cells[i].set_text(nbb_formatted_code);\n",
       "                        }\n",
       "                        break;\n",
       "                    }\n",
       "                }\n",
       "            }, 500);\n",
       "            "
      ],
      "text/plain": [
       "<IPython.core.display.Javascript object>"
      ]
     },
     "metadata": {},
     "output_type": "display_data"
    }
   ],
   "source": [
    "df[\"Health\"].value_counts()"
   ]
  },
  {
   "cell_type": "code",
   "execution_count": 55,
   "metadata": {},
   "outputs": [
    {
     "data": {
      "image/png": "[encoded data removed]",
      "text/plain": [
       "<Figure size 432x288 with 1 Axes>"
      ]
     },
     "metadata": {
      "needs_background": "light"
     },
     "output_type": "display_data"
    },
    {
     "data": {
      "application/javascript": [
       "\n",
       "            setTimeout(function() {\n",
       "                var nbb_cell_id = 55;\n",
       "                var nbb_unformatted_code = \"sns.barplot(x=\\\"Health\\\", y=\\\"AdoptionSpeed\\\", data=df)\\nplt.show()\";\n",
       "                var nbb_formatted_code = \"sns.barplot(x=\\\"Health\\\", y=\\\"AdoptionSpeed\\\", data=df)\\nplt.show()\";\n",
       "                var nbb_cells = Jupyter.notebook.get_cells();\n",
       "                for (var i = 0; i < nbb_cells.length; ++i) {\n",
       "                    if (nbb_cells[i].input_prompt_number == nbb_cell_id) {\n",
       "                        if (nbb_cells[i].get_text() == nbb_unformatted_code) {\n",
       "                             nbb_cells[i].set_text(nbb_formatted_code);\n",
       "                        }\n",
       "                        break;\n",
       "                    }\n",
       "                }\n",
       "            }, 500);\n",
       "            "
      ],
      "text/plain": [
       "<IPython.core.display.Javascript object>"
      ]
     },
     "metadata": {},
     "output_type": "display_data"
    }
   ],
   "source": [
    "sns.barplot(x=\"Health\", y=\"AdoptionSpeed\", data=df)\n",
    "plt.show()"
   ]
  },
  {
   "cell_type": "markdown",
   "metadata": {},
   "source": [
    "Combining 2s and 3s into an \"is_injured\" category."
   ]
  },
  {
   "cell_type": "code",
   "execution_count": 56,
   "metadata": {},
   "outputs": [
    {
     "data": {
      "application/javascript": [
       "\n",
       "            setTimeout(function() {\n",
       "                var nbb_cell_id = 56;\n",
       "                var nbb_unformatted_code = \"is_injured = []\\n\\nhealths = np.array(df[\\\"Health\\\"])\\n\\nfor health in healths:\\n    if health >= 2:\\n        is_injured.append(1)\\n    else:\\n        is_injured.append(0)\\n\\nis_injured = np.array(is_injured)\\ndf[\\\"is_injured\\\"] = is_injured\\ndf[\\\"is_healthy\\\"] = 1 - is_injured\";\n",
       "                var nbb_formatted_code = \"is_injured = []\\n\\nhealths = np.array(df[\\\"Health\\\"])\\n\\nfor health in healths:\\n    if health >= 2:\\n        is_injured.append(1)\\n    else:\\n        is_injured.append(0)\\n\\nis_injured = np.array(is_injured)\\ndf[\\\"is_injured\\\"] = is_injured\\ndf[\\\"is_healthy\\\"] = 1 - is_injured\";\n",
       "                var nbb_cells = Jupyter.notebook.get_cells();\n",
       "                for (var i = 0; i < nbb_cells.length; ++i) {\n",
       "                    if (nbb_cells[i].input_prompt_number == nbb_cell_id) {\n",
       "                        if (nbb_cells[i].get_text() == nbb_unformatted_code) {\n",
       "                             nbb_cells[i].set_text(nbb_formatted_code);\n",
       "                        }\n",
       "                        break;\n",
       "                    }\n",
       "                }\n",
       "            }, 500);\n",
       "            "
      ],
      "text/plain": [
       "<IPython.core.display.Javascript object>"
      ]
     },
     "metadata": {},
     "output_type": "display_data"
    }
   ],
   "source": [
    "is_injured = []\n",
    "\n",
    "healths = np.array(df[\"Health\"])\n",
    "\n",
    "for health in healths:\n",
    "    if health >= 2:\n",
    "        is_injured.append(1)\n",
    "    else:\n",
    "        is_injured.append(0)\n",
    "\n",
    "is_injured = np.array(is_injured)\n",
    "df[\"is_injured\"] = is_injured\n",
    "df[\"is_healthy\"] = 1 - is_injured"
   ]
  },
  {
   "cell_type": "code",
   "execution_count": 57,
   "metadata": {},
   "outputs": [
    {
     "data": {
      "text/plain": [
       "0    4758\n",
       "1     185\n",
       "Name: is_injured, dtype: int64"
      ]
     },
     "execution_count": 57,
     "metadata": {},
     "output_type": "execute_result"
    },
    {
     "data": {
      "application/javascript": [
       "\n",
       "            setTimeout(function() {\n",
       "                var nbb_cell_id = 57;\n",
       "                var nbb_unformatted_code = \"df[\\\"is_injured\\\"].value_counts()\";\n",
       "                var nbb_formatted_code = \"df[\\\"is_injured\\\"].value_counts()\";\n",
       "                var nbb_cells = Jupyter.notebook.get_cells();\n",
       "                for (var i = 0; i < nbb_cells.length; ++i) {\n",
       "                    if (nbb_cells[i].input_prompt_number == nbb_cell_id) {\n",
       "                        if (nbb_cells[i].get_text() == nbb_unformatted_code) {\n",
       "                             nbb_cells[i].set_text(nbb_formatted_code);\n",
       "                        }\n",
       "                        break;\n",
       "                    }\n",
       "                }\n",
       "            }, 500);\n",
       "            "
      ],
      "text/plain": [
       "<IPython.core.display.Javascript object>"
      ]
     },
     "metadata": {},
     "output_type": "display_data"
    }
   ],
   "source": [
    "df[\"is_injured\"].value_counts()"
   ]
  },
  {
   "cell_type": "code",
   "execution_count": 58,
   "metadata": {},
   "outputs": [
    {
     "data": {
      "image/png": "[encoded data removed]",
      "text/plain": [
       "<Figure size 432x288 with 1 Axes>"
      ]
     },
     "metadata": {
      "needs_background": "light"
     },
     "output_type": "display_data"
    },
    {
     "data": {
      "application/javascript": [
       "\n",
       "            setTimeout(function() {\n",
       "                var nbb_cell_id = 58;\n",
       "                var nbb_unformatted_code = \"sns.barplot(x=\\\"is_injured\\\", y=\\\"AdoptionSpeed\\\", data=df)\\nplt.show()\";\n",
       "                var nbb_formatted_code = \"sns.barplot(x=\\\"is_injured\\\", y=\\\"AdoptionSpeed\\\", data=df)\\nplt.show()\";\n",
       "                var nbb_cells = Jupyter.notebook.get_cells();\n",
       "                for (var i = 0; i < nbb_cells.length; ++i) {\n",
       "                    if (nbb_cells[i].input_prompt_number == nbb_cell_id) {\n",
       "                        if (nbb_cells[i].get_text() == nbb_unformatted_code) {\n",
       "                             nbb_cells[i].set_text(nbb_formatted_code);\n",
       "                        }\n",
       "                        break;\n",
       "                    }\n",
       "                }\n",
       "            }, 500);\n",
       "            "
      ],
      "text/plain": [
       "<IPython.core.display.Javascript object>"
      ]
     },
     "metadata": {},
     "output_type": "display_data"
    }
   ],
   "source": [
    "sns.barplot(x=\"is_injured\", y=\"AdoptionSpeed\", data=df)\n",
    "plt.show()"
   ]
  },
  {
   "cell_type": "markdown",
   "metadata": {},
   "source": [
    "### Quantity"
   ]
  },
  {
   "cell_type": "code",
   "execution_count": 59,
   "metadata": {},
   "outputs": [
    {
     "data": {
      "text/plain": [
       "1    4943\n",
       "Name: Quantity, dtype: int64"
      ]
     },
     "execution_count": 59,
     "metadata": {},
     "output_type": "execute_result"
    },
    {
     "data": {
      "application/javascript": [
       "\n",
       "            setTimeout(function() {\n",
       "                var nbb_cell_id = 59;\n",
       "                var nbb_unformatted_code = \"df[\\\"Quantity\\\"].value_counts()\";\n",
       "                var nbb_formatted_code = \"df[\\\"Quantity\\\"].value_counts()\";\n",
       "                var nbb_cells = Jupyter.notebook.get_cells();\n",
       "                for (var i = 0; i < nbb_cells.length; ++i) {\n",
       "                    if (nbb_cells[i].input_prompt_number == nbb_cell_id) {\n",
       "                        if (nbb_cells[i].get_text() == nbb_unformatted_code) {\n",
       "                             nbb_cells[i].set_text(nbb_formatted_code);\n",
       "                        }\n",
       "                        break;\n",
       "                    }\n",
       "                }\n",
       "            }, 500);\n",
       "            "
      ],
      "text/plain": [
       "<IPython.core.display.Javascript object>"
      ]
     },
     "metadata": {},
     "output_type": "display_data"
    }
   ],
   "source": [
    "df[\"Quantity\"].value_counts()"
   ]
  },
  {
   "cell_type": "markdown",
   "metadata": {},
   "source": [
    "I'll be restricting my clustering analysis to only individual animals.  See below."
   ]
  },
  {
   "cell_type": "markdown",
   "metadata": {},
   "source": [
    "### Fee"
   ]
  },
  {
   "cell_type": "code",
   "execution_count": 60,
   "metadata": {},
   "outputs": [
    {
     "data": {
      "text/plain": [
       "0      4017\n",
       "50      241\n",
       "100     193\n",
       "150      67\n",
       "30       65\n",
       "200      49\n",
       "10       37\n",
       "20       33\n",
       "250      30\n",
       "1        25\n",
       "Name: Fee, dtype: int64"
      ]
     },
     "execution_count": 60,
     "metadata": {},
     "output_type": "execute_result"
    },
    {
     "data": {
      "application/javascript": [
       "\n",
       "            setTimeout(function() {\n",
       "                var nbb_cell_id = 60;\n",
       "                var nbb_unformatted_code = \"df[\\\"Fee\\\"].value_counts().head(10)\";\n",
       "                var nbb_formatted_code = \"df[\\\"Fee\\\"].value_counts().head(10)\";\n",
       "                var nbb_cells = Jupyter.notebook.get_cells();\n",
       "                for (var i = 0; i < nbb_cells.length; ++i) {\n",
       "                    if (nbb_cells[i].input_prompt_number == nbb_cell_id) {\n",
       "                        if (nbb_cells[i].get_text() == nbb_unformatted_code) {\n",
       "                             nbb_cells[i].set_text(nbb_formatted_code);\n",
       "                        }\n",
       "                        break;\n",
       "                    }\n",
       "                }\n",
       "            }, 500);\n",
       "            "
      ],
      "text/plain": [
       "<IPython.core.display.Javascript object>"
      ]
     },
     "metadata": {},
     "output_type": "display_data"
    }
   ],
   "source": [
    "df[\"Fee\"].value_counts().head(10)"
   ]
  },
  {
   "cell_type": "code",
   "execution_count": 61,
   "metadata": {},
   "outputs": [
    {
     "data": {
      "image/png": "[encoded data removed]",
      "text/plain": [
       "<Figure size 432x288 with 1 Axes>"
      ]
     },
     "metadata": {
      "needs_background": "light"
     },
     "output_type": "display_data"
    },
    {
     "data": {
      "application/javascript": [
       "\n",
       "            setTimeout(function() {\n",
       "                var nbb_cell_id = 61;\n",
       "                var nbb_unformatted_code = \"df[\\\"Fee\\\"].hist()\\nplt.show()\";\n",
       "                var nbb_formatted_code = \"df[\\\"Fee\\\"].hist()\\nplt.show()\";\n",
       "                var nbb_cells = Jupyter.notebook.get_cells();\n",
       "                for (var i = 0; i < nbb_cells.length; ++i) {\n",
       "                    if (nbb_cells[i].input_prompt_number == nbb_cell_id) {\n",
       "                        if (nbb_cells[i].get_text() == nbb_unformatted_code) {\n",
       "                             nbb_cells[i].set_text(nbb_formatted_code);\n",
       "                        }\n",
       "                        break;\n",
       "                    }\n",
       "                }\n",
       "            }, 500);\n",
       "            "
      ],
      "text/plain": [
       "<IPython.core.display.Javascript object>"
      ]
     },
     "metadata": {},
     "output_type": "display_data"
    }
   ],
   "source": [
    "df[\"Fee\"].hist()\n",
    "plt.show()"
   ]
  },
  {
   "cell_type": "markdown",
   "metadata": {},
   "source": [
    "Another very right-skewed distribution...Let's just collapse this down to free and not free."
   ]
  },
  {
   "cell_type": "code",
   "execution_count": 62,
   "metadata": {},
   "outputs": [
    {
     "data": {
      "text/plain": [
       "1    4017\n",
       "0     926\n",
       "Name: is_free, dtype: int64"
      ]
     },
     "execution_count": 62,
     "metadata": {},
     "output_type": "execute_result"
    },
    {
     "data": {
      "application/javascript": [
       "\n",
       "            setTimeout(function() {\n",
       "                var nbb_cell_id = 62;\n",
       "                var nbb_unformatted_code = \"is_free = []\\nfees = df[\\\"Fee\\\"]\\n\\nfor fee in fees:\\n    if fee == 0:\\n        is_free.append(1)\\n    else:\\n        is_free.append(0)\\n\\nis_free = np.array(is_free)\\ndf[\\\"is_free\\\"] = is_free\\ndf[\\\"is_not_free\\\"] = 1 - is_free\\ndf[\\\"is_free\\\"].value_counts()\";\n",
       "                var nbb_formatted_code = \"is_free = []\\nfees = df[\\\"Fee\\\"]\\n\\nfor fee in fees:\\n    if fee == 0:\\n        is_free.append(1)\\n    else:\\n        is_free.append(0)\\n\\nis_free = np.array(is_free)\\ndf[\\\"is_free\\\"] = is_free\\ndf[\\\"is_not_free\\\"] = 1 - is_free\\ndf[\\\"is_free\\\"].value_counts()\";\n",
       "                var nbb_cells = Jupyter.notebook.get_cells();\n",
       "                for (var i = 0; i < nbb_cells.length; ++i) {\n",
       "                    if (nbb_cells[i].input_prompt_number == nbb_cell_id) {\n",
       "                        if (nbb_cells[i].get_text() == nbb_unformatted_code) {\n",
       "                             nbb_cells[i].set_text(nbb_formatted_code);\n",
       "                        }\n",
       "                        break;\n",
       "                    }\n",
       "                }\n",
       "            }, 500);\n",
       "            "
      ],
      "text/plain": [
       "<IPython.core.display.Javascript object>"
      ]
     },
     "metadata": {},
     "output_type": "display_data"
    }
   ],
   "source": [
    "is_free = []\n",
    "fees = df[\"Fee\"]\n",
    "\n",
    "for fee in fees:\n",
    "    if fee == 0:\n",
    "        is_free.append(1)\n",
    "    else:\n",
    "        is_free.append(0)\n",
    "\n",
    "is_free = np.array(is_free)\n",
    "df[\"is_free\"] = is_free\n",
    "df[\"is_not_free\"] = 1 - is_free\n",
    "df[\"is_free\"].value_counts()"
   ]
  },
  {
   "cell_type": "code",
   "execution_count": 63,
   "metadata": {},
   "outputs": [
    {
     "data": {
      "image/png": "[encoded data removed]",
      "text/plain": [
       "<Figure size 432x288 with 1 Axes>"
      ]
     },
     "metadata": {
      "needs_background": "light"
     },
     "output_type": "display_data"
    },
    {
     "data": {
      "application/javascript": [
       "\n",
       "            setTimeout(function() {\n",
       "                var nbb_cell_id = 63;\n",
       "                var nbb_unformatted_code = \"sns.barplot(x=\\\"is_free\\\", y=\\\"AdoptionSpeed\\\", data=df)\\nplt.show()\";\n",
       "                var nbb_formatted_code = \"sns.barplot(x=\\\"is_free\\\", y=\\\"AdoptionSpeed\\\", data=df)\\nplt.show()\";\n",
       "                var nbb_cells = Jupyter.notebook.get_cells();\n",
       "                for (var i = 0; i < nbb_cells.length; ++i) {\n",
       "                    if (nbb_cells[i].input_prompt_number == nbb_cell_id) {\n",
       "                        if (nbb_cells[i].get_text() == nbb_unformatted_code) {\n",
       "                             nbb_cells[i].set_text(nbb_formatted_code);\n",
       "                        }\n",
       "                        break;\n",
       "                    }\n",
       "                }\n",
       "            }, 500);\n",
       "            "
      ],
      "text/plain": [
       "<IPython.core.display.Javascript object>"
      ]
     },
     "metadata": {},
     "output_type": "display_data"
    }
   ],
   "source": [
    "sns.barplot(x=\"is_free\", y=\"AdoptionSpeed\", data=df)\n",
    "plt.show()"
   ]
  },
  {
   "cell_type": "markdown",
   "metadata": {},
   "source": [
    "### State"
   ]
  },
  {
   "cell_type": "code",
   "execution_count": 64,
   "metadata": {},
   "outputs": [
    {
     "data": {
      "text/html": [
       "<div>\n",
       "<style scoped>\n",
       "    .dataframe tbody tr th:only-of-type {\n",
       "        vertical-align: middle;\n",
       "    }\n",
       "\n",
       "    .dataframe tbody tr th {\n",
       "        vertical-align: top;\n",
       "    }\n",
       "\n",
       "    .dataframe thead th {\n",
       "        text-align: right;\n",
       "    }\n",
       "</style>\n",
       "<table border=\"1\" class=\"dataframe\">\n",
       "  <thead>\n",
       "    <tr style=\"text-align: right;\">\n",
       "      <th></th>\n",
       "      <th>StateID</th>\n",
       "      <th>StateName</th>\n",
       "    </tr>\n",
       "  </thead>\n",
       "  <tbody>\n",
       "    <tr>\n",
       "      <th>0</th>\n",
       "      <td>41336</td>\n",
       "      <td>Johor</td>\n",
       "    </tr>\n",
       "    <tr>\n",
       "      <th>1</th>\n",
       "      <td>41325</td>\n",
       "      <td>Kedah</td>\n",
       "    </tr>\n",
       "    <tr>\n",
       "      <th>2</th>\n",
       "      <td>41367</td>\n",
       "      <td>Kelantan</td>\n",
       "    </tr>\n",
       "    <tr>\n",
       "      <th>3</th>\n",
       "      <td>41401</td>\n",
       "      <td>Kuala Lumpur</td>\n",
       "    </tr>\n",
       "    <tr>\n",
       "      <th>4</th>\n",
       "      <td>41415</td>\n",
       "      <td>Labuan</td>\n",
       "    </tr>\n",
       "    <tr>\n",
       "      <th>5</th>\n",
       "      <td>41324</td>\n",
       "      <td>Melaka</td>\n",
       "    </tr>\n",
       "    <tr>\n",
       "      <th>6</th>\n",
       "      <td>41332</td>\n",
       "      <td>Negeri Sembilan</td>\n",
       "    </tr>\n",
       "    <tr>\n",
       "      <th>7</th>\n",
       "      <td>41335</td>\n",
       "      <td>Pahang</td>\n",
       "    </tr>\n",
       "    <tr>\n",
       "      <th>8</th>\n",
       "      <td>41330</td>\n",
       "      <td>Perak</td>\n",
       "    </tr>\n",
       "    <tr>\n",
       "      <th>9</th>\n",
       "      <td>41380</td>\n",
       "      <td>Perlis</td>\n",
       "    </tr>\n",
       "    <tr>\n",
       "      <th>10</th>\n",
       "      <td>41327</td>\n",
       "      <td>Pulau Pinang</td>\n",
       "    </tr>\n",
       "    <tr>\n",
       "      <th>11</th>\n",
       "      <td>41345</td>\n",
       "      <td>Sabah</td>\n",
       "    </tr>\n",
       "    <tr>\n",
       "      <th>12</th>\n",
       "      <td>41342</td>\n",
       "      <td>Sarawak</td>\n",
       "    </tr>\n",
       "    <tr>\n",
       "      <th>13</th>\n",
       "      <td>41326</td>\n",
       "      <td>Selangor</td>\n",
       "    </tr>\n",
       "    <tr>\n",
       "      <th>14</th>\n",
       "      <td>41361</td>\n",
       "      <td>Terengganu</td>\n",
       "    </tr>\n",
       "  </tbody>\n",
       "</table>\n",
       "</div>"
      ],
      "text/plain": [
       "    StateID        StateName\n",
       "0     41336            Johor\n",
       "1     41325            Kedah\n",
       "2     41367         Kelantan\n",
       "3     41401     Kuala Lumpur\n",
       "4     41415           Labuan\n",
       "5     41324           Melaka\n",
       "6     41332  Negeri Sembilan\n",
       "7     41335           Pahang\n",
       "8     41330            Perak\n",
       "9     41380           Perlis\n",
       "10    41327     Pulau Pinang\n",
       "11    41345            Sabah\n",
       "12    41342          Sarawak\n",
       "13    41326         Selangor\n",
       "14    41361       Terengganu"
      ]
     },
     "execution_count": 64,
     "metadata": {},
     "output_type": "execute_result"
    },
    {
     "data": {
      "application/javascript": [
       "\n",
       "            setTimeout(function() {\n",
       "                var nbb_cell_id = 64;\n",
       "                var nbb_unformatted_code = \"state_labels_df\";\n",
       "                var nbb_formatted_code = \"state_labels_df\";\n",
       "                var nbb_cells = Jupyter.notebook.get_cells();\n",
       "                for (var i = 0; i < nbb_cells.length; ++i) {\n",
       "                    if (nbb_cells[i].input_prompt_number == nbb_cell_id) {\n",
       "                        if (nbb_cells[i].get_text() == nbb_unformatted_code) {\n",
       "                             nbb_cells[i].set_text(nbb_formatted_code);\n",
       "                        }\n",
       "                        break;\n",
       "                    }\n",
       "                }\n",
       "            }, 500);\n",
       "            "
      ],
      "text/plain": [
       "<IPython.core.display.Javascript object>"
      ]
     },
     "metadata": {},
     "output_type": "display_data"
    }
   ],
   "source": [
    "state_labels_df"
   ]
  },
  {
   "cell_type": "code",
   "execution_count": 65,
   "metadata": {},
   "outputs": [
    {
     "data": {
      "text/plain": [
       "41326    2790\n",
       "41401    1562\n",
       "41327     163\n",
       "41336     144\n",
       "41332      71\n",
       "41330      59\n",
       "41324      39\n",
       "41325      37\n",
       "41335      31\n",
       "41361      20\n",
       "41345      12\n",
       "41342       8\n",
       "41367       7\n",
       "Name: State, dtype: int64"
      ]
     },
     "execution_count": 65,
     "metadata": {},
     "output_type": "execute_result"
    },
    {
     "data": {
      "application/javascript": [
       "\n",
       "            setTimeout(function() {\n",
       "                var nbb_cell_id = 65;\n",
       "                var nbb_unformatted_code = \"df[\\\"State\\\"].value_counts()\";\n",
       "                var nbb_formatted_code = \"df[\\\"State\\\"].value_counts()\";\n",
       "                var nbb_cells = Jupyter.notebook.get_cells();\n",
       "                for (var i = 0; i < nbb_cells.length; ++i) {\n",
       "                    if (nbb_cells[i].input_prompt_number == nbb_cell_id) {\n",
       "                        if (nbb_cells[i].get_text() == nbb_unformatted_code) {\n",
       "                             nbb_cells[i].set_text(nbb_formatted_code);\n",
       "                        }\n",
       "                        break;\n",
       "                    }\n",
       "                }\n",
       "            }, 500);\n",
       "            "
      ],
      "text/plain": [
       "<IPython.core.display.Javascript object>"
      ]
     },
     "metadata": {},
     "output_type": "display_data"
    }
   ],
   "source": [
    "df[\"State\"].value_counts()"
   ]
  },
  {
   "cell_type": "code",
   "execution_count": 66,
   "metadata": {},
   "outputs": [
    {
     "data": {
      "text/plain": [
       "1    2790\n",
       "0    2153\n",
       "Name: is_selangor, dtype: int64"
      ]
     },
     "execution_count": 66,
     "metadata": {},
     "output_type": "execute_result"
    },
    {
     "data": {
      "application/javascript": [
       "\n",
       "            setTimeout(function() {\n",
       "                var nbb_cell_id = 66;\n",
       "                var nbb_unformatted_code = \"is_selangor = []\\nstates = df[\\\"State\\\"]\\n\\nfor state in states:\\n    if state == 41326:\\n        is_selangor.append(1)\\n    else:\\n        is_selangor.append(0)\\n\\nis_selangor = np.array(is_selangor)\\ndf[\\\"is_selangor\\\"] = is_selangor\\ndf[\\\"is_not_selangor\\\"] = 1 - is_selangor\\ndf[\\\"is_selangor\\\"].value_counts()\";\n",
       "                var nbb_formatted_code = \"is_selangor = []\\nstates = df[\\\"State\\\"]\\n\\nfor state in states:\\n    if state == 41326:\\n        is_selangor.append(1)\\n    else:\\n        is_selangor.append(0)\\n\\nis_selangor = np.array(is_selangor)\\ndf[\\\"is_selangor\\\"] = is_selangor\\ndf[\\\"is_not_selangor\\\"] = 1 - is_selangor\\ndf[\\\"is_selangor\\\"].value_counts()\";\n",
       "                var nbb_cells = Jupyter.notebook.get_cells();\n",
       "                for (var i = 0; i < nbb_cells.length; ++i) {\n",
       "                    if (nbb_cells[i].input_prompt_number == nbb_cell_id) {\n",
       "                        if (nbb_cells[i].get_text() == nbb_unformatted_code) {\n",
       "                             nbb_cells[i].set_text(nbb_formatted_code);\n",
       "                        }\n",
       "                        break;\n",
       "                    }\n",
       "                }\n",
       "            }, 500);\n",
       "            "
      ],
      "text/plain": [
       "<IPython.core.display.Javascript object>"
      ]
     },
     "metadata": {},
     "output_type": "display_data"
    }
   ],
   "source": [
    "is_selangor = []\n",
    "states = df[\"State\"]\n",
    "\n",
    "for state in states:\n",
    "    if state == 41326:\n",
    "        is_selangor.append(1)\n",
    "    else:\n",
    "        is_selangor.append(0)\n",
    "\n",
    "is_selangor = np.array(is_selangor)\n",
    "df[\"is_selangor\"] = is_selangor\n",
    "df[\"is_not_selangor\"] = 1 - is_selangor\n",
    "df[\"is_selangor\"].value_counts()"
   ]
  },
  {
   "cell_type": "markdown",
   "metadata": {},
   "source": [
    "### RescuerID"
   ]
  },
  {
   "cell_type": "code",
   "execution_count": 67,
   "metadata": {},
   "outputs": [
    {
     "data": {
      "text/plain": [
       "438a9bdce8ef4d5948fc40e422d34d0d    74\n",
       "e62135526c27156b8479420aad166317    63\n",
       "c00756f2bdd8fa88fc9f07a8309f7d5d    62\n",
       "b770bac0ca797cf1433c48a35d30c4cb    49\n",
       "167119eeb94dec6c615c602952c527c8    40\n",
       "90569c3f7cb0af35cba5dac82c0ac9d7    34\n",
       "09771cded8c18d94a16a6548377410a8    32\n",
       "95eab75701bfbddafb9e1e01e1ee9214    32\n",
       "c6fa60201b7ca135608d592d7ac19ec4    30\n",
       "74dabecce4ddb0c4d08892255974496b    28\n",
       "Name: RescuerID, dtype: int64"
      ]
     },
     "execution_count": 67,
     "metadata": {},
     "output_type": "execute_result"
    },
    {
     "data": {
      "application/javascript": [
       "\n",
       "            setTimeout(function() {\n",
       "                var nbb_cell_id = 67;\n",
       "                var nbb_unformatted_code = \"df[\\\"RescuerID\\\"].value_counts().head(10)\";\n",
       "                var nbb_formatted_code = \"df[\\\"RescuerID\\\"].value_counts().head(10)\";\n",
       "                var nbb_cells = Jupyter.notebook.get_cells();\n",
       "                for (var i = 0; i < nbb_cells.length; ++i) {\n",
       "                    if (nbb_cells[i].input_prompt_number == nbb_cell_id) {\n",
       "                        if (nbb_cells[i].get_text() == nbb_unformatted_code) {\n",
       "                             nbb_cells[i].set_text(nbb_formatted_code);\n",
       "                        }\n",
       "                        break;\n",
       "                    }\n",
       "                }\n",
       "            }, 500);\n",
       "            "
      ],
      "text/plain": [
       "<IPython.core.display.Javascript object>"
      ]
     },
     "metadata": {},
     "output_type": "display_data"
    }
   ],
   "source": [
    "df[\"RescuerID\"].value_counts().head(10)"
   ]
  },
  {
   "cell_type": "markdown",
   "metadata": {},
   "source": [
    "Creating an \"is_top_10_rescue\" column that flags whether pet is from a rescue that has some of the most entries."
   ]
  },
  {
   "cell_type": "code",
   "execution_count": 68,
   "metadata": {},
   "outputs": [
    {
     "data": {
      "application/javascript": [
       "\n",
       "            setTimeout(function() {\n",
       "                var nbb_cell_id = 68;\n",
       "                var nbb_unformatted_code = \"id_list = list(df[\\\"RescuerID\\\"].value_counts().index)\\ntop_10_rescues = id_list[0:10]\\n\\nrescue_col = df[\\\"RescuerID\\\"]\\nnew_rescues_arr = []\\n\\nfor rescue in rescue_col:\\n    if rescue in top_10_rescues:\\n        new_rescues_arr.append(1)\\n    else:\\n        new_rescues_arr.append(0)\\n\\nnew_rescues_arr = np.array(new_rescues_arr)\\ndf[\\\"is_top_10_rescue\\\"] = new_rescues_arr\\ndf[\\\"is_small_rescue\\\"] = 1 - new_rescues_arr\";\n",
       "                var nbb_formatted_code = \"id_list = list(df[\\\"RescuerID\\\"].value_counts().index)\\ntop_10_rescues = id_list[0:10]\\n\\nrescue_col = df[\\\"RescuerID\\\"]\\nnew_rescues_arr = []\\n\\nfor rescue in rescue_col:\\n    if rescue in top_10_rescues:\\n        new_rescues_arr.append(1)\\n    else:\\n        new_rescues_arr.append(0)\\n\\nnew_rescues_arr = np.array(new_rescues_arr)\\ndf[\\\"is_top_10_rescue\\\"] = new_rescues_arr\\ndf[\\\"is_small_rescue\\\"] = 1 - new_rescues_arr\";\n",
       "                var nbb_cells = Jupyter.notebook.get_cells();\n",
       "                for (var i = 0; i < nbb_cells.length; ++i) {\n",
       "                    if (nbb_cells[i].input_prompt_number == nbb_cell_id) {\n",
       "                        if (nbb_cells[i].get_text() == nbb_unformatted_code) {\n",
       "                             nbb_cells[i].set_text(nbb_formatted_code);\n",
       "                        }\n",
       "                        break;\n",
       "                    }\n",
       "                }\n",
       "            }, 500);\n",
       "            "
      ],
      "text/plain": [
       "<IPython.core.display.Javascript object>"
      ]
     },
     "metadata": {},
     "output_type": "display_data"
    }
   ],
   "source": [
    "id_list = list(df[\"RescuerID\"].value_counts().index)\n",
    "top_10_rescues = id_list[0:10]\n",
    "\n",
    "rescue_col = df[\"RescuerID\"]\n",
    "new_rescues_arr = []\n",
    "\n",
    "for rescue in rescue_col:\n",
    "    if rescue in top_10_rescues:\n",
    "        new_rescues_arr.append(1)\n",
    "    else:\n",
    "        new_rescues_arr.append(0)\n",
    "\n",
    "new_rescues_arr = np.array(new_rescues_arr)\n",
    "df[\"is_top_10_rescue\"] = new_rescues_arr\n",
    "df[\"is_small_rescue\"] = 1 - new_rescues_arr"
   ]
  },
  {
   "cell_type": "code",
   "execution_count": 69,
   "metadata": {},
   "outputs": [
    {
     "data": {
      "text/plain": [
       "0    4499\n",
       "1     444\n",
       "Name: is_top_10_rescue, dtype: int64"
      ]
     },
     "execution_count": 69,
     "metadata": {},
     "output_type": "execute_result"
    },
    {
     "data": {
      "application/javascript": [
       "\n",
       "            setTimeout(function() {\n",
       "                var nbb_cell_id = 69;\n",
       "                var nbb_unformatted_code = \"df[\\\"is_top_10_rescue\\\"].value_counts().head()\";\n",
       "                var nbb_formatted_code = \"df[\\\"is_top_10_rescue\\\"].value_counts().head()\";\n",
       "                var nbb_cells = Jupyter.notebook.get_cells();\n",
       "                for (var i = 0; i < nbb_cells.length; ++i) {\n",
       "                    if (nbb_cells[i].input_prompt_number == nbb_cell_id) {\n",
       "                        if (nbb_cells[i].get_text() == nbb_unformatted_code) {\n",
       "                             nbb_cells[i].set_text(nbb_formatted_code);\n",
       "                        }\n",
       "                        break;\n",
       "                    }\n",
       "                }\n",
       "            }, 500);\n",
       "            "
      ],
      "text/plain": [
       "<IPython.core.display.Javascript object>"
      ]
     },
     "metadata": {},
     "output_type": "display_data"
    }
   ],
   "source": [
    "df[\"is_top_10_rescue\"].value_counts().head()"
   ]
  },
  {
   "cell_type": "code",
   "execution_count": 70,
   "metadata": {},
   "outputs": [
    {
     "data": {
      "image/png": "[encoded data removed]",
      "text/plain": [
       "<Figure size 432x288 with 1 Axes>"
      ]
     },
     "metadata": {
      "needs_background": "light"
     },
     "output_type": "display_data"
    },
    {
     "data": {
      "application/javascript": [
       "\n",
       "            setTimeout(function() {\n",
       "                var nbb_cell_id = 70;\n",
       "                var nbb_unformatted_code = \"sns.barplot(x=\\\"is_top_10_rescue\\\", y=\\\"AdoptionSpeed\\\", data=df)\\nplt.show()\";\n",
       "                var nbb_formatted_code = \"sns.barplot(x=\\\"is_top_10_rescue\\\", y=\\\"AdoptionSpeed\\\", data=df)\\nplt.show()\";\n",
       "                var nbb_cells = Jupyter.notebook.get_cells();\n",
       "                for (var i = 0; i < nbb_cells.length; ++i) {\n",
       "                    if (nbb_cells[i].input_prompt_number == nbb_cell_id) {\n",
       "                        if (nbb_cells[i].get_text() == nbb_unformatted_code) {\n",
       "                             nbb_cells[i].set_text(nbb_formatted_code);\n",
       "                        }\n",
       "                        break;\n",
       "                    }\n",
       "                }\n",
       "            }, 500);\n",
       "            "
      ],
      "text/plain": [
       "<IPython.core.display.Javascript object>"
      ]
     },
     "metadata": {},
     "output_type": "display_data"
    }
   ],
   "source": [
    "sns.barplot(x=\"is_top_10_rescue\", y=\"AdoptionSpeed\", data=df)\n",
    "plt.show()"
   ]
  },
  {
   "cell_type": "markdown",
   "metadata": {},
   "source": [
    "### VideoAmt"
   ]
  },
  {
   "cell_type": "code",
   "execution_count": 71,
   "metadata": {},
   "outputs": [
    {
     "data": {
      "text/plain": [
       "0    4740\n",
       "1     151\n",
       "2      40\n",
       "3       6\n",
       "5       3\n",
       "6       2\n",
       "4       1\n",
       "Name: VideoAmt, dtype: int64"
      ]
     },
     "execution_count": 71,
     "metadata": {},
     "output_type": "execute_result"
    },
    {
     "data": {
      "application/javascript": [
       "\n",
       "            setTimeout(function() {\n",
       "                var nbb_cell_id = 71;\n",
       "                var nbb_unformatted_code = \"df[\\\"VideoAmt\\\"].value_counts().head(20)\";\n",
       "                var nbb_formatted_code = \"df[\\\"VideoAmt\\\"].value_counts().head(20)\";\n",
       "                var nbb_cells = Jupyter.notebook.get_cells();\n",
       "                for (var i = 0; i < nbb_cells.length; ++i) {\n",
       "                    if (nbb_cells[i].input_prompt_number == nbb_cell_id) {\n",
       "                        if (nbb_cells[i].get_text() == nbb_unformatted_code) {\n",
       "                             nbb_cells[i].set_text(nbb_formatted_code);\n",
       "                        }\n",
       "                        break;\n",
       "                    }\n",
       "                }\n",
       "            }, 500);\n",
       "            "
      ],
      "text/plain": [
       "<IPython.core.display.Javascript object>"
      ]
     },
     "metadata": {},
     "output_type": "display_data"
    }
   ],
   "source": [
    "df[\"VideoAmt\"].value_counts().head(20)"
   ]
  },
  {
   "cell_type": "markdown",
   "metadata": {},
   "source": [
    "Let's make this binary, aka has_video: 1-yes, 0-no."
   ]
  },
  {
   "cell_type": "code",
   "execution_count": 72,
   "metadata": {},
   "outputs": [
    {
     "data": {
      "application/javascript": [
       "\n",
       "            setTimeout(function() {\n",
       "                var nbb_cell_id = 72;\n",
       "                var nbb_unformatted_code = \"is_videoed = []\\nvideo_amts = df[\\\"VideoAmt\\\"]\\nfor video_amt in video_amts:\\n    if video_amt >= 1:\\n        is_videoed.append(1)\\n    else:\\n        is_videoed.append(0)\\n\\nis_videoed = np.array(is_videoed)\\ndf[\\\"is_videoed\\\"] = is_videoed\\ndf[\\\"is_not_videoed\\\"] = 1 - is_videoed\";\n",
       "                var nbb_formatted_code = \"is_videoed = []\\nvideo_amts = df[\\\"VideoAmt\\\"]\\nfor video_amt in video_amts:\\n    if video_amt >= 1:\\n        is_videoed.append(1)\\n    else:\\n        is_videoed.append(0)\\n\\nis_videoed = np.array(is_videoed)\\ndf[\\\"is_videoed\\\"] = is_videoed\\ndf[\\\"is_not_videoed\\\"] = 1 - is_videoed\";\n",
       "                var nbb_cells = Jupyter.notebook.get_cells();\n",
       "                for (var i = 0; i < nbb_cells.length; ++i) {\n",
       "                    if (nbb_cells[i].input_prompt_number == nbb_cell_id) {\n",
       "                        if (nbb_cells[i].get_text() == nbb_unformatted_code) {\n",
       "                             nbb_cells[i].set_text(nbb_formatted_code);\n",
       "                        }\n",
       "                        break;\n",
       "                    }\n",
       "                }\n",
       "            }, 500);\n",
       "            "
      ],
      "text/plain": [
       "<IPython.core.display.Javascript object>"
      ]
     },
     "metadata": {},
     "output_type": "display_data"
    }
   ],
   "source": [
    "is_videoed = []\n",
    "video_amts = df[\"VideoAmt\"]\n",
    "for video_amt in video_amts:\n",
    "    if video_amt >= 1:\n",
    "        is_videoed.append(1)\n",
    "    else:\n",
    "        is_videoed.append(0)\n",
    "\n",
    "is_videoed = np.array(is_videoed)\n",
    "df[\"is_videoed\"] = is_videoed\n",
    "df[\"is_not_videoed\"] = 1 - is_videoed"
   ]
  },
  {
   "cell_type": "code",
   "execution_count": 73,
   "metadata": {},
   "outputs": [
    {
     "data": {
      "text/plain": [
       "0    4740\n",
       "1     203\n",
       "Name: is_videoed, dtype: int64"
      ]
     },
     "execution_count": 73,
     "metadata": {},
     "output_type": "execute_result"
    },
    {
     "data": {
      "application/javascript": [
       "\n",
       "            setTimeout(function() {\n",
       "                var nbb_cell_id = 73;\n",
       "                var nbb_unformatted_code = \"df[\\\"is_videoed\\\"].value_counts()\";\n",
       "                var nbb_formatted_code = \"df[\\\"is_videoed\\\"].value_counts()\";\n",
       "                var nbb_cells = Jupyter.notebook.get_cells();\n",
       "                for (var i = 0; i < nbb_cells.length; ++i) {\n",
       "                    if (nbb_cells[i].input_prompt_number == nbb_cell_id) {\n",
       "                        if (nbb_cells[i].get_text() == nbb_unformatted_code) {\n",
       "                             nbb_cells[i].set_text(nbb_formatted_code);\n",
       "                        }\n",
       "                        break;\n",
       "                    }\n",
       "                }\n",
       "            }, 500);\n",
       "            "
      ],
      "text/plain": [
       "<IPython.core.display.Javascript object>"
      ]
     },
     "metadata": {},
     "output_type": "display_data"
    }
   ],
   "source": [
    "df[\"is_videoed\"].value_counts()"
   ]
  },
  {
   "cell_type": "code",
   "execution_count": 74,
   "metadata": {},
   "outputs": [
    {
     "data": {
      "image/png": "[encoded data removed]",
      "text/plain": [
       "<Figure size 432x288 with 1 Axes>"
      ]
     },
     "metadata": {
      "needs_background": "light"
     },
     "output_type": "display_data"
    },
    {
     "data": {
      "application/javascript": [
       "\n",
       "            setTimeout(function() {\n",
       "                var nbb_cell_id = 74;\n",
       "                var nbb_unformatted_code = \"sns.violinplot(x=\\\"is_videoed\\\", y=\\\"AdoptionSpeed\\\", data=df)\\nplt.show()\";\n",
       "                var nbb_formatted_code = \"sns.violinplot(x=\\\"is_videoed\\\", y=\\\"AdoptionSpeed\\\", data=df)\\nplt.show()\";\n",
       "                var nbb_cells = Jupyter.notebook.get_cells();\n",
       "                for (var i = 0; i < nbb_cells.length; ++i) {\n",
       "                    if (nbb_cells[i].input_prompt_number == nbb_cell_id) {\n",
       "                        if (nbb_cells[i].get_text() == nbb_unformatted_code) {\n",
       "                             nbb_cells[i].set_text(nbb_formatted_code);\n",
       "                        }\n",
       "                        break;\n",
       "                    }\n",
       "                }\n",
       "            }, 500);\n",
       "            "
      ],
      "text/plain": [
       "<IPython.core.display.Javascript object>"
      ]
     },
     "metadata": {},
     "output_type": "display_data"
    }
   ],
   "source": [
    "sns.violinplot(x=\"is_videoed\", y=\"AdoptionSpeed\", data=df)\n",
    "plt.show()"
   ]
  },
  {
   "cell_type": "markdown",
   "metadata": {},
   "source": [
    "### Description"
   ]
  },
  {
   "cell_type": "code",
   "execution_count": 75,
   "metadata": {},
   "outputs": [
    {
     "data": {
      "text/plain": [
       "Cat for adoption                           22\n",
       "Friendly                                   10\n",
       "Please feel free to contact us : Stuart     7\n",
       "Kitten for adoption                         7\n",
       "LOOKING FOR A FOREVER HOME FOR HER          6\n",
       "Name: Description, dtype: int64"
      ]
     },
     "execution_count": 75,
     "metadata": {},
     "output_type": "execute_result"
    },
    {
     "data": {
      "application/javascript": [
       "\n",
       "            setTimeout(function() {\n",
       "                var nbb_cell_id = 75;\n",
       "                var nbb_unformatted_code = \"df[\\\"Description\\\"].value_counts().head()\";\n",
       "                var nbb_formatted_code = \"df[\\\"Description\\\"].value_counts().head()\";\n",
       "                var nbb_cells = Jupyter.notebook.get_cells();\n",
       "                for (var i = 0; i < nbb_cells.length; ++i) {\n",
       "                    if (nbb_cells[i].input_prompt_number == nbb_cell_id) {\n",
       "                        if (nbb_cells[i].get_text() == nbb_unformatted_code) {\n",
       "                             nbb_cells[i].set_text(nbb_formatted_code);\n",
       "                        }\n",
       "                        break;\n",
       "                    }\n",
       "                }\n",
       "            }, 500);\n",
       "            "
      ],
      "text/plain": [
       "<IPython.core.display.Javascript object>"
      ]
     },
     "metadata": {},
     "output_type": "display_data"
    }
   ],
   "source": [
    "df[\"Description\"].value_counts().head()"
   ]
  },
  {
   "cell_type": "markdown",
   "metadata": {},
   "source": [
    "Dropping this column altogether.  NLP is beyond the scope of this study."
   ]
  },
  {
   "cell_type": "code",
   "execution_count": 76,
   "metadata": {},
   "outputs": [
    {
     "data": {
      "application/javascript": [
       "\n",
       "            setTimeout(function() {\n",
       "                var nbb_cell_id = 76;\n",
       "                var nbb_unformatted_code = \"df = df.drop(columns=[\\\"Description\\\"])\";\n",
       "                var nbb_formatted_code = \"df = df.drop(columns=[\\\"Description\\\"])\";\n",
       "                var nbb_cells = Jupyter.notebook.get_cells();\n",
       "                for (var i = 0; i < nbb_cells.length; ++i) {\n",
       "                    if (nbb_cells[i].input_prompt_number == nbb_cell_id) {\n",
       "                        if (nbb_cells[i].get_text() == nbb_unformatted_code) {\n",
       "                             nbb_cells[i].set_text(nbb_formatted_code);\n",
       "                        }\n",
       "                        break;\n",
       "                    }\n",
       "                }\n",
       "            }, 500);\n",
       "            "
      ],
      "text/plain": [
       "<IPython.core.display.Javascript object>"
      ]
     },
     "metadata": {},
     "output_type": "display_data"
    }
   ],
   "source": [
    "df = df.drop(columns=[\"Description\"])"
   ]
  },
  {
   "cell_type": "markdown",
   "metadata": {},
   "source": [
    "### PetID"
   ]
  },
  {
   "cell_type": "code",
   "execution_count": 77,
   "metadata": {},
   "outputs": [
    {
     "data": {
      "text/plain": [
       "f10643d7e    1\n",
       "d40c291a9    1\n",
       "0907a14f3    1\n",
       "42e7de7c0    1\n",
       "9bc084196    1\n",
       "8a17130c3    1\n",
       "b68679817    1\n",
       "160dcaec8    1\n",
       "e7fbd95a9    1\n",
       "968c82e07    1\n",
       "f27974780    1\n",
       "93a9cf943    1\n",
       "7238228b5    1\n",
       "c6a3de42f    1\n",
       "917ca93b3    1\n",
       "dfb59bbe9    1\n",
       "933e0a3e8    1\n",
       "d69a1f2a1    1\n",
       "a8cfb849e    1\n",
       "eab1d3e9f    1\n",
       "Name: PetID, dtype: int64"
      ]
     },
     "execution_count": 77,
     "metadata": {},
     "output_type": "execute_result"
    },
    {
     "data": {
      "application/javascript": [
       "\n",
       "            setTimeout(function() {\n",
       "                var nbb_cell_id = 77;\n",
       "                var nbb_unformatted_code = \"df[\\\"PetID\\\"].value_counts().head(20)\";\n",
       "                var nbb_formatted_code = \"df[\\\"PetID\\\"].value_counts().head(20)\";\n",
       "                var nbb_cells = Jupyter.notebook.get_cells();\n",
       "                for (var i = 0; i < nbb_cells.length; ++i) {\n",
       "                    if (nbb_cells[i].input_prompt_number == nbb_cell_id) {\n",
       "                        if (nbb_cells[i].get_text() == nbb_unformatted_code) {\n",
       "                             nbb_cells[i].set_text(nbb_formatted_code);\n",
       "                        }\n",
       "                        break;\n",
       "                    }\n",
       "                }\n",
       "            }, 500);\n",
       "            "
      ],
      "text/plain": [
       "<IPython.core.display.Javascript object>"
      ]
     },
     "metadata": {},
     "output_type": "display_data"
    }
   ],
   "source": [
    "df[\"PetID\"].value_counts().head(20)"
   ]
  },
  {
   "cell_type": "markdown",
   "metadata": {},
   "source": [
    "These are unique for each record.  Will drop from dataset and just use a generic index instead..."
   ]
  },
  {
   "cell_type": "code",
   "execution_count": 78,
   "metadata": {},
   "outputs": [
    {
     "data": {
      "application/javascript": [
       "\n",
       "            setTimeout(function() {\n",
       "                var nbb_cell_id = 78;\n",
       "                var nbb_unformatted_code = \"df = df.drop(columns=[\\\"PetID\\\"])\";\n",
       "                var nbb_formatted_code = \"df = df.drop(columns=[\\\"PetID\\\"])\";\n",
       "                var nbb_cells = Jupyter.notebook.get_cells();\n",
       "                for (var i = 0; i < nbb_cells.length; ++i) {\n",
       "                    if (nbb_cells[i].input_prompt_number == nbb_cell_id) {\n",
       "                        if (nbb_cells[i].get_text() == nbb_unformatted_code) {\n",
       "                             nbb_cells[i].set_text(nbb_formatted_code);\n",
       "                        }\n",
       "                        break;\n",
       "                    }\n",
       "                }\n",
       "            }, 500);\n",
       "            "
      ],
      "text/plain": [
       "<IPython.core.display.Javascript object>"
      ]
     },
     "metadata": {},
     "output_type": "display_data"
    }
   ],
   "source": [
    "df = df.drop(columns=[\"PetID\"])"
   ]
  },
  {
   "cell_type": "markdown",
   "metadata": {},
   "source": [
    "### PhotoAmt"
   ]
  },
  {
   "cell_type": "code",
   "execution_count": 79,
   "metadata": {},
   "outputs": [
    {
     "data": {
      "text/plain": [
       "1.0     963\n",
       "3.0     891\n",
       "2.0     818\n",
       "5.0     748\n",
       "4.0     639\n",
       "6.0     212\n",
       "7.0     155\n",
       "0.0      87\n",
       "8.0      83\n",
       "9.0      70\n",
       "10.0     65\n",
       "11.0     55\n",
       "12.0     35\n",
       "13.0     27\n",
       "14.0     20\n",
       "15.0     16\n",
       "16.0     11\n",
       "17.0      8\n",
       "19.0      7\n",
       "30.0      5\n",
       "Name: PhotoAmt, dtype: int64"
      ]
     },
     "execution_count": 79,
     "metadata": {},
     "output_type": "execute_result"
    },
    {
     "data": {
      "application/javascript": [
       "\n",
       "            setTimeout(function() {\n",
       "                var nbb_cell_id = 79;\n",
       "                var nbb_unformatted_code = \"df[\\\"PhotoAmt\\\"].value_counts().head(20)\";\n",
       "                var nbb_formatted_code = \"df[\\\"PhotoAmt\\\"].value_counts().head(20)\";\n",
       "                var nbb_cells = Jupyter.notebook.get_cells();\n",
       "                for (var i = 0; i < nbb_cells.length; ++i) {\n",
       "                    if (nbb_cells[i].input_prompt_number == nbb_cell_id) {\n",
       "                        if (nbb_cells[i].get_text() == nbb_unformatted_code) {\n",
       "                             nbb_cells[i].set_text(nbb_formatted_code);\n",
       "                        }\n",
       "                        break;\n",
       "                    }\n",
       "                }\n",
       "            }, 500);\n",
       "            "
      ],
      "text/plain": [
       "<IPython.core.display.Javascript object>"
      ]
     },
     "metadata": {},
     "output_type": "display_data"
    }
   ],
   "source": [
    "df[\"PhotoAmt\"].value_counts().head(20)"
   ]
  },
  {
   "cell_type": "markdown",
   "metadata": {},
   "source": [
    "Combining all quantities of photos into a has_photo binary."
   ]
  },
  {
   "cell_type": "code",
   "execution_count": 80,
   "metadata": {},
   "outputs": [
    {
     "data": {
      "application/javascript": [
       "\n",
       "            setTimeout(function() {\n",
       "                var nbb_cell_id = 80;\n",
       "                var nbb_unformatted_code = \"has_photo = []\\n\\nphoto_amts = df[\\\"PhotoAmt\\\"]\\n\\nfor photo_amt in photo_amts:\\n    if photo_amt == 0:\\n        has_photo.append(0)\\n    else:\\n        has_photo.append(1)\\n\\nhas_photo = np.array(has_photo)\\ndf[\\\"has_photo\\\"] = has_photo\\ndf[\\\"has_no_photo\\\"] = 1 - has_photo\";\n",
       "                var nbb_formatted_code = \"has_photo = []\\n\\nphoto_amts = df[\\\"PhotoAmt\\\"]\\n\\nfor photo_amt in photo_amts:\\n    if photo_amt == 0:\\n        has_photo.append(0)\\n    else:\\n        has_photo.append(1)\\n\\nhas_photo = np.array(has_photo)\\ndf[\\\"has_photo\\\"] = has_photo\\ndf[\\\"has_no_photo\\\"] = 1 - has_photo\";\n",
       "                var nbb_cells = Jupyter.notebook.get_cells();\n",
       "                for (var i = 0; i < nbb_cells.length; ++i) {\n",
       "                    if (nbb_cells[i].input_prompt_number == nbb_cell_id) {\n",
       "                        if (nbb_cells[i].get_text() == nbb_unformatted_code) {\n",
       "                             nbb_cells[i].set_text(nbb_formatted_code);\n",
       "                        }\n",
       "                        break;\n",
       "                    }\n",
       "                }\n",
       "            }, 500);\n",
       "            "
      ],
      "text/plain": [
       "<IPython.core.display.Javascript object>"
      ]
     },
     "metadata": {},
     "output_type": "display_data"
    }
   ],
   "source": [
    "has_photo = []\n",
    "\n",
    "photo_amts = df[\"PhotoAmt\"]\n",
    "\n",
    "for photo_amt in photo_amts:\n",
    "    if photo_amt == 0:\n",
    "        has_photo.append(0)\n",
    "    else:\n",
    "        has_photo.append(1)\n",
    "\n",
    "has_photo = np.array(has_photo)\n",
    "df[\"has_photo\"] = has_photo\n",
    "df[\"has_no_photo\"] = 1 - has_photo"
   ]
  },
  {
   "cell_type": "code",
   "execution_count": 81,
   "metadata": {},
   "outputs": [
    {
     "data": {
      "image/png": "[encoded data removed]",
      "text/plain": [
       "<Figure size 432x288 with 1 Axes>"
      ]
     },
     "metadata": {
      "needs_background": "light"
     },
     "output_type": "display_data"
    },
    {
     "data": {
      "application/javascript": [
       "\n",
       "            setTimeout(function() {\n",
       "                var nbb_cell_id = 81;\n",
       "                var nbb_unformatted_code = \"sns.violinplot(x=\\\"has_photo\\\", y=\\\"AdoptionSpeed\\\", data=df)\\nplt.show()\";\n",
       "                var nbb_formatted_code = \"sns.violinplot(x=\\\"has_photo\\\", y=\\\"AdoptionSpeed\\\", data=df)\\nplt.show()\";\n",
       "                var nbb_cells = Jupyter.notebook.get_cells();\n",
       "                for (var i = 0; i < nbb_cells.length; ++i) {\n",
       "                    if (nbb_cells[i].input_prompt_number == nbb_cell_id) {\n",
       "                        if (nbb_cells[i].get_text() == nbb_unformatted_code) {\n",
       "                             nbb_cells[i].set_text(nbb_formatted_code);\n",
       "                        }\n",
       "                        break;\n",
       "                    }\n",
       "                }\n",
       "            }, 500);\n",
       "            "
      ],
      "text/plain": [
       "<IPython.core.display.Javascript object>"
      ]
     },
     "metadata": {},
     "output_type": "display_data"
    }
   ],
   "source": [
    "sns.violinplot(x=\"has_photo\", y=\"AdoptionSpeed\", data=df)\n",
    "plt.show()"
   ]
  },
  {
   "cell_type": "markdown",
   "metadata": {},
   "source": [
    "### AdoptionSpeed (Target)"
   ]
  },
  {
   "cell_type": "code",
   "execution_count": 82,
   "metadata": {},
   "outputs": [
    {
     "data": {
      "text/plain": [
       "2    1389\n",
       "1    1222\n",
       "4    1212\n",
       "3     935\n",
       "0     185\n",
       "Name: AdoptionSpeed, dtype: int64"
      ]
     },
     "execution_count": 82,
     "metadata": {},
     "output_type": "execute_result"
    },
    {
     "data": {
      "application/javascript": [
       "\n",
       "            setTimeout(function() {\n",
       "                var nbb_cell_id = 82;\n",
       "                var nbb_unformatted_code = \"df[\\\"AdoptionSpeed\\\"].value_counts()\";\n",
       "                var nbb_formatted_code = \"df[\\\"AdoptionSpeed\\\"].value_counts()\";\n",
       "                var nbb_cells = Jupyter.notebook.get_cells();\n",
       "                for (var i = 0; i < nbb_cells.length; ++i) {\n",
       "                    if (nbb_cells[i].input_prompt_number == nbb_cell_id) {\n",
       "                        if (nbb_cells[i].get_text() == nbb_unformatted_code) {\n",
       "                             nbb_cells[i].set_text(nbb_formatted_code);\n",
       "                        }\n",
       "                        break;\n",
       "                    }\n",
       "                }\n",
       "            }, 500);\n",
       "            "
      ],
      "text/plain": [
       "<IPython.core.display.Javascript object>"
      ]
     },
     "metadata": {},
     "output_type": "display_data"
    }
   ],
   "source": [
    "df[\"AdoptionSpeed\"].value_counts()"
   ]
  },
  {
   "cell_type": "markdown",
   "metadata": {},
   "source": [
    "# Clustering"
   ]
  },
  {
   "cell_type": "markdown",
   "metadata": {},
   "source": [
    "### K-Medoids"
   ]
  },
  {
   "cell_type": "code",
   "execution_count": 109,
   "metadata": {},
   "outputs": [
    {
     "name": "stdout",
     "output_type": "stream",
     "text": [
      "<class 'pandas.core.frame.DataFrame'>\n",
      "Int64Index: 4943 entries, 0 to 14991\n",
      "Data columns (total 39 columns):\n",
      " #   Column            Non-Null Count  Dtype\n",
      "---  ------            --------------  -----\n",
      " 0   AdoptionSpeed     4943 non-null   int64\n",
      " 1   has_name          4943 non-null   int64\n",
      " 2   has_no_name       4943 non-null   int64\n",
      " 3   is_young          4943 non-null   int64\n",
      " 4   is_old            4943 non-null   int64\n",
      " 5   is_pure_bred      4943 non-null   int64\n",
      " 6   is_mixed_breed    4943 non-null   int64\n",
      " 7   is_female         4943 non-null   int64\n",
      " 8   is_male           4943 non-null   int64\n",
      " 9   is_black          4943 non-null   int64\n",
      " 10  is_brown          4943 non-null   int64\n",
      " 11  is_golden         4943 non-null   int64\n",
      " 12  is_yellow         4943 non-null   int64\n",
      " 13  is_cream          4943 non-null   int64\n",
      " 14  is_gray           4943 non-null   int64\n",
      " 15  is_white          4943 non-null   int64\n",
      " 16  is_bicolor        4943 non-null   int64\n",
      " 17  is_not_bicolor    4943 non-null   int64\n",
      " 18  is_small_sized    4943 non-null   int64\n",
      " 19  is_medium_sized   4943 non-null   int64\n",
      " 20  is_large_sized    4943 non-null   int64\n",
      " 21  is_short_hair     4943 non-null   int64\n",
      " 22  is_medium_hair    4943 non-null   int64\n",
      " 23  is_long_hair      4943 non-null   int64\n",
      " 24  is_ster           4943 non-null   int64\n",
      " 25  is_not_ster       4943 non-null   int64\n",
      " 26  is_maybe_ster     4943 non-null   int64\n",
      " 27  is_injured        4943 non-null   int64\n",
      " 28  is_healthy        4943 non-null   int64\n",
      " 29  is_free           4943 non-null   int64\n",
      " 30  is_not_free       4943 non-null   int64\n",
      " 31  is_selangor       4943 non-null   int64\n",
      " 32  is_not_selangor   4943 non-null   int64\n",
      " 33  is_top_10_rescue  4943 non-null   int64\n",
      " 34  is_small_rescue   4943 non-null   int64\n",
      " 35  is_videoed        4943 non-null   int64\n",
      " 36  is_not_videoed    4943 non-null   int64\n",
      " 37  has_photo         4943 non-null   int64\n",
      " 38  has_no_photo      4943 non-null   int64\n",
      "dtypes: int64(39)\n",
      "memory usage: 1.7 MB\n"
     ]
    },
    {
     "data": {
      "application/javascript": [
       "\n",
       "            setTimeout(function() {\n",
       "                var nbb_cell_id = 109;\n",
       "                var nbb_unformatted_code = \"# dropping unnecessary or redundant columns\\nkitty_df = df.drop(\\n    columns=[\\n        \\\"Name\\\",\\n        \\\"Age\\\",\\n        \\\"Breed1\\\",\\n        \\\"Breed2\\\",\\n        \\\"Color2\\\",\\n        \\\"Color3\\\",\\n        \\\"MaturitySize\\\",\\n        \\\"Health\\\",\\n        \\\"Vaccinated\\\",\\n        \\\"Dewormed\\\",\\n        \\\"Quantity\\\",\\n        \\\"Fee\\\",\\n        \\\"VideoAmt\\\",\\n        \\\"PhotoAmt\\\",\\n        \\\"RescuerID\\\",\\n        \\\"Gender\\\",\\n        \\\"Color1\\\",\\n        \\\"FurLength\\\",\\n        \\\"Sterilized\\\",\\n        \\\"State\\\",\\n    ]\\n)\\n\\n# check to make sure it worked...can't be too careful!\\nkitty_df.info()\";\n",
       "                var nbb_formatted_code = \"# dropping unnecessary or redundant columns\\nkitty_df = df.drop(\\n    columns=[\\n        \\\"Name\\\",\\n        \\\"Age\\\",\\n        \\\"Breed1\\\",\\n        \\\"Breed2\\\",\\n        \\\"Color2\\\",\\n        \\\"Color3\\\",\\n        \\\"MaturitySize\\\",\\n        \\\"Health\\\",\\n        \\\"Vaccinated\\\",\\n        \\\"Dewormed\\\",\\n        \\\"Quantity\\\",\\n        \\\"Fee\\\",\\n        \\\"VideoAmt\\\",\\n        \\\"PhotoAmt\\\",\\n        \\\"RescuerID\\\",\\n        \\\"Gender\\\",\\n        \\\"Color1\\\",\\n        \\\"FurLength\\\",\\n        \\\"Sterilized\\\",\\n        \\\"State\\\",\\n    ]\\n)\\n\\n# check to make sure it worked...can't be too careful!\\nkitty_df.info()\";\n",
       "                var nbb_cells = Jupyter.notebook.get_cells();\n",
       "                for (var i = 0; i < nbb_cells.length; ++i) {\n",
       "                    if (nbb_cells[i].input_prompt_number == nbb_cell_id) {\n",
       "                        if (nbb_cells[i].get_text() == nbb_unformatted_code) {\n",
       "                             nbb_cells[i].set_text(nbb_formatted_code);\n",
       "                        }\n",
       "                        break;\n",
       "                    }\n",
       "                }\n",
       "            }, 500);\n",
       "            "
      ],
      "text/plain": [
       "<IPython.core.display.Javascript object>"
      ]
     },
     "metadata": {},
     "output_type": "display_data"
    }
   ],
   "source": [
    "# dropping unnecessary or redundant columns\n",
    "kitty_df = df.drop(\n",
    "    columns=[\n",
    "        \"Name\",\n",
    "        \"Age\",\n",
    "        \"Breed1\",\n",
    "        \"Breed2\",\n",
    "        \"Color2\",\n",
    "        \"Color3\",\n",
    "        \"MaturitySize\",\n",
    "        \"Health\",\n",
    "        \"Vaccinated\",\n",
    "        \"Dewormed\",\n",
    "        \"Quantity\",\n",
    "        \"Fee\",\n",
    "        \"VideoAmt\",\n",
    "        \"PhotoAmt\",\n",
    "        \"RescuerID\",\n",
    "        \"Gender\",\n",
    "        \"Color1\",\n",
    "        \"FurLength\",\n",
    "        \"Sterilized\",\n",
    "        \"State\",\n",
    "    ]\n",
    ")\n",
    "\n",
    "# check to make sure it worked...can't be too careful!\n",
    "kitty_df.info()"
   ]
  },
  {
   "cell_type": "code",
   "execution_count": 125,
   "metadata": {},
   "outputs": [
    {
     "data": {
      "application/javascript": [
       "\n",
       "            setTimeout(function() {\n",
       "                var nbb_cell_id = 125;\n",
       "                var nbb_unformatted_code = \"binary_df = kitty_df.drop(\\n    columns=[\\n        \\\"has_no_name\\\",\\n        \\\"is_old\\\",\\n        \\\"is_mixed_breed\\\",\\n        \\\"is_male\\\",\\n        \\\"is_black\\\",\\n        \\\"is_brown\\\",\\n        \\\"is_golden\\\",\\n        \\\"is_yellow\\\",\\n        \\\"is_cream\\\",\\n        \\\"is_gray\\\",\\n        \\\"is_white\\\",\\n        \\\"is_not_bicolor\\\",\\n        \\\"is_small_sized\\\",\\n        \\\"is_medium_sized\\\",\\n        \\\"is_large_sized\\\",\\n        \\\"is_short_hair\\\",\\n        \\\"is_medium_hair\\\",\\n        \\\"is_long_hair\\\",\\n        \\\"is_ster\\\",\\n        \\\"is_not_ster\\\",\\n        \\\"is_maybe_ster\\\",\\n        \\\"is_healthy\\\",\\n        \\\"is_not_free\\\",\\n        \\\"is_not_selangor\\\",\\n        \\\"is_small_rescue\\\",\\n        \\\"is_not_videoed\\\",\\n        \\\"has_no_photo\\\",\\n    ]\\n)\";\n",
       "                var nbb_formatted_code = \"binary_df = kitty_df.drop(\\n    columns=[\\n        \\\"has_no_name\\\",\\n        \\\"is_old\\\",\\n        \\\"is_mixed_breed\\\",\\n        \\\"is_male\\\",\\n        \\\"is_black\\\",\\n        \\\"is_brown\\\",\\n        \\\"is_golden\\\",\\n        \\\"is_yellow\\\",\\n        \\\"is_cream\\\",\\n        \\\"is_gray\\\",\\n        \\\"is_white\\\",\\n        \\\"is_not_bicolor\\\",\\n        \\\"is_small_sized\\\",\\n        \\\"is_medium_sized\\\",\\n        \\\"is_large_sized\\\",\\n        \\\"is_short_hair\\\",\\n        \\\"is_medium_hair\\\",\\n        \\\"is_long_hair\\\",\\n        \\\"is_ster\\\",\\n        \\\"is_not_ster\\\",\\n        \\\"is_maybe_ster\\\",\\n        \\\"is_healthy\\\",\\n        \\\"is_not_free\\\",\\n        \\\"is_not_selangor\\\",\\n        \\\"is_small_rescue\\\",\\n        \\\"is_not_videoed\\\",\\n        \\\"has_no_photo\\\",\\n    ]\\n)\";\n",
       "                var nbb_cells = Jupyter.notebook.get_cells();\n",
       "                for (var i = 0; i < nbb_cells.length; ++i) {\n",
       "                    if (nbb_cells[i].input_prompt_number == nbb_cell_id) {\n",
       "                        if (nbb_cells[i].get_text() == nbb_unformatted_code) {\n",
       "                             nbb_cells[i].set_text(nbb_formatted_code);\n",
       "                        }\n",
       "                        break;\n",
       "                    }\n",
       "                }\n",
       "            }, 500);\n",
       "            "
      ],
      "text/plain": [
       "<IPython.core.display.Javascript object>"
      ]
     },
     "metadata": {},
     "output_type": "display_data"
    }
   ],
   "source": [
    "binary_df = kitty_df.drop(\n",
    "    columns=[\n",
    "        \"has_no_name\",\n",
    "        \"is_old\",\n",
    "        \"is_mixed_breed\",\n",
    "        \"is_male\",\n",
    "        \"is_black\",\n",
    "        \"is_brown\",\n",
    "        \"is_golden\",\n",
    "        \"is_yellow\",\n",
    "        \"is_cream\",\n",
    "        \"is_gray\",\n",
    "        \"is_white\",\n",
    "        \"is_not_bicolor\",\n",
    "        \"is_small_sized\",\n",
    "        \"is_medium_sized\",\n",
    "        \"is_large_sized\",\n",
    "        \"is_short_hair\",\n",
    "        \"is_medium_hair\",\n",
    "        \"is_long_hair\",\n",
    "        \"is_ster\",\n",
    "        \"is_not_ster\",\n",
    "        \"is_maybe_ster\",\n",
    "        \"is_healthy\",\n",
    "        \"is_not_free\",\n",
    "        \"is_not_selangor\",\n",
    "        \"is_small_rescue\",\n",
    "        \"is_not_videoed\",\n",
    "        \"has_no_photo\",\n",
    "    ]\n",
    ")"
   ]
  },
  {
   "cell_type": "code",
   "execution_count": 126,
   "metadata": {},
   "outputs": [
    {
     "name": "stdout",
     "output_type": "stream",
     "text": [
      "<class 'pandas.core.frame.DataFrame'>\n",
      "Int64Index: 4943 entries, 0 to 14991\n",
      "Data columns (total 12 columns):\n",
      " #   Column            Non-Null Count  Dtype\n",
      "---  ------            --------------  -----\n",
      " 0   AdoptionSpeed     4943 non-null   int64\n",
      " 1   has_name          4943 non-null   int64\n",
      " 2   is_young          4943 non-null   int64\n",
      " 3   is_pure_bred      4943 non-null   int64\n",
      " 4   is_female         4943 non-null   int64\n",
      " 5   is_bicolor        4943 non-null   int64\n",
      " 6   is_injured        4943 non-null   int64\n",
      " 7   is_free           4943 non-null   int64\n",
      " 8   is_selangor       4943 non-null   int64\n",
      " 9   is_top_10_rescue  4943 non-null   int64\n",
      " 10  is_videoed        4943 non-null   int64\n",
      " 11  has_photo         4943 non-null   int64\n",
      "dtypes: int64(12)\n",
      "memory usage: 662.0 KB\n"
     ]
    },
    {
     "data": {
      "application/javascript": [
       "\n",
       "            setTimeout(function() {\n",
       "                var nbb_cell_id = 126;\n",
       "                var nbb_unformatted_code = \"binary_df.info()\";\n",
       "                var nbb_formatted_code = \"binary_df.info()\";\n",
       "                var nbb_cells = Jupyter.notebook.get_cells();\n",
       "                for (var i = 0; i < nbb_cells.length; ++i) {\n",
       "                    if (nbb_cells[i].input_prompt_number == nbb_cell_id) {\n",
       "                        if (nbb_cells[i].get_text() == nbb_unformatted_code) {\n",
       "                             nbb_cells[i].set_text(nbb_formatted_code);\n",
       "                        }\n",
       "                        break;\n",
       "                    }\n",
       "                }\n",
       "            }, 500);\n",
       "            "
      ],
      "text/plain": [
       "<IPython.core.display.Javascript object>"
      ]
     },
     "metadata": {},
     "output_type": "display_data"
    }
   ],
   "source": [
    "binary_df.info()"
   ]
  },
  {
   "cell_type": "code",
   "execution_count": 127,
   "metadata": {},
   "outputs": [
    {
     "data": {
      "application/javascript": [
       "\n",
       "            setTimeout(function() {\n",
       "                var nbb_cell_id = 127;\n",
       "                var nbb_unformatted_code = \"# X = kitty_df.drop(columns=[\\\"AdoptionSpeed\\\"])\\nX = binary_df.drop(columns=[\\\"AdoptionSpeed\\\"])\";\n",
       "                var nbb_formatted_code = \"# X = kitty_df.drop(columns=[\\\"AdoptionSpeed\\\"])\\nX = binary_df.drop(columns=[\\\"AdoptionSpeed\\\"])\";\n",
       "                var nbb_cells = Jupyter.notebook.get_cells();\n",
       "                for (var i = 0; i < nbb_cells.length; ++i) {\n",
       "                    if (nbb_cells[i].input_prompt_number == nbb_cell_id) {\n",
       "                        if (nbb_cells[i].get_text() == nbb_unformatted_code) {\n",
       "                             nbb_cells[i].set_text(nbb_formatted_code);\n",
       "                        }\n",
       "                        break;\n",
       "                    }\n",
       "                }\n",
       "            }, 500);\n",
       "            "
      ],
      "text/plain": [
       "<IPython.core.display.Javascript object>"
      ]
     },
     "metadata": {},
     "output_type": "display_data"
    }
   ],
   "source": [
    "# X = kitty_df.drop(columns=[\"AdoptionSpeed\"])\n",
    "X = binary_df.drop(columns=[\"AdoptionSpeed\"])"
   ]
  },
  {
   "cell_type": "code",
   "execution_count": 128,
   "metadata": {},
   "outputs": [
    {
     "data": {
      "text/plain": [
       "(4943, 4943)"
      ]
     },
     "execution_count": 128,
     "metadata": {},
     "output_type": "execute_result"
    },
    {
     "data": {
      "application/javascript": [
       "\n",
       "            setTimeout(function() {\n",
       "                var nbb_cell_id = 128;\n",
       "                var nbb_unformatted_code = \"dist = pdist(X, metric=\\\"hamming\\\")\\ndist_mat = squareform(dist)\\ndist_mat.shape\";\n",
       "                var nbb_formatted_code = \"dist = pdist(X, metric=\\\"hamming\\\")\\ndist_mat = squareform(dist)\\ndist_mat.shape\";\n",
       "                var nbb_cells = Jupyter.notebook.get_cells();\n",
       "                for (var i = 0; i < nbb_cells.length; ++i) {\n",
       "                    if (nbb_cells[i].input_prompt_number == nbb_cell_id) {\n",
       "                        if (nbb_cells[i].get_text() == nbb_unformatted_code) {\n",
       "                             nbb_cells[i].set_text(nbb_formatted_code);\n",
       "                        }\n",
       "                        break;\n",
       "                    }\n",
       "                }\n",
       "            }, 500);\n",
       "            "
      ],
      "text/plain": [
       "<IPython.core.display.Javascript object>"
      ]
     },
     "metadata": {},
     "output_type": "display_data"
    }
   ],
   "source": [
    "dist = pdist(X, metric=\"hamming\")\n",
    "dist_mat = squareform(dist)\n",
    "dist_mat.shape"
   ]
  },
  {
   "cell_type": "code",
   "execution_count": 143,
   "metadata": {},
   "outputs": [
    {
     "data": {
      "text/plain": [
       "array([1791, 1052,  660])"
      ]
     },
     "execution_count": 143,
     "metadata": {},
     "output_type": "execute_result"
    },
    {
     "data": {
      "application/javascript": [
       "\n",
       "            setTimeout(function() {\n",
       "                var nbb_cell_id = 143;\n",
       "                var nbb_unformatted_code = \"k = 3\\nnrows = dist_mat.shape[0]\\ninit_medoids = np.random.randint(0, 2001, k)\\ninit_medoids\";\n",
       "                var nbb_formatted_code = \"k = 3\\nnrows = dist_mat.shape[0]\\ninit_medoids = np.random.randint(0, 2001, k)\\ninit_medoids\";\n",
       "                var nbb_cells = Jupyter.notebook.get_cells();\n",
       "                for (var i = 0; i < nbb_cells.length; ++i) {\n",
       "                    if (nbb_cells[i].input_prompt_number == nbb_cell_id) {\n",
       "                        if (nbb_cells[i].get_text() == nbb_unformatted_code) {\n",
       "                             nbb_cells[i].set_text(nbb_formatted_code);\n",
       "                        }\n",
       "                        break;\n",
       "                    }\n",
       "                }\n",
       "            }, 500);\n",
       "            "
      ],
      "text/plain": [
       "<IPython.core.display.Javascript object>"
      ]
     },
     "metadata": {},
     "output_type": "display_data"
    }
   ],
   "source": [
    "k = 3\n",
    "nrows = dist_mat.shape[0]\n",
    "init_medoids = np.random.randint(0, 2001, k)\n",
    "init_medoids"
   ]
  },
  {
   "cell_type": "code",
   "execution_count": 144,
   "metadata": {},
   "outputs": [
    {
     "data": {
      "text/plain": [
       "<pyclustering.cluster.kmedoids.kmedoids at 0x1a77ee1f10>"
      ]
     },
     "execution_count": 144,
     "metadata": {},
     "output_type": "execute_result"
    },
    {
     "data": {
      "application/javascript": [
       "\n",
       "            setTimeout(function() {\n",
       "                var nbb_cell_id = 144;\n",
       "                var nbb_unformatted_code = \"kmed = kmedoids(\\n    dist_mat, initial_index_medoids=init_medoids, data_type=\\\"distance_matrix\\\"\\n)\\n\\nkmed.process()\";\n",
       "                var nbb_formatted_code = \"kmed = kmedoids(\\n    dist_mat, initial_index_medoids=init_medoids, data_type=\\\"distance_matrix\\\"\\n)\\n\\nkmed.process()\";\n",
       "                var nbb_cells = Jupyter.notebook.get_cells();\n",
       "                for (var i = 0; i < nbb_cells.length; ++i) {\n",
       "                    if (nbb_cells[i].input_prompt_number == nbb_cell_id) {\n",
       "                        if (nbb_cells[i].get_text() == nbb_unformatted_code) {\n",
       "                             nbb_cells[i].set_text(nbb_formatted_code);\n",
       "                        }\n",
       "                        break;\n",
       "                    }\n",
       "                }\n",
       "            }, 500);\n",
       "            "
      ],
      "text/plain": [
       "<IPython.core.display.Javascript object>"
      ]
     },
     "metadata": {},
     "output_type": "display_data"
    }
   ],
   "source": [
    "kmed = kmedoids(\n",
    "    dist_mat, initial_index_medoids=init_medoids, data_type=\"distance_matrix\"\n",
    ")\n",
    "\n",
    "kmed.process()"
   ]
  },
  {
   "cell_type": "code",
   "execution_count": 145,
   "metadata": {},
   "outputs": [
    {
     "data": {
      "text/plain": [
       "[1791, 1052, 8]"
      ]
     },
     "execution_count": 145,
     "metadata": {},
     "output_type": "execute_result"
    },
    {
     "data": {
      "application/javascript": [
       "\n",
       "            setTimeout(function() {\n",
       "                var nbb_cell_id = 145;\n",
       "                var nbb_unformatted_code = \"medoid_idxs = kmed.get_medoids()\\nmedoid_idxs\";\n",
       "                var nbb_formatted_code = \"medoid_idxs = kmed.get_medoids()\\nmedoid_idxs\";\n",
       "                var nbb_cells = Jupyter.notebook.get_cells();\n",
       "                for (var i = 0; i < nbb_cells.length; ++i) {\n",
       "                    if (nbb_cells[i].input_prompt_number == nbb_cell_id) {\n",
       "                        if (nbb_cells[i].get_text() == nbb_unformatted_code) {\n",
       "                             nbb_cells[i].set_text(nbb_formatted_code);\n",
       "                        }\n",
       "                        break;\n",
       "                    }\n",
       "                }\n",
       "            }, 500);\n",
       "            "
      ],
      "text/plain": [
       "<IPython.core.display.Javascript object>"
      ]
     },
     "metadata": {},
     "output_type": "display_data"
    }
   ],
   "source": [
    "medoid_idxs = kmed.get_medoids()\n",
    "medoid_idxs"
   ]
  },
  {
   "cell_type": "code",
   "execution_count": 146,
   "metadata": {},
   "outputs": [
    {
     "data": {
      "text/plain": [
       "array([2, 1, 0, ..., 0, 1, 2])"
      ]
     },
     "execution_count": 146,
     "metadata": {},
     "output_type": "execute_result"
    },
    {
     "data": {
      "application/javascript": [
       "\n",
       "            setTimeout(function() {\n",
       "                var nbb_cell_id = 146;\n",
       "                var nbb_unformatted_code = \"labels = kmed.predict(dist_mat)\\nlabels\";\n",
       "                var nbb_formatted_code = \"labels = kmed.predict(dist_mat)\\nlabels\";\n",
       "                var nbb_cells = Jupyter.notebook.get_cells();\n",
       "                for (var i = 0; i < nbb_cells.length; ++i) {\n",
       "                    if (nbb_cells[i].input_prompt_number == nbb_cell_id) {\n",
       "                        if (nbb_cells[i].get_text() == nbb_unformatted_code) {\n",
       "                             nbb_cells[i].set_text(nbb_formatted_code);\n",
       "                        }\n",
       "                        break;\n",
       "                    }\n",
       "                }\n",
       "            }, 500);\n",
       "            "
      ],
      "text/plain": [
       "<IPython.core.display.Javascript object>"
      ]
     },
     "metadata": {},
     "output_type": "display_data"
    }
   ],
   "source": [
    "labels = kmed.predict(dist_mat)\n",
    "labels"
   ]
  },
  {
   "cell_type": "code",
   "execution_count": 147,
   "metadata": {},
   "outputs": [
    {
     "data": {
      "application/javascript": [
       "\n",
       "            setTimeout(function() {\n",
       "                var nbb_cell_id = 147;\n",
       "                var nbb_unformatted_code = \"kmed_cluster_df = binary_df.copy()\\nkmed_cluster_df[\\\"label\\\"] = labels\";\n",
       "                var nbb_formatted_code = \"kmed_cluster_df = binary_df.copy()\\nkmed_cluster_df[\\\"label\\\"] = labels\";\n",
       "                var nbb_cells = Jupyter.notebook.get_cells();\n",
       "                for (var i = 0; i < nbb_cells.length; ++i) {\n",
       "                    if (nbb_cells[i].input_prompt_number == nbb_cell_id) {\n",
       "                        if (nbb_cells[i].get_text() == nbb_unformatted_code) {\n",
       "                             nbb_cells[i].set_text(nbb_formatted_code);\n",
       "                        }\n",
       "                        break;\n",
       "                    }\n",
       "                }\n",
       "            }, 500);\n",
       "            "
      ],
      "text/plain": [
       "<IPython.core.display.Javascript object>"
      ]
     },
     "metadata": {},
     "output_type": "display_data"
    }
   ],
   "source": [
    "kmed_cluster_df = binary_df.copy()\n",
    "kmed_cluster_df[\"label\"] = labels"
   ]
  },
  {
   "cell_type": "code",
   "execution_count": 148,
   "metadata": {},
   "outputs": [
    {
     "data": {
      "text/plain": [
       "0    2055\n",
       "1    1819\n",
       "2    1069\n",
       "Name: label, dtype: int64"
      ]
     },
     "execution_count": 148,
     "metadata": {},
     "output_type": "execute_result"
    },
    {
     "data": {
      "application/javascript": [
       "\n",
       "            setTimeout(function() {\n",
       "                var nbb_cell_id = 148;\n",
       "                var nbb_unformatted_code = \"kmed_cluster_df[\\\"label\\\"].value_counts()\";\n",
       "                var nbb_formatted_code = \"kmed_cluster_df[\\\"label\\\"].value_counts()\";\n",
       "                var nbb_cells = Jupyter.notebook.get_cells();\n",
       "                for (var i = 0; i < nbb_cells.length; ++i) {\n",
       "                    if (nbb_cells[i].input_prompt_number == nbb_cell_id) {\n",
       "                        if (nbb_cells[i].get_text() == nbb_unformatted_code) {\n",
       "                             nbb_cells[i].set_text(nbb_formatted_code);\n",
       "                        }\n",
       "                        break;\n",
       "                    }\n",
       "                }\n",
       "            }, 500);\n",
       "            "
      ],
      "text/plain": [
       "<IPython.core.display.Javascript object>"
      ]
     },
     "metadata": {},
     "output_type": "display_data"
    }
   ],
   "source": [
    "kmed_cluster_df[\"label\"].value_counts()"
   ]
  },
  {
   "cell_type": "code",
   "execution_count": 149,
   "metadata": {},
   "outputs": [
    {
     "data": {
      "image/png": "[encoded data removed]",
      "text/plain": [
       "<Figure size 432x288 with 1 Axes>"
      ]
     },
     "metadata": {
      "needs_background": "light"
     },
     "output_type": "display_data"
    },
    {
     "data": {
      "application/javascript": [
       "\n",
       "            setTimeout(function() {\n",
       "                var nbb_cell_id = 149;\n",
       "                var nbb_unformatted_code = \"sns.barplot(x=\\\"label\\\", y=\\\"AdoptionSpeed\\\", data=kmed_cluster_df)\\nplt.show()\";\n",
       "                var nbb_formatted_code = \"sns.barplot(x=\\\"label\\\", y=\\\"AdoptionSpeed\\\", data=kmed_cluster_df)\\nplt.show()\";\n",
       "                var nbb_cells = Jupyter.notebook.get_cells();\n",
       "                for (var i = 0; i < nbb_cells.length; ++i) {\n",
       "                    if (nbb_cells[i].input_prompt_number == nbb_cell_id) {\n",
       "                        if (nbb_cells[i].get_text() == nbb_unformatted_code) {\n",
       "                             nbb_cells[i].set_text(nbb_formatted_code);\n",
       "                        }\n",
       "                        break;\n",
       "                    }\n",
       "                }\n",
       "            }, 500);\n",
       "            "
      ],
      "text/plain": [
       "<IPython.core.display.Javascript object>"
      ]
     },
     "metadata": {},
     "output_type": "display_data"
    }
   ],
   "source": [
    "sns.barplot(x=\"label\", y=\"AdoptionSpeed\", data=kmed_cluster_df)\n",
    "plt.show()"
   ]
  },
  {
   "cell_type": "code",
   "execution_count": 150,
   "metadata": {},
   "outputs": [
    {
     "data": {
      "application/javascript": [
       "\n",
       "            setTimeout(function() {\n",
       "                var nbb_cell_id = 150;\n",
       "                var nbb_unformatted_code = \"# plot_cols = kitty_df.columns[:-1]\\n#\\n# for col in plot_cols:\\n#     sns.barplot(x=\\\"label\\\", y=col, data=kitty_df)\\n#     plt.show()\";\n",
       "                var nbb_formatted_code = \"# plot_cols = kitty_df.columns[:-1]\\n#\\n# for col in plot_cols:\\n#     sns.barplot(x=\\\"label\\\", y=col, data=kitty_df)\\n#     plt.show()\";\n",
       "                var nbb_cells = Jupyter.notebook.get_cells();\n",
       "                for (var i = 0; i < nbb_cells.length; ++i) {\n",
       "                    if (nbb_cells[i].input_prompt_number == nbb_cell_id) {\n",
       "                        if (nbb_cells[i].get_text() == nbb_unformatted_code) {\n",
       "                             nbb_cells[i].set_text(nbb_formatted_code);\n",
       "                        }\n",
       "                        break;\n",
       "                    }\n",
       "                }\n",
       "            }, 500);\n",
       "            "
      ],
      "text/plain": [
       "<IPython.core.display.Javascript object>"
      ]
     },
     "metadata": {},
     "output_type": "display_data"
    }
   ],
   "source": [
    "# plot_cols = kitty_df.columns[:-1]\n",
    "#\n",
    "# for col in plot_cols:\n",
    "#     sns.barplot(x=\"label\", y=col, data=kitty_df)\n",
    "#     plt.show()"
   ]
  },
  {
   "cell_type": "code",
   "execution_count": 151,
   "metadata": {},
   "outputs": [
    {
     "data": {
      "application/javascript": [
       "\n",
       "            setTimeout(function() {\n",
       "                var nbb_cell_id = 151;\n",
       "                var nbb_unformatted_code = \"mean_cluster_df = kmed_cluster_df.groupby(\\\"label\\\").mean()\\n# mean_cluster_df.sort_values(\\\"label\\\").style.background_gradient()\";\n",
       "                var nbb_formatted_code = \"mean_cluster_df = kmed_cluster_df.groupby(\\\"label\\\").mean()\\n# mean_cluster_df.sort_values(\\\"label\\\").style.background_gradient()\";\n",
       "                var nbb_cells = Jupyter.notebook.get_cells();\n",
       "                for (var i = 0; i < nbb_cells.length; ++i) {\n",
       "                    if (nbb_cells[i].input_prompt_number == nbb_cell_id) {\n",
       "                        if (nbb_cells[i].get_text() == nbb_unformatted_code) {\n",
       "                             nbb_cells[i].set_text(nbb_formatted_code);\n",
       "                        }\n",
       "                        break;\n",
       "                    }\n",
       "                }\n",
       "            }, 500);\n",
       "            "
      ],
      "text/plain": [
       "<IPython.core.display.Javascript object>"
      ]
     },
     "metadata": {},
     "output_type": "display_data"
    }
   ],
   "source": [
    "mean_cluster_df = kmed_cluster_df.groupby(\"label\").mean()\n",
    "# mean_cluster_df.sort_values(\"label\").style.background_gradient()"
   ]
  },
  {
   "cell_type": "code",
   "execution_count": 152,
   "metadata": {},
   "outputs": [
    {
     "data": {
      "text/html": [
       "<style  type=\"text/css\" >\n",
       "    #T_7e91947c_a15b_11ea_b95b_88e9fe555610row0_col0 {\n",
       "            background-color:  #fff7fb;\n",
       "            color:  #000000;\n",
       "        }    #T_7e91947c_a15b_11ea_b95b_88e9fe555610row0_col1 {\n",
       "            background-color:  #dfddec;\n",
       "            color:  #000000;\n",
       "        }    #T_7e91947c_a15b_11ea_b95b_88e9fe555610row0_col2 {\n",
       "            background-color:  #023858;\n",
       "            color:  #f1f1f1;\n",
       "        }    #T_7e91947c_a15b_11ea_b95b_88e9fe555610row0_col3 {\n",
       "            background-color:  #0a73b2;\n",
       "            color:  #f1f1f1;\n",
       "        }    #T_7e91947c_a15b_11ea_b95b_88e9fe555610row0_col4 {\n",
       "            background-color:  #c9cee4;\n",
       "            color:  #000000;\n",
       "        }    #T_7e91947c_a15b_11ea_b95b_88e9fe555610row1_col0 {\n",
       "            background-color:  #dbdaeb;\n",
       "            color:  #000000;\n",
       "        }    #T_7e91947c_a15b_11ea_b95b_88e9fe555610row1_col1 {\n",
       "            background-color:  #023858;\n",
       "            color:  #f1f1f1;\n",
       "        }    #T_7e91947c_a15b_11ea_b95b_88e9fe555610row1_col2 {\n",
       "            background-color:  #fff7fb;\n",
       "            color:  #000000;\n",
       "        }    #T_7e91947c_a15b_11ea_b95b_88e9fe555610row1_col3 {\n",
       "            background-color:  #023858;\n",
       "            color:  #f1f1f1;\n",
       "        }    #T_7e91947c_a15b_11ea_b95b_88e9fe555610row1_col4 {\n",
       "            background-color:  #65a3cb;\n",
       "            color:  #000000;\n",
       "        }    #T_7e91947c_a15b_11ea_b95b_88e9fe555610row2_col0 {\n",
       "            background-color:  #023858;\n",
       "            color:  #f1f1f1;\n",
       "        }    #T_7e91947c_a15b_11ea_b95b_88e9fe555610row2_col1 {\n",
       "            background-color:  #f7f0f7;\n",
       "            color:  #000000;\n",
       "        }    #T_7e91947c_a15b_11ea_b95b_88e9fe555610row2_col2 {\n",
       "            background-color:  #fef6fa;\n",
       "            color:  #000000;\n",
       "        }    #T_7e91947c_a15b_11ea_b95b_88e9fe555610row2_col3 {\n",
       "            background-color:  #8fb4d6;\n",
       "            color:  #000000;\n",
       "        }    #T_7e91947c_a15b_11ea_b95b_88e9fe555610row2_col4 {\n",
       "            background-color:  #fff7fb;\n",
       "            color:  #000000;\n",
       "        }    #T_7e91947c_a15b_11ea_b95b_88e9fe555610row3_col0 {\n",
       "            background-color:  #023f64;\n",
       "            color:  #f1f1f1;\n",
       "        }    #T_7e91947c_a15b_11ea_b95b_88e9fe555610row3_col1 {\n",
       "            background-color:  #046198;\n",
       "            color:  #f1f1f1;\n",
       "        }    #T_7e91947c_a15b_11ea_b95b_88e9fe555610row3_col2 {\n",
       "            background-color:  #023858;\n",
       "            color:  #f1f1f1;\n",
       "        }    #T_7e91947c_a15b_11ea_b95b_88e9fe555610row3_col3 {\n",
       "            background-color:  #f4edf6;\n",
       "            color:  #000000;\n",
       "        }    #T_7e91947c_a15b_11ea_b95b_88e9fe555610row3_col4 {\n",
       "            background-color:  #fff7fb;\n",
       "            color:  #000000;\n",
       "        }    #T_7e91947c_a15b_11ea_b95b_88e9fe555610row4_col0 {\n",
       "            background-color:  #023858;\n",
       "            color:  #f1f1f1;\n",
       "        }    #T_7e91947c_a15b_11ea_b95b_88e9fe555610row4_col1 {\n",
       "            background-color:  #96b6d7;\n",
       "            color:  #000000;\n",
       "        }    #T_7e91947c_a15b_11ea_b95b_88e9fe555610row4_col2 {\n",
       "            background-color:  #b9c6e0;\n",
       "            color:  #000000;\n",
       "        }    #T_7e91947c_a15b_11ea_b95b_88e9fe555610row4_col3 {\n",
       "            background-color:  #bbc7e0;\n",
       "            color:  #000000;\n",
       "        }    #T_7e91947c_a15b_11ea_b95b_88e9fe555610row4_col4 {\n",
       "            background-color:  #fff7fb;\n",
       "            color:  #000000;\n",
       "        }    #T_7e91947c_a15b_11ea_b95b_88e9fe555610row5_col0 {\n",
       "            background-color:  #fff7fb;\n",
       "            color:  #000000;\n",
       "        }    #T_7e91947c_a15b_11ea_b95b_88e9fe555610row5_col1 {\n",
       "            background-color:  #023858;\n",
       "            color:  #f1f1f1;\n",
       "        }    #T_7e91947c_a15b_11ea_b95b_88e9fe555610row5_col2 {\n",
       "            background-color:  #d1d2e6;\n",
       "            color:  #000000;\n",
       "        }    #T_7e91947c_a15b_11ea_b95b_88e9fe555610row5_col3 {\n",
       "            background-color:  #4697c4;\n",
       "            color:  #000000;\n",
       "        }    #T_7e91947c_a15b_11ea_b95b_88e9fe555610row5_col4 {\n",
       "            background-color:  #eee9f3;\n",
       "            color:  #000000;\n",
       "        }    #T_7e91947c_a15b_11ea_b95b_88e9fe555610row6_col0 {\n",
       "            background-color:  #023858;\n",
       "            color:  #f1f1f1;\n",
       "        }    #T_7e91947c_a15b_11ea_b95b_88e9fe555610row6_col1 {\n",
       "            background-color:  #045585;\n",
       "            color:  #f1f1f1;\n",
       "        }    #T_7e91947c_a15b_11ea_b95b_88e9fe555610row6_col2 {\n",
       "            background-color:  #023c5f;\n",
       "            color:  #f1f1f1;\n",
       "        }    #T_7e91947c_a15b_11ea_b95b_88e9fe555610row6_col3 {\n",
       "            background-color:  #f8f1f8;\n",
       "            color:  #000000;\n",
       "        }    #T_7e91947c_a15b_11ea_b95b_88e9fe555610row6_col4 {\n",
       "            background-color:  #fff7fb;\n",
       "            color:  #000000;\n",
       "        }    #T_7e91947c_a15b_11ea_b95b_88e9fe555610row7_col0 {\n",
       "            background-color:  #fff7fb;\n",
       "            color:  #000000;\n",
       "        }    #T_7e91947c_a15b_11ea_b95b_88e9fe555610row7_col1 {\n",
       "            background-color:  #023858;\n",
       "            color:  #f1f1f1;\n",
       "        }    #T_7e91947c_a15b_11ea_b95b_88e9fe555610row7_col2 {\n",
       "            background-color:  #dcdaeb;\n",
       "            color:  #000000;\n",
       "        }    #T_7e91947c_a15b_11ea_b95b_88e9fe555610row7_col3 {\n",
       "            background-color:  #5a9ec9;\n",
       "            color:  #000000;\n",
       "        }    #T_7e91947c_a15b_11ea_b95b_88e9fe555610row7_col4 {\n",
       "            background-color:  #f2ecf5;\n",
       "            color:  #000000;\n",
       "        }    #T_7e91947c_a15b_11ea_b95b_88e9fe555610row8_col0 {\n",
       "            background-color:  #0c74b2;\n",
       "            color:  #f1f1f1;\n",
       "        }    #T_7e91947c_a15b_11ea_b95b_88e9fe555610row8_col1 {\n",
       "            background-color:  #045c90;\n",
       "            color:  #f1f1f1;\n",
       "        }    #T_7e91947c_a15b_11ea_b95b_88e9fe555610row8_col2 {\n",
       "            background-color:  #023858;\n",
       "            color:  #f1f1f1;\n",
       "        }    #T_7e91947c_a15b_11ea_b95b_88e9fe555610row8_col3 {\n",
       "            background-color:  #eae6f1;\n",
       "            color:  #000000;\n",
       "        }    #T_7e91947c_a15b_11ea_b95b_88e9fe555610row8_col4 {\n",
       "            background-color:  #fff7fb;\n",
       "            color:  #000000;\n",
       "        }    #T_7e91947c_a15b_11ea_b95b_88e9fe555610row9_col0 {\n",
       "            background-color:  #fff7fb;\n",
       "            color:  #000000;\n",
       "        }    #T_7e91947c_a15b_11ea_b95b_88e9fe555610row9_col1 {\n",
       "            background-color:  #023858;\n",
       "            color:  #f1f1f1;\n",
       "        }    #T_7e91947c_a15b_11ea_b95b_88e9fe555610row9_col2 {\n",
       "            background-color:  #4697c4;\n",
       "            color:  #000000;\n",
       "        }    #T_7e91947c_a15b_11ea_b95b_88e9fe555610row9_col3 {\n",
       "            background-color:  #60a1ca;\n",
       "            color:  #000000;\n",
       "        }    #T_7e91947c_a15b_11ea_b95b_88e9fe555610row9_col4 {\n",
       "            background-color:  #f8f1f8;\n",
       "            color:  #000000;\n",
       "        }    #T_7e91947c_a15b_11ea_b95b_88e9fe555610row10_col0 {\n",
       "            background-color:  #023858;\n",
       "            color:  #f1f1f1;\n",
       "        }    #T_7e91947c_a15b_11ea_b95b_88e9fe555610row10_col1 {\n",
       "            background-color:  #034369;\n",
       "            color:  #f1f1f1;\n",
       "        }    #T_7e91947c_a15b_11ea_b95b_88e9fe555610row10_col2 {\n",
       "            background-color:  #034369;\n",
       "            color:  #f1f1f1;\n",
       "        }    #T_7e91947c_a15b_11ea_b95b_88e9fe555610row10_col3 {\n",
       "            background-color:  #fdf5fa;\n",
       "            color:  #000000;\n",
       "        }    #T_7e91947c_a15b_11ea_b95b_88e9fe555610row10_col4 {\n",
       "            background-color:  #fff7fb;\n",
       "            color:  #000000;\n",
       "        }    #T_7e91947c_a15b_11ea_b95b_88e9fe555610row11_col0 {\n",
       "            background-color:  #023858;\n",
       "            color:  #f1f1f1;\n",
       "        }    #T_7e91947c_a15b_11ea_b95b_88e9fe555610row11_col1 {\n",
       "            background-color:  #023d60;\n",
       "            color:  #f1f1f1;\n",
       "        }    #T_7e91947c_a15b_11ea_b95b_88e9fe555610row11_col2 {\n",
       "            background-color:  #023a5b;\n",
       "            color:  #f1f1f1;\n",
       "        }    #T_7e91947c_a15b_11ea_b95b_88e9fe555610row11_col3 {\n",
       "            background-color:  #fef6fa;\n",
       "            color:  #000000;\n",
       "        }    #T_7e91947c_a15b_11ea_b95b_88e9fe555610row11_col4 {\n",
       "            background-color:  #fff7fb;\n",
       "            color:  #000000;\n",
       "        }</style><table id=\"T_7e91947c_a15b_11ea_b95b_88e9fe555610\" ><thead>    <tr>        <th class=\"index_name level0\" >label</th>        <th class=\"col_heading level0 col0\" >0</th>        <th class=\"col_heading level0 col1\" >1</th>        <th class=\"col_heading level0 col2\" >2</th>        <th class=\"col_heading level0 col3\" >range</th>        <th class=\"col_heading level0 col4\" >sd</th>    </tr></thead><tbody>\n",
       "                <tr>\n",
       "                        <th id=\"T_7e91947c_a15b_11ea_b95b_88e9fe555610level0_row0\" class=\"row_heading level0 row0\" >is_bicolor</th>\n",
       "                        <td id=\"T_7e91947c_a15b_11ea_b95b_88e9fe555610row0_col0\" class=\"data row0 col0\" >0.207786</td>\n",
       "                        <td id=\"T_7e91947c_a15b_11ea_b95b_88e9fe555610row0_col1\" class=\"data row0 col1\" >0.354590</td>\n",
       "                        <td id=\"T_7e91947c_a15b_11ea_b95b_88e9fe555610row0_col2\" class=\"data row0 col2\" >1.000000</td>\n",
       "                        <td id=\"T_7e91947c_a15b_11ea_b95b_88e9fe555610row0_col3\" class=\"data row0 col3\" >0.792214</td>\n",
       "                        <td id=\"T_7e91947c_a15b_11ea_b95b_88e9fe555610row0_col4\" class=\"data row0 col4\" >0.421448</td>\n",
       "            </tr>\n",
       "            <tr>\n",
       "                        <th id=\"T_7e91947c_a15b_11ea_b95b_88e9fe555610level0_row1\" class=\"row_heading level0 row1\" >is_young</th>\n",
       "                        <td id=\"T_7e91947c_a15b_11ea_b95b_88e9fe555610row1_col0\" class=\"data row1 col0\" >0.146472</td>\n",
       "                        <td id=\"T_7e91947c_a15b_11ea_b95b_88e9fe555610row1_col1\" class=\"data row1 col1\" >0.731171</td>\n",
       "                        <td id=\"T_7e91947c_a15b_11ea_b95b_88e9fe555610row1_col2\" class=\"data row1 col2\" >0.000000</td>\n",
       "                        <td id=\"T_7e91947c_a15b_11ea_b95b_88e9fe555610row1_col3\" class=\"data row1 col3\" >0.731171</td>\n",
       "                        <td id=\"T_7e91947c_a15b_11ea_b95b_88e9fe555610row1_col4\" class=\"data row1 col4\" >0.386854</td>\n",
       "            </tr>\n",
       "            <tr>\n",
       "                        <th id=\"T_7e91947c_a15b_11ea_b95b_88e9fe555610level0_row2\" class=\"row_heading level0 row2\" >is_female</th>\n",
       "                        <td id=\"T_7e91947c_a15b_11ea_b95b_88e9fe555610row2_col0\" class=\"data row2 col0\" >0.841849</td>\n",
       "                        <td id=\"T_7e91947c_a15b_11ea_b95b_88e9fe555610row2_col1\" class=\"data row2 col1\" >0.331501</td>\n",
       "                        <td id=\"T_7e91947c_a15b_11ea_b95b_88e9fe555610row2_col2\" class=\"data row2 col2\" >0.307764</td>\n",
       "                        <td id=\"T_7e91947c_a15b_11ea_b95b_88e9fe555610row2_col3\" class=\"data row2 col3\" >0.534085</td>\n",
       "                        <td id=\"T_7e91947c_a15b_11ea_b95b_88e9fe555610row2_col4\" class=\"data row2 col4\" >0.301735</td>\n",
       "            </tr>\n",
       "            <tr>\n",
       "                        <th id=\"T_7e91947c_a15b_11ea_b95b_88e9fe555610level0_row3\" class=\"row_heading level0 row3\" >AdoptionSpeed</th>\n",
       "                        <td id=\"T_7e91947c_a15b_11ea_b95b_88e9fe555610row3_col0\" class=\"data row3 col0\" >2.460827</td>\n",
       "                        <td id=\"T_7e91947c_a15b_11ea_b95b_88e9fe555610row3_col1\" class=\"data row3 col1\" >2.140187</td>\n",
       "                        <td id=\"T_7e91947c_a15b_11ea_b95b_88e9fe555610row3_col2\" class=\"data row3 col2\" >2.528531</td>\n",
       "                        <td id=\"T_7e91947c_a15b_11ea_b95b_88e9fe555610row3_col3\" class=\"data row3 col3\" >0.388344</td>\n",
       "                        <td id=\"T_7e91947c_a15b_11ea_b95b_88e9fe555610row3_col4\" class=\"data row3 col4\" >0.207447</td>\n",
       "            </tr>\n",
       "            <tr>\n",
       "                        <th id=\"T_7e91947c_a15b_11ea_b95b_88e9fe555610level0_row4\" class=\"row_heading level0 row4\" >is_selangor</th>\n",
       "                        <td id=\"T_7e91947c_a15b_11ea_b95b_88e9fe555610row4_col0\" class=\"data row4 col0\" >0.767883</td>\n",
       "                        <td id=\"T_7e91947c_a15b_11ea_b95b_88e9fe555610row4_col1\" class=\"data row4 col1\" >0.439802</td>\n",
       "                        <td id=\"T_7e91947c_a15b_11ea_b95b_88e9fe555610row4_col2\" class=\"data row4 col2\" >0.385407</td>\n",
       "                        <td id=\"T_7e91947c_a15b_11ea_b95b_88e9fe555610row4_col3\" class=\"data row4 col3\" >0.382476</td>\n",
       "                        <td id=\"T_7e91947c_a15b_11ea_b95b_88e9fe555610row4_col4\" class=\"data row4 col4\" >0.206916</td>\n",
       "            </tr>\n",
       "            <tr>\n",
       "                        <th id=\"T_7e91947c_a15b_11ea_b95b_88e9fe555610level0_row5\" class=\"row_heading level0 row5\" >is_top_10_rescue</th>\n",
       "                        <td id=\"T_7e91947c_a15b_11ea_b95b_88e9fe555610row5_col0\" class=\"data row5 col0\" >0.044282</td>\n",
       "                        <td id=\"T_7e91947c_a15b_11ea_b95b_88e9fe555610row5_col1\" class=\"data row5 col1\" >0.152281</td>\n",
       "                        <td id=\"T_7e91947c_a15b_11ea_b95b_88e9fe555610row5_col2\" class=\"data row5 col2\" >0.071094</td>\n",
       "                        <td id=\"T_7e91947c_a15b_11ea_b95b_88e9fe555610row5_col3\" class=\"data row5 col3\" >0.107999</td>\n",
       "                        <td id=\"T_7e91947c_a15b_11ea_b95b_88e9fe555610row5_col4\" class=\"data row5 col4\" >0.056235</td>\n",
       "            </tr>\n",
       "            <tr>\n",
       "                        <th id=\"T_7e91947c_a15b_11ea_b95b_88e9fe555610level0_row6\" class=\"row_heading level0 row6\" >has_name</th>\n",
       "                        <td id=\"T_7e91947c_a15b_11ea_b95b_88e9fe555610row6_col0\" class=\"data row6 col0\" >0.963504</td>\n",
       "                        <td id=\"T_7e91947c_a15b_11ea_b95b_88e9fe555610row6_col1\" class=\"data row6 col1\" >0.865860</td>\n",
       "                        <td id=\"T_7e91947c_a15b_11ea_b95b_88e9fe555610row6_col2\" class=\"data row6 col2\" >0.945744</td>\n",
       "                        <td id=\"T_7e91947c_a15b_11ea_b95b_88e9fe555610row6_col3\" class=\"data row6 col3\" >0.097643</td>\n",
       "                        <td id=\"T_7e91947c_a15b_11ea_b95b_88e9fe555610row6_col4\" class=\"data row6 col4\" >0.052011</td>\n",
       "            </tr>\n",
       "            <tr>\n",
       "                        <th id=\"T_7e91947c_a15b_11ea_b95b_88e9fe555610level0_row7\" class=\"row_heading level0 row7\" >is_videoed</th>\n",
       "                        <td id=\"T_7e91947c_a15b_11ea_b95b_88e9fe555610row7_col0\" class=\"data row7 col0\" >0.021411</td>\n",
       "                        <td id=\"T_7e91947c_a15b_11ea_b95b_88e9fe555610row7_col1\" class=\"data row7 col1\" >0.069269</td>\n",
       "                        <td id=\"T_7e91947c_a15b_11ea_b95b_88e9fe555610row7_col2\" class=\"data row7 col2\" >0.030870</td>\n",
       "                        <td id=\"T_7e91947c_a15b_11ea_b95b_88e9fe555610row7_col3\" class=\"data row7 col3\" >0.047858</td>\n",
       "                        <td id=\"T_7e91947c_a15b_11ea_b95b_88e9fe555610row7_col4\" class=\"data row7 col4\" >0.025345</td>\n",
       "            </tr>\n",
       "            <tr>\n",
       "                        <th id=\"T_7e91947c_a15b_11ea_b95b_88e9fe555610level0_row8\" class=\"row_heading level0 row8\" >is_pure_bred</th>\n",
       "                        <td id=\"T_7e91947c_a15b_11ea_b95b_88e9fe555610row8_col0\" class=\"data row8 col0\" >0.127007</td>\n",
       "                        <td id=\"T_7e91947c_a15b_11ea_b95b_88e9fe555610row8_col1\" class=\"data row8 col1\" >0.146234</td>\n",
       "                        <td id=\"T_7e91947c_a15b_11ea_b95b_88e9fe555610row8_col2\" class=\"data row8 col2\" >0.166511</td>\n",
       "                        <td id=\"T_7e91947c_a15b_11ea_b95b_88e9fe555610row8_col3\" class=\"data row8 col3\" >0.039503</td>\n",
       "                        <td id=\"T_7e91947c_a15b_11ea_b95b_88e9fe555610row8_col4\" class=\"data row8 col4\" >0.019754</td>\n",
       "            </tr>\n",
       "            <tr>\n",
       "                        <th id=\"T_7e91947c_a15b_11ea_b95b_88e9fe555610level0_row9\" class=\"row_heading level0 row9\" >is_injured</th>\n",
       "                        <td id=\"T_7e91947c_a15b_11ea_b95b_88e9fe555610row9_col0\" class=\"data row9 col0\" >0.018005</td>\n",
       "                        <td id=\"T_7e91947c_a15b_11ea_b95b_88e9fe555610row9_col1\" class=\"data row9 col1\" >0.057174</td>\n",
       "                        <td id=\"T_7e91947c_a15b_11ea_b95b_88e9fe555610row9_col2\" class=\"data row9 col2\" >0.041160</td>\n",
       "                        <td id=\"T_7e91947c_a15b_11ea_b95b_88e9fe555610row9_col3\" class=\"data row9 col3\" >0.039169</td>\n",
       "                        <td id=\"T_7e91947c_a15b_11ea_b95b_88e9fe555610row9_col4\" class=\"data row9 col4\" >0.019693</td>\n",
       "            </tr>\n",
       "            <tr>\n",
       "                        <th id=\"T_7e91947c_a15b_11ea_b95b_88e9fe555610level0_row10\" class=\"row_heading level0 row10\" >is_free</th>\n",
       "                        <td id=\"T_7e91947c_a15b_11ea_b95b_88e9fe555610row10_col0\" class=\"data row10 col0\" >0.832603</td>\n",
       "                        <td id=\"T_7e91947c_a15b_11ea_b95b_88e9fe555610row10_col1\" class=\"data row10 col1\" >0.798791</td>\n",
       "                        <td id=\"T_7e91947c_a15b_11ea_b95b_88e9fe555610row10_col2\" class=\"data row10 col2\" >0.797942</td>\n",
       "                        <td id=\"T_7e91947c_a15b_11ea_b95b_88e9fe555610row10_col3\" class=\"data row10 col3\" >0.034661</td>\n",
       "                        <td id=\"T_7e91947c_a15b_11ea_b95b_88e9fe555610row10_col4\" class=\"data row10 col4\" >0.019771</td>\n",
       "            </tr>\n",
       "            <tr>\n",
       "                        <th id=\"T_7e91947c_a15b_11ea_b95b_88e9fe555610level0_row11\" class=\"row_heading level0 row11\" >has_photo</th>\n",
       "                        <td id=\"T_7e91947c_a15b_11ea_b95b_88e9fe555610row11_col0\" class=\"data row11 col0\" >0.992701</td>\n",
       "                        <td id=\"T_7e91947c_a15b_11ea_b95b_88e9fe555610row11_col1\" class=\"data row11 col1\" >0.969764</td>\n",
       "                        <td id=\"T_7e91947c_a15b_11ea_b95b_88e9fe555610row11_col2\" class=\"data row11 col2\" >0.984097</td>\n",
       "                        <td id=\"T_7e91947c_a15b_11ea_b95b_88e9fe555610row11_col3\" class=\"data row11 col3\" >0.022937</td>\n",
       "                        <td id=\"T_7e91947c_a15b_11ea_b95b_88e9fe555610row11_col4\" class=\"data row11 col4\" >0.011587</td>\n",
       "            </tr>\n",
       "    </tbody></table>"
      ],
      "text/plain": [
       "<pandas.io.formats.style.Styler at 0x1a54acb650>"
      ]
     },
     "execution_count": 152,
     "metadata": {},
     "output_type": "execute_result"
    },
    {
     "data": {
      "application/javascript": [
       "\n",
       "            setTimeout(function() {\n",
       "                var nbb_cell_id = 152;\n",
       "                var nbb_unformatted_code = \"clst_t = mean_cluster_df.T\\n\\nclst_t_range = clst_t.max(axis=1) - clst_t.min(axis=1)\\nclst_t_sd = clst_t.std(axis=1)\\n\\nclst_t[\\\"range\\\"] = clst_t_range\\nclst_t[\\\"sd\\\"] = clst_t_sd\\nclst_t.sort_values(\\\"range\\\", ascending=False).style.background_gradient(axis=1)\";\n",
       "                var nbb_formatted_code = \"clst_t = mean_cluster_df.T\\n\\nclst_t_range = clst_t.max(axis=1) - clst_t.min(axis=1)\\nclst_t_sd = clst_t.std(axis=1)\\n\\nclst_t[\\\"range\\\"] = clst_t_range\\nclst_t[\\\"sd\\\"] = clst_t_sd\\nclst_t.sort_values(\\\"range\\\", ascending=False).style.background_gradient(axis=1)\";\n",
       "                var nbb_cells = Jupyter.notebook.get_cells();\n",
       "                for (var i = 0; i < nbb_cells.length; ++i) {\n",
       "                    if (nbb_cells[i].input_prompt_number == nbb_cell_id) {\n",
       "                        if (nbb_cells[i].get_text() == nbb_unformatted_code) {\n",
       "                             nbb_cells[i].set_text(nbb_formatted_code);\n",
       "                        }\n",
       "                        break;\n",
       "                    }\n",
       "                }\n",
       "            }, 500);\n",
       "            "
      ],
      "text/plain": [
       "<IPython.core.display.Javascript object>"
      ]
     },
     "metadata": {},
     "output_type": "display_data"
    }
   ],
   "source": [
    "clst_t = mean_cluster_df.T\n",
    "\n",
    "clst_t_range = clst_t.max(axis=1) - clst_t.min(axis=1)\n",
    "clst_t_sd = clst_t.std(axis=1)\n",
    "\n",
    "clst_t[\"range\"] = clst_t_range\n",
    "clst_t[\"sd\"] = clst_t_sd\n",
    "clst_t.sort_values(\"range\", ascending=False).style.background_gradient(axis=1)"
   ]
  },
  {
   "cell_type": "code",
   "execution_count": 217,
   "metadata": {},
   "outputs": [
    {
     "data": {
      "text/plain": [
       "0.19595020836191343"
      ]
     },
     "execution_count": 217,
     "metadata": {},
     "output_type": "execute_result"
    },
    {
     "data": {
      "application/javascript": [
       "\n",
       "            setTimeout(function() {\n",
       "                var nbb_cell_id = 217;\n",
       "                var nbb_unformatted_code = \"sscore = silhouette_score(dist_mat, labels, metric=\\\"precomputed\\\")\\nsscore\";\n",
       "                var nbb_formatted_code = \"sscore = silhouette_score(dist_mat, labels, metric=\\\"precomputed\\\")\\nsscore\";\n",
       "                var nbb_cells = Jupyter.notebook.get_cells();\n",
       "                for (var i = 0; i < nbb_cells.length; ++i) {\n",
       "                    if (nbb_cells[i].input_prompt_number == nbb_cell_id) {\n",
       "                        if (nbb_cells[i].get_text() == nbb_unformatted_code) {\n",
       "                             nbb_cells[i].set_text(nbb_formatted_code);\n",
       "                        }\n",
       "                        break;\n",
       "                    }\n",
       "                }\n",
       "            }, 500);\n",
       "            "
      ],
      "text/plain": [
       "<IPython.core.display.Javascript object>"
      ]
     },
     "metadata": {},
     "output_type": "display_data"
    }
   ],
   "source": [
    "sscore = silhouette_score(dist_mat, labels, metric=\"precomputed\")\n",
    "sscore"
   ]
  },
  {
   "cell_type": "markdown",
   "metadata": {},
   "source": [
    "The silhouette score is pretty bad, but that might not be the best evaluation of the clustering.  Let's try some other methods of clustering to compare."
   ]
  },
  {
   "cell_type": "markdown",
   "metadata": {},
   "source": [
    "### DBSCAN"
   ]
  },
  {
   "cell_type": "code",
   "execution_count": 237,
   "metadata": {},
   "outputs": [
    {
     "data": {
      "application/javascript": [
       "\n",
       "            setTimeout(function() {\n",
       "                var nbb_cell_id = 237;\n",
       "                var nbb_unformatted_code = \"# Defining the agglomerative clustering\\ndbscan_cluster = DBSCAN(eps=0.11, min_samples=12, metric=\\\"precomputed\\\")\\n\\n# Fit model\\nclusters = dbscan_cluster.fit_predict(dist_mat)\";\n",
       "                var nbb_formatted_code = \"# Defining the agglomerative clustering\\ndbscan_cluster = DBSCAN(eps=0.11, min_samples=12, metric=\\\"precomputed\\\")\\n\\n# Fit model\\nclusters = dbscan_cluster.fit_predict(dist_mat)\";\n",
       "                var nbb_cells = Jupyter.notebook.get_cells();\n",
       "                for (var i = 0; i < nbb_cells.length; ++i) {\n",
       "                    if (nbb_cells[i].input_prompt_number == nbb_cell_id) {\n",
       "                        if (nbb_cells[i].get_text() == nbb_unformatted_code) {\n",
       "                             nbb_cells[i].set_text(nbb_formatted_code);\n",
       "                        }\n",
       "                        break;\n",
       "                    }\n",
       "                }\n",
       "            }, 500);\n",
       "            "
      ],
      "text/plain": [
       "<IPython.core.display.Javascript object>"
      ]
     },
     "metadata": {},
     "output_type": "display_data"
    }
   ],
   "source": [
    "# Defining the agglomerative clustering\n",
    "dbscan_cluster = DBSCAN(eps=0.11, min_samples=12, metric=\"precomputed\")\n",
    "\n",
    "# Fit model\n",
    "clusters = dbscan_cluster.fit_predict(dist_mat)"
   ]
  },
  {
   "cell_type": "code",
   "execution_count": 238,
   "metadata": {},
   "outputs": [
    {
     "data": {
      "text/plain": [
       "array([-1,  0])"
      ]
     },
     "execution_count": 238,
     "metadata": {},
     "output_type": "execute_result"
    },
    {
     "data": {
      "application/javascript": [
       "\n",
       "            setTimeout(function() {\n",
       "                var nbb_cell_id = 238;\n",
       "                var nbb_unformatted_code = \"b = np.unique(dbscan_cluster.labels_)\\nb\";\n",
       "                var nbb_formatted_code = \"b = np.unique(dbscan_cluster.labels_)\\nb\";\n",
       "                var nbb_cells = Jupyter.notebook.get_cells();\n",
       "                for (var i = 0; i < nbb_cells.length; ++i) {\n",
       "                    if (nbb_cells[i].input_prompt_number == nbb_cell_id) {\n",
       "                        if (nbb_cells[i].get_text() == nbb_unformatted_code) {\n",
       "                             nbb_cells[i].set_text(nbb_formatted_code);\n",
       "                        }\n",
       "                        break;\n",
       "                    }\n",
       "                }\n",
       "            }, 500);\n",
       "            "
      ],
      "text/plain": [
       "<IPython.core.display.Javascript object>"
      ]
     },
     "metadata": {},
     "output_type": "display_data"
    }
   ],
   "source": [
    "b = np.unique(dbscan_cluster.labels_)\n",
    "b"
   ]
  },
  {
   "cell_type": "code",
   "execution_count": 239,
   "metadata": {},
   "outputs": [
    {
     "name": "stdout",
     "output_type": "stream",
     "text": [
      "The silhouette score of the DBSCAN solution: 0.41688341004240126\n"
     ]
    },
    {
     "data": {
      "application/javascript": [
       "\n",
       "            setTimeout(function() {\n",
       "                var nbb_cell_id = 239;\n",
       "                var nbb_unformatted_code = \"print(\\n    \\\"The silhouette score of the DBSCAN solution: {}\\\".format(\\n        silhouette_score(dist_mat, clusters, metric=\\\"precomputed\\\")\\n    )\\n)\";\n",
       "                var nbb_formatted_code = \"print(\\n    \\\"The silhouette score of the DBSCAN solution: {}\\\".format(\\n        silhouette_score(dist_mat, clusters, metric=\\\"precomputed\\\")\\n    )\\n)\";\n",
       "                var nbb_cells = Jupyter.notebook.get_cells();\n",
       "                for (var i = 0; i < nbb_cells.length; ++i) {\n",
       "                    if (nbb_cells[i].input_prompt_number == nbb_cell_id) {\n",
       "                        if (nbb_cells[i].get_text() == nbb_unformatted_code) {\n",
       "                             nbb_cells[i].set_text(nbb_formatted_code);\n",
       "                        }\n",
       "                        break;\n",
       "                    }\n",
       "                }\n",
       "            }, 500);\n",
       "            "
      ],
      "text/plain": [
       "<IPython.core.display.Javascript object>"
      ]
     },
     "metadata": {},
     "output_type": "display_data"
    }
   ],
   "source": [
    "print(\n",
    "    \"The silhouette score of the DBSCAN solution: {}\".format(\n",
    "        silhouette_score(dist_mat, clusters, metric=\"precomputed\")\n",
    "    )\n",
    ")"
   ]
  },
  {
   "cell_type": "markdown",
   "metadata": {},
   "source": [
    "The silhouette score is better here, but we're only getting one cluster and some outliers.  Even with fiddling around with epsilon and min_samples, there is no combination of those that produce sensible clustering results.  I'm guessing the points aren't easily separable.\n",
    "\n",
    "Let's try one more method."
   ]
  },
  {
   "cell_type": "markdown",
   "metadata": {},
   "source": [
    "### Affinity Propagation"
   ]
  },
  {
   "cell_type": "code",
   "execution_count": 240,
   "metadata": {},
   "outputs": [
    {
     "name": "stdout",
     "output_type": "stream",
     "text": [
      "Converged after 88 iterations.\n"
     ]
    },
    {
     "data": {
      "text/plain": [
       "AffinityPropagation(affinity='precomputed', convergence_iter=15, copy=True,\n",
       "                    damping=0.999, max_iter=200, preference=None, verbose=1)"
      ]
     },
     "execution_count": 240,
     "metadata": {},
     "output_type": "execute_result"
    },
    {
     "data": {
      "application/javascript": [
       "\n",
       "            setTimeout(function() {\n",
       "                var nbb_cell_id = 240;\n",
       "                var nbb_unformatted_code = \"clst = AffinityPropagation(affinity=\\\"precomputed\\\", damping=0.999, verbose=1)\\nclst.fit(dist_mat)\";\n",
       "                var nbb_formatted_code = \"clst = AffinityPropagation(affinity=\\\"precomputed\\\", damping=0.999, verbose=1)\\nclst.fit(dist_mat)\";\n",
       "                var nbb_cells = Jupyter.notebook.get_cells();\n",
       "                for (var i = 0; i < nbb_cells.length; ++i) {\n",
       "                    if (nbb_cells[i].input_prompt_number == nbb_cell_id) {\n",
       "                        if (nbb_cells[i].get_text() == nbb_unformatted_code) {\n",
       "                             nbb_cells[i].set_text(nbb_formatted_code);\n",
       "                        }\n",
       "                        break;\n",
       "                    }\n",
       "                }\n",
       "            }, 500);\n",
       "            "
      ],
      "text/plain": [
       "<IPython.core.display.Javascript object>"
      ]
     },
     "metadata": {},
     "output_type": "display_data"
    }
   ],
   "source": [
    "clst = AffinityPropagation(affinity=\"precomputed\", damping=0.999, verbose=1)\n",
    "clst.fit(dist_mat)"
   ]
  },
  {
   "cell_type": "code",
   "execution_count": 241,
   "metadata": {},
   "outputs": [
    {
     "data": {
      "text/plain": [
       "array([0, 1, 2])"
      ]
     },
     "execution_count": 241,
     "metadata": {},
     "output_type": "execute_result"
    },
    {
     "data": {
      "application/javascript": [
       "\n",
       "            setTimeout(function() {\n",
       "                var nbb_cell_id = 241;\n",
       "                var nbb_unformatted_code = \"b = np.unique(clst.labels_)\\nb\";\n",
       "                var nbb_formatted_code = \"b = np.unique(clst.labels_)\\nb\";\n",
       "                var nbb_cells = Jupyter.notebook.get_cells();\n",
       "                for (var i = 0; i < nbb_cells.length; ++i) {\n",
       "                    if (nbb_cells[i].input_prompt_number == nbb_cell_id) {\n",
       "                        if (nbb_cells[i].get_text() == nbb_unformatted_code) {\n",
       "                             nbb_cells[i].set_text(nbb_formatted_code);\n",
       "                        }\n",
       "                        break;\n",
       "                    }\n",
       "                }\n",
       "            }, 500);\n",
       "            "
      ],
      "text/plain": [
       "<IPython.core.display.Javascript object>"
      ]
     },
     "metadata": {},
     "output_type": "display_data"
    }
   ],
   "source": [
    "b = np.unique(clst.labels_)\n",
    "b"
   ]
  },
  {
   "cell_type": "code",
   "execution_count": 242,
   "metadata": {},
   "outputs": [
    {
     "data": {
      "application/javascript": [
       "\n",
       "            setTimeout(function() {\n",
       "                var nbb_cell_id = 242;\n",
       "                var nbb_unformatted_code = \"ap_cluster_df = binary_df.copy()\\nap_cluster_df[\\\"label\\\"] = clst.labels_\\nap_cluster_df[\\\"label\\\"] = \\\"Cluster \\\" + ap_cluster_df[\\\"label\\\"].astype(str)\";\n",
       "                var nbb_formatted_code = \"ap_cluster_df = binary_df.copy()\\nap_cluster_df[\\\"label\\\"] = clst.labels_\\nap_cluster_df[\\\"label\\\"] = \\\"Cluster \\\" + ap_cluster_df[\\\"label\\\"].astype(str)\";\n",
       "                var nbb_cells = Jupyter.notebook.get_cells();\n",
       "                for (var i = 0; i < nbb_cells.length; ++i) {\n",
       "                    if (nbb_cells[i].input_prompt_number == nbb_cell_id) {\n",
       "                        if (nbb_cells[i].get_text() == nbb_unformatted_code) {\n",
       "                             nbb_cells[i].set_text(nbb_formatted_code);\n",
       "                        }\n",
       "                        break;\n",
       "                    }\n",
       "                }\n",
       "            }, 500);\n",
       "            "
      ],
      "text/plain": [
       "<IPython.core.display.Javascript object>"
      ]
     },
     "metadata": {},
     "output_type": "display_data"
    }
   ],
   "source": [
    "ap_cluster_df = binary_df.copy()\n",
    "ap_cluster_df[\"label\"] = clst.labels_\n",
    "ap_cluster_df[\"label\"] = \"Cluster \" + ap_cluster_df[\"label\"].astype(str)"
   ]
  },
  {
   "cell_type": "code",
   "execution_count": 243,
   "metadata": {},
   "outputs": [
    {
     "data": {
      "application/javascript": [
       "\n",
       "            setTimeout(function() {\n",
       "                var nbb_cell_id = 243;\n",
       "                var nbb_unformatted_code = \"cluster_sizes = ap_cluster_df[\\\"label\\\"].value_counts().reset_index()\\ncluster_sizes.columns = [\\\"label\\\", \\\"count\\\"]\";\n",
       "                var nbb_formatted_code = \"cluster_sizes = ap_cluster_df[\\\"label\\\"].value_counts().reset_index()\\ncluster_sizes.columns = [\\\"label\\\", \\\"count\\\"]\";\n",
       "                var nbb_cells = Jupyter.notebook.get_cells();\n",
       "                for (var i = 0; i < nbb_cells.length; ++i) {\n",
       "                    if (nbb_cells[i].input_prompt_number == nbb_cell_id) {\n",
       "                        if (nbb_cells[i].get_text() == nbb_unformatted_code) {\n",
       "                             nbb_cells[i].set_text(nbb_formatted_code);\n",
       "                        }\n",
       "                        break;\n",
       "                    }\n",
       "                }\n",
       "            }, 500);\n",
       "            "
      ],
      "text/plain": [
       "<IPython.core.display.Javascript object>"
      ]
     },
     "metadata": {},
     "output_type": "display_data"
    }
   ],
   "source": [
    "cluster_sizes = ap_cluster_df[\"label\"].value_counts().reset_index()\n",
    "cluster_sizes.columns = [\"label\", \"count\"]"
   ]
  },
  {
   "cell_type": "code",
   "execution_count": 259,
   "metadata": {},
   "outputs": [
    {
     "data": {
      "text/html": [
       "<div>\n",
       "<style scoped>\n",
       "    .dataframe tbody tr th:only-of-type {\n",
       "        vertical-align: middle;\n",
       "    }\n",
       "\n",
       "    .dataframe tbody tr th {\n",
       "        vertical-align: top;\n",
       "    }\n",
       "\n",
       "    .dataframe thead th {\n",
       "        text-align: right;\n",
       "    }\n",
       "</style>\n",
       "<table border=\"1\" class=\"dataframe\">\n",
       "  <thead>\n",
       "    <tr style=\"text-align: right;\">\n",
       "      <th></th>\n",
       "      <th>label</th>\n",
       "      <th>count</th>\n",
       "    </tr>\n",
       "  </thead>\n",
       "  <tbody>\n",
       "    <tr>\n",
       "      <th>0</th>\n",
       "      <td>Cluster 0</td>\n",
       "      <td>2124</td>\n",
       "    </tr>\n",
       "    <tr>\n",
       "      <th>1</th>\n",
       "      <td>Cluster 1</td>\n",
       "      <td>1875</td>\n",
       "    </tr>\n",
       "    <tr>\n",
       "      <th>2</th>\n",
       "      <td>Cluster 2</td>\n",
       "      <td>944</td>\n",
       "    </tr>\n",
       "  </tbody>\n",
       "</table>\n",
       "</div>"
      ],
      "text/plain": [
       "       label  count\n",
       "0  Cluster 0   2124\n",
       "1  Cluster 1   1875\n",
       "2  Cluster 2    944"
      ]
     },
     "execution_count": 259,
     "metadata": {},
     "output_type": "execute_result"
    },
    {
     "data": {
      "application/javascript": [
       "\n",
       "            setTimeout(function() {\n",
       "                var nbb_cell_id = 259;\n",
       "                var nbb_unformatted_code = \"cluster_sizes\";\n",
       "                var nbb_formatted_code = \"cluster_sizes\";\n",
       "                var nbb_cells = Jupyter.notebook.get_cells();\n",
       "                for (var i = 0; i < nbb_cells.length; ++i) {\n",
       "                    if (nbb_cells[i].input_prompt_number == nbb_cell_id) {\n",
       "                        if (nbb_cells[i].get_text() == nbb_unformatted_code) {\n",
       "                             nbb_cells[i].set_text(nbb_formatted_code);\n",
       "                        }\n",
       "                        break;\n",
       "                    }\n",
       "                }\n",
       "            }, 500);\n",
       "            "
      ],
      "text/plain": [
       "<IPython.core.display.Javascript object>"
      ]
     },
     "metadata": {},
     "output_type": "display_data"
    }
   ],
   "source": [
    "cluster_sizes"
   ]
  },
  {
   "cell_type": "code",
   "execution_count": 268,
   "metadata": {},
   "outputs": [
    {
     "data": {
      "image/png": "[encoded data removed]",
      "text/plain": [
       "<Figure size 720x504 with 1 Axes>"
      ]
     },
     "metadata": {
      "needs_background": "light"
     },
     "output_type": "display_data"
    },
    {
     "data": {
      "application/javascript": [
       "\n",
       "            setTimeout(function() {\n",
       "                var nbb_cell_id = 268;\n",
       "                var nbb_unformatted_code = \"plt.figure(figsize=(10, 7))\\nsns.barplot(x=\\\"label\\\", y=\\\"count\\\", data=cluster_sizes)\\nplt.xlabel(\\\"\\\")\\nplt.show()\";\n",
       "                var nbb_formatted_code = \"plt.figure(figsize=(10, 7))\\nsns.barplot(x=\\\"label\\\", y=\\\"count\\\", data=cluster_sizes)\\nplt.xlabel(\\\"\\\")\\nplt.show()\";\n",
       "                var nbb_cells = Jupyter.notebook.get_cells();\n",
       "                for (var i = 0; i < nbb_cells.length; ++i) {\n",
       "                    if (nbb_cells[i].input_prompt_number == nbb_cell_id) {\n",
       "                        if (nbb_cells[i].get_text() == nbb_unformatted_code) {\n",
       "                             nbb_cells[i].set_text(nbb_formatted_code);\n",
       "                        }\n",
       "                        break;\n",
       "                    }\n",
       "                }\n",
       "            }, 500);\n",
       "            "
      ],
      "text/plain": [
       "<IPython.core.display.Javascript object>"
      ]
     },
     "metadata": {},
     "output_type": "display_data"
    }
   ],
   "source": [
    "plt.figure(figsize=(10, 7))\n",
    "sns.barplot(x=\"label\", y=\"count\", data=cluster_sizes)\n",
    "plt.xlabel(\"\")\n",
    "plt.show()"
   ]
  },
  {
   "cell_type": "code",
   "execution_count": 244,
   "metadata": {},
   "outputs": [
    {
     "data": {
      "text/html": [
       "<style  type=\"text/css\" >\n",
       "    #T_98da8e4c_a160_11ea_b95b_88e9fe555610row0_col0 {\n",
       "            background-color:  #fff7fb;\n",
       "            color:  #000000;\n",
       "        }    #T_98da8e4c_a160_11ea_b95b_88e9fe555610row0_col1 {\n",
       "            background-color:  #fff7fb;\n",
       "            color:  #000000;\n",
       "        }    #T_98da8e4c_a160_11ea_b95b_88e9fe555610row0_col2 {\n",
       "            background-color:  #023858;\n",
       "            color:  #f1f1f1;\n",
       "        }    #T_98da8e4c_a160_11ea_b95b_88e9fe555610row0_col3 {\n",
       "            background-color:  #fff7fb;\n",
       "            color:  #000000;\n",
       "        }    #T_98da8e4c_a160_11ea_b95b_88e9fe555610row0_col4 {\n",
       "            background-color:  #fff7fb;\n",
       "            color:  #000000;\n",
       "        }    #T_98da8e4c_a160_11ea_b95b_88e9fe555610row0_col5 {\n",
       "            background-color:  #023858;\n",
       "            color:  #f1f1f1;\n",
       "        }    #T_98da8e4c_a160_11ea_b95b_88e9fe555610row0_col6 {\n",
       "            background-color:  #fff7fb;\n",
       "            color:  #000000;\n",
       "        }    #T_98da8e4c_a160_11ea_b95b_88e9fe555610row0_col7 {\n",
       "            background-color:  #fff7fb;\n",
       "            color:  #000000;\n",
       "        }    #T_98da8e4c_a160_11ea_b95b_88e9fe555610row0_col8 {\n",
       "            background-color:  #023858;\n",
       "            color:  #f1f1f1;\n",
       "        }    #T_98da8e4c_a160_11ea_b95b_88e9fe555610row0_col9 {\n",
       "            background-color:  #023858;\n",
       "            color:  #f1f1f1;\n",
       "        }    #T_98da8e4c_a160_11ea_b95b_88e9fe555610row0_col10 {\n",
       "            background-color:  #023858;\n",
       "            color:  #f1f1f1;\n",
       "        }    #T_98da8e4c_a160_11ea_b95b_88e9fe555610row0_col11 {\n",
       "            background-color:  #023858;\n",
       "            color:  #f1f1f1;\n",
       "        }    #T_98da8e4c_a160_11ea_b95b_88e9fe555610row0_col13 {\n",
       "            background-color:  #023858;\n",
       "            color:  #f1f1f1;\n",
       "        }    #T_98da8e4c_a160_11ea_b95b_88e9fe555610row1_col0 {\n",
       "            background-color:  #fff7fb;\n",
       "            color:  #000000;\n",
       "        }    #T_98da8e4c_a160_11ea_b95b_88e9fe555610row1_col1 {\n",
       "            background-color:  #fff7fb;\n",
       "            color:  #000000;\n",
       "        }    #T_98da8e4c_a160_11ea_b95b_88e9fe555610row1_col2 {\n",
       "            background-color:  #023858;\n",
       "            color:  #f1f1f1;\n",
       "        }    #T_98da8e4c_a160_11ea_b95b_88e9fe555610row1_col3 {\n",
       "            background-color:  #fff7fb;\n",
       "            color:  #000000;\n",
       "        }    #T_98da8e4c_a160_11ea_b95b_88e9fe555610row1_col4 {\n",
       "            background-color:  #fff7fb;\n",
       "            color:  #000000;\n",
       "        }    #T_98da8e4c_a160_11ea_b95b_88e9fe555610row1_col5 {\n",
       "            background-color:  #fff7fb;\n",
       "            color:  #000000;\n",
       "        }    #T_98da8e4c_a160_11ea_b95b_88e9fe555610row1_col6 {\n",
       "            background-color:  #fff7fb;\n",
       "            color:  #000000;\n",
       "        }    #T_98da8e4c_a160_11ea_b95b_88e9fe555610row1_col7 {\n",
       "            background-color:  #fff7fb;\n",
       "            color:  #000000;\n",
       "        }    #T_98da8e4c_a160_11ea_b95b_88e9fe555610row1_col8 {\n",
       "            background-color:  #023858;\n",
       "            color:  #f1f1f1;\n",
       "        }    #T_98da8e4c_a160_11ea_b95b_88e9fe555610row1_col9 {\n",
       "            background-color:  #023858;\n",
       "            color:  #f1f1f1;\n",
       "        }    #T_98da8e4c_a160_11ea_b95b_88e9fe555610row1_col10 {\n",
       "            background-color:  #023858;\n",
       "            color:  #f1f1f1;\n",
       "        }    #T_98da8e4c_a160_11ea_b95b_88e9fe555610row1_col11 {\n",
       "            background-color:  #023858;\n",
       "            color:  #f1f1f1;\n",
       "        }    #T_98da8e4c_a160_11ea_b95b_88e9fe555610row1_col13 {\n",
       "            background-color:  #0569a5;\n",
       "            color:  #f1f1f1;\n",
       "        }    #T_98da8e4c_a160_11ea_b95b_88e9fe555610row2_col0 {\n",
       "            background-color:  #023858;\n",
       "            color:  #f1f1f1;\n",
       "        }    #T_98da8e4c_a160_11ea_b95b_88e9fe555610row2_col1 {\n",
       "            background-color:  #fff7fb;\n",
       "            color:  #000000;\n",
       "        }    #T_98da8e4c_a160_11ea_b95b_88e9fe555610row2_col2 {\n",
       "            background-color:  #fff7fb;\n",
       "            color:  #000000;\n",
       "        }    #T_98da8e4c_a160_11ea_b95b_88e9fe555610row2_col3 {\n",
       "            background-color:  #fff7fb;\n",
       "            color:  #000000;\n",
       "        }    #T_98da8e4c_a160_11ea_b95b_88e9fe555610row2_col4 {\n",
       "            background-color:  #fff7fb;\n",
       "            color:  #000000;\n",
       "        }    #T_98da8e4c_a160_11ea_b95b_88e9fe555610row2_col5 {\n",
       "            background-color:  #023858;\n",
       "            color:  #f1f1f1;\n",
       "        }    #T_98da8e4c_a160_11ea_b95b_88e9fe555610row2_col6 {\n",
       "            background-color:  #fff7fb;\n",
       "            color:  #000000;\n",
       "        }    #T_98da8e4c_a160_11ea_b95b_88e9fe555610row2_col7 {\n",
       "            background-color:  #fff7fb;\n",
       "            color:  #000000;\n",
       "        }    #T_98da8e4c_a160_11ea_b95b_88e9fe555610row2_col8 {\n",
       "            background-color:  #fff7fb;\n",
       "            color:  #000000;\n",
       "        }    #T_98da8e4c_a160_11ea_b95b_88e9fe555610row2_col9 {\n",
       "            background-color:  #fff7fb;\n",
       "            color:  #000000;\n",
       "        }    #T_98da8e4c_a160_11ea_b95b_88e9fe555610row2_col10 {\n",
       "            background-color:  #fff7fb;\n",
       "            color:  #000000;\n",
       "        }    #T_98da8e4c_a160_11ea_b95b_88e9fe555610row2_col11 {\n",
       "            background-color:  #fff7fb;\n",
       "            color:  #000000;\n",
       "        }    #T_98da8e4c_a160_11ea_b95b_88e9fe555610row2_col13 {\n",
       "            background-color:  #fff7fb;\n",
       "            color:  #000000;\n",
       "        }</style><table id=\"T_98da8e4c_a160_11ea_b95b_88e9fe555610\" ><thead>    <tr>        <th class=\"blank level0\" ></th>        <th class=\"col_heading level0 col0\" >AdoptionSpeed</th>        <th class=\"col_heading level0 col1\" >has_name</th>        <th class=\"col_heading level0 col2\" >is_young</th>        <th class=\"col_heading level0 col3\" >is_pure_bred</th>        <th class=\"col_heading level0 col4\" >is_female</th>        <th class=\"col_heading level0 col5\" >is_bicolor</th>        <th class=\"col_heading level0 col6\" >is_injured</th>        <th class=\"col_heading level0 col7\" >is_free</th>        <th class=\"col_heading level0 col8\" >is_selangor</th>        <th class=\"col_heading level0 col9\" >is_top_10_rescue</th>        <th class=\"col_heading level0 col10\" >is_videoed</th>        <th class=\"col_heading level0 col11\" >has_photo</th>        <th class=\"col_heading level0 col12\" >label</th>        <th class=\"col_heading level0 col13\" >count</th>    </tr></thead><tbody>\n",
       "                <tr>\n",
       "                        <th id=\"T_98da8e4c_a160_11ea_b95b_88e9fe555610level0_row0\" class=\"row_heading level0 row0\" >0</th>\n",
       "                        <td id=\"T_98da8e4c_a160_11ea_b95b_88e9fe555610row0_col0\" class=\"data row0 col0\" >2</td>\n",
       "                        <td id=\"T_98da8e4c_a160_11ea_b95b_88e9fe555610row0_col1\" class=\"data row0 col1\" >1</td>\n",
       "                        <td id=\"T_98da8e4c_a160_11ea_b95b_88e9fe555610row0_col2\" class=\"data row0 col2\" >1</td>\n",
       "                        <td id=\"T_98da8e4c_a160_11ea_b95b_88e9fe555610row0_col3\" class=\"data row0 col3\" >1</td>\n",
       "                        <td id=\"T_98da8e4c_a160_11ea_b95b_88e9fe555610row0_col4\" class=\"data row0 col4\" >1</td>\n",
       "                        <td id=\"T_98da8e4c_a160_11ea_b95b_88e9fe555610row0_col5\" class=\"data row0 col5\" >1</td>\n",
       "                        <td id=\"T_98da8e4c_a160_11ea_b95b_88e9fe555610row0_col6\" class=\"data row0 col6\" >0</td>\n",
       "                        <td id=\"T_98da8e4c_a160_11ea_b95b_88e9fe555610row0_col7\" class=\"data row0 col7\" >0</td>\n",
       "                        <td id=\"T_98da8e4c_a160_11ea_b95b_88e9fe555610row0_col8\" class=\"data row0 col8\" >1</td>\n",
       "                        <td id=\"T_98da8e4c_a160_11ea_b95b_88e9fe555610row0_col9\" class=\"data row0 col9\" >1</td>\n",
       "                        <td id=\"T_98da8e4c_a160_11ea_b95b_88e9fe555610row0_col10\" class=\"data row0 col10\" >1</td>\n",
       "                        <td id=\"T_98da8e4c_a160_11ea_b95b_88e9fe555610row0_col11\" class=\"data row0 col11\" >1</td>\n",
       "                        <td id=\"T_98da8e4c_a160_11ea_b95b_88e9fe555610row0_col12\" class=\"data row0 col12\" >Cluster 0</td>\n",
       "                        <td id=\"T_98da8e4c_a160_11ea_b95b_88e9fe555610row0_col13\" class=\"data row0 col13\" >2124</td>\n",
       "            </tr>\n",
       "            <tr>\n",
       "                        <th id=\"T_98da8e4c_a160_11ea_b95b_88e9fe555610level0_row1\" class=\"row_heading level0 row1\" >1</th>\n",
       "                        <td id=\"T_98da8e4c_a160_11ea_b95b_88e9fe555610row1_col0\" class=\"data row1 col0\" >2</td>\n",
       "                        <td id=\"T_98da8e4c_a160_11ea_b95b_88e9fe555610row1_col1\" class=\"data row1 col1\" >1</td>\n",
       "                        <td id=\"T_98da8e4c_a160_11ea_b95b_88e9fe555610row1_col2\" class=\"data row1 col2\" >1</td>\n",
       "                        <td id=\"T_98da8e4c_a160_11ea_b95b_88e9fe555610row1_col3\" class=\"data row1 col3\" >1</td>\n",
       "                        <td id=\"T_98da8e4c_a160_11ea_b95b_88e9fe555610row1_col4\" class=\"data row1 col4\" >1</td>\n",
       "                        <td id=\"T_98da8e4c_a160_11ea_b95b_88e9fe555610row1_col5\" class=\"data row1 col5\" >0</td>\n",
       "                        <td id=\"T_98da8e4c_a160_11ea_b95b_88e9fe555610row1_col6\" class=\"data row1 col6\" >0</td>\n",
       "                        <td id=\"T_98da8e4c_a160_11ea_b95b_88e9fe555610row1_col7\" class=\"data row1 col7\" >0</td>\n",
       "                        <td id=\"T_98da8e4c_a160_11ea_b95b_88e9fe555610row1_col8\" class=\"data row1 col8\" >1</td>\n",
       "                        <td id=\"T_98da8e4c_a160_11ea_b95b_88e9fe555610row1_col9\" class=\"data row1 col9\" >1</td>\n",
       "                        <td id=\"T_98da8e4c_a160_11ea_b95b_88e9fe555610row1_col10\" class=\"data row1 col10\" >1</td>\n",
       "                        <td id=\"T_98da8e4c_a160_11ea_b95b_88e9fe555610row1_col11\" class=\"data row1 col11\" >1</td>\n",
       "                        <td id=\"T_98da8e4c_a160_11ea_b95b_88e9fe555610row1_col12\" class=\"data row1 col12\" >Cluster 1</td>\n",
       "                        <td id=\"T_98da8e4c_a160_11ea_b95b_88e9fe555610row1_col13\" class=\"data row1 col13\" >1875</td>\n",
       "            </tr>\n",
       "            <tr>\n",
       "                        <th id=\"T_98da8e4c_a160_11ea_b95b_88e9fe555610level0_row2\" class=\"row_heading level0 row2\" >2</th>\n",
       "                        <td id=\"T_98da8e4c_a160_11ea_b95b_88e9fe555610row2_col0\" class=\"data row2 col0\" >4</td>\n",
       "                        <td id=\"T_98da8e4c_a160_11ea_b95b_88e9fe555610row2_col1\" class=\"data row2 col1\" >1</td>\n",
       "                        <td id=\"T_98da8e4c_a160_11ea_b95b_88e9fe555610row2_col2\" class=\"data row2 col2\" >0</td>\n",
       "                        <td id=\"T_98da8e4c_a160_11ea_b95b_88e9fe555610row2_col3\" class=\"data row2 col3\" >1</td>\n",
       "                        <td id=\"T_98da8e4c_a160_11ea_b95b_88e9fe555610row2_col4\" class=\"data row2 col4\" >1</td>\n",
       "                        <td id=\"T_98da8e4c_a160_11ea_b95b_88e9fe555610row2_col5\" class=\"data row2 col5\" >1</td>\n",
       "                        <td id=\"T_98da8e4c_a160_11ea_b95b_88e9fe555610row2_col6\" class=\"data row2 col6\" >0</td>\n",
       "                        <td id=\"T_98da8e4c_a160_11ea_b95b_88e9fe555610row2_col7\" class=\"data row2 col7\" >0</td>\n",
       "                        <td id=\"T_98da8e4c_a160_11ea_b95b_88e9fe555610row2_col8\" class=\"data row2 col8\" >0</td>\n",
       "                        <td id=\"T_98da8e4c_a160_11ea_b95b_88e9fe555610row2_col9\" class=\"data row2 col9\" >0</td>\n",
       "                        <td id=\"T_98da8e4c_a160_11ea_b95b_88e9fe555610row2_col10\" class=\"data row2 col10\" >0</td>\n",
       "                        <td id=\"T_98da8e4c_a160_11ea_b95b_88e9fe555610row2_col11\" class=\"data row2 col11\" >0</td>\n",
       "                        <td id=\"T_98da8e4c_a160_11ea_b95b_88e9fe555610row2_col12\" class=\"data row2 col12\" >Cluster 2</td>\n",
       "                        <td id=\"T_98da8e4c_a160_11ea_b95b_88e9fe555610row2_col13\" class=\"data row2 col13\" >944</td>\n",
       "            </tr>\n",
       "    </tbody></table>"
      ],
      "text/plain": [
       "<pandas.io.formats.style.Styler at 0x1a272e1a90>"
      ]
     },
     "execution_count": 244,
     "metadata": {},
     "output_type": "execute_result"
    },
    {
     "data": {
      "application/javascript": [
       "\n",
       "            setTimeout(function() {\n",
       "                var nbb_cell_id = 244;\n",
       "                var nbb_unformatted_code = \"exemplar_idxs = clst.cluster_centers_indices_\\nexemplars = ap_cluster_df.iloc[exemplar_idxs, :]\\n\\nexemplars = pd.merge(exemplars, cluster_sizes, on=\\\"label\\\")\\n\\n# Threshold to be displayed\\nthresh = 40\\ndisplay_exemplars = exemplars[exemplars[\\\"count\\\"] >= thresh]\\n\\nlarge_cluster_labels = display_exemplars[\\\"label\\\"]\\n\\ndisplay_exemplars.sort_values(\\\"label\\\").style.background_gradient()\";\n",
       "                var nbb_formatted_code = \"exemplar_idxs = clst.cluster_centers_indices_\\nexemplars = ap_cluster_df.iloc[exemplar_idxs, :]\\n\\nexemplars = pd.merge(exemplars, cluster_sizes, on=\\\"label\\\")\\n\\n# Threshold to be displayed\\nthresh = 40\\ndisplay_exemplars = exemplars[exemplars[\\\"count\\\"] >= thresh]\\n\\nlarge_cluster_labels = display_exemplars[\\\"label\\\"]\\n\\ndisplay_exemplars.sort_values(\\\"label\\\").style.background_gradient()\";\n",
       "                var nbb_cells = Jupyter.notebook.get_cells();\n",
       "                for (var i = 0; i < nbb_cells.length; ++i) {\n",
       "                    if (nbb_cells[i].input_prompt_number == nbb_cell_id) {\n",
       "                        if (nbb_cells[i].get_text() == nbb_unformatted_code) {\n",
       "                             nbb_cells[i].set_text(nbb_formatted_code);\n",
       "                        }\n",
       "                        break;\n",
       "                    }\n",
       "                }\n",
       "            }, 500);\n",
       "            "
      ],
      "text/plain": [
       "<IPython.core.display.Javascript object>"
      ]
     },
     "metadata": {},
     "output_type": "display_data"
    }
   ],
   "source": [
    "exemplar_idxs = clst.cluster_centers_indices_\n",
    "exemplars = ap_cluster_df.iloc[exemplar_idxs, :]\n",
    "\n",
    "exemplars = pd.merge(exemplars, cluster_sizes, on=\"label\")\n",
    "\n",
    "# Threshold to be displayed\n",
    "thresh = 40\n",
    "display_exemplars = exemplars[exemplars[\"count\"] >= thresh]\n",
    "\n",
    "large_cluster_labels = display_exemplars[\"label\"]\n",
    "\n",
    "display_exemplars.sort_values(\"label\").style.background_gradient()"
   ]
  },
  {
   "cell_type": "code",
   "execution_count": 245,
   "metadata": {},
   "outputs": [
    {
     "data": {
      "text/html": [
       "<style  type=\"text/css\" >\n",
       "    #T_98e2df5c_a160_11ea_b95b_88e9fe555610row0_col0 {\n",
       "            background-color:  #023858;\n",
       "            color:  #f1f1f1;\n",
       "        }    #T_98e2df5c_a160_11ea_b95b_88e9fe555610row0_col1 {\n",
       "            background-color:  #045687;\n",
       "            color:  #f1f1f1;\n",
       "        }    #T_98e2df5c_a160_11ea_b95b_88e9fe555610row0_col2 {\n",
       "            background-color:  #fff7fb;\n",
       "            color:  #000000;\n",
       "        }    #T_98e2df5c_a160_11ea_b95b_88e9fe555610row0_col3 {\n",
       "            background-color:  #023858;\n",
       "            color:  #f1f1f1;\n",
       "        }    #T_98e2df5c_a160_11ea_b95b_88e9fe555610row0_col4 {\n",
       "            background-color:  #023858;\n",
       "            color:  #f1f1f1;\n",
       "        }    #T_98e2df5c_a160_11ea_b95b_88e9fe555610row0_col5 {\n",
       "            background-color:  #fff7fb;\n",
       "            color:  #000000;\n",
       "        }    #T_98e2df5c_a160_11ea_b95b_88e9fe555610row0_col6 {\n",
       "            background-color:  #86b0d3;\n",
       "            color:  #000000;\n",
       "        }    #T_98e2df5c_a160_11ea_b95b_88e9fe555610row0_col7 {\n",
       "            background-color:  #045f95;\n",
       "            color:  #f1f1f1;\n",
       "        }    #T_98e2df5c_a160_11ea_b95b_88e9fe555610row0_col8 {\n",
       "            background-color:  #fff7fb;\n",
       "            color:  #000000;\n",
       "        }    #T_98e2df5c_a160_11ea_b95b_88e9fe555610row0_col9 {\n",
       "            background-color:  #fff7fb;\n",
       "            color:  #000000;\n",
       "        }    #T_98e2df5c_a160_11ea_b95b_88e9fe555610row0_col10 {\n",
       "            background-color:  #fff7fb;\n",
       "            color:  #000000;\n",
       "        }    #T_98e2df5c_a160_11ea_b95b_88e9fe555610row0_col11 {\n",
       "            background-color:  #fff7fb;\n",
       "            color:  #000000;\n",
       "        }    #T_98e2df5c_a160_11ea_b95b_88e9fe555610row1_col0 {\n",
       "            background-color:  #0569a5;\n",
       "            color:  #f1f1f1;\n",
       "        }    #T_98e2df5c_a160_11ea_b95b_88e9fe555610row1_col1 {\n",
       "            background-color:  #023858;\n",
       "            color:  #f1f1f1;\n",
       "        }    #T_98e2df5c_a160_11ea_b95b_88e9fe555610row1_col2 {\n",
       "            background-color:  #e0dded;\n",
       "            color:  #000000;\n",
       "        }    #T_98e2df5c_a160_11ea_b95b_88e9fe555610row1_col3 {\n",
       "            background-color:  #589ec8;\n",
       "            color:  #000000;\n",
       "        }    #T_98e2df5c_a160_11ea_b95b_88e9fe555610row1_col4 {\n",
       "            background-color:  #fff7fb;\n",
       "            color:  #000000;\n",
       "        }    #T_98e2df5c_a160_11ea_b95b_88e9fe555610row1_col5 {\n",
       "            background-color:  #023858;\n",
       "            color:  #f1f1f1;\n",
       "        }    #T_98e2df5c_a160_11ea_b95b_88e9fe555610row1_col6 {\n",
       "            background-color:  #023858;\n",
       "            color:  #f1f1f1;\n",
       "        }    #T_98e2df5c_a160_11ea_b95b_88e9fe555610row1_col7 {\n",
       "            background-color:  #023858;\n",
       "            color:  #f1f1f1;\n",
       "        }    #T_98e2df5c_a160_11ea_b95b_88e9fe555610row1_col8 {\n",
       "            background-color:  #f2ecf5;\n",
       "            color:  #000000;\n",
       "        }    #T_98e2df5c_a160_11ea_b95b_88e9fe555610row1_col9 {\n",
       "            background-color:  #ede8f3;\n",
       "            color:  #000000;\n",
       "        }    #T_98e2df5c_a160_11ea_b95b_88e9fe555610row1_col10 {\n",
       "            background-color:  #f4eef6;\n",
       "            color:  #000000;\n",
       "        }    #T_98e2df5c_a160_11ea_b95b_88e9fe555610row1_col11 {\n",
       "            background-color:  #3f93c2;\n",
       "            color:  #000000;\n",
       "        }    #T_98e2df5c_a160_11ea_b95b_88e9fe555610row2_col0 {\n",
       "            background-color:  #fff7fb;\n",
       "            color:  #000000;\n",
       "        }    #T_98e2df5c_a160_11ea_b95b_88e9fe555610row2_col1 {\n",
       "            background-color:  #fff7fb;\n",
       "            color:  #000000;\n",
       "        }    #T_98e2df5c_a160_11ea_b95b_88e9fe555610row2_col2 {\n",
       "            background-color:  #023858;\n",
       "            color:  #f1f1f1;\n",
       "        }    #T_98e2df5c_a160_11ea_b95b_88e9fe555610row2_col3 {\n",
       "            background-color:  #fff7fb;\n",
       "            color:  #000000;\n",
       "        }    #T_98e2df5c_a160_11ea_b95b_88e9fe555610row2_col4 {\n",
       "            background-color:  #3d93c2;\n",
       "            color:  #000000;\n",
       "        }    #T_98e2df5c_a160_11ea_b95b_88e9fe555610row2_col5 {\n",
       "            background-color:  #c5cce3;\n",
       "            color:  #000000;\n",
       "        }    #T_98e2df5c_a160_11ea_b95b_88e9fe555610row2_col6 {\n",
       "            background-color:  #fff7fb;\n",
       "            color:  #000000;\n",
       "        }    #T_98e2df5c_a160_11ea_b95b_88e9fe555610row2_col7 {\n",
       "            background-color:  #fff7fb;\n",
       "            color:  #000000;\n",
       "        }    #T_98e2df5c_a160_11ea_b95b_88e9fe555610row2_col8 {\n",
       "            background-color:  #023858;\n",
       "            color:  #f1f1f1;\n",
       "        }    #T_98e2df5c_a160_11ea_b95b_88e9fe555610row2_col9 {\n",
       "            background-color:  #023858;\n",
       "            color:  #f1f1f1;\n",
       "        }    #T_98e2df5c_a160_11ea_b95b_88e9fe555610row2_col10 {\n",
       "            background-color:  #023858;\n",
       "            color:  #f1f1f1;\n",
       "        }    #T_98e2df5c_a160_11ea_b95b_88e9fe555610row2_col11 {\n",
       "            background-color:  #023858;\n",
       "            color:  #f1f1f1;\n",
       "        }</style><table id=\"T_98e2df5c_a160_11ea_b95b_88e9fe555610\" ><thead>    <tr>        <th class=\"blank level0\" ></th>        <th class=\"col_heading level0 col0\" >AdoptionSpeed</th>        <th class=\"col_heading level0 col1\" >has_name</th>        <th class=\"col_heading level0 col2\" >is_young</th>        <th class=\"col_heading level0 col3\" >is_pure_bred</th>        <th class=\"col_heading level0 col4\" >is_female</th>        <th class=\"col_heading level0 col5\" >is_bicolor</th>        <th class=\"col_heading level0 col6\" >is_injured</th>        <th class=\"col_heading level0 col7\" >is_free</th>        <th class=\"col_heading level0 col8\" >is_selangor</th>        <th class=\"col_heading level0 col9\" >is_top_10_rescue</th>        <th class=\"col_heading level0 col10\" >is_videoed</th>        <th class=\"col_heading level0 col11\" >has_photo</th>    </tr>    <tr>        <th class=\"index_name level0\" >label</th>        <th class=\"blank\" ></th>        <th class=\"blank\" ></th>        <th class=\"blank\" ></th>        <th class=\"blank\" ></th>        <th class=\"blank\" ></th>        <th class=\"blank\" ></th>        <th class=\"blank\" ></th>        <th class=\"blank\" ></th>        <th class=\"blank\" ></th>        <th class=\"blank\" ></th>        <th class=\"blank\" ></th>        <th class=\"blank\" ></th>    </tr></thead><tbody>\n",
       "                <tr>\n",
       "                        <th id=\"T_98e2df5c_a160_11ea_b95b_88e9fe555610level0_row0\" class=\"row_heading level0 row0\" >Cluster 0</th>\n",
       "                        <td id=\"T_98e2df5c_a160_11ea_b95b_88e9fe555610row0_col0\" class=\"data row0 col0\" >2.520716</td>\n",
       "                        <td id=\"T_98e2df5c_a160_11ea_b95b_88e9fe555610row0_col1\" class=\"data row0 col1\" >0.925141</td>\n",
       "                        <td id=\"T_98e2df5c_a160_11ea_b95b_88e9fe555610row0_col2\" class=\"data row0 col2\" >0.139360</td>\n",
       "                        <td id=\"T_98e2df5c_a160_11ea_b95b_88e9fe555610row0_col3\" class=\"data row0 col3\" >0.166196</td>\n",
       "                        <td id=\"T_98e2df5c_a160_11ea_b95b_88e9fe555610row0_col4\" class=\"data row0 col4\" >0.601224</td>\n",
       "                        <td id=\"T_98e2df5c_a160_11ea_b95b_88e9fe555610row0_col5\" class=\"data row0 col5\" >0.000471</td>\n",
       "                        <td id=\"T_98e2df5c_a160_11ea_b95b_88e9fe555610row0_col6\" class=\"data row0 col6\" >0.036252</td>\n",
       "                        <td id=\"T_98e2df5c_a160_11ea_b95b_88e9fe555610row0_col7\" class=\"data row0 col7\" >0.821563</td>\n",
       "                        <td id=\"T_98e2df5c_a160_11ea_b95b_88e9fe555610row0_col8\" class=\"data row0 col8\" >0.458569</td>\n",
       "                        <td id=\"T_98e2df5c_a160_11ea_b95b_88e9fe555610row0_col9\" class=\"data row0 col9\" >0.026365</td>\n",
       "                        <td id=\"T_98e2df5c_a160_11ea_b95b_88e9fe555610row0_col10\" class=\"data row0 col10\" >0.013653</td>\n",
       "                        <td id=\"T_98e2df5c_a160_11ea_b95b_88e9fe555610row0_col11\" class=\"data row0 col11\" >0.970339</td>\n",
       "            </tr>\n",
       "            <tr>\n",
       "                        <th id=\"T_98e2df5c_a160_11ea_b95b_88e9fe555610level0_row1\" class=\"row_heading level0 row1\" >Cluster 1</th>\n",
       "                        <td id=\"T_98e2df5c_a160_11ea_b95b_88e9fe555610row1_col0\" class=\"data row1 col0\" >2.393067</td>\n",
       "                        <td id=\"T_98e2df5c_a160_11ea_b95b_88e9fe555610row1_col1\" class=\"data row1 col1\" >0.926400</td>\n",
       "                        <td id=\"T_98e2df5c_a160_11ea_b95b_88e9fe555610row1_col2\" class=\"data row1 col2\" >0.273600</td>\n",
       "                        <td id=\"T_98e2df5c_a160_11ea_b95b_88e9fe555610row1_col3\" class=\"data row1 col3\" >0.137067</td>\n",
       "                        <td id=\"T_98e2df5c_a160_11ea_b95b_88e9fe555610row1_col4\" class=\"data row1 col4\" >0.462933</td>\n",
       "                        <td id=\"T_98e2df5c_a160_11ea_b95b_88e9fe555610row1_col5\" class=\"data row1 col5\" >0.999467</td>\n",
       "                        <td id=\"T_98e2df5c_a160_11ea_b95b_88e9fe555610row1_col6\" class=\"data row1 col6\" >0.041600</td>\n",
       "                        <td id=\"T_98e2df5c_a160_11ea_b95b_88e9fe555610row1_col7\" class=\"data row1 col7\" >0.835200</td>\n",
       "                        <td id=\"T_98e2df5c_a160_11ea_b95b_88e9fe555610row1_col8\" class=\"data row1 col8\" >0.498667</td>\n",
       "                        <td id=\"T_98e2df5c_a160_11ea_b95b_88e9fe555610row1_col9\" class=\"data row1 col9\" >0.058133</td>\n",
       "                        <td id=\"T_98e2df5c_a160_11ea_b95b_88e9fe555610row1_col10\" class=\"data row1 col10\" >0.022933</td>\n",
       "                        <td id=\"T_98e2df5c_a160_11ea_b95b_88e9fe555610row1_col11\" class=\"data row1 col11\" >0.987733</td>\n",
       "            </tr>\n",
       "            <tr>\n",
       "                        <th id=\"T_98e2df5c_a160_11ea_b95b_88e9fe555610level0_row2\" class=\"row_heading level0 row2\" >Cluster 2</th>\n",
       "                        <td id=\"T_98e2df5c_a160_11ea_b95b_88e9fe555610row2_col0\" class=\"data row2 col0\" >1.919492</td>\n",
       "                        <td id=\"T_98e2df5c_a160_11ea_b95b_88e9fe555610row2_col1\" class=\"data row2 col1\" >0.915254</td>\n",
       "                        <td id=\"T_98e2df5c_a160_11ea_b95b_88e9fe555610row2_col2\" class=\"data row2 col2\" >0.870763</td>\n",
       "                        <td id=\"T_98e2df5c_a160_11ea_b95b_88e9fe555610row2_col3\" class=\"data row2 col3\" >0.100636</td>\n",
       "                        <td id=\"T_98e2df5c_a160_11ea_b95b_88e9fe555610row2_col4\" class=\"data row2 col4\" >0.547669</td>\n",
       "                        <td id=\"T_98e2df5c_a160_11ea_b95b_88e9fe555610row2_col5\" class=\"data row2 col5\" >0.281780</td>\n",
       "                        <td id=\"T_98e2df5c_a160_11ea_b95b_88e9fe555610row2_col6\" class=\"data row2 col6\" >0.031780</td>\n",
       "                        <td id=\"T_98e2df5c_a160_11ea_b95b_88e9fe555610row2_col7\" class=\"data row2 col7\" >0.747881</td>\n",
       "                        <td id=\"T_98e2df5c_a160_11ea_b95b_88e9fe555610row2_col8\" class=\"data row2 col8\" >0.933263</td>\n",
       "                        <td id=\"T_98e2df5c_a160_11ea_b95b_88e9fe555610row2_col9\" class=\"data row2 col9\" >0.295551</td>\n",
       "                        <td id=\"T_98e2df5c_a160_11ea_b95b_88e9fe555610row2_col10\" class=\"data row2 col10\" >0.138771</td>\n",
       "                        <td id=\"T_98e2df5c_a160_11ea_b95b_88e9fe555610row2_col11\" class=\"data row2 col11\" >0.998941</td>\n",
       "            </tr>\n",
       "    </tbody></table>"
      ],
      "text/plain": [
       "<pandas.io.formats.style.Styler at 0x1a2810aa10>"
      ]
     },
     "execution_count": 245,
     "metadata": {},
     "output_type": "execute_result"
    },
    {
     "data": {
      "application/javascript": [
       "\n",
       "            setTimeout(function() {\n",
       "                var nbb_cell_id = 245;\n",
       "                var nbb_unformatted_code = \"large_cluster_df = ap_cluster_df[ap_cluster_df[\\\"label\\\"].isin(large_cluster_labels)]\\nmean_cluster_df = large_cluster_df.groupby(\\\"label\\\").mean()\\nmean_cluster_df.sort_values(\\\"label\\\").style.background_gradient()\";\n",
       "                var nbb_formatted_code = \"large_cluster_df = ap_cluster_df[ap_cluster_df[\\\"label\\\"].isin(large_cluster_labels)]\\nmean_cluster_df = large_cluster_df.groupby(\\\"label\\\").mean()\\nmean_cluster_df.sort_values(\\\"label\\\").style.background_gradient()\";\n",
       "                var nbb_cells = Jupyter.notebook.get_cells();\n",
       "                for (var i = 0; i < nbb_cells.length; ++i) {\n",
       "                    if (nbb_cells[i].input_prompt_number == nbb_cell_id) {\n",
       "                        if (nbb_cells[i].get_text() == nbb_unformatted_code) {\n",
       "                             nbb_cells[i].set_text(nbb_formatted_code);\n",
       "                        }\n",
       "                        break;\n",
       "                    }\n",
       "                }\n",
       "            }, 500);\n",
       "            "
      ],
      "text/plain": [
       "<IPython.core.display.Javascript object>"
      ]
     },
     "metadata": {},
     "output_type": "display_data"
    }
   ],
   "source": [
    "large_cluster_df = ap_cluster_df[ap_cluster_df[\"label\"].isin(large_cluster_labels)]\n",
    "mean_cluster_df = large_cluster_df.groupby(\"label\").mean()\n",
    "mean_cluster_df.sort_values(\"label\").style.background_gradient()"
   ]
  },
  {
   "cell_type": "code",
   "execution_count": 246,
   "metadata": {},
   "outputs": [
    {
     "data": {
      "text/html": [
       "<style  type=\"text/css\" >\n",
       "    #T_98ee6098_a160_11ea_b95b_88e9fe555610row0_col0 {\n",
       "            background-color:  #fff7fb;\n",
       "            color:  #000000;\n",
       "        }    #T_98ee6098_a160_11ea_b95b_88e9fe555610row0_col1 {\n",
       "            background-color:  #023858;\n",
       "            color:  #f1f1f1;\n",
       "        }    #T_98ee6098_a160_11ea_b95b_88e9fe555610row0_col2 {\n",
       "            background-color:  #c5cce3;\n",
       "            color:  #000000;\n",
       "        }    #T_98ee6098_a160_11ea_b95b_88e9fe555610row0_col3 {\n",
       "            background-color:  #023858;\n",
       "            color:  #f1f1f1;\n",
       "        }    #T_98ee6098_a160_11ea_b95b_88e9fe555610row0_col4 {\n",
       "            background-color:  #6da6cd;\n",
       "            color:  #000000;\n",
       "        }    #T_98ee6098_a160_11ea_b95b_88e9fe555610row1_col0 {\n",
       "            background-color:  #fff7fb;\n",
       "            color:  #000000;\n",
       "        }    #T_98ee6098_a160_11ea_b95b_88e9fe555610row1_col1 {\n",
       "            background-color:  #e0dded;\n",
       "            color:  #000000;\n",
       "        }    #T_98ee6098_a160_11ea_b95b_88e9fe555610row1_col2 {\n",
       "            background-color:  #023858;\n",
       "            color:  #f1f1f1;\n",
       "        }    #T_98ee6098_a160_11ea_b95b_88e9fe555610row1_col3 {\n",
       "            background-color:  #05659f;\n",
       "            color:  #f1f1f1;\n",
       "        }    #T_98ee6098_a160_11ea_b95b_88e9fe555610row1_col4 {\n",
       "            background-color:  #b1c2de;\n",
       "            color:  #000000;\n",
       "        }    #T_98ee6098_a160_11ea_b95b_88e9fe555610row2_col0 {\n",
       "            background-color:  #023858;\n",
       "            color:  #f1f1f1;\n",
       "        }    #T_98ee6098_a160_11ea_b95b_88e9fe555610row2_col1 {\n",
       "            background-color:  #03476f;\n",
       "            color:  #f1f1f1;\n",
       "        }    #T_98ee6098_a160_11ea_b95b_88e9fe555610row2_col2 {\n",
       "            background-color:  #0d75b3;\n",
       "            color:  #f1f1f1;\n",
       "        }    #T_98ee6098_a160_11ea_b95b_88e9fe555610row2_col3 {\n",
       "            background-color:  #ebe6f2;\n",
       "            color:  #000000;\n",
       "        }    #T_98ee6098_a160_11ea_b95b_88e9fe555610row2_col4 {\n",
       "            background-color:  #fff7fb;\n",
       "            color:  #000000;\n",
       "        }    #T_98ee6098_a160_11ea_b95b_88e9fe555610row3_col0 {\n",
       "            background-color:  #c2cbe2;\n",
       "            color:  #000000;\n",
       "        }    #T_98ee6098_a160_11ea_b95b_88e9fe555610row3_col1 {\n",
       "            background-color:  #afc1dd;\n",
       "            color:  #000000;\n",
       "        }    #T_98ee6098_a160_11ea_b95b_88e9fe555610row3_col2 {\n",
       "            background-color:  #023858;\n",
       "            color:  #f1f1f1;\n",
       "        }    #T_98ee6098_a160_11ea_b95b_88e9fe555610row3_col3 {\n",
       "            background-color:  #bbc7e0;\n",
       "            color:  #000000;\n",
       "        }    #T_98ee6098_a160_11ea_b95b_88e9fe555610row3_col4 {\n",
       "            background-color:  #fff7fb;\n",
       "            color:  #000000;\n",
       "        }    #T_98ee6098_a160_11ea_b95b_88e9fe555610row4_col0 {\n",
       "            background-color:  #fff7fb;\n",
       "            color:  #000000;\n",
       "        }    #T_98ee6098_a160_11ea_b95b_88e9fe555610row4_col1 {\n",
       "            background-color:  #ede8f3;\n",
       "            color:  #000000;\n",
       "        }    #T_98ee6098_a160_11ea_b95b_88e9fe555610row4_col2 {\n",
       "            background-color:  #023858;\n",
       "            color:  #f1f1f1;\n",
       "        }    #T_98ee6098_a160_11ea_b95b_88e9fe555610row4_col3 {\n",
       "            background-color:  #045382;\n",
       "            color:  #f1f1f1;\n",
       "        }    #T_98ee6098_a160_11ea_b95b_88e9fe555610row4_col4 {\n",
       "            background-color:  #89b1d4;\n",
       "            color:  #000000;\n",
       "        }    #T_98ee6098_a160_11ea_b95b_88e9fe555610row5_col0 {\n",
       "            background-color:  #023858;\n",
       "            color:  #f1f1f1;\n",
       "        }    #T_98ee6098_a160_11ea_b95b_88e9fe555610row5_col1 {\n",
       "            background-color:  #0872b1;\n",
       "            color:  #f1f1f1;\n",
       "        }    #T_98ee6098_a160_11ea_b95b_88e9fe555610row5_col2 {\n",
       "            background-color:  #045382;\n",
       "            color:  #f1f1f1;\n",
       "        }    #T_98ee6098_a160_11ea_b95b_88e9fe555610row5_col3 {\n",
       "            background-color:  #ebe6f2;\n",
       "            color:  #000000;\n",
       "        }    #T_98ee6098_a160_11ea_b95b_88e9fe555610row5_col4 {\n",
       "            background-color:  #fff7fb;\n",
       "            color:  #000000;\n",
       "        }    #T_98ee6098_a160_11ea_b95b_88e9fe555610row6_col0 {\n",
       "            background-color:  #fff7fb;\n",
       "            color:  #000000;\n",
       "        }    #T_98ee6098_a160_11ea_b95b_88e9fe555610row6_col1 {\n",
       "            background-color:  #f4eef6;\n",
       "            color:  #000000;\n",
       "        }    #T_98ee6098_a160_11ea_b95b_88e9fe555610row6_col2 {\n",
       "            background-color:  #023858;\n",
       "            color:  #f1f1f1;\n",
       "        }    #T_98ee6098_a160_11ea_b95b_88e9fe555610row6_col3 {\n",
       "            background-color:  #045585;\n",
       "            color:  #f1f1f1;\n",
       "        }    #T_98ee6098_a160_11ea_b95b_88e9fe555610row6_col4 {\n",
       "            background-color:  #89b1d4;\n",
       "            color:  #000000;\n",
       "        }    #T_98ee6098_a160_11ea_b95b_88e9fe555610row7_col0 {\n",
       "            background-color:  #023c5f;\n",
       "            color:  #f1f1f1;\n",
       "        }    #T_98ee6098_a160_11ea_b95b_88e9fe555610row7_col1 {\n",
       "            background-color:  #023858;\n",
       "            color:  #f1f1f1;\n",
       "        }    #T_98ee6098_a160_11ea_b95b_88e9fe555610row7_col2 {\n",
       "            background-color:  #045687;\n",
       "            color:  #f1f1f1;\n",
       "        }    #T_98ee6098_a160_11ea_b95b_88e9fe555610row7_col3 {\n",
       "            background-color:  #f7f0f7;\n",
       "            color:  #000000;\n",
       "        }    #T_98ee6098_a160_11ea_b95b_88e9fe555610row7_col4 {\n",
       "            background-color:  #fff7fb;\n",
       "            color:  #000000;\n",
       "        }    #T_98ee6098_a160_11ea_b95b_88e9fe555610row8_col0 {\n",
       "            background-color:  #023858;\n",
       "            color:  #f1f1f1;\n",
       "        }    #T_98ee6098_a160_11ea_b95b_88e9fe555610row8_col1 {\n",
       "            background-color:  #056aa6;\n",
       "            color:  #f1f1f1;\n",
       "        }    #T_98ee6098_a160_11ea_b95b_88e9fe555610row8_col2 {\n",
       "            background-color:  #6fa7ce;\n",
       "            color:  #000000;\n",
       "        }    #T_98ee6098_a160_11ea_b95b_88e9fe555610row8_col3 {\n",
       "            background-color:  #d2d2e7;\n",
       "            color:  #000000;\n",
       "        }    #T_98ee6098_a160_11ea_b95b_88e9fe555610row8_col4 {\n",
       "            background-color:  #fff7fb;\n",
       "            color:  #000000;\n",
       "        }    #T_98ee6098_a160_11ea_b95b_88e9fe555610row9_col0 {\n",
       "            background-color:  #023f64;\n",
       "            color:  #f1f1f1;\n",
       "        }    #T_98ee6098_a160_11ea_b95b_88e9fe555610row9_col1 {\n",
       "            background-color:  #023a5b;\n",
       "            color:  #f1f1f1;\n",
       "        }    #T_98ee6098_a160_11ea_b95b_88e9fe555610row9_col2 {\n",
       "            background-color:  #023858;\n",
       "            color:  #f1f1f1;\n",
       "        }    #T_98ee6098_a160_11ea_b95b_88e9fe555610row9_col3 {\n",
       "            background-color:  #fdf5fa;\n",
       "            color:  #000000;\n",
       "        }    #T_98ee6098_a160_11ea_b95b_88e9fe555610row9_col4 {\n",
       "            background-color:  #fff7fb;\n",
       "            color:  #000000;\n",
       "        }    #T_98ee6098_a160_11ea_b95b_88e9fe555610row10_col0 {\n",
       "            background-color:  #023858;\n",
       "            color:  #f1f1f1;\n",
       "        }    #T_98ee6098_a160_11ea_b95b_88e9fe555610row10_col1 {\n",
       "            background-color:  #023858;\n",
       "            color:  #f1f1f1;\n",
       "        }    #T_98ee6098_a160_11ea_b95b_88e9fe555610row10_col2 {\n",
       "            background-color:  #023b5d;\n",
       "            color:  #f1f1f1;\n",
       "        }    #T_98ee6098_a160_11ea_b95b_88e9fe555610row10_col3 {\n",
       "            background-color:  #fef6fb;\n",
       "            color:  #000000;\n",
       "        }    #T_98ee6098_a160_11ea_b95b_88e9fe555610row10_col4 {\n",
       "            background-color:  #fff7fb;\n",
       "            color:  #000000;\n",
       "        }    #T_98ee6098_a160_11ea_b95b_88e9fe555610row11_col0 {\n",
       "            background-color:  #045e93;\n",
       "            color:  #f1f1f1;\n",
       "        }    #T_98ee6098_a160_11ea_b95b_88e9fe555610row11_col1 {\n",
       "            background-color:  #023858;\n",
       "            color:  #f1f1f1;\n",
       "        }    #T_98ee6098_a160_11ea_b95b_88e9fe555610row11_col2 {\n",
       "            background-color:  #0c74b2;\n",
       "            color:  #f1f1f1;\n",
       "        }    #T_98ee6098_a160_11ea_b95b_88e9fe555610row11_col3 {\n",
       "            background-color:  #eae6f1;\n",
       "            color:  #000000;\n",
       "        }    #T_98ee6098_a160_11ea_b95b_88e9fe555610row11_col4 {\n",
       "            background-color:  #fff7fb;\n",
       "            color:  #000000;\n",
       "        }</style><table id=\"T_98ee6098_a160_11ea_b95b_88e9fe555610\" ><thead>    <tr>        <th class=\"index_name level0\" >label</th>        <th class=\"col_heading level0 col0\" >Cluster 0</th>        <th class=\"col_heading level0 col1\" >Cluster 1</th>        <th class=\"col_heading level0 col2\" >Cluster 2</th>        <th class=\"col_heading level0 col3\" >range</th>        <th class=\"col_heading level0 col4\" >sd</th>    </tr></thead><tbody>\n",
       "                <tr>\n",
       "                        <th id=\"T_98ee6098_a160_11ea_b95b_88e9fe555610level0_row0\" class=\"row_heading level0 row0\" >is_bicolor</th>\n",
       "                        <td id=\"T_98ee6098_a160_11ea_b95b_88e9fe555610row0_col0\" class=\"data row0 col0\" >0.000471</td>\n",
       "                        <td id=\"T_98ee6098_a160_11ea_b95b_88e9fe555610row0_col1\" class=\"data row0 col1\" >0.999467</td>\n",
       "                        <td id=\"T_98ee6098_a160_11ea_b95b_88e9fe555610row0_col2\" class=\"data row0 col2\" >0.281780</td>\n",
       "                        <td id=\"T_98ee6098_a160_11ea_b95b_88e9fe555610row0_col3\" class=\"data row0 col3\" >0.998996</td>\n",
       "                        <td id=\"T_98ee6098_a160_11ea_b95b_88e9fe555610row0_col4\" class=\"data row0 col4\" >0.515138</td>\n",
       "            </tr>\n",
       "            <tr>\n",
       "                        <th id=\"T_98ee6098_a160_11ea_b95b_88e9fe555610level0_row1\" class=\"row_heading level0 row1\" >is_young</th>\n",
       "                        <td id=\"T_98ee6098_a160_11ea_b95b_88e9fe555610row1_col0\" class=\"data row1 col0\" >0.139360</td>\n",
       "                        <td id=\"T_98ee6098_a160_11ea_b95b_88e9fe555610row1_col1\" class=\"data row1 col1\" >0.273600</td>\n",
       "                        <td id=\"T_98ee6098_a160_11ea_b95b_88e9fe555610row1_col2\" class=\"data row1 col2\" >0.870763</td>\n",
       "                        <td id=\"T_98ee6098_a160_11ea_b95b_88e9fe555610row1_col3\" class=\"data row1 col3\" >0.731403</td>\n",
       "                        <td id=\"T_98ee6098_a160_11ea_b95b_88e9fe555610row1_col4\" class=\"data row1 col4\" >0.389353</td>\n",
       "            </tr>\n",
       "            <tr>\n",
       "                        <th id=\"T_98ee6098_a160_11ea_b95b_88e9fe555610level0_row2\" class=\"row_heading level0 row2\" >AdoptionSpeed</th>\n",
       "                        <td id=\"T_98ee6098_a160_11ea_b95b_88e9fe555610row2_col0\" class=\"data row2 col0\" >2.520716</td>\n",
       "                        <td id=\"T_98ee6098_a160_11ea_b95b_88e9fe555610row2_col1\" class=\"data row2 col1\" >2.393067</td>\n",
       "                        <td id=\"T_98ee6098_a160_11ea_b95b_88e9fe555610row2_col2\" class=\"data row2 col2\" >1.919492</td>\n",
       "                        <td id=\"T_98ee6098_a160_11ea_b95b_88e9fe555610row2_col3\" class=\"data row2 col3\" >0.601224</td>\n",
       "                        <td id=\"T_98ee6098_a160_11ea_b95b_88e9fe555610row2_col4\" class=\"data row2 col4\" >0.316764</td>\n",
       "            </tr>\n",
       "            <tr>\n",
       "                        <th id=\"T_98ee6098_a160_11ea_b95b_88e9fe555610level0_row3\" class=\"row_heading level0 row3\" >is_selangor</th>\n",
       "                        <td id=\"T_98ee6098_a160_11ea_b95b_88e9fe555610row3_col0\" class=\"data row3 col0\" >0.458569</td>\n",
       "                        <td id=\"T_98ee6098_a160_11ea_b95b_88e9fe555610row3_col1\" class=\"data row3 col1\" >0.498667</td>\n",
       "                        <td id=\"T_98ee6098_a160_11ea_b95b_88e9fe555610row3_col2\" class=\"data row3 col2\" >0.933263</td>\n",
       "                        <td id=\"T_98ee6098_a160_11ea_b95b_88e9fe555610row3_col3\" class=\"data row3 col3\" >0.474694</td>\n",
       "                        <td id=\"T_98ee6098_a160_11ea_b95b_88e9fe555610row3_col4\" class=\"data row3 col4\" >0.263254</td>\n",
       "            </tr>\n",
       "            <tr>\n",
       "                        <th id=\"T_98ee6098_a160_11ea_b95b_88e9fe555610level0_row4\" class=\"row_heading level0 row4\" >is_top_10_rescue</th>\n",
       "                        <td id=\"T_98ee6098_a160_11ea_b95b_88e9fe555610row4_col0\" class=\"data row4 col0\" >0.026365</td>\n",
       "                        <td id=\"T_98ee6098_a160_11ea_b95b_88e9fe555610row4_col1\" class=\"data row4 col1\" >0.058133</td>\n",
       "                        <td id=\"T_98ee6098_a160_11ea_b95b_88e9fe555610row4_col2\" class=\"data row4 col2\" >0.295551</td>\n",
       "                        <td id=\"T_98ee6098_a160_11ea_b95b_88e9fe555610row4_col3\" class=\"data row4 col3\" >0.269185</td>\n",
       "                        <td id=\"T_98ee6098_a160_11ea_b95b_88e9fe555610row4_col4\" class=\"data row4 col4\" >0.147104</td>\n",
       "            </tr>\n",
       "            <tr>\n",
       "                        <th id=\"T_98ee6098_a160_11ea_b95b_88e9fe555610level0_row5\" class=\"row_heading level0 row5\" >is_female</th>\n",
       "                        <td id=\"T_98ee6098_a160_11ea_b95b_88e9fe555610row5_col0\" class=\"data row5 col0\" >0.601224</td>\n",
       "                        <td id=\"T_98ee6098_a160_11ea_b95b_88e9fe555610row5_col1\" class=\"data row5 col1\" >0.462933</td>\n",
       "                        <td id=\"T_98ee6098_a160_11ea_b95b_88e9fe555610row5_col2\" class=\"data row5 col2\" >0.547669</td>\n",
       "                        <td id=\"T_98ee6098_a160_11ea_b95b_88e9fe555610row5_col3\" class=\"data row5 col3\" >0.138291</td>\n",
       "                        <td id=\"T_98ee6098_a160_11ea_b95b_88e9fe555610row5_col4\" class=\"data row5 col4\" >0.069729</td>\n",
       "            </tr>\n",
       "            <tr>\n",
       "                        <th id=\"T_98ee6098_a160_11ea_b95b_88e9fe555610level0_row6\" class=\"row_heading level0 row6\" >is_videoed</th>\n",
       "                        <td id=\"T_98ee6098_a160_11ea_b95b_88e9fe555610row6_col0\" class=\"data row6 col0\" >0.013653</td>\n",
       "                        <td id=\"T_98ee6098_a160_11ea_b95b_88e9fe555610row6_col1\" class=\"data row6 col1\" >0.022933</td>\n",
       "                        <td id=\"T_98ee6098_a160_11ea_b95b_88e9fe555610row6_col2\" class=\"data row6 col2\" >0.138771</td>\n",
       "                        <td id=\"T_98ee6098_a160_11ea_b95b_88e9fe555610row6_col3\" class=\"data row6 col3\" >0.125118</td>\n",
       "                        <td id=\"T_98ee6098_a160_11ea_b95b_88e9fe555610row6_col4\" class=\"data row6 col4\" >0.069712</td>\n",
       "            </tr>\n",
       "            <tr>\n",
       "                        <th id=\"T_98ee6098_a160_11ea_b95b_88e9fe555610level0_row7\" class=\"row_heading level0 row7\" >is_free</th>\n",
       "                        <td id=\"T_98ee6098_a160_11ea_b95b_88e9fe555610row7_col0\" class=\"data row7 col0\" >0.821563</td>\n",
       "                        <td id=\"T_98ee6098_a160_11ea_b95b_88e9fe555610row7_col1\" class=\"data row7 col1\" >0.835200</td>\n",
       "                        <td id=\"T_98ee6098_a160_11ea_b95b_88e9fe555610row7_col2\" class=\"data row7 col2\" >0.747881</td>\n",
       "                        <td id=\"T_98ee6098_a160_11ea_b95b_88e9fe555610row7_col3\" class=\"data row7 col3\" >0.087319</td>\n",
       "                        <td id=\"T_98ee6098_a160_11ea_b95b_88e9fe555610row7_col4\" class=\"data row7 col4\" >0.046974</td>\n",
       "            </tr>\n",
       "            <tr>\n",
       "                        <th id=\"T_98ee6098_a160_11ea_b95b_88e9fe555610level0_row8\" class=\"row_heading level0 row8\" >is_pure_bred</th>\n",
       "                        <td id=\"T_98ee6098_a160_11ea_b95b_88e9fe555610row8_col0\" class=\"data row8 col0\" >0.166196</td>\n",
       "                        <td id=\"T_98ee6098_a160_11ea_b95b_88e9fe555610row8_col1\" class=\"data row8 col1\" >0.137067</td>\n",
       "                        <td id=\"T_98ee6098_a160_11ea_b95b_88e9fe555610row8_col2\" class=\"data row8 col2\" >0.100636</td>\n",
       "                        <td id=\"T_98ee6098_a160_11ea_b95b_88e9fe555610row8_col3\" class=\"data row8 col3\" >0.065560</td>\n",
       "                        <td id=\"T_98ee6098_a160_11ea_b95b_88e9fe555610row8_col4\" class=\"data row8 col4\" >0.032848</td>\n",
       "            </tr>\n",
       "            <tr>\n",
       "                        <th id=\"T_98ee6098_a160_11ea_b95b_88e9fe555610level0_row9\" class=\"row_heading level0 row9\" >has_photo</th>\n",
       "                        <td id=\"T_98ee6098_a160_11ea_b95b_88e9fe555610row9_col0\" class=\"data row9 col0\" >0.970339</td>\n",
       "                        <td id=\"T_98ee6098_a160_11ea_b95b_88e9fe555610row9_col1\" class=\"data row9 col1\" >0.987733</td>\n",
       "                        <td id=\"T_98ee6098_a160_11ea_b95b_88e9fe555610row9_col2\" class=\"data row9 col2\" >0.998941</td>\n",
       "                        <td id=\"T_98ee6098_a160_11ea_b95b_88e9fe555610row9_col3\" class=\"data row9 col3\" >0.028602</td>\n",
       "                        <td id=\"T_98ee6098_a160_11ea_b95b_88e9fe555610row9_col4\" class=\"data row9 col4\" >0.014412</td>\n",
       "            </tr>\n",
       "            <tr>\n",
       "                        <th id=\"T_98ee6098_a160_11ea_b95b_88e9fe555610level0_row10\" class=\"row_heading level0 row10\" >has_name</th>\n",
       "                        <td id=\"T_98ee6098_a160_11ea_b95b_88e9fe555610row10_col0\" class=\"data row10 col0\" >0.925141</td>\n",
       "                        <td id=\"T_98ee6098_a160_11ea_b95b_88e9fe555610row10_col1\" class=\"data row10 col1\" >0.926400</td>\n",
       "                        <td id=\"T_98ee6098_a160_11ea_b95b_88e9fe555610row10_col2\" class=\"data row10 col2\" >0.915254</td>\n",
       "                        <td id=\"T_98ee6098_a160_11ea_b95b_88e9fe555610row10_col3\" class=\"data row10 col3\" >0.011146</td>\n",
       "                        <td id=\"T_98ee6098_a160_11ea_b95b_88e9fe555610row10_col4\" class=\"data row10 col4\" >0.006104</td>\n",
       "            </tr>\n",
       "            <tr>\n",
       "                        <th id=\"T_98ee6098_a160_11ea_b95b_88e9fe555610level0_row11\" class=\"row_heading level0 row11\" >is_injured</th>\n",
       "                        <td id=\"T_98ee6098_a160_11ea_b95b_88e9fe555610row11_col0\" class=\"data row11 col0\" >0.036252</td>\n",
       "                        <td id=\"T_98ee6098_a160_11ea_b95b_88e9fe555610row11_col1\" class=\"data row11 col1\" >0.041600</td>\n",
       "                        <td id=\"T_98ee6098_a160_11ea_b95b_88e9fe555610row11_col2\" class=\"data row11 col2\" >0.031780</td>\n",
       "                        <td id=\"T_98ee6098_a160_11ea_b95b_88e9fe555610row11_col3\" class=\"data row11 col3\" >0.009820</td>\n",
       "                        <td id=\"T_98ee6098_a160_11ea_b95b_88e9fe555610row11_col4\" class=\"data row11 col4\" >0.004917</td>\n",
       "            </tr>\n",
       "    </tbody></table>"
      ],
      "text/plain": [
       "<pandas.io.formats.style.Styler at 0x1a278d0790>"
      ]
     },
     "execution_count": 246,
     "metadata": {},
     "output_type": "execute_result"
    },
    {
     "data": {
      "application/javascript": [
       "\n",
       "            setTimeout(function() {\n",
       "                var nbb_cell_id = 246;\n",
       "                var nbb_unformatted_code = \"clst_t = mean_cluster_df.T\\n\\nclst_t_range = clst_t.max(axis=1) - clst_t.min(axis=1)\\nclst_t_sd = clst_t.std(axis=1)\\n\\nclst_t[\\\"range\\\"] = clst_t_range\\nclst_t[\\\"sd\\\"] = clst_t_sd\\nclst_t.sort_values(\\\"range\\\", ascending=False).style.background_gradient(axis=1)\";\n",
       "                var nbb_formatted_code = \"clst_t = mean_cluster_df.T\\n\\nclst_t_range = clst_t.max(axis=1) - clst_t.min(axis=1)\\nclst_t_sd = clst_t.std(axis=1)\\n\\nclst_t[\\\"range\\\"] = clst_t_range\\nclst_t[\\\"sd\\\"] = clst_t_sd\\nclst_t.sort_values(\\\"range\\\", ascending=False).style.background_gradient(axis=1)\";\n",
       "                var nbb_cells = Jupyter.notebook.get_cells();\n",
       "                for (var i = 0; i < nbb_cells.length; ++i) {\n",
       "                    if (nbb_cells[i].input_prompt_number == nbb_cell_id) {\n",
       "                        if (nbb_cells[i].get_text() == nbb_unformatted_code) {\n",
       "                             nbb_cells[i].set_text(nbb_formatted_code);\n",
       "                        }\n",
       "                        break;\n",
       "                    }\n",
       "                }\n",
       "            }, 500);\n",
       "            "
      ],
      "text/plain": [
       "<IPython.core.display.Javascript object>"
      ]
     },
     "metadata": {},
     "output_type": "display_data"
    }
   ],
   "source": [
    "clst_t = mean_cluster_df.T\n",
    "\n",
    "clst_t_range = clst_t.max(axis=1) - clst_t.min(axis=1)\n",
    "clst_t_sd = clst_t.std(axis=1)\n",
    "\n",
    "clst_t[\"range\"] = clst_t_range\n",
    "clst_t[\"sd\"] = clst_t_sd\n",
    "clst_t.sort_values(\"range\", ascending=False).style.background_gradient(axis=1)"
   ]
  },
  {
   "cell_type": "code",
   "execution_count": 247,
   "metadata": {},
   "outputs": [
    {
     "data": {
      "text/plain": [
       "0.253188473922401"
      ]
     },
     "execution_count": 247,
     "metadata": {},
     "output_type": "execute_result"
    },
    {
     "data": {
      "application/javascript": [
       "\n",
       "            setTimeout(function() {\n",
       "                var nbb_cell_id = 247;\n",
       "                var nbb_unformatted_code = \"sscore = silhouette_score(dist_mat, clst.labels_, metric=\\\"precomputed\\\")\\nsscore\";\n",
       "                var nbb_formatted_code = \"sscore = silhouette_score(dist_mat, clst.labels_, metric=\\\"precomputed\\\")\\nsscore\";\n",
       "                var nbb_cells = Jupyter.notebook.get_cells();\n",
       "                for (var i = 0; i < nbb_cells.length; ++i) {\n",
       "                    if (nbb_cells[i].input_prompt_number == nbb_cell_id) {\n",
       "                        if (nbb_cells[i].get_text() == nbb_unformatted_code) {\n",
       "                             nbb_cells[i].set_text(nbb_formatted_code);\n",
       "                        }\n",
       "                        break;\n",
       "                    }\n",
       "                }\n",
       "            }, 500);\n",
       "            "
      ],
      "text/plain": [
       "<IPython.core.display.Javascript object>"
      ]
     },
     "metadata": {},
     "output_type": "display_data"
    }
   ],
   "source": [
    "sscore = silhouette_score(dist_mat, clst.labels_, metric=\"precomputed\")\n",
    "sscore"
   ]
  },
  {
   "cell_type": "markdown",
   "metadata": {},
   "source": [
    "This is a slightly better result than the previous two clustering methods.  Choosing 3 clusters produced the most differentiated clusters."
   ]
  },
  {
   "cell_type": "markdown",
   "metadata": {},
   "source": [
    "# Plotting Results"
   ]
  },
  {
   "cell_type": "markdown",
   "metadata": {},
   "source": [
    "The goal is to find the characteristics that are governing the adoption time.  Let's find out whether adoption times vary between clusters, and then characterize the clusters."
   ]
  },
  {
   "cell_type": "code",
   "execution_count": 262,
   "metadata": {},
   "outputs": [
    {
     "data": {
      "application/javascript": [
       "\n",
       "            setTimeout(function() {\n",
       "                var nbb_cell_id = 262;\n",
       "                var nbb_unformatted_code = \"ap_cluster_df = ap_cluster_df.sort_values(\\\"label\\\")\";\n",
       "                var nbb_formatted_code = \"ap_cluster_df = ap_cluster_df.sort_values(\\\"label\\\")\";\n",
       "                var nbb_cells = Jupyter.notebook.get_cells();\n",
       "                for (var i = 0; i < nbb_cells.length; ++i) {\n",
       "                    if (nbb_cells[i].input_prompt_number == nbb_cell_id) {\n",
       "                        if (nbb_cells[i].get_text() == nbb_unformatted_code) {\n",
       "                             nbb_cells[i].set_text(nbb_formatted_code);\n",
       "                        }\n",
       "                        break;\n",
       "                    }\n",
       "                }\n",
       "            }, 500);\n",
       "            "
      ],
      "text/plain": [
       "<IPython.core.display.Javascript object>"
      ]
     },
     "metadata": {},
     "output_type": "display_data"
    }
   ],
   "source": [
    "ap_cluster_df = ap_cluster_df.sort_values(\"label\")"
   ]
  },
  {
   "cell_type": "code",
   "execution_count": 277,
   "metadata": {},
   "outputs": [
    {
     "data": {
      "image/png": "[encoded data removed]",
      "text/plain": [
       "<Figure size 720x504 with 1 Axes>"
      ]
     },
     "metadata": {
      "needs_background": "light"
     },
     "output_type": "display_data"
    },
    {
     "data": {
      "application/javascript": [
       "\n",
       "            setTimeout(function() {\n",
       "                var nbb_cell_id = 277;\n",
       "                var nbb_unformatted_code = \"font = {\\\"family\\\": \\\"normal\\\", \\\"weight\\\": \\\"normal\\\", \\\"size\\\": 22}\\n\\nplt.rc(\\\"font\\\", **font)\\n\\nplt.figure(figsize=(10, 7))\\nsns.barplot(x=\\\"label\\\", y=\\\"AdoptionSpeed\\\", data=ap_cluster_df)\\nplt.xlabel(\\\"\\\")\\nplt.ylabel(\\\"Adoption Time\\\")\\nplt.show()\";\n",
       "                var nbb_formatted_code = \"font = {\\\"family\\\": \\\"normal\\\", \\\"weight\\\": \\\"normal\\\", \\\"size\\\": 22}\\n\\nplt.rc(\\\"font\\\", **font)\\n\\nplt.figure(figsize=(10, 7))\\nsns.barplot(x=\\\"label\\\", y=\\\"AdoptionSpeed\\\", data=ap_cluster_df)\\nplt.xlabel(\\\"\\\")\\nplt.ylabel(\\\"Adoption Time\\\")\\nplt.show()\";\n",
       "                var nbb_cells = Jupyter.notebook.get_cells();\n",
       "                for (var i = 0; i < nbb_cells.length; ++i) {\n",
       "                    if (nbb_cells[i].input_prompt_number == nbb_cell_id) {\n",
       "                        if (nbb_cells[i].get_text() == nbb_unformatted_code) {\n",
       "                             nbb_cells[i].set_text(nbb_formatted_code);\n",
       "                        }\n",
       "                        break;\n",
       "                    }\n",
       "                }\n",
       "            }, 500);\n",
       "            "
      ],
      "text/plain": [
       "<IPython.core.display.Javascript object>"
      ]
     },
     "metadata": {},
     "output_type": "display_data"
    }
   ],
   "source": [
    "font = {\"family\": \"normal\", \"weight\": \"normal\", \"size\": 22}\n",
    "\n",
    "plt.rc(\"font\", **font)\n",
    "\n",
    "plt.figure(figsize=(10, 7))\n",
    "sns.barplot(x=\"label\", y=\"AdoptionSpeed\", data=ap_cluster_df)\n",
    "plt.xlabel(\"\")\n",
    "plt.ylabel(\"Adoption Time\")\n",
    "plt.show()"
   ]
  },
  {
   "cell_type": "markdown",
   "metadata": {},
   "source": [
    "Cluster 2 has the shortest adoption time and Cluster 0 has the longest.  Let's see what the other characteristics of the clusters are..."
   ]
  },
  {
   "cell_type": "code",
   "execution_count": 271,
   "metadata": {},
   "outputs": [
    {
     "data": {
      "image/png": "[encoded data removed]",
      "text/plain": [
       "<Figure size 720x504 with 1 Axes>"
      ]
     },
     "metadata": {
      "needs_background": "light"
     },
     "output_type": "display_data"
    },
    {
     "data": {
      "application/javascript": [
       "\n",
       "            setTimeout(function() {\n",
       "                var nbb_cell_id = 271;\n",
       "                var nbb_unformatted_code = \"plt.figure(figsize=(10, 7))\\nsns.barplot(x=\\\"label\\\", y=\\\"is_bicolor\\\", data=ap_cluster_df)\\nplt.xlabel(\\\"\\\")\\nplt.ylabel(\\\"Bicolor Fur\\\")\\nplt.show()\";\n",
       "                var nbb_formatted_code = \"plt.figure(figsize=(10, 7))\\nsns.barplot(x=\\\"label\\\", y=\\\"is_bicolor\\\", data=ap_cluster_df)\\nplt.xlabel(\\\"\\\")\\nplt.ylabel(\\\"Bicolor Fur\\\")\\nplt.show()\";\n",
       "                var nbb_cells = Jupyter.notebook.get_cells();\n",
       "                for (var i = 0; i < nbb_cells.length; ++i) {\n",
       "                    if (nbb_cells[i].input_prompt_number == nbb_cell_id) {\n",
       "                        if (nbb_cells[i].get_text() == nbb_unformatted_code) {\n",
       "                             nbb_cells[i].set_text(nbb_formatted_code);\n",
       "                        }\n",
       "                        break;\n",
       "                    }\n",
       "                }\n",
       "            }, 500);\n",
       "            "
      ],
      "text/plain": [
       "<IPython.core.display.Javascript object>"
      ]
     },
     "metadata": {},
     "output_type": "display_data"
    }
   ],
   "source": [
    "plt.figure(figsize=(10, 7))\n",
    "sns.barplot(x=\"label\", y=\"is_bicolor\", data=ap_cluster_df)\n",
    "plt.xlabel(\"\")\n",
    "plt.ylabel(\"Bicolor Fur\")\n",
    "plt.show()"
   ]
  },
  {
   "cell_type": "code",
   "execution_count": 273,
   "metadata": {},
   "outputs": [
    {
     "data": {
      "image/png": "[encoded data removed]",
      "text/plain": [
       "<Figure size 720x504 with 1 Axes>"
      ]
     },
     "metadata": {
      "needs_background": "light"
     },
     "output_type": "display_data"
    },
    {
     "data": {
      "application/javascript": [
       "\n",
       "            setTimeout(function() {\n",
       "                var nbb_cell_id = 273;\n",
       "                var nbb_unformatted_code = \"plt.figure(figsize=(10, 7))\\nsns.barplot(x=\\\"label\\\", y=\\\"is_young\\\", data=ap_cluster_df)\\nplt.xlabel(\\\"\\\")\\nplt.ylabel(\\\"Less than 2 Mo.s Old\\\")\\nplt.show()\";\n",
       "                var nbb_formatted_code = \"plt.figure(figsize=(10, 7))\\nsns.barplot(x=\\\"label\\\", y=\\\"is_young\\\", data=ap_cluster_df)\\nplt.xlabel(\\\"\\\")\\nplt.ylabel(\\\"Less than 2 Mo.s Old\\\")\\nplt.show()\";\n",
       "                var nbb_cells = Jupyter.notebook.get_cells();\n",
       "                for (var i = 0; i < nbb_cells.length; ++i) {\n",
       "                    if (nbb_cells[i].input_prompt_number == nbb_cell_id) {\n",
       "                        if (nbb_cells[i].get_text() == nbb_unformatted_code) {\n",
       "                             nbb_cells[i].set_text(nbb_formatted_code);\n",
       "                        }\n",
       "                        break;\n",
       "                    }\n",
       "                }\n",
       "            }, 500);\n",
       "            "
      ],
      "text/plain": [
       "<IPython.core.display.Javascript object>"
      ]
     },
     "metadata": {},
     "output_type": "display_data"
    }
   ],
   "source": [
    "plt.figure(figsize=(10, 7))\n",
    "sns.barplot(x=\"label\", y=\"is_young\", data=ap_cluster_df)\n",
    "plt.xlabel(\"\")\n",
    "plt.ylabel(\"Less than 2 Mo.s Old\")\n",
    "plt.show()"
   ]
  },
  {
   "cell_type": "code",
   "execution_count": 274,
   "metadata": {},
   "outputs": [
    {
     "data": {
      "image/png": "[encoded data removed]",
      "text/plain": [
       "<Figure size 720x504 with 1 Axes>"
      ]
     },
     "metadata": {
      "needs_background": "light"
     },
     "output_type": "display_data"
    },
    {
     "data": {
      "application/javascript": [
       "\n",
       "            setTimeout(function() {\n",
       "                var nbb_cell_id = 274;\n",
       "                var nbb_unformatted_code = \"plt.figure(figsize=(10, 7))\\nsns.barplot(x=\\\"label\\\", y=\\\"is_selangor\\\", data=ap_cluster_df)\\nplt.xlabel(\\\"\\\")\\nplt.ylabel(\\\"From Selangor\\\")\\nplt.show()\";\n",
       "                var nbb_formatted_code = \"plt.figure(figsize=(10, 7))\\nsns.barplot(x=\\\"label\\\", y=\\\"is_selangor\\\", data=ap_cluster_df)\\nplt.xlabel(\\\"\\\")\\nplt.ylabel(\\\"From Selangor\\\")\\nplt.show()\";\n",
       "                var nbb_cells = Jupyter.notebook.get_cells();\n",
       "                for (var i = 0; i < nbb_cells.length; ++i) {\n",
       "                    if (nbb_cells[i].input_prompt_number == nbb_cell_id) {\n",
       "                        if (nbb_cells[i].get_text() == nbb_unformatted_code) {\n",
       "                             nbb_cells[i].set_text(nbb_formatted_code);\n",
       "                        }\n",
       "                        break;\n",
       "                    }\n",
       "                }\n",
       "            }, 500);\n",
       "            "
      ],
      "text/plain": [
       "<IPython.core.display.Javascript object>"
      ]
     },
     "metadata": {},
     "output_type": "display_data"
    }
   ],
   "source": [
    "plt.figure(figsize=(10, 7))\n",
    "sns.barplot(x=\"label\", y=\"is_selangor\", data=ap_cluster_df)\n",
    "plt.xlabel(\"\")\n",
    "plt.ylabel(\"From Selangor\")\n",
    "plt.show()"
   ]
  },
  {
   "cell_type": "code",
   "execution_count": 275,
   "metadata": {},
   "outputs": [
    {
     "data": {
      "image/png": "[encoded data removed]",
      "text/plain": [
       "<Figure size 720x504 with 1 Axes>"
      ]
     },
     "metadata": {
      "needs_background": "light"
     },
     "output_type": "display_data"
    },
    {
     "data": {
      "application/javascript": [
       "\n",
       "            setTimeout(function() {\n",
       "                var nbb_cell_id = 275;\n",
       "                var nbb_unformatted_code = \"plt.figure(figsize=(10, 7))\\nsns.barplot(x=\\\"label\\\", y=\\\"is_female\\\", data=ap_cluster_df)\\nplt.xlabel(\\\"\\\")\\nplt.ylabel(\\\"Female\\\")\\nplt.show()\";\n",
       "                var nbb_formatted_code = \"plt.figure(figsize=(10, 7))\\nsns.barplot(x=\\\"label\\\", y=\\\"is_female\\\", data=ap_cluster_df)\\nplt.xlabel(\\\"\\\")\\nplt.ylabel(\\\"Female\\\")\\nplt.show()\";\n",
       "                var nbb_cells = Jupyter.notebook.get_cells();\n",
       "                for (var i = 0; i < nbb_cells.length; ++i) {\n",
       "                    if (nbb_cells[i].input_prompt_number == nbb_cell_id) {\n",
       "                        if (nbb_cells[i].get_text() == nbb_unformatted_code) {\n",
       "                             nbb_cells[i].set_text(nbb_formatted_code);\n",
       "                        }\n",
       "                        break;\n",
       "                    }\n",
       "                }\n",
       "            }, 500);\n",
       "            "
      ],
      "text/plain": [
       "<IPython.core.display.Javascript object>"
      ]
     },
     "metadata": {},
     "output_type": "display_data"
    }
   ],
   "source": [
    "plt.figure(figsize=(10, 7))\n",
    "sns.barplot(x=\"label\", y=\"is_female\", data=ap_cluster_df)\n",
    "plt.xlabel(\"\")\n",
    "plt.ylabel(\"Female\")\n",
    "plt.show()"
   ]
  },
  {
   "cell_type": "code",
   "execution_count": 276,
   "metadata": {},
   "outputs": [
    {
     "data": {
      "image/png": "[encoded data removed]",
      "text/plain": [
       "<Figure size 720x504 with 1 Axes>"
      ]
     },
     "metadata": {
      "needs_background": "light"
     },
     "output_type": "display_data"
    },
    {
     "data": {
      "application/javascript": [
       "\n",
       "            setTimeout(function() {\n",
       "                var nbb_cell_id = 276;\n",
       "                var nbb_unformatted_code = \"plt.figure(figsize=(10, 7))\\nsns.barplot(x=\\\"label\\\", y=\\\"is_top_10_rescue\\\", data=ap_cluster_df)\\nplt.xlabel(\\\"\\\")\\nplt.ylabel(\\\"From Top 10 Rescue\\\")\\nplt.show()\";\n",
       "                var nbb_formatted_code = \"plt.figure(figsize=(10, 7))\\nsns.barplot(x=\\\"label\\\", y=\\\"is_top_10_rescue\\\", data=ap_cluster_df)\\nplt.xlabel(\\\"\\\")\\nplt.ylabel(\\\"From Top 10 Rescue\\\")\\nplt.show()\";\n",
       "                var nbb_cells = Jupyter.notebook.get_cells();\n",
       "                for (var i = 0; i < nbb_cells.length; ++i) {\n",
       "                    if (nbb_cells[i].input_prompt_number == nbb_cell_id) {\n",
       "                        if (nbb_cells[i].get_text() == nbb_unformatted_code) {\n",
       "                             nbb_cells[i].set_text(nbb_formatted_code);\n",
       "                        }\n",
       "                        break;\n",
       "                    }\n",
       "                }\n",
       "            }, 500);\n",
       "            "
      ],
      "text/plain": [
       "<IPython.core.display.Javascript object>"
      ]
     },
     "metadata": {},
     "output_type": "display_data"
    }
   ],
   "source": [
    "plt.figure(figsize=(10, 7))\n",
    "sns.barplot(x=\"label\", y=\"is_top_10_rescue\", data=ap_cluster_df)\n",
    "plt.xlabel(\"\")\n",
    "plt.ylabel(\"From Top 10 Rescue\")\n",
    "plt.show()"
   ]
  },
  {
   "cell_type": "markdown",
   "metadata": {},
   "source": [
    "# Conclusions"
   ]
  },
  {
   "cell_type": "markdown",
   "metadata": {},
   "source": [
    "It looks like the shorter adoption times are from the cluster that is most often from the top ten most popular rescues and the most populous region in Malaysia, and they tend to be younger than the other clusters.\n",
    "\n",
    "The longest adoption times are associated with older, female, and monocolor."
   ]
  },
  {
   "cell_type": "markdown",
   "metadata": {},
   "source": [
    "# (Possible) Actionable Insights"
   ]
  },
  {
   "cell_type": "markdown",
   "metadata": {},
   "source": [
    "Rescuers can devote more advertising resources to older animals from more rural parts of Malaysia.\n",
    "\n",
    "Concientious adopters can be more aware that adopting older, mono-color, female animals will have a larger impact on animal welfare. "
   ]
  }
 ],
 "metadata": {
  "kernelspec": {
   "display_name": "Python 3",
   "language": "python",
   "name": "python3"
  },
  "language_info": {
   "codemirror_mode": {
    "name": "ipython",
    "version": 3
   },
   "file_extension": ".py",
   "mimetype": "text/x-python",
   "name": "python",
   "nbconvert_exporter": "python",
   "pygments_lexer": "ipython3",
   "version": "3.7.4"
  }
 },
 "nbformat": 4,
 "nbformat_minor": 2
}
