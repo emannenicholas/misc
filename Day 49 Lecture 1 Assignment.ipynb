{
 "cells": [
  {
   "cell_type": "markdown",
   "metadata": {
    "colab_type": "text",
    "id": "xdL0Yz0D1D_q"
   },
   "source": [
    "## Day 49 Lecture 1 Assignment\n",
    "\n",
    "In this assignment, we will apply GMM (Gaussian Mixture Modeling) clustering to a dataset containing player-season statistics for NBA players from the past four years."
   ]
  },
  {
   "cell_type": "code",
   "execution_count": 1,
   "metadata": {
    "colab": {},
    "colab_type": "code",
    "id": "OulyiH_C1D_r"
   },
   "outputs": [],
   "source": [
    "%matplotlib inline\n",
    "\n",
    "import matplotlib.pyplot as plt\n",
    "import numpy as np\n",
    "import pandas as pd\n",
    "from sklearn.mixture import GaussianMixture\n",
    "from sklearn.cluster import KMeans\n",
    "from sklearn.preprocessing import StandardScaler\n",
    "from scipy.special import entr"
   ]
  },
  {
   "cell_type": "markdown",
   "metadata": {
    "colab_type": "text",
    "id": "ezMvoRlB1D_t"
   },
   "source": [
    "This dataset contains player-season statistics for NBA players from the past four years. Each row in this dataset represents a player's per-game averages for a single season. \n",
    "\n",
    "This dataset contains the following variables:\n",
    "\n",
    "- Seas: season ('2019' = 2018-2019 season, '2018' = 2017-2018 season, etc.)\n",
    "- Player: player name\n",
    "- Pos: position\n",
    "- Age: age\n",
    "- Tm: team\n",
    "- G: games played\n",
    "- GS: games started\n",
    "- MP: minutes played\n",
    "- FG: field goals\n",
    "- FGA: field goals attempted\n",
    "- FG%: field goal percentage\n",
    "- 3P: 3 pointers\n",
    "- 3PA: 3 pointers attempted\n",
    "- 3P%: 3 point percentage\n",
    "- 2P: 2 pointers\n",
    "- 2PA: 2 pointers attempted\n",
    "- 2P%: 2 point percentage\n",
    "- eFG%: effective field goal percentage\n",
    "- FT: free throws\n",
    "- FTA: free throws attempted\n",
    "- FT%: free throw percentage\n",
    "- ORB: offensive rebound\n",
    "- DRB: defensive rebound\n",
    "- TRB: total rebounds\n",
    "- AST: assists\n",
    "- STL: steals\n",
    "- BLK: blocks\n",
    "- TOV: turnovers\n",
    "- PF: personal fouls\n",
    "- PTS: points\n",
    "\n",
    "Load the dataset."
   ]
  },
  {
   "cell_type": "code",
   "execution_count": 2,
   "metadata": {
    "colab": {},
    "colab_type": "code",
    "id": "wP1U4eQ91D_u"
   },
   "outputs": [],
   "source": [
    "# answer goes here\n",
    "\n",
    "df = pd.read_csv(\"https://tf-assets-prod.s3.amazonaws.com/tf-curric/data-science/Data%20Sets%20Clustering/nba_player_seasons.csv\")\n",
    "\n"
   ]
  },
  {
   "cell_type": "code",
   "execution_count": 3,
   "metadata": {},
   "outputs": [
    {
     "data": {
      "text/plain": [
       "(2141, 30)"
      ]
     },
     "execution_count": 3,
     "metadata": {},
     "output_type": "execute_result"
    }
   ],
   "source": [
    "df.head()\n",
    "df.shape"
   ]
  },
  {
   "cell_type": "markdown",
   "metadata": {
    "colab_type": "text",
    "id": "o_K1eQ0x1D_y"
   },
   "source": [
    "The goal is to cluster these player-seasons to identify potential player \"archetypes\".  \n",
    "The pre-processing steps will be identical to what we previously did for K-means.\n",
    "\n",
    "Begin by removing players whose season did not meet one of the following criteria:\n",
    "1. Started at least 20 games\n",
    "2. Averaged at least 10 minutes per game"
   ]
  },
  {
   "cell_type": "code",
   "execution_count": 4,
   "metadata": {
    "colab": {},
    "colab_type": "code",
    "id": "xfYVreyw1D_y"
   },
   "outputs": [],
   "source": [
    "# answer goes here\n",
    "\n",
    "df = df[(df['G']>= 20) & (df['MP'] >= 10)]\n",
    "\n"
   ]
  },
  {
   "cell_type": "code",
   "execution_count": 5,
   "metadata": {},
   "outputs": [
    {
     "data": {
      "text/plain": [
       "(1588, 30)"
      ]
     },
     "execution_count": 5,
     "metadata": {},
     "output_type": "execute_result"
    }
   ],
   "source": [
    "df.shape"
   ]
  },
  {
   "cell_type": "markdown",
   "metadata": {
    "colab_type": "text",
    "id": "86lfEP_91D_0"
   },
   "source": [
    "Choose a subset of numeric columns that is interesting to you from an \"archetypal\" standpoint. \n",
    "\n",
    "We will choose the following basic statistics: **points, total rebounds, assists, steals, blocks**, and **turnovers**, but you should feel free to choose other reasonable feature sets if you like. Be careful not to include too many dimensions (curse of dimensionality)."
   ]
  },
  {
   "cell_type": "code",
   "execution_count": 6,
   "metadata": {
    "colab": {},
    "colab_type": "code",
    "id": "o3PUI4l61D_0"
   },
   "outputs": [],
   "source": [
    "# answer goes here\n",
    "\n",
    "df = df[[\"PTS\", \"TRB\", \"AST\", \"STL\",\"BLK\",\"TOV\"]]\n",
    "\n"
   ]
  },
  {
   "cell_type": "code",
   "execution_count": 7,
   "metadata": {},
   "outputs": [
    {
     "data": {
      "text/html": [
       "<div>\n",
       "<style scoped>\n",
       "    .dataframe tbody tr th:only-of-type {\n",
       "        vertical-align: middle;\n",
       "    }\n",
       "\n",
       "    .dataframe tbody tr th {\n",
       "        vertical-align: top;\n",
       "    }\n",
       "\n",
       "    .dataframe thead th {\n",
       "        text-align: right;\n",
       "    }\n",
       "</style>\n",
       "<table border=\"1\" class=\"dataframe\">\n",
       "  <thead>\n",
       "    <tr style=\"text-align: right;\">\n",
       "      <th></th>\n",
       "      <th>PTS</th>\n",
       "      <th>TRB</th>\n",
       "      <th>AST</th>\n",
       "      <th>STL</th>\n",
       "      <th>BLK</th>\n",
       "      <th>TOV</th>\n",
       "    </tr>\n",
       "  </thead>\n",
       "  <tbody>\n",
       "    <tr>\n",
       "      <td>0</td>\n",
       "      <td>5.3</td>\n",
       "      <td>1.5</td>\n",
       "      <td>0.6</td>\n",
       "      <td>0.5</td>\n",
       "      <td>0.2</td>\n",
       "      <td>0.5</td>\n",
       "    </tr>\n",
       "    <tr>\n",
       "      <td>2</td>\n",
       "      <td>3.2</td>\n",
       "      <td>1.8</td>\n",
       "      <td>1.9</td>\n",
       "      <td>0.4</td>\n",
       "      <td>0.1</td>\n",
       "      <td>0.8</td>\n",
       "    </tr>\n",
       "    <tr>\n",
       "      <td>3</td>\n",
       "      <td>13.9</td>\n",
       "      <td>9.5</td>\n",
       "      <td>1.6</td>\n",
       "      <td>1.5</td>\n",
       "      <td>1.0</td>\n",
       "      <td>1.7</td>\n",
       "    </tr>\n",
       "    <tr>\n",
       "      <td>4</td>\n",
       "      <td>8.9</td>\n",
       "      <td>7.3</td>\n",
       "      <td>2.2</td>\n",
       "      <td>0.9</td>\n",
       "      <td>0.8</td>\n",
       "      <td>1.5</td>\n",
       "    </tr>\n",
       "    <tr>\n",
       "      <td>7</td>\n",
       "      <td>21.3</td>\n",
       "      <td>9.2</td>\n",
       "      <td>2.4</td>\n",
       "      <td>0.5</td>\n",
       "      <td>1.3</td>\n",
       "      <td>1.8</td>\n",
       "    </tr>\n",
       "  </tbody>\n",
       "</table>\n",
       "</div>"
      ],
      "text/plain": [
       "    PTS  TRB  AST  STL  BLK  TOV\n",
       "0   5.3  1.5  0.6  0.5  0.2  0.5\n",
       "2   3.2  1.8  1.9  0.4  0.1  0.8\n",
       "3  13.9  9.5  1.6  1.5  1.0  1.7\n",
       "4   8.9  7.3  2.2  0.9  0.8  1.5\n",
       "7  21.3  9.2  2.4  0.5  1.3  1.8"
      ]
     },
     "execution_count": 7,
     "metadata": {},
     "output_type": "execute_result"
    }
   ],
   "source": [
    "df.head()"
   ]
  },
  {
   "cell_type": "markdown",
   "metadata": {
    "colab_type": "text",
    "id": "MUjcLMMk1D_2"
   },
   "source": [
    "Standardize the features in your dataset using scikit-learn's StandardScaler, which will set the mean of each feature to 0 and the variance to 1."
   ]
  },
  {
   "cell_type": "code",
   "execution_count": 8,
   "metadata": {
    "colab": {},
    "colab_type": "code",
    "id": "6OTdN8oF1D_2"
   },
   "outputs": [
    {
     "data": {
      "text/plain": [
       "StandardScaler(copy=True, with_mean=True, with_std=True)"
      ]
     },
     "execution_count": 8,
     "metadata": {},
     "output_type": "execute_result"
    }
   ],
   "source": [
    "# answer goes here\n",
    "\n",
    "\n",
    "scaler= StandardScaler()\n",
    "scaler.fit(df)\n"
   ]
  },
  {
   "cell_type": "markdown",
   "metadata": {
    "colab_type": "text",
    "id": "ao3Y5FVp1D_4"
   },
   "source": [
    "Run both K-Means and Gaussian mixtures modeling twice, once with 3 cluster and once with 7 clusters. Print out the resulting means for all 4 scenarios (KM+3, GMM+3, KM+7, GMM+7). When printing the means, transform the scaled versions back into their corresponding unscaled values. \n",
    "\n",
    "What \"archetypes\" do you see? Are the archetypes identified by GMM similar to those identified by K-Means? How do the means of GMM differ from those of K-Means?"
   ]
  },
  {
   "cell_type": "code",
   "execution_count": 9,
   "metadata": {
    "colab": {},
    "colab_type": "code",
    "id": "sUhMxZdL1D_4"
   },
   "outputs": [
    {
     "data": {
      "text/plain": [
       "GaussianMixture(covariance_type='full', init_params='kmeans', max_iter=100,\n",
       "                means_init=None, n_components=7, n_init=1, precisions_init=None,\n",
       "                random_state=None, reg_covar=1e-06, tol=0.001, verbose=0,\n",
       "                verbose_interval=10, warm_start=False, weights_init=None)"
      ]
     },
     "execution_count": 9,
     "metadata": {},
     "output_type": "execute_result"
    }
   ],
   "source": [
    "# answer goes here\n",
    "k = 3\n",
    "\n",
    "kmeans3 = KMeans(k)\n",
    "kmeans3.fit(df)\n",
    "\n",
    "gauss3 = GaussianMixture(k)\n",
    "gauss3.fit(df)\n",
    "\n",
    "\n",
    "k=7\n",
    "\n",
    "kmeans7 = KMeans(k)\n",
    "kmeans7.fit(df)\n",
    "\n",
    "gauss7 = GaussianMixture(k)\n",
    "gauss7.fit(df)"
   ]
  },
  {
   "cell_type": "code",
   "execution_count": 10,
   "metadata": {},
   "outputs": [
    {
     "data": {
      "text/plain": [
       "Index(['PTS', 'TRB', 'AST', 'STL', 'BLK', 'TOV'], dtype='object')"
      ]
     },
     "execution_count": 10,
     "metadata": {},
     "output_type": "execute_result"
    }
   ],
   "source": [
    "df.columns"
   ]
  },
  {
   "cell_type": "code",
   "execution_count": 11,
   "metadata": {},
   "outputs": [
    {
     "data": {
      "text/plain": [
       "1588"
      ]
     },
     "execution_count": 11,
     "metadata": {},
     "output_type": "execute_result"
    }
   ],
   "source": [
    "len(kmeans3.labels_)"
   ]
  },
  {
   "cell_type": "code",
   "execution_count": 12,
   "metadata": {},
   "outputs": [],
   "source": [
    "#centroids = scaler.inverse_transform(clst.cluster_centers_)\n",
    "centers = scaler.inverse_transform(kmeans3.cluster_centers_)\n",
    "kmeans3_df = pd.DataFrame(centers, columns=df.columns)\n"
   ]
  },
  {
   "cell_type": "code",
   "execution_count": 13,
   "metadata": {},
   "outputs": [
    {
     "name": "stdout",
     "output_type": "stream",
     "text": [
      "[[ 44.7836351   10.83098436   4.21390827   0.92392092   0.57906454\n",
      "    1.86639002]\n",
      " [ 69.35658708  14.77428214   6.24056      1.05752062   0.65978221\n",
      "    2.32383385]\n",
      " [107.10647554  19.74983625  10.16813133   1.18267889   0.83629982\n",
      "    3.10727597]]\n",
      "[[ 45.27332603  11.68700638   4.84353833   0.96101339   0.61695536\n",
      "    1.96299312]\n",
      " [ 83.07665427  17.0234472    7.06663017   1.09042307   0.71280242\n",
      "    2.54513738]\n",
      " [135.78545547  19.15644743  10.87263657   1.21375205   0.75058933\n",
      "    3.33010638]]\n"
     ]
    }
   ],
   "source": [
    "print(scaler.inverse_transform(gauss3.means_))\n",
    "print(scaler.inverse_transform(kmeans3.cluster_centers_))"
   ]
  },
  {
   "cell_type": "code",
   "execution_count": 14,
   "metadata": {},
   "outputs": [
    {
     "name": "stdout",
     "output_type": "stream",
     "text": [
      " K means is [6.23435115 3.13773173 1.46226827 0.56575791 0.35921483 0.86782988]. Gauss means is [6.14766608 2.7802081  1.11289935 0.4720673  0.27064125 0.74183528]\n"
     ]
    }
   ],
   "source": [
    "print(f' K means is {kmeans3.cluster_centers_[0]}. Gauss means is {gauss3.means_[0]}')\n"
   ]
  },
  {
   "cell_type": "code",
   "execution_count": 15,
   "metadata": {},
   "outputs": [],
   "source": [
    "mean_df = df.copy()\n",
    "\n",
    "mean_df[\"labelk3\"] = kmeans3.labels_\n",
    "mean_df[\"labelk7\"] = kmeans7.labels_\n",
    "mean_df[\"labelg3\"] = gauss3.predict(df)\n",
    "mean_df[\"labelg7\"] = gauss7.predict(df)\n",
    "\n",
    "#prob_df = pd.DataFrame(gauss3.predict_proba(df))\n",
    "#df[\"labelg3\"] = gauss.predict(df)"
   ]
  },
  {
   "cell_type": "code",
   "execution_count": 18,
   "metadata": {},
   "outputs": [
    {
     "data": {
      "text/html": [
       "<div>\n",
       "<style scoped>\n",
       "    .dataframe tbody tr th:only-of-type {\n",
       "        vertical-align: middle;\n",
       "    }\n",
       "\n",
       "    .dataframe tbody tr th {\n",
       "        vertical-align: top;\n",
       "    }\n",
       "\n",
       "    .dataframe thead th {\n",
       "        text-align: right;\n",
       "    }\n",
       "</style>\n",
       "<table border=\"1\" class=\"dataframe\">\n",
       "  <thead>\n",
       "    <tr style=\"text-align: right;\">\n",
       "      <th></th>\n",
       "      <th>PTS</th>\n",
       "      <th>TRB</th>\n",
       "      <th>AST</th>\n",
       "      <th>STL</th>\n",
       "      <th>BLK</th>\n",
       "      <th>TOV</th>\n",
       "      <th>labelk3</th>\n",
       "      <th>labelk7</th>\n",
       "      <th>labelg3</th>\n",
       "      <th>labelg7</th>\n",
       "    </tr>\n",
       "  </thead>\n",
       "  <tbody>\n",
       "    <tr>\n",
       "      <td>0</td>\n",
       "      <td>5.3</td>\n",
       "      <td>1.5</td>\n",
       "      <td>0.6</td>\n",
       "      <td>0.5</td>\n",
       "      <td>0.2</td>\n",
       "      <td>0.5</td>\n",
       "      <td>0</td>\n",
       "      <td>0</td>\n",
       "      <td>0</td>\n",
       "      <td>2</td>\n",
       "    </tr>\n",
       "    <tr>\n",
       "      <td>2</td>\n",
       "      <td>3.2</td>\n",
       "      <td>1.8</td>\n",
       "      <td>1.9</td>\n",
       "      <td>0.4</td>\n",
       "      <td>0.1</td>\n",
       "      <td>0.8</td>\n",
       "      <td>0</td>\n",
       "      <td>0</td>\n",
       "      <td>0</td>\n",
       "      <td>0</td>\n",
       "    </tr>\n",
       "    <tr>\n",
       "      <td>3</td>\n",
       "      <td>13.9</td>\n",
       "      <td>9.5</td>\n",
       "      <td>1.6</td>\n",
       "      <td>1.5</td>\n",
       "      <td>1.0</td>\n",
       "      <td>1.7</td>\n",
       "      <td>1</td>\n",
       "      <td>5</td>\n",
       "      <td>1</td>\n",
       "      <td>3</td>\n",
       "    </tr>\n",
       "    <tr>\n",
       "      <td>4</td>\n",
       "      <td>8.9</td>\n",
       "      <td>7.3</td>\n",
       "      <td>2.2</td>\n",
       "      <td>0.9</td>\n",
       "      <td>0.8</td>\n",
       "      <td>1.5</td>\n",
       "      <td>1</td>\n",
       "      <td>2</td>\n",
       "      <td>1</td>\n",
       "      <td>3</td>\n",
       "    </tr>\n",
       "    <tr>\n",
       "      <td>7</td>\n",
       "      <td>21.3</td>\n",
       "      <td>9.2</td>\n",
       "      <td>2.4</td>\n",
       "      <td>0.5</td>\n",
       "      <td>1.3</td>\n",
       "      <td>1.8</td>\n",
       "      <td>2</td>\n",
       "      <td>1</td>\n",
       "      <td>2</td>\n",
       "      <td>1</td>\n",
       "    </tr>\n",
       "  </tbody>\n",
       "</table>\n",
       "</div>"
      ],
      "text/plain": [
       "    PTS  TRB  AST  STL  BLK  TOV  labelk3  labelk7  labelg3  labelg7\n",
       "0   5.3  1.5  0.6  0.5  0.2  0.5        0        0        0        2\n",
       "2   3.2  1.8  1.9  0.4  0.1  0.8        0        0        0        0\n",
       "3  13.9  9.5  1.6  1.5  1.0  1.7        1        5        1        3\n",
       "4   8.9  7.3  2.2  0.9  0.8  1.5        1        2        1        3\n",
       "7  21.3  9.2  2.4  0.5  1.3  1.8        2        1        2        1"
      ]
     },
     "execution_count": 18,
     "metadata": {},
     "output_type": "execute_result"
    }
   ],
   "source": [
    "mean_df.head()"
   ]
  },
  {
   "cell_type": "code",
   "execution_count": 25,
   "metadata": {},
   "outputs": [
    {
     "data": {
      "text/html": [
       "<div>\n",
       "<style scoped>\n",
       "    .dataframe tbody tr th:only-of-type {\n",
       "        vertical-align: middle;\n",
       "    }\n",
       "\n",
       "    .dataframe tbody tr th {\n",
       "        vertical-align: top;\n",
       "    }\n",
       "\n",
       "    .dataframe thead th {\n",
       "        text-align: right;\n",
       "    }\n",
       "</style>\n",
       "<table border=\"1\" class=\"dataframe\">\n",
       "  <thead>\n",
       "    <tr style=\"text-align: right;\">\n",
       "      <th></th>\n",
       "      <th>PTS</th>\n",
       "      <th>TRB</th>\n",
       "      <th>AST</th>\n",
       "      <th>STL</th>\n",
       "      <th>BLK</th>\n",
       "      <th>TOV</th>\n",
       "      <th>labelk7</th>\n",
       "      <th>labelg3</th>\n",
       "      <th>labelg7</th>\n",
       "    </tr>\n",
       "    <tr>\n",
       "      <th>labelk3</th>\n",
       "      <th></th>\n",
       "      <th></th>\n",
       "      <th></th>\n",
       "      <th></th>\n",
       "      <th></th>\n",
       "      <th></th>\n",
       "      <th></th>\n",
       "      <th></th>\n",
       "      <th></th>\n",
       "    </tr>\n",
       "  </thead>\n",
       "  <tbody>\n",
       "    <tr>\n",
       "      <td>0</td>\n",
       "      <td>6.234351</td>\n",
       "      <td>3.137732</td>\n",
       "      <td>1.462268</td>\n",
       "      <td>0.565758</td>\n",
       "      <td>0.359215</td>\n",
       "      <td>0.867830</td>\n",
       "      <td>1.175573</td>\n",
       "      <td>0.360960</td>\n",
       "      <td>1.676118</td>\n",
       "    </tr>\n",
       "    <tr>\n",
       "      <td>1</td>\n",
       "      <td>12.926295</td>\n",
       "      <td>5.366534</td>\n",
       "      <td>2.695817</td>\n",
       "      <td>0.892629</td>\n",
       "      <td>0.583267</td>\n",
       "      <td>1.627092</td>\n",
       "      <td>4.621514</td>\n",
       "      <td>1.195219</td>\n",
       "      <td>2.766932</td>\n",
       "    </tr>\n",
       "    <tr>\n",
       "      <td>2</td>\n",
       "      <td>22.256805</td>\n",
       "      <td>6.257396</td>\n",
       "      <td>4.807692</td>\n",
       "      <td>1.204142</td>\n",
       "      <td>0.671598</td>\n",
       "      <td>2.650888</td>\n",
       "      <td>2.289941</td>\n",
       "      <td>1.810651</td>\n",
       "      <td>4.514793</td>\n",
       "    </tr>\n",
       "  </tbody>\n",
       "</table>\n",
       "</div>"
      ],
      "text/plain": [
       "               PTS       TRB       AST       STL       BLK       TOV  \\\n",
       "labelk3                                                                \n",
       "0         6.234351  3.137732  1.462268  0.565758  0.359215  0.867830   \n",
       "1        12.926295  5.366534  2.695817  0.892629  0.583267  1.627092   \n",
       "2        22.256805  6.257396  4.807692  1.204142  0.671598  2.650888   \n",
       "\n",
       "          labelk7   labelg3   labelg7  \n",
       "labelk3                                \n",
       "0        1.175573  0.360960  1.676118  \n",
       "1        4.621514  1.195219  2.766932  \n",
       "2        2.289941  1.810651  4.514793  "
      ]
     },
     "execution_count": 25,
     "metadata": {},
     "output_type": "execute_result"
    }
   ],
   "source": [
    "mean_df.groupby(by=['labelk3']).mean()"
   ]
  },
  {
   "cell_type": "code",
   "execution_count": 26,
   "metadata": {},
   "outputs": [
    {
     "data": {
      "text/html": [
       "<div>\n",
       "<style scoped>\n",
       "    .dataframe tbody tr th:only-of-type {\n",
       "        vertical-align: middle;\n",
       "    }\n",
       "\n",
       "    .dataframe tbody tr th {\n",
       "        vertical-align: top;\n",
       "    }\n",
       "\n",
       "    .dataframe thead th {\n",
       "        text-align: right;\n",
       "    }\n",
       "</style>\n",
       "<table border=\"1\" class=\"dataframe\">\n",
       "  <thead>\n",
       "    <tr style=\"text-align: right;\">\n",
       "      <th></th>\n",
       "      <th>PTS</th>\n",
       "      <th>TRB</th>\n",
       "      <th>AST</th>\n",
       "      <th>STL</th>\n",
       "      <th>BLK</th>\n",
       "      <th>TOV</th>\n",
       "      <th>labelk3</th>\n",
       "      <th>labelg3</th>\n",
       "      <th>labelg7</th>\n",
       "    </tr>\n",
       "    <tr>\n",
       "      <th>labelk7</th>\n",
       "      <th></th>\n",
       "      <th></th>\n",
       "      <th></th>\n",
       "      <th></th>\n",
       "      <th></th>\n",
       "      <th></th>\n",
       "      <th></th>\n",
       "      <th></th>\n",
       "      <th></th>\n",
       "    </tr>\n",
       "  </thead>\n",
       "  <tbody>\n",
       "    <tr>\n",
       "      <td>0</td>\n",
       "      <td>4.900383</td>\n",
       "      <td>2.721073</td>\n",
       "      <td>1.131609</td>\n",
       "      <td>0.473946</td>\n",
       "      <td>0.320115</td>\n",
       "      <td>0.709770</td>\n",
       "      <td>0.000000</td>\n",
       "      <td>0.185824</td>\n",
       "      <td>1.657088</td>\n",
       "    </tr>\n",
       "    <tr>\n",
       "      <td>1</td>\n",
       "      <td>19.702400</td>\n",
       "      <td>4.673600</td>\n",
       "      <td>4.263200</td>\n",
       "      <td>1.107200</td>\n",
       "      <td>0.461600</td>\n",
       "      <td>2.272800</td>\n",
       "      <td>1.800000</td>\n",
       "      <td>1.584000</td>\n",
       "      <td>4.176000</td>\n",
       "    </tr>\n",
       "    <tr>\n",
       "      <td>2</td>\n",
       "      <td>8.605348</td>\n",
       "      <td>6.263636</td>\n",
       "      <td>1.533155</td>\n",
       "      <td>0.734759</td>\n",
       "      <td>0.772727</td>\n",
       "      <td>1.181818</td>\n",
       "      <td>0.427807</td>\n",
       "      <td>0.989305</td>\n",
       "      <td>2.609626</td>\n",
       "    </tr>\n",
       "    <tr>\n",
       "      <td>3</td>\n",
       "      <td>8.526647</td>\n",
       "      <td>2.861377</td>\n",
       "      <td>2.102994</td>\n",
       "      <td>0.698503</td>\n",
       "      <td>0.281138</td>\n",
       "      <td>1.084731</td>\n",
       "      <td>0.137725</td>\n",
       "      <td>0.497006</td>\n",
       "      <td>1.374251</td>\n",
       "    </tr>\n",
       "    <tr>\n",
       "      <td>4</td>\n",
       "      <td>26.246552</td>\n",
       "      <td>7.632759</td>\n",
       "      <td>5.791379</td>\n",
       "      <td>1.356897</td>\n",
       "      <td>0.853448</td>\n",
       "      <td>3.265517</td>\n",
       "      <td>2.000000</td>\n",
       "      <td>2.000000</td>\n",
       "      <td>5.500000</td>\n",
       "    </tr>\n",
       "    <tr>\n",
       "      <td>5</td>\n",
       "      <td>14.968333</td>\n",
       "      <td>9.005000</td>\n",
       "      <td>2.076667</td>\n",
       "      <td>0.810833</td>\n",
       "      <td>1.084167</td>\n",
       "      <td>1.772500</td>\n",
       "      <td>1.091667</td>\n",
       "      <td>1.491667</td>\n",
       "      <td>2.325000</td>\n",
       "    </tr>\n",
       "    <tr>\n",
       "      <td>6</td>\n",
       "      <td>13.102893</td>\n",
       "      <td>4.024380</td>\n",
       "      <td>3.342562</td>\n",
       "      <td>0.983058</td>\n",
       "      <td>0.383884</td>\n",
       "      <td>1.738017</td>\n",
       "      <td>1.000000</td>\n",
       "      <td>1.223140</td>\n",
       "      <td>3.128099</td>\n",
       "    </tr>\n",
       "  </tbody>\n",
       "</table>\n",
       "</div>"
      ],
      "text/plain": [
       "               PTS       TRB       AST       STL       BLK       TOV  \\\n",
       "labelk7                                                                \n",
       "0         4.900383  2.721073  1.131609  0.473946  0.320115  0.709770   \n",
       "1        19.702400  4.673600  4.263200  1.107200  0.461600  2.272800   \n",
       "2         8.605348  6.263636  1.533155  0.734759  0.772727  1.181818   \n",
       "3         8.526647  2.861377  2.102994  0.698503  0.281138  1.084731   \n",
       "4        26.246552  7.632759  5.791379  1.356897  0.853448  3.265517   \n",
       "5        14.968333  9.005000  2.076667  0.810833  1.084167  1.772500   \n",
       "6        13.102893  4.024380  3.342562  0.983058  0.383884  1.738017   \n",
       "\n",
       "          labelk3   labelg3   labelg7  \n",
       "labelk7                                \n",
       "0        0.000000  0.185824  1.657088  \n",
       "1        1.800000  1.584000  4.176000  \n",
       "2        0.427807  0.989305  2.609626  \n",
       "3        0.137725  0.497006  1.374251  \n",
       "4        2.000000  2.000000  5.500000  \n",
       "5        1.091667  1.491667  2.325000  \n",
       "6        1.000000  1.223140  3.128099  "
      ]
     },
     "execution_count": 26,
     "metadata": {},
     "output_type": "execute_result"
    }
   ],
   "source": [
    "mean_df.groupby(by=['labelk7']).mean()"
   ]
  },
  {
   "cell_type": "code",
   "execution_count": 27,
   "metadata": {},
   "outputs": [
    {
     "data": {
      "text/html": [
       "<div>\n",
       "<style scoped>\n",
       "    .dataframe tbody tr th:only-of-type {\n",
       "        vertical-align: middle;\n",
       "    }\n",
       "\n",
       "    .dataframe tbody tr th {\n",
       "        vertical-align: top;\n",
       "    }\n",
       "\n",
       "    .dataframe thead th {\n",
       "        text-align: right;\n",
       "    }\n",
       "</style>\n",
       "<table border=\"1\" class=\"dataframe\">\n",
       "  <thead>\n",
       "    <tr style=\"text-align: right;\">\n",
       "      <th></th>\n",
       "      <th>PTS</th>\n",
       "      <th>TRB</th>\n",
       "      <th>AST</th>\n",
       "      <th>STL</th>\n",
       "      <th>BLK</th>\n",
       "      <th>TOV</th>\n",
       "      <th>labelk3</th>\n",
       "      <th>labelk7</th>\n",
       "      <th>labelg7</th>\n",
       "    </tr>\n",
       "    <tr>\n",
       "      <th>labelg3</th>\n",
       "      <th></th>\n",
       "      <th></th>\n",
       "      <th></th>\n",
       "      <th></th>\n",
       "      <th></th>\n",
       "      <th></th>\n",
       "      <th></th>\n",
       "      <th></th>\n",
       "      <th></th>\n",
       "    </tr>\n",
       "  </thead>\n",
       "  <tbody>\n",
       "    <tr>\n",
       "      <td>0</td>\n",
       "      <td>6.077655</td>\n",
       "      <td>2.759588</td>\n",
       "      <td>1.101268</td>\n",
       "      <td>0.467829</td>\n",
       "      <td>0.268146</td>\n",
       "      <td>0.734707</td>\n",
       "      <td>0.047544</td>\n",
       "      <td>0.969889</td>\n",
       "      <td>1.404120</td>\n",
       "    </tr>\n",
       "    <tr>\n",
       "      <td>1</td>\n",
       "      <td>10.573412</td>\n",
       "      <td>4.483309</td>\n",
       "      <td>2.263663</td>\n",
       "      <td>0.817578</td>\n",
       "      <td>0.464697</td>\n",
       "      <td>1.350369</td>\n",
       "      <td>0.602659</td>\n",
       "      <td>3.168390</td>\n",
       "      <td>2.388479</td>\n",
       "    </tr>\n",
       "    <tr>\n",
       "      <td>2</td>\n",
       "      <td>17.764643</td>\n",
       "      <td>6.615357</td>\n",
       "      <td>4.568929</td>\n",
       "      <td>1.148929</td>\n",
       "      <td>0.899643</td>\n",
       "      <td>2.438571</td>\n",
       "      <td>1.435714</td>\n",
       "      <td>3.671429</td>\n",
       "      <td>4.235714</td>\n",
       "    </tr>\n",
       "  </tbody>\n",
       "</table>\n",
       "</div>"
      ],
      "text/plain": [
       "               PTS       TRB       AST       STL       BLK       TOV  \\\n",
       "labelg3                                                                \n",
       "0         6.077655  2.759588  1.101268  0.467829  0.268146  0.734707   \n",
       "1        10.573412  4.483309  2.263663  0.817578  0.464697  1.350369   \n",
       "2        17.764643  6.615357  4.568929  1.148929  0.899643  2.438571   \n",
       "\n",
       "          labelk3   labelk7   labelg7  \n",
       "labelg3                                \n",
       "0        0.047544  0.969889  1.404120  \n",
       "1        0.602659  3.168390  2.388479  \n",
       "2        1.435714  3.671429  4.235714  "
      ]
     },
     "execution_count": 27,
     "metadata": {},
     "output_type": "execute_result"
    }
   ],
   "source": [
    "mean_df.groupby(by=['labelg3']).mean()"
   ]
  },
  {
   "cell_type": "code",
   "execution_count": 28,
   "metadata": {},
   "outputs": [
    {
     "data": {
      "text/html": [
       "<div>\n",
       "<style scoped>\n",
       "    .dataframe tbody tr th:only-of-type {\n",
       "        vertical-align: middle;\n",
       "    }\n",
       "\n",
       "    .dataframe tbody tr th {\n",
       "        vertical-align: top;\n",
       "    }\n",
       "\n",
       "    .dataframe thead th {\n",
       "        text-align: right;\n",
       "    }\n",
       "</style>\n",
       "<table border=\"1\" class=\"dataframe\">\n",
       "  <thead>\n",
       "    <tr style=\"text-align: right;\">\n",
       "      <th></th>\n",
       "      <th>PTS</th>\n",
       "      <th>TRB</th>\n",
       "      <th>AST</th>\n",
       "      <th>STL</th>\n",
       "      <th>BLK</th>\n",
       "      <th>TOV</th>\n",
       "      <th>labelk3</th>\n",
       "      <th>labelk7</th>\n",
       "      <th>labelg3</th>\n",
       "    </tr>\n",
       "    <tr>\n",
       "      <th>labelg7</th>\n",
       "      <th></th>\n",
       "      <th></th>\n",
       "      <th></th>\n",
       "      <th></th>\n",
       "      <th></th>\n",
       "      <th></th>\n",
       "      <th></th>\n",
       "      <th></th>\n",
       "      <th></th>\n",
       "    </tr>\n",
       "  </thead>\n",
       "  <tbody>\n",
       "    <tr>\n",
       "      <td>0</td>\n",
       "      <td>7.576522</td>\n",
       "      <td>2.150725</td>\n",
       "      <td>2.053043</td>\n",
       "      <td>0.655072</td>\n",
       "      <td>0.175362</td>\n",
       "      <td>1.040290</td>\n",
       "      <td>0.179710</td>\n",
       "      <td>2.095652</td>\n",
       "      <td>0.382609</td>\n",
       "    </tr>\n",
       "    <tr>\n",
       "      <td>1</td>\n",
       "      <td>13.562424</td>\n",
       "      <td>7.673939</td>\n",
       "      <td>1.720000</td>\n",
       "      <td>0.635758</td>\n",
       "      <td>0.938788</td>\n",
       "      <td>1.548485</td>\n",
       "      <td>1.024242</td>\n",
       "      <td>3.909091</td>\n",
       "      <td>1.345455</td>\n",
       "    </tr>\n",
       "    <tr>\n",
       "      <td>2</td>\n",
       "      <td>5.525197</td>\n",
       "      <td>3.111549</td>\n",
       "      <td>0.791339</td>\n",
       "      <td>0.401050</td>\n",
       "      <td>0.308136</td>\n",
       "      <td>0.641207</td>\n",
       "      <td>0.002625</td>\n",
       "      <td>0.551181</td>\n",
       "      <td>0.020997</td>\n",
       "    </tr>\n",
       "    <tr>\n",
       "      <td>3</td>\n",
       "      <td>8.621479</td>\n",
       "      <td>5.028873</td>\n",
       "      <td>1.363380</td>\n",
       "      <td>0.812324</td>\n",
       "      <td>0.689789</td>\n",
       "      <td>1.043310</td>\n",
       "      <td>0.387324</td>\n",
       "      <td>2.390845</td>\n",
       "      <td>0.883803</td>\n",
       "    </tr>\n",
       "    <tr>\n",
       "      <td>4</td>\n",
       "      <td>12.786853</td>\n",
       "      <td>3.523506</td>\n",
       "      <td>3.903586</td>\n",
       "      <td>0.982470</td>\n",
       "      <td>0.305578</td>\n",
       "      <td>1.879283</td>\n",
       "      <td>0.888446</td>\n",
       "      <td>4.051793</td>\n",
       "      <td>1.243028</td>\n",
       "    </tr>\n",
       "    <tr>\n",
       "      <td>5</td>\n",
       "      <td>22.643939</td>\n",
       "      <td>4.596970</td>\n",
       "      <td>4.915152</td>\n",
       "      <td>1.356061</td>\n",
       "      <td>0.390909</td>\n",
       "      <td>2.368182</td>\n",
       "      <td>1.939394</td>\n",
       "      <td>2.242424</td>\n",
       "      <td>1.848485</td>\n",
       "    </tr>\n",
       "    <tr>\n",
       "      <td>6</td>\n",
       "      <td>19.354167</td>\n",
       "      <td>8.532292</td>\n",
       "      <td>5.434375</td>\n",
       "      <td>1.248958</td>\n",
       "      <td>1.088542</td>\n",
       "      <td>2.891667</td>\n",
       "      <td>1.531250</td>\n",
       "      <td>3.781250</td>\n",
       "      <td>1.979167</td>\n",
       "    </tr>\n",
       "  </tbody>\n",
       "</table>\n",
       "</div>"
      ],
      "text/plain": [
       "               PTS       TRB       AST       STL       BLK       TOV  \\\n",
       "labelg7                                                                \n",
       "0         7.576522  2.150725  2.053043  0.655072  0.175362  1.040290   \n",
       "1        13.562424  7.673939  1.720000  0.635758  0.938788  1.548485   \n",
       "2         5.525197  3.111549  0.791339  0.401050  0.308136  0.641207   \n",
       "3         8.621479  5.028873  1.363380  0.812324  0.689789  1.043310   \n",
       "4        12.786853  3.523506  3.903586  0.982470  0.305578  1.879283   \n",
       "5        22.643939  4.596970  4.915152  1.356061  0.390909  2.368182   \n",
       "6        19.354167  8.532292  5.434375  1.248958  1.088542  2.891667   \n",
       "\n",
       "          labelk3   labelk7   labelg3  \n",
       "labelg7                                \n",
       "0        0.179710  2.095652  0.382609  \n",
       "1        1.024242  3.909091  1.345455  \n",
       "2        0.002625  0.551181  0.020997  \n",
       "3        0.387324  2.390845  0.883803  \n",
       "4        0.888446  4.051793  1.243028  \n",
       "5        1.939394  2.242424  1.848485  \n",
       "6        1.531250  3.781250  1.979167  "
      ]
     },
     "execution_count": 28,
     "metadata": {},
     "output_type": "execute_result"
    }
   ],
   "source": [
    "mean_df.groupby(by=['labelg7']).mean()"
   ]
  },
  {
   "cell_type": "markdown",
   "metadata": {
    "colab_type": "text",
    "id": "y0wBOUWJ1D_6"
   },
   "source": [
    "Predict the likelihood of each season belonging to one of the 3 clusters using the GMM model. Then, calculate the entropy for each set of predicted probabilities. \n",
    "\n",
    "We will use entropy as a measure of how confident we are in the predicted class label. If we had no confidence in our prediction, we would assign 33% probability to each class, while if we were totally confident, we would assign 100% to one class. Entropy would be at a maximum in the \"no confidence\" scenario and a minimum in the \"full confidence\" scenario, which makes it a reasonable way to quantify our uncertainty in our prediction. There are certainly other methods as well; feel free to experiment with them if desired.\n",
    "\n",
    "Which five predicted labels are we least confident about? Which five are we most confident about? Print out the associated details (season, player name, stats, etc.) from those seasons."
   ]
  },
  {
   "cell_type": "code",
   "execution_count": 17,
   "metadata": {
    "colab": {},
    "colab_type": "code",
    "id": "AdKYEBx61D_6"
   },
   "outputs": [],
   "source": [
    "# answer goes here\n",
    "\n",
    "\n",
    "\n"
   ]
  }
 ],
 "metadata": {
  "colab": {
   "collapsed_sections": [],
   "name": "Day 49 Lecture 1 Assignment.ipynb",
   "provenance": []
  },
  "kernelspec": {
   "display_name": "Python 3",
   "language": "python",
   "name": "python3"
  },
  "language_info": {
   "codemirror_mode": {
    "name": "ipython",
    "version": 3
   },
   "file_extension": ".py",
   "mimetype": "text/x-python",
   "name": "python",
   "nbconvert_exporter": "python",
   "pygments_lexer": "ipython3",
   "version": "3.7.4"
  }
 },
 "nbformat": 4,
 "nbformat_minor": 1
}
