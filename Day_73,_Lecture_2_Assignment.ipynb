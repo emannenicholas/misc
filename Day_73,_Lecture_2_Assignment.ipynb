{
 "cells": [
  {
   "cell_type": "markdown",
   "metadata": {
    "colab_type": "text",
    "id": "JCLo8OfaJeLJ"
   },
   "source": [
    "# Exploring and Analyzing Text Data Assignment "
   ]
  },
  {
   "cell_type": "code",
   "execution_count": null,
   "metadata": {},
   "outputs": [],
   "source": [
    "%reload_ext nb_black"
   ]
  },
  {
   "cell_type": "code",
   "execution_count": null,
   "metadata": {
    "colab": {},
    "colab_type": "code",
    "id": "ILXNGki2JeLM"
   },
   "outputs": [],
   "source": [
    "import spacy\n",
    "import string\n",
    "import pandas as pd\n",
    "from nltk import pos_tag\n",
    "from nltk.text import Text\n",
    "from nltk import sent_tokenize\n",
    "from nltk import word_tokenize\n",
    "from nltk.corpus import stopwords\n",
    "from nltk.probability import FreqDist\n",
    "from nltk.corpus.reader.plaintext import PlaintextCorpusReader\n",
    "import matplotlib.pyplot as plt\n",
    "import seaborn as sns\n",
    "from wordcloud import WordCloud, STOPWORDS\n",
    "\n",
    "!python -m spacy download en_core_web_sm\n",
    "nlp = spacy.load(\"en_core_web_sm\")"
   ]
  },
  {
   "cell_type": "markdown",
   "metadata": {
    "colab_type": "text",
    "id": "AcjtNHJ1JeLO"
   },
   "source": [
    "### Read the CNN Lite plain text file articles into a corpus using the NLTK's PlaintextCorpusReader."
   ]
  },
  {
   "cell_type": "markdown",
   "metadata": {
    "colab_type": "text",
    "id": "q5KxRP36JeLR"
   },
   "source": [
    "### Iterate through the fileids in the corpus, extract the raw text of each document, and store them in a list."
   ]
  },
  {
   "cell_type": "code",
   "execution_count": null,
   "metadata": {
    "colab": {},
    "colab_type": "code",
    "id": "clvA9lkNJeLP"
   },
   "outputs": [],
   "source": [
    "dataloc = r\"/Users/emn/Thinkful Data Science Projects/pairtime/news_articles\"\n",
    "\n",
    "DOC_PATTERN = r'.*\\.txt'\n",
    "\n",
    "corpus = PlaintextCorpusReader(dataloc, DOC_PATTERN)\n",
    "\n",
    "file_ids = corpus.fileids()\n",
    "docs = []\n",
    "for x in file_ids:\n",
    "    text = corpus.raw(x)\n",
    "    docs.append(text)\n",
    "docs[0]"
   ]
  },
  {
   "cell_type": "markdown",
   "metadata": {
    "colab_type": "text",
    "id": "pIF6IXkrJeLT"
   },
   "source": [
    "### Write a function that calculates the following statistics for a document and returns them as a list.\n",
    "\n",
    "- Number of sentences\n",
    "- Number of tokens\n",
    "- Number of words (no stop words or punctuation)\n",
    "- Number of unique words (vocabulary)\n",
    "- Number of unique named entities (excluding numbers, dates, times, and currency types)\n",
    "- Average sentence length\n",
    "- Average word length\n",
    "- Lexical diversity"
   ]
  },
  {
   "cell_type": "code",
   "execution_count": null,
   "metadata": {
    "colab": {},
    "colab_type": "code",
    "id": "KXImZOGjJeLU"
   },
   "outputs": [],
   "source": [
    "def text_stats(doc):\n",
    "    sents = sent_tokenize(doc)\n",
    "    tokens = word_tokenize(doc)\n",
    "    words = [\n",
    "        token.lower()\n",
    "        for token in tokens\n",
    "        if not token.lower() in stopwords.words(\"english\")\n",
    "        if not token in string.punctuation\n",
    "    ]\n",
    "\n",
    "    num_sents = len(sents)\n",
    "    num_tokens = len(tokens)\n",
    "    num_words = len(words)\n",
    "    vocab = len(set(words))\n",
    "    characters = sum([len(word) for word in words])\n",
    "\n",
    "    spacy_doc = nlp(doc)\n",
    "    remove = [\"DATE\", \"TIME\", \"PERCENT\", \"MONEY\", \"QUANTITY\", \"ORDINAL\", \"CARDINAL\"]\n",
    "    entities = [entity.text for entity in spacy_doc.ents if not entity.label_ in remove]\n",
    "\n",
    "    num_entities = len(set(entities))\n",
    "    words_sent = num_words / num_sents\n",
    "    char_word = characters / num_words\n",
    "    lex_div = vocab / num_words\n",
    "\n",
    "    stats = [\n",
    "        num_sents,\n",
    "        num_tokens,\n",
    "        num_words,\n",
    "        vocab,\n",
    "        num_entities,\n",
    "        words_sent,\n",
    "        char_word,\n",
    "        lex_div,\n",
    "    ]\n",
    "\n",
    "    return stats"
   ]
  },
  {
   "cell_type": "code",
   "execution_count": null,
   "metadata": {},
   "outputs": [],
   "source": [
    "text_stats(doc)"
   ]
  },
  {
   "cell_type": "markdown",
   "metadata": {
    "colab_type": "text",
    "id": "nTzNB5ChJeLW"
   },
   "source": [
    "### Iterate through all the documents, calculate these statistics for each one, and store all the results in a Pandas data frame."
   ]
  },
  {
   "cell_type": "code",
   "execution_count": null,
   "metadata": {},
   "outputs": [],
   "source": [
    "results_df = pd.DataFrame(\n",
    "    columns=[\n",
    "        \"num_sents\",\n",
    "        \"num_tokens\",\n",
    "        \"num_words\",\n",
    "        \"vocab\",\n",
    "        \"num_entities\",\n",
    "        \"words_sent\",\n",
    "        \"char_word\",\n",
    "        \"lex_div\",\n",
    "    ]\n",
    ")\n",
    "\n",
    "for i, doc in enumerate(docs):\n",
    "    results_df.loc[i, :] = text_stats(doc)"
   ]
  },
  {
   "cell_type": "code",
   "execution_count": null,
   "metadata": {},
   "outputs": [],
   "source": [
    "results_df = results_df.astype(float)\n",
    "results_df.info()"
   ]
  },
  {
   "cell_type": "markdown",
   "metadata": {
    "colab_type": "text",
    "id": "mMusidpEJeLY"
   },
   "source": [
    "### Summarize these statistics for the entire corpus by calling the Pandas `describe` method."
   ]
  },
  {
   "cell_type": "code",
   "execution_count": null,
   "metadata": {
    "colab": {},
    "colab_type": "code",
    "id": "vaoJyuE4JeLZ"
   },
   "outputs": [],
   "source": [
    "results_df.describe()"
   ]
  },
  {
   "cell_type": "markdown",
   "metadata": {
    "colab_type": "text",
    "id": "ljYdviFFJeLa"
   },
   "source": [
    "### Choose a document from the list of documents you created earlier and generate a frequency distribution bar chart for it showing which terms appear most frequently in the text."
   ]
  },
  {
   "cell_type": "code",
   "execution_count": null,
   "metadata": {
    "colab": {},
    "colab_type": "code",
    "id": "l3AuhSQzJeLb"
   },
   "outputs": [],
   "source": [
    "cleaned = [\n",
    "    token.lower()\n",
    "    for token in word_tokenize(docs[0])\n",
    "    if token.lower() not in stopwords.words(\"english\")\n",
    "    if token.isalpha()\n",
    "]\n",
    "\n",
    "fdist = FreqDist(cleaned)\n",
    "fdist_df = pd.DataFrame.from_dict(fdist, orient=\"index\").reset_index()\n",
    "fdist_df.columns = [\"Term\", \"Freq\"]\n",
    "ordered = fdist_df.sort_values(\"Freq\", ascending=False)\n",
    "filtered = ordered[ordered[\"Freq\"] > 1]\n",
    "\n",
    "plt.figure(figsize=(20, 10))\n",
    "sns.barplot(data=filtered, x=\"Freq\", y=\"Term\")\n",
    "plt.title(\"Term Frequency Dist. \\n\", fontsize=16)\n",
    "plt.show()"
   ]
  },
  {
   "cell_type": "markdown",
   "metadata": {
    "colab_type": "text",
    "id": "1axjKBypJeLc"
   },
   "source": [
    "### Generate a word cloud visualization for the same document for which you generated the frequency distribution."
   ]
  },
  {
   "cell_type": "code",
   "execution_count": null,
   "metadata": {
    "colab": {},
    "colab_type": "code",
    "id": "4ErgYM4QJeLd"
   },
   "outputs": [],
   "source": [
    "def word_cloud(text, colormap=\"tab10\", background_color=\"white\"):\n",
    "    cloud = WordCloud(\n",
    "        width=1600,\n",
    "        height=800,\n",
    "        stopwords=STOPWORDS,\n",
    "        colormap=colormap,\n",
    "        background_color=background_color,\n",
    "    ).generate(text)\n",
    "    plt.figure(figsize=(100, 50))\n",
    "    plt.imshow(cloud)\n",
    "    plt.axis(\"off\")\n",
    "    plt.tight_layout(pad=0)\n",
    "    plt.show()"
   ]
  },
  {
   "cell_type": "code",
   "execution_count": null,
   "metadata": {},
   "outputs": [],
   "source": [
    "word_cloud(docs[0])"
   ]
  },
  {
   "cell_type": "markdown",
   "metadata": {
    "colab_type": "text",
    "id": "QBsZEhS1JeLf"
   },
   "source": [
    "### Choose a different article (preferably one that references several named entities) and create a dispersion plot that shows the occurrence of those entities throughout the document."
   ]
  },
  {
   "cell_type": "code",
   "execution_count": null,
   "metadata": {},
   "outputs": [],
   "source": [
    "# import nltk\n",
    "\n",
    "# nltk.download(\"averaged_perceptron_tagger\")"
   ]
  },
  {
   "cell_type": "code",
   "execution_count": 12,
   "metadata": {},
   "outputs": [
    {
     "data": {
      "application/javascript": [
       "\n",
       "            setTimeout(function() {\n",
       "                var nbb_cell_id = 12;\n",
       "                var nbb_unformatted_code = \"import re\";\n",
       "                var nbb_formatted_code = \"import re\";\n",
       "                var nbb_cells = Jupyter.notebook.get_cells();\n",
       "                for (var i = 0; i < nbb_cells.length; ++i) {\n",
       "                    if (nbb_cells[i].input_prompt_number == nbb_cell_id) {\n",
       "                        if (nbb_cells[i].get_text() == nbb_unformatted_code) {\n",
       "                             nbb_cells[i].set_text(nbb_formatted_code);\n",
       "                        }\n",
       "                        break;\n",
       "                    }\n",
       "                }\n",
       "            }, 500);\n",
       "            "
      ],
      "text/plain": [
       "<IPython.core.display.Javascript object>"
      ]
     },
     "metadata": {},
     "output_type": "display_data"
    }
   ],
   "source": [
    "import re"
   ]
  },
  {
   "cell_type": "code",
   "execution_count": 13,
   "metadata": {},
   "outputs": [
    {
     "name": "stderr",
     "output_type": "stream",
     "text": [
      "[nltk_data] Downloading package words to /Users/emn/nltk_data...\n",
      "[nltk_data]   Package words is already up-to-date!\n",
      "[nltk_data] Downloading package maxent_ne_chunker to\n",
      "[nltk_data]     /Users/emn/nltk_data...\n",
      "[nltk_data]   Package maxent_ne_chunker is already up-to-date!\n"
     ]
    },
    {
     "data": {
      "text/plain": [
       "True"
      ]
     },
     "execution_count": 13,
     "metadata": {},
     "output_type": "execute_result"
    },
    {
     "data": {
      "application/javascript": [
       "\n",
       "            setTimeout(function() {\n",
       "                var nbb_cell_id = 13;\n",
       "                var nbb_unformatted_code = \"import nltk\\n\\nnltk.download(\\\"words\\\")\\nnltk.download(\\\"maxent_ne_chunker\\\")\";\n",
       "                var nbb_formatted_code = \"import nltk\\n\\nnltk.download(\\\"words\\\")\\nnltk.download(\\\"maxent_ne_chunker\\\")\";\n",
       "                var nbb_cells = Jupyter.notebook.get_cells();\n",
       "                for (var i = 0; i < nbb_cells.length; ++i) {\n",
       "                    if (nbb_cells[i].input_prompt_number == nbb_cell_id) {\n",
       "                        if (nbb_cells[i].get_text() == nbb_unformatted_code) {\n",
       "                             nbb_cells[i].set_text(nbb_formatted_code);\n",
       "                        }\n",
       "                        break;\n",
       "                    }\n",
       "                }\n",
       "            }, 500);\n",
       "            "
      ],
      "text/plain": [
       "<IPython.core.display.Javascript object>"
      ]
     },
     "metadata": {},
     "output_type": "display_data"
    }
   ],
   "source": [
    "import nltk\n",
    "\n",
    "nltk.download(\"words\")\n",
    "nltk.download(\"maxent_ne_chunker\")"
   ]
  },
  {
   "cell_type": "code",
   "execution_count": null,
   "metadata": {},
   "outputs": [],
   "source": []
  },
  {
   "cell_type": "code",
   "execution_count": 14,
   "metadata": {},
   "outputs": [
    {
     "data": {
      "image/png": "[encoded data removed]",
      "text/plain": [
       "<Figure size 576x396 with 1 Axes>"
      ]
     },
     "metadata": {},
     "output_type": "display_data"
    },
    {
     "data": {
      "application/javascript": [
       "\n",
       "            setTimeout(function() {\n",
       "                var nbb_cell_id = 14;\n",
       "                var nbb_unformatted_code = \"tagged = pos_tag(word_tokenize(docs[3]))\\n\\nnamedEnt = nltk.ne_chunk(tagged, binary=True)\\n\\nentities = re.findall(r\\\"NE\\\\s(.*?)/\\\", str(namedEnt))\\n\\nall_of_them = list(set(entities))\\n\\nall_of_them = all_of_them[0:6]\\n\\nText(word_tokenize(docs[3])).dispersion_plot(all_of_them)\";\n",
       "                var nbb_formatted_code = \"tagged = pos_tag(word_tokenize(docs[3]))\\n\\nnamedEnt = nltk.ne_chunk(tagged, binary=True)\\n\\nentities = re.findall(r\\\"NE\\\\s(.*?)/\\\", str(namedEnt))\\n\\nall_of_them = list(set(entities))\\n\\nall_of_them = all_of_them[0:6]\\n\\nText(word_tokenize(docs[3])).dispersion_plot(all_of_them)\";\n",
       "                var nbb_cells = Jupyter.notebook.get_cells();\n",
       "                for (var i = 0; i < nbb_cells.length; ++i) {\n",
       "                    if (nbb_cells[i].input_prompt_number == nbb_cell_id) {\n",
       "                        if (nbb_cells[i].get_text() == nbb_unformatted_code) {\n",
       "                             nbb_cells[i].set_text(nbb_formatted_code);\n",
       "                        }\n",
       "                        break;\n",
       "                    }\n",
       "                }\n",
       "            }, 500);\n",
       "            "
      ],
      "text/plain": [
       "<IPython.core.display.Javascript object>"
      ]
     },
     "metadata": {},
     "output_type": "display_data"
    }
   ],
   "source": [
    "tagged = pos_tag(word_tokenize(docs[3]))\n",
    "\n",
    "namedEnt = nltk.ne_chunk(tagged, binary=True)\n",
    "\n",
    "entities = re.findall(r\"NE\\s(.*?)/\", str(namedEnt))\n",
    "\n",
    "all_of_them = list(set(entities))\n",
    "\n",
    "all_of_them = all_of_them[0:6]\n",
    "\n",
    "Text(word_tokenize(docs[3])).dispersion_plot(all_of_them)"
   ]
  },
  {
   "cell_type": "markdown",
   "metadata": {
    "colab_type": "text",
    "id": "jeiGkRCjJeLg"
   },
   "source": [
    "### Choose another article and generate a POS visualization highlighting the parts of speech for tokens in the article."
   ]
  },
  {
   "cell_type": "code",
   "execution_count": 6,
   "metadata": {
    "colab": {},
    "colab_type": "code",
    "id": "WQ7zBV-qJeLh"
   },
   "outputs": [
    {
     "name": "stderr",
     "output_type": "stream",
     "text": [
      "/opt/anaconda3/lib/python3.7/site-packages/sklearn/utils/deprecation.py:144: FutureWarning: The sklearn.metrics.classification module is  deprecated in version 0.22 and will be removed in version 0.24. The corresponding classes / functions should instead be imported from sklearn.metrics. Anything that cannot be imported from sklearn.metrics is now part of the private API.\n",
      "  warnings.warn(message, FutureWarning)\n"
     ]
    },
    {
     "data": {
      "application/javascript": [
       "\n",
       "            setTimeout(function() {\n",
       "                var nbb_cell_id = 6;\n",
       "                var nbb_unformatted_code = \"from yellowbrick.text.postag import PosTagVisualizer\";\n",
       "                var nbb_formatted_code = \"from yellowbrick.text.postag import PosTagVisualizer\";\n",
       "                var nbb_cells = Jupyter.notebook.get_cells();\n",
       "                for (var i = 0; i < nbb_cells.length; ++i) {\n",
       "                    if (nbb_cells[i].input_prompt_number == nbb_cell_id) {\n",
       "                        if (nbb_cells[i].get_text() == nbb_unformatted_code) {\n",
       "                             nbb_cells[i].set_text(nbb_formatted_code);\n",
       "                        }\n",
       "                        break;\n",
       "                    }\n",
       "                }\n",
       "            }, 500);\n",
       "            "
      ],
      "text/plain": [
       "<IPython.core.display.Javascript object>"
      ]
     },
     "metadata": {},
     "output_type": "display_data"
    }
   ],
   "source": [
    "from yellowbrick.text.postag import PosTagVisualizer"
   ]
  },
  {
   "cell_type": "code",
   "execution_count": 7,
   "metadata": {
    "colab": {},
    "colab_type": "code",
    "id": "9IbXdOnPJeLi"
   },
   "outputs": [
    {
     "ename": "NameError",
     "evalue": "name 'tagged' is not defined",
     "output_type": "error",
     "traceback": [
      "\u001b[0;31m---------------------------------------------------------------------------\u001b[0m",
      "\u001b[0;31mNameError\u001b[0m                                 Traceback (most recent call last)",
      "\u001b[0;32m<ipython-input-7-c544b577c52c>\u001b[0m in \u001b[0;36m<module>\u001b[0;34m\u001b[0m\n\u001b[1;32m      1\u001b[0m \u001b[0mvisualizer\u001b[0m \u001b[0;34m=\u001b[0m \u001b[0mPosTagVisualizer\u001b[0m\u001b[0;34m(\u001b[0m\u001b[0;34m)\u001b[0m\u001b[0;34m\u001b[0m\u001b[0;34m\u001b[0m\u001b[0m\n\u001b[0;32m----> 2\u001b[0;31m \u001b[0mvisualizer\u001b[0m\u001b[0;34m.\u001b[0m\u001b[0mtransform\u001b[0m\u001b[0;34m(\u001b[0m\u001b[0mtagged\u001b[0m\u001b[0;34m)\u001b[0m\u001b[0;34m\u001b[0m\u001b[0;34m\u001b[0m\u001b[0m\n\u001b[0m\u001b[1;32m      3\u001b[0m \u001b[0;34m\u001b[0m\u001b[0m\n\u001b[1;32m      4\u001b[0m print(' '.join((visualizer.colorize(token,color)\n\u001b[1;32m      5\u001b[0m                for color, token in visualizer.tagged)))\n",
      "\u001b[0;31mNameError\u001b[0m: name 'tagged' is not defined"
     ]
    },
    {
     "data": {
      "application/javascript": [
       "\n",
       "            setTimeout(function() {\n",
       "                var nbb_cell_id = 7;\n",
       "                var nbb_unformatted_code = \"visualizer = PosTagVisualizer()\\nvisualizer.transform(tagged)\\n\\nprint(' '.join((visualizer.colorize(token,color)\\n               for color, token in visualizer.tagged)))\\nprint('\\\\n')\";\n",
       "                var nbb_formatted_code = \"visualizer = PosTagVisualizer()\\nvisualizer.transform(tagged)\\n\\nprint(\\n    \\\" \\\".join((visualizer.colorize(token, color) for color, token in visualizer.tagged))\\n)\\nprint(\\\"\\\\n\\\")\";\n",
       "                var nbb_cells = Jupyter.notebook.get_cells();\n",
       "                for (var i = 0; i < nbb_cells.length; ++i) {\n",
       "                    if (nbb_cells[i].input_prompt_number == nbb_cell_id) {\n",
       "                        if (nbb_cells[i].get_text() == nbb_unformatted_code) {\n",
       "                             nbb_cells[i].set_text(nbb_formatted_code);\n",
       "                        }\n",
       "                        break;\n",
       "                    }\n",
       "                }\n",
       "            }, 500);\n",
       "            "
      ],
      "text/plain": [
       "<IPython.core.display.Javascript object>"
      ]
     },
     "metadata": {},
     "output_type": "display_data"
    }
   ],
   "source": [
    "visualizer = PosTagVisualizer()\n",
    "visualizer.transform(tagged)\n",
    "\n",
    "print(' '.join((visualizer.colorize(token,color)\n",
    "               for color, token in visualizer.tagged)))\n",
    "print('\\n')\n"
   ]
  },
  {
   "cell_type": "code",
   "execution_count": null,
   "metadata": {},
   "outputs": [],
   "source": []
  }
 ],
 "metadata": {
  "colab": {
   "collapsed_sections": [],
   "name": "Copy of Day 73, Lecture 2: Assignment.ipynb",
   "provenance": []
  },
  "kernelspec": {
   "display_name": "Python 3",
   "language": "python",
   "name": "python3"
  },
  "language_info": {
   "codemirror_mode": {
    "name": "ipython",
    "version": 3
   },
   "file_extension": ".py",
   "mimetype": "text/x-python",
   "name": "python",
   "nbconvert_exporter": "python",
   "pygments_lexer": "ipython3",
   "version": "3.7.4"
  }
 },
 "nbformat": 4,
 "nbformat_minor": 1
}
