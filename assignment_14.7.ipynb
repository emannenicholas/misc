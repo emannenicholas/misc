{
 "cells": [
  {
   "cell_type": "markdown",
   "metadata": {},
   "source": [
    "## Assignment\n",
    "\n",
    "\n",
    "1. Are the exam score variables normally distributed? If not, apply a Box-Cox transformation. Does anything change?\n",
    "\n",
    "2. Say we want to use a single variable for the exam scores as our target. For this purpose, create a new variable by taking a weighted average of the exam scores. Check whether this new variable is normally distributed. If it's not normally distributed, apply a Box-Cox transformation and check whether or not the transformed variable is normally distributed.\n",
    "\n",
    "3. Which variables seem related to the target variable (the newly created variable in the previous question)? If our goal is to explain the determinants of success in exams, which variables in our dataset might be useful?"
   ]
  },
  {
   "cell_type": "code",
   "execution_count": 1,
   "metadata": {},
   "outputs": [
    {
     "data": {
      "application/javascript": [
       "\n",
       "            setTimeout(function() {\n",
       "                var nbb_cell_id = 1;\n",
       "                var nbb_unformatted_code = \"%load_ext nb_black\\n\\nimport matplotlib.pyplot as plt\\nimport seaborn as sns\\nimport numpy as np\\nimport pandas as pd\\nimport seaborn as sns\\n\\nfrom sqlalchemy import create_engine\\n\\nfrom sklearn.preprocessing import scale\\nfrom sklearn.preprocessing import normalize\\n\\nimport scipy.stats as stats\\nfrom scipy.stats.mstats import winsorize\\nfrom scipy.stats import jarque_bera, normaltest, boxcox\\n\\nimport warnings\\nwarnings.filterwarnings('ignore')\\nsns.set(style=\\\"whitegrid\\\")\\n\\npostgres_user = 'dsbc_student'\\npostgres_pw = '7*.8G9QH21'\\npostgres_host = '142.93.121.174'\\npostgres_port = '5432'\\npostgres_db = 'studentsperformance'\\n\\nengine = create_engine('postgresql://{}:{}@{}:{}/{}'.format(\\n    postgres_user, postgres_pw, postgres_host, postgres_port, postgres_db))\\n\\ndf = pd.read_sql_query('select * from studentsperformance',con=engine)\\n\\n# no need for an open connection, \\n# as we're only doing a single query\\nengine.dispose()\";\n",
       "                var nbb_formatted_code = \"%load_ext nb_black\\n\\nimport matplotlib.pyplot as plt\\nimport seaborn as sns\\nimport numpy as np\\nimport pandas as pd\\nimport seaborn as sns\\n\\nfrom sqlalchemy import create_engine\\n\\nfrom sklearn.preprocessing import scale\\nfrom sklearn.preprocessing import normalize\\n\\nimport scipy.stats as stats\\nfrom scipy.stats.mstats import winsorize\\nfrom scipy.stats import jarque_bera, normaltest, boxcox\\n\\nimport warnings\\n\\nwarnings.filterwarnings(\\\"ignore\\\")\\nsns.set(style=\\\"whitegrid\\\")\\n\\npostgres_user = \\\"dsbc_student\\\"\\npostgres_pw = \\\"7*.8G9QH21\\\"\\npostgres_host = \\\"142.93.121.174\\\"\\npostgres_port = \\\"5432\\\"\\npostgres_db = \\\"studentsperformance\\\"\\n\\nengine = create_engine(\\n    \\\"postgresql://{}:{}@{}:{}/{}\\\".format(\\n        postgres_user, postgres_pw, postgres_host, postgres_port, postgres_db\\n    )\\n)\\n\\ndf = pd.read_sql_query(\\\"select * from studentsperformance\\\", con=engine)\\n\\n# no need for an open connection,\\n# as we're only doing a single query\\nengine.dispose()\";\n",
       "                var nbb_cells = Jupyter.notebook.get_cells();\n",
       "                for (var i = 0; i < nbb_cells.length; ++i) {\n",
       "                    if (nbb_cells[i].input_prompt_number == nbb_cell_id) {\n",
       "                        if (nbb_cells[i].get_text() == nbb_unformatted_code) {\n",
       "                             nbb_cells[i].set_text(nbb_formatted_code);\n",
       "                        }\n",
       "                        break;\n",
       "                    }\n",
       "                }\n",
       "            }, 500);\n",
       "            "
      ],
      "text/plain": [
       "<IPython.core.display.Javascript object>"
      ]
     },
     "metadata": {},
     "output_type": "display_data"
    }
   ],
   "source": [
    "%load_ext nb_black\n",
    "\n",
    "import matplotlib.pyplot as plt\n",
    "import seaborn as sns\n",
    "import numpy as np\n",
    "import pandas as pd\n",
    "import seaborn as sns\n",
    "\n",
    "from sqlalchemy import create_engine\n",
    "\n",
    "from sklearn.preprocessing import scale\n",
    "from sklearn.preprocessing import normalize\n",
    "\n",
    "import scipy.stats as stats\n",
    "from scipy.stats.mstats import winsorize\n",
    "from scipy.stats import jarque_bera, normaltest, boxcox\n",
    "\n",
    "import warnings\n",
    "warnings.filterwarnings('ignore')\n",
    "sns.set(style=\"whitegrid\")\n",
    "\n",
    "postgres_user = 'dsbc_student'\n",
    "postgres_pw = '7*.8G9QH21'\n",
    "postgres_host = '142.93.121.174'\n",
    "postgres_port = '5432'\n",
    "postgres_db = 'studentsperformance'\n",
    "\n",
    "engine = create_engine('postgresql://{}:{}@{}:{}/{}'.format(\n",
    "    postgres_user, postgres_pw, postgres_host, postgres_port, postgres_db))\n",
    "\n",
    "df = pd.read_sql_query('select * from studentsperformance',con=engine)\n",
    "\n",
    "# no need for an open connection, \n",
    "# as we're only doing a single query\n",
    "engine.dispose()\n"
   ]
  },
  {
   "cell_type": "code",
   "execution_count": 2,
   "metadata": {},
   "outputs": [
    {
     "data": {
      "text/html": [
       "<div>\n",
       "<style scoped>\n",
       "    .dataframe tbody tr th:only-of-type {\n",
       "        vertical-align: middle;\n",
       "    }\n",
       "\n",
       "    .dataframe tbody tr th {\n",
       "        vertical-align: top;\n",
       "    }\n",
       "\n",
       "    .dataframe thead th {\n",
       "        text-align: right;\n",
       "    }\n",
       "</style>\n",
       "<table border=\"1\" class=\"dataframe\">\n",
       "  <thead>\n",
       "    <tr style=\"text-align: right;\">\n",
       "      <th></th>\n",
       "      <th>gender</th>\n",
       "      <th>race/ethnicity</th>\n",
       "      <th>parental level of education</th>\n",
       "      <th>lunch</th>\n",
       "      <th>test preparation course</th>\n",
       "      <th>math score</th>\n",
       "      <th>reading score</th>\n",
       "      <th>writing score</th>\n",
       "    </tr>\n",
       "  </thead>\n",
       "  <tbody>\n",
       "    <tr>\n",
       "      <td>0</td>\n",
       "      <td>female</td>\n",
       "      <td>group B</td>\n",
       "      <td>bachelor's degree</td>\n",
       "      <td>standard</td>\n",
       "      <td>none</td>\n",
       "      <td>72</td>\n",
       "      <td>72</td>\n",
       "      <td>74</td>\n",
       "    </tr>\n",
       "    <tr>\n",
       "      <td>1</td>\n",
       "      <td>female</td>\n",
       "      <td>group C</td>\n",
       "      <td>some college</td>\n",
       "      <td>standard</td>\n",
       "      <td>completed</td>\n",
       "      <td>69</td>\n",
       "      <td>90</td>\n",
       "      <td>88</td>\n",
       "    </tr>\n",
       "    <tr>\n",
       "      <td>2</td>\n",
       "      <td>female</td>\n",
       "      <td>group B</td>\n",
       "      <td>master's degree</td>\n",
       "      <td>standard</td>\n",
       "      <td>none</td>\n",
       "      <td>90</td>\n",
       "      <td>95</td>\n",
       "      <td>93</td>\n",
       "    </tr>\n",
       "    <tr>\n",
       "      <td>3</td>\n",
       "      <td>male</td>\n",
       "      <td>group A</td>\n",
       "      <td>associate's degree</td>\n",
       "      <td>free/reduced</td>\n",
       "      <td>none</td>\n",
       "      <td>47</td>\n",
       "      <td>57</td>\n",
       "      <td>44</td>\n",
       "    </tr>\n",
       "    <tr>\n",
       "      <td>4</td>\n",
       "      <td>male</td>\n",
       "      <td>group C</td>\n",
       "      <td>some college</td>\n",
       "      <td>standard</td>\n",
       "      <td>none</td>\n",
       "      <td>76</td>\n",
       "      <td>78</td>\n",
       "      <td>75</td>\n",
       "    </tr>\n",
       "  </tbody>\n",
       "</table>\n",
       "</div>"
      ],
      "text/plain": [
       "   gender race/ethnicity parental level of education         lunch  \\\n",
       "0  female        group B           bachelor's degree      standard   \n",
       "1  female        group C                some college      standard   \n",
       "2  female        group B             master's degree      standard   \n",
       "3    male        group A          associate's degree  free/reduced   \n",
       "4    male        group C                some college      standard   \n",
       "\n",
       "  test preparation course  math score  reading score  writing score  \n",
       "0                    none          72             72             74  \n",
       "1               completed          69             90             88  \n",
       "2                    none          90             95             93  \n",
       "3                    none          47             57             44  \n",
       "4                    none          76             78             75  "
      ]
     },
     "execution_count": 2,
     "metadata": {},
     "output_type": "execute_result"
    },
    {
     "data": {
      "application/javascript": [
       "\n",
       "            setTimeout(function() {\n",
       "                var nbb_cell_id = 2;\n",
       "                var nbb_unformatted_code = \"df.head()\";\n",
       "                var nbb_formatted_code = \"df.head()\";\n",
       "                var nbb_cells = Jupyter.notebook.get_cells();\n",
       "                for (var i = 0; i < nbb_cells.length; ++i) {\n",
       "                    if (nbb_cells[i].input_prompt_number == nbb_cell_id) {\n",
       "                        if (nbb_cells[i].get_text() == nbb_unformatted_code) {\n",
       "                             nbb_cells[i].set_text(nbb_formatted_code);\n",
       "                        }\n",
       "                        break;\n",
       "                    }\n",
       "                }\n",
       "            }, 500);\n",
       "            "
      ],
      "text/plain": [
       "<IPython.core.display.Javascript object>"
      ]
     },
     "metadata": {},
     "output_type": "display_data"
    }
   ],
   "source": [
    "df.head()"
   ]
  },
  {
   "cell_type": "code",
   "execution_count": 3,
   "metadata": {},
   "outputs": [
    {
     "data": {
      "text/html": [
       "<div>\n",
       "<style scoped>\n",
       "    .dataframe tbody tr th:only-of-type {\n",
       "        vertical-align: middle;\n",
       "    }\n",
       "\n",
       "    .dataframe tbody tr th {\n",
       "        vertical-align: top;\n",
       "    }\n",
       "\n",
       "    .dataframe thead th {\n",
       "        text-align: right;\n",
       "    }\n",
       "</style>\n",
       "<table border=\"1\" class=\"dataframe\">\n",
       "  <thead>\n",
       "    <tr style=\"text-align: right;\">\n",
       "      <th></th>\n",
       "      <th>math score</th>\n",
       "      <th>reading score</th>\n",
       "      <th>writing score</th>\n",
       "    </tr>\n",
       "  </thead>\n",
       "  <tbody>\n",
       "    <tr>\n",
       "      <td>count</td>\n",
       "      <td>1000.00000</td>\n",
       "      <td>1000.000000</td>\n",
       "      <td>1000.000000</td>\n",
       "    </tr>\n",
       "    <tr>\n",
       "      <td>mean</td>\n",
       "      <td>66.08900</td>\n",
       "      <td>69.169000</td>\n",
       "      <td>68.054000</td>\n",
       "    </tr>\n",
       "    <tr>\n",
       "      <td>std</td>\n",
       "      <td>15.16308</td>\n",
       "      <td>14.600192</td>\n",
       "      <td>15.195657</td>\n",
       "    </tr>\n",
       "    <tr>\n",
       "      <td>min</td>\n",
       "      <td>0.00000</td>\n",
       "      <td>17.000000</td>\n",
       "      <td>10.000000</td>\n",
       "    </tr>\n",
       "    <tr>\n",
       "      <td>25%</td>\n",
       "      <td>57.00000</td>\n",
       "      <td>59.000000</td>\n",
       "      <td>57.750000</td>\n",
       "    </tr>\n",
       "    <tr>\n",
       "      <td>50%</td>\n",
       "      <td>66.00000</td>\n",
       "      <td>70.000000</td>\n",
       "      <td>69.000000</td>\n",
       "    </tr>\n",
       "    <tr>\n",
       "      <td>75%</td>\n",
       "      <td>77.00000</td>\n",
       "      <td>79.000000</td>\n",
       "      <td>79.000000</td>\n",
       "    </tr>\n",
       "    <tr>\n",
       "      <td>max</td>\n",
       "      <td>100.00000</td>\n",
       "      <td>100.000000</td>\n",
       "      <td>100.000000</td>\n",
       "    </tr>\n",
       "  </tbody>\n",
       "</table>\n",
       "</div>"
      ],
      "text/plain": [
       "       math score  reading score  writing score\n",
       "count  1000.00000    1000.000000    1000.000000\n",
       "mean     66.08900      69.169000      68.054000\n",
       "std      15.16308      14.600192      15.195657\n",
       "min       0.00000      17.000000      10.000000\n",
       "25%      57.00000      59.000000      57.750000\n",
       "50%      66.00000      70.000000      69.000000\n",
       "75%      77.00000      79.000000      79.000000\n",
       "max     100.00000     100.000000     100.000000"
      ]
     },
     "execution_count": 3,
     "metadata": {},
     "output_type": "execute_result"
    },
    {
     "data": {
      "application/javascript": [
       "\n",
       "            setTimeout(function() {\n",
       "                var nbb_cell_id = 3;\n",
       "                var nbb_unformatted_code = \"df.describe()\";\n",
       "                var nbb_formatted_code = \"df.describe()\";\n",
       "                var nbb_cells = Jupyter.notebook.get_cells();\n",
       "                for (var i = 0; i < nbb_cells.length; ++i) {\n",
       "                    if (nbb_cells[i].input_prompt_number == nbb_cell_id) {\n",
       "                        if (nbb_cells[i].get_text() == nbb_unformatted_code) {\n",
       "                             nbb_cells[i].set_text(nbb_formatted_code);\n",
       "                        }\n",
       "                        break;\n",
       "                    }\n",
       "                }\n",
       "            }, 500);\n",
       "            "
      ],
      "text/plain": [
       "<IPython.core.display.Javascript object>"
      ]
     },
     "metadata": {},
     "output_type": "display_data"
    }
   ],
   "source": [
    "df.describe()"
   ]
  },
  {
   "cell_type": "code",
   "execution_count": 4,
   "metadata": {},
   "outputs": [
    {
     "data": {
      "application/javascript": [
       "\n",
       "            setTimeout(function() {\n",
       "                var nbb_cell_id = 4;\n",
       "                var nbb_unformatted_code = \"df[\\\"math score\\\"] = df[\\\"math score\\\"].replace(0, np.nan)\";\n",
       "                var nbb_formatted_code = \"df[\\\"math score\\\"] = df[\\\"math score\\\"].replace(0, np.nan)\";\n",
       "                var nbb_cells = Jupyter.notebook.get_cells();\n",
       "                for (var i = 0; i < nbb_cells.length; ++i) {\n",
       "                    if (nbb_cells[i].input_prompt_number == nbb_cell_id) {\n",
       "                        if (nbb_cells[i].get_text() == nbb_unformatted_code) {\n",
       "                             nbb_cells[i].set_text(nbb_formatted_code);\n",
       "                        }\n",
       "                        break;\n",
       "                    }\n",
       "                }\n",
       "            }, 500);\n",
       "            "
      ],
      "text/plain": [
       "<IPython.core.display.Javascript object>"
      ]
     },
     "metadata": {},
     "output_type": "display_data"
    }
   ],
   "source": [
    "df[\"math score\"] = df[\"math score\"].replace(0, np.nan)"
   ]
  },
  {
   "cell_type": "code",
   "execution_count": 5,
   "metadata": {},
   "outputs": [
    {
     "data": {
      "text/html": [
       "<div>\n",
       "<style scoped>\n",
       "    .dataframe tbody tr th:only-of-type {\n",
       "        vertical-align: middle;\n",
       "    }\n",
       "\n",
       "    .dataframe tbody tr th {\n",
       "        vertical-align: top;\n",
       "    }\n",
       "\n",
       "    .dataframe thead th {\n",
       "        text-align: right;\n",
       "    }\n",
       "</style>\n",
       "<table border=\"1\" class=\"dataframe\">\n",
       "  <thead>\n",
       "    <tr style=\"text-align: right;\">\n",
       "      <th></th>\n",
       "      <th>math score</th>\n",
       "      <th>reading score</th>\n",
       "      <th>writing score</th>\n",
       "    </tr>\n",
       "  </thead>\n",
       "  <tbody>\n",
       "    <tr>\n",
       "      <td>count</td>\n",
       "      <td>999.000000</td>\n",
       "      <td>999.000000</td>\n",
       "      <td>999.000000</td>\n",
       "    </tr>\n",
       "    <tr>\n",
       "      <td>mean</td>\n",
       "      <td>66.155155</td>\n",
       "      <td>69.221221</td>\n",
       "      <td>68.112112</td>\n",
       "    </tr>\n",
       "    <tr>\n",
       "      <td>std</td>\n",
       "      <td>15.025594</td>\n",
       "      <td>14.513766</td>\n",
       "      <td>15.091685</td>\n",
       "    </tr>\n",
       "    <tr>\n",
       "      <td>min</td>\n",
       "      <td>8.000000</td>\n",
       "      <td>23.000000</td>\n",
       "      <td>15.000000</td>\n",
       "    </tr>\n",
       "    <tr>\n",
       "      <td>25%</td>\n",
       "      <td>57.000000</td>\n",
       "      <td>59.000000</td>\n",
       "      <td>58.000000</td>\n",
       "    </tr>\n",
       "    <tr>\n",
       "      <td>50%</td>\n",
       "      <td>66.000000</td>\n",
       "      <td>70.000000</td>\n",
       "      <td>69.000000</td>\n",
       "    </tr>\n",
       "    <tr>\n",
       "      <td>75%</td>\n",
       "      <td>77.000000</td>\n",
       "      <td>79.000000</td>\n",
       "      <td>79.000000</td>\n",
       "    </tr>\n",
       "    <tr>\n",
       "      <td>max</td>\n",
       "      <td>100.000000</td>\n",
       "      <td>100.000000</td>\n",
       "      <td>100.000000</td>\n",
       "    </tr>\n",
       "  </tbody>\n",
       "</table>\n",
       "</div>"
      ],
      "text/plain": [
       "       math score  reading score  writing score\n",
       "count  999.000000     999.000000     999.000000\n",
       "mean    66.155155      69.221221      68.112112\n",
       "std     15.025594      14.513766      15.091685\n",
       "min      8.000000      23.000000      15.000000\n",
       "25%     57.000000      59.000000      58.000000\n",
       "50%     66.000000      70.000000      69.000000\n",
       "75%     77.000000      79.000000      79.000000\n",
       "max    100.000000     100.000000     100.000000"
      ]
     },
     "execution_count": 5,
     "metadata": {},
     "output_type": "execute_result"
    },
    {
     "data": {
      "application/javascript": [
       "\n",
       "            setTimeout(function() {\n",
       "                var nbb_cell_id = 5;\n",
       "                var nbb_unformatted_code = \"df = df.dropna()\\ndf.describe()\";\n",
       "                var nbb_formatted_code = \"df = df.dropna()\\ndf.describe()\";\n",
       "                var nbb_cells = Jupyter.notebook.get_cells();\n",
       "                for (var i = 0; i < nbb_cells.length; ++i) {\n",
       "                    if (nbb_cells[i].input_prompt_number == nbb_cell_id) {\n",
       "                        if (nbb_cells[i].get_text() == nbb_unformatted_code) {\n",
       "                             nbb_cells[i].set_text(nbb_formatted_code);\n",
       "                        }\n",
       "                        break;\n",
       "                    }\n",
       "                }\n",
       "            }, 500);\n",
       "            "
      ],
      "text/plain": [
       "<IPython.core.display.Javascript object>"
      ]
     },
     "metadata": {},
     "output_type": "display_data"
    }
   ],
   "source": [
    "df = df.dropna()\n",
    "df.describe()"
   ]
  },
  {
   "cell_type": "markdown",
   "metadata": {},
   "source": [
    "**1. Are the exam score variables normally distributed? If not, apply a Box-Cox transformation. Does anything change?**"
   ]
  },
  {
   "cell_type": "code",
   "execution_count": 6,
   "metadata": {},
   "outputs": [
    {
     "data": {
      "image/png": "[encoded data removed]",
      "text/plain": [
       "<Figure size 1296x720 with 6 Axes>"
      ]
     },
     "metadata": {
      "needs_background": "light"
     },
     "output_type": "display_data"
    },
    {
     "data": {
      "application/javascript": [
       "\n",
       "            setTimeout(function() {\n",
       "                var nbb_cell_id = 6;\n",
       "                var nbb_unformatted_code = \"math_boxcox, _ = boxcox(df[\\\"math score\\\"])\\nreading_boxcox, _ = boxcox(df[\\\"reading score\\\"])\\nwriting_boxcox, _ = boxcox(df[\\\"writing score\\\"])\\n\\nplt.figure(figsize=(18, 10))\\n\\n# histograms of the box-cox transformed data\\nplt.subplot(2, 3, 1)\\nplt.hist(df[\\\"math score\\\"])\\nplt.title(\\\"histogram of math scores (regular)\\\")\\n\\nplt.subplot(2, 3, 2)\\nplt.hist(df[\\\"reading score\\\"])\\nplt.title(\\\"histogram of reading scores (regular)\\\")\\n\\nplt.subplot(2, 3, 3)\\nplt.hist(df[\\\"writing score\\\"])\\nplt.title(\\\"histogram of writing scores (regular)\\\")\\n\\nplt.subplot(2, 3, 4)\\nplt.hist(math_boxcox)\\nplt.title(\\\"histogram of math score (box-cox transformed)\\\")\\n\\nplt.subplot(2, 3, 5)\\nplt.hist(reading_boxcox)\\nplt.title(\\\"histogram of reading scores (box-cox transformed)\\\")\\n\\nplt.subplot(2, 3, 6)\\nplt.hist(writing_boxcox)\\nplt.title(\\\"histogram of writing scores (box-cox transformed)\\\")\\n\\nplt.tight_layout()\\n\\nplt.show()\";\n",
       "                var nbb_formatted_code = \"math_boxcox, _ = boxcox(df[\\\"math score\\\"])\\nreading_boxcox, _ = boxcox(df[\\\"reading score\\\"])\\nwriting_boxcox, _ = boxcox(df[\\\"writing score\\\"])\\n\\nplt.figure(figsize=(18, 10))\\n\\n# histograms of the box-cox transformed data\\nplt.subplot(2, 3, 1)\\nplt.hist(df[\\\"math score\\\"])\\nplt.title(\\\"histogram of math scores (regular)\\\")\\n\\nplt.subplot(2, 3, 2)\\nplt.hist(df[\\\"reading score\\\"])\\nplt.title(\\\"histogram of reading scores (regular)\\\")\\n\\nplt.subplot(2, 3, 3)\\nplt.hist(df[\\\"writing score\\\"])\\nplt.title(\\\"histogram of writing scores (regular)\\\")\\n\\nplt.subplot(2, 3, 4)\\nplt.hist(math_boxcox)\\nplt.title(\\\"histogram of math score (box-cox transformed)\\\")\\n\\nplt.subplot(2, 3, 5)\\nplt.hist(reading_boxcox)\\nplt.title(\\\"histogram of reading scores (box-cox transformed)\\\")\\n\\nplt.subplot(2, 3, 6)\\nplt.hist(writing_boxcox)\\nplt.title(\\\"histogram of writing scores (box-cox transformed)\\\")\\n\\nplt.tight_layout()\\n\\nplt.show()\";\n",
       "                var nbb_cells = Jupyter.notebook.get_cells();\n",
       "                for (var i = 0; i < nbb_cells.length; ++i) {\n",
       "                    if (nbb_cells[i].input_prompt_number == nbb_cell_id) {\n",
       "                        if (nbb_cells[i].get_text() == nbb_unformatted_code) {\n",
       "                             nbb_cells[i].set_text(nbb_formatted_code);\n",
       "                        }\n",
       "                        break;\n",
       "                    }\n",
       "                }\n",
       "            }, 500);\n",
       "            "
      ],
      "text/plain": [
       "<IPython.core.display.Javascript object>"
      ]
     },
     "metadata": {},
     "output_type": "display_data"
    }
   ],
   "source": [
    "math_boxcox, _ = boxcox(df[\"math score\"])\n",
    "reading_boxcox, _ = boxcox(df[\"reading score\"])\n",
    "writing_boxcox, _ = boxcox(df[\"writing score\"])\n",
    "\n",
    "plt.figure(figsize=(18, 10))\n",
    "\n",
    "# histograms of the box-cox transformed data\n",
    "plt.subplot(2, 3, 1)\n",
    "plt.hist(df[\"math score\"])\n",
    "plt.title(\"histogram of math scores (regular)\")\n",
    "\n",
    "plt.subplot(2, 3, 2)\n",
    "plt.hist(df[\"reading score\"])\n",
    "plt.title(\"histogram of reading scores (regular)\")\n",
    "\n",
    "plt.subplot(2, 3, 3)\n",
    "plt.hist(df[\"writing score\"])\n",
    "plt.title(\"histogram of writing scores (regular)\")\n",
    "\n",
    "plt.subplot(2, 3, 4)\n",
    "plt.hist(math_boxcox)\n",
    "plt.title(\"histogram of math score (box-cox transformed)\")\n",
    "\n",
    "plt.subplot(2, 3, 5)\n",
    "plt.hist(reading_boxcox)\n",
    "plt.title(\"histogram of reading scores (box-cox transformed)\")\n",
    "\n",
    "plt.subplot(2, 3, 6)\n",
    "plt.hist(writing_boxcox)\n",
    "plt.title(\"histogram of writing scores (box-cox transformed)\")\n",
    "\n",
    "plt.tight_layout()\n",
    "\n",
    "plt.show()"
   ]
  },
  {
   "cell_type": "code",
   "execution_count": 7,
   "metadata": {},
   "outputs": [
    {
     "name": "stdout",
     "output_type": "stream",
     "text": [
      "Jarque-Bera test statistics is 7.673084457642435 and p value is 0.02156804993927408\n",
      "Normality test statistics is 7.661032525153018 and p value is 0.021698410660350574\n",
      "Jarque-Bera test statistics is 1.7200982636836308 and p value is 0.42314129209599327\n",
      "Normality test statistics is 1.8323075851586939 and p value is 0.4000547794685686\n",
      "Jarque-Bera test statistics is 9.776353497445086 and p value is 0.007535148427256777\n",
      "Normality test statistics is 9.673376920700841 and p value is 0.007933281978037242\n",
      "Jarque-Bera test statistics is 4.8891540799411395 and p value is 0.08676282434883942\n",
      "Normality test statistics is 6.546500254297637 and p value is 0.03788310187455936\n",
      "Jarque-Bera test statistics is 11.587461259316736 and p value is 0.003046595230866145\n",
      "Normality test statistics is 11.43053575430092 and p value is 0.0032952676764974485\n",
      "Jarque-Bera test statistics is 5.762346713079429 and p value is 0.05606893537015201\n",
      "Normality test statistics is 8.018367650263817 and p value is 0.018148201299612785\n"
     ]
    },
    {
     "data": {
      "application/javascript": [
       "\n",
       "            setTimeout(function() {\n",
       "                var nbb_cell_id = 7;\n",
       "                var nbb_unformatted_code = \"jb_stats = jarque_bera(df[\\\"math score\\\"])\\nnorm_stats = normaltest(df[\\\"math score\\\"])\\n\\nprint(\\n    \\\"Jarque-Bera test statistics is {0} and p value is {1}\\\".format(\\n        jb_stats[0], jb_stats[1]\\n    )\\n)\\nprint(\\n    \\\"Normality test statistics is {0} and p value is {1}\\\".format(\\n        norm_stats[0], norm_stats[1]\\n    )\\n)\\n\\njb_stats = jarque_bera(math_boxcox)\\nnorm_stats = normaltest(math_boxcox)\\n\\nprint(\\n    \\\"Jarque-Bera test statistics is {0} and p value is {1}\\\".format(\\n        jb_stats[0], jb_stats[1]\\n    )\\n)\\nprint(\\n    \\\"Normality test statistics is {0} and p value is {1}\\\".format(\\n        norm_stats[0], norm_stats[1]\\n    )\\n)\\n\\njb_stats = jarque_bera(df[\\\"reading score\\\"])\\nnorm_stats = normaltest(df[\\\"reading score\\\"])\\n\\nprint(\\n    \\\"Jarque-Bera test statistics is {0} and p value is {1}\\\".format(\\n        jb_stats[0], jb_stats[1]\\n    )\\n)\\nprint(\\n    \\\"Normality test statistics is {0} and p value is {1}\\\".format(\\n        norm_stats[0], norm_stats[1]\\n    )\\n)\\n\\njb_stats = jarque_bera(reading_boxcox)\\nnorm_stats = normaltest(reading_boxcox)\\n\\nprint(\\n    \\\"Jarque-Bera test statistics is {0} and p value is {1}\\\".format(\\n        jb_stats[0], jb_stats[1]\\n    )\\n)\\nprint(\\n    \\\"Normality test statistics is {0} and p value is {1}\\\".format(\\n        norm_stats[0], norm_stats[1]\\n    )\\n)\\n\\njb_stats = jarque_bera(df[\\\"writing score\\\"])\\nnorm_stats = normaltest(df[\\\"writing score\\\"])\\n\\nprint(\\n    \\\"Jarque-Bera test statistics is {0} and p value is {1}\\\".format(\\n        jb_stats[0], jb_stats[1]\\n    )\\n)\\nprint(\\n    \\\"Normality test statistics is {0} and p value is {1}\\\".format(\\n        norm_stats[0], norm_stats[1]\\n    )\\n)\\n\\njb_stats = jarque_bera(writing_boxcox)\\nnorm_stats = normaltest(writing_boxcox)\\n\\nprint(\\n    \\\"Jarque-Bera test statistics is {0} and p value is {1}\\\".format(\\n        jb_stats[0], jb_stats[1]\\n    )\\n)\\nprint(\\n    \\\"Normality test statistics is {0} and p value is {1}\\\".format(\\n        norm_stats[0], norm_stats[1]\\n    )\\n)\";\n",
       "                var nbb_formatted_code = \"jb_stats = jarque_bera(df[\\\"math score\\\"])\\nnorm_stats = normaltest(df[\\\"math score\\\"])\\n\\nprint(\\n    \\\"Jarque-Bera test statistics is {0} and p value is {1}\\\".format(\\n        jb_stats[0], jb_stats[1]\\n    )\\n)\\nprint(\\n    \\\"Normality test statistics is {0} and p value is {1}\\\".format(\\n        norm_stats[0], norm_stats[1]\\n    )\\n)\\n\\njb_stats = jarque_bera(math_boxcox)\\nnorm_stats = normaltest(math_boxcox)\\n\\nprint(\\n    \\\"Jarque-Bera test statistics is {0} and p value is {1}\\\".format(\\n        jb_stats[0], jb_stats[1]\\n    )\\n)\\nprint(\\n    \\\"Normality test statistics is {0} and p value is {1}\\\".format(\\n        norm_stats[0], norm_stats[1]\\n    )\\n)\\n\\njb_stats = jarque_bera(df[\\\"reading score\\\"])\\nnorm_stats = normaltest(df[\\\"reading score\\\"])\\n\\nprint(\\n    \\\"Jarque-Bera test statistics is {0} and p value is {1}\\\".format(\\n        jb_stats[0], jb_stats[1]\\n    )\\n)\\nprint(\\n    \\\"Normality test statistics is {0} and p value is {1}\\\".format(\\n        norm_stats[0], norm_stats[1]\\n    )\\n)\\n\\njb_stats = jarque_bera(reading_boxcox)\\nnorm_stats = normaltest(reading_boxcox)\\n\\nprint(\\n    \\\"Jarque-Bera test statistics is {0} and p value is {1}\\\".format(\\n        jb_stats[0], jb_stats[1]\\n    )\\n)\\nprint(\\n    \\\"Normality test statistics is {0} and p value is {1}\\\".format(\\n        norm_stats[0], norm_stats[1]\\n    )\\n)\\n\\njb_stats = jarque_bera(df[\\\"writing score\\\"])\\nnorm_stats = normaltest(df[\\\"writing score\\\"])\\n\\nprint(\\n    \\\"Jarque-Bera test statistics is {0} and p value is {1}\\\".format(\\n        jb_stats[0], jb_stats[1]\\n    )\\n)\\nprint(\\n    \\\"Normality test statistics is {0} and p value is {1}\\\".format(\\n        norm_stats[0], norm_stats[1]\\n    )\\n)\\n\\njb_stats = jarque_bera(writing_boxcox)\\nnorm_stats = normaltest(writing_boxcox)\\n\\nprint(\\n    \\\"Jarque-Bera test statistics is {0} and p value is {1}\\\".format(\\n        jb_stats[0], jb_stats[1]\\n    )\\n)\\nprint(\\n    \\\"Normality test statistics is {0} and p value is {1}\\\".format(\\n        norm_stats[0], norm_stats[1]\\n    )\\n)\";\n",
       "                var nbb_cells = Jupyter.notebook.get_cells();\n",
       "                for (var i = 0; i < nbb_cells.length; ++i) {\n",
       "                    if (nbb_cells[i].input_prompt_number == nbb_cell_id) {\n",
       "                        if (nbb_cells[i].get_text() == nbb_unformatted_code) {\n",
       "                             nbb_cells[i].set_text(nbb_formatted_code);\n",
       "                        }\n",
       "                        break;\n",
       "                    }\n",
       "                }\n",
       "            }, 500);\n",
       "            "
      ],
      "text/plain": [
       "<IPython.core.display.Javascript object>"
      ]
     },
     "metadata": {},
     "output_type": "display_data"
    }
   ],
   "source": [
    "jb_stats = jarque_bera(df[\"math score\"])\n",
    "norm_stats = normaltest(df[\"math score\"])\n",
    "\n",
    "print(\n",
    "    \"Jarque-Bera test statistics is {0} and p value is {1}\".format(\n",
    "        jb_stats[0], jb_stats[1]\n",
    "    )\n",
    ")\n",
    "print(\n",
    "    \"Normality test statistics is {0} and p value is {1}\".format(\n",
    "        norm_stats[0], norm_stats[1]\n",
    "    )\n",
    ")\n",
    "\n",
    "jb_stats = jarque_bera(math_boxcox)\n",
    "norm_stats = normaltest(math_boxcox)\n",
    "\n",
    "print(\n",
    "    \"Jarque-Bera test statistics is {0} and p value is {1}\".format(\n",
    "        jb_stats[0], jb_stats[1]\n",
    "    )\n",
    ")\n",
    "print(\n",
    "    \"Normality test statistics is {0} and p value is {1}\".format(\n",
    "        norm_stats[0], norm_stats[1]\n",
    "    )\n",
    ")\n",
    "\n",
    "jb_stats = jarque_bera(df[\"reading score\"])\n",
    "norm_stats = normaltest(df[\"reading score\"])\n",
    "\n",
    "print(\n",
    "    \"Jarque-Bera test statistics is {0} and p value is {1}\".format(\n",
    "        jb_stats[0], jb_stats[1]\n",
    "    )\n",
    ")\n",
    "print(\n",
    "    \"Normality test statistics is {0} and p value is {1}\".format(\n",
    "        norm_stats[0], norm_stats[1]\n",
    "    )\n",
    ")\n",
    "\n",
    "jb_stats = jarque_bera(reading_boxcox)\n",
    "norm_stats = normaltest(reading_boxcox)\n",
    "\n",
    "print(\n",
    "    \"Jarque-Bera test statistics is {0} and p value is {1}\".format(\n",
    "        jb_stats[0], jb_stats[1]\n",
    "    )\n",
    ")\n",
    "print(\n",
    "    \"Normality test statistics is {0} and p value is {1}\".format(\n",
    "        norm_stats[0], norm_stats[1]\n",
    "    )\n",
    ")\n",
    "\n",
    "jb_stats = jarque_bera(df[\"writing score\"])\n",
    "norm_stats = normaltest(df[\"writing score\"])\n",
    "\n",
    "print(\n",
    "    \"Jarque-Bera test statistics is {0} and p value is {1}\".format(\n",
    "        jb_stats[0], jb_stats[1]\n",
    "    )\n",
    ")\n",
    "print(\n",
    "    \"Normality test statistics is {0} and p value is {1}\".format(\n",
    "        norm_stats[0], norm_stats[1]\n",
    "    )\n",
    ")\n",
    "\n",
    "jb_stats = jarque_bera(writing_boxcox)\n",
    "norm_stats = normaltest(writing_boxcox)\n",
    "\n",
    "print(\n",
    "    \"Jarque-Bera test statistics is {0} and p value is {1}\".format(\n",
    "        jb_stats[0], jb_stats[1]\n",
    "    )\n",
    ")\n",
    "print(\n",
    "    \"Normality test statistics is {0} and p value is {1}\".format(\n",
    "        norm_stats[0], norm_stats[1]\n",
    "    )\n",
    ")"
   ]
  },
  {
   "cell_type": "markdown",
   "metadata": {},
   "source": [
    "In all cases, the scores were more normally distributed after the Box-Cox transformation was applied at p < 0.05 for the Jarque-Bera test."
   ]
  },
  {
   "cell_type": "markdown",
   "metadata": {},
   "source": [
    "**2. Say we want to use a single variable for the exam scores as our target. For this purpose, create a new variable by taking a weighted average of the exam scores. Check whether this new variable is normally distributed. If it's not normally distributed, apply a Box-Cox transformation and check whether or not the transformed variable is normally distributed.**"
   ]
  },
  {
   "cell_type": "code",
   "execution_count": 8,
   "metadata": {},
   "outputs": [
    {
     "data": {
      "application/javascript": [
       "\n",
       "            setTimeout(function() {\n",
       "                var nbb_cell_id = 8;\n",
       "                var nbb_unformatted_code = \"df[\\\"wt_exam_scr\\\"] = (df[\\\"math score\\\"] + df[\\\"writing score\\\"] + df[\\\"reading score\\\"]) / 3\";\n",
       "                var nbb_formatted_code = \"df[\\\"wt_exam_scr\\\"] = (df[\\\"math score\\\"] + df[\\\"writing score\\\"] + df[\\\"reading score\\\"]) / 3\";\n",
       "                var nbb_cells = Jupyter.notebook.get_cells();\n",
       "                for (var i = 0; i < nbb_cells.length; ++i) {\n",
       "                    if (nbb_cells[i].input_prompt_number == nbb_cell_id) {\n",
       "                        if (nbb_cells[i].get_text() == nbb_unformatted_code) {\n",
       "                             nbb_cells[i].set_text(nbb_formatted_code);\n",
       "                        }\n",
       "                        break;\n",
       "                    }\n",
       "                }\n",
       "            }, 500);\n",
       "            "
      ],
      "text/plain": [
       "<IPython.core.display.Javascript object>"
      ]
     },
     "metadata": {},
     "output_type": "display_data"
    }
   ],
   "source": [
    "df[\"wt_exam_scr\"] = (df[\"math score\"] + df[\"writing score\"] + df[\"reading score\"]) / 3"
   ]
  },
  {
   "cell_type": "code",
   "execution_count": 9,
   "metadata": {},
   "outputs": [
    {
     "data": {
      "text/html": [
       "<div>\n",
       "<style scoped>\n",
       "    .dataframe tbody tr th:only-of-type {\n",
       "        vertical-align: middle;\n",
       "    }\n",
       "\n",
       "    .dataframe tbody tr th {\n",
       "        vertical-align: top;\n",
       "    }\n",
       "\n",
       "    .dataframe thead th {\n",
       "        text-align: right;\n",
       "    }\n",
       "</style>\n",
       "<table border=\"1\" class=\"dataframe\">\n",
       "  <thead>\n",
       "    <tr style=\"text-align: right;\">\n",
       "      <th></th>\n",
       "      <th>gender</th>\n",
       "      <th>race/ethnicity</th>\n",
       "      <th>parental level of education</th>\n",
       "      <th>lunch</th>\n",
       "      <th>test preparation course</th>\n",
       "      <th>math score</th>\n",
       "      <th>reading score</th>\n",
       "      <th>writing score</th>\n",
       "      <th>wt_exam_scr</th>\n",
       "    </tr>\n",
       "  </thead>\n",
       "  <tbody>\n",
       "    <tr>\n",
       "      <td>0</td>\n",
       "      <td>female</td>\n",
       "      <td>group B</td>\n",
       "      <td>bachelor's degree</td>\n",
       "      <td>standard</td>\n",
       "      <td>none</td>\n",
       "      <td>72.0</td>\n",
       "      <td>72</td>\n",
       "      <td>74</td>\n",
       "      <td>72.666667</td>\n",
       "    </tr>\n",
       "    <tr>\n",
       "      <td>1</td>\n",
       "      <td>female</td>\n",
       "      <td>group C</td>\n",
       "      <td>some college</td>\n",
       "      <td>standard</td>\n",
       "      <td>completed</td>\n",
       "      <td>69.0</td>\n",
       "      <td>90</td>\n",
       "      <td>88</td>\n",
       "      <td>82.333333</td>\n",
       "    </tr>\n",
       "    <tr>\n",
       "      <td>2</td>\n",
       "      <td>female</td>\n",
       "      <td>group B</td>\n",
       "      <td>master's degree</td>\n",
       "      <td>standard</td>\n",
       "      <td>none</td>\n",
       "      <td>90.0</td>\n",
       "      <td>95</td>\n",
       "      <td>93</td>\n",
       "      <td>92.666667</td>\n",
       "    </tr>\n",
       "    <tr>\n",
       "      <td>3</td>\n",
       "      <td>male</td>\n",
       "      <td>group A</td>\n",
       "      <td>associate's degree</td>\n",
       "      <td>free/reduced</td>\n",
       "      <td>none</td>\n",
       "      <td>47.0</td>\n",
       "      <td>57</td>\n",
       "      <td>44</td>\n",
       "      <td>49.333333</td>\n",
       "    </tr>\n",
       "    <tr>\n",
       "      <td>4</td>\n",
       "      <td>male</td>\n",
       "      <td>group C</td>\n",
       "      <td>some college</td>\n",
       "      <td>standard</td>\n",
       "      <td>none</td>\n",
       "      <td>76.0</td>\n",
       "      <td>78</td>\n",
       "      <td>75</td>\n",
       "      <td>76.333333</td>\n",
       "    </tr>\n",
       "  </tbody>\n",
       "</table>\n",
       "</div>"
      ],
      "text/plain": [
       "   gender race/ethnicity parental level of education         lunch  \\\n",
       "0  female        group B           bachelor's degree      standard   \n",
       "1  female        group C                some college      standard   \n",
       "2  female        group B             master's degree      standard   \n",
       "3    male        group A          associate's degree  free/reduced   \n",
       "4    male        group C                some college      standard   \n",
       "\n",
       "  test preparation course  math score  reading score  writing score  \\\n",
       "0                    none        72.0             72             74   \n",
       "1               completed        69.0             90             88   \n",
       "2                    none        90.0             95             93   \n",
       "3                    none        47.0             57             44   \n",
       "4                    none        76.0             78             75   \n",
       "\n",
       "   wt_exam_scr  \n",
       "0    72.666667  \n",
       "1    82.333333  \n",
       "2    92.666667  \n",
       "3    49.333333  \n",
       "4    76.333333  "
      ]
     },
     "execution_count": 9,
     "metadata": {},
     "output_type": "execute_result"
    },
    {
     "data": {
      "application/javascript": [
       "\n",
       "            setTimeout(function() {\n",
       "                var nbb_cell_id = 9;\n",
       "                var nbb_unformatted_code = \"df.head()\";\n",
       "                var nbb_formatted_code = \"df.head()\";\n",
       "                var nbb_cells = Jupyter.notebook.get_cells();\n",
       "                for (var i = 0; i < nbb_cells.length; ++i) {\n",
       "                    if (nbb_cells[i].input_prompt_number == nbb_cell_id) {\n",
       "                        if (nbb_cells[i].get_text() == nbb_unformatted_code) {\n",
       "                             nbb_cells[i].set_text(nbb_formatted_code);\n",
       "                        }\n",
       "                        break;\n",
       "                    }\n",
       "                }\n",
       "            }, 500);\n",
       "            "
      ],
      "text/plain": [
       "<IPython.core.display.Javascript object>"
      ]
     },
     "metadata": {},
     "output_type": "display_data"
    }
   ],
   "source": [
    "df.head()"
   ]
  },
  {
   "cell_type": "code",
   "execution_count": 10,
   "metadata": {},
   "outputs": [
    {
     "data": {
      "image/png": "[encoded data removed]",
      "text/plain": [
       "<Figure size 432x288 with 1 Axes>"
      ]
     },
     "metadata": {
      "needs_background": "light"
     },
     "output_type": "display_data"
    },
    {
     "data": {
      "application/javascript": [
       "\n",
       "            setTimeout(function() {\n",
       "                var nbb_cell_id = 10;\n",
       "                var nbb_unformatted_code = \"plt.hist(df[\\\"wt_exam_scr\\\"])\\nplt.show()\";\n",
       "                var nbb_formatted_code = \"plt.hist(df[\\\"wt_exam_scr\\\"])\\nplt.show()\";\n",
       "                var nbb_cells = Jupyter.notebook.get_cells();\n",
       "                for (var i = 0; i < nbb_cells.length; ++i) {\n",
       "                    if (nbb_cells[i].input_prompt_number == nbb_cell_id) {\n",
       "                        if (nbb_cells[i].get_text() == nbb_unformatted_code) {\n",
       "                             nbb_cells[i].set_text(nbb_formatted_code);\n",
       "                        }\n",
       "                        break;\n",
       "                    }\n",
       "                }\n",
       "            }, 500);\n",
       "            "
      ],
      "text/plain": [
       "<IPython.core.display.Javascript object>"
      ]
     },
     "metadata": {},
     "output_type": "display_data"
    }
   ],
   "source": [
    "plt.hist(df[\"wt_exam_scr\"])\n",
    "plt.show()"
   ]
  },
  {
   "cell_type": "code",
   "execution_count": 11,
   "metadata": {},
   "outputs": [
    {
     "name": "stdout",
     "output_type": "stream",
     "text": [
      "Jarque-Bera test statistics is 10.345394363749879 and p value is 0.0056692571616785425\n",
      "Normality test statistics is 10.127189207749474 and p value is 0.006322790687068094\n"
     ]
    },
    {
     "data": {
      "application/javascript": [
       "\n",
       "            setTimeout(function() {\n",
       "                var nbb_cell_id = 11;\n",
       "                var nbb_unformatted_code = \"jb_stats = jarque_bera(df[\\\"wt_exam_scr\\\"])\\nnorm_stats = normaltest(df[\\\"wt_exam_scr\\\"])\\n\\nprint(\\n    \\\"Jarque-Bera test statistics is {0} and p value is {1}\\\".format(\\n        jb_stats[0], jb_stats[1]\\n    )\\n)\\nprint(\\n    \\\"Normality test statistics is {0} and p value is {1}\\\".format(\\n        norm_stats[0], norm_stats[1]\\n    )\\n)\";\n",
       "                var nbb_formatted_code = \"jb_stats = jarque_bera(df[\\\"wt_exam_scr\\\"])\\nnorm_stats = normaltest(df[\\\"wt_exam_scr\\\"])\\n\\nprint(\\n    \\\"Jarque-Bera test statistics is {0} and p value is {1}\\\".format(\\n        jb_stats[0], jb_stats[1]\\n    )\\n)\\nprint(\\n    \\\"Normality test statistics is {0} and p value is {1}\\\".format(\\n        norm_stats[0], norm_stats[1]\\n    )\\n)\";\n",
       "                var nbb_cells = Jupyter.notebook.get_cells();\n",
       "                for (var i = 0; i < nbb_cells.length; ++i) {\n",
       "                    if (nbb_cells[i].input_prompt_number == nbb_cell_id) {\n",
       "                        if (nbb_cells[i].get_text() == nbb_unformatted_code) {\n",
       "                             nbb_cells[i].set_text(nbb_formatted_code);\n",
       "                        }\n",
       "                        break;\n",
       "                    }\n",
       "                }\n",
       "            }, 500);\n",
       "            "
      ],
      "text/plain": [
       "<IPython.core.display.Javascript object>"
      ]
     },
     "metadata": {},
     "output_type": "display_data"
    }
   ],
   "source": [
    "jb_stats = jarque_bera(df[\"wt_exam_scr\"])\n",
    "norm_stats = normaltest(df[\"wt_exam_scr\"])\n",
    "\n",
    "print(\n",
    "    \"Jarque-Bera test statistics is {0} and p value is {1}\".format(\n",
    "        jb_stats[0], jb_stats[1]\n",
    "    )\n",
    ")\n",
    "print(\n",
    "    \"Normality test statistics is {0} and p value is {1}\".format(\n",
    "        norm_stats[0], norm_stats[1]\n",
    "    )\n",
    ")"
   ]
  },
  {
   "cell_type": "markdown",
   "metadata": {},
   "source": [
    "The weighted exam scores are not normally distributed at p<0.01.  Applying Box-Cox..."
   ]
  },
  {
   "cell_type": "code",
   "execution_count": 12,
   "metadata": {},
   "outputs": [
    {
     "data": {
      "application/javascript": [
       "\n",
       "            setTimeout(function() {\n",
       "                var nbb_cell_id = 12;\n",
       "                var nbb_unformatted_code = \"wt_scr_boxcox, _ = boxcox(df[\\\"wt_exam_scr\\\"])\";\n",
       "                var nbb_formatted_code = \"wt_scr_boxcox, _ = boxcox(df[\\\"wt_exam_scr\\\"])\";\n",
       "                var nbb_cells = Jupyter.notebook.get_cells();\n",
       "                for (var i = 0; i < nbb_cells.length; ++i) {\n",
       "                    if (nbb_cells[i].input_prompt_number == nbb_cell_id) {\n",
       "                        if (nbb_cells[i].get_text() == nbb_unformatted_code) {\n",
       "                             nbb_cells[i].set_text(nbb_formatted_code);\n",
       "                        }\n",
       "                        break;\n",
       "                    }\n",
       "                }\n",
       "            }, 500);\n",
       "            "
      ],
      "text/plain": [
       "<IPython.core.display.Javascript object>"
      ]
     },
     "metadata": {},
     "output_type": "display_data"
    }
   ],
   "source": [
    "wt_scr_boxcox, _ = boxcox(df[\"wt_exam_scr\"])"
   ]
  },
  {
   "cell_type": "code",
   "execution_count": 13,
   "metadata": {},
   "outputs": [
    {
     "name": "stdout",
     "output_type": "stream",
     "text": [
      "Jarque-Bera test statistics is 3.4323846909111793 and p value is 0.17974926966382276\n",
      "Normality test statistics is 4.219879978703656 and p value is 0.12124524222064059\n"
     ]
    },
    {
     "data": {
      "application/javascript": [
       "\n",
       "            setTimeout(function() {\n",
       "                var nbb_cell_id = 13;\n",
       "                var nbb_unformatted_code = \"jb_stats = jarque_bera(wt_scr_boxcox)\\nnorm_stats = normaltest(wt_scr_boxcox)\\n\\nprint(\\n    \\\"Jarque-Bera test statistics is {0} and p value is {1}\\\".format(\\n        jb_stats[0], jb_stats[1]\\n    )\\n)\\nprint(\\n    \\\"Normality test statistics is {0} and p value is {1}\\\".format(\\n        norm_stats[0], norm_stats[1]\\n    )\\n)\";\n",
       "                var nbb_formatted_code = \"jb_stats = jarque_bera(wt_scr_boxcox)\\nnorm_stats = normaltest(wt_scr_boxcox)\\n\\nprint(\\n    \\\"Jarque-Bera test statistics is {0} and p value is {1}\\\".format(\\n        jb_stats[0], jb_stats[1]\\n    )\\n)\\nprint(\\n    \\\"Normality test statistics is {0} and p value is {1}\\\".format(\\n        norm_stats[0], norm_stats[1]\\n    )\\n)\";\n",
       "                var nbb_cells = Jupyter.notebook.get_cells();\n",
       "                for (var i = 0; i < nbb_cells.length; ++i) {\n",
       "                    if (nbb_cells[i].input_prompt_number == nbb_cell_id) {\n",
       "                        if (nbb_cells[i].get_text() == nbb_unformatted_code) {\n",
       "                             nbb_cells[i].set_text(nbb_formatted_code);\n",
       "                        }\n",
       "                        break;\n",
       "                    }\n",
       "                }\n",
       "            }, 500);\n",
       "            "
      ],
      "text/plain": [
       "<IPython.core.display.Javascript object>"
      ]
     },
     "metadata": {},
     "output_type": "display_data"
    }
   ],
   "source": [
    "jb_stats = jarque_bera(wt_scr_boxcox)\n",
    "norm_stats = normaltest(wt_scr_boxcox)\n",
    "\n",
    "print(\n",
    "    \"Jarque-Bera test statistics is {0} and p value is {1}\".format(\n",
    "        jb_stats[0], jb_stats[1]\n",
    "    )\n",
    ")\n",
    "print(\n",
    "    \"Normality test statistics is {0} and p value is {1}\".format(\n",
    "        norm_stats[0], norm_stats[1]\n",
    "    )\n",
    ")"
   ]
  },
  {
   "cell_type": "markdown",
   "metadata": {},
   "source": [
    "The weighted exam scores are now more normally distributed after the Box-Cox transformation."
   ]
  },
  {
   "cell_type": "markdown",
   "metadata": {},
   "source": [
    "**3. Which variables seem related to the target variable (the newly created variable in the previous question)? If our goal is to explain the determinants of success in exams, which variables in our dataset might be useful?**"
   ]
  },
  {
   "cell_type": "code",
   "execution_count": 14,
   "metadata": {},
   "outputs": [
    {
     "data": {
      "application/javascript": [
       "\n",
       "            setTimeout(function() {\n",
       "                var nbb_cell_id = 14;\n",
       "                var nbb_unformatted_code = \"df = df.drop(columns=[\\\"math score\\\", \\\"reading score\\\", \\\"writing score\\\"])\";\n",
       "                var nbb_formatted_code = \"df = df.drop(columns=[\\\"math score\\\", \\\"reading score\\\", \\\"writing score\\\"])\";\n",
       "                var nbb_cells = Jupyter.notebook.get_cells();\n",
       "                for (var i = 0; i < nbb_cells.length; ++i) {\n",
       "                    if (nbb_cells[i].input_prompt_number == nbb_cell_id) {\n",
       "                        if (nbb_cells[i].get_text() == nbb_unformatted_code) {\n",
       "                             nbb_cells[i].set_text(nbb_formatted_code);\n",
       "                        }\n",
       "                        break;\n",
       "                    }\n",
       "                }\n",
       "            }, 500);\n",
       "            "
      ],
      "text/plain": [
       "<IPython.core.display.Javascript object>"
      ]
     },
     "metadata": {},
     "output_type": "display_data"
    }
   ],
   "source": [
    "df = df.drop(columns=[\"math score\", \"reading score\", \"writing score\"])"
   ]
  },
  {
   "cell_type": "code",
   "execution_count": 15,
   "metadata": {},
   "outputs": [
    {
     "data": {
      "text/html": [
       "<div>\n",
       "<style scoped>\n",
       "    .dataframe tbody tr th:only-of-type {\n",
       "        vertical-align: middle;\n",
       "    }\n",
       "\n",
       "    .dataframe tbody tr th {\n",
       "        vertical-align: top;\n",
       "    }\n",
       "\n",
       "    .dataframe thead th {\n",
       "        text-align: right;\n",
       "    }\n",
       "</style>\n",
       "<table border=\"1\" class=\"dataframe\">\n",
       "  <thead>\n",
       "    <tr style=\"text-align: right;\">\n",
       "      <th></th>\n",
       "      <th>gender</th>\n",
       "      <th>race/ethnicity</th>\n",
       "      <th>parental level of education</th>\n",
       "      <th>lunch</th>\n",
       "      <th>test preparation course</th>\n",
       "      <th>wt_exam_scr</th>\n",
       "    </tr>\n",
       "  </thead>\n",
       "  <tbody>\n",
       "    <tr>\n",
       "      <td>0</td>\n",
       "      <td>female</td>\n",
       "      <td>group B</td>\n",
       "      <td>bachelor's degree</td>\n",
       "      <td>standard</td>\n",
       "      <td>none</td>\n",
       "      <td>72.666667</td>\n",
       "    </tr>\n",
       "    <tr>\n",
       "      <td>1</td>\n",
       "      <td>female</td>\n",
       "      <td>group C</td>\n",
       "      <td>some college</td>\n",
       "      <td>standard</td>\n",
       "      <td>completed</td>\n",
       "      <td>82.333333</td>\n",
       "    </tr>\n",
       "    <tr>\n",
       "      <td>2</td>\n",
       "      <td>female</td>\n",
       "      <td>group B</td>\n",
       "      <td>master's degree</td>\n",
       "      <td>standard</td>\n",
       "      <td>none</td>\n",
       "      <td>92.666667</td>\n",
       "    </tr>\n",
       "    <tr>\n",
       "      <td>3</td>\n",
       "      <td>male</td>\n",
       "      <td>group A</td>\n",
       "      <td>associate's degree</td>\n",
       "      <td>free/reduced</td>\n",
       "      <td>none</td>\n",
       "      <td>49.333333</td>\n",
       "    </tr>\n",
       "    <tr>\n",
       "      <td>4</td>\n",
       "      <td>male</td>\n",
       "      <td>group C</td>\n",
       "      <td>some college</td>\n",
       "      <td>standard</td>\n",
       "      <td>none</td>\n",
       "      <td>76.333333</td>\n",
       "    </tr>\n",
       "  </tbody>\n",
       "</table>\n",
       "</div>"
      ],
      "text/plain": [
       "   gender race/ethnicity parental level of education         lunch  \\\n",
       "0  female        group B           bachelor's degree      standard   \n",
       "1  female        group C                some college      standard   \n",
       "2  female        group B             master's degree      standard   \n",
       "3    male        group A          associate's degree  free/reduced   \n",
       "4    male        group C                some college      standard   \n",
       "\n",
       "  test preparation course  wt_exam_scr  \n",
       "0                    none    72.666667  \n",
       "1               completed    82.333333  \n",
       "2                    none    92.666667  \n",
       "3                    none    49.333333  \n",
       "4                    none    76.333333  "
      ]
     },
     "execution_count": 15,
     "metadata": {},
     "output_type": "execute_result"
    },
    {
     "data": {
      "application/javascript": [
       "\n",
       "            setTimeout(function() {\n",
       "                var nbb_cell_id = 15;\n",
       "                var nbb_unformatted_code = \"df.head()\";\n",
       "                var nbb_formatted_code = \"df.head()\";\n",
       "                var nbb_cells = Jupyter.notebook.get_cells();\n",
       "                for (var i = 0; i < nbb_cells.length; ++i) {\n",
       "                    if (nbb_cells[i].input_prompt_number == nbb_cell_id) {\n",
       "                        if (nbb_cells[i].get_text() == nbb_unformatted_code) {\n",
       "                             nbb_cells[i].set_text(nbb_formatted_code);\n",
       "                        }\n",
       "                        break;\n",
       "                    }\n",
       "                }\n",
       "            }, 500);\n",
       "            "
      ],
      "text/plain": [
       "<IPython.core.display.Javascript object>"
      ]
     },
     "metadata": {},
     "output_type": "display_data"
    }
   ],
   "source": [
    "df.head()"
   ]
  },
  {
   "cell_type": "code",
   "execution_count": 16,
   "metadata": {},
   "outputs": [
    {
     "data": {
      "text/plain": [
       "array(['standard', 'free/reduced'], dtype=object)"
      ]
     },
     "execution_count": 16,
     "metadata": {},
     "output_type": "execute_result"
    },
    {
     "data": {
      "application/javascript": [
       "\n",
       "            setTimeout(function() {\n",
       "                var nbb_cell_id = 16;\n",
       "                var nbb_unformatted_code = \"df[\\\"lunch\\\"].unique()\";\n",
       "                var nbb_formatted_code = \"df[\\\"lunch\\\"].unique()\";\n",
       "                var nbb_cells = Jupyter.notebook.get_cells();\n",
       "                for (var i = 0; i < nbb_cells.length; ++i) {\n",
       "                    if (nbb_cells[i].input_prompt_number == nbb_cell_id) {\n",
       "                        if (nbb_cells[i].get_text() == nbb_unformatted_code) {\n",
       "                             nbb_cells[i].set_text(nbb_formatted_code);\n",
       "                        }\n",
       "                        break;\n",
       "                    }\n",
       "                }\n",
       "            }, 500);\n",
       "            "
      ],
      "text/plain": [
       "<IPython.core.display.Javascript object>"
      ]
     },
     "metadata": {},
     "output_type": "display_data"
    }
   ],
   "source": [
    "df[\"lunch\"].unique()"
   ]
  },
  {
   "cell_type": "code",
   "execution_count": 17,
   "metadata": {},
   "outputs": [
    {
     "data": {
      "application/javascript": [
       "\n",
       "            setTimeout(function() {\n",
       "                var nbb_cell_id = 17;\n",
       "                var nbb_unformatted_code = \"#change gender to numeric\\ndf[\\\"gender\\\"] = df[\\\"gender\\\"].str.replace(\\\"female\\\", \\\"1\\\")\\ndf[\\\"gender\\\"] = df[\\\"gender\\\"].str.replace(\\\"male\\\", \\\"0\\\")\\ndf[\\\"gender\\\"] = pd.to_numeric(df[\\\"gender\\\"])\";\n",
       "                var nbb_formatted_code = \"# change gender to numeric\\ndf[\\\"gender\\\"] = df[\\\"gender\\\"].str.replace(\\\"female\\\", \\\"1\\\")\\ndf[\\\"gender\\\"] = df[\\\"gender\\\"].str.replace(\\\"male\\\", \\\"0\\\")\\ndf[\\\"gender\\\"] = pd.to_numeric(df[\\\"gender\\\"])\";\n",
       "                var nbb_cells = Jupyter.notebook.get_cells();\n",
       "                for (var i = 0; i < nbb_cells.length; ++i) {\n",
       "                    if (nbb_cells[i].input_prompt_number == nbb_cell_id) {\n",
       "                        if (nbb_cells[i].get_text() == nbb_unformatted_code) {\n",
       "                             nbb_cells[i].set_text(nbb_formatted_code);\n",
       "                        }\n",
       "                        break;\n",
       "                    }\n",
       "                }\n",
       "            }, 500);\n",
       "            "
      ],
      "text/plain": [
       "<IPython.core.display.Javascript object>"
      ]
     },
     "metadata": {},
     "output_type": "display_data"
    }
   ],
   "source": [
    "# change gender to numeric\n",
    "df[\"gender\"] = df[\"gender\"].str.replace(\"female\", \"1\")\n",
    "df[\"gender\"] = df[\"gender\"].str.replace(\"male\", \"0\")\n",
    "df[\"gender\"] = pd.to_numeric(df[\"gender\"])"
   ]
  },
  {
   "cell_type": "code",
   "execution_count": 18,
   "metadata": {},
   "outputs": [
    {
     "data": {
      "application/javascript": [
       "\n",
       "            setTimeout(function() {\n",
       "                var nbb_cell_id = 18;\n",
       "                var nbb_unformatted_code = \"#change parental education to numeric\\nedu_map = {\\n    \\\"some high school\\\": 1,\\n    \\\"high school\\\": 2,\\n    \\\"some college\\\": 3,\\n    \\\"associate's degree\\\": 4,\\n    \\\"bachelor's degree\\\": 5,\\n    \\\"master's degree\\\": 6,\\n}\\ndf[[\\\"parental level of education\\\"]] = df[[\\\"parental level of education\\\"]].replace(\\n    edu_map\\n)\";\n",
       "                var nbb_formatted_code = \"# change parental education to numeric\\nedu_map = {\\n    \\\"some high school\\\": 1,\\n    \\\"high school\\\": 2,\\n    \\\"some college\\\": 3,\\n    \\\"associate's degree\\\": 4,\\n    \\\"bachelor's degree\\\": 5,\\n    \\\"master's degree\\\": 6,\\n}\\ndf[[\\\"parental level of education\\\"]] = df[[\\\"parental level of education\\\"]].replace(\\n    edu_map\\n)\";\n",
       "                var nbb_cells = Jupyter.notebook.get_cells();\n",
       "                for (var i = 0; i < nbb_cells.length; ++i) {\n",
       "                    if (nbb_cells[i].input_prompt_number == nbb_cell_id) {\n",
       "                        if (nbb_cells[i].get_text() == nbb_unformatted_code) {\n",
       "                             nbb_cells[i].set_text(nbb_formatted_code);\n",
       "                        }\n",
       "                        break;\n",
       "                    }\n",
       "                }\n",
       "            }, 500);\n",
       "            "
      ],
      "text/plain": [
       "<IPython.core.display.Javascript object>"
      ]
     },
     "metadata": {},
     "output_type": "display_data"
    }
   ],
   "source": [
    "# change parental education to numeric\n",
    "edu_map = {\n",
    "    \"some high school\": 1,\n",
    "    \"high school\": 2,\n",
    "    \"some college\": 3,\n",
    "    \"associate's degree\": 4,\n",
    "    \"bachelor's degree\": 5,\n",
    "    \"master's degree\": 6,\n",
    "}\n",
    "df[[\"parental level of education\"]] = df[[\"parental level of education\"]].replace(\n",
    "    edu_map\n",
    ")"
   ]
  },
  {
   "cell_type": "code",
   "execution_count": 19,
   "metadata": {},
   "outputs": [
    {
     "data": {
      "application/javascript": [
       "\n",
       "            setTimeout(function() {\n",
       "                var nbb_cell_id = 19;\n",
       "                var nbb_unformatted_code = \"#change test prep to numeric\\ndf[\\\"test preparation course\\\"] = df[\\\"test preparation course\\\"].str.replace(\\\"completed\\\", \\\"1\\\")\\ndf[\\\"test preparation course\\\"] = df[\\\"test preparation course\\\"].str.replace(\\\"none\\\", \\\"0\\\")\\ndf[\\\"test preparation course\\\"] = pd.to_numeric(df[\\\"test preparation course\\\"])\";\n",
       "                var nbb_formatted_code = \"# change test prep to numeric\\ndf[\\\"test preparation course\\\"] = df[\\\"test preparation course\\\"].str.replace(\\n    \\\"completed\\\", \\\"1\\\"\\n)\\ndf[\\\"test preparation course\\\"] = df[\\\"test preparation course\\\"].str.replace(\\\"none\\\", \\\"0\\\")\\ndf[\\\"test preparation course\\\"] = pd.to_numeric(df[\\\"test preparation course\\\"])\";\n",
       "                var nbb_cells = Jupyter.notebook.get_cells();\n",
       "                for (var i = 0; i < nbb_cells.length; ++i) {\n",
       "                    if (nbb_cells[i].input_prompt_number == nbb_cell_id) {\n",
       "                        if (nbb_cells[i].get_text() == nbb_unformatted_code) {\n",
       "                             nbb_cells[i].set_text(nbb_formatted_code);\n",
       "                        }\n",
       "                        break;\n",
       "                    }\n",
       "                }\n",
       "            }, 500);\n",
       "            "
      ],
      "text/plain": [
       "<IPython.core.display.Javascript object>"
      ]
     },
     "metadata": {},
     "output_type": "display_data"
    }
   ],
   "source": [
    "# change test prep to numeric\n",
    "df[\"test preparation course\"] = df[\"test preparation course\"].str.replace(\n",
    "    \"completed\", \"1\"\n",
    ")\n",
    "df[\"test preparation course\"] = df[\"test preparation course\"].str.replace(\"none\", \"0\")\n",
    "df[\"test preparation course\"] = pd.to_numeric(df[\"test preparation course\"])"
   ]
  },
  {
   "cell_type": "code",
   "execution_count": 20,
   "metadata": {},
   "outputs": [
    {
     "data": {
      "application/javascript": [
       "\n",
       "            setTimeout(function() {\n",
       "                var nbb_cell_id = 20;\n",
       "                var nbb_unformatted_code = \"# change lunch to numeric\\ndf[\\\"lunch\\\"] = df[\\\"lunch\\\"].str.replace(\\\"free/reduced\\\", \\\"1\\\")\\ndf[\\\"lunch\\\"] = df[\\\"lunch\\\"].str.replace(\\\"standard\\\", \\\"0\\\")\\ndf[\\\"lunch\\\"] = pd.to_numeric(df[\\\"lunch\\\"])\";\n",
       "                var nbb_formatted_code = \"# change lunch to numeric\\ndf[\\\"lunch\\\"] = df[\\\"lunch\\\"].str.replace(\\\"free/reduced\\\", \\\"1\\\")\\ndf[\\\"lunch\\\"] = df[\\\"lunch\\\"].str.replace(\\\"standard\\\", \\\"0\\\")\\ndf[\\\"lunch\\\"] = pd.to_numeric(df[\\\"lunch\\\"])\";\n",
       "                var nbb_cells = Jupyter.notebook.get_cells();\n",
       "                for (var i = 0; i < nbb_cells.length; ++i) {\n",
       "                    if (nbb_cells[i].input_prompt_number == nbb_cell_id) {\n",
       "                        if (nbb_cells[i].get_text() == nbb_unformatted_code) {\n",
       "                             nbb_cells[i].set_text(nbb_formatted_code);\n",
       "                        }\n",
       "                        break;\n",
       "                    }\n",
       "                }\n",
       "            }, 500);\n",
       "            "
      ],
      "text/plain": [
       "<IPython.core.display.Javascript object>"
      ]
     },
     "metadata": {},
     "output_type": "display_data"
    }
   ],
   "source": [
    "# change lunch to numeric\n",
    "df[\"lunch\"] = df[\"lunch\"].str.replace(\"free/reduced\", \"1\")\n",
    "df[\"lunch\"] = df[\"lunch\"].str.replace(\"standard\", \"0\")\n",
    "df[\"lunch\"] = pd.to_numeric(df[\"lunch\"])"
   ]
  },
  {
   "cell_type": "code",
   "execution_count": 21,
   "metadata": {},
   "outputs": [
    {
     "data": {
      "application/javascript": [
       "\n",
       "            setTimeout(function() {\n",
       "                var nbb_cell_id = 21;\n",
       "                var nbb_unformatted_code = \"# create dummy variables for race/ethnicity\\ndf = pd.concat([df, pd.get_dummies(df[\\\"race/ethnicity\\\"], drop_first=True)], axis=1)\\ndf = df.drop(columns=[\\\"race/ethnicity\\\"])\";\n",
       "                var nbb_formatted_code = \"# create dummy variables for race/ethnicity\\ndf = pd.concat([df, pd.get_dummies(df[\\\"race/ethnicity\\\"], drop_first=True)], axis=1)\\ndf = df.drop(columns=[\\\"race/ethnicity\\\"])\";\n",
       "                var nbb_cells = Jupyter.notebook.get_cells();\n",
       "                for (var i = 0; i < nbb_cells.length; ++i) {\n",
       "                    if (nbb_cells[i].input_prompt_number == nbb_cell_id) {\n",
       "                        if (nbb_cells[i].get_text() == nbb_unformatted_code) {\n",
       "                             nbb_cells[i].set_text(nbb_formatted_code);\n",
       "                        }\n",
       "                        break;\n",
       "                    }\n",
       "                }\n",
       "            }, 500);\n",
       "            "
      ],
      "text/plain": [
       "<IPython.core.display.Javascript object>"
      ]
     },
     "metadata": {},
     "output_type": "display_data"
    }
   ],
   "source": [
    "# create dummy variables for race/ethnicity\n",
    "df = pd.concat([df, pd.get_dummies(df[\"race/ethnicity\"], drop_first=True)], axis=1)\n",
    "df = df.drop(columns=[\"race/ethnicity\"])"
   ]
  },
  {
   "cell_type": "code",
   "execution_count": 22,
   "metadata": {},
   "outputs": [
    {
     "data": {
      "text/html": [
       "<div>\n",
       "<style scoped>\n",
       "    .dataframe tbody tr th:only-of-type {\n",
       "        vertical-align: middle;\n",
       "    }\n",
       "\n",
       "    .dataframe tbody tr th {\n",
       "        vertical-align: top;\n",
       "    }\n",
       "\n",
       "    .dataframe thead th {\n",
       "        text-align: right;\n",
       "    }\n",
       "</style>\n",
       "<table border=\"1\" class=\"dataframe\">\n",
       "  <thead>\n",
       "    <tr style=\"text-align: right;\">\n",
       "      <th></th>\n",
       "      <th>gender</th>\n",
       "      <th>parental level of education</th>\n",
       "      <th>lunch</th>\n",
       "      <th>test preparation course</th>\n",
       "      <th>wt_exam_scr</th>\n",
       "      <th>group B</th>\n",
       "      <th>group C</th>\n",
       "      <th>group D</th>\n",
       "      <th>group E</th>\n",
       "    </tr>\n",
       "  </thead>\n",
       "  <tbody>\n",
       "    <tr>\n",
       "      <td>0</td>\n",
       "      <td>1</td>\n",
       "      <td>5</td>\n",
       "      <td>0</td>\n",
       "      <td>0</td>\n",
       "      <td>72.666667</td>\n",
       "      <td>1</td>\n",
       "      <td>0</td>\n",
       "      <td>0</td>\n",
       "      <td>0</td>\n",
       "    </tr>\n",
       "    <tr>\n",
       "      <td>1</td>\n",
       "      <td>1</td>\n",
       "      <td>3</td>\n",
       "      <td>0</td>\n",
       "      <td>1</td>\n",
       "      <td>82.333333</td>\n",
       "      <td>0</td>\n",
       "      <td>1</td>\n",
       "      <td>0</td>\n",
       "      <td>0</td>\n",
       "    </tr>\n",
       "    <tr>\n",
       "      <td>2</td>\n",
       "      <td>1</td>\n",
       "      <td>6</td>\n",
       "      <td>0</td>\n",
       "      <td>0</td>\n",
       "      <td>92.666667</td>\n",
       "      <td>1</td>\n",
       "      <td>0</td>\n",
       "      <td>0</td>\n",
       "      <td>0</td>\n",
       "    </tr>\n",
       "    <tr>\n",
       "      <td>3</td>\n",
       "      <td>0</td>\n",
       "      <td>4</td>\n",
       "      <td>1</td>\n",
       "      <td>0</td>\n",
       "      <td>49.333333</td>\n",
       "      <td>0</td>\n",
       "      <td>0</td>\n",
       "      <td>0</td>\n",
       "      <td>0</td>\n",
       "    </tr>\n",
       "    <tr>\n",
       "      <td>4</td>\n",
       "      <td>0</td>\n",
       "      <td>3</td>\n",
       "      <td>0</td>\n",
       "      <td>0</td>\n",
       "      <td>76.333333</td>\n",
       "      <td>0</td>\n",
       "      <td>1</td>\n",
       "      <td>0</td>\n",
       "      <td>0</td>\n",
       "    </tr>\n",
       "  </tbody>\n",
       "</table>\n",
       "</div>"
      ],
      "text/plain": [
       "   gender  parental level of education  lunch  test preparation course  \\\n",
       "0       1                            5      0                        0   \n",
       "1       1                            3      0                        1   \n",
       "2       1                            6      0                        0   \n",
       "3       0                            4      1                        0   \n",
       "4       0                            3      0                        0   \n",
       "\n",
       "   wt_exam_scr  group B  group C  group D  group E  \n",
       "0    72.666667        1        0        0        0  \n",
       "1    82.333333        0        1        0        0  \n",
       "2    92.666667        1        0        0        0  \n",
       "3    49.333333        0        0        0        0  \n",
       "4    76.333333        0        1        0        0  "
      ]
     },
     "execution_count": 22,
     "metadata": {},
     "output_type": "execute_result"
    },
    {
     "data": {
      "application/javascript": [
       "\n",
       "            setTimeout(function() {\n",
       "                var nbb_cell_id = 22;\n",
       "                var nbb_unformatted_code = \"df.head()\";\n",
       "                var nbb_formatted_code = \"df.head()\";\n",
       "                var nbb_cells = Jupyter.notebook.get_cells();\n",
       "                for (var i = 0; i < nbb_cells.length; ++i) {\n",
       "                    if (nbb_cells[i].input_prompt_number == nbb_cell_id) {\n",
       "                        if (nbb_cells[i].get_text() == nbb_unformatted_code) {\n",
       "                             nbb_cells[i].set_text(nbb_formatted_code);\n",
       "                        }\n",
       "                        break;\n",
       "                    }\n",
       "                }\n",
       "            }, 500);\n",
       "            "
      ],
      "text/plain": [
       "<IPython.core.display.Javascript object>"
      ]
     },
     "metadata": {},
     "output_type": "display_data"
    }
   ],
   "source": [
    "df.head()"
   ]
  },
  {
   "cell_type": "code",
   "execution_count": 34,
   "metadata": {},
   "outputs": [
    {
     "data": {
      "image/png": "[encoded data removed]",
      "text/plain": [
       "<Figure size 864x720 with 2 Axes>"
      ]
     },
     "metadata": {
      "needs_background": "light"
     },
     "output_type": "display_data"
    },
    {
     "data": {
      "application/javascript": [
       "\n",
       "            setTimeout(function() {\n",
       "                var nbb_cell_id = 34;\n",
       "                var nbb_unformatted_code = \"plt.figure(figsize=(12, 10))\\nsns.heatmap(df.corr(), vmin=-1, vmax=1, annot=True)\\nplt.show()\";\n",
       "                var nbb_formatted_code = \"plt.figure(figsize=(12, 10))\\nsns.heatmap(df.corr(), vmin=-1, vmax=1, annot=True)\\nplt.show()\";\n",
       "                var nbb_cells = Jupyter.notebook.get_cells();\n",
       "                for (var i = 0; i < nbb_cells.length; ++i) {\n",
       "                    if (nbb_cells[i].input_prompt_number == nbb_cell_id) {\n",
       "                        if (nbb_cells[i].get_text() == nbb_unformatted_code) {\n",
       "                             nbb_cells[i].set_text(nbb_formatted_code);\n",
       "                        }\n",
       "                        break;\n",
       "                    }\n",
       "                }\n",
       "            }, 500);\n",
       "            "
      ],
      "text/plain": [
       "<IPython.core.display.Javascript object>"
      ]
     },
     "metadata": {},
     "output_type": "display_data"
    }
   ],
   "source": [
    "plt.figure(figsize=(12, 10))\n",
    "sns.heatmap(df.corr(), vmin=-1, vmax=1, annot=True)\n",
    "plt.show()"
   ]
  },
  {
   "cell_type": "markdown",
   "metadata": {},
   "source": [
    "The features that correlate most to the weighted exam scores are lunch, test preparation course, and parental level of education."
   ]
  },
  {
   "cell_type": "code",
   "execution_count": null,
   "metadata": {},
   "outputs": [],
   "source": []
  }
 ],
 "metadata": {
  "kernelspec": {
   "display_name": "Python 3",
   "language": "python",
   "name": "python3"
  },
  "language_info": {
   "codemirror_mode": {
    "name": "ipython",
    "version": 3
   },
   "file_extension": ".py",
   "mimetype": "text/x-python",
   "name": "python",
   "nbconvert_exporter": "python",
   "pygments_lexer": "ipython3",
   "version": "3.7.4"
  }
 },
 "nbformat": 4,
 "nbformat_minor": 2
}
