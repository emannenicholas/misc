{
 "cells": [
  {
   "cell_type": "markdown",
   "metadata": {},
   "source": [
    "# Assignment 15.1 : What is Machine Learning?\n",
    "\n",
    "\n",
    "### A. Reading the code below, what type of algorithm would you most closely identify this as?\n",
    "\n",
    "```\n",
    "    import math\n",
    "    def euclideanDistance(point1, point2, length):\n",
    "            distance = 0\n",
    "            for x in range(length):\n",
    "                    distance += pow((point1[x] - point2[x]), 2)\n",
    "            return math.sqrt(distance)<code>\n",
    "```\n",
    "\n",
    "1. It is a mathematical algorithm for computing a geometric distance\n",
    "\n",
    "2. It is a machine learning algorithm for predicting a distance\n",
    "\n",
    "3. It is a recursive algorithm that iterates over reducing distances\n",
    "\n",
    "4. It is a sorting algorithm that organizes the distances of points\n",
    "\n"
   ]
  },
  {
   "cell_type": "markdown",
   "metadata": {},
   "source": [
    "### Answer: 1."
   ]
  },
  {
   "cell_type": "markdown",
   "metadata": {},
   "source": [
    "### B. What about this code? What type of algorithm would you most closely identify this as?\n",
    "```\n",
    " import operator \n",
    "\n",
    "    def closestNeighbours(listA, listB, n):\n",
    "      guesses=[]\n",
    "      for rowB in range(len(listB)):\n",
    "          distances = []\n",
    "          length = len(rowB)-1\n",
    "          for i in range(len(listA)):\n",
    "            newDistance = euclideanDistance(rowB, listA[i], length)\n",
    "            distances.append((listA[i], newDistance))\n",
    "          distances.sort(key=operator.itemgetter(1))\n",
    "          neighbours = []\n",
    "          for j in range(n):\n",
    "            neighbours.append(distances\\[j\\][0])\n",
    "          classVotes = {}\n",
    "          for k in range(len(neighbours)):\n",
    "            response = neighbours\\[k\\][-1]\n",
    "            if response in classVotes:\n",
    "                classVotes[response] += 1\n",
    "            else:\n",
    "                classVotes[response] = 1\n",
    "          sortedVotes = sorted(classVotes.iteritems(), key=operator.itemgetter(1), reverse=True)\n",
    "          guesses.append(sortedVotes\\[0\\][0])\n",
    "      return guesses\n",
    "```\n",
    " \n",
    "1. It is a mathematical algorithm for computing a geometrical neighbor\n",
    "\n",
    "2. It is a machine learning algorithm for predicting a value for list B given the closest neighbors to a point in list A\n",
    "\n",
    "3. It is a recursive algorithm that guesses neighbors by iterating over reducing distances\n",
    "\n",
    "4. It is a sorting algorithm that organizes the distances of neighboring points"
   ]
  },
  {
   "cell_type": "markdown",
   "metadata": {},
   "source": [
    "### Answer: 2."
   ]
  },
  {
   "cell_type": "markdown",
   "metadata": {},
   "source": [
    "### C. What is the difference between features and labels?\n",
    "\n",
    "1. Features are context-specific input for our models that are tailored to the problem at hand, whereas labels are the desired output that corresponds to a single instance from the dataset\n",
    "\n",
    "2. Features are input and labels are the output of any model\n",
    "\n",
    "3. Features are the most important aspects of a machine learning algorithm, and labels are the names we give to the different types of machine learning algorithms"
   ]
  },
  {
   "cell_type": "markdown",
   "metadata": {},
   "source": [
    "### Answer: 1."
   ]
  },
  {
   "cell_type": "markdown",
   "metadata": {},
   "source": [
    "### D. How do you know when a model is overfitting?\n",
    "\n",
    "1. It cannot produce any meaningful predictions for any dataset in this problem\n",
    "\n",
    "2. It can produce correct predictions for datasets in this problem that are identical or almost identical to its own\n",
    "\n",
    "3. It can produce correct predictions for any dataset in this problem regardless of pattern\n",
    "\n",
    "4. It can perform better on new datasets in this problem than it could on training data"
   ]
  },
  {
   "cell_type": "markdown",
   "metadata": {},
   "source": [
    "### Answer: 2."
   ]
  },
  {
   "cell_type": "markdown",
   "metadata": {},
   "source": [
    "### E. How do you fix a model that is underfitting?\n",
    "\n",
    "1. Add more data to the training set\n",
    "\n",
    "2. Figure out if the problem is in the model’s features and labels or in the underlying algorithm/estimator, and then make changes\n",
    "\n",
    "3. Use cross-validation to give our model more training opportunities\n",
    "\n",
    "4. Make random adjustments to the model until it works"
   ]
  },
  {
   "cell_type": "markdown",
   "metadata": {},
   "source": [
    "### Answer: 2. "
   ]
  },
  {
   "cell_type": "markdown",
   "metadata": {},
   "source": [
    "### F. Which of these examples is not a supervised learning problem?\n",
    "\n",
    "1. Identifying new customer segments from an e-commerce website based on their behavior on the website\n",
    "\n",
    "2. Identifying which species a flower is based on measured information about its characteristics\n",
    "\n",
    "3. Identifying which sports team is most likely to win based on historical data about team performance\n",
    "\n",
    "4. Identifying customers which are most likely to buy based on their behavior and previous interactions with the store"
   ]
  },
  {
   "cell_type": "markdown",
   "metadata": {},
   "source": [
    "### Answer: 1."
   ]
  },
  {
   "cell_type": "markdown",
   "metadata": {},
   "source": [
    "### G. Which of these examples is a reinforcement learning task?\n",
    "\n",
    "1. Training a learning agent to predict winning moves in a game of chess with real life players and information around the rules of the game\n",
    "\n",
    "2. Training a learning agent to predict which sports team is most likely to win based on real historical data about team performance\n",
    "\n",
    "3. Training a learning agent to predict which customers are most likely to buy based on real behavior and previous interactions with the store\n",
    "\n",
    "4. Training a learning agent to respond to people in a chat based on real historical data about the semantics of natural language"
   ]
  },
  {
   "cell_type": "markdown",
   "metadata": {},
   "source": [
    "### Answer: 1."
   ]
  }
 ],
 "metadata": {
  "kernelspec": {
   "display_name": "Python 3",
   "language": "python",
   "name": "python3"
  },
  "language_info": {
   "codemirror_mode": {
    "name": "ipython",
    "version": 3
   },
   "file_extension": ".py",
   "mimetype": "text/x-python",
   "name": "python",
   "nbconvert_exporter": "python",
   "pygments_lexer": "ipython3",
   "version": "3.7.4"
  }
 },
 "nbformat": 4,
 "nbformat_minor": 2
}
