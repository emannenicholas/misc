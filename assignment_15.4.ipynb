{
 "cells": [
  {
   "cell_type": "markdown",
   "metadata": {
    "colab_type": "text",
    "id": "6I4eycOvylvk"
   },
   "source": [
    "## Analyzing Model Performance Assignment\n",
    "In this assignment you will load a dataset and train a Logistic regression Classifier use the techniques discussed in the lesson to measure the performance. We will use the [Statlog Shuttle](http://archive.ics.uci.edu/ml/datasets/Statlog+%28Shuttle%29) dataset from UCI  to train a classifier to predict a full house.\n",
    "\n",
    "### The Dataset\n",
    "Each record contain 9 numerical attributes. The 10th column is the target column. There are two classes to predict, we will call them **positive** and **negative**.\n",
    "\n"
   ]
  },
  {
   "cell_type": "markdown",
   "metadata": {
    "colab_type": "text",
    "id": "0yC0ZA6dy1QV"
   },
   "source": [
    "### 1. Import necessary packages\n",
    "\n",
    "For this exercise we need\n",
    "\n",
    " - pandas\n",
    " - train_test_split\n",
    " - LogisticRegression\n",
    " - pyplot from matplotlib\n",
    " - KNeighborsClassifier\n",
    " - LogisticRegressionClassifier\n",
    " - RandomForestClassifier\n",
    " - DummyClassifier"
   ]
  },
  {
   "cell_type": "code",
   "execution_count": 1,
   "metadata": {
    "colab": {},
    "colab_type": "code",
    "id": "XTA2-4TWs-Od"
   },
   "outputs": [
    {
     "data": {
      "application/javascript": [
       "\n",
       "            setTimeout(function() {\n",
       "                var nbb_cell_id = 1;\n",
       "                var nbb_unformatted_code = \"import matplotlib.pyplot as plt\\nimport numpy as np\\nimport pandas as pd\\nimport seaborn as sns\\nfrom sklearn.linear_model import LogisticRegression\\nfrom sklearn.model_selection import train_test_split, cross_val_score\\nfrom sklearn.dummy import DummyClassifier\\nfrom sklearn.metrics import confusion_matrix\\nfrom sklearn.utils.multiclass import unique_labels\\nfrom sklearn.metrics import accuracy_score, precision_score, recall_score, f1_score, fbeta_score, classification_report\\nfrom sklearn.metrics import roc_curve, precision_recall_curve, roc_auc_score\\nfrom sklearn.preprocessing import StandardScaler\\nfrom sklearn.neighbors import KNeighborsClassifier\\nfrom sklearn.ensemble import RandomForestClassifier\\n%matplotlib inline\\n\\n%load_ext nb_black\";\n",
       "                var nbb_formatted_code = \"import matplotlib.pyplot as plt\\nimport numpy as np\\nimport pandas as pd\\nimport seaborn as sns\\nfrom sklearn.linear_model import LogisticRegression\\nfrom sklearn.model_selection import train_test_split, cross_val_score\\nfrom sklearn.dummy import DummyClassifier\\nfrom sklearn.metrics import confusion_matrix\\nfrom sklearn.utils.multiclass import unique_labels\\nfrom sklearn.metrics import (\\n    accuracy_score,\\n    precision_score,\\n    recall_score,\\n    f1_score,\\n    fbeta_score,\\n    classification_report,\\n)\\nfrom sklearn.metrics import roc_curve, precision_recall_curve, roc_auc_score\\nfrom sklearn.preprocessing import StandardScaler\\nfrom sklearn.neighbors import KNeighborsClassifier\\nfrom sklearn.ensemble import RandomForestClassifier\\n\\n%matplotlib inline\\n\\n%load_ext nb_black\";\n",
       "                var nbb_cells = Jupyter.notebook.get_cells();\n",
       "                for (var i = 0; i < nbb_cells.length; ++i) {\n",
       "                    if (nbb_cells[i].input_prompt_number == nbb_cell_id) {\n",
       "                        if (nbb_cells[i].get_text() == nbb_unformatted_code) {\n",
       "                             nbb_cells[i].set_text(nbb_formatted_code);\n",
       "                        }\n",
       "                        break;\n",
       "                    }\n",
       "                }\n",
       "            }, 500);\n",
       "            "
      ],
      "text/plain": [
       "<IPython.core.display.Javascript object>"
      ]
     },
     "metadata": {},
     "output_type": "display_data"
    }
   ],
   "source": [
    "import matplotlib.pyplot as plt\n",
    "import numpy as np\n",
    "import pandas as pd\n",
    "import seaborn as sns\n",
    "from sklearn.linear_model import LogisticRegression\n",
    "from sklearn.model_selection import train_test_split, cross_val_score\n",
    "from sklearn.dummy import DummyClassifier\n",
    "from sklearn.metrics import confusion_matrix\n",
    "from sklearn.utils.multiclass import unique_labels\n",
    "from sklearn.metrics import (\n",
    "    accuracy_score,\n",
    "    precision_score,\n",
    "    recall_score,\n",
    "    f1_score,\n",
    "    fbeta_score,\n",
    "    classification_report,\n",
    ")\n",
    "from sklearn.metrics import roc_curve, precision_recall_curve, roc_auc_score\n",
    "from sklearn.preprocessing import StandardScaler\n",
    "from sklearn.neighbors import KNeighborsClassifier\n",
    "from sklearn.ensemble import RandomForestClassifier\n",
    "\n",
    "%matplotlib inline\n",
    "\n",
    "%load_ext nb_black"
   ]
  },
  {
   "cell_type": "markdown",
   "metadata": {
    "colab_type": "text",
    "id": "_OzR2Q1mzNsj"
   },
   "source": [
    "### 2. Load and prepare the dataset\n",
    "\n",
    "\n",
    "1.   Load the training data into a dataframe named **df_train_data** (this step is done for you).\n",
    "2.   Create binary classification problem - rename some class labels (this step done for you).\n",
    "3.   Create a dataframe of 9 features named **X**, drop column 9.\n",
    "4.   Create a data frame of labels named **y**, select only column 9.\n",
    "5.   Split the data into a training set and a test set.\n",
    "\n",
    "\n"
   ]
  },
  {
   "cell_type": "code",
   "execution_count": 11,
   "metadata": {
    "colab": {},
    "colab_type": "code",
    "id": "YiVjEgccA2Jf"
   },
   "outputs": [
    {
     "name": "stdout",
     "output_type": "stream",
     "text": [
      "There are 10875 training samples and 3625 test samples\n"
     ]
    },
    {
     "data": {
      "application/javascript": [
       "\n",
       "            setTimeout(function() {\n",
       "                var nbb_cell_id = 11;\n",
       "                var nbb_unformatted_code = \"df_train_data = pd.read_csv('http://archive.ics.uci.edu/ml/machine-learning-databases/statlog/shuttle/shuttle.tst', header=None, sep=' ')\\n\\ndf_train_data.loc[df_train_data[9] != 4, 9] = 0\\ndf_train_data.loc[df_train_data[9] == 4, 9] = 1\\n\\nX = df_train_data.drop([9], axis=1)\\ny = df_train_data[9]\\n\\nX_train, X_test, y_train, y_test = train_test_split(X, y, random_state = 43)\\n\\nprint('There are {:d} training samples and {:d} test samples'.format(X_train.shape[0], X_test.shape[0]))\";\n",
       "                var nbb_formatted_code = \"df_train_data = pd.read_csv(\\n    \\\"http://archive.ics.uci.edu/ml/machine-learning-databases/statlog/shuttle/shuttle.tst\\\",\\n    header=None,\\n    sep=\\\" \\\",\\n)\\n\\ndf_train_data.loc[df_train_data[9] != 4, 9] = 0\\ndf_train_data.loc[df_train_data[9] == 4, 9] = 1\\n\\nX = df_train_data.drop([9], axis=1)\\ny = df_train_data[9]\\n\\nX_train, X_test, y_train, y_test = train_test_split(X, y, random_state=43)\\n\\nprint(\\n    \\\"There are {:d} training samples and {:d} test samples\\\".format(\\n        X_train.shape[0], X_test.shape[0]\\n    )\\n)\";\n",
       "                var nbb_cells = Jupyter.notebook.get_cells();\n",
       "                for (var i = 0; i < nbb_cells.length; ++i) {\n",
       "                    if (nbb_cells[i].input_prompt_number == nbb_cell_id) {\n",
       "                        if (nbb_cells[i].get_text() == nbb_unformatted_code) {\n",
       "                             nbb_cells[i].set_text(nbb_formatted_code);\n",
       "                        }\n",
       "                        break;\n",
       "                    }\n",
       "                }\n",
       "            }, 500);\n",
       "            "
      ],
      "text/plain": [
       "<IPython.core.display.Javascript object>"
      ]
     },
     "metadata": {},
     "output_type": "display_data"
    }
   ],
   "source": [
    "df_train_data = pd.read_csv('http://archive.ics.uci.edu/ml/machine-learning-databases/statlog/shuttle/shuttle.tst', header=None, sep=' ')\n",
    "\n",
    "df_train_data.loc[df_train_data[9] != 4, 9] = 0\n",
    "df_train_data.loc[df_train_data[9] == 4, 9] = 1\n",
    "\n",
    "X = df_train_data.drop([9], axis=1)\n",
    "y = df_train_data[9]\n",
    "\n",
    "X_train, X_test, y_train, y_test = train_test_split(X, y, random_state = 43)\n",
    "\n",
    "print('There are {:d} training samples and {:d} test samples'.format(X_train.shape[0], X_test.shape[0]))\n"
   ]
  },
  {
   "cell_type": "markdown",
   "metadata": {
    "colab_type": "text",
    "id": "wdUpUqvx0Xy3"
   },
   "source": [
    "### 3. Create the model\n",
    "\n",
    "\n",
    "1.   Instantiate a Logistic Regression classifier with a `lbfgs` solver.\n",
    "2.   Fit the classifier to the data."
   ]
  },
  {
   "cell_type": "code",
   "execution_count": 13,
   "metadata": {
    "colab": {},
    "colab_type": "code",
    "id": "bJZKapCoBrbZ"
   },
   "outputs": [
    {
     "data": {
      "text/plain": [
       "LogisticRegression(C=1.0, class_weight=None, dual=False, fit_intercept=True,\n",
       "                   intercept_scaling=1, l1_ratio=None, max_iter=1000,\n",
       "                   multi_class='warn', n_jobs=None, penalty='l2',\n",
       "                   random_state=None, solver='lbfgs', tol=0.0001, verbose=0,\n",
       "                   warm_start=False)"
      ]
     },
     "execution_count": 13,
     "metadata": {},
     "output_type": "execute_result"
    },
    {
     "data": {
      "application/javascript": [
       "\n",
       "            setTimeout(function() {\n",
       "                var nbb_cell_id = 13;\n",
       "                var nbb_unformatted_code = \"lr = LogisticRegression(solver = 'lbfgs',max_iter=1000)\\nlr.fit(X_train, y_train)\";\n",
       "                var nbb_formatted_code = \"lr = LogisticRegression(solver=\\\"lbfgs\\\", max_iter=1000)\\nlr.fit(X_train, y_train)\";\n",
       "                var nbb_cells = Jupyter.notebook.get_cells();\n",
       "                for (var i = 0; i < nbb_cells.length; ++i) {\n",
       "                    if (nbb_cells[i].input_prompt_number == nbb_cell_id) {\n",
       "                        if (nbb_cells[i].get_text() == nbb_unformatted_code) {\n",
       "                             nbb_cells[i].set_text(nbb_formatted_code);\n",
       "                        }\n",
       "                        break;\n",
       "                    }\n",
       "                }\n",
       "            }, 500);\n",
       "            "
      ],
      "text/plain": [
       "<IPython.core.display.Javascript object>"
      ]
     },
     "metadata": {},
     "output_type": "display_data"
    }
   ],
   "source": [
    "lr = LogisticRegression(solver = 'lbfgs',max_iter=1000)\n",
    "lr.fit(X_train, y_train)\n"
   ]
  },
  {
   "cell_type": "markdown",
   "metadata": {
    "colab_type": "text",
    "id": "xPOOTwC81SEJ"
   },
   "source": [
    "### 4. Calculate Accuracy\n",
    "Calculate and print the accuracy of the model on the test data."
   ]
  },
  {
   "cell_type": "code",
   "execution_count": 0,
   "metadata": {
    "colab": {},
    "colab_type": "code",
    "id": "mDb5eFMC1XwX"
   },
   "outputs": [],
   "source": [
    "lr_score = lr.score(X_test, y_test)\n",
    "\n",
    "print('Accuracy of Logistic Regression: {:.3f}'.format(lr_score))"
   ]
  },
  {
   "cell_type": "markdown",
   "metadata": {
    "colab_type": "text",
    "id": "aapfys9lFCmo"
   },
   "source": [
    "### 5. Dummy Classifier\n",
    "Use the dummy classifier to calculate the accuracy of a purely random chance.\n",
    "\n",
    "*Compare this result to the result ofthe logistic regression classifier above. What does this result tell you?*"
   ]
  },
  {
   "cell_type": "code",
   "execution_count": 14,
   "metadata": {
    "colab": {
     "base_uri": "https://localhost:8080/",
     "height": 34
    },
    "colab_type": "code",
    "id": "XC289sfmFOBX",
    "outputId": "b672da49-3965-475f-84b2-10ffd205af22"
   },
   "outputs": [
    {
     "data": {
      "text/plain": [
       "0.856551724137931"
      ]
     },
     "execution_count": 14,
     "metadata": {},
     "output_type": "execute_result"
    },
    {
     "data": {
      "application/javascript": [
       "\n",
       "            setTimeout(function() {\n",
       "                var nbb_cell_id = 14;\n",
       "                var nbb_unformatted_code = \"dummy = DummyClassifier(strategy = 'most_frequent')\\ndummy.fit(X_train, y_train)\\ndummy.score(X_test, y_test)\";\n",
       "                var nbb_formatted_code = \"dummy = DummyClassifier(strategy=\\\"most_frequent\\\")\\ndummy.fit(X_train, y_train)\\ndummy.score(X_test, y_test)\";\n",
       "                var nbb_cells = Jupyter.notebook.get_cells();\n",
       "                for (var i = 0; i < nbb_cells.length; ++i) {\n",
       "                    if (nbb_cells[i].input_prompt_number == nbb_cell_id) {\n",
       "                        if (nbb_cells[i].get_text() == nbb_unformatted_code) {\n",
       "                             nbb_cells[i].set_text(nbb_formatted_code);\n",
       "                        }\n",
       "                        break;\n",
       "                    }\n",
       "                }\n",
       "            }, 500);\n",
       "            "
      ],
      "text/plain": [
       "<IPython.core.display.Javascript object>"
      ]
     },
     "metadata": {},
     "output_type": "display_data"
    }
   ],
   "source": [
    "dummy = DummyClassifier(strategy=\"most_frequent\")\n",
    "dummy.fit(X_train, y_train)\n",
    "dummy.score(X_test, y_test)"
   ]
  },
  {
   "cell_type": "markdown",
   "metadata": {
    "colab_type": "text",
    "id": "4HZWaREW2lGw"
   },
   "source": [
    "### 6. Confusion Matrix\n",
    "Print the confusion matrix.\n"
   ]
  },
  {
   "cell_type": "code",
   "execution_count": 15,
   "metadata": {
    "colab": {},
    "colab_type": "code",
    "id": "VF_-VldG3A8I"
   },
   "outputs": [
    {
     "name": "stdout",
     "output_type": "stream",
     "text": [
      "[[2966  139]\n",
      " [ 487   33]]\n"
     ]
    },
    {
     "data": {
      "application/javascript": [
       "\n",
       "            setTimeout(function() {\n",
       "                var nbb_cell_id = 15;\n",
       "                var nbb_unformatted_code = \"predictions = lr.predict(X_test)\\n\\nconfusion = confusion_matrix(y_test, predictions)\\nprint(confusion)\";\n",
       "                var nbb_formatted_code = \"predictions = lr.predict(X_test)\\n\\nconfusion = confusion_matrix(y_test, predictions)\\nprint(confusion)\";\n",
       "                var nbb_cells = Jupyter.notebook.get_cells();\n",
       "                for (var i = 0; i < nbb_cells.length; ++i) {\n",
       "                    if (nbb_cells[i].input_prompt_number == nbb_cell_id) {\n",
       "                        if (nbb_cells[i].get_text() == nbb_unformatted_code) {\n",
       "                             nbb_cells[i].set_text(nbb_formatted_code);\n",
       "                        }\n",
       "                        break;\n",
       "                    }\n",
       "                }\n",
       "            }, 500);\n",
       "            "
      ],
      "text/plain": [
       "<IPython.core.display.Javascript object>"
      ]
     },
     "metadata": {},
     "output_type": "display_data"
    }
   ],
   "source": [
    "predictions = lr.predict(X_test)\n",
    "\n",
    "confusion = confusion_matrix(y_test, predictions)\n",
    "print(confusion)"
   ]
  },
  {
   "cell_type": "code",
   "execution_count": 16,
   "metadata": {
    "colab": {},
    "colab_type": "code",
    "id": "H7PMOWWyH2lR"
   },
   "outputs": [
    {
     "data": {
      "application/javascript": [
       "\n",
       "            setTimeout(function() {\n",
       "                var nbb_cell_id = 16;\n",
       "                var nbb_unformatted_code = \"def plot_confusion_matrix(cm,\\n                          target_names,\\n                          title='Confusion matrix',\\n                          cmap=None,\\n                          normalize=True):\\n    \\\"\\\"\\\"\\n    given a sklearn confusion matrix (cm), make a nice plot\\n\\n    Arguments\\n    ---------\\n    cm:           confusion matrix from sklearn.metrics.confusion_matrix\\n\\n    target_names: given classification classes such as [0, 1, 2]\\n                  the class names, for example: ['high', 'medium', 'low']\\n\\n    title:        the text to display at the top of the matrix\\n\\n    cmap:         the gradient of the values displayed from matplotlib.pyplot.cm\\n                  see http://matplotlib.org/examples/color/colormaps_reference.html\\n                  plt.get_cmap('jet') or plt.cm.Blues\\n\\n    normalize:    If False, plot the raw numbers\\n                  If True, plot the proportions\\n\\n    Usage\\n    -----\\n    plot_confusion_matrix(cm           = cm,                  # confusion matrix created by\\n                                                              # sklearn.metrics.confusion_matrix\\n                          normalize    = True,                # show proportions\\n                          target_names = y_labels_vals,       # list of names of the classes\\n                          title        = best_estimator_name) # title of graph\\n\\n    Citiation\\n    ---------\\n    http://scikit-learn.org/stable/auto_examples/model_selection/plot_confusion_matrix.html\\n\\n    \\\"\\\"\\\"\\n    import matplotlib.pyplot as plt\\n    import numpy as np\\n    import itertools\\n\\n    accuracy = np.trace(cm) / float(np.sum(cm))\\n    misclass = 1 - accuracy\\n\\n    if cmap is None:\\n        cmap = plt.get_cmap('Blues')\\n\\n    plt.figure(figsize=(8, 6))\\n    plt.imshow(cm, interpolation='nearest', cmap=cmap)\\n    plt.title(title)\\n    plt.colorbar()\\n\\n    if target_names is not None:\\n        tick_marks = np.arange(len(target_names))\\n        plt.xticks(tick_marks, target_names, rotation=45)\\n        plt.yticks(tick_marks, target_names)\\n\\n    if normalize:\\n        cm = cm.astype('float') / cm.sum(axis=1)[:, np.newaxis]\\n\\n\\n    thresh = cm.max() / 1.5 if normalize else cm.max() / 2\\n    for i, j in itertools.product(range(cm.shape[0]), range(cm.shape[1])):\\n        if normalize:\\n            plt.text(j, i, \\\"{:0.4f}\\\".format(cm[i, j]),\\n                     horizontalalignment=\\\"center\\\",\\n                     color=\\\"white\\\" if cm[i, j] > thresh else \\\"black\\\")\\n        else:\\n            plt.text(j, i, \\\"{:,}\\\".format(cm[i, j]),\\n                     horizontalalignment=\\\"center\\\",\\n                     color=\\\"white\\\" if cm[i, j] > thresh else \\\"black\\\")\\n\\n\\n    plt.tight_layout()\\n    plt.ylabel('Predicted label')\\n    plt.xlabel('True label\\\\naccuracy={:0.4f}; misclass={:0.4f}'.format(accuracy, misclass))\\n    plt.show()\";\n",
       "                var nbb_formatted_code = \"def plot_confusion_matrix(\\n    cm, target_names, title=\\\"Confusion matrix\\\", cmap=None, normalize=True\\n):\\n    \\\"\\\"\\\"\\n    given a sklearn confusion matrix (cm), make a nice plot\\n\\n    Arguments\\n    ---------\\n    cm:           confusion matrix from sklearn.metrics.confusion_matrix\\n\\n    target_names: given classification classes such as [0, 1, 2]\\n                  the class names, for example: ['high', 'medium', 'low']\\n\\n    title:        the text to display at the top of the matrix\\n\\n    cmap:         the gradient of the values displayed from matplotlib.pyplot.cm\\n                  see http://matplotlib.org/examples/color/colormaps_reference.html\\n                  plt.get_cmap('jet') or plt.cm.Blues\\n\\n    normalize:    If False, plot the raw numbers\\n                  If True, plot the proportions\\n\\n    Usage\\n    -----\\n    plot_confusion_matrix(cm           = cm,                  # confusion matrix created by\\n                                                              # sklearn.metrics.confusion_matrix\\n                          normalize    = True,                # show proportions\\n                          target_names = y_labels_vals,       # list of names of the classes\\n                          title        = best_estimator_name) # title of graph\\n\\n    Citiation\\n    ---------\\n    http://scikit-learn.org/stable/auto_examples/model_selection/plot_confusion_matrix.html\\n\\n    \\\"\\\"\\\"\\n    import matplotlib.pyplot as plt\\n    import numpy as np\\n    import itertools\\n\\n    accuracy = np.trace(cm) / float(np.sum(cm))\\n    misclass = 1 - accuracy\\n\\n    if cmap is None:\\n        cmap = plt.get_cmap(\\\"Blues\\\")\\n\\n    plt.figure(figsize=(8, 6))\\n    plt.imshow(cm, interpolation=\\\"nearest\\\", cmap=cmap)\\n    plt.title(title)\\n    plt.colorbar()\\n\\n    if target_names is not None:\\n        tick_marks = np.arange(len(target_names))\\n        plt.xticks(tick_marks, target_names, rotation=45)\\n        plt.yticks(tick_marks, target_names)\\n\\n    if normalize:\\n        cm = cm.astype(\\\"float\\\") / cm.sum(axis=1)[:, np.newaxis]\\n\\n    thresh = cm.max() / 1.5 if normalize else cm.max() / 2\\n    for i, j in itertools.product(range(cm.shape[0]), range(cm.shape[1])):\\n        if normalize:\\n            plt.text(\\n                j,\\n                i,\\n                \\\"{:0.4f}\\\".format(cm[i, j]),\\n                horizontalalignment=\\\"center\\\",\\n                color=\\\"white\\\" if cm[i, j] > thresh else \\\"black\\\",\\n            )\\n        else:\\n            plt.text(\\n                j,\\n                i,\\n                \\\"{:,}\\\".format(cm[i, j]),\\n                horizontalalignment=\\\"center\\\",\\n                color=\\\"white\\\" if cm[i, j] > thresh else \\\"black\\\",\\n            )\\n\\n    plt.tight_layout()\\n    plt.ylabel(\\\"Predicted label\\\")\\n    plt.xlabel(\\n        \\\"True label\\\\naccuracy={:0.4f}; misclass={:0.4f}\\\".format(accuracy, misclass)\\n    )\\n    plt.show()\";\n",
       "                var nbb_cells = Jupyter.notebook.get_cells();\n",
       "                for (var i = 0; i < nbb_cells.length; ++i) {\n",
       "                    if (nbb_cells[i].input_prompt_number == nbb_cell_id) {\n",
       "                        if (nbb_cells[i].get_text() == nbb_unformatted_code) {\n",
       "                             nbb_cells[i].set_text(nbb_formatted_code);\n",
       "                        }\n",
       "                        break;\n",
       "                    }\n",
       "                }\n",
       "            }, 500);\n",
       "            "
      ],
      "text/plain": [
       "<IPython.core.display.Javascript object>"
      ]
     },
     "metadata": {},
     "output_type": "display_data"
    }
   ],
   "source": [
    "def plot_confusion_matrix(\n",
    "    cm, target_names, title=\"Confusion matrix\", cmap=None, normalize=True\n",
    "):\n",
    "    \"\"\"\n",
    "    given a sklearn confusion matrix (cm), make a nice plot\n",
    "\n",
    "    Arguments\n",
    "    ---------\n",
    "    cm:           confusion matrix from sklearn.metrics.confusion_matrix\n",
    "\n",
    "    target_names: given classification classes such as [0, 1, 2]\n",
    "                  the class names, for example: ['high', 'medium', 'low']\n",
    "\n",
    "    title:        the text to display at the top of the matrix\n",
    "\n",
    "    cmap:         the gradient of the values displayed from matplotlib.pyplot.cm\n",
    "                  see http://matplotlib.org/examples/color/colormaps_reference.html\n",
    "                  plt.get_cmap('jet') or plt.cm.Blues\n",
    "\n",
    "    normalize:    If False, plot the raw numbers\n",
    "                  If True, plot the proportions\n",
    "\n",
    "    Usage\n",
    "    -----\n",
    "    plot_confusion_matrix(cm           = cm,                  # confusion matrix created by\n",
    "                                                              # sklearn.metrics.confusion_matrix\n",
    "                          normalize    = True,                # show proportions\n",
    "                          target_names = y_labels_vals,       # list of names of the classes\n",
    "                          title        = best_estimator_name) # title of graph\n",
    "\n",
    "    Citiation\n",
    "    ---------\n",
    "    http://scikit-learn.org/stable/auto_examples/model_selection/plot_confusion_matrix.html\n",
    "\n",
    "    \"\"\"\n",
    "    import matplotlib.pyplot as plt\n",
    "    import numpy as np\n",
    "    import itertools\n",
    "\n",
    "    accuracy = np.trace(cm) / float(np.sum(cm))\n",
    "    misclass = 1 - accuracy\n",
    "\n",
    "    if cmap is None:\n",
    "        cmap = plt.get_cmap(\"Blues\")\n",
    "\n",
    "    plt.figure(figsize=(8, 6))\n",
    "    plt.imshow(cm, interpolation=\"nearest\", cmap=cmap)\n",
    "    plt.title(title)\n",
    "    plt.colorbar()\n",
    "\n",
    "    if target_names is not None:\n",
    "        tick_marks = np.arange(len(target_names))\n",
    "        plt.xticks(tick_marks, target_names, rotation=45)\n",
    "        plt.yticks(tick_marks, target_names)\n",
    "\n",
    "    if normalize:\n",
    "        cm = cm.astype(\"float\") / cm.sum(axis=1)[:, np.newaxis]\n",
    "\n",
    "    thresh = cm.max() / 1.5 if normalize else cm.max() / 2\n",
    "    for i, j in itertools.product(range(cm.shape[0]), range(cm.shape[1])):\n",
    "        if normalize:\n",
    "            plt.text(\n",
    "                j,\n",
    "                i,\n",
    "                \"{:0.4f}\".format(cm[i, j]),\n",
    "                horizontalalignment=\"center\",\n",
    "                color=\"white\" if cm[i, j] > thresh else \"black\",\n",
    "            )\n",
    "        else:\n",
    "            plt.text(\n",
    "                j,\n",
    "                i,\n",
    "                \"{:,}\".format(cm[i, j]),\n",
    "                horizontalalignment=\"center\",\n",
    "                color=\"white\" if cm[i, j] > thresh else \"black\",\n",
    "            )\n",
    "\n",
    "    plt.tight_layout()\n",
    "    plt.ylabel(\"Predicted label\")\n",
    "    plt.xlabel(\n",
    "        \"True label\\naccuracy={:0.4f}; misclass={:0.4f}\".format(accuracy, misclass)\n",
    "    )\n",
    "    plt.show()"
   ]
  },
  {
   "cell_type": "markdown",
   "metadata": {
    "colab_type": "text",
    "id": "9LhZoke83cHD"
   },
   "source": [
    "### 7. Plot a nicer confusion matrix (optional)\n",
    "Use the *plot_confusion_matrix* function from above to plot a nicer looking confusion matrix."
   ]
  },
  {
   "cell_type": "code",
   "execution_count": 17,
   "metadata": {
    "colab": {},
    "colab_type": "code",
    "id": "ddNMl7kN15N3"
   },
   "outputs": [
    {
     "data": {
      "image/png": "[encoded data removed]",
      "text/plain": [
       "<Figure size 576x432 with 2 Axes>"
      ]
     },
     "metadata": {
      "needs_background": "light"
     },
     "output_type": "display_data"
    },
    {
     "data": {
      "application/javascript": [
       "\n",
       "            setTimeout(function() {\n",
       "                var nbb_cell_id = 17;\n",
       "                var nbb_unformatted_code = \"plot_confusion_matrix(cm=confusion, target_names = ['Positive', 'Negative'], title = 'Confusion Matrix', normalize=False)\";\n",
       "                var nbb_formatted_code = \"plot_confusion_matrix(\\n    cm=confusion,\\n    target_names=[\\\"Positive\\\", \\\"Negative\\\"],\\n    title=\\\"Confusion Matrix\\\",\\n    normalize=False,\\n)\";\n",
       "                var nbb_cells = Jupyter.notebook.get_cells();\n",
       "                for (var i = 0; i < nbb_cells.length; ++i) {\n",
       "                    if (nbb_cells[i].input_prompt_number == nbb_cell_id) {\n",
       "                        if (nbb_cells[i].get_text() == nbb_unformatted_code) {\n",
       "                             nbb_cells[i].set_text(nbb_formatted_code);\n",
       "                        }\n",
       "                        break;\n",
       "                    }\n",
       "                }\n",
       "            }, 500);\n",
       "            "
      ],
      "text/plain": [
       "<IPython.core.display.Javascript object>"
      ]
     },
     "metadata": {},
     "output_type": "display_data"
    }
   ],
   "source": [
    "plot_confusion_matrix(cm=confusion, target_names = ['Positive', 'Negative'], title = 'Confusion Matrix', normalize=False)\n"
   ]
  },
  {
   "cell_type": "markdown",
   "metadata": {
    "colab_type": "text",
    "id": "39XAG5Ea4QEx"
   },
   "source": [
    "### 8. Calculate Metrics\n",
    "Print the F1, F beta, precision, recall and accuracy scores."
   ]
  },
  {
   "cell_type": "code",
   "execution_count": 19,
   "metadata": {
    "colab": {},
    "colab_type": "code",
    "id": "C_dkF1woIgwN"
   },
   "outputs": [
    {
     "name": "stdout",
     "output_type": "stream",
     "text": [
      "Accuracy score: 0.83\n",
      "Precision score: 0.19\n",
      "Recall score: 0.06\n",
      "F1 score: 0.10\n",
      "Fbeta score favoring precision: 0.14\n",
      "FBeta score favoring recall: 0.07\n"
     ]
    },
    {
     "data": {
      "application/javascript": [
       "\n",
       "            setTimeout(function() {\n",
       "                var nbb_cell_id = 19;\n",
       "                var nbb_unformatted_code = \"# perform calculations here\\n\\naccuracy = accuracy_score(y_test, predictions)\\nprecision = precision_score(y_test, predictions)\\nrecall = recall_score(y_test, predictions)\\nf1 = f1_score(y_test, predictions)\\nfbeta_precision = fbeta_score(y_test, predictions, 0.5)\\nfbeta_recall = fbeta_score(y_test, predictions, 2)\\n\\nprint(\\\"Accuracy score: {:.2f}\\\".format(accuracy))\\nprint(\\\"Precision score: {:.2f}\\\".format(precision))\\nprint(\\\"Recall score: {:.2f}\\\".format(recall))\\nprint(\\\"F1 score: {:.2f}\\\".format(f1))\\nprint(\\\"Fbeta score favoring precision: {:.2f}\\\".format(fbeta_precision))\\nprint(\\\"FBeta score favoring recall: {:.2f}\\\".format(fbeta_recall))\";\n",
       "                var nbb_formatted_code = \"# perform calculations here\\n\\naccuracy = accuracy_score(y_test, predictions)\\nprecision = precision_score(y_test, predictions)\\nrecall = recall_score(y_test, predictions)\\nf1 = f1_score(y_test, predictions)\\nfbeta_precision = fbeta_score(y_test, predictions, 0.5)\\nfbeta_recall = fbeta_score(y_test, predictions, 2)\\n\\nprint(\\\"Accuracy score: {:.2f}\\\".format(accuracy))\\nprint(\\\"Precision score: {:.2f}\\\".format(precision))\\nprint(\\\"Recall score: {:.2f}\\\".format(recall))\\nprint(\\\"F1 score: {:.2f}\\\".format(f1))\\nprint(\\\"Fbeta score favoring precision: {:.2f}\\\".format(fbeta_precision))\\nprint(\\\"FBeta score favoring recall: {:.2f}\\\".format(fbeta_recall))\";\n",
       "                var nbb_cells = Jupyter.notebook.get_cells();\n",
       "                for (var i = 0; i < nbb_cells.length; ++i) {\n",
       "                    if (nbb_cells[i].input_prompt_number == nbb_cell_id) {\n",
       "                        if (nbb_cells[i].get_text() == nbb_unformatted_code) {\n",
       "                             nbb_cells[i].set_text(nbb_formatted_code);\n",
       "                        }\n",
       "                        break;\n",
       "                    }\n",
       "                }\n",
       "            }, 500);\n",
       "            "
      ],
      "text/plain": [
       "<IPython.core.display.Javascript object>"
      ]
     },
     "metadata": {},
     "output_type": "display_data"
    }
   ],
   "source": [
    "# perform calculations here\n",
    "\n",
    "accuracy = accuracy_score(y_test, predictions)\n",
    "precision = precision_score(y_test, predictions)\n",
    "recall = recall_score(y_test, predictions)\n",
    "f1 = f1_score(y_test, predictions)\n",
    "fbeta_precision = fbeta_score(y_test, predictions, 0.5)\n",
    "fbeta_recall = fbeta_score(y_test, predictions, 2)\n",
    "\n",
    "print(\"Accuracy score: {:.2f}\".format(accuracy))\n",
    "print(\"Precision score: {:.2f}\".format(precision))\n",
    "print(\"Recall score: {:.2f}\".format(recall))\n",
    "print(\"F1 score: {:.2f}\".format(f1))\n",
    "print(\"Fbeta score favoring precision: {:.2f}\".format(fbeta_precision))\n",
    "print(\"FBeta score favoring recall: {:.2f}\".format(fbeta_recall))"
   ]
  },
  {
   "cell_type": "markdown",
   "metadata": {
    "colab_type": "text",
    "id": "jSM5D4XAx3tc"
   },
   "source": [
    "### 9. Print a classification report"
   ]
  },
  {
   "cell_type": "code",
   "execution_count": 20,
   "metadata": {
    "colab": {},
    "colab_type": "code",
    "id": "ja4InOEUx8WO"
   },
   "outputs": [
    {
     "name": "stdout",
     "output_type": "stream",
     "text": [
      "              precision    recall  f1-score   support\n",
      "\n",
      "    Negative       0.86      0.96      0.90      3105\n",
      "    Positive       0.19      0.06      0.10       520\n",
      "\n",
      "    accuracy                           0.83      3625\n",
      "   macro avg       0.53      0.51      0.50      3625\n",
      "weighted avg       0.76      0.83      0.79      3625\n",
      "\n"
     ]
    },
    {
     "data": {
      "application/javascript": [
       "\n",
       "            setTimeout(function() {\n",
       "                var nbb_cell_id = 20;\n",
       "                var nbb_unformatted_code = \"report = classification_report(y_test, predictions, target_names=['Negative', 'Positive'])\\nprint(report)\";\n",
       "                var nbb_formatted_code = \"report = classification_report(\\n    y_test, predictions, target_names=[\\\"Negative\\\", \\\"Positive\\\"]\\n)\\nprint(report)\";\n",
       "                var nbb_cells = Jupyter.notebook.get_cells();\n",
       "                for (var i = 0; i < nbb_cells.length; ++i) {\n",
       "                    if (nbb_cells[i].input_prompt_number == nbb_cell_id) {\n",
       "                        if (nbb_cells[i].get_text() == nbb_unformatted_code) {\n",
       "                             nbb_cells[i].set_text(nbb_formatted_code);\n",
       "                        }\n",
       "                        break;\n",
       "                    }\n",
       "                }\n",
       "            }, 500);\n",
       "            "
      ],
      "text/plain": [
       "<IPython.core.display.Javascript object>"
      ]
     },
     "metadata": {},
     "output_type": "display_data"
    }
   ],
   "source": [
    "report = classification_report(\n",
    "    y_test, predictions, target_names=[\"Negative\", \"Positive\"]\n",
    ")\n",
    "print(report)"
   ]
  },
  {
   "cell_type": "markdown",
   "metadata": {
    "colab_type": "text",
    "id": "F9FNqfz1yOTG"
   },
   "source": [
    "### 10. Plot ROC Curve and AUC\n",
    " Caculate AUC and plot the curve.\n"
   ]
  },
  {
   "cell_type": "code",
   "execution_count": 21,
   "metadata": {
    "colab": {},
    "colab_type": "code",
    "id": "OOQ1Y5WYyRta"
   },
   "outputs": [
    {
     "data": {
      "image/png": "[encoded data removed]",
      "text/plain": [
       "<Figure size 432x432 with 1 Axes>"
      ]
     },
     "metadata": {
      "needs_background": "light"
     },
     "output_type": "display_data"
    },
    {
     "name": "stdout",
     "output_type": "stream",
     "text": [
      "Area under the ROC curve: 0.830\n"
     ]
    },
    {
     "data": {
      "application/javascript": [
       "\n",
       "            setTimeout(function() {\n",
       "                var nbb_cell_id = 21;\n",
       "                var nbb_unformatted_code = \"probs = lr.predict_proba(X_test)[:, 1]\\nfpr, tpr, thresholds = roc_curve(y_test, probs)\\nfig = plt.figure(figsize = (6, 6))\\nplt.plot([0, 1], [0, 1], 'k--')\\nplt.plot(fpr, tpr)\\nplt.xlabel('False Positive Rate')\\nplt.ylabel('True Positive Rate')\\nplt.title('ROC curve for Logistic Regression Model')\\nplt.show()\\n\\nauc = roc_auc_score(y_test, probs)\\nprint('Area under the ROC curve: {:.3f}'.format(auc))\";\n",
       "                var nbb_formatted_code = \"probs = lr.predict_proba(X_test)[:, 1]\\nfpr, tpr, thresholds = roc_curve(y_test, probs)\\nfig = plt.figure(figsize=(6, 6))\\nplt.plot([0, 1], [0, 1], \\\"k--\\\")\\nplt.plot(fpr, tpr)\\nplt.xlabel(\\\"False Positive Rate\\\")\\nplt.ylabel(\\\"True Positive Rate\\\")\\nplt.title(\\\"ROC curve for Logistic Regression Model\\\")\\nplt.show()\\n\\nauc = roc_auc_score(y_test, probs)\\nprint(\\\"Area under the ROC curve: {:.3f}\\\".format(auc))\";\n",
       "                var nbb_cells = Jupyter.notebook.get_cells();\n",
       "                for (var i = 0; i < nbb_cells.length; ++i) {\n",
       "                    if (nbb_cells[i].input_prompt_number == nbb_cell_id) {\n",
       "                        if (nbb_cells[i].get_text() == nbb_unformatted_code) {\n",
       "                             nbb_cells[i].set_text(nbb_formatted_code);\n",
       "                        }\n",
       "                        break;\n",
       "                    }\n",
       "                }\n",
       "            }, 500);\n",
       "            "
      ],
      "text/plain": [
       "<IPython.core.display.Javascript object>"
      ]
     },
     "metadata": {},
     "output_type": "display_data"
    }
   ],
   "source": [
    "probs = lr.predict_proba(X_test)[:, 1]\n",
    "fpr, tpr, thresholds = roc_curve(y_test, probs)\n",
    "fig = plt.figure(figsize=(6, 6))\n",
    "plt.plot([0, 1], [0, 1], \"k--\")\n",
    "plt.plot(fpr, tpr)\n",
    "plt.xlabel(\"False Positive Rate\")\n",
    "plt.ylabel(\"True Positive Rate\")\n",
    "plt.title(\"ROC curve for Logistic Regression Model\")\n",
    "plt.show()\n",
    "\n",
    "auc = roc_auc_score(y_test, probs)\n",
    "print(\"Area under the ROC curve: {:.3f}\".format(auc))"
   ]
  },
  {
   "cell_type": "markdown",
   "metadata": {
    "colab_type": "text",
    "id": "IUHIPvkeyj3M"
   },
   "source": [
    "### 11. Plot Precision-Recall Curve\n",
    "Plot the precision-recall curve for the model above."
   ]
  },
  {
   "cell_type": "code",
   "execution_count": 22,
   "metadata": {
    "colab": {},
    "colab_type": "code",
    "id": "jIZDuZAmyoOg"
   },
   "outputs": [
    {
     "data": {
      "image/png": "[encoded data removed]",
      "text/plain": [
       "<Figure size 432x432 with 1 Axes>"
      ]
     },
     "metadata": {
      "needs_background": "light"
     },
     "output_type": "display_data"
    },
    {
     "data": {
      "application/javascript": [
       "\n",
       "            setTimeout(function() {\n",
       "                var nbb_cell_id = 22;\n",
       "                var nbb_unformatted_code = \"pres, rec, thresholds = precision_recall_curve(y_test, predictions)\\nfig = plt.figure(figsize = (6, 6))\\nplt.plot(rec, pres)\\nplt.xlabel('Recall')\\nplt.ylabel('Precision')\\nplt.title('Precision-Recall Curve')\\nplt.show()\";\n",
       "                var nbb_formatted_code = \"pres, rec, thresholds = precision_recall_curve(y_test, predictions)\\nfig = plt.figure(figsize=(6, 6))\\nplt.plot(rec, pres)\\nplt.xlabel(\\\"Recall\\\")\\nplt.ylabel(\\\"Precision\\\")\\nplt.title(\\\"Precision-Recall Curve\\\")\\nplt.show()\";\n",
       "                var nbb_cells = Jupyter.notebook.get_cells();\n",
       "                for (var i = 0; i < nbb_cells.length; ++i) {\n",
       "                    if (nbb_cells[i].input_prompt_number == nbb_cell_id) {\n",
       "                        if (nbb_cells[i].get_text() == nbb_unformatted_code) {\n",
       "                             nbb_cells[i].set_text(nbb_formatted_code);\n",
       "                        }\n",
       "                        break;\n",
       "                    }\n",
       "                }\n",
       "            }, 500);\n",
       "            "
      ],
      "text/plain": [
       "<IPython.core.display.Javascript object>"
      ]
     },
     "metadata": {},
     "output_type": "display_data"
    }
   ],
   "source": [
    "pres, rec, thresholds = precision_recall_curve(y_test, predictions)\n",
    "fig = plt.figure(figsize=(6, 6))\n",
    "plt.plot(rec, pres)\n",
    "plt.xlabel(\"Recall\")\n",
    "plt.ylabel(\"Precision\")\n",
    "plt.title(\"Precision-Recall Curve\")\n",
    "plt.show()"
   ]
  },
  {
   "cell_type": "markdown",
   "metadata": {
    "colab_type": "text",
    "id": "BvMrufbgVkNr"
   },
   "source": [
    "Find the best value for C in the Logistic Regression Classifier for avoiding overfitting. Plot the training and testing accuracy over a range of C values from 0.05 to 1.5."
   ]
  },
  {
   "cell_type": "code",
   "execution_count": 23,
   "metadata": {
    "colab": {},
    "colab_type": "code",
    "id": "eKexe4OjzpFP"
   },
   "outputs": [
    {
     "data": {
      "image/png": "[encoded data removed]",
      "text/plain": [
       "<Figure size 576x288 with 1 Axes>"
      ]
     },
     "metadata": {
      "needs_background": "light"
     },
     "output_type": "display_data"
    },
    {
     "data": {
      "application/javascript": [
       "\n",
       "            setTimeout(function() {\n",
       "                var nbb_cell_id = 23;\n",
       "                var nbb_unformatted_code = \"c_vals = np.arange(0.05, 1.5, 0.05)\\ntest_accuracy = []\\ntrain_accuracy = []\\n\\nfor c in c_vals:\\n  lr = LogisticRegression(solver='lbfgs', penalty='l2', C=c, max_iter=10000)\\n  lr.fit(X_train, y_train)\\n  test_accuracy.append(lr.score(X_test, y_test))\\n  train_accuracy.append(lr.score(X_train, y_train))\\n\\nfig = plt.figure(figsize=(8, 4))\\nax1 = fig.add_subplot(1, 1, 1)\\nax1.plot(c_vals, test_accuracy, '-g', label='Test Accuracy')\\nax1.plot(c_vals, train_accuracy, '-b', label='Train Accuracy')\\nax1.set(xlabel='C', ylabel='Accuracy')\\nax1.set_title('Effect of C on Accuracy')\\nax1.legend()\\nplt.show()\";\n",
       "                var nbb_formatted_code = \"c_vals = np.arange(0.05, 1.5, 0.05)\\ntest_accuracy = []\\ntrain_accuracy = []\\n\\nfor c in c_vals:\\n    lr = LogisticRegression(solver=\\\"lbfgs\\\", penalty=\\\"l2\\\", C=c, max_iter=10000)\\n    lr.fit(X_train, y_train)\\n    test_accuracy.append(lr.score(X_test, y_test))\\n    train_accuracy.append(lr.score(X_train, y_train))\\n\\nfig = plt.figure(figsize=(8, 4))\\nax1 = fig.add_subplot(1, 1, 1)\\nax1.plot(c_vals, test_accuracy, \\\"-g\\\", label=\\\"Test Accuracy\\\")\\nax1.plot(c_vals, train_accuracy, \\\"-b\\\", label=\\\"Train Accuracy\\\")\\nax1.set(xlabel=\\\"C\\\", ylabel=\\\"Accuracy\\\")\\nax1.set_title(\\\"Effect of C on Accuracy\\\")\\nax1.legend()\\nplt.show()\";\n",
       "                var nbb_cells = Jupyter.notebook.get_cells();\n",
       "                for (var i = 0; i < nbb_cells.length; ++i) {\n",
       "                    if (nbb_cells[i].input_prompt_number == nbb_cell_id) {\n",
       "                        if (nbb_cells[i].get_text() == nbb_unformatted_code) {\n",
       "                             nbb_cells[i].set_text(nbb_formatted_code);\n",
       "                        }\n",
       "                        break;\n",
       "                    }\n",
       "                }\n",
       "            }, 500);\n",
       "            "
      ],
      "text/plain": [
       "<IPython.core.display.Javascript object>"
      ]
     },
     "metadata": {},
     "output_type": "display_data"
    }
   ],
   "source": [
    "c_vals = np.arange(0.05, 1.5, 0.05)\n",
    "test_accuracy = []\n",
    "train_accuracy = []\n",
    "\n",
    "for c in c_vals:\n",
    "    lr = LogisticRegression(solver=\"lbfgs\", penalty=\"l2\", C=c, max_iter=10000)\n",
    "    lr.fit(X_train, y_train)\n",
    "    test_accuracy.append(lr.score(X_test, y_test))\n",
    "    train_accuracy.append(lr.score(X_train, y_train))\n",
    "\n",
    "fig = plt.figure(figsize=(8, 4))\n",
    "ax1 = fig.add_subplot(1, 1, 1)\n",
    "ax1.plot(c_vals, test_accuracy, \"-g\", label=\"Test Accuracy\")\n",
    "ax1.plot(c_vals, train_accuracy, \"-b\", label=\"Train Accuracy\")\n",
    "ax1.set(xlabel=\"C\", ylabel=\"Accuracy\")\n",
    "ax1.set_title(\"Effect of C on Accuracy\")\n",
    "ax1.legend()\n",
    "plt.show()"
   ]
  },
  {
   "cell_type": "markdown",
   "metadata": {
    "colab_type": "text",
    "id": "U6_cL8lszJr6"
   },
   "source": [
    "### 12. Cross Validation\n",
    "Perform 5-fold cross validation for a Logistic Regression Classifier. Print the 5 accuracy scores and the mean validation score."
   ]
  },
  {
   "cell_type": "code",
   "execution_count": 24,
   "metadata": {
    "colab": {},
    "colab_type": "code",
    "id": "6K0-tPtUzPEJ"
   },
   "outputs": [
    {
     "name": "stdout",
     "output_type": "stream",
     "text": [
      "Accuracy scores for the 5 folds:  [0.82804598 0.82482759 0.82390805 0.82206897 0.82436782]\n",
      "Mean cross validation score: 0.825\n"
     ]
    },
    {
     "data": {
      "application/javascript": [
       "\n",
       "            setTimeout(function() {\n",
       "                var nbb_cell_id = 24;\n",
       "                var nbb_unformatted_code = \"clf = LogisticRegression(solver='lbfgs', max_iter=1000)\\ncv_scores = cross_val_score(clf, X_train, y_train, cv = 5)\\n\\nprint('Accuracy scores for the 5 folds: ', cv_scores)\\nprint('Mean cross validation score: {:.3f}'.format(np.mean(cv_scores)))\";\n",
       "                var nbb_formatted_code = \"clf = LogisticRegression(solver=\\\"lbfgs\\\", max_iter=1000)\\ncv_scores = cross_val_score(clf, X_train, y_train, cv=5)\\n\\nprint(\\\"Accuracy scores for the 5 folds: \\\", cv_scores)\\nprint(\\\"Mean cross validation score: {:.3f}\\\".format(np.mean(cv_scores)))\";\n",
       "                var nbb_cells = Jupyter.notebook.get_cells();\n",
       "                for (var i = 0; i < nbb_cells.length; ++i) {\n",
       "                    if (nbb_cells[i].input_prompt_number == nbb_cell_id) {\n",
       "                        if (nbb_cells[i].get_text() == nbb_unformatted_code) {\n",
       "                             nbb_cells[i].set_text(nbb_formatted_code);\n",
       "                        }\n",
       "                        break;\n",
       "                    }\n",
       "                }\n",
       "            }, 500);\n",
       "            "
      ],
      "text/plain": [
       "<IPython.core.display.Javascript object>"
      ]
     },
     "metadata": {},
     "output_type": "display_data"
    }
   ],
   "source": [
    "clf = LogisticRegression(solver=\"lbfgs\", max_iter=1000)\n",
    "cv_scores = cross_val_score(clf, X_train, y_train, cv=5)\n",
    "\n",
    "print(\"Accuracy scores for the 5 folds: \", cv_scores)\n",
    "print(\"Mean cross validation score: {:.3f}\".format(np.mean(cv_scores)))"
   ]
  },
  {
   "cell_type": "markdown",
   "metadata": {
    "colab_type": "text",
    "id": "bgSUjo0B13lT"
   },
   "source": [
    "### 13. Is this really linear?\n",
    "Our linear classifier is not giving us accuracy better than the dummy classifier. Suppose that the data was not linearly separable? Instantiate and train a KNN model with k = 7. How does the accuracy of the KNN model compare to the Logistic Regression from above? What does that tell you about the data?"
   ]
  },
  {
   "cell_type": "code",
   "execution_count": 26,
   "metadata": {
    "colab": {},
    "colab_type": "code",
    "id": "19AtIXgW0Kfk"
   },
   "outputs": [
    {
     "name": "stdout",
     "output_type": "stream",
     "text": [
      "Accuracy of KNN (k = 7): 0.998\n"
     ]
    },
    {
     "data": {
      "application/javascript": [
       "\n",
       "            setTimeout(function() {\n",
       "                var nbb_cell_id = 26;\n",
       "                var nbb_unformatted_code = \"knn = KNeighborsClassifier(n_neighbors=7)\\n\\n# Then  fit the model\\nknn.fit(X_train, y_train)\\n\\n# How well did we do\\nknn_7_score = knn.score(X_test, y_test)\\nknn_7_predictions = knn.predict(X_test)\\n\\nprint(\\\"Accuracy of KNN (k = 7): {:.3f}\\\".format(knn_7_score))\";\n",
       "                var nbb_formatted_code = \"knn = KNeighborsClassifier(n_neighbors=7)\\n\\n# Then  fit the model\\nknn.fit(X_train, y_train)\\n\\n# How well did we do\\nknn_7_score = knn.score(X_test, y_test)\\nknn_7_predictions = knn.predict(X_test)\\n\\nprint(\\\"Accuracy of KNN (k = 7): {:.3f}\\\".format(knn_7_score))\";\n",
       "                var nbb_cells = Jupyter.notebook.get_cells();\n",
       "                for (var i = 0; i < nbb_cells.length; ++i) {\n",
       "                    if (nbb_cells[i].input_prompt_number == nbb_cell_id) {\n",
       "                        if (nbb_cells[i].get_text() == nbb_unformatted_code) {\n",
       "                             nbb_cells[i].set_text(nbb_formatted_code);\n",
       "                        }\n",
       "                        break;\n",
       "                    }\n",
       "                }\n",
       "            }, 500);\n",
       "            "
      ],
      "text/plain": [
       "<IPython.core.display.Javascript object>"
      ]
     },
     "metadata": {},
     "output_type": "display_data"
    }
   ],
   "source": [
    "knn = KNeighborsClassifier(n_neighbors=7)\n",
    "\n",
    "# Then  fit the model\n",
    "knn.fit(X_train, y_train)\n",
    "\n",
    "# How well did we do\n",
    "knn_7_score = knn.score(X_test, y_test)\n",
    "knn_7_predictions = knn.predict(X_test)\n",
    "\n",
    "print(\"Accuracy of KNN (k = 7): {:.3f}\".format(knn_7_score))"
   ]
  },
  {
   "cell_type": "markdown",
   "metadata": {},
   "source": [
    "it's not linearly separable"
   ]
  },
  {
   "cell_type": "markdown",
   "metadata": {
    "colab_type": "text",
    "id": "7V3vAloG2dU-"
   },
   "source": [
    "### 14. Random Forest\n",
    "Next, instantiate and fit a RandomForestClassifier and calculate the accuracy of that model."
   ]
  },
  {
   "cell_type": "code",
   "execution_count": 27,
   "metadata": {
    "colab": {},
    "colab_type": "code",
    "id": "1YLLplge2fxT"
   },
   "outputs": [
    {
     "name": "stdout",
     "output_type": "stream",
     "text": [
      "Accuracy of Random Forest: 1.000\n"
     ]
    },
    {
     "data": {
      "application/javascript": [
       "\n",
       "            setTimeout(function() {\n",
       "                var nbb_cell_id = 27;\n",
       "                var nbb_unformatted_code = \"rf = RandomForestClassifier(n_estimators = 22, random_state = 40)\\n\\nrf.fit(X_train,y_train)\\n\\nrf_score = rf.score(X_test, y_test)\\nrf_predictions = rf.predict(X_test)\\n\\nprint('Accuracy of Random Forest: {:.3f}'.format(rf_score))\";\n",
       "                var nbb_formatted_code = \"rf = RandomForestClassifier(n_estimators=22, random_state=40)\\n\\nrf.fit(X_train, y_train)\\n\\nrf_score = rf.score(X_test, y_test)\\nrf_predictions = rf.predict(X_test)\\n\\nprint(\\\"Accuracy of Random Forest: {:.3f}\\\".format(rf_score))\";\n",
       "                var nbb_cells = Jupyter.notebook.get_cells();\n",
       "                for (var i = 0; i < nbb_cells.length; ++i) {\n",
       "                    if (nbb_cells[i].input_prompt_number == nbb_cell_id) {\n",
       "                        if (nbb_cells[i].get_text() == nbb_unformatted_code) {\n",
       "                             nbb_cells[i].set_text(nbb_formatted_code);\n",
       "                        }\n",
       "                        break;\n",
       "                    }\n",
       "                }\n",
       "            }, 500);\n",
       "            "
      ],
      "text/plain": [
       "<IPython.core.display.Javascript object>"
      ]
     },
     "metadata": {},
     "output_type": "display_data"
    }
   ],
   "source": [
    "rf = RandomForestClassifier(n_estimators=22, random_state=40)\n",
    "\n",
    "rf.fit(X_train, y_train)\n",
    "\n",
    "rf_score = rf.score(X_test, y_test)\n",
    "rf_predictions = rf.predict(X_test)\n",
    "\n",
    "print(\"Accuracy of Random Forest: {:.3f}\".format(rf_score))"
   ]
  },
  {
   "cell_type": "code",
   "execution_count": null,
   "metadata": {},
   "outputs": [],
   "source": []
  }
 ],
 "metadata": {
  "colab": {
   "collapsed_sections": [],
   "name": "Copy of Analyzing Model Performance Assignment.ipynb",
   "provenance": [],
   "version": "0.3.2"
  },
  "kernelspec": {
   "display_name": "Python 3",
   "language": "python",
   "name": "python3"
  },
  "language_info": {
   "codemirror_mode": {
    "name": "ipython",
    "version": 3
   },
   "file_extension": ".py",
   "mimetype": "text/x-python",
   "name": "python",
   "nbconvert_exporter": "python",
   "pygments_lexer": "ipython3",
   "version": "3.7.4"
  }
 },
 "nbformat": 4,
 "nbformat_minor": 1
}
