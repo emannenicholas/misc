{
 "cells": [
  {
   "cell_type": "markdown",
   "metadata": {},
   "source": [
    "## Assignment 16.6\n",
    "\n",
    "In this exercise, you'll predict house prices using your model. To complete this assignment, submit a link to a Jupyter notebook containing your solutions to the following tasks:\n",
    "\n",
    "* Load the **housing prices** data from Thinkful's database.\n",
    "* Split your data into train and test sets.\n",
    "* Estimate your model from the previous checkpoint in the train set. Assess the goodness of fit of your model.\n",
    "* Predict the house prices in the test set, and evaluate the performance of your model using the metrics we mentioned in this checkpoint.\n",
    "* Is the performance of your model satisfactory? Why?\n",
    "* Try to improve your model in terms of predictive performance by adding or removing some variables."
   ]
  },
  {
   "cell_type": "code",
   "execution_count": 12,
   "metadata": {},
   "outputs": [
    {
     "name": "stdout",
     "output_type": "stream",
     "text": [
      "The nb_black extension is already loaded. To reload it, use:\n",
      "  %reload_ext nb_black\n"
     ]
    },
    {
     "data": {
      "application/javascript": [
       "\n",
       "            setTimeout(function() {\n",
       "                var nbb_cell_id = 12;\n",
       "                var nbb_unformatted_code = \"import numpy as np\\nimport pandas as pd\\nfrom scipy import stats\\n\\nimport matplotlib.pyplot as plt\\nfrom sqlalchemy import create_engine\\nimport seaborn as sns\\n\\nfrom sklearn.model_selection import train_test_split, cross_val_score\\nfrom sklearn.linear_model import LinearRegression\\nfrom sklearn.metrics import mean_absolute_error\\nfrom statsmodels.tools.eval_measures import mse, rmse\\n\\nimport statsmodels.stats.api as sms\\nimport statsmodels.api as sm\\nfrom statsmodels.stats.outliers_influence import variance_inflation_factor\\n\\n%load_ext nb_black\\n\\nimport warnings\\n\\nwarnings.filterwarnings(\\\"ignore\\\")\";\n",
       "                var nbb_formatted_code = \"import numpy as np\\nimport pandas as pd\\nfrom scipy import stats\\n\\nimport matplotlib.pyplot as plt\\nfrom sqlalchemy import create_engine\\nimport seaborn as sns\\n\\nfrom sklearn.model_selection import train_test_split, cross_val_score\\nfrom sklearn.linear_model import LinearRegression\\nfrom sklearn.metrics import mean_absolute_error\\nfrom statsmodels.tools.eval_measures import mse, rmse\\n\\nimport statsmodels.stats.api as sms\\nimport statsmodels.api as sm\\nfrom statsmodels.stats.outliers_influence import variance_inflation_factor\\n\\n%load_ext nb_black\\n\\nimport warnings\\n\\nwarnings.filterwarnings(\\\"ignore\\\")\";\n",
       "                var nbb_cells = Jupyter.notebook.get_cells();\n",
       "                for (var i = 0; i < nbb_cells.length; ++i) {\n",
       "                    if (nbb_cells[i].input_prompt_number == nbb_cell_id) {\n",
       "                        if (nbb_cells[i].get_text() == nbb_unformatted_code) {\n",
       "                             nbb_cells[i].set_text(nbb_formatted_code);\n",
       "                        }\n",
       "                        break;\n",
       "                    }\n",
       "                }\n",
       "            }, 500);\n",
       "            "
      ],
      "text/plain": [
       "<IPython.core.display.Javascript object>"
      ]
     },
     "metadata": {},
     "output_type": "display_data"
    }
   ],
   "source": [
    "import numpy as np\n",
    "import pandas as pd\n",
    "from scipy import stats\n",
    "\n",
    "import matplotlib.pyplot as plt\n",
    "from sqlalchemy import create_engine\n",
    "import seaborn as sns\n",
    "\n",
    "from sklearn.model_selection import train_test_split, cross_val_score\n",
    "from sklearn.linear_model import LinearRegression\n",
    "from sklearn.metrics import mean_absolute_error\n",
    "from statsmodels.tools.eval_measures import mse, rmse\n",
    "\n",
    "import statsmodels.stats.api as sms\n",
    "import statsmodels.api as sm\n",
    "from statsmodels.stats.outliers_influence import variance_inflation_factor\n",
    "\n",
    "%load_ext nb_black\n",
    "\n",
    "import warnings\n",
    "\n",
    "warnings.filterwarnings(\"ignore\")"
   ]
  },
  {
   "cell_type": "markdown",
   "metadata": {},
   "source": [
    "**Load the housing prices data from Thinkful's database.**"
   ]
  },
  {
   "cell_type": "code",
   "execution_count": 2,
   "metadata": {},
   "outputs": [
    {
     "data": {
      "text/html": [
       "<div>\n",
       "<style scoped>\n",
       "    .dataframe tbody tr th:only-of-type {\n",
       "        vertical-align: middle;\n",
       "    }\n",
       "\n",
       "    .dataframe tbody tr th {\n",
       "        vertical-align: top;\n",
       "    }\n",
       "\n",
       "    .dataframe thead th {\n",
       "        text-align: right;\n",
       "    }\n",
       "</style>\n",
       "<table border=\"1\" class=\"dataframe\">\n",
       "  <thead>\n",
       "    <tr style=\"text-align: right;\">\n",
       "      <th></th>\n",
       "      <th>id</th>\n",
       "      <th>mssubclass</th>\n",
       "      <th>mszoning</th>\n",
       "      <th>lotfrontage</th>\n",
       "      <th>lotarea</th>\n",
       "      <th>street</th>\n",
       "      <th>alley</th>\n",
       "      <th>lotshape</th>\n",
       "      <th>landcontour</th>\n",
       "      <th>utilities</th>\n",
       "      <th>...</th>\n",
       "      <th>poolarea</th>\n",
       "      <th>poolqc</th>\n",
       "      <th>fence</th>\n",
       "      <th>miscfeature</th>\n",
       "      <th>miscval</th>\n",
       "      <th>mosold</th>\n",
       "      <th>yrsold</th>\n",
       "      <th>saletype</th>\n",
       "      <th>salecondition</th>\n",
       "      <th>saleprice</th>\n",
       "    </tr>\n",
       "  </thead>\n",
       "  <tbody>\n",
       "    <tr>\n",
       "      <td>0</td>\n",
       "      <td>1</td>\n",
       "      <td>60</td>\n",
       "      <td>RL</td>\n",
       "      <td>65.0</td>\n",
       "      <td>8450</td>\n",
       "      <td>Pave</td>\n",
       "      <td>None</td>\n",
       "      <td>Reg</td>\n",
       "      <td>Lvl</td>\n",
       "      <td>AllPub</td>\n",
       "      <td>...</td>\n",
       "      <td>0</td>\n",
       "      <td>None</td>\n",
       "      <td>None</td>\n",
       "      <td>None</td>\n",
       "      <td>0</td>\n",
       "      <td>2</td>\n",
       "      <td>2008</td>\n",
       "      <td>WD</td>\n",
       "      <td>Normal</td>\n",
       "      <td>208500</td>\n",
       "    </tr>\n",
       "    <tr>\n",
       "      <td>1</td>\n",
       "      <td>2</td>\n",
       "      <td>20</td>\n",
       "      <td>RL</td>\n",
       "      <td>80.0</td>\n",
       "      <td>9600</td>\n",
       "      <td>Pave</td>\n",
       "      <td>None</td>\n",
       "      <td>Reg</td>\n",
       "      <td>Lvl</td>\n",
       "      <td>AllPub</td>\n",
       "      <td>...</td>\n",
       "      <td>0</td>\n",
       "      <td>None</td>\n",
       "      <td>None</td>\n",
       "      <td>None</td>\n",
       "      <td>0</td>\n",
       "      <td>5</td>\n",
       "      <td>2007</td>\n",
       "      <td>WD</td>\n",
       "      <td>Normal</td>\n",
       "      <td>181500</td>\n",
       "    </tr>\n",
       "    <tr>\n",
       "      <td>2</td>\n",
       "      <td>3</td>\n",
       "      <td>60</td>\n",
       "      <td>RL</td>\n",
       "      <td>68.0</td>\n",
       "      <td>11250</td>\n",
       "      <td>Pave</td>\n",
       "      <td>None</td>\n",
       "      <td>IR1</td>\n",
       "      <td>Lvl</td>\n",
       "      <td>AllPub</td>\n",
       "      <td>...</td>\n",
       "      <td>0</td>\n",
       "      <td>None</td>\n",
       "      <td>None</td>\n",
       "      <td>None</td>\n",
       "      <td>0</td>\n",
       "      <td>9</td>\n",
       "      <td>2008</td>\n",
       "      <td>WD</td>\n",
       "      <td>Normal</td>\n",
       "      <td>223500</td>\n",
       "    </tr>\n",
       "    <tr>\n",
       "      <td>3</td>\n",
       "      <td>4</td>\n",
       "      <td>70</td>\n",
       "      <td>RL</td>\n",
       "      <td>60.0</td>\n",
       "      <td>9550</td>\n",
       "      <td>Pave</td>\n",
       "      <td>None</td>\n",
       "      <td>IR1</td>\n",
       "      <td>Lvl</td>\n",
       "      <td>AllPub</td>\n",
       "      <td>...</td>\n",
       "      <td>0</td>\n",
       "      <td>None</td>\n",
       "      <td>None</td>\n",
       "      <td>None</td>\n",
       "      <td>0</td>\n",
       "      <td>2</td>\n",
       "      <td>2006</td>\n",
       "      <td>WD</td>\n",
       "      <td>Abnorml</td>\n",
       "      <td>140000</td>\n",
       "    </tr>\n",
       "    <tr>\n",
       "      <td>4</td>\n",
       "      <td>5</td>\n",
       "      <td>60</td>\n",
       "      <td>RL</td>\n",
       "      <td>84.0</td>\n",
       "      <td>14260</td>\n",
       "      <td>Pave</td>\n",
       "      <td>None</td>\n",
       "      <td>IR1</td>\n",
       "      <td>Lvl</td>\n",
       "      <td>AllPub</td>\n",
       "      <td>...</td>\n",
       "      <td>0</td>\n",
       "      <td>None</td>\n",
       "      <td>None</td>\n",
       "      <td>None</td>\n",
       "      <td>0</td>\n",
       "      <td>12</td>\n",
       "      <td>2008</td>\n",
       "      <td>WD</td>\n",
       "      <td>Normal</td>\n",
       "      <td>250000</td>\n",
       "    </tr>\n",
       "  </tbody>\n",
       "</table>\n",
       "<p>5 rows × 81 columns</p>\n",
       "</div>"
      ],
      "text/plain": [
       "   id  mssubclass mszoning  lotfrontage  lotarea street alley lotshape  \\\n",
       "0   1          60       RL         65.0     8450   Pave  None      Reg   \n",
       "1   2          20       RL         80.0     9600   Pave  None      Reg   \n",
       "2   3          60       RL         68.0    11250   Pave  None      IR1   \n",
       "3   4          70       RL         60.0     9550   Pave  None      IR1   \n",
       "4   5          60       RL         84.0    14260   Pave  None      IR1   \n",
       "\n",
       "  landcontour utilities  ... poolarea poolqc fence miscfeature miscval mosold  \\\n",
       "0         Lvl    AllPub  ...        0   None  None        None       0      2   \n",
       "1         Lvl    AllPub  ...        0   None  None        None       0      5   \n",
       "2         Lvl    AllPub  ...        0   None  None        None       0      9   \n",
       "3         Lvl    AllPub  ...        0   None  None        None       0      2   \n",
       "4         Lvl    AllPub  ...        0   None  None        None       0     12   \n",
       "\n",
       "  yrsold  saletype  salecondition  saleprice  \n",
       "0   2008        WD         Normal     208500  \n",
       "1   2007        WD         Normal     181500  \n",
       "2   2008        WD         Normal     223500  \n",
       "3   2006        WD        Abnorml     140000  \n",
       "4   2008        WD         Normal     250000  \n",
       "\n",
       "[5 rows x 81 columns]"
      ]
     },
     "execution_count": 2,
     "metadata": {},
     "output_type": "execute_result"
    },
    {
     "data": {
      "application/javascript": [
       "\n",
       "            setTimeout(function() {\n",
       "                var nbb_cell_id = 2;\n",
       "                var nbb_unformatted_code = \"postgres_user = \\\"dsbc_student\\\"\\npostgres_pw = \\\"7*.8G9QH21\\\"\\npostgres_host = \\\"142.93.121.174\\\"\\npostgres_port = \\\"5432\\\"\\npostgres_db = \\\"houseprices\\\"\\n\\nengine = create_engine(\\n    \\\"postgresql://{}:{}@{}:{}/{}\\\".format(\\n        postgres_user, postgres_pw, postgres_host, postgres_port, postgres_db\\n    )\\n)\\nhouseprices2_df = pd.read_sql_query(\\\"select * from houseprices\\\", con=engine)\\n\\n# no need for an open connection, as we're only doing a single query\\nengine.dispose()\\n\\n\\nhouseprices2_df.head(5)\";\n",
       "                var nbb_formatted_code = \"postgres_user = \\\"dsbc_student\\\"\\npostgres_pw = \\\"7*.8G9QH21\\\"\\npostgres_host = \\\"142.93.121.174\\\"\\npostgres_port = \\\"5432\\\"\\npostgres_db = \\\"houseprices\\\"\\n\\nengine = create_engine(\\n    \\\"postgresql://{}:{}@{}:{}/{}\\\".format(\\n        postgres_user, postgres_pw, postgres_host, postgres_port, postgres_db\\n    )\\n)\\nhouseprices2_df = pd.read_sql_query(\\\"select * from houseprices\\\", con=engine)\\n\\n# no need for an open connection, as we're only doing a single query\\nengine.dispose()\\n\\n\\nhouseprices2_df.head(5)\";\n",
       "                var nbb_cells = Jupyter.notebook.get_cells();\n",
       "                for (var i = 0; i < nbb_cells.length; ++i) {\n",
       "                    if (nbb_cells[i].input_prompt_number == nbb_cell_id) {\n",
       "                        if (nbb_cells[i].get_text() == nbb_unformatted_code) {\n",
       "                             nbb_cells[i].set_text(nbb_formatted_code);\n",
       "                        }\n",
       "                        break;\n",
       "                    }\n",
       "                }\n",
       "            }, 500);\n",
       "            "
      ],
      "text/plain": [
       "<IPython.core.display.Javascript object>"
      ]
     },
     "metadata": {},
     "output_type": "display_data"
    }
   ],
   "source": [
    "postgres_user = \"dsbc_student\"\n",
    "postgres_pw = \"7*.8G9QH21\"\n",
    "postgres_host = \"142.93.121.174\"\n",
    "postgres_port = \"5432\"\n",
    "postgres_db = \"houseprices\"\n",
    "\n",
    "engine = create_engine(\n",
    "    \"postgresql://{}:{}@{}:{}/{}\".format(\n",
    "        postgres_user, postgres_pw, postgres_host, postgres_port, postgres_db\n",
    "    )\n",
    ")\n",
    "houseprices2_df = pd.read_sql_query(\"select * from houseprices\", con=engine)\n",
    "\n",
    "# no need for an open connection, as we're only doing a single query\n",
    "engine.dispose()\n",
    "\n",
    "\n",
    "houseprices2_df.head(5)"
   ]
  },
  {
   "cell_type": "code",
   "execution_count": 3,
   "metadata": {},
   "outputs": [
    {
     "name": "stdout",
     "output_type": "stream",
     "text": [
      "Dropping house ids [1298, 523, 1182, 691]\n"
     ]
    },
    {
     "data": {
      "application/javascript": [
       "\n",
       "            setTimeout(function() {\n",
       "                var nbb_cell_id = 3;\n",
       "                var nbb_unformatted_code = \"houseprices2_df[\\\"log_price\\\"] = np.log(houseprices2_df[\\\"saleprice\\\"])\\n\\nhouseprices2_df = houseprices2_df[\\n    [\\n        \\\"log_price\\\",\\n        \\\"overallqual\\\",\\n        \\\"bsmtqual\\\",\\n        \\\"kitchenqual\\\",\\n        \\\"grlivarea\\\",\\n        \\\"garagearea\\\",\\n        \\\"fullbath\\\",\\n        \\\"yearbuilt\\\",\\n        \\\"exterqual\\\",\\n        \\\"garagefinish\\\",\\n        \\\"centralair\\\",\\n    ]\\n]\\n\\nhp2_df = houseprices2_df.dropna()\\n\\ndrop_ids = hp2_df.sort_values(\\\"grlivarea\\\", ascending=False).iloc[:4].index\\nprint(f\\\"Dropping house ids {list(drop_ids)}\\\")\\nhp2_df = hp2_df.drop(index=drop_ids)\\n\\nhp2_df[\\\"centralair\\\"] = (hp2_df[\\\"centralair\\\"] == \\\"Y\\\").astype(int)\\n\\nquality_map = {\\\"Fa\\\": 1, \\\"TA\\\": 2, \\\"Gd\\\": 3, \\\"Ex\\\": 4}\\nhp2_df[[\\\"exterqual\\\"]] = hp2_df[[\\\"exterqual\\\"]].replace(quality_map)\\nhp2_df[[\\\"kitchenqual\\\"]] = hp2_df[[\\\"kitchenqual\\\"]].replace(quality_map)\\n\\nquality_map2 = {None: 0,\\\"Fa\\\": 1, \\\"TA\\\": 2, \\\"Gd\\\": 3, \\\"Ex\\\": 4}\\nhp2_df[[\\\"bsmtqual\\\"]] = hp2_df[[\\\"bsmtqual\\\"]].replace(quality_map2)\\n\\ngarage2_df = pd.get_dummies(hp2_df[\\\"garagefinish\\\"], drop_first=True)\\n\\nhp2_df = pd.concat([hp2_df, garage2_df], axis=1)\\nhp2_df.drop(columns=[\\\"garagefinish\\\"], inplace=True)\";\n",
       "                var nbb_formatted_code = \"houseprices2_df[\\\"log_price\\\"] = np.log(houseprices2_df[\\\"saleprice\\\"])\\n\\nhouseprices2_df = houseprices2_df[\\n    [\\n        \\\"log_price\\\",\\n        \\\"overallqual\\\",\\n        \\\"bsmtqual\\\",\\n        \\\"kitchenqual\\\",\\n        \\\"grlivarea\\\",\\n        \\\"garagearea\\\",\\n        \\\"fullbath\\\",\\n        \\\"yearbuilt\\\",\\n        \\\"exterqual\\\",\\n        \\\"garagefinish\\\",\\n        \\\"centralair\\\",\\n    ]\\n]\\n\\nhp2_df = houseprices2_df.dropna()\\n\\ndrop_ids = hp2_df.sort_values(\\\"grlivarea\\\", ascending=False).iloc[:4].index\\nprint(f\\\"Dropping house ids {list(drop_ids)}\\\")\\nhp2_df = hp2_df.drop(index=drop_ids)\\n\\nhp2_df[\\\"centralair\\\"] = (hp2_df[\\\"centralair\\\"] == \\\"Y\\\").astype(int)\\n\\nquality_map = {\\\"Fa\\\": 1, \\\"TA\\\": 2, \\\"Gd\\\": 3, \\\"Ex\\\": 4}\\nhp2_df[[\\\"exterqual\\\"]] = hp2_df[[\\\"exterqual\\\"]].replace(quality_map)\\nhp2_df[[\\\"kitchenqual\\\"]] = hp2_df[[\\\"kitchenqual\\\"]].replace(quality_map)\\n\\nquality_map2 = {None: 0, \\\"Fa\\\": 1, \\\"TA\\\": 2, \\\"Gd\\\": 3, \\\"Ex\\\": 4}\\nhp2_df[[\\\"bsmtqual\\\"]] = hp2_df[[\\\"bsmtqual\\\"]].replace(quality_map2)\\n\\ngarage2_df = pd.get_dummies(hp2_df[\\\"garagefinish\\\"], drop_first=True)\\n\\nhp2_df = pd.concat([hp2_df, garage2_df], axis=1)\\nhp2_df.drop(columns=[\\\"garagefinish\\\"], inplace=True)\";\n",
       "                var nbb_cells = Jupyter.notebook.get_cells();\n",
       "                for (var i = 0; i < nbb_cells.length; ++i) {\n",
       "                    if (nbb_cells[i].input_prompt_number == nbb_cell_id) {\n",
       "                        if (nbb_cells[i].get_text() == nbb_unformatted_code) {\n",
       "                             nbb_cells[i].set_text(nbb_formatted_code);\n",
       "                        }\n",
       "                        break;\n",
       "                    }\n",
       "                }\n",
       "            }, 500);\n",
       "            "
      ],
      "text/plain": [
       "<IPython.core.display.Javascript object>"
      ]
     },
     "metadata": {},
     "output_type": "display_data"
    }
   ],
   "source": [
    "houseprices2_df[\"log_price\"] = np.log(houseprices2_df[\"saleprice\"])\n",
    "\n",
    "houseprices2_df = houseprices2_df[\n",
    "    [\n",
    "        \"log_price\",\n",
    "        \"overallqual\",\n",
    "        \"bsmtqual\",\n",
    "        \"kitchenqual\",\n",
    "        \"grlivarea\",\n",
    "        \"garagearea\",\n",
    "        \"fullbath\",\n",
    "        \"yearbuilt\",\n",
    "        \"exterqual\",\n",
    "        \"garagefinish\",\n",
    "        \"centralair\",\n",
    "    ]\n",
    "]\n",
    "\n",
    "hp2_df = houseprices2_df.dropna()\n",
    "\n",
    "drop_ids = hp2_df.sort_values(\"grlivarea\", ascending=False).iloc[:4].index\n",
    "print(f\"Dropping house ids {list(drop_ids)}\")\n",
    "hp2_df = hp2_df.drop(index=drop_ids)\n",
    "\n",
    "hp2_df[\"centralair\"] = (hp2_df[\"centralair\"] == \"Y\").astype(int)\n",
    "\n",
    "quality_map = {\"Fa\": 1, \"TA\": 2, \"Gd\": 3, \"Ex\": 4}\n",
    "hp2_df[[\"exterqual\"]] = hp2_df[[\"exterqual\"]].replace(quality_map)\n",
    "hp2_df[[\"kitchenqual\"]] = hp2_df[[\"kitchenqual\"]].replace(quality_map)\n",
    "\n",
    "quality_map2 = {None: 0, \"Fa\": 1, \"TA\": 2, \"Gd\": 3, \"Ex\": 4}\n",
    "hp2_df[[\"bsmtqual\"]] = hp2_df[[\"bsmtqual\"]].replace(quality_map2)\n",
    "\n",
    "garage2_df = pd.get_dummies(hp2_df[\"garagefinish\"], drop_first=True)\n",
    "\n",
    "hp2_df = pd.concat([hp2_df, garage2_df], axis=1)\n",
    "hp2_df.drop(columns=[\"garagefinish\"], inplace=True)"
   ]
  },
  {
   "cell_type": "markdown",
   "metadata": {},
   "source": [
    "**Split your data into train and test sets.**"
   ]
  },
  {
   "cell_type": "code",
   "execution_count": 4,
   "metadata": {},
   "outputs": [
    {
     "data": {
      "application/javascript": [
       "\n",
       "            setTimeout(function() {\n",
       "                var nbb_cell_id = 4;\n",
       "                var nbb_unformatted_code = \"X2 = hp2_df.drop(columns=[\\\"log_price\\\", \\\"RFn\\\"])\\ny2 = hp2_df[\\\"log_price\\\"]\\n\\nX2_train, X2_test, y2_train, y2_test = train_test_split(\\n    X2, y2, test_size=0.2, random_state=32\\n)\";\n",
       "                var nbb_formatted_code = \"X2 = hp2_df.drop(columns=[\\\"log_price\\\", \\\"RFn\\\"])\\ny2 = hp2_df[\\\"log_price\\\"]\\n\\nX2_train, X2_test, y2_train, y2_test = train_test_split(\\n    X2, y2, test_size=0.2, random_state=32\\n)\";\n",
       "                var nbb_cells = Jupyter.notebook.get_cells();\n",
       "                for (var i = 0; i < nbb_cells.length; ++i) {\n",
       "                    if (nbb_cells[i].input_prompt_number == nbb_cell_id) {\n",
       "                        if (nbb_cells[i].get_text() == nbb_unformatted_code) {\n",
       "                             nbb_cells[i].set_text(nbb_formatted_code);\n",
       "                        }\n",
       "                        break;\n",
       "                    }\n",
       "                }\n",
       "            }, 500);\n",
       "            "
      ],
      "text/plain": [
       "<IPython.core.display.Javascript object>"
      ]
     },
     "metadata": {},
     "output_type": "display_data"
    }
   ],
   "source": [
    "X2 = hp2_df.drop(columns=[\"log_price\", \"RFn\"])\n",
    "y2 = hp2_df[\"log_price\"]\n",
    "\n",
    "X2_train, X2_test, y2_train, y2_test = train_test_split(\n",
    "    X2, y2, test_size=0.2, random_state=32\n",
    ")"
   ]
  },
  {
   "cell_type": "markdown",
   "metadata": {},
   "source": [
    "**Estimate your model from the previous checkpoint in the train set. Assess the goodness of fit of your model.**"
   ]
  },
  {
   "cell_type": "code",
   "execution_count": 5,
   "metadata": {},
   "outputs": [
    {
     "data": {
      "text/html": [
       "<table class=\"simpletable\">\n",
       "<caption>OLS Regression Results</caption>\n",
       "<tr>\n",
       "  <th>Dep. Variable:</th>        <td>log_price</td>    <th>  R-squared:         </th> <td>   0.838</td>\n",
       "</tr>\n",
       "<tr>\n",
       "  <th>Model:</th>                   <td>OLS</td>       <th>  Adj. R-squared:    </th> <td>   0.837</td>\n",
       "</tr>\n",
       "<tr>\n",
       "  <th>Method:</th>             <td>Least Squares</td>  <th>  F-statistic:       </th> <td>   551.1</td>\n",
       "</tr>\n",
       "<tr>\n",
       "  <th>Date:</th>             <td>Thu, 09 Apr 2020</td> <th>  Prob (F-statistic):</th>  <td>  0.00</td> \n",
       "</tr>\n",
       "<tr>\n",
       "  <th>Time:</th>                 <td>17:31:48</td>     <th>  Log-Likelihood:    </th> <td>  528.91</td>\n",
       "</tr>\n",
       "<tr>\n",
       "  <th>No. Observations:</th>      <td>  1076</td>      <th>  AIC:               </th> <td>  -1036.</td>\n",
       "</tr>\n",
       "<tr>\n",
       "  <th>Df Residuals:</th>          <td>  1065</td>      <th>  BIC:               </th> <td>  -981.0</td>\n",
       "</tr>\n",
       "<tr>\n",
       "  <th>Df Model:</th>              <td>    10</td>      <th>                     </th>     <td> </td>   \n",
       "</tr>\n",
       "<tr>\n",
       "  <th>Covariance Type:</th>      <td>nonrobust</td>    <th>                     </th>     <td> </td>   \n",
       "</tr>\n",
       "</table>\n",
       "<table class=\"simpletable\">\n",
       "<tr>\n",
       "       <td></td>          <th>coef</th>     <th>std err</th>      <th>t</th>      <th>P>|t|</th>  <th>[0.025</th>    <th>0.975]</th>  \n",
       "</tr>\n",
       "<tr>\n",
       "  <th>const</th>       <td>    7.7577</td> <td>    0.539</td> <td>   14.383</td> <td> 0.000</td> <td>    6.699</td> <td>    8.816</td>\n",
       "</tr>\n",
       "<tr>\n",
       "  <th>overallqual</th> <td>    0.0780</td> <td>    0.006</td> <td>   12.706</td> <td> 0.000</td> <td>    0.066</td> <td>    0.090</td>\n",
       "</tr>\n",
       "<tr>\n",
       "  <th>bsmtqual</th>    <td>    0.0436</td> <td>    0.011</td> <td>    3.913</td> <td> 0.000</td> <td>    0.022</td> <td>    0.066</td>\n",
       "</tr>\n",
       "<tr>\n",
       "  <th>kitchenqual</th> <td>    0.0571</td> <td>    0.010</td> <td>    5.453</td> <td> 0.000</td> <td>    0.037</td> <td>    0.078</td>\n",
       "</tr>\n",
       "<tr>\n",
       "  <th>grlivarea</th>   <td>    0.0003</td> <td> 1.43e-05</td> <td>   22.173</td> <td> 0.000</td> <td>    0.000</td> <td>    0.000</td>\n",
       "</tr>\n",
       "<tr>\n",
       "  <th>garagearea</th>  <td>    0.0002</td> <td> 3.11e-05</td> <td>    7.815</td> <td> 0.000</td> <td>    0.000</td> <td>    0.000</td>\n",
       "</tr>\n",
       "<tr>\n",
       "  <th>fullbath</th>    <td>   -0.0407</td> <td>    0.012</td> <td>   -3.288</td> <td> 0.001</td> <td>   -0.065</td> <td>   -0.016</td>\n",
       "</tr>\n",
       "<tr>\n",
       "  <th>yearbuilt</th>   <td>    0.0014</td> <td>    0.000</td> <td>    4.973</td> <td> 0.000</td> <td>    0.001</td> <td>    0.002</td>\n",
       "</tr>\n",
       "<tr>\n",
       "  <th>exterqual</th>   <td>    0.0282</td> <td>    0.013</td> <td>    2.176</td> <td> 0.030</td> <td>    0.003</td> <td>    0.054</td>\n",
       "</tr>\n",
       "<tr>\n",
       "  <th>centralair</th>  <td>    0.1760</td> <td>    0.024</td> <td>    7.462</td> <td> 0.000</td> <td>    0.130</td> <td>    0.222</td>\n",
       "</tr>\n",
       "<tr>\n",
       "  <th>Unf</th>         <td>   -0.0421</td> <td>    0.012</td> <td>   -3.532</td> <td> 0.000</td> <td>   -0.066</td> <td>   -0.019</td>\n",
       "</tr>\n",
       "</table>\n",
       "<table class=\"simpletable\">\n",
       "<tr>\n",
       "  <th>Omnibus:</th>       <td>127.193</td> <th>  Durbin-Watson:     </th> <td>   2.036</td>\n",
       "</tr>\n",
       "<tr>\n",
       "  <th>Prob(Omnibus):</th> <td> 0.000</td>  <th>  Jarque-Bera (JB):  </th> <td> 403.535</td>\n",
       "</tr>\n",
       "<tr>\n",
       "  <th>Skew:</th>          <td>-0.575</td>  <th>  Prob(JB):          </th> <td>2.36e-88</td>\n",
       "</tr>\n",
       "<tr>\n",
       "  <th>Kurtosis:</th>      <td> 5.771</td>  <th>  Cond. No.          </th> <td>3.04e+05</td>\n",
       "</tr>\n",
       "</table><br/><br/>Warnings:<br/>[1] Standard Errors assume that the covariance matrix of the errors is correctly specified.<br/>[2] The condition number is large, 3.04e+05. This might indicate that there are<br/>strong multicollinearity or other numerical problems."
      ],
      "text/plain": [
       "<class 'statsmodels.iolib.summary.Summary'>\n",
       "\"\"\"\n",
       "                            OLS Regression Results                            \n",
       "==============================================================================\n",
       "Dep. Variable:              log_price   R-squared:                       0.838\n",
       "Model:                            OLS   Adj. R-squared:                  0.837\n",
       "Method:                 Least Squares   F-statistic:                     551.1\n",
       "Date:                Thu, 09 Apr 2020   Prob (F-statistic):               0.00\n",
       "Time:                        17:31:48   Log-Likelihood:                 528.91\n",
       "No. Observations:                1076   AIC:                            -1036.\n",
       "Df Residuals:                    1065   BIC:                            -981.0\n",
       "Df Model:                          10                                         \n",
       "Covariance Type:            nonrobust                                         \n",
       "===============================================================================\n",
       "                  coef    std err          t      P>|t|      [0.025      0.975]\n",
       "-------------------------------------------------------------------------------\n",
       "const           7.7577      0.539     14.383      0.000       6.699       8.816\n",
       "overallqual     0.0780      0.006     12.706      0.000       0.066       0.090\n",
       "bsmtqual        0.0436      0.011      3.913      0.000       0.022       0.066\n",
       "kitchenqual     0.0571      0.010      5.453      0.000       0.037       0.078\n",
       "grlivarea       0.0003   1.43e-05     22.173      0.000       0.000       0.000\n",
       "garagearea      0.0002   3.11e-05      7.815      0.000       0.000       0.000\n",
       "fullbath       -0.0407      0.012     -3.288      0.001      -0.065      -0.016\n",
       "yearbuilt       0.0014      0.000      4.973      0.000       0.001       0.002\n",
       "exterqual       0.0282      0.013      2.176      0.030       0.003       0.054\n",
       "centralair      0.1760      0.024      7.462      0.000       0.130       0.222\n",
       "Unf            -0.0421      0.012     -3.532      0.000      -0.066      -0.019\n",
       "==============================================================================\n",
       "Omnibus:                      127.193   Durbin-Watson:                   2.036\n",
       "Prob(Omnibus):                  0.000   Jarque-Bera (JB):              403.535\n",
       "Skew:                          -0.575   Prob(JB):                     2.36e-88\n",
       "Kurtosis:                       5.771   Cond. No.                     3.04e+05\n",
       "==============================================================================\n",
       "\n",
       "Warnings:\n",
       "[1] Standard Errors assume that the covariance matrix of the errors is correctly specified.\n",
       "[2] The condition number is large, 3.04e+05. This might indicate that there are\n",
       "strong multicollinearity or other numerical problems.\n",
       "\"\"\""
      ]
     },
     "execution_count": 5,
     "metadata": {},
     "output_type": "execute_result"
    },
    {
     "data": {
      "application/javascript": [
       "\n",
       "            setTimeout(function() {\n",
       "                var nbb_cell_id = 5;\n",
       "                var nbb_unformatted_code = \"X2_train_const = sm.add_constant(X2_train)\\nlm2 = sm.OLS(y2_train, X2_train_const).fit()\\n\\nlm2.summary()\";\n",
       "                var nbb_formatted_code = \"X2_train_const = sm.add_constant(X2_train)\\nlm2 = sm.OLS(y2_train, X2_train_const).fit()\\n\\nlm2.summary()\";\n",
       "                var nbb_cells = Jupyter.notebook.get_cells();\n",
       "                for (var i = 0; i < nbb_cells.length; ++i) {\n",
       "                    if (nbb_cells[i].input_prompt_number == nbb_cell_id) {\n",
       "                        if (nbb_cells[i].get_text() == nbb_unformatted_code) {\n",
       "                             nbb_cells[i].set_text(nbb_formatted_code);\n",
       "                        }\n",
       "                        break;\n",
       "                    }\n",
       "                }\n",
       "            }, 500);\n",
       "            "
      ],
      "text/plain": [
       "<IPython.core.display.Javascript object>"
      ]
     },
     "metadata": {},
     "output_type": "display_data"
    }
   ],
   "source": [
    "X2_train_const = sm.add_constant(X2_train)\n",
    "lm2 = sm.OLS(y2_train, X2_train_const).fit()\n",
    "\n",
    "lm2.summary()"
   ]
  },
  {
   "cell_type": "markdown",
   "metadata": {},
   "source": [
    "Assessment:\n",
    "\n",
    "The F-test p-value means we reject the null hypothesis that this model is indistinguishable from a reduced model at the p<0.01 level.  This means that the features are working to explain some of the variance in the target.\n",
    "\n",
    "The R-squared and adjusted R-squared values indicate that the model is accounting for about 83.7% of the variance.  We conclude that there may still be room for improvement.  We can be reasonably confident that we aren't overfitting.\n",
    "\n",
    "The AIC and BIC values are smaller, aka more negative, than the first houseprices model I ran that contained more features which weren't contributing significantly to the model.  Smaller AIC and BIC values are a sign that the model's performance is improving, and that cutting those features out was a positive step.\n",
    "\n"
   ]
  },
  {
   "cell_type": "markdown",
   "metadata": {},
   "source": [
    "**Predict the house prices in the test set, and evaluate the performance of your model using the metrics we mentioned in this checkpoint.**"
   ]
  },
  {
   "cell_type": "code",
   "execution_count": 13,
   "metadata": {},
   "outputs": [
    {
     "data": {
      "image/png": "[encoded data removed]",
      "text/plain": [
       "<Figure size 432x288 with 1 Axes>"
      ]
     },
     "metadata": {
      "needs_background": "light"
     },
     "output_type": "display_data"
    },
    {
     "name": "stdout",
     "output_type": "stream",
     "text": [
      "Mean absolute error of the prediction is: 0.11747184712690274\n",
      "Mean squared error of the prediction is: 0.025045671844994538\n",
      "Root mean squared error of the prediction is: 0.158258244161227\n",
      "Mean absolute percentage error of the prediction is: 0.9730359339615163\n"
     ]
    },
    {
     "data": {
      "application/javascript": [
       "\n",
       "            setTimeout(function() {\n",
       "                var nbb_cell_id = 13;\n",
       "                var nbb_unformatted_code = \"# We add constant to the model as it's a best practice\\n# to do so every time!\\nX2_test = sm.add_constant(X2_test)\\n\\n# We are making predictions here\\ny2_preds = lm2.predict(X2_test)\\n\\nplt.scatter(y2_test, y2_preds)\\nplt.plot(y2_test, y2_test, color=\\\"red\\\")\\nplt.xlabel(\\\"true values\\\")\\nplt.ylabel(\\\"predicted values\\\")\\nplt.title(\\\"Charges: true and predicted values\\\")\\nplt.show()\\n\\nprint(\\n    \\\"Mean absolute error of the prediction is: {}\\\".format(\\n        mean_absolute_error(y2_test, y2_preds)\\n    )\\n)\\nprint(\\\"Mean squared error of the prediction is: {}\\\".format(mse(y2_test, y2_preds)))\\nprint(\\n    \\\"Root mean squared error of the prediction is: {}\\\".format(rmse(y2_test, y2_preds))\\n)\\nprint(\\n    \\\"Mean absolute percentage error of the prediction is: {}\\\".format(\\n        np.mean(np.abs((y2_test - y2_preds) / y2_test)) * 100\\n    )\\n)\";\n",
       "                var nbb_formatted_code = \"# We add constant to the model as it's a best practice\\n# to do so every time!\\nX2_test = sm.add_constant(X2_test)\\n\\n# We are making predictions here\\ny2_preds = lm2.predict(X2_test)\\n\\nplt.scatter(y2_test, y2_preds)\\nplt.plot(y2_test, y2_test, color=\\\"red\\\")\\nplt.xlabel(\\\"true values\\\")\\nplt.ylabel(\\\"predicted values\\\")\\nplt.title(\\\"Charges: true and predicted values\\\")\\nplt.show()\\n\\nprint(\\n    \\\"Mean absolute error of the prediction is: {}\\\".format(\\n        mean_absolute_error(y2_test, y2_preds)\\n    )\\n)\\nprint(\\\"Mean squared error of the prediction is: {}\\\".format(mse(y2_test, y2_preds)))\\nprint(\\n    \\\"Root mean squared error of the prediction is: {}\\\".format(rmse(y2_test, y2_preds))\\n)\\nprint(\\n    \\\"Mean absolute percentage error of the prediction is: {}\\\".format(\\n        np.mean(np.abs((y2_test - y2_preds) / y2_test)) * 100\\n    )\\n)\";\n",
       "                var nbb_cells = Jupyter.notebook.get_cells();\n",
       "                for (var i = 0; i < nbb_cells.length; ++i) {\n",
       "                    if (nbb_cells[i].input_prompt_number == nbb_cell_id) {\n",
       "                        if (nbb_cells[i].get_text() == nbb_unformatted_code) {\n",
       "                             nbb_cells[i].set_text(nbb_formatted_code);\n",
       "                        }\n",
       "                        break;\n",
       "                    }\n",
       "                }\n",
       "            }, 500);\n",
       "            "
      ],
      "text/plain": [
       "<IPython.core.display.Javascript object>"
      ]
     },
     "metadata": {},
     "output_type": "display_data"
    }
   ],
   "source": [
    "# We add constant to the model as it's a best practice\n",
    "# to do so every time!\n",
    "X2_test = sm.add_constant(X2_test)\n",
    "\n",
    "# We are making predictions here\n",
    "y2_preds = lm2.predict(X2_test)\n",
    "\n",
    "plt.scatter(y2_test, y2_preds)\n",
    "plt.plot(y2_test, y2_test, color=\"red\")\n",
    "plt.xlabel(\"true values\")\n",
    "plt.ylabel(\"predicted values\")\n",
    "plt.title(\"Charges: true and predicted values\")\n",
    "plt.show()\n",
    "\n",
    "print(\n",
    "    \"Mean absolute error of the prediction is: {}\".format(\n",
    "        mean_absolute_error(y2_test, y2_preds)\n",
    "    )\n",
    ")\n",
    "print(\"Mean squared error of the prediction is: {}\".format(mse(y2_test, y2_preds)))\n",
    "print(\n",
    "    \"Root mean squared error of the prediction is: {}\".format(rmse(y2_test, y2_preds))\n",
    ")\n",
    "print(\n",
    "    \"Mean absolute percentage error of the prediction is: {}\".format(\n",
    "        np.mean(np.abs((y2_test - y2_preds) / y2_test)) * 100\n",
    "    )\n",
    ")"
   ]
  },
  {
   "cell_type": "markdown",
   "metadata": {},
   "source": [
    "**Is the performance of your model satisfactory? Why?**"
   ]
  },
  {
   "cell_type": "markdown",
   "metadata": {},
   "source": [
    "Yes, the assessment is above."
   ]
  },
  {
   "cell_type": "markdown",
   "metadata": {},
   "source": [
    "**Try to improve your model in terms of predictive performance by adding or removing some variables.**"
   ]
  },
  {
   "cell_type": "markdown",
   "metadata": {},
   "source": [
    "I already did this in the last assignment, and I have no interest in doing this again and again."
   ]
  },
  {
   "cell_type": "code",
   "execution_count": null,
   "metadata": {},
   "outputs": [],
   "source": []
  }
 ],
 "metadata": {
  "kernelspec": {
   "display_name": "Python 3",
   "language": "python",
   "name": "python3"
  },
  "language_info": {
   "codemirror_mode": {
    "name": "ipython",
    "version": 3
   },
   "file_extension": ".py",
   "mimetype": "text/x-python",
   "name": "python",
   "nbconvert_exporter": "python",
   "pygments_lexer": "ipython3",
   "version": "3.7.4"
  }
 },
 "nbformat": 4,
 "nbformat_minor": 2
}
