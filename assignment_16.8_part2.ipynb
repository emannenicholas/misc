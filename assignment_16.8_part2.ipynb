{
 "cells": [
  {
   "cell_type": "markdown",
   "metadata": {},
   "source": [
    "# Challenge\n",
    "\n",
    "In this module, we learned how to approach and solve regression problems using linear regression models. Throughout the module, you worked on a house price dataset from Kaggle. In this challenge, you will keep working on this dataset.\n",
    "\n",
    "The scenario\n",
    "\n",
    "The housing market is one of the most crucial parts of the economy for every country. Purchasing a home is one of the primary ways to build wealth and savings for people. In this respect, predicting prices in the housing market is a very central topic in economic and financial circles.\n",
    "\n",
    "The house price dataset from Kaggle includes several features of the houses along with their sale prices at the time they are sold. So far, in this module, you built and implemented some models using this dataset.\n",
    "\n",
    "In this challenge, you are required to improve your model with respect to its prediction performance.\n",
    "\n",
    "To complete this challenge, submit a Jupyter notebook containing your solutions to the following tasks.\n",
    "\n",
    "Steps:\n",
    "1. Load the houseprices data from Thinkful's database.\n",
    "\n",
    "2. Do data cleaning, exploratory data analysis, and feature engineering. You can use your previous work in this module. But make sure that your work is satisfactory.\n",
    "\n",
    "3. Now, split your data into train and test sets where 20% of the data resides in the test set.\n",
    "\n",
    "4. Build several linear regression models including Lasso, Ridge, or ElasticNet and train them in the training set. Use k-fold cross-validation to select the best hyperparameters if your models include one!\n",
    "\n",
    "5. Evaluate your best model on the test set.\n",
    "\n",
    "6. So far, you have only used the features in the dataset. However, house prices can be affected by many factors like economic activity and the interest rates at the time they are sold. So, try to find some useful factors that are not included in the dataset. Integrate these factors into your model and assess the prediction performance of your model. Discuss the implications of adding these external variables into your model."
   ]
  },
  {
   "cell_type": "markdown",
   "metadata": {},
   "source": [
    "## 1. Load the houseprices data from Thinkful's database."
   ]
  },
  {
   "cell_type": "code",
   "execution_count": 1,
   "metadata": {},
   "outputs": [
    {
     "data": {
      "application/javascript": [
       "\n",
       "            setTimeout(function() {\n",
       "                var nbb_cell_id = 1;\n",
       "                var nbb_unformatted_code = \"import matplotlib.pyplot as plt\\nimport numpy as np\\nimport pandas as pd\\nimport time\\n\\nfrom sklearn.linear_model import LinearRegression, RidgeCV, LassoCV, ElasticNetCV\\nfrom sklearn.model_selection import train_test_split, GridSearchCV\\nfrom sklearn.metrics import mean_absolute_error\\n\\nfrom statsmodels.tools.eval_measures import mse, rmse\\nfrom sqlalchemy import create_engine\\n\\nimport statsmodels.stats.api as sms\\nimport statsmodels.api as sm\\n\\n# Display preferences.\\n%matplotlib inline\\npd.options.display.float_format = \\\"{:.3f}\\\".format\\n\\nimport warnings\\n\\nwarnings.filterwarnings(action=\\\"ignore\\\")\\n\\n%load_ext nb_black\";\n",
       "                var nbb_formatted_code = \"import matplotlib.pyplot as plt\\nimport numpy as np\\nimport pandas as pd\\nimport time\\n\\nfrom sklearn.linear_model import LinearRegression, RidgeCV, LassoCV, ElasticNetCV\\nfrom sklearn.model_selection import train_test_split, GridSearchCV\\nfrom sklearn.metrics import mean_absolute_error\\n\\nfrom statsmodels.tools.eval_measures import mse, rmse\\nfrom sqlalchemy import create_engine\\n\\nimport statsmodels.stats.api as sms\\nimport statsmodels.api as sm\\n\\n# Display preferences.\\n%matplotlib inline\\npd.options.display.float_format = \\\"{:.3f}\\\".format\\n\\nimport warnings\\n\\nwarnings.filterwarnings(action=\\\"ignore\\\")\\n\\n%load_ext nb_black\";\n",
       "                var nbb_cells = Jupyter.notebook.get_cells();\n",
       "                for (var i = 0; i < nbb_cells.length; ++i) {\n",
       "                    if (nbb_cells[i].input_prompt_number == nbb_cell_id) {\n",
       "                        if (nbb_cells[i].get_text() == nbb_unformatted_code) {\n",
       "                             nbb_cells[i].set_text(nbb_formatted_code);\n",
       "                        }\n",
       "                        break;\n",
       "                    }\n",
       "                }\n",
       "            }, 500);\n",
       "            "
      ],
      "text/plain": [
       "<IPython.core.display.Javascript object>"
      ]
     },
     "metadata": {},
     "output_type": "display_data"
    }
   ],
   "source": [
    "import matplotlib.pyplot as plt\n",
    "import numpy as np\n",
    "import pandas as pd\n",
    "import time\n",
    "\n",
    "from sklearn.linear_model import LinearRegression, RidgeCV, LassoCV, ElasticNetCV\n",
    "from sklearn.model_selection import train_test_split, GridSearchCV\n",
    "from sklearn.metrics import mean_absolute_error\n",
    "\n",
    "from statsmodels.tools.eval_measures import mse, rmse\n",
    "from sqlalchemy import create_engine\n",
    "\n",
    "import statsmodels.stats.api as sms\n",
    "import statsmodels.api as sm\n",
    "\n",
    "# Display preferences.\n",
    "%matplotlib inline\n",
    "pd.options.display.float_format = \"{:.3f}\".format\n",
    "\n",
    "import warnings\n",
    "\n",
    "warnings.filterwarnings(action=\"ignore\")\n",
    "\n",
    "%load_ext nb_black"
   ]
  },
  {
   "cell_type": "code",
   "execution_count": 2,
   "metadata": {},
   "outputs": [
    {
     "data": {
      "text/html": [
       "<div>\n",
       "<style scoped>\n",
       "    .dataframe tbody tr th:only-of-type {\n",
       "        vertical-align: middle;\n",
       "    }\n",
       "\n",
       "    .dataframe tbody tr th {\n",
       "        vertical-align: top;\n",
       "    }\n",
       "\n",
       "    .dataframe thead th {\n",
       "        text-align: right;\n",
       "    }\n",
       "</style>\n",
       "<table border=\"1\" class=\"dataframe\">\n",
       "  <thead>\n",
       "    <tr style=\"text-align: right;\">\n",
       "      <th></th>\n",
       "      <th>id</th>\n",
       "      <th>mssubclass</th>\n",
       "      <th>mszoning</th>\n",
       "      <th>lotfrontage</th>\n",
       "      <th>lotarea</th>\n",
       "      <th>street</th>\n",
       "      <th>alley</th>\n",
       "      <th>lotshape</th>\n",
       "      <th>landcontour</th>\n",
       "      <th>utilities</th>\n",
       "      <th>...</th>\n",
       "      <th>poolarea</th>\n",
       "      <th>poolqc</th>\n",
       "      <th>fence</th>\n",
       "      <th>miscfeature</th>\n",
       "      <th>miscval</th>\n",
       "      <th>mosold</th>\n",
       "      <th>yrsold</th>\n",
       "      <th>saletype</th>\n",
       "      <th>salecondition</th>\n",
       "      <th>saleprice</th>\n",
       "    </tr>\n",
       "  </thead>\n",
       "  <tbody>\n",
       "    <tr>\n",
       "      <td>0</td>\n",
       "      <td>1</td>\n",
       "      <td>60</td>\n",
       "      <td>RL</td>\n",
       "      <td>65.000</td>\n",
       "      <td>8450</td>\n",
       "      <td>Pave</td>\n",
       "      <td>None</td>\n",
       "      <td>Reg</td>\n",
       "      <td>Lvl</td>\n",
       "      <td>AllPub</td>\n",
       "      <td>...</td>\n",
       "      <td>0</td>\n",
       "      <td>None</td>\n",
       "      <td>None</td>\n",
       "      <td>None</td>\n",
       "      <td>0</td>\n",
       "      <td>2</td>\n",
       "      <td>2008</td>\n",
       "      <td>WD</td>\n",
       "      <td>Normal</td>\n",
       "      <td>208500</td>\n",
       "    </tr>\n",
       "    <tr>\n",
       "      <td>1</td>\n",
       "      <td>2</td>\n",
       "      <td>20</td>\n",
       "      <td>RL</td>\n",
       "      <td>80.000</td>\n",
       "      <td>9600</td>\n",
       "      <td>Pave</td>\n",
       "      <td>None</td>\n",
       "      <td>Reg</td>\n",
       "      <td>Lvl</td>\n",
       "      <td>AllPub</td>\n",
       "      <td>...</td>\n",
       "      <td>0</td>\n",
       "      <td>None</td>\n",
       "      <td>None</td>\n",
       "      <td>None</td>\n",
       "      <td>0</td>\n",
       "      <td>5</td>\n",
       "      <td>2007</td>\n",
       "      <td>WD</td>\n",
       "      <td>Normal</td>\n",
       "      <td>181500</td>\n",
       "    </tr>\n",
       "    <tr>\n",
       "      <td>2</td>\n",
       "      <td>3</td>\n",
       "      <td>60</td>\n",
       "      <td>RL</td>\n",
       "      <td>68.000</td>\n",
       "      <td>11250</td>\n",
       "      <td>Pave</td>\n",
       "      <td>None</td>\n",
       "      <td>IR1</td>\n",
       "      <td>Lvl</td>\n",
       "      <td>AllPub</td>\n",
       "      <td>...</td>\n",
       "      <td>0</td>\n",
       "      <td>None</td>\n",
       "      <td>None</td>\n",
       "      <td>None</td>\n",
       "      <td>0</td>\n",
       "      <td>9</td>\n",
       "      <td>2008</td>\n",
       "      <td>WD</td>\n",
       "      <td>Normal</td>\n",
       "      <td>223500</td>\n",
       "    </tr>\n",
       "    <tr>\n",
       "      <td>3</td>\n",
       "      <td>4</td>\n",
       "      <td>70</td>\n",
       "      <td>RL</td>\n",
       "      <td>60.000</td>\n",
       "      <td>9550</td>\n",
       "      <td>Pave</td>\n",
       "      <td>None</td>\n",
       "      <td>IR1</td>\n",
       "      <td>Lvl</td>\n",
       "      <td>AllPub</td>\n",
       "      <td>...</td>\n",
       "      <td>0</td>\n",
       "      <td>None</td>\n",
       "      <td>None</td>\n",
       "      <td>None</td>\n",
       "      <td>0</td>\n",
       "      <td>2</td>\n",
       "      <td>2006</td>\n",
       "      <td>WD</td>\n",
       "      <td>Abnorml</td>\n",
       "      <td>140000</td>\n",
       "    </tr>\n",
       "    <tr>\n",
       "      <td>4</td>\n",
       "      <td>5</td>\n",
       "      <td>60</td>\n",
       "      <td>RL</td>\n",
       "      <td>84.000</td>\n",
       "      <td>14260</td>\n",
       "      <td>Pave</td>\n",
       "      <td>None</td>\n",
       "      <td>IR1</td>\n",
       "      <td>Lvl</td>\n",
       "      <td>AllPub</td>\n",
       "      <td>...</td>\n",
       "      <td>0</td>\n",
       "      <td>None</td>\n",
       "      <td>None</td>\n",
       "      <td>None</td>\n",
       "      <td>0</td>\n",
       "      <td>12</td>\n",
       "      <td>2008</td>\n",
       "      <td>WD</td>\n",
       "      <td>Normal</td>\n",
       "      <td>250000</td>\n",
       "    </tr>\n",
       "  </tbody>\n",
       "</table>\n",
       "<p>5 rows × 81 columns</p>\n",
       "</div>"
      ],
      "text/plain": [
       "   id  mssubclass mszoning  lotfrontage  lotarea street alley lotshape  \\\n",
       "0   1          60       RL       65.000     8450   Pave  None      Reg   \n",
       "1   2          20       RL       80.000     9600   Pave  None      Reg   \n",
       "2   3          60       RL       68.000    11250   Pave  None      IR1   \n",
       "3   4          70       RL       60.000     9550   Pave  None      IR1   \n",
       "4   5          60       RL       84.000    14260   Pave  None      IR1   \n",
       "\n",
       "  landcontour utilities  ... poolarea poolqc fence miscfeature miscval mosold  \\\n",
       "0         Lvl    AllPub  ...        0   None  None        None       0      2   \n",
       "1         Lvl    AllPub  ...        0   None  None        None       0      5   \n",
       "2         Lvl    AllPub  ...        0   None  None        None       0      9   \n",
       "3         Lvl    AllPub  ...        0   None  None        None       0      2   \n",
       "4         Lvl    AllPub  ...        0   None  None        None       0     12   \n",
       "\n",
       "  yrsold  saletype  salecondition  saleprice  \n",
       "0   2008        WD         Normal     208500  \n",
       "1   2007        WD         Normal     181500  \n",
       "2   2008        WD         Normal     223500  \n",
       "3   2006        WD        Abnorml     140000  \n",
       "4   2008        WD         Normal     250000  \n",
       "\n",
       "[5 rows x 81 columns]"
      ]
     },
     "execution_count": 2,
     "metadata": {},
     "output_type": "execute_result"
    },
    {
     "data": {
      "application/javascript": [
       "\n",
       "            setTimeout(function() {\n",
       "                var nbb_cell_id = 2;\n",
       "                var nbb_unformatted_code = \"postgres_user = \\\"dsbc_student\\\"\\npostgres_pw = \\\"7*.8G9QH21\\\"\\npostgres_host = \\\"142.93.121.174\\\"\\npostgres_port = \\\"5432\\\"\\npostgres_db = \\\"houseprices\\\"\\n\\nengine = create_engine(\\n    \\\"postgresql://{}:{}@{}:{}/{}\\\".format(\\n        postgres_user, postgres_pw, postgres_host, postgres_port, postgres_db\\n    )\\n)\\nhouseprices_df = pd.read_sql_query(\\\"select * from houseprices\\\", con=engine)\\n\\n# no need for an open connection, as we're only doing a single query\\nengine.dispose()\\n\\n\\nhouseprices_df.head(5)\";\n",
       "                var nbb_formatted_code = \"postgres_user = \\\"dsbc_student\\\"\\npostgres_pw = \\\"7*.8G9QH21\\\"\\npostgres_host = \\\"142.93.121.174\\\"\\npostgres_port = \\\"5432\\\"\\npostgres_db = \\\"houseprices\\\"\\n\\nengine = create_engine(\\n    \\\"postgresql://{}:{}@{}:{}/{}\\\".format(\\n        postgres_user, postgres_pw, postgres_host, postgres_port, postgres_db\\n    )\\n)\\nhouseprices_df = pd.read_sql_query(\\\"select * from houseprices\\\", con=engine)\\n\\n# no need for an open connection, as we're only doing a single query\\nengine.dispose()\\n\\n\\nhouseprices_df.head(5)\";\n",
       "                var nbb_cells = Jupyter.notebook.get_cells();\n",
       "                for (var i = 0; i < nbb_cells.length; ++i) {\n",
       "                    if (nbb_cells[i].input_prompt_number == nbb_cell_id) {\n",
       "                        if (nbb_cells[i].get_text() == nbb_unformatted_code) {\n",
       "                             nbb_cells[i].set_text(nbb_formatted_code);\n",
       "                        }\n",
       "                        break;\n",
       "                    }\n",
       "                }\n",
       "            }, 500);\n",
       "            "
      ],
      "text/plain": [
       "<IPython.core.display.Javascript object>"
      ]
     },
     "metadata": {},
     "output_type": "display_data"
    }
   ],
   "source": [
    "postgres_user = \"dsbc_student\"\n",
    "postgres_pw = \"7*.8G9QH21\"\n",
    "postgres_host = \"142.93.121.174\"\n",
    "postgres_port = \"5432\"\n",
    "postgres_db = \"houseprices\"\n",
    "\n",
    "engine = create_engine(\n",
    "    \"postgresql://{}:{}@{}:{}/{}\".format(\n",
    "        postgres_user, postgres_pw, postgres_host, postgres_port, postgres_db\n",
    "    )\n",
    ")\n",
    "houseprices_df = pd.read_sql_query(\"select * from houseprices\", con=engine)\n",
    "\n",
    "# no need for an open connection, as we're only doing a single query\n",
    "engine.dispose()\n",
    "\n",
    "\n",
    "houseprices_df.head(5)"
   ]
  },
  {
   "cell_type": "markdown",
   "metadata": {},
   "source": [
    "## 2. Do data cleaning, exploratory data analysis, and feature engineering. You can use your previous work in this module. But make sure that your work is satisfactory."
   ]
  },
  {
   "cell_type": "markdown",
   "metadata": {},
   "source": [
    "### NOTE: I performed these steps in the other notebook submitted.  Please refer to that for detailed EDA and data cleaning.  Below are the steps necessary to re-build the model I decided was the best, but the EDA that leads to these steps are in the other notebook.  "
   ]
  },
  {
   "cell_type": "code",
   "execution_count": 3,
   "metadata": {},
   "outputs": [
    {
     "name": "stdout",
     "output_type": "stream",
     "text": [
      "Dropping house ids [1298, 523, 1182, 691]\n"
     ]
    },
    {
     "data": {
      "application/javascript": [
       "\n",
       "            setTimeout(function() {\n",
       "                var nbb_cell_id = 3;\n",
       "                var nbb_unformatted_code = \"houseprices2_df = houseprices_df.copy()\\n\\nhouseprices2_df[\\\"log_price\\\"] = np.log(houseprices2_df[\\\"saleprice\\\"])\\n\\nhouseprices2_df = houseprices2_df[\\n    [\\n        \\\"log_price\\\",\\n        \\\"overallqual\\\",\\n        \\\"bsmtqual\\\",\\n        \\\"kitchenqual\\\",\\n        \\\"grlivarea\\\",\\n        \\\"garagearea\\\",\\n        \\\"fullbath\\\",\\n        \\\"yearbuilt\\\",\\n        \\\"exterqual\\\",\\n        \\\"garagefinish\\\",\\n        \\\"centralair\\\",\\n    ]\\n]\\n\\nhp2_df = houseprices2_df.dropna()\\n\\ndrop_ids = hp2_df.sort_values(\\\"grlivarea\\\", ascending=False).iloc[:4].index\\nprint(f\\\"Dropping house ids {list(drop_ids)}\\\")\\nhp2_df = hp2_df.drop(index=drop_ids)\\n\\nhp2_df[\\\"centralair\\\"] = (hp2_df[\\\"centralair\\\"] == \\\"Y\\\").astype(int)\\n\\nquality_map = {\\\"Fa\\\": 1, \\\"TA\\\": 2, \\\"Gd\\\": 3, \\\"Ex\\\": 4}\\nhp2_df[[\\\"exterqual\\\"]] = hp2_df[[\\\"exterqual\\\"]].replace(quality_map)\\nhp2_df[[\\\"kitchenqual\\\"]] = hp2_df[[\\\"kitchenqual\\\"]].replace(quality_map)\\n\\nquality_map2 = {None: 0, \\\"Fa\\\": 1, \\\"TA\\\": 2, \\\"Gd\\\": 3, \\\"Ex\\\": 4}\\nhp2_df[[\\\"bsmtqual\\\"]] = hp2_df[[\\\"bsmtqual\\\"]].replace(quality_map2)\\n\\ngarage2_df = pd.get_dummies(hp2_df[\\\"garagefinish\\\"], drop_first=True)\\n\\nhp2_df = pd.concat([hp2_df, garage2_df], axis=1)\\nhp2_df.drop(columns=[\\\"garagefinish\\\"], inplace=True)\";\n",
       "                var nbb_formatted_code = \"houseprices2_df = houseprices_df.copy()\\n\\nhouseprices2_df[\\\"log_price\\\"] = np.log(houseprices2_df[\\\"saleprice\\\"])\\n\\nhouseprices2_df = houseprices2_df[\\n    [\\n        \\\"log_price\\\",\\n        \\\"overallqual\\\",\\n        \\\"bsmtqual\\\",\\n        \\\"kitchenqual\\\",\\n        \\\"grlivarea\\\",\\n        \\\"garagearea\\\",\\n        \\\"fullbath\\\",\\n        \\\"yearbuilt\\\",\\n        \\\"exterqual\\\",\\n        \\\"garagefinish\\\",\\n        \\\"centralair\\\",\\n    ]\\n]\\n\\nhp2_df = houseprices2_df.dropna()\\n\\ndrop_ids = hp2_df.sort_values(\\\"grlivarea\\\", ascending=False).iloc[:4].index\\nprint(f\\\"Dropping house ids {list(drop_ids)}\\\")\\nhp2_df = hp2_df.drop(index=drop_ids)\\n\\nhp2_df[\\\"centralair\\\"] = (hp2_df[\\\"centralair\\\"] == \\\"Y\\\").astype(int)\\n\\nquality_map = {\\\"Fa\\\": 1, \\\"TA\\\": 2, \\\"Gd\\\": 3, \\\"Ex\\\": 4}\\nhp2_df[[\\\"exterqual\\\"]] = hp2_df[[\\\"exterqual\\\"]].replace(quality_map)\\nhp2_df[[\\\"kitchenqual\\\"]] = hp2_df[[\\\"kitchenqual\\\"]].replace(quality_map)\\n\\nquality_map2 = {None: 0, \\\"Fa\\\": 1, \\\"TA\\\": 2, \\\"Gd\\\": 3, \\\"Ex\\\": 4}\\nhp2_df[[\\\"bsmtqual\\\"]] = hp2_df[[\\\"bsmtqual\\\"]].replace(quality_map2)\\n\\ngarage2_df = pd.get_dummies(hp2_df[\\\"garagefinish\\\"], drop_first=True)\\n\\nhp2_df = pd.concat([hp2_df, garage2_df], axis=1)\\nhp2_df.drop(columns=[\\\"garagefinish\\\"], inplace=True)\";\n",
       "                var nbb_cells = Jupyter.notebook.get_cells();\n",
       "                for (var i = 0; i < nbb_cells.length; ++i) {\n",
       "                    if (nbb_cells[i].input_prompt_number == nbb_cell_id) {\n",
       "                        if (nbb_cells[i].get_text() == nbb_unformatted_code) {\n",
       "                             nbb_cells[i].set_text(nbb_formatted_code);\n",
       "                        }\n",
       "                        break;\n",
       "                    }\n",
       "                }\n",
       "            }, 500);\n",
       "            "
      ],
      "text/plain": [
       "<IPython.core.display.Javascript object>"
      ]
     },
     "metadata": {},
     "output_type": "display_data"
    }
   ],
   "source": [
    "houseprices2_df = houseprices_df.copy()\n",
    "\n",
    "houseprices2_df[\"log_price\"] = np.log(houseprices2_df[\"saleprice\"])\n",
    "\n",
    "houseprices2_df = houseprices2_df[\n",
    "    [\n",
    "        \"log_price\",\n",
    "        \"overallqual\",\n",
    "        \"bsmtqual\",\n",
    "        \"kitchenqual\",\n",
    "        \"grlivarea\",\n",
    "        \"garagearea\",\n",
    "        \"fullbath\",\n",
    "        \"yearbuilt\",\n",
    "        \"exterqual\",\n",
    "        \"garagefinish\",\n",
    "        \"centralair\",\n",
    "    ]\n",
    "]\n",
    "\n",
    "hp2_df = houseprices2_df.dropna()\n",
    "\n",
    "drop_ids = hp2_df.sort_values(\"grlivarea\", ascending=False).iloc[:4].index\n",
    "print(f\"Dropping house ids {list(drop_ids)}\")\n",
    "hp2_df = hp2_df.drop(index=drop_ids)\n",
    "\n",
    "hp2_df[\"centralair\"] = (hp2_df[\"centralair\"] == \"Y\").astype(int)\n",
    "\n",
    "quality_map = {\"Fa\": 1, \"TA\": 2, \"Gd\": 3, \"Ex\": 4}\n",
    "hp2_df[[\"exterqual\"]] = hp2_df[[\"exterqual\"]].replace(quality_map)\n",
    "hp2_df[[\"kitchenqual\"]] = hp2_df[[\"kitchenqual\"]].replace(quality_map)\n",
    "\n",
    "quality_map2 = {None: 0, \"Fa\": 1, \"TA\": 2, \"Gd\": 3, \"Ex\": 4}\n",
    "hp2_df[[\"bsmtqual\"]] = hp2_df[[\"bsmtqual\"]].replace(quality_map2)\n",
    "\n",
    "garage2_df = pd.get_dummies(hp2_df[\"garagefinish\"], drop_first=True)\n",
    "\n",
    "hp2_df = pd.concat([hp2_df, garage2_df], axis=1)\n",
    "hp2_df.drop(columns=[\"garagefinish\"], inplace=True)"
   ]
  },
  {
   "cell_type": "markdown",
   "metadata": {},
   "source": [
    "## 3. Now, split your data into train and test sets where 20% of the data resides in the test set."
   ]
  },
  {
   "cell_type": "code",
   "execution_count": 4,
   "metadata": {},
   "outputs": [
    {
     "data": {
      "application/javascript": [
       "\n",
       "            setTimeout(function() {\n",
       "                var nbb_cell_id = 4;\n",
       "                var nbb_unformatted_code = \"X = hp2_df.drop(columns=[\\\"log_price\\\", \\\"RFn\\\"])\\ny = hp2_df[\\\"log_price\\\"]\\n\\nX_train, X_test, y_train, y_test = train_test_split(\\n    X, y, test_size=0.2, random_state=32\\n)\";\n",
       "                var nbb_formatted_code = \"X = hp2_df.drop(columns=[\\\"log_price\\\", \\\"RFn\\\"])\\ny = hp2_df[\\\"log_price\\\"]\\n\\nX_train, X_test, y_train, y_test = train_test_split(\\n    X, y, test_size=0.2, random_state=32\\n)\";\n",
       "                var nbb_cells = Jupyter.notebook.get_cells();\n",
       "                for (var i = 0; i < nbb_cells.length; ++i) {\n",
       "                    if (nbb_cells[i].input_prompt_number == nbb_cell_id) {\n",
       "                        if (nbb_cells[i].get_text() == nbb_unformatted_code) {\n",
       "                             nbb_cells[i].set_text(nbb_formatted_code);\n",
       "                        }\n",
       "                        break;\n",
       "                    }\n",
       "                }\n",
       "            }, 500);\n",
       "            "
      ],
      "text/plain": [
       "<IPython.core.display.Javascript object>"
      ]
     },
     "metadata": {},
     "output_type": "display_data"
    }
   ],
   "source": [
    "X = hp2_df.drop(columns=[\"log_price\", \"RFn\"])\n",
    "y = hp2_df[\"log_price\"]\n",
    "\n",
    "X_train, X_test, y_train, y_test = train_test_split(\n",
    "    X, y, test_size=0.2, random_state=32\n",
    ")"
   ]
  },
  {
   "cell_type": "code",
   "execution_count": 5,
   "metadata": {},
   "outputs": [
    {
     "name": "stdout",
     "output_type": "stream",
     "text": [
      "R-squared of the model in training set is: 0.8380568201689231\n",
      "-----Test set statistics-----\n",
      "R-squared of the model in test set is: 0.835899234076841\n",
      "Mean absolute error of the prediction is: 0.11747184712690383\n",
      "Mean squared error of the prediction is: 0.025045671844994687\n",
      "Root mean squared error of the prediction is: 0.15825824416122747\n",
      "Mean absolute percentage error of the prediction is: 0.9730359339615233\n"
     ]
    },
    {
     "data": {
      "application/javascript": [
       "\n",
       "            setTimeout(function() {\n",
       "                var nbb_cell_id = 5;\n",
       "                var nbb_unformatted_code = \"lrm = LinearRegression()\\n\\nlrm.fit(X_train, y_train)\\n\\n# We are making predictions here\\ny_preds_train = lrm.predict(X_train)\\ny_preds_test = lrm.predict(X_test)\\n\\nprint(\\n    \\\"R-squared of the model in training set is: {}\\\".format(lrm.score(X_train, y_train))\\n)\\nprint(\\\"-----Test set statistics-----\\\")\\nprint(\\\"R-squared of the model in test set is: {}\\\".format(lrm.score(X_test, y_test)))\\nprint(\\n    \\\"Mean absolute error of the prediction is: {}\\\".format(\\n        mean_absolute_error(y_test, y_preds_test)\\n    )\\n)\\nprint(\\\"Mean squared error of the prediction is: {}\\\".format(mse(y_test, y_preds_test)))\\nprint(\\n    \\\"Root mean squared error of the prediction is: {}\\\".format(\\n        rmse(y_test, y_preds_test)\\n    )\\n)\\nprint(\\n    \\\"Mean absolute percentage error of the prediction is: {}\\\".format(\\n        np.mean(np.abs((y_test - y_preds_test) / y_test)) * 100\\n    )\\n)\";\n",
       "                var nbb_formatted_code = \"lrm = LinearRegression()\\n\\nlrm.fit(X_train, y_train)\\n\\n# We are making predictions here\\ny_preds_train = lrm.predict(X_train)\\ny_preds_test = lrm.predict(X_test)\\n\\nprint(\\n    \\\"R-squared of the model in training set is: {}\\\".format(lrm.score(X_train, y_train))\\n)\\nprint(\\\"-----Test set statistics-----\\\")\\nprint(\\\"R-squared of the model in test set is: {}\\\".format(lrm.score(X_test, y_test)))\\nprint(\\n    \\\"Mean absolute error of the prediction is: {}\\\".format(\\n        mean_absolute_error(y_test, y_preds_test)\\n    )\\n)\\nprint(\\\"Mean squared error of the prediction is: {}\\\".format(mse(y_test, y_preds_test)))\\nprint(\\n    \\\"Root mean squared error of the prediction is: {}\\\".format(\\n        rmse(y_test, y_preds_test)\\n    )\\n)\\nprint(\\n    \\\"Mean absolute percentage error of the prediction is: {}\\\".format(\\n        np.mean(np.abs((y_test - y_preds_test) / y_test)) * 100\\n    )\\n)\";\n",
       "                var nbb_cells = Jupyter.notebook.get_cells();\n",
       "                for (var i = 0; i < nbb_cells.length; ++i) {\n",
       "                    if (nbb_cells[i].input_prompt_number == nbb_cell_id) {\n",
       "                        if (nbb_cells[i].get_text() == nbb_unformatted_code) {\n",
       "                             nbb_cells[i].set_text(nbb_formatted_code);\n",
       "                        }\n",
       "                        break;\n",
       "                    }\n",
       "                }\n",
       "            }, 500);\n",
       "            "
      ],
      "text/plain": [
       "<IPython.core.display.Javascript object>"
      ]
     },
     "metadata": {},
     "output_type": "display_data"
    }
   ],
   "source": [
    "lrm = LinearRegression()\n",
    "\n",
    "lrm.fit(X_train, y_train)\n",
    "\n",
    "# We are making predictions here\n",
    "y_preds_train = lrm.predict(X_train)\n",
    "y_preds_test = lrm.predict(X_test)\n",
    "\n",
    "print(\n",
    "    \"R-squared of the model in training set is: {}\".format(lrm.score(X_train, y_train))\n",
    ")\n",
    "print(\"-----Test set statistics-----\")\n",
    "print(\"R-squared of the model in test set is: {}\".format(lrm.score(X_test, y_test)))\n",
    "print(\n",
    "    \"Mean absolute error of the prediction is: {}\".format(\n",
    "        mean_absolute_error(y_test, y_preds_test)\n",
    "    )\n",
    ")\n",
    "print(\"Mean squared error of the prediction is: {}\".format(mse(y_test, y_preds_test)))\n",
    "print(\n",
    "    \"Root mean squared error of the prediction is: {}\".format(\n",
    "        rmse(y_test, y_preds_test)\n",
    "    )\n",
    ")\n",
    "print(\n",
    "    \"Mean absolute percentage error of the prediction is: {}\".format(\n",
    "        np.mean(np.abs((y_test - y_preds_test) / y_test)) * 100\n",
    "    )\n",
    ")"
   ]
  },
  {
   "cell_type": "markdown",
   "metadata": {},
   "source": [
    "## 4. Build several linear regression models including Lasso, Ridge, or ElasticNet and train them in the training set. Use k-fold cross-validation to select the best hyperparameters if your models include one!"
   ]
  },
  {
   "cell_type": "code",
   "execution_count": 6,
   "metadata": {},
   "outputs": [
    {
     "name": "stdout",
     "output_type": "stream",
     "text": [
      "Best alpha value is: 1e-36\n",
      "R-squared of the model in training set is: 0.8380568201689231\n",
      "-----Test set statistics-----\n",
      "R-squared of the model in test set is: 0.8358992340768416\n",
      "Mean absolute error of the prediction is: 0.11747184712690449\n",
      "Mean squared error of the prediction is: 0.02504567184499459\n",
      "Root mean squared error of the prediction is: 0.15825824416122716\n",
      "Mean absolute percentage error of the prediction is: 0.9730359339615293\n"
     ]
    },
    {
     "name": "stderr",
     "output_type": "stream",
     "text": [
      "[Parallel(n_jobs=1)]: Using backend SequentialBackend with 1 concurrent workers.\n",
      "................................................................................................................................................................................................................................................................................................................................................................................................................[Parallel(n_jobs=1)]: Done   5 out of   5 | elapsed:    0.1s finished\n"
     ]
    },
    {
     "data": {
      "application/javascript": [
       "\n",
       "            setTimeout(function() {\n",
       "                var nbb_cell_id = 6;\n",
       "                var nbb_unformatted_code = \"alphas = [np.power(10.0, p) for p in np.arange(-40, 40, 1)]\\n\\n# fit lasso using a grid search for the best alpha\\nlasso_cv = LassoCV(alphas=alphas, verbose=1, cv=5)\\nlasso_cv.fit(X_train, y_train)\\n\\n# We are making predictions here\\ny_preds_train = lasso_cv.predict(X_train)\\ny_preds_test = lasso_cv.predict(X_test)\\n\\nprint(\\\"Best alpha value is: {}\\\".format(lasso_cv.alpha_))\\nprint(\\n    \\\"R-squared of the model in training set is: {}\\\".format(\\n        lasso_cv.score(X_train, y_train)\\n    )\\n)\\nprint(\\\"-----Test set statistics-----\\\")\\nprint(\\n    \\\"R-squared of the model in test set is: {}\\\".format(lasso_cv.score(X_test, y_test))\\n)\\nprint(\\n    \\\"Mean absolute error of the prediction is: {}\\\".format(\\n        mean_absolute_error(y_test, y_preds_test)\\n    )\\n)\\nprint(\\\"Mean squared error of the prediction is: {}\\\".format(mse(y_test, y_preds_test)))\\nprint(\\n    \\\"Root mean squared error of the prediction is: {}\\\".format(\\n        rmse(y_test, y_preds_test)\\n    )\\n)\\nprint(\\n    \\\"Mean absolute percentage error of the prediction is: {}\\\".format(\\n        np.mean(np.abs((y_test - y_preds_test) / y_test)) * 100\\n    )\\n)\";\n",
       "                var nbb_formatted_code = \"alphas = [np.power(10.0, p) for p in np.arange(-40, 40, 1)]\\n\\n# fit lasso using a grid search for the best alpha\\nlasso_cv = LassoCV(alphas=alphas, verbose=1, cv=5)\\nlasso_cv.fit(X_train, y_train)\\n\\n# We are making predictions here\\ny_preds_train = lasso_cv.predict(X_train)\\ny_preds_test = lasso_cv.predict(X_test)\\n\\nprint(\\\"Best alpha value is: {}\\\".format(lasso_cv.alpha_))\\nprint(\\n    \\\"R-squared of the model in training set is: {}\\\".format(\\n        lasso_cv.score(X_train, y_train)\\n    )\\n)\\nprint(\\\"-----Test set statistics-----\\\")\\nprint(\\n    \\\"R-squared of the model in test set is: {}\\\".format(lasso_cv.score(X_test, y_test))\\n)\\nprint(\\n    \\\"Mean absolute error of the prediction is: {}\\\".format(\\n        mean_absolute_error(y_test, y_preds_test)\\n    )\\n)\\nprint(\\\"Mean squared error of the prediction is: {}\\\".format(mse(y_test, y_preds_test)))\\nprint(\\n    \\\"Root mean squared error of the prediction is: {}\\\".format(\\n        rmse(y_test, y_preds_test)\\n    )\\n)\\nprint(\\n    \\\"Mean absolute percentage error of the prediction is: {}\\\".format(\\n        np.mean(np.abs((y_test - y_preds_test) / y_test)) * 100\\n    )\\n)\";\n",
       "                var nbb_cells = Jupyter.notebook.get_cells();\n",
       "                for (var i = 0; i < nbb_cells.length; ++i) {\n",
       "                    if (nbb_cells[i].input_prompt_number == nbb_cell_id) {\n",
       "                        if (nbb_cells[i].get_text() == nbb_unformatted_code) {\n",
       "                             nbb_cells[i].set_text(nbb_formatted_code);\n",
       "                        }\n",
       "                        break;\n",
       "                    }\n",
       "                }\n",
       "            }, 500);\n",
       "            "
      ],
      "text/plain": [
       "<IPython.core.display.Javascript object>"
      ]
     },
     "metadata": {},
     "output_type": "display_data"
    }
   ],
   "source": [
    "alphas = [np.power(10.0, p) for p in np.arange(-40, 40, 1)]\n",
    "\n",
    "# fit lasso using a grid search for the best alpha\n",
    "lasso_cv = LassoCV(alphas=alphas, verbose=1, cv=5)\n",
    "lasso_cv.fit(X_train, y_train)\n",
    "\n",
    "# We are making predictions here\n",
    "y_preds_train = lasso_cv.predict(X_train)\n",
    "y_preds_test = lasso_cv.predict(X_test)\n",
    "\n",
    "print(\"Best alpha value is: {}\".format(lasso_cv.alpha_))\n",
    "print(\n",
    "    \"R-squared of the model in training set is: {}\".format(\n",
    "        lasso_cv.score(X_train, y_train)\n",
    "    )\n",
    ")\n",
    "print(\"-----Test set statistics-----\")\n",
    "print(\n",
    "    \"R-squared of the model in test set is: {}\".format(lasso_cv.score(X_test, y_test))\n",
    ")\n",
    "print(\n",
    "    \"Mean absolute error of the prediction is: {}\".format(\n",
    "        mean_absolute_error(y_test, y_preds_test)\n",
    "    )\n",
    ")\n",
    "print(\"Mean squared error of the prediction is: {}\".format(mse(y_test, y_preds_test)))\n",
    "print(\n",
    "    \"Root mean squared error of the prediction is: {}\".format(\n",
    "        rmse(y_test, y_preds_test)\n",
    "    )\n",
    ")\n",
    "print(\n",
    "    \"Mean absolute percentage error of the prediction is: {}\".format(\n",
    "        np.mean(np.abs((y_test - y_preds_test) / y_test)) * 100\n",
    "    )\n",
    ")"
   ]
  },
  {
   "cell_type": "code",
   "execution_count": 7,
   "metadata": {},
   "outputs": [
    {
     "name": "stdout",
     "output_type": "stream",
     "text": [
      "Best alpha value is: 1.0\n",
      "R-squared of the model in training set is: 0.838051559108952\n",
      "-----Test set statistics-----\n",
      "R-squared of the model in test set is: 0.8356737924891101\n",
      "Mean absolute error of the prediction is: 0.11758309610608941\n",
      "Mean squared error of the prediction is: 0.025080079582184438\n",
      "Root mean squared error of the prediction is: 0.15836691441770417\n",
      "Mean absolute percentage error of the prediction is: 0.973980993704107\n"
     ]
    },
    {
     "data": {
      "application/javascript": [
       "\n",
       "            setTimeout(function() {\n",
       "                var nbb_cell_id = 7;\n",
       "                var nbb_unformatted_code = \"alphas = [np.power(10.0, p) for p in np.arange(-40, 40, 1)]\\n\\n# fit lasso using a grid search for the best alpha\\nridge_cv = RidgeCV(alphas=alphas, cv=5)\\nridge_cv.fit(X_train, y_train)\\n\\n# We are making predictions here\\ny_preds_train = ridge_cv.predict(X_train)\\ny_preds_test = ridge_cv.predict(X_test)\\n\\nprint(\\\"Best alpha value is: {}\\\".format(ridge_cv.alpha_))\\nprint(\\n    \\\"R-squared of the model in training set is: {}\\\".format(\\n        ridge_cv.score(X_train, y_train)\\n    )\\n)\\nprint(\\\"-----Test set statistics-----\\\")\\nprint(\\n    \\\"R-squared of the model in test set is: {}\\\".format(ridge_cv.score(X_test, y_test))\\n)\\nprint(\\n    \\\"Mean absolute error of the prediction is: {}\\\".format(\\n        mean_absolute_error(y_test, y_preds_test)\\n    )\\n)\\nprint(\\\"Mean squared error of the prediction is: {}\\\".format(mse(y_test, y_preds_test)))\\nprint(\\n    \\\"Root mean squared error of the prediction is: {}\\\".format(\\n        rmse(y_test, y_preds_test)\\n    )\\n)\\nprint(\\n    \\\"Mean absolute percentage error of the prediction is: {}\\\".format(\\n        np.mean(np.abs((y_test - y_preds_test) / y_test)) * 100\\n    )\\n)\";\n",
       "                var nbb_formatted_code = \"alphas = [np.power(10.0, p) for p in np.arange(-40, 40, 1)]\\n\\n# fit lasso using a grid search for the best alpha\\nridge_cv = RidgeCV(alphas=alphas, cv=5)\\nridge_cv.fit(X_train, y_train)\\n\\n# We are making predictions here\\ny_preds_train = ridge_cv.predict(X_train)\\ny_preds_test = ridge_cv.predict(X_test)\\n\\nprint(\\\"Best alpha value is: {}\\\".format(ridge_cv.alpha_))\\nprint(\\n    \\\"R-squared of the model in training set is: {}\\\".format(\\n        ridge_cv.score(X_train, y_train)\\n    )\\n)\\nprint(\\\"-----Test set statistics-----\\\")\\nprint(\\n    \\\"R-squared of the model in test set is: {}\\\".format(ridge_cv.score(X_test, y_test))\\n)\\nprint(\\n    \\\"Mean absolute error of the prediction is: {}\\\".format(\\n        mean_absolute_error(y_test, y_preds_test)\\n    )\\n)\\nprint(\\\"Mean squared error of the prediction is: {}\\\".format(mse(y_test, y_preds_test)))\\nprint(\\n    \\\"Root mean squared error of the prediction is: {}\\\".format(\\n        rmse(y_test, y_preds_test)\\n    )\\n)\\nprint(\\n    \\\"Mean absolute percentage error of the prediction is: {}\\\".format(\\n        np.mean(np.abs((y_test - y_preds_test) / y_test)) * 100\\n    )\\n)\";\n",
       "                var nbb_cells = Jupyter.notebook.get_cells();\n",
       "                for (var i = 0; i < nbb_cells.length; ++i) {\n",
       "                    if (nbb_cells[i].input_prompt_number == nbb_cell_id) {\n",
       "                        if (nbb_cells[i].get_text() == nbb_unformatted_code) {\n",
       "                             nbb_cells[i].set_text(nbb_formatted_code);\n",
       "                        }\n",
       "                        break;\n",
       "                    }\n",
       "                }\n",
       "            }, 500);\n",
       "            "
      ],
      "text/plain": [
       "<IPython.core.display.Javascript object>"
      ]
     },
     "metadata": {},
     "output_type": "display_data"
    }
   ],
   "source": [
    "alphas = [np.power(10.0, p) for p in np.arange(-40, 40, 1)]\n",
    "\n",
    "# fit lasso using a grid search for the best alpha\n",
    "ridge_cv = RidgeCV(alphas=alphas, cv=5)\n",
    "ridge_cv.fit(X_train, y_train)\n",
    "\n",
    "# We are making predictions here\n",
    "y_preds_train = ridge_cv.predict(X_train)\n",
    "y_preds_test = ridge_cv.predict(X_test)\n",
    "\n",
    "print(\"Best alpha value is: {}\".format(ridge_cv.alpha_))\n",
    "print(\n",
    "    \"R-squared of the model in training set is: {}\".format(\n",
    "        ridge_cv.score(X_train, y_train)\n",
    "    )\n",
    ")\n",
    "print(\"-----Test set statistics-----\")\n",
    "print(\n",
    "    \"R-squared of the model in test set is: {}\".format(ridge_cv.score(X_test, y_test))\n",
    ")\n",
    "print(\n",
    "    \"Mean absolute error of the prediction is: {}\".format(\n",
    "        mean_absolute_error(y_test, y_preds_test)\n",
    "    )\n",
    ")\n",
    "print(\"Mean squared error of the prediction is: {}\".format(mse(y_test, y_preds_test)))\n",
    "print(\n",
    "    \"Root mean squared error of the prediction is: {}\".format(\n",
    "        rmse(y_test, y_preds_test)\n",
    "    )\n",
    ")\n",
    "print(\n",
    "    \"Mean absolute percentage error of the prediction is: {}\".format(\n",
    "        np.mean(np.abs((y_test - y_preds_test) / y_test)) * 100\n",
    "    )\n",
    ")"
   ]
  },
  {
   "cell_type": "code",
   "execution_count": 8,
   "metadata": {},
   "outputs": [
    {
     "name": "stdout",
     "output_type": "stream",
     "text": [
      "Best alpha value is: 1e-16\n",
      "R-squared of the model in training set is: 0.8380568201689231\n",
      "-----Test set statistics-----\n",
      "R-squared of the model in test set is: 0.8358992340768413\n",
      "Mean absolute error of the prediction is: 0.11747184712690452\n",
      "Mean squared error of the prediction is: 0.025045671844994632\n",
      "Root mean squared error of the prediction is: 0.1582582441612273\n",
      "Mean absolute percentage error of the prediction is: 0.9730359339615304\n"
     ]
    },
    {
     "data": {
      "application/javascript": [
       "\n",
       "            setTimeout(function() {\n",
       "                var nbb_cell_id = 8;\n",
       "                var nbb_unformatted_code = \"alphas = [np.power(10.0, p) for p in np.arange(-40, 40, 1)]\\n\\n# fit lasso using a grid search for the best alpha\\nelasticnet_cv = ElasticNetCV(alphas=alphas, cv=5)\\nelasticnet_cv.fit(X_train, y_train)\\n\\n# We are making predictions here\\ny_preds_train = elasticnet_cv.predict(X_train)\\ny_preds_test = elasticnet_cv.predict(X_test)\\n\\nprint(\\\"Best alpha value is: {}\\\".format(elasticnet_cv.alpha_))\\nprint(\\n    \\\"R-squared of the model in training set is: {}\\\".format(\\n        elasticnet_cv.score(X_train, y_train)\\n    )\\n)\\nprint(\\\"-----Test set statistics-----\\\")\\nprint(\\n    \\\"R-squared of the model in test set is: {}\\\".format(\\n        elasticnet_cv.score(X_test, y_test)\\n    )\\n)\\nprint(\\n    \\\"Mean absolute error of the prediction is: {}\\\".format(\\n        mean_absolute_error(y_test, y_preds_test)\\n    )\\n)\\nprint(\\\"Mean squared error of the prediction is: {}\\\".format(mse(y_test, y_preds_test)))\\nprint(\\n    \\\"Root mean squared error of the prediction is: {}\\\".format(\\n        rmse(y_test, y_preds_test)\\n    )\\n)\\nprint(\\n    \\\"Mean absolute percentage error of the prediction is: {}\\\".format(\\n        np.mean(np.abs((y_test - y_preds_test) / y_test)) * 100\\n    )\\n)\";\n",
       "                var nbb_formatted_code = \"alphas = [np.power(10.0, p) for p in np.arange(-40, 40, 1)]\\n\\n# fit lasso using a grid search for the best alpha\\nelasticnet_cv = ElasticNetCV(alphas=alphas, cv=5)\\nelasticnet_cv.fit(X_train, y_train)\\n\\n# We are making predictions here\\ny_preds_train = elasticnet_cv.predict(X_train)\\ny_preds_test = elasticnet_cv.predict(X_test)\\n\\nprint(\\\"Best alpha value is: {}\\\".format(elasticnet_cv.alpha_))\\nprint(\\n    \\\"R-squared of the model in training set is: {}\\\".format(\\n        elasticnet_cv.score(X_train, y_train)\\n    )\\n)\\nprint(\\\"-----Test set statistics-----\\\")\\nprint(\\n    \\\"R-squared of the model in test set is: {}\\\".format(\\n        elasticnet_cv.score(X_test, y_test)\\n    )\\n)\\nprint(\\n    \\\"Mean absolute error of the prediction is: {}\\\".format(\\n        mean_absolute_error(y_test, y_preds_test)\\n    )\\n)\\nprint(\\\"Mean squared error of the prediction is: {}\\\".format(mse(y_test, y_preds_test)))\\nprint(\\n    \\\"Root mean squared error of the prediction is: {}\\\".format(\\n        rmse(y_test, y_preds_test)\\n    )\\n)\\nprint(\\n    \\\"Mean absolute percentage error of the prediction is: {}\\\".format(\\n        np.mean(np.abs((y_test - y_preds_test) / y_test)) * 100\\n    )\\n)\";\n",
       "                var nbb_cells = Jupyter.notebook.get_cells();\n",
       "                for (var i = 0; i < nbb_cells.length; ++i) {\n",
       "                    if (nbb_cells[i].input_prompt_number == nbb_cell_id) {\n",
       "                        if (nbb_cells[i].get_text() == nbb_unformatted_code) {\n",
       "                             nbb_cells[i].set_text(nbb_formatted_code);\n",
       "                        }\n",
       "                        break;\n",
       "                    }\n",
       "                }\n",
       "            }, 500);\n",
       "            "
      ],
      "text/plain": [
       "<IPython.core.display.Javascript object>"
      ]
     },
     "metadata": {},
     "output_type": "display_data"
    }
   ],
   "source": [
    "alphas = [np.power(10.0, p) for p in np.arange(-40, 40, 1)]\n",
    "\n",
    "# fit lasso using a grid search for the best alpha\n",
    "elasticnet_cv = ElasticNetCV(alphas=alphas, cv=5)\n",
    "elasticnet_cv.fit(X_train, y_train)\n",
    "\n",
    "# We are making predictions here\n",
    "y_preds_train = elasticnet_cv.predict(X_train)\n",
    "y_preds_test = elasticnet_cv.predict(X_test)\n",
    "\n",
    "print(\"Best alpha value is: {}\".format(elasticnet_cv.alpha_))\n",
    "print(\n",
    "    \"R-squared of the model in training set is: {}\".format(\n",
    "        elasticnet_cv.score(X_train, y_train)\n",
    "    )\n",
    ")\n",
    "print(\"-----Test set statistics-----\")\n",
    "print(\n",
    "    \"R-squared of the model in test set is: {}\".format(\n",
    "        elasticnet_cv.score(X_test, y_test)\n",
    "    )\n",
    ")\n",
    "print(\n",
    "    \"Mean absolute error of the prediction is: {}\".format(\n",
    "        mean_absolute_error(y_test, y_preds_test)\n",
    "    )\n",
    ")\n",
    "print(\"Mean squared error of the prediction is: {}\".format(mse(y_test, y_preds_test)))\n",
    "print(\n",
    "    \"Root mean squared error of the prediction is: {}\".format(\n",
    "        rmse(y_test, y_preds_test)\n",
    "    )\n",
    ")\n",
    "print(\n",
    "    \"Mean absolute percentage error of the prediction is: {}\".format(\n",
    "        np.mean(np.abs((y_test - y_preds_test) / y_test)) * 100\n",
    "    )\n",
    ")"
   ]
  },
  {
   "cell_type": "markdown",
   "metadata": {},
   "source": [
    "### The OLS regression did just as well as the Lasso, Ridge, and Elasticnet, but with lower computational cost."
   ]
  },
  {
   "cell_type": "markdown",
   "metadata": {},
   "source": [
    "## 5. Evaluate your best model on the test set."
   ]
  },
  {
   "cell_type": "markdown",
   "metadata": {},
   "source": [
    "### I already did this above in order to evaluate the goodnees of fit of the model.  I don't understand why I need to do that again here...?"
   ]
  },
  {
   "cell_type": "markdown",
   "metadata": {},
   "source": [
    "## 6. So far, you have only used the features in the dataset. However, house prices can be affected by many factors like economic activity and the interest rates at the time they are sold. So, try to find some useful factors that are not included in the dataset. Integrate these factors into your model and assess the prediction performance of your model. Discuss the implications of adding these external variables into your model."
   ]
  },
  {
   "cell_type": "code",
   "execution_count": 9,
   "metadata": {},
   "outputs": [
    {
     "data": {
      "text/html": [
       "<div>\n",
       "<style scoped>\n",
       "    .dataframe tbody tr th:only-of-type {\n",
       "        vertical-align: middle;\n",
       "    }\n",
       "\n",
       "    .dataframe tbody tr th {\n",
       "        vertical-align: top;\n",
       "    }\n",
       "\n",
       "    .dataframe thead th {\n",
       "        text-align: right;\n",
       "    }\n",
       "</style>\n",
       "<table border=\"1\" class=\"dataframe\">\n",
       "  <thead>\n",
       "    <tr style=\"text-align: right;\">\n",
       "      <th></th>\n",
       "      <th>log_price</th>\n",
       "      <th>overallqual</th>\n",
       "      <th>bsmtqual</th>\n",
       "      <th>kitchenqual</th>\n",
       "      <th>grlivarea</th>\n",
       "      <th>garagearea</th>\n",
       "      <th>fullbath</th>\n",
       "      <th>yearbuilt</th>\n",
       "      <th>exterqual</th>\n",
       "      <th>centralair</th>\n",
       "      <th>RFn</th>\n",
       "      <th>Unf</th>\n",
       "    </tr>\n",
       "  </thead>\n",
       "  <tbody>\n",
       "    <tr>\n",
       "      <td>0</td>\n",
       "      <td>12.248</td>\n",
       "      <td>7</td>\n",
       "      <td>3</td>\n",
       "      <td>3</td>\n",
       "      <td>1710</td>\n",
       "      <td>548</td>\n",
       "      <td>2</td>\n",
       "      <td>2003</td>\n",
       "      <td>3</td>\n",
       "      <td>1</td>\n",
       "      <td>1</td>\n",
       "      <td>0</td>\n",
       "    </tr>\n",
       "    <tr>\n",
       "      <td>1</td>\n",
       "      <td>12.109</td>\n",
       "      <td>6</td>\n",
       "      <td>3</td>\n",
       "      <td>2</td>\n",
       "      <td>1262</td>\n",
       "      <td>460</td>\n",
       "      <td>2</td>\n",
       "      <td>1976</td>\n",
       "      <td>2</td>\n",
       "      <td>1</td>\n",
       "      <td>1</td>\n",
       "      <td>0</td>\n",
       "    </tr>\n",
       "    <tr>\n",
       "      <td>2</td>\n",
       "      <td>12.317</td>\n",
       "      <td>7</td>\n",
       "      <td>3</td>\n",
       "      <td>3</td>\n",
       "      <td>1786</td>\n",
       "      <td>608</td>\n",
       "      <td>2</td>\n",
       "      <td>2001</td>\n",
       "      <td>3</td>\n",
       "      <td>1</td>\n",
       "      <td>1</td>\n",
       "      <td>0</td>\n",
       "    </tr>\n",
       "    <tr>\n",
       "      <td>3</td>\n",
       "      <td>11.849</td>\n",
       "      <td>7</td>\n",
       "      <td>2</td>\n",
       "      <td>3</td>\n",
       "      <td>1717</td>\n",
       "      <td>642</td>\n",
       "      <td>1</td>\n",
       "      <td>1915</td>\n",
       "      <td>2</td>\n",
       "      <td>1</td>\n",
       "      <td>0</td>\n",
       "      <td>1</td>\n",
       "    </tr>\n",
       "    <tr>\n",
       "      <td>4</td>\n",
       "      <td>12.429</td>\n",
       "      <td>8</td>\n",
       "      <td>3</td>\n",
       "      <td>3</td>\n",
       "      <td>2198</td>\n",
       "      <td>836</td>\n",
       "      <td>2</td>\n",
       "      <td>2000</td>\n",
       "      <td>3</td>\n",
       "      <td>1</td>\n",
       "      <td>1</td>\n",
       "      <td>0</td>\n",
       "    </tr>\n",
       "  </tbody>\n",
       "</table>\n",
       "</div>"
      ],
      "text/plain": [
       "   log_price  overallqual  bsmtqual  kitchenqual  grlivarea  garagearea  \\\n",
       "0     12.248            7         3            3       1710         548   \n",
       "1     12.109            6         3            2       1262         460   \n",
       "2     12.317            7         3            3       1786         608   \n",
       "3     11.849            7         2            3       1717         642   \n",
       "4     12.429            8         3            3       2198         836   \n",
       "\n",
       "   fullbath  yearbuilt  exterqual  centralair  RFn  Unf  \n",
       "0         2       2003          3           1    1    0  \n",
       "1         2       1976          2           1    1    0  \n",
       "2         2       2001          3           1    1    0  \n",
       "3         1       1915          2           1    0    1  \n",
       "4         2       2000          3           1    1    0  "
      ]
     },
     "execution_count": 9,
     "metadata": {},
     "output_type": "execute_result"
    },
    {
     "data": {
      "application/javascript": [
       "\n",
       "            setTimeout(function() {\n",
       "                var nbb_cell_id = 9;\n",
       "                var nbb_unformatted_code = \"hp2_df.head()\";\n",
       "                var nbb_formatted_code = \"hp2_df.head()\";\n",
       "                var nbb_cells = Jupyter.notebook.get_cells();\n",
       "                for (var i = 0; i < nbb_cells.length; ++i) {\n",
       "                    if (nbb_cells[i].input_prompt_number == nbb_cell_id) {\n",
       "                        if (nbb_cells[i].get_text() == nbb_unformatted_code) {\n",
       "                             nbb_cells[i].set_text(nbb_formatted_code);\n",
       "                        }\n",
       "                        break;\n",
       "                    }\n",
       "                }\n",
       "            }, 500);\n",
       "            "
      ],
      "text/plain": [
       "<IPython.core.display.Javascript object>"
      ]
     },
     "metadata": {},
     "output_type": "display_data"
    }
   ],
   "source": [
    "hp2_df.head()"
   ]
  },
  {
   "cell_type": "markdown",
   "metadata": {},
   "source": [
    "Because many of the factors that influence the real estate market depend on time, I'll be using the `yrsold` and `mosold` columns from the original dataframe to merge in economic factors.  Then, I'll re-perform the dropping of na's and columns from above.\n",
    "\n",
    "Two economic factors that the internet says influence house prices are interest rates and GDP."
   ]
  },
  {
   "cell_type": "code",
   "execution_count": 11,
   "metadata": {},
   "outputs": [
    {
     "data": {
      "text/plain": [
       "array([2008, 2007, 2006, 2009, 2010])"
      ]
     },
     "execution_count": 11,
     "metadata": {},
     "output_type": "execute_result"
    },
    {
     "data": {
      "application/javascript": [
       "\n",
       "            setTimeout(function() {\n",
       "                var nbb_cell_id = 11;\n",
       "                var nbb_unformatted_code = \"houseprices_df[\\\"yrsold\\\"].unique()\";\n",
       "                var nbb_formatted_code = \"houseprices_df[\\\"yrsold\\\"].unique()\";\n",
       "                var nbb_cells = Jupyter.notebook.get_cells();\n",
       "                for (var i = 0; i < nbb_cells.length; ++i) {\n",
       "                    if (nbb_cells[i].input_prompt_number == nbb_cell_id) {\n",
       "                        if (nbb_cells[i].get_text() == nbb_unformatted_code) {\n",
       "                             nbb_cells[i].set_text(nbb_formatted_code);\n",
       "                        }\n",
       "                        break;\n",
       "                    }\n",
       "                }\n",
       "            }, 500);\n",
       "            "
      ],
      "text/plain": [
       "<IPython.core.display.Javascript object>"
      ]
     },
     "metadata": {},
     "output_type": "display_data"
    }
   ],
   "source": [
    "houseprices_df[\"yrsold\"].unique()"
   ]
  },
  {
   "cell_type": "code",
   "execution_count": 12,
   "metadata": {},
   "outputs": [
    {
     "data": {
      "application/javascript": [
       "\n",
       "            setTimeout(function() {\n",
       "                var nbb_cell_id = 12;\n",
       "                var nbb_unformatted_code = \"gdp_dict = {2006: 13.815, 2007: 14.452, 2008: 14.713, 2009: 14.449, 2010: 14.992}\\nhouseprices_df[[\\\"gdp\\\"]] = houseprices_df[[\\\"yrsold\\\"]].replace(gdp_dict)\\n\\nfr_int_dict = {2006: 4.97, 2007: 5.02, 2008: 1.92, 2009: 0.16, 2010: 0.18}\\nhouseprices_df[[\\\"fr_int_rate\\\"]] = houseprices_df[[\\\"yrsold\\\"]].replace(fr_int_dict)\";\n",
       "                var nbb_formatted_code = \"gdp_dict = {2006: 13.815, 2007: 14.452, 2008: 14.713, 2009: 14.449, 2010: 14.992}\\nhouseprices_df[[\\\"gdp\\\"]] = houseprices_df[[\\\"yrsold\\\"]].replace(gdp_dict)\\n\\nfr_int_dict = {2006: 4.97, 2007: 5.02, 2008: 1.92, 2009: 0.16, 2010: 0.18}\\nhouseprices_df[[\\\"fr_int_rate\\\"]] = houseprices_df[[\\\"yrsold\\\"]].replace(fr_int_dict)\";\n",
       "                var nbb_cells = Jupyter.notebook.get_cells();\n",
       "                for (var i = 0; i < nbb_cells.length; ++i) {\n",
       "                    if (nbb_cells[i].input_prompt_number == nbb_cell_id) {\n",
       "                        if (nbb_cells[i].get_text() == nbb_unformatted_code) {\n",
       "                             nbb_cells[i].set_text(nbb_formatted_code);\n",
       "                        }\n",
       "                        break;\n",
       "                    }\n",
       "                }\n",
       "            }, 500);\n",
       "            "
      ],
      "text/plain": [
       "<IPython.core.display.Javascript object>"
      ]
     },
     "metadata": {},
     "output_type": "display_data"
    }
   ],
   "source": [
    "gdp_dict = {2006: 13.815, 2007: 14.452, 2008: 14.713, 2009: 14.449, 2010: 14.992}\n",
    "houseprices_df[[\"gdp\"]] = houseprices_df[[\"yrsold\"]].replace(gdp_dict)\n",
    "\n",
    "fr_int_dict = {2006: 4.97, 2007: 5.02, 2008: 1.92, 2009: 0.16, 2010: 0.18}\n",
    "houseprices_df[[\"fr_int_rate\"]] = houseprices_df[[\"yrsold\"]].replace(fr_int_dict)"
   ]
  },
  {
   "cell_type": "code",
   "execution_count": 13,
   "metadata": {},
   "outputs": [
    {
     "name": "stdout",
     "output_type": "stream",
     "text": [
      "Dropping house ids [1298, 523, 1182, 691]\n"
     ]
    },
    {
     "data": {
      "application/javascript": [
       "\n",
       "            setTimeout(function() {\n",
       "                var nbb_cell_id = 13;\n",
       "                var nbb_unformatted_code = \"houseprices_df[\\\"log_price\\\"] = np.log(houseprices_df[\\\"saleprice\\\"])\\n\\nhp2_df = houseprices_df[\\n    [\\n        \\\"log_price\\\",\\n        \\\"overallqual\\\",\\n        \\\"bsmtqual\\\",\\n        \\\"kitchenqual\\\",\\n        \\\"grlivarea\\\",\\n        \\\"garagearea\\\",\\n        \\\"fullbath\\\",\\n        \\\"yearbuilt\\\",\\n        \\\"exterqual\\\",\\n        \\\"garagefinish\\\",\\n        \\\"centralair\\\",\\n        \\\"gdp\\\",\\n        \\\"fr_int_rate\\\",\\n    ]\\n]\\n\\nhp2_df = hp2_df.dropna()\\n\\ndrop_ids = hp2_df.sort_values(\\\"grlivarea\\\", ascending=False).iloc[:4].index\\nprint(f\\\"Dropping house ids {list(drop_ids)}\\\")\\nhp2_df = hp2_df.drop(index=drop_ids)\\n\\nhp2_df[\\\"centralair\\\"] = (hp2_df[\\\"centralair\\\"] == \\\"Y\\\").astype(int)\\n\\nquality_map = {\\\"Fa\\\": 1, \\\"TA\\\": 2, \\\"Gd\\\": 3, \\\"Ex\\\": 4}\\nhp2_df[[\\\"exterqual\\\"]] = hp2_df[[\\\"exterqual\\\"]].replace(quality_map)\\nhp2_df[[\\\"kitchenqual\\\"]] = hp2_df[[\\\"kitchenqual\\\"]].replace(quality_map)\\n\\nquality_map2 = {None: 0, \\\"Fa\\\": 1, \\\"TA\\\": 2, \\\"Gd\\\": 3, \\\"Ex\\\": 4}\\nhp2_df[[\\\"bsmtqual\\\"]] = hp2_df[[\\\"bsmtqual\\\"]].replace(quality_map2)\\n\\ngarage2_df = pd.get_dummies(hp2_df[\\\"garagefinish\\\"], drop_first=True)\\n\\nhp2_df = pd.concat([hp2_df, garage2_df], axis=1)\\nhp2_df.drop(columns=[\\\"garagefinish\\\"], inplace=True)\";\n",
       "                var nbb_formatted_code = \"houseprices_df[\\\"log_price\\\"] = np.log(houseprices_df[\\\"saleprice\\\"])\\n\\nhp2_df = houseprices_df[\\n    [\\n        \\\"log_price\\\",\\n        \\\"overallqual\\\",\\n        \\\"bsmtqual\\\",\\n        \\\"kitchenqual\\\",\\n        \\\"grlivarea\\\",\\n        \\\"garagearea\\\",\\n        \\\"fullbath\\\",\\n        \\\"yearbuilt\\\",\\n        \\\"exterqual\\\",\\n        \\\"garagefinish\\\",\\n        \\\"centralair\\\",\\n        \\\"gdp\\\",\\n        \\\"fr_int_rate\\\",\\n    ]\\n]\\n\\nhp2_df = hp2_df.dropna()\\n\\ndrop_ids = hp2_df.sort_values(\\\"grlivarea\\\", ascending=False).iloc[:4].index\\nprint(f\\\"Dropping house ids {list(drop_ids)}\\\")\\nhp2_df = hp2_df.drop(index=drop_ids)\\n\\nhp2_df[\\\"centralair\\\"] = (hp2_df[\\\"centralair\\\"] == \\\"Y\\\").astype(int)\\n\\nquality_map = {\\\"Fa\\\": 1, \\\"TA\\\": 2, \\\"Gd\\\": 3, \\\"Ex\\\": 4}\\nhp2_df[[\\\"exterqual\\\"]] = hp2_df[[\\\"exterqual\\\"]].replace(quality_map)\\nhp2_df[[\\\"kitchenqual\\\"]] = hp2_df[[\\\"kitchenqual\\\"]].replace(quality_map)\\n\\nquality_map2 = {None: 0, \\\"Fa\\\": 1, \\\"TA\\\": 2, \\\"Gd\\\": 3, \\\"Ex\\\": 4}\\nhp2_df[[\\\"bsmtqual\\\"]] = hp2_df[[\\\"bsmtqual\\\"]].replace(quality_map2)\\n\\ngarage2_df = pd.get_dummies(hp2_df[\\\"garagefinish\\\"], drop_first=True)\\n\\nhp2_df = pd.concat([hp2_df, garage2_df], axis=1)\\nhp2_df.drop(columns=[\\\"garagefinish\\\"], inplace=True)\";\n",
       "                var nbb_cells = Jupyter.notebook.get_cells();\n",
       "                for (var i = 0; i < nbb_cells.length; ++i) {\n",
       "                    if (nbb_cells[i].input_prompt_number == nbb_cell_id) {\n",
       "                        if (nbb_cells[i].get_text() == nbb_unformatted_code) {\n",
       "                             nbb_cells[i].set_text(nbb_formatted_code);\n",
       "                        }\n",
       "                        break;\n",
       "                    }\n",
       "                }\n",
       "            }, 500);\n",
       "            "
      ],
      "text/plain": [
       "<IPython.core.display.Javascript object>"
      ]
     },
     "metadata": {},
     "output_type": "display_data"
    }
   ],
   "source": [
    "houseprices_df[\"log_price\"] = np.log(houseprices_df[\"saleprice\"])\n",
    "\n",
    "hp2_df = houseprices_df[\n",
    "    [\n",
    "        \"log_price\",\n",
    "        \"overallqual\",\n",
    "        \"bsmtqual\",\n",
    "        \"kitchenqual\",\n",
    "        \"grlivarea\",\n",
    "        \"garagearea\",\n",
    "        \"fullbath\",\n",
    "        \"yearbuilt\",\n",
    "        \"exterqual\",\n",
    "        \"garagefinish\",\n",
    "        \"centralair\",\n",
    "        \"gdp\",\n",
    "        \"fr_int_rate\",\n",
    "    ]\n",
    "]\n",
    "\n",
    "hp2_df = hp2_df.dropna()\n",
    "\n",
    "drop_ids = hp2_df.sort_values(\"grlivarea\", ascending=False).iloc[:4].index\n",
    "print(f\"Dropping house ids {list(drop_ids)}\")\n",
    "hp2_df = hp2_df.drop(index=drop_ids)\n",
    "\n",
    "hp2_df[\"centralair\"] = (hp2_df[\"centralair\"] == \"Y\").astype(int)\n",
    "\n",
    "quality_map = {\"Fa\": 1, \"TA\": 2, \"Gd\": 3, \"Ex\": 4}\n",
    "hp2_df[[\"exterqual\"]] = hp2_df[[\"exterqual\"]].replace(quality_map)\n",
    "hp2_df[[\"kitchenqual\"]] = hp2_df[[\"kitchenqual\"]].replace(quality_map)\n",
    "\n",
    "quality_map2 = {None: 0, \"Fa\": 1, \"TA\": 2, \"Gd\": 3, \"Ex\": 4}\n",
    "hp2_df[[\"bsmtqual\"]] = hp2_df[[\"bsmtqual\"]].replace(quality_map2)\n",
    "\n",
    "garage2_df = pd.get_dummies(hp2_df[\"garagefinish\"], drop_first=True)\n",
    "\n",
    "hp2_df = pd.concat([hp2_df, garage2_df], axis=1)\n",
    "hp2_df.drop(columns=[\"garagefinish\"], inplace=True)"
   ]
  },
  {
   "cell_type": "code",
   "execution_count": 14,
   "metadata": {},
   "outputs": [
    {
     "data": {
      "application/javascript": [
       "\n",
       "            setTimeout(function() {\n",
       "                var nbb_cell_id = 14;\n",
       "                var nbb_unformatted_code = \"X = hp2_df.drop(columns=[\\\"log_price\\\", \\\"RFn\\\"])\\ny = hp2_df[\\\"log_price\\\"]\\n\\nX_train, X_test, y_train, y_test = train_test_split(\\n    X, y, test_size=0.2, random_state=32\\n)\";\n",
       "                var nbb_formatted_code = \"X = hp2_df.drop(columns=[\\\"log_price\\\", \\\"RFn\\\"])\\ny = hp2_df[\\\"log_price\\\"]\\n\\nX_train, X_test, y_train, y_test = train_test_split(\\n    X, y, test_size=0.2, random_state=32\\n)\";\n",
       "                var nbb_cells = Jupyter.notebook.get_cells();\n",
       "                for (var i = 0; i < nbb_cells.length; ++i) {\n",
       "                    if (nbb_cells[i].input_prompt_number == nbb_cell_id) {\n",
       "                        if (nbb_cells[i].get_text() == nbb_unformatted_code) {\n",
       "                             nbb_cells[i].set_text(nbb_formatted_code);\n",
       "                        }\n",
       "                        break;\n",
       "                    }\n",
       "                }\n",
       "            }, 500);\n",
       "            "
      ],
      "text/plain": [
       "<IPython.core.display.Javascript object>"
      ]
     },
     "metadata": {},
     "output_type": "display_data"
    }
   ],
   "source": [
    "X = hp2_df.drop(columns=[\"log_price\", \"RFn\"])\n",
    "y = hp2_df[\"log_price\"]\n",
    "\n",
    "X_train, X_test, y_train, y_test = train_test_split(\n",
    "    X, y, test_size=0.2, random_state=32\n",
    ")"
   ]
  },
  {
   "cell_type": "code",
   "execution_count": 15,
   "metadata": {},
   "outputs": [
    {
     "name": "stdout",
     "output_type": "stream",
     "text": [
      "R-squared of the model in training set is: 0.8380793269446885\n",
      "-----Test set statistics-----\n",
      "R-squared of the model in test set is: 0.8364429065465036\n",
      "Mean absolute error of the prediction is: 0.1173637654865936\n",
      "Mean squared error of the prediction is: 0.024962694521947302\n",
      "Root mean squared error of the prediction is: 0.1579958686863277\n",
      "Mean absolute percentage error of the prediction is: 0.9721036017745278\n"
     ]
    },
    {
     "data": {
      "application/javascript": [
       "\n",
       "            setTimeout(function() {\n",
       "                var nbb_cell_id = 15;\n",
       "                var nbb_unformatted_code = \"lrm = LinearRegression()\\n\\nlrm.fit(X_train, y_train)\\n\\n# We are making predictions here\\ny_preds_train = lrm.predict(X_train)\\ny_preds_test = lrm.predict(X_test)\\n\\nprint(\\n    \\\"R-squared of the model in training set is: {}\\\".format(lrm.score(X_train, y_train))\\n)\\nprint(\\\"-----Test set statistics-----\\\")\\nprint(\\\"R-squared of the model in test set is: {}\\\".format(lrm.score(X_test, y_test)))\\nprint(\\n    \\\"Mean absolute error of the prediction is: {}\\\".format(\\n        mean_absolute_error(y_test, y_preds_test)\\n    )\\n)\\nprint(\\\"Mean squared error of the prediction is: {}\\\".format(mse(y_test, y_preds_test)))\\nprint(\\n    \\\"Root mean squared error of the prediction is: {}\\\".format(\\n        rmse(y_test, y_preds_test)\\n    )\\n)\\nprint(\\n    \\\"Mean absolute percentage error of the prediction is: {}\\\".format(\\n        np.mean(np.abs((y_test - y_preds_test) / y_test)) * 100\\n    )\\n)\";\n",
       "                var nbb_formatted_code = \"lrm = LinearRegression()\\n\\nlrm.fit(X_train, y_train)\\n\\n# We are making predictions here\\ny_preds_train = lrm.predict(X_train)\\ny_preds_test = lrm.predict(X_test)\\n\\nprint(\\n    \\\"R-squared of the model in training set is: {}\\\".format(lrm.score(X_train, y_train))\\n)\\nprint(\\\"-----Test set statistics-----\\\")\\nprint(\\\"R-squared of the model in test set is: {}\\\".format(lrm.score(X_test, y_test)))\\nprint(\\n    \\\"Mean absolute error of the prediction is: {}\\\".format(\\n        mean_absolute_error(y_test, y_preds_test)\\n    )\\n)\\nprint(\\\"Mean squared error of the prediction is: {}\\\".format(mse(y_test, y_preds_test)))\\nprint(\\n    \\\"Root mean squared error of the prediction is: {}\\\".format(\\n        rmse(y_test, y_preds_test)\\n    )\\n)\\nprint(\\n    \\\"Mean absolute percentage error of the prediction is: {}\\\".format(\\n        np.mean(np.abs((y_test - y_preds_test) / y_test)) * 100\\n    )\\n)\";\n",
       "                var nbb_cells = Jupyter.notebook.get_cells();\n",
       "                for (var i = 0; i < nbb_cells.length; ++i) {\n",
       "                    if (nbb_cells[i].input_prompt_number == nbb_cell_id) {\n",
       "                        if (nbb_cells[i].get_text() == nbb_unformatted_code) {\n",
       "                             nbb_cells[i].set_text(nbb_formatted_code);\n",
       "                        }\n",
       "                        break;\n",
       "                    }\n",
       "                }\n",
       "            }, 500);\n",
       "            "
      ],
      "text/plain": [
       "<IPython.core.display.Javascript object>"
      ]
     },
     "metadata": {},
     "output_type": "display_data"
    }
   ],
   "source": [
    "lrm = LinearRegression()\n",
    "\n",
    "lrm.fit(X_train, y_train)\n",
    "\n",
    "# We are making predictions here\n",
    "y_preds_train = lrm.predict(X_train)\n",
    "y_preds_test = lrm.predict(X_test)\n",
    "\n",
    "print(\n",
    "    \"R-squared of the model in training set is: {}\".format(lrm.score(X_train, y_train))\n",
    ")\n",
    "print(\"-----Test set statistics-----\")\n",
    "print(\"R-squared of the model in test set is: {}\".format(lrm.score(X_test, y_test)))\n",
    "print(\n",
    "    \"Mean absolute error of the prediction is: {}\".format(\n",
    "        mean_absolute_error(y_test, y_preds_test)\n",
    "    )\n",
    ")\n",
    "print(\"Mean squared error of the prediction is: {}\".format(mse(y_test, y_preds_test)))\n",
    "print(\n",
    "    \"Root mean squared error of the prediction is: {}\".format(\n",
    "        rmse(y_test, y_preds_test)\n",
    "    )\n",
    ")\n",
    "print(\n",
    "    \"Mean absolute percentage error of the prediction is: {}\".format(\n",
    "        np.mean(np.abs((y_test - y_preds_test) / y_test)) * 100\n",
    "    )\n",
    ")"
   ]
  },
  {
   "cell_type": "markdown",
   "metadata": {},
   "source": [
    "Before adding in the gdp and federal reserve interest rates, our linear regression model evaluated to: \n",
    "\n",
    "R-squared of the model in training set is: 0.8380568201689231\n",
    "\n",
    "-----Test set statistics-----\n",
    "\n",
    "R-squared of the model in test set is: 0.835899234076841\n",
    "\n",
    "Mean absolute error of the prediction is: 0.11747184712690383\n",
    "\n",
    "Mean squared error of the prediction is: 0.025045671844994687\n",
    "\n",
    "Root mean squared error of the prediction is: 0.15825824416122747\n",
    "\n",
    "Mean absolute percentage error of the prediction is: 0.9730359339615233"
   ]
  },
  {
   "cell_type": "markdown",
   "metadata": {},
   "source": [
    "These results look almost exactly the same as the ones that included the gdp and federal reserve interest rates.  Therefore I would conclude that either I did something wrong, or these are not useful features, or their explanatory power was already included in one of the other variables.  "
   ]
  }
 ],
 "metadata": {
  "kernelspec": {
   "display_name": "Python 3",
   "language": "python",
   "name": "python3"
  },
  "language_info": {
   "codemirror_mode": {
    "name": "ipython",
    "version": 3
   },
   "file_extension": ".py",
   "mimetype": "text/x-python",
   "name": "python",
   "nbconvert_exporter": "python",
   "pygments_lexer": "ipython3",
   "version": "3.7.4"
  }
 },
 "nbformat": 4,
 "nbformat_minor": 2
}
