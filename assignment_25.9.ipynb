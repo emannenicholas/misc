{
 "cells": [
  {
   "cell_type": "markdown",
   "metadata": {},
   "source": [
    "# Assignment\n",
    "\n",
    "In this assignment, you continue working with the fashion MNIST dataset. Use the same sample of size 10000 with the previous checkpoint for the sake of comparability. To complete this assignment, submit a link to a Jupyter notebook containing your solutions to the following tasks below, and plan on discussing with your mentor. You can also take a look at these example solutions.\n",
    "\n",
    "1. Load the dataset and make your preprocessing like normalizing the data.\n",
    "\n",
    "2. Apply UMAP to the data.\n",
    "\n",
    "3. Using the two-dimensional UMAP representation, draw a graph of the data by coloring and labeling the data points as we did in the checkpoint.\n",
    "\n",
    "4. Do you think UMAP solution is satisfactory? Can you distinguish between different classes easily? Which one has done a better job: UMAP or the others (t-SNE or PCA) that you applied in the assignments of the previous checkpoints?\n",
    "\n",
    "5. Now, play with the different hyperparameter values of the UMAP and apply UMAP for each of them. Which combination is the best in terms of the two-dimensional representation clarity?"
   ]
  },
  {
   "cell_type": "code",
   "execution_count": null,
   "metadata": {},
   "outputs": [],
   "source": [
    "%reload_ext nb_black"
   ]
  },
  {
   "cell_type": "code",
   "execution_count": null,
   "metadata": {},
   "outputs": [],
   "source": [
    "import numpy as np\n",
    "\n",
    "import time\n",
    "\n",
    "from sklearn.preprocessing import StandardScaler\n",
    "from sklearn.datasets import fetch_openml\n",
    "import umap\n",
    "\n",
    "import matplotlib.pyplot as plt"
   ]
  },
  {
   "cell_type": "markdown",
   "metadata": {},
   "source": [
    "### 1. Load the dataset and make your preprocessing like normalizing the data."
   ]
  },
  {
   "cell_type": "code",
   "execution_count": null,
   "metadata": {},
   "outputs": [],
   "source": [
    "# We load the MNIST dataset below\n",
    "mnist = fetch_openml(\"Fashion-MNIST\", version=1, cache=True)"
   ]
  },
  {
   "cell_type": "code",
   "execution_count": null,
   "metadata": {},
   "outputs": [],
   "source": [
    "np.random.seed(123)\n",
    "\n",
    "indices = np.random.choice(70000, 10000)\n",
    "X = mnist.data[indices] / 255.0\n",
    "y = mnist.target[indices]\n",
    "\n",
    "print(X.shape, y.shape)"
   ]
  },
  {
   "cell_type": "markdown",
   "metadata": {},
   "source": [
    "### 2. Apply UMAP to the data."
   ]
  },
  {
   "cell_type": "code",
   "execution_count": null,
   "metadata": {},
   "outputs": [],
   "source": [
    "time_start = time.time()\n",
    "\n",
    "umap_results = umap.UMAP(\n",
    "    n_neighbors=5, min_dist=0.3, metric=\"correlation\"\n",
    ").fit_transform(X)\n",
    "\n",
    "print(\"UMAP done! Time elapsed: {} seconds\".format(time.time() - time_start))"
   ]
  },
  {
   "cell_type": "markdown",
   "metadata": {},
   "source": [
    "### 3. Using the two-dimensional UMAP representation, draw a graph of the data by coloring and labeling the data points as we did in the checkpoint."
   ]
  },
  {
   "cell_type": "code",
   "execution_count": null,
   "metadata": {},
   "outputs": [],
   "source": [
    "plt.figure(figsize=(10, 5))\n",
    "colours = [\"r\", \"b\", \"g\", \"c\", \"m\", \"y\", \"k\", \"r\", \"burlywood\", \"chartreuse\"]\n",
    "for i in range(umap_results.shape[0]):\n",
    "    plt.text(\n",
    "        umap_results[i, 0],\n",
    "        umap_results[i, 1],\n",
    "        y[i],\n",
    "        color=colours[int(y[i])],\n",
    "        fontdict={\"weight\": \"bold\", \"size\": 50},\n",
    "    )\n",
    "\n",
    "plt.xticks([])\n",
    "plt.yticks([])\n",
    "plt.axis(\"off\")\n",
    "plt.show()"
   ]
  },
  {
   "cell_type": "markdown",
   "metadata": {},
   "source": [
    "### 4. Do you think UMAP solution is satisfactory? Can you distinguish between different classes easily? Which one has done a better job: UMAP or the others (t-SNE or PCA) that you applied in the assignments of the previous checkpoints?"
   ]
  },
  {
   "cell_type": "markdown",
   "metadata": {},
   "source": [
    "Again, some of the classes are easily separable.  Those that are easily separable are even more separated than they were for the t-SNE plot.  And the runtime was dramatically reduced.  However, there are still several classes that are not separated."
   ]
  },
  {
   "cell_type": "markdown",
   "metadata": {},
   "source": [
    "### 5. Now, play with the different hyperparameter values of the UMAP and apply UMAP for each of them. Which combination is the best in terms of the two-dimensional representation clarity?"
   ]
  },
  {
   "cell_type": "code",
   "execution_count": null,
   "metadata": {},
   "outputs": [],
   "source": [
    "n_neighbors = [5, 10, 50, 100, 200]\n",
    "min_dist = [0.1, 0.25, 0.5, 0.75, 0.99]"
   ]
  },
  {
   "cell_type": "code",
   "execution_count": null,
   "metadata": {},
   "outputs": [],
   "source": [
    "for neighbor in n_neighbors:\n",
    "    for dist in min_dist:\n",
    "        print(neighbor, dist)\n",
    "        time_start = time.time()\n",
    "\n",
    "        umap_results = umap.UMAP(\n",
    "            n_neighbors=5, min_dist=0.3, metric=\"correlation\"\n",
    "        ).fit_transform(X)\n",
    "\n",
    "        print(\"UMAP done! Time elapsed: {} seconds\".format(time.time() - time_start))\n",
    "\n",
    "        plt.figure(figsize=(10, 5))\n",
    "        colours = [\"r\", \"b\", \"g\", \"c\", \"m\", \"y\", \"k\", \"r\", \"burlywood\", \"chartreuse\"]\n",
    "        for i in range(umap_results.shape[0]):\n",
    "            plt.text(\n",
    "                umap_results[i, 0],\n",
    "                umap_results[i, 1],\n",
    "                y[i],\n",
    "                color=colours[int(y[i])],\n",
    "                fontdict={\"weight\": \"bold\", \"size\": 50},\n",
    "            )\n",
    "\n",
    "        plt.xticks([])\n",
    "        plt.yticks([])\n",
    "        plt.axis(\"off\")\n",
    "        plt.show()"
   ]
  },
  {
   "cell_type": "markdown",
   "metadata": {},
   "source": [
    "The results don't appear dramatically different from plot to plot as the min_dist and n_neighbors parameters are tuned.  Seems pretty tough to evaluate objectively how well the classes are separated."
   ]
  },
  {
   "cell_type": "code",
   "execution_count": null,
   "metadata": {},
   "outputs": [],
   "source": []
  }
 ],
 "metadata": {
  "kernelspec": {
   "display_name": "Python 3",
   "language": "python",
   "name": "python3"
  },
  "language_info": {
   "codemirror_mode": {
    "name": "ipython",
    "version": 3
   },
   "file_extension": ".py",
   "mimetype": "text/x-python",
   "name": "python",
   "nbconvert_exporter": "python",
   "pygments_lexer": "ipython3",
   "version": "3.7.4"
  }
 },
 "nbformat": 4,
 "nbformat_minor": 2
}
