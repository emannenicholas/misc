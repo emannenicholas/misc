{
 "cells": [
  {
   "cell_type": "markdown",
   "metadata": {},
   "source": [
    "\n",
    "# Challenge - Time Series Analysis\n",
    "\n",
    "Using a different time series data set (either from FRED or elsewhere, go about the process of time series modeling. Specifically generate the following things:\n",
    "\n",
    "* Plot the time series, along with any logical or necessary differences to get a stationary dataset\n",
    "* Generate and interpret a PACF for the time series (and/or its differences)\n",
    "* Generate 5 ARIMA specifications and evaluate their efficacy at modeling your data\n",
    "* Finally choose one specification and make the case for that as a logical model for your dataset.\n",
    "\n",
    "This should come in the form of a notebook with the necessary prose to explain your process. Remember to use the tools of text, visuals, and analysis to tell a clear and concise story with your data.\n",
    "\n"
   ]
  },
  {
   "cell_type": "code",
   "execution_count": 27,
   "metadata": {},
   "outputs": [
    {
     "data": {
      "application/javascript": [
       "\n",
       "            setTimeout(function() {\n",
       "                var nbb_cell_id = 27;\n",
       "                var nbb_unformatted_code = \"%reload_ext nb_black\\n\\nimport pandas as pd\\nimport numpy as np\\n\\nimport scipy\\nfrom datetime import datetime\\nimport datetime as dt\\n\\nimport matplotlib.pyplot as plt\\n\\n%matplotlib inline\\n\\nfrom statsmodels.tsa.stattools import pacf\\nfrom statsmodels.tsa.arima_model import ARIMA\";\n",
       "                var nbb_formatted_code = \"%reload_ext nb_black\\n\\nimport pandas as pd\\nimport numpy as np\\n\\nimport scipy\\nfrom datetime import datetime\\nimport datetime as dt\\n\\nimport matplotlib.pyplot as plt\\n\\n%matplotlib inline\\n\\nfrom statsmodels.tsa.stattools import pacf\\nfrom statsmodels.tsa.arima_model import ARIMA\";\n",
       "                var nbb_cells = Jupyter.notebook.get_cells();\n",
       "                for (var i = 0; i < nbb_cells.length; ++i) {\n",
       "                    if (nbb_cells[i].input_prompt_number == nbb_cell_id) {\n",
       "                        if (nbb_cells[i].get_text() == nbb_unformatted_code) {\n",
       "                             nbb_cells[i].set_text(nbb_formatted_code);\n",
       "                        }\n",
       "                        break;\n",
       "                    }\n",
       "                }\n",
       "            }, 500);\n",
       "            "
      ],
      "text/plain": [
       "<IPython.core.display.Javascript object>"
      ]
     },
     "metadata": {},
     "output_type": "display_data"
    },
    {
     "data": {
      "application/javascript": [
       "\n",
       "            setTimeout(function() {\n",
       "                var nbb_cell_id = 27;\n",
       "                var nbb_unformatted_code = \"%reload_ext nb_black\\n\\nimport pandas as pd\\nimport numpy as np\\n\\nimport scipy\\nfrom datetime import datetime\\nimport datetime as dt\\n\\nimport matplotlib.pyplot as plt\\n\\n%matplotlib inline\\n\\nfrom statsmodels.tsa.stattools import pacf\\nfrom statsmodels.tsa.arima_model import ARIMA\";\n",
       "                var nbb_formatted_code = \"%reload_ext nb_black\\n\\nimport pandas as pd\\nimport numpy as np\\n\\nimport scipy\\nfrom datetime import datetime\\nimport datetime as dt\\n\\nimport matplotlib.pyplot as plt\\n\\n%matplotlib inline\\n\\nfrom statsmodels.tsa.stattools import pacf\\nfrom statsmodels.tsa.arima_model import ARIMA\";\n",
       "                var nbb_cells = Jupyter.notebook.get_cells();\n",
       "                for (var i = 0; i < nbb_cells.length; ++i) {\n",
       "                    if (nbb_cells[i].input_prompt_number == nbb_cell_id) {\n",
       "                        if (nbb_cells[i].get_text() == nbb_unformatted_code) {\n",
       "                             nbb_cells[i].set_text(nbb_formatted_code);\n",
       "                        }\n",
       "                        break;\n",
       "                    }\n",
       "                }\n",
       "            }, 500);\n",
       "            "
      ],
      "text/plain": [
       "<IPython.core.display.Javascript object>"
      ]
     },
     "metadata": {},
     "output_type": "display_data"
    },
    {
     "data": {
      "application/javascript": [
       "\n",
       "            setTimeout(function() {\n",
       "                var nbb_cell_id = 27;\n",
       "                var nbb_unformatted_code = \"%reload_ext nb_black\\n\\nimport pandas as pd\\nimport numpy as np\\n\\nimport scipy\\nfrom datetime import datetime\\nimport datetime as dt\\n\\nimport matplotlib.pyplot as plt\\n\\n%matplotlib inline\\n\\nfrom statsmodels.tsa.stattools import pacf\\nfrom statsmodels.tsa.arima_model import ARIMA\";\n",
       "                var nbb_formatted_code = \"%reload_ext nb_black\\n\\nimport pandas as pd\\nimport numpy as np\\n\\nimport scipy\\nfrom datetime import datetime\\nimport datetime as dt\\n\\nimport matplotlib.pyplot as plt\\n\\n%matplotlib inline\\n\\nfrom statsmodels.tsa.stattools import pacf\\nfrom statsmodels.tsa.arima_model import ARIMA\";\n",
       "                var nbb_cells = Jupyter.notebook.get_cells();\n",
       "                for (var i = 0; i < nbb_cells.length; ++i) {\n",
       "                    if (nbb_cells[i].input_prompt_number == nbb_cell_id) {\n",
       "                        if (nbb_cells[i].get_text() == nbb_unformatted_code) {\n",
       "                             nbb_cells[i].set_text(nbb_formatted_code);\n",
       "                        }\n",
       "                        break;\n",
       "                    }\n",
       "                }\n",
       "            }, 500);\n",
       "            "
      ],
      "text/plain": [
       "<IPython.core.display.Javascript object>"
      ]
     },
     "metadata": {},
     "output_type": "display_data"
    },
    {
     "data": {
      "application/javascript": [
       "\n",
       "            setTimeout(function() {\n",
       "                var nbb_cell_id = 27;\n",
       "                var nbb_unformatted_code = \"%reload_ext nb_black\\n\\nimport pandas as pd\\nimport numpy as np\\n\\nimport scipy\\nfrom datetime import datetime\\nimport datetime as dt\\n\\nimport matplotlib.pyplot as plt\\n\\n%matplotlib inline\\n\\nfrom statsmodels.tsa.stattools import pacf\\nfrom statsmodels.tsa.arima_model import ARIMA\";\n",
       "                var nbb_formatted_code = \"%reload_ext nb_black\\n\\nimport pandas as pd\\nimport numpy as np\\n\\nimport scipy\\nfrom datetime import datetime\\nimport datetime as dt\\n\\nimport matplotlib.pyplot as plt\\n\\n%matplotlib inline\\n\\nfrom statsmodels.tsa.stattools import pacf\\nfrom statsmodels.tsa.arima_model import ARIMA\";\n",
       "                var nbb_cells = Jupyter.notebook.get_cells();\n",
       "                for (var i = 0; i < nbb_cells.length; ++i) {\n",
       "                    if (nbb_cells[i].input_prompt_number == nbb_cell_id) {\n",
       "                        if (nbb_cells[i].get_text() == nbb_unformatted_code) {\n",
       "                             nbb_cells[i].set_text(nbb_formatted_code);\n",
       "                        }\n",
       "                        break;\n",
       "                    }\n",
       "                }\n",
       "            }, 500);\n",
       "            "
      ],
      "text/plain": [
       "<IPython.core.display.Javascript object>"
      ]
     },
     "metadata": {},
     "output_type": "display_data"
    },
    {
     "data": {
      "application/javascript": [
       "\n",
       "            setTimeout(function() {\n",
       "                var nbb_cell_id = 27;\n",
       "                var nbb_unformatted_code = \"%reload_ext nb_black\\n\\nimport pandas as pd\\nimport numpy as np\\n\\nimport scipy\\nfrom datetime import datetime\\nimport datetime as dt\\n\\nimport matplotlib.pyplot as plt\\n\\n%matplotlib inline\\n\\nfrom statsmodels.tsa.stattools import pacf\\nfrom statsmodels.tsa.arima_model import ARIMA\";\n",
       "                var nbb_formatted_code = \"%reload_ext nb_black\\n\\nimport pandas as pd\\nimport numpy as np\\n\\nimport scipy\\nfrom datetime import datetime\\nimport datetime as dt\\n\\nimport matplotlib.pyplot as plt\\n\\n%matplotlib inline\\n\\nfrom statsmodels.tsa.stattools import pacf\\nfrom statsmodels.tsa.arima_model import ARIMA\";\n",
       "                var nbb_cells = Jupyter.notebook.get_cells();\n",
       "                for (var i = 0; i < nbb_cells.length; ++i) {\n",
       "                    if (nbb_cells[i].input_prompt_number == nbb_cell_id) {\n",
       "                        if (nbb_cells[i].get_text() == nbb_unformatted_code) {\n",
       "                             nbb_cells[i].set_text(nbb_formatted_code);\n",
       "                        }\n",
       "                        break;\n",
       "                    }\n",
       "                }\n",
       "            }, 500);\n",
       "            "
      ],
      "text/plain": [
       "<IPython.core.display.Javascript object>"
      ]
     },
     "metadata": {},
     "output_type": "display_data"
    },
    {
     "data": {
      "application/javascript": [
       "\n",
       "            setTimeout(function() {\n",
       "                var nbb_cell_id = 27;\n",
       "                var nbb_unformatted_code = \"%reload_ext nb_black\\n\\nimport pandas as pd\\nimport numpy as np\\n\\nimport scipy\\nfrom datetime import datetime\\nimport datetime as dt\\n\\nimport matplotlib.pyplot as plt\\n\\n%matplotlib inline\\n\\nfrom statsmodels.tsa.stattools import pacf\\nfrom statsmodels.tsa.arima_model import ARIMA\";\n",
       "                var nbb_formatted_code = \"%reload_ext nb_black\\n\\nimport pandas as pd\\nimport numpy as np\\n\\nimport scipy\\nfrom datetime import datetime\\nimport datetime as dt\\n\\nimport matplotlib.pyplot as plt\\n\\n%matplotlib inline\\n\\nfrom statsmodels.tsa.stattools import pacf\\nfrom statsmodels.tsa.arima_model import ARIMA\";\n",
       "                var nbb_cells = Jupyter.notebook.get_cells();\n",
       "                for (var i = 0; i < nbb_cells.length; ++i) {\n",
       "                    if (nbb_cells[i].input_prompt_number == nbb_cell_id) {\n",
       "                        if (nbb_cells[i].get_text() == nbb_unformatted_code) {\n",
       "                             nbb_cells[i].set_text(nbb_formatted_code);\n",
       "                        }\n",
       "                        break;\n",
       "                    }\n",
       "                }\n",
       "            }, 500);\n",
       "            "
      ],
      "text/plain": [
       "<IPython.core.display.Javascript object>"
      ]
     },
     "metadata": {},
     "output_type": "display_data"
    }
   ],
   "source": [
    "%reload_ext nb_black\n",
    "\n",
    "import pandas as pd\n",
    "import numpy as np\n",
    "\n",
    "import scipy\n",
    "from datetime import datetime\n",
    "import datetime as dt\n",
    "\n",
    "import matplotlib.pyplot as plt\n",
    "\n",
    "%matplotlib inline\n",
    "\n",
    "from statsmodels.tsa.stattools import pacf\n",
    "from statsmodels.tsa.arima_model import ARIMA"
   ]
  },
  {
   "cell_type": "markdown",
   "metadata": {},
   "source": [
    "### Chose the unemployent rate time series data from the FRED database"
   ]
  },
  {
   "cell_type": "code",
   "execution_count": 2,
   "metadata": {},
   "outputs": [
    {
     "data": {
      "application/javascript": [
       "\n",
       "            setTimeout(function() {\n",
       "                var nbb_cell_id = 2;\n",
       "                var nbb_unformatted_code = \"df = pd.read_csv('https://fred.stlouisfed.org/graph/fredgraph.csv?bgcolor=%23e1e9f0&chart_type=line&drp=0&fo=open%20sans&graph_bgcolor=%23ffffff&height=450&mode=fred&recession_bars=on&txtcolor=%23444444&ts=12&tts=12&width=1168&nt=0&thu=0&trc=0&show_legend=yes&show_axis_titles=yes&show_tooltip=yes&id=UNRATE&scale=left&cosd=1948-01-01&coed=2020-05-01&line_color=%234572a7&link_values=false&line_style=solid&mark_type=none&mw=3&lw=2&ost=-99999&oet=99999&mma=0&fml=a&fq=Monthly&fam=avg&fgst=lin&fgsnd=2009-06-01&line_index=1&transformation=lin&vintage_date=2020-06-16&revision_date=2020-06-16&nd=1948-01-01')\";\n",
       "                var nbb_formatted_code = \"df = pd.read_csv(\\n    \\\"https://fred.stlouisfed.org/graph/fredgraph.csv?bgcolor=%23e1e9f0&chart_type=line&drp=0&fo=open%20sans&graph_bgcolor=%23ffffff&height=450&mode=fred&recession_bars=on&txtcolor=%23444444&ts=12&tts=12&width=1168&nt=0&thu=0&trc=0&show_legend=yes&show_axis_titles=yes&show_tooltip=yes&id=UNRATE&scale=left&cosd=1948-01-01&coed=2020-05-01&line_color=%234572a7&link_values=false&line_style=solid&mark_type=none&mw=3&lw=2&ost=-99999&oet=99999&mma=0&fml=a&fq=Monthly&fam=avg&fgst=lin&fgsnd=2009-06-01&line_index=1&transformation=lin&vintage_date=2020-06-16&revision_date=2020-06-16&nd=1948-01-01\\\"\\n)\";\n",
       "                var nbb_cells = Jupyter.notebook.get_cells();\n",
       "                for (var i = 0; i < nbb_cells.length; ++i) {\n",
       "                    if (nbb_cells[i].input_prompt_number == nbb_cell_id) {\n",
       "                        if (nbb_cells[i].get_text() == nbb_unformatted_code) {\n",
       "                             nbb_cells[i].set_text(nbb_formatted_code);\n",
       "                        }\n",
       "                        break;\n",
       "                    }\n",
       "                }\n",
       "            }, 500);\n",
       "            "
      ],
      "text/plain": [
       "<IPython.core.display.Javascript object>"
      ]
     },
     "metadata": {},
     "output_type": "display_data"
    }
   ],
   "source": [
    "df = pd.read_csv(\n",
    "    \"https://fred.stlouisfed.org/graph/fredgraph.csv?bgcolor=%23e1e9f0&chart_type=line&drp=0&fo=open%20sans&graph_bgcolor=%23ffffff&height=450&mode=fred&recession_bars=on&txtcolor=%23444444&ts=12&tts=12&width=1168&nt=0&thu=0&trc=0&show_legend=yes&show_axis_titles=yes&show_tooltip=yes&id=UNRATE&scale=left&cosd=1948-01-01&coed=2020-05-01&line_color=%234572a7&link_values=false&line_style=solid&mark_type=none&mw=3&lw=2&ost=-99999&oet=99999&mma=0&fml=a&fq=Monthly&fam=avg&fgst=lin&fgsnd=2009-06-01&line_index=1&transformation=lin&vintage_date=2020-06-16&revision_date=2020-06-16&nd=1948-01-01\"\n",
    ")"
   ]
  },
  {
   "cell_type": "code",
   "execution_count": 3,
   "metadata": {},
   "outputs": [
    {
     "data": {
      "text/html": [
       "<div>\n",
       "<style scoped>\n",
       "    .dataframe tbody tr th:only-of-type {\n",
       "        vertical-align: middle;\n",
       "    }\n",
       "\n",
       "    .dataframe tbody tr th {\n",
       "        vertical-align: top;\n",
       "    }\n",
       "\n",
       "    .dataframe thead th {\n",
       "        text-align: right;\n",
       "    }\n",
       "</style>\n",
       "<table border=\"1\" class=\"dataframe\">\n",
       "  <thead>\n",
       "    <tr style=\"text-align: right;\">\n",
       "      <th></th>\n",
       "      <th>DATE</th>\n",
       "      <th>UNRATE</th>\n",
       "    </tr>\n",
       "  </thead>\n",
       "  <tbody>\n",
       "    <tr>\n",
       "      <th>0</th>\n",
       "      <td>1948-01-01</td>\n",
       "      <td>3.4</td>\n",
       "    </tr>\n",
       "    <tr>\n",
       "      <th>1</th>\n",
       "      <td>1948-02-01</td>\n",
       "      <td>3.8</td>\n",
       "    </tr>\n",
       "    <tr>\n",
       "      <th>2</th>\n",
       "      <td>1948-03-01</td>\n",
       "      <td>4.0</td>\n",
       "    </tr>\n",
       "    <tr>\n",
       "      <th>3</th>\n",
       "      <td>1948-04-01</td>\n",
       "      <td>3.9</td>\n",
       "    </tr>\n",
       "    <tr>\n",
       "      <th>4</th>\n",
       "      <td>1948-05-01</td>\n",
       "      <td>3.5</td>\n",
       "    </tr>\n",
       "  </tbody>\n",
       "</table>\n",
       "</div>"
      ],
      "text/plain": [
       "         DATE  UNRATE\n",
       "0  1948-01-01     3.4\n",
       "1  1948-02-01     3.8\n",
       "2  1948-03-01     4.0\n",
       "3  1948-04-01     3.9\n",
       "4  1948-05-01     3.5"
      ]
     },
     "execution_count": 3,
     "metadata": {},
     "output_type": "execute_result"
    },
    {
     "data": {
      "application/javascript": [
       "\n",
       "            setTimeout(function() {\n",
       "                var nbb_cell_id = 3;\n",
       "                var nbb_unformatted_code = \"df.head()\";\n",
       "                var nbb_formatted_code = \"df.head()\";\n",
       "                var nbb_cells = Jupyter.notebook.get_cells();\n",
       "                for (var i = 0; i < nbb_cells.length; ++i) {\n",
       "                    if (nbb_cells[i].input_prompt_number == nbb_cell_id) {\n",
       "                        if (nbb_cells[i].get_text() == nbb_unformatted_code) {\n",
       "                             nbb_cells[i].set_text(nbb_formatted_code);\n",
       "                        }\n",
       "                        break;\n",
       "                    }\n",
       "                }\n",
       "            }, 500);\n",
       "            "
      ],
      "text/plain": [
       "<IPython.core.display.Javascript object>"
      ]
     },
     "metadata": {},
     "output_type": "display_data"
    }
   ],
   "source": [
    "df.head()"
   ]
  },
  {
   "cell_type": "code",
   "execution_count": 4,
   "metadata": {},
   "outputs": [
    {
     "name": "stdout",
     "output_type": "stream",
     "text": [
      "<class 'pandas.core.frame.DataFrame'>\n",
      "RangeIndex: 869 entries, 0 to 868\n",
      "Data columns (total 2 columns):\n",
      " #   Column  Non-Null Count  Dtype  \n",
      "---  ------  --------------  -----  \n",
      " 0   DATE    869 non-null    object \n",
      " 1   UNRATE  869 non-null    float64\n",
      "dtypes: float64(1), object(1)\n",
      "memory usage: 13.7+ KB\n"
     ]
    },
    {
     "data": {
      "application/javascript": [
       "\n",
       "            setTimeout(function() {\n",
       "                var nbb_cell_id = 4;\n",
       "                var nbb_unformatted_code = \"df.info()\";\n",
       "                var nbb_formatted_code = \"df.info()\";\n",
       "                var nbb_cells = Jupyter.notebook.get_cells();\n",
       "                for (var i = 0; i < nbb_cells.length; ++i) {\n",
       "                    if (nbb_cells[i].input_prompt_number == nbb_cell_id) {\n",
       "                        if (nbb_cells[i].get_text() == nbb_unformatted_code) {\n",
       "                             nbb_cells[i].set_text(nbb_formatted_code);\n",
       "                        }\n",
       "                        break;\n",
       "                    }\n",
       "                }\n",
       "            }, 500);\n",
       "            "
      ],
      "text/plain": [
       "<IPython.core.display.Javascript object>"
      ]
     },
     "metadata": {},
     "output_type": "display_data"
    }
   ],
   "source": [
    "df.info()"
   ]
  },
  {
   "cell_type": "code",
   "execution_count": 5,
   "metadata": {},
   "outputs": [
    {
     "data": {
      "application/javascript": [
       "\n",
       "            setTimeout(function() {\n",
       "                var nbb_cell_id = 5;\n",
       "                var nbb_unformatted_code = \"df[\\\"DATE\\\"] = pd.to_datetime(df[\\\"DATE\\\"])\";\n",
       "                var nbb_formatted_code = \"df[\\\"DATE\\\"] = pd.to_datetime(df[\\\"DATE\\\"])\";\n",
       "                var nbb_cells = Jupyter.notebook.get_cells();\n",
       "                for (var i = 0; i < nbb_cells.length; ++i) {\n",
       "                    if (nbb_cells[i].input_prompt_number == nbb_cell_id) {\n",
       "                        if (nbb_cells[i].get_text() == nbb_unformatted_code) {\n",
       "                             nbb_cells[i].set_text(nbb_formatted_code);\n",
       "                        }\n",
       "                        break;\n",
       "                    }\n",
       "                }\n",
       "            }, 500);\n",
       "            "
      ],
      "text/plain": [
       "<IPython.core.display.Javascript object>"
      ]
     },
     "metadata": {},
     "output_type": "display_data"
    }
   ],
   "source": [
    "#converting DATE to a datetime object\n",
    "df[\"DATE\"] = pd.to_datetime(df[\"DATE\"])"
   ]
  },
  {
   "cell_type": "code",
   "execution_count": 6,
   "metadata": {},
   "outputs": [
    {
     "name": "stdout",
     "output_type": "stream",
     "text": [
      "<class 'pandas.core.frame.DataFrame'>\n",
      "RangeIndex: 869 entries, 0 to 868\n",
      "Data columns (total 2 columns):\n",
      " #   Column  Non-Null Count  Dtype         \n",
      "---  ------  --------------  -----         \n",
      " 0   DATE    869 non-null    datetime64[ns]\n",
      " 1   UNRATE  869 non-null    float64       \n",
      "dtypes: datetime64[ns](1), float64(1)\n",
      "memory usage: 13.7 KB\n"
     ]
    },
    {
     "data": {
      "application/javascript": [
       "\n",
       "            setTimeout(function() {\n",
       "                var nbb_cell_id = 6;\n",
       "                var nbb_unformatted_code = \"df.info()\";\n",
       "                var nbb_formatted_code = \"df.info()\";\n",
       "                var nbb_cells = Jupyter.notebook.get_cells();\n",
       "                for (var i = 0; i < nbb_cells.length; ++i) {\n",
       "                    if (nbb_cells[i].input_prompt_number == nbb_cell_id) {\n",
       "                        if (nbb_cells[i].get_text() == nbb_unformatted_code) {\n",
       "                             nbb_cells[i].set_text(nbb_formatted_code);\n",
       "                        }\n",
       "                        break;\n",
       "                    }\n",
       "                }\n",
       "            }, 500);\n",
       "            "
      ],
      "text/plain": [
       "<IPython.core.display.Javascript object>"
      ]
     },
     "metadata": {},
     "output_type": "display_data"
    }
   ],
   "source": [
    "df.info()"
   ]
  },
  {
   "cell_type": "code",
   "execution_count": 7,
   "metadata": {},
   "outputs": [
    {
     "data": {
      "text/html": [
       "<div>\n",
       "<style scoped>\n",
       "    .dataframe tbody tr th:only-of-type {\n",
       "        vertical-align: middle;\n",
       "    }\n",
       "\n",
       "    .dataframe tbody tr th {\n",
       "        vertical-align: top;\n",
       "    }\n",
       "\n",
       "    .dataframe thead th {\n",
       "        text-align: right;\n",
       "    }\n",
       "</style>\n",
       "<table border=\"1\" class=\"dataframe\">\n",
       "  <thead>\n",
       "    <tr style=\"text-align: right;\">\n",
       "      <th></th>\n",
       "      <th>DATE</th>\n",
       "      <th>UNRATE</th>\n",
       "    </tr>\n",
       "  </thead>\n",
       "  <tbody>\n",
       "    <tr>\n",
       "      <th>0</th>\n",
       "      <td>1948-01-01</td>\n",
       "      <td>3.4</td>\n",
       "    </tr>\n",
       "    <tr>\n",
       "      <th>1</th>\n",
       "      <td>1948-02-01</td>\n",
       "      <td>3.8</td>\n",
       "    </tr>\n",
       "    <tr>\n",
       "      <th>2</th>\n",
       "      <td>1948-03-01</td>\n",
       "      <td>4.0</td>\n",
       "    </tr>\n",
       "    <tr>\n",
       "      <th>3</th>\n",
       "      <td>1948-04-01</td>\n",
       "      <td>3.9</td>\n",
       "    </tr>\n",
       "    <tr>\n",
       "      <th>4</th>\n",
       "      <td>1948-05-01</td>\n",
       "      <td>3.5</td>\n",
       "    </tr>\n",
       "  </tbody>\n",
       "</table>\n",
       "</div>"
      ],
      "text/plain": [
       "        DATE  UNRATE\n",
       "0 1948-01-01     3.4\n",
       "1 1948-02-01     3.8\n",
       "2 1948-03-01     4.0\n",
       "3 1948-04-01     3.9\n",
       "4 1948-05-01     3.5"
      ]
     },
     "execution_count": 7,
     "metadata": {},
     "output_type": "execute_result"
    },
    {
     "data": {
      "application/javascript": [
       "\n",
       "            setTimeout(function() {\n",
       "                var nbb_cell_id = 7;\n",
       "                var nbb_unformatted_code = \"df.head()\";\n",
       "                var nbb_formatted_code = \"df.head()\";\n",
       "                var nbb_cells = Jupyter.notebook.get_cells();\n",
       "                for (var i = 0; i < nbb_cells.length; ++i) {\n",
       "                    if (nbb_cells[i].input_prompt_number == nbb_cell_id) {\n",
       "                        if (nbb_cells[i].get_text() == nbb_unformatted_code) {\n",
       "                             nbb_cells[i].set_text(nbb_formatted_code);\n",
       "                        }\n",
       "                        break;\n",
       "                    }\n",
       "                }\n",
       "            }, 500);\n",
       "            "
      ],
      "text/plain": [
       "<IPython.core.display.Javascript object>"
      ]
     },
     "metadata": {},
     "output_type": "display_data"
    }
   ],
   "source": [
    "df.head()"
   ]
  },
  {
   "cell_type": "markdown",
   "metadata": {},
   "source": [
    "### 1. Plot the time series, along with any logical or necessary differences to get a stationary dataset"
   ]
  },
  {
   "cell_type": "code",
   "execution_count": 19,
   "metadata": {},
   "outputs": [
    {
     "data": {
      "image/png": "[encoded data removed]",
      "text/plain": [
       "<Figure size 720x360 with 1 Axes>"
      ]
     },
     "metadata": {
      "needs_background": "light"
     },
     "output_type": "display_data"
    },
    {
     "data": {
      "application/javascript": [
       "\n",
       "            setTimeout(function() {\n",
       "                var nbb_cell_id = 19;\n",
       "                var nbb_unformatted_code = \"plt.figure(figsize=(10, 5))\\nplt.plot(df[\\\"DATE\\\"], df[\\\"UNRATE\\\"])\\nplt.title(\\\"Unemployment Rate [%]\\\")\\nplt.show()\";\n",
       "                var nbb_formatted_code = \"plt.figure(figsize=(10, 5))\\nplt.plot(df[\\\"DATE\\\"], df[\\\"UNRATE\\\"])\\nplt.title(\\\"Unemployment Rate [%]\\\")\\nplt.show()\";\n",
       "                var nbb_cells = Jupyter.notebook.get_cells();\n",
       "                for (var i = 0; i < nbb_cells.length; ++i) {\n",
       "                    if (nbb_cells[i].input_prompt_number == nbb_cell_id) {\n",
       "                        if (nbb_cells[i].get_text() == nbb_unformatted_code) {\n",
       "                             nbb_cells[i].set_text(nbb_formatted_code);\n",
       "                        }\n",
       "                        break;\n",
       "                    }\n",
       "                }\n",
       "            }, 500);\n",
       "            "
      ],
      "text/plain": [
       "<IPython.core.display.Javascript object>"
      ]
     },
     "metadata": {},
     "output_type": "display_data"
    },
    {
     "data": {
      "application/javascript": [
       "\n",
       "            setTimeout(function() {\n",
       "                var nbb_cell_id = 19;\n",
       "                var nbb_unformatted_code = \"plt.figure(figsize=(10, 5))\\nplt.plot(df[\\\"DATE\\\"], df[\\\"UNRATE\\\"])\\nplt.title(\\\"Unemployment Rate [%]\\\")\\nplt.show()\";\n",
       "                var nbb_formatted_code = \"plt.figure(figsize=(10, 5))\\nplt.plot(df[\\\"DATE\\\"], df[\\\"UNRATE\\\"])\\nplt.title(\\\"Unemployment Rate [%]\\\")\\nplt.show()\";\n",
       "                var nbb_cells = Jupyter.notebook.get_cells();\n",
       "                for (var i = 0; i < nbb_cells.length; ++i) {\n",
       "                    if (nbb_cells[i].input_prompt_number == nbb_cell_id) {\n",
       "                        if (nbb_cells[i].get_text() == nbb_unformatted_code) {\n",
       "                             nbb_cells[i].set_text(nbb_formatted_code);\n",
       "                        }\n",
       "                        break;\n",
       "                    }\n",
       "                }\n",
       "            }, 500);\n",
       "            "
      ],
      "text/plain": [
       "<IPython.core.display.Javascript object>"
      ]
     },
     "metadata": {},
     "output_type": "display_data"
    },
    {
     "data": {
      "application/javascript": [
       "\n",
       "            setTimeout(function() {\n",
       "                var nbb_cell_id = 19;\n",
       "                var nbb_unformatted_code = \"plt.figure(figsize=(10, 5))\\nplt.plot(df[\\\"DATE\\\"], df[\\\"UNRATE\\\"])\\nplt.title(\\\"Unemployment Rate [%]\\\")\\nplt.show()\";\n",
       "                var nbb_formatted_code = \"plt.figure(figsize=(10, 5))\\nplt.plot(df[\\\"DATE\\\"], df[\\\"UNRATE\\\"])\\nplt.title(\\\"Unemployment Rate [%]\\\")\\nplt.show()\";\n",
       "                var nbb_cells = Jupyter.notebook.get_cells();\n",
       "                for (var i = 0; i < nbb_cells.length; ++i) {\n",
       "                    if (nbb_cells[i].input_prompt_number == nbb_cell_id) {\n",
       "                        if (nbb_cells[i].get_text() == nbb_unformatted_code) {\n",
       "                             nbb_cells[i].set_text(nbb_formatted_code);\n",
       "                        }\n",
       "                        break;\n",
       "                    }\n",
       "                }\n",
       "            }, 500);\n",
       "            "
      ],
      "text/plain": [
       "<IPython.core.display.Javascript object>"
      ]
     },
     "metadata": {},
     "output_type": "display_data"
    },
    {
     "data": {
      "application/javascript": [
       "\n",
       "            setTimeout(function() {\n",
       "                var nbb_cell_id = 19;\n",
       "                var nbb_unformatted_code = \"plt.figure(figsize=(10, 5))\\nplt.plot(df[\\\"DATE\\\"], df[\\\"UNRATE\\\"])\\nplt.title(\\\"Unemployment Rate [%]\\\")\\nplt.show()\";\n",
       "                var nbb_formatted_code = \"plt.figure(figsize=(10, 5))\\nplt.plot(df[\\\"DATE\\\"], df[\\\"UNRATE\\\"])\\nplt.title(\\\"Unemployment Rate [%]\\\")\\nplt.show()\";\n",
       "                var nbb_cells = Jupyter.notebook.get_cells();\n",
       "                for (var i = 0; i < nbb_cells.length; ++i) {\n",
       "                    if (nbb_cells[i].input_prompt_number == nbb_cell_id) {\n",
       "                        if (nbb_cells[i].get_text() == nbb_unformatted_code) {\n",
       "                             nbb_cells[i].set_text(nbb_formatted_code);\n",
       "                        }\n",
       "                        break;\n",
       "                    }\n",
       "                }\n",
       "            }, 500);\n",
       "            "
      ],
      "text/plain": [
       "<IPython.core.display.Javascript object>"
      ]
     },
     "metadata": {},
     "output_type": "display_data"
    }
   ],
   "source": [
    "#plotting original data\n",
    "plt.figure(figsize=(10, 5))\n",
    "plt.plot(df[\"DATE\"], df[\"UNRATE\"])\n",
    "plt.title(\"Unemployment Rate [%]\")\n",
    "plt.show()"
   ]
  },
  {
   "cell_type": "code",
   "execution_count": 23,
   "metadata": {},
   "outputs": [
    {
     "data": {
      "image/png": "[encoded data removed]",
      "text/plain": [
       "<Figure size 720x360 with 1 Axes>"
      ]
     },
     "metadata": {
      "needs_background": "light"
     },
     "output_type": "display_data"
    },
    {
     "data": {
      "application/javascript": [
       "\n",
       "            setTimeout(function() {\n",
       "                var nbb_cell_id = 23;\n",
       "                var nbb_unformatted_code = \"df[\\\"diff_1\\\"] = df.UNRATE - df.UNRATE.shift()\\nplt.figure(figsize=(10, 5))\\nplt.plot(df[\\\"DATE\\\"], df[\\\"diff_1\\\"])\\nplt.title(\\\"Unemployment Rate [%]\\\")\\nplt.show()\";\n",
       "                var nbb_formatted_code = \"df[\\\"diff_1\\\"] = df.UNRATE - df.UNRATE.shift()\\nplt.figure(figsize=(10, 5))\\nplt.plot(df[\\\"DATE\\\"], df[\\\"diff_1\\\"])\\nplt.title(\\\"Unemployment Rate [%]\\\")\\nplt.show()\";\n",
       "                var nbb_cells = Jupyter.notebook.get_cells();\n",
       "                for (var i = 0; i < nbb_cells.length; ++i) {\n",
       "                    if (nbb_cells[i].input_prompt_number == nbb_cell_id) {\n",
       "                        if (nbb_cells[i].get_text() == nbb_unformatted_code) {\n",
       "                             nbb_cells[i].set_text(nbb_formatted_code);\n",
       "                        }\n",
       "                        break;\n",
       "                    }\n",
       "                }\n",
       "            }, 500);\n",
       "            "
      ],
      "text/plain": [
       "<IPython.core.display.Javascript object>"
      ]
     },
     "metadata": {},
     "output_type": "display_data"
    },
    {
     "data": {
      "application/javascript": [
       "\n",
       "            setTimeout(function() {\n",
       "                var nbb_cell_id = 23;\n",
       "                var nbb_unformatted_code = \"df[\\\"diff_1\\\"] = df.UNRATE - df.UNRATE.shift()\\nplt.figure(figsize=(10, 5))\\nplt.plot(df[\\\"DATE\\\"], df[\\\"diff_1\\\"])\\nplt.title(\\\"Unemployment Rate [%]\\\")\\nplt.show()\";\n",
       "                var nbb_formatted_code = \"df[\\\"diff_1\\\"] = df.UNRATE - df.UNRATE.shift()\\nplt.figure(figsize=(10, 5))\\nplt.plot(df[\\\"DATE\\\"], df[\\\"diff_1\\\"])\\nplt.title(\\\"Unemployment Rate [%]\\\")\\nplt.show()\";\n",
       "                var nbb_cells = Jupyter.notebook.get_cells();\n",
       "                for (var i = 0; i < nbb_cells.length; ++i) {\n",
       "                    if (nbb_cells[i].input_prompt_number == nbb_cell_id) {\n",
       "                        if (nbb_cells[i].get_text() == nbb_unformatted_code) {\n",
       "                             nbb_cells[i].set_text(nbb_formatted_code);\n",
       "                        }\n",
       "                        break;\n",
       "                    }\n",
       "                }\n",
       "            }, 500);\n",
       "            "
      ],
      "text/plain": [
       "<IPython.core.display.Javascript object>"
      ]
     },
     "metadata": {},
     "output_type": "display_data"
    },
    {
     "data": {
      "application/javascript": [
       "\n",
       "            setTimeout(function() {\n",
       "                var nbb_cell_id = 23;\n",
       "                var nbb_unformatted_code = \"df[\\\"diff_1\\\"] = df.UNRATE - df.UNRATE.shift()\\nplt.figure(figsize=(10, 5))\\nplt.plot(df[\\\"DATE\\\"], df[\\\"diff_1\\\"])\\nplt.title(\\\"Unemployment Rate [%]\\\")\\nplt.show()\";\n",
       "                var nbb_formatted_code = \"df[\\\"diff_1\\\"] = df.UNRATE - df.UNRATE.shift()\\nplt.figure(figsize=(10, 5))\\nplt.plot(df[\\\"DATE\\\"], df[\\\"diff_1\\\"])\\nplt.title(\\\"Unemployment Rate [%]\\\")\\nplt.show()\";\n",
       "                var nbb_cells = Jupyter.notebook.get_cells();\n",
       "                for (var i = 0; i < nbb_cells.length; ++i) {\n",
       "                    if (nbb_cells[i].input_prompt_number == nbb_cell_id) {\n",
       "                        if (nbb_cells[i].get_text() == nbb_unformatted_code) {\n",
       "                             nbb_cells[i].set_text(nbb_formatted_code);\n",
       "                        }\n",
       "                        break;\n",
       "                    }\n",
       "                }\n",
       "            }, 500);\n",
       "            "
      ],
      "text/plain": [
       "<IPython.core.display.Javascript object>"
      ]
     },
     "metadata": {},
     "output_type": "display_data"
    },
    {
     "data": {
      "application/javascript": [
       "\n",
       "            setTimeout(function() {\n",
       "                var nbb_cell_id = 23;\n",
       "                var nbb_unformatted_code = \"df[\\\"diff_1\\\"] = df.UNRATE - df.UNRATE.shift()\\nplt.figure(figsize=(10, 5))\\nplt.plot(df[\\\"DATE\\\"], df[\\\"diff_1\\\"])\\nplt.title(\\\"Unemployment Rate [%]\\\")\\nplt.show()\";\n",
       "                var nbb_formatted_code = \"df[\\\"diff_1\\\"] = df.UNRATE - df.UNRATE.shift()\\nplt.figure(figsize=(10, 5))\\nplt.plot(df[\\\"DATE\\\"], df[\\\"diff_1\\\"])\\nplt.title(\\\"Unemployment Rate [%]\\\")\\nplt.show()\";\n",
       "                var nbb_cells = Jupyter.notebook.get_cells();\n",
       "                for (var i = 0; i < nbb_cells.length; ++i) {\n",
       "                    if (nbb_cells[i].input_prompt_number == nbb_cell_id) {\n",
       "                        if (nbb_cells[i].get_text() == nbb_unformatted_code) {\n",
       "                             nbb_cells[i].set_text(nbb_formatted_code);\n",
       "                        }\n",
       "                        break;\n",
       "                    }\n",
       "                }\n",
       "            }, 500);\n",
       "            "
      ],
      "text/plain": [
       "<IPython.core.display.Javascript object>"
      ]
     },
     "metadata": {},
     "output_type": "display_data"
    }
   ],
   "source": [
    "#taking a difference to make it stationary\n",
    "df[\"diff_1\"] = df.UNRATE - df.UNRATE.shift()\n",
    "plt.figure(figsize=(10, 5))\n",
    "plt.plot(df[\"DATE\"], df[\"diff_1\"])\n",
    "plt.title(\"Unemployment Rate [%]\")\n",
    "plt.show()"
   ]
  },
  {
   "cell_type": "markdown",
   "metadata": {},
   "source": [
    "### Generate and interpret a PACF for the time series (and/or its differences)"
   ]
  },
  {
   "cell_type": "code",
   "execution_count": 25,
   "metadata": {},
   "outputs": [
    {
     "data": {
      "text/plain": [
       "Text(0.5, 1.0, 'Unemploy. Rate PACF')"
      ]
     },
     "execution_count": 25,
     "metadata": {},
     "output_type": "execute_result"
    },
    {
     "data": {
      "image/png": "[encoded data removed]",
      "text/plain": [
       "<Figure size 432x288 with 1 Axes>"
      ]
     },
     "metadata": {
      "needs_background": "light"
     },
     "output_type": "display_data"
    },
    {
     "data": {
      "application/javascript": [
       "\n",
       "            setTimeout(function() {\n",
       "                var nbb_cell_id = 25;\n",
       "                var nbb_unformatted_code = \"x_acf = pd.DataFrame(pacf(df.UNRATE))\\nx_acf.plot(kind='bar')\\nplt.title(\\\"Unemploy. Rate PACF\\\")\";\n",
       "                var nbb_formatted_code = \"x_acf = pd.DataFrame(pacf(df.UNRATE))\\nx_acf.plot(kind=\\\"bar\\\")\\nplt.title(\\\"Unemploy. Rate PACF\\\")\";\n",
       "                var nbb_cells = Jupyter.notebook.get_cells();\n",
       "                for (var i = 0; i < nbb_cells.length; ++i) {\n",
       "                    if (nbb_cells[i].input_prompt_number == nbb_cell_id) {\n",
       "                        if (nbb_cells[i].get_text() == nbb_unformatted_code) {\n",
       "                             nbb_cells[i].set_text(nbb_formatted_code);\n",
       "                        }\n",
       "                        break;\n",
       "                    }\n",
       "                }\n",
       "            }, 500);\n",
       "            "
      ],
      "text/plain": [
       "<IPython.core.display.Javascript object>"
      ]
     },
     "metadata": {},
     "output_type": "display_data"
    },
    {
     "data": {
      "application/javascript": [
       "\n",
       "            setTimeout(function() {\n",
       "                var nbb_cell_id = 25;\n",
       "                var nbb_unformatted_code = \"x_acf = pd.DataFrame(pacf(df.UNRATE))\\nx_acf.plot(kind='bar')\\nplt.title(\\\"Unemploy. Rate PACF\\\")\";\n",
       "                var nbb_formatted_code = \"x_acf = pd.DataFrame(pacf(df.UNRATE))\\nx_acf.plot(kind=\\\"bar\\\")\\nplt.title(\\\"Unemploy. Rate PACF\\\")\";\n",
       "                var nbb_cells = Jupyter.notebook.get_cells();\n",
       "                for (var i = 0; i < nbb_cells.length; ++i) {\n",
       "                    if (nbb_cells[i].input_prompt_number == nbb_cell_id) {\n",
       "                        if (nbb_cells[i].get_text() == nbb_unformatted_code) {\n",
       "                             nbb_cells[i].set_text(nbb_formatted_code);\n",
       "                        }\n",
       "                        break;\n",
       "                    }\n",
       "                }\n",
       "            }, 500);\n",
       "            "
      ],
      "text/plain": [
       "<IPython.core.display.Javascript object>"
      ]
     },
     "metadata": {},
     "output_type": "display_data"
    },
    {
     "data": {
      "application/javascript": [
       "\n",
       "            setTimeout(function() {\n",
       "                var nbb_cell_id = 25;\n",
       "                var nbb_unformatted_code = \"x_acf = pd.DataFrame(pacf(df.UNRATE))\\nx_acf.plot(kind='bar')\\nplt.title(\\\"Unemploy. Rate PACF\\\")\";\n",
       "                var nbb_formatted_code = \"x_acf = pd.DataFrame(pacf(df.UNRATE))\\nx_acf.plot(kind=\\\"bar\\\")\\nplt.title(\\\"Unemploy. Rate PACF\\\")\";\n",
       "                var nbb_cells = Jupyter.notebook.get_cells();\n",
       "                for (var i = 0; i < nbb_cells.length; ++i) {\n",
       "                    if (nbb_cells[i].input_prompt_number == nbb_cell_id) {\n",
       "                        if (nbb_cells[i].get_text() == nbb_unformatted_code) {\n",
       "                             nbb_cells[i].set_text(nbb_formatted_code);\n",
       "                        }\n",
       "                        break;\n",
       "                    }\n",
       "                }\n",
       "            }, 500);\n",
       "            "
      ],
      "text/plain": [
       "<IPython.core.display.Javascript object>"
      ]
     },
     "metadata": {},
     "output_type": "display_data"
    },
    {
     "data": {
      "application/javascript": [
       "\n",
       "            setTimeout(function() {\n",
       "                var nbb_cell_id = 25;\n",
       "                var nbb_unformatted_code = \"x_acf = pd.DataFrame(pacf(df.UNRATE))\\nx_acf.plot(kind='bar')\\nplt.title(\\\"Unemploy. Rate PACF\\\")\";\n",
       "                var nbb_formatted_code = \"x_acf = pd.DataFrame(pacf(df.UNRATE))\\nx_acf.plot(kind=\\\"bar\\\")\\nplt.title(\\\"Unemploy. Rate PACF\\\")\";\n",
       "                var nbb_cells = Jupyter.notebook.get_cells();\n",
       "                for (var i = 0; i < nbb_cells.length; ++i) {\n",
       "                    if (nbb_cells[i].input_prompt_number == nbb_cell_id) {\n",
       "                        if (nbb_cells[i].get_text() == nbb_unformatted_code) {\n",
       "                             nbb_cells[i].set_text(nbb_formatted_code);\n",
       "                        }\n",
       "                        break;\n",
       "                    }\n",
       "                }\n",
       "            }, 500);\n",
       "            "
      ],
      "text/plain": [
       "<IPython.core.display.Javascript object>"
      ]
     },
     "metadata": {},
     "output_type": "display_data"
    },
    {
     "data": {
      "application/javascript": [
       "\n",
       "            setTimeout(function() {\n",
       "                var nbb_cell_id = 25;\n",
       "                var nbb_unformatted_code = \"x_acf = pd.DataFrame(pacf(df.UNRATE))\\nx_acf.plot(kind='bar')\\nplt.title(\\\"Unemploy. Rate PACF\\\")\";\n",
       "                var nbb_formatted_code = \"x_acf = pd.DataFrame(pacf(df.UNRATE))\\nx_acf.plot(kind=\\\"bar\\\")\\nplt.title(\\\"Unemploy. Rate PACF\\\")\";\n",
       "                var nbb_cells = Jupyter.notebook.get_cells();\n",
       "                for (var i = 0; i < nbb_cells.length; ++i) {\n",
       "                    if (nbb_cells[i].input_prompt_number == nbb_cell_id) {\n",
       "                        if (nbb_cells[i].get_text() == nbb_unformatted_code) {\n",
       "                             nbb_cells[i].set_text(nbb_formatted_code);\n",
       "                        }\n",
       "                        break;\n",
       "                    }\n",
       "                }\n",
       "            }, 500);\n",
       "            "
      ],
      "text/plain": [
       "<IPython.core.display.Javascript object>"
      ]
     },
     "metadata": {},
     "output_type": "display_data"
    }
   ],
   "source": [
    "#looking at the pacf of the time series\n",
    "\n",
    "x_acf = pd.DataFrame(pacf(df.UNRATE))\n",
    "x_acf.plot(kind=\"bar\")\n",
    "plt.title(\"Unemploy. Rate PACF\")"
   ]
  },
  {
   "cell_type": "code",
   "execution_count": 26,
   "metadata": {},
   "outputs": [
    {
     "data": {
      "text/plain": [
       "<matplotlib.legend.Legend at 0x123a36410>"
      ]
     },
     "execution_count": 26,
     "metadata": {},
     "output_type": "execute_result"
    },
    {
     "data": {
      "image/png": "[encoded data removed]",
      "text/plain": [
       "<Figure size 432x288 with 1 Axes>"
      ]
     },
     "metadata": {
      "needs_background": "light"
     },
     "output_type": "display_data"
    },
    {
     "data": {
      "application/javascript": [
       "\n",
       "            setTimeout(function() {\n",
       "                var nbb_cell_id = 26;\n",
       "                var nbb_unformatted_code = \"#looking at the pacf of the differenced data\\n\\nx_acf = pd.DataFrame(pacf(df.diff_1[1:]))\\nx_acf.plot(kind='bar')\\nplt.title(\\\"Unemploy. Diff PACF\\\")\\nplt.legend(['difference'])\";\n",
       "                var nbb_formatted_code = \"# looking at the pacf of the differenced data\\n\\nx_acf = pd.DataFrame(pacf(df.diff_1[1:]))\\nx_acf.plot(kind=\\\"bar\\\")\\nplt.title(\\\"Unemploy. Diff PACF\\\")\\nplt.legend([\\\"difference\\\"])\";\n",
       "                var nbb_cells = Jupyter.notebook.get_cells();\n",
       "                for (var i = 0; i < nbb_cells.length; ++i) {\n",
       "                    if (nbb_cells[i].input_prompt_number == nbb_cell_id) {\n",
       "                        if (nbb_cells[i].get_text() == nbb_unformatted_code) {\n",
       "                             nbb_cells[i].set_text(nbb_formatted_code);\n",
       "                        }\n",
       "                        break;\n",
       "                    }\n",
       "                }\n",
       "            }, 500);\n",
       "            "
      ],
      "text/plain": [
       "<IPython.core.display.Javascript object>"
      ]
     },
     "metadata": {},
     "output_type": "display_data"
    },
    {
     "data": {
      "application/javascript": [
       "\n",
       "            setTimeout(function() {\n",
       "                var nbb_cell_id = 26;\n",
       "                var nbb_unformatted_code = \"#looking at the pacf of the differenced data\\n\\nx_acf = pd.DataFrame(pacf(df.diff_1[1:]))\\nx_acf.plot(kind='bar')\\nplt.title(\\\"Unemploy. Diff PACF\\\")\\nplt.legend(['difference'])\";\n",
       "                var nbb_formatted_code = \"# looking at the pacf of the differenced data\\n\\nx_acf = pd.DataFrame(pacf(df.diff_1[1:]))\\nx_acf.plot(kind=\\\"bar\\\")\\nplt.title(\\\"Unemploy. Diff PACF\\\")\\nplt.legend([\\\"difference\\\"])\";\n",
       "                var nbb_cells = Jupyter.notebook.get_cells();\n",
       "                for (var i = 0; i < nbb_cells.length; ++i) {\n",
       "                    if (nbb_cells[i].input_prompt_number == nbb_cell_id) {\n",
       "                        if (nbb_cells[i].get_text() == nbb_unformatted_code) {\n",
       "                             nbb_cells[i].set_text(nbb_formatted_code);\n",
       "                        }\n",
       "                        break;\n",
       "                    }\n",
       "                }\n",
       "            }, 500);\n",
       "            "
      ],
      "text/plain": [
       "<IPython.core.display.Javascript object>"
      ]
     },
     "metadata": {},
     "output_type": "display_data"
    },
    {
     "data": {
      "application/javascript": [
       "\n",
       "            setTimeout(function() {\n",
       "                var nbb_cell_id = 26;\n",
       "                var nbb_unformatted_code = \"#looking at the pacf of the differenced data\\n\\nx_acf = pd.DataFrame(pacf(df.diff_1[1:]))\\nx_acf.plot(kind='bar')\\nplt.title(\\\"Unemploy. Diff PACF\\\")\\nplt.legend(['difference'])\";\n",
       "                var nbb_formatted_code = \"# looking at the pacf of the differenced data\\n\\nx_acf = pd.DataFrame(pacf(df.diff_1[1:]))\\nx_acf.plot(kind=\\\"bar\\\")\\nplt.title(\\\"Unemploy. Diff PACF\\\")\\nplt.legend([\\\"difference\\\"])\";\n",
       "                var nbb_cells = Jupyter.notebook.get_cells();\n",
       "                for (var i = 0; i < nbb_cells.length; ++i) {\n",
       "                    if (nbb_cells[i].input_prompt_number == nbb_cell_id) {\n",
       "                        if (nbb_cells[i].get_text() == nbb_unformatted_code) {\n",
       "                             nbb_cells[i].set_text(nbb_formatted_code);\n",
       "                        }\n",
       "                        break;\n",
       "                    }\n",
       "                }\n",
       "            }, 500);\n",
       "            "
      ],
      "text/plain": [
       "<IPython.core.display.Javascript object>"
      ]
     },
     "metadata": {},
     "output_type": "display_data"
    },
    {
     "data": {
      "application/javascript": [
       "\n",
       "            setTimeout(function() {\n",
       "                var nbb_cell_id = 26;\n",
       "                var nbb_unformatted_code = \"#looking at the pacf of the differenced data\\n\\nx_acf = pd.DataFrame(pacf(df.diff_1[1:]))\\nx_acf.plot(kind='bar')\\nplt.title(\\\"Unemploy. Diff PACF\\\")\\nplt.legend(['difference'])\";\n",
       "                var nbb_formatted_code = \"# looking at the pacf of the differenced data\\n\\nx_acf = pd.DataFrame(pacf(df.diff_1[1:]))\\nx_acf.plot(kind=\\\"bar\\\")\\nplt.title(\\\"Unemploy. Diff PACF\\\")\\nplt.legend([\\\"difference\\\"])\";\n",
       "                var nbb_cells = Jupyter.notebook.get_cells();\n",
       "                for (var i = 0; i < nbb_cells.length; ++i) {\n",
       "                    if (nbb_cells[i].input_prompt_number == nbb_cell_id) {\n",
       "                        if (nbb_cells[i].get_text() == nbb_unformatted_code) {\n",
       "                             nbb_cells[i].set_text(nbb_formatted_code);\n",
       "                        }\n",
       "                        break;\n",
       "                    }\n",
       "                }\n",
       "            }, 500);\n",
       "            "
      ],
      "text/plain": [
       "<IPython.core.display.Javascript object>"
      ]
     },
     "metadata": {},
     "output_type": "display_data"
    },
    {
     "data": {
      "application/javascript": [
       "\n",
       "            setTimeout(function() {\n",
       "                var nbb_cell_id = 26;\n",
       "                var nbb_unformatted_code = \"#looking at the pacf of the differenced data\\n\\nx_acf = pd.DataFrame(pacf(df.diff_1[1:]))\\nx_acf.plot(kind='bar')\\nplt.title(\\\"Unemploy. Diff PACF\\\")\\nplt.legend(['difference'])\";\n",
       "                var nbb_formatted_code = \"# looking at the pacf of the differenced data\\n\\nx_acf = pd.DataFrame(pacf(df.diff_1[1:]))\\nx_acf.plot(kind=\\\"bar\\\")\\nplt.title(\\\"Unemploy. Diff PACF\\\")\\nplt.legend([\\\"difference\\\"])\";\n",
       "                var nbb_cells = Jupyter.notebook.get_cells();\n",
       "                for (var i = 0; i < nbb_cells.length; ++i) {\n",
       "                    if (nbb_cells[i].input_prompt_number == nbb_cell_id) {\n",
       "                        if (nbb_cells[i].get_text() == nbb_unformatted_code) {\n",
       "                             nbb_cells[i].set_text(nbb_formatted_code);\n",
       "                        }\n",
       "                        break;\n",
       "                    }\n",
       "                }\n",
       "            }, 500);\n",
       "            "
      ],
      "text/plain": [
       "<IPython.core.display.Javascript object>"
      ]
     },
     "metadata": {},
     "output_type": "display_data"
    }
   ],
   "source": [
    "# looking at the pacf of the differenced data\n",
    "x_acf = pd.DataFrame(pacf(df.diff_1[1:]))\n",
    "x_acf.plot(kind=\"bar\")\n",
    "plt.title(\"Unemploy. Diff PACF\")\n",
    "plt.legend([\"difference\"])"
   ]
  },
  {
   "cell_type": "markdown",
   "metadata": {},
   "source": [
    "Interpretation: The initial time series has two strong auto correlations, but the differenced data has none."
   ]
  },
  {
   "cell_type": "markdown",
   "metadata": {},
   "source": [
    "### 3. Generate 5 ARIMA specifications and evaluate their efficacy at modeling your data"
   ]
  },
  {
   "cell_type": "code",
   "execution_count": 31,
   "metadata": {},
   "outputs": [
    {
     "name": "stdout",
     "output_type": "stream",
     "text": [
      "                             ARIMA Model Results                              \n",
      "==============================================================================\n",
      "Dep. Variable:               D.UNRATE   No. Observations:                  868\n",
      "Model:                 ARIMA(0, 1, 0)   Log Likelihood                -458.166\n",
      "Method:                           css   S.D. of innovations              0.410\n",
      "Date:                Wed, 17 Jun 2020   AIC                            920.333\n",
      "Time:                        15:00:38   BIC                            929.865\n",
      "Sample:                             1   HQIC                           923.981\n",
      "                                                                              \n",
      "==============================================================================\n",
      "                 coef    std err          z      P>|z|      [0.025      0.975]\n",
      "------------------------------------------------------------------------------\n",
      "const          0.0114      0.014      0.819      0.413      -0.016       0.039\n",
      "==============================================================================\n",
      "Residuals Description\n",
      "count    8.680000e+02\n",
      "mean     6.203526e-10\n",
      "std      4.104420e-01\n",
      "min     -1.511406e+00\n",
      "25%     -1.114055e-01\n",
      "50%     -1.140553e-02\n",
      "75%      8.859447e-02\n",
      "max      1.028859e+01\n",
      "dtype: float64\n"
     ]
    },
    {
     "data": {
      "application/javascript": [
       "\n",
       "            setTimeout(function() {\n",
       "                var nbb_cell_id = 31;\n",
       "                var nbb_unformatted_code = \"# generating ARIMA models\\nmodel = ARIMA(df.UNRATE, order=(0, 1, 0))\\nmodel_fit = model.fit()\\nprint(model_fit.summary())\\nprint(\\\"Residuals Description\\\")\\nprint(model_fit.resid.describe())\";\n",
       "                var nbb_formatted_code = \"# generating ARIMA models\\nmodel = ARIMA(df.UNRATE, order=(0, 1, 0))\\nmodel_fit = model.fit()\\nprint(model_fit.summary())\\nprint(\\\"Residuals Description\\\")\\nprint(model_fit.resid.describe())\";\n",
       "                var nbb_cells = Jupyter.notebook.get_cells();\n",
       "                for (var i = 0; i < nbb_cells.length; ++i) {\n",
       "                    if (nbb_cells[i].input_prompt_number == nbb_cell_id) {\n",
       "                        if (nbb_cells[i].get_text() == nbb_unformatted_code) {\n",
       "                             nbb_cells[i].set_text(nbb_formatted_code);\n",
       "                        }\n",
       "                        break;\n",
       "                    }\n",
       "                }\n",
       "            }, 500);\n",
       "            "
      ],
      "text/plain": [
       "<IPython.core.display.Javascript object>"
      ]
     },
     "metadata": {},
     "output_type": "display_data"
    },
    {
     "data": {
      "application/javascript": [
       "\n",
       "            setTimeout(function() {\n",
       "                var nbb_cell_id = 31;\n",
       "                var nbb_unformatted_code = \"# generating ARIMA models\\nmodel = ARIMA(df.UNRATE, order=(0, 1, 0))\\nmodel_fit = model.fit()\\nprint(model_fit.summary())\\nprint(\\\"Residuals Description\\\")\\nprint(model_fit.resid.describe())\";\n",
       "                var nbb_formatted_code = \"# generating ARIMA models\\nmodel = ARIMA(df.UNRATE, order=(0, 1, 0))\\nmodel_fit = model.fit()\\nprint(model_fit.summary())\\nprint(\\\"Residuals Description\\\")\\nprint(model_fit.resid.describe())\";\n",
       "                var nbb_cells = Jupyter.notebook.get_cells();\n",
       "                for (var i = 0; i < nbb_cells.length; ++i) {\n",
       "                    if (nbb_cells[i].input_prompt_number == nbb_cell_id) {\n",
       "                        if (nbb_cells[i].get_text() == nbb_unformatted_code) {\n",
       "                             nbb_cells[i].set_text(nbb_formatted_code);\n",
       "                        }\n",
       "                        break;\n",
       "                    }\n",
       "                }\n",
       "            }, 500);\n",
       "            "
      ],
      "text/plain": [
       "<IPython.core.display.Javascript object>"
      ]
     },
     "metadata": {},
     "output_type": "display_data"
    },
    {
     "data": {
      "application/javascript": [
       "\n",
       "            setTimeout(function() {\n",
       "                var nbb_cell_id = 31;\n",
       "                var nbb_unformatted_code = \"# generating ARIMA models\\nmodel = ARIMA(df.UNRATE, order=(0, 1, 0))\\nmodel_fit = model.fit()\\nprint(model_fit.summary())\\nprint(\\\"Residuals Description\\\")\\nprint(model_fit.resid.describe())\";\n",
       "                var nbb_formatted_code = \"# generating ARIMA models\\nmodel = ARIMA(df.UNRATE, order=(0, 1, 0))\\nmodel_fit = model.fit()\\nprint(model_fit.summary())\\nprint(\\\"Residuals Description\\\")\\nprint(model_fit.resid.describe())\";\n",
       "                var nbb_cells = Jupyter.notebook.get_cells();\n",
       "                for (var i = 0; i < nbb_cells.length; ++i) {\n",
       "                    if (nbb_cells[i].input_prompt_number == nbb_cell_id) {\n",
       "                        if (nbb_cells[i].get_text() == nbb_unformatted_code) {\n",
       "                             nbb_cells[i].set_text(nbb_formatted_code);\n",
       "                        }\n",
       "                        break;\n",
       "                    }\n",
       "                }\n",
       "            }, 500);\n",
       "            "
      ],
      "text/plain": [
       "<IPython.core.display.Javascript object>"
      ]
     },
     "metadata": {},
     "output_type": "display_data"
    },
    {
     "data": {
      "application/javascript": [
       "\n",
       "            setTimeout(function() {\n",
       "                var nbb_cell_id = 31;\n",
       "                var nbb_unformatted_code = \"# generating ARIMA models\\nmodel = ARIMA(df.UNRATE, order=(0, 1, 0))\\nmodel_fit = model.fit()\\nprint(model_fit.summary())\\nprint(\\\"Residuals Description\\\")\\nprint(model_fit.resid.describe())\";\n",
       "                var nbb_formatted_code = \"# generating ARIMA models\\nmodel = ARIMA(df.UNRATE, order=(0, 1, 0))\\nmodel_fit = model.fit()\\nprint(model_fit.summary())\\nprint(\\\"Residuals Description\\\")\\nprint(model_fit.resid.describe())\";\n",
       "                var nbb_cells = Jupyter.notebook.get_cells();\n",
       "                for (var i = 0; i < nbb_cells.length; ++i) {\n",
       "                    if (nbb_cells[i].input_prompt_number == nbb_cell_id) {\n",
       "                        if (nbb_cells[i].get_text() == nbb_unformatted_code) {\n",
       "                             nbb_cells[i].set_text(nbb_formatted_code);\n",
       "                        }\n",
       "                        break;\n",
       "                    }\n",
       "                }\n",
       "            }, 500);\n",
       "            "
      ],
      "text/plain": [
       "<IPython.core.display.Javascript object>"
      ]
     },
     "metadata": {},
     "output_type": "display_data"
    },
    {
     "data": {
      "application/javascript": [
       "\n",
       "            setTimeout(function() {\n",
       "                var nbb_cell_id = 31;\n",
       "                var nbb_unformatted_code = \"# generating ARIMA models\\nmodel = ARIMA(df.UNRATE, order=(0, 1, 0))\\nmodel_fit = model.fit()\\nprint(model_fit.summary())\\nprint(\\\"Residuals Description\\\")\\nprint(model_fit.resid.describe())\";\n",
       "                var nbb_formatted_code = \"# generating ARIMA models\\nmodel = ARIMA(df.UNRATE, order=(0, 1, 0))\\nmodel_fit = model.fit()\\nprint(model_fit.summary())\\nprint(\\\"Residuals Description\\\")\\nprint(model_fit.resid.describe())\";\n",
       "                var nbb_cells = Jupyter.notebook.get_cells();\n",
       "                for (var i = 0; i < nbb_cells.length; ++i) {\n",
       "                    if (nbb_cells[i].input_prompt_number == nbb_cell_id) {\n",
       "                        if (nbb_cells[i].get_text() == nbb_unformatted_code) {\n",
       "                             nbb_cells[i].set_text(nbb_formatted_code);\n",
       "                        }\n",
       "                        break;\n",
       "                    }\n",
       "                }\n",
       "            }, 500);\n",
       "            "
      ],
      "text/plain": [
       "<IPython.core.display.Javascript object>"
      ]
     },
     "metadata": {},
     "output_type": "display_data"
    },
    {
     "data": {
      "application/javascript": [
       "\n",
       "            setTimeout(function() {\n",
       "                var nbb_cell_id = 31;\n",
       "                var nbb_unformatted_code = \"# generating ARIMA models\\nmodel = ARIMA(df.UNRATE, order=(0, 1, 0))\\nmodel_fit = model.fit()\\nprint(model_fit.summary())\\nprint(\\\"Residuals Description\\\")\\nprint(model_fit.resid.describe())\";\n",
       "                var nbb_formatted_code = \"# generating ARIMA models\\nmodel = ARIMA(df.UNRATE, order=(0, 1, 0))\\nmodel_fit = model.fit()\\nprint(model_fit.summary())\\nprint(\\\"Residuals Description\\\")\\nprint(model_fit.resid.describe())\";\n",
       "                var nbb_cells = Jupyter.notebook.get_cells();\n",
       "                for (var i = 0; i < nbb_cells.length; ++i) {\n",
       "                    if (nbb_cells[i].input_prompt_number == nbb_cell_id) {\n",
       "                        if (nbb_cells[i].get_text() == nbb_unformatted_code) {\n",
       "                             nbb_cells[i].set_text(nbb_formatted_code);\n",
       "                        }\n",
       "                        break;\n",
       "                    }\n",
       "                }\n",
       "            }, 500);\n",
       "            "
      ],
      "text/plain": [
       "<IPython.core.display.Javascript object>"
      ]
     },
     "metadata": {},
     "output_type": "display_data"
    }
   ],
   "source": [
    "# generating ARIMA models\n",
    "model = ARIMA(df.UNRATE, order=(0, 1, 0))\n",
    "model_fit = model.fit()\n",
    "print(model_fit.summary())\n",
    "print(\"Residuals Description\")\n",
    "print(model_fit.resid.describe())"
   ]
  },
  {
   "cell_type": "code",
   "execution_count": 33,
   "metadata": {},
   "outputs": [
    {
     "name": "stdout",
     "output_type": "stream",
     "text": [
      "                             ARIMA Model Results                              \n",
      "==============================================================================\n",
      "Dep. Variable:               D.UNRATE   No. Observations:                  868\n",
      "Model:                 ARIMA(1, 1, 0)   Log Likelihood                -458.141\n",
      "Method:                       css-mle   S.D. of innovations              0.410\n",
      "Date:                Wed, 17 Jun 2020   AIC                            922.282\n",
      "Time:                        15:00:46   BIC                            936.580\n",
      "Sample:                             1   HQIC                           927.753\n",
      "                                                                              \n",
      "==================================================================================\n",
      "                     coef    std err          z      P>|z|      [0.025      0.975]\n",
      "----------------------------------------------------------------------------------\n",
      "const              0.0114      0.014      0.826      0.409      -0.016       0.038\n",
      "ar.L1.D.UNRATE    -0.0077      0.034     -0.226      0.821      -0.075       0.059\n",
      "                                    Roots                                    \n",
      "=============================================================================\n",
      "                  Real          Imaginary           Modulus         Frequency\n",
      "-----------------------------------------------------------------------------\n",
      "AR.1         -129.2843           +0.0000j          129.2843            0.5000\n",
      "-----------------------------------------------------------------------------\n",
      "Residuals Description\n",
      "count    868.000000\n",
      "mean       0.000003\n",
      "std        0.410430\n",
      "min       -1.501448\n",
      "25%       -0.112276\n",
      "50%       -0.012276\n",
      "75%        0.088497\n",
      "max       10.295459\n",
      "dtype: float64\n"
     ]
    },
    {
     "data": {
      "application/javascript": [
       "\n",
       "            setTimeout(function() {\n",
       "                var nbb_cell_id = 33;\n",
       "                var nbb_unformatted_code = \"# generating ARIMA models\\nmodel = ARIMA(df.UNRATE, order=(1, 1, 0))\\nmodel_fit = model.fit()\\nprint(model_fit.summary())\\nprint(\\\"Residuals Description\\\")\\nprint(model_fit.resid.describe())\";\n",
       "                var nbb_formatted_code = \"# generating ARIMA models\\nmodel = ARIMA(df.UNRATE, order=(1, 1, 0))\\nmodel_fit = model.fit()\\nprint(model_fit.summary())\\nprint(\\\"Residuals Description\\\")\\nprint(model_fit.resid.describe())\";\n",
       "                var nbb_cells = Jupyter.notebook.get_cells();\n",
       "                for (var i = 0; i < nbb_cells.length; ++i) {\n",
       "                    if (nbb_cells[i].input_prompt_number == nbb_cell_id) {\n",
       "                        if (nbb_cells[i].get_text() == nbb_unformatted_code) {\n",
       "                             nbb_cells[i].set_text(nbb_formatted_code);\n",
       "                        }\n",
       "                        break;\n",
       "                    }\n",
       "                }\n",
       "            }, 500);\n",
       "            "
      ],
      "text/plain": [
       "<IPython.core.display.Javascript object>"
      ]
     },
     "metadata": {},
     "output_type": "display_data"
    },
    {
     "data": {
      "application/javascript": [
       "\n",
       "            setTimeout(function() {\n",
       "                var nbb_cell_id = 33;\n",
       "                var nbb_unformatted_code = \"# generating ARIMA models\\nmodel = ARIMA(df.UNRATE, order=(1, 1, 0))\\nmodel_fit = model.fit()\\nprint(model_fit.summary())\\nprint(\\\"Residuals Description\\\")\\nprint(model_fit.resid.describe())\";\n",
       "                var nbb_formatted_code = \"# generating ARIMA models\\nmodel = ARIMA(df.UNRATE, order=(1, 1, 0))\\nmodel_fit = model.fit()\\nprint(model_fit.summary())\\nprint(\\\"Residuals Description\\\")\\nprint(model_fit.resid.describe())\";\n",
       "                var nbb_cells = Jupyter.notebook.get_cells();\n",
       "                for (var i = 0; i < nbb_cells.length; ++i) {\n",
       "                    if (nbb_cells[i].input_prompt_number == nbb_cell_id) {\n",
       "                        if (nbb_cells[i].get_text() == nbb_unformatted_code) {\n",
       "                             nbb_cells[i].set_text(nbb_formatted_code);\n",
       "                        }\n",
       "                        break;\n",
       "                    }\n",
       "                }\n",
       "            }, 500);\n",
       "            "
      ],
      "text/plain": [
       "<IPython.core.display.Javascript object>"
      ]
     },
     "metadata": {},
     "output_type": "display_data"
    },
    {
     "data": {
      "application/javascript": [
       "\n",
       "            setTimeout(function() {\n",
       "                var nbb_cell_id = 33;\n",
       "                var nbb_unformatted_code = \"# generating ARIMA models\\nmodel = ARIMA(df.UNRATE, order=(1, 1, 0))\\nmodel_fit = model.fit()\\nprint(model_fit.summary())\\nprint(\\\"Residuals Description\\\")\\nprint(model_fit.resid.describe())\";\n",
       "                var nbb_formatted_code = \"# generating ARIMA models\\nmodel = ARIMA(df.UNRATE, order=(1, 1, 0))\\nmodel_fit = model.fit()\\nprint(model_fit.summary())\\nprint(\\\"Residuals Description\\\")\\nprint(model_fit.resid.describe())\";\n",
       "                var nbb_cells = Jupyter.notebook.get_cells();\n",
       "                for (var i = 0; i < nbb_cells.length; ++i) {\n",
       "                    if (nbb_cells[i].input_prompt_number == nbb_cell_id) {\n",
       "                        if (nbb_cells[i].get_text() == nbb_unformatted_code) {\n",
       "                             nbb_cells[i].set_text(nbb_formatted_code);\n",
       "                        }\n",
       "                        break;\n",
       "                    }\n",
       "                }\n",
       "            }, 500);\n",
       "            "
      ],
      "text/plain": [
       "<IPython.core.display.Javascript object>"
      ]
     },
     "metadata": {},
     "output_type": "display_data"
    },
    {
     "data": {
      "application/javascript": [
       "\n",
       "            setTimeout(function() {\n",
       "                var nbb_cell_id = 33;\n",
       "                var nbb_unformatted_code = \"# generating ARIMA models\\nmodel = ARIMA(df.UNRATE, order=(1, 1, 0))\\nmodel_fit = model.fit()\\nprint(model_fit.summary())\\nprint(\\\"Residuals Description\\\")\\nprint(model_fit.resid.describe())\";\n",
       "                var nbb_formatted_code = \"# generating ARIMA models\\nmodel = ARIMA(df.UNRATE, order=(1, 1, 0))\\nmodel_fit = model.fit()\\nprint(model_fit.summary())\\nprint(\\\"Residuals Description\\\")\\nprint(model_fit.resid.describe())\";\n",
       "                var nbb_cells = Jupyter.notebook.get_cells();\n",
       "                for (var i = 0; i < nbb_cells.length; ++i) {\n",
       "                    if (nbb_cells[i].input_prompt_number == nbb_cell_id) {\n",
       "                        if (nbb_cells[i].get_text() == nbb_unformatted_code) {\n",
       "                             nbb_cells[i].set_text(nbb_formatted_code);\n",
       "                        }\n",
       "                        break;\n",
       "                    }\n",
       "                }\n",
       "            }, 500);\n",
       "            "
      ],
      "text/plain": [
       "<IPython.core.display.Javascript object>"
      ]
     },
     "metadata": {},
     "output_type": "display_data"
    },
    {
     "data": {
      "application/javascript": [
       "\n",
       "            setTimeout(function() {\n",
       "                var nbb_cell_id = 33;\n",
       "                var nbb_unformatted_code = \"# generating ARIMA models\\nmodel = ARIMA(df.UNRATE, order=(1, 1, 0))\\nmodel_fit = model.fit()\\nprint(model_fit.summary())\\nprint(\\\"Residuals Description\\\")\\nprint(model_fit.resid.describe())\";\n",
       "                var nbb_formatted_code = \"# generating ARIMA models\\nmodel = ARIMA(df.UNRATE, order=(1, 1, 0))\\nmodel_fit = model.fit()\\nprint(model_fit.summary())\\nprint(\\\"Residuals Description\\\")\\nprint(model_fit.resid.describe())\";\n",
       "                var nbb_cells = Jupyter.notebook.get_cells();\n",
       "                for (var i = 0; i < nbb_cells.length; ++i) {\n",
       "                    if (nbb_cells[i].input_prompt_number == nbb_cell_id) {\n",
       "                        if (nbb_cells[i].get_text() == nbb_unformatted_code) {\n",
       "                             nbb_cells[i].set_text(nbb_formatted_code);\n",
       "                        }\n",
       "                        break;\n",
       "                    }\n",
       "                }\n",
       "            }, 500);\n",
       "            "
      ],
      "text/plain": [
       "<IPython.core.display.Javascript object>"
      ]
     },
     "metadata": {},
     "output_type": "display_data"
    },
    {
     "data": {
      "application/javascript": [
       "\n",
       "            setTimeout(function() {\n",
       "                var nbb_cell_id = 33;\n",
       "                var nbb_unformatted_code = \"# generating ARIMA models\\nmodel = ARIMA(df.UNRATE, order=(1, 1, 0))\\nmodel_fit = model.fit()\\nprint(model_fit.summary())\\nprint(\\\"Residuals Description\\\")\\nprint(model_fit.resid.describe())\";\n",
       "                var nbb_formatted_code = \"# generating ARIMA models\\nmodel = ARIMA(df.UNRATE, order=(1, 1, 0))\\nmodel_fit = model.fit()\\nprint(model_fit.summary())\\nprint(\\\"Residuals Description\\\")\\nprint(model_fit.resid.describe())\";\n",
       "                var nbb_cells = Jupyter.notebook.get_cells();\n",
       "                for (var i = 0; i < nbb_cells.length; ++i) {\n",
       "                    if (nbb_cells[i].input_prompt_number == nbb_cell_id) {\n",
       "                        if (nbb_cells[i].get_text() == nbb_unformatted_code) {\n",
       "                             nbb_cells[i].set_text(nbb_formatted_code);\n",
       "                        }\n",
       "                        break;\n",
       "                    }\n",
       "                }\n",
       "            }, 500);\n",
       "            "
      ],
      "text/plain": [
       "<IPython.core.display.Javascript object>"
      ]
     },
     "metadata": {},
     "output_type": "display_data"
    }
   ],
   "source": [
    "# generating ARIMA models\n",
    "model = ARIMA(df.UNRATE, order=(1, 1, 0))\n",
    "model_fit = model.fit()\n",
    "print(model_fit.summary())\n",
    "print(\"Residuals Description\")\n",
    "print(model_fit.resid.describe())"
   ]
  },
  {
   "cell_type": "code",
   "execution_count": 34,
   "metadata": {},
   "outputs": [
    {
     "name": "stdout",
     "output_type": "stream",
     "text": [
      "                             ARIMA Model Results                              \n",
      "==============================================================================\n",
      "Dep. Variable:               D.UNRATE   No. Observations:                  868\n",
      "Model:                 ARIMA(0, 1, 1)   Log Likelihood                -458.143\n",
      "Method:                       css-mle   S.D. of innovations              0.410\n",
      "Date:                Wed, 17 Jun 2020   AIC                            922.287\n",
      "Time:                        15:01:06   BIC                            936.586\n",
      "Sample:                             1   HQIC                           927.759\n",
      "                                                                              \n",
      "==================================================================================\n",
      "                     coef    std err          z      P>|z|      [0.025      0.975]\n",
      "----------------------------------------------------------------------------------\n",
      "const              0.0114      0.014      0.825      0.409      -0.016       0.039\n",
      "ma.L1.D.UNRATE    -0.0069      0.032     -0.214      0.830      -0.070       0.056\n",
      "                                    Roots                                    \n",
      "=============================================================================\n",
      "                  Real          Imaginary           Modulus         Frequency\n",
      "-----------------------------------------------------------------------------\n",
      "MA.1          144.8291           +0.0000j          144.8291            0.0000\n",
      "-----------------------------------------------------------------------------\n",
      "Residuals Description\n",
      "count    868.000000\n",
      "mean       0.000003\n",
      "std        0.410431\n",
      "min       -1.502526\n",
      "25%       -0.112183\n",
      "50%       -0.012178\n",
      "75%        0.088503\n",
      "max       10.294717\n",
      "dtype: float64\n"
     ]
    },
    {
     "data": {
      "application/javascript": [
       "\n",
       "            setTimeout(function() {\n",
       "                var nbb_cell_id = 34;\n",
       "                var nbb_unformatted_code = \"# generating ARIMA models\\nmodel = ARIMA(df.UNRATE, order=(0, 1, 1))\\nmodel_fit = model.fit()\\nprint(model_fit.summary())\\nprint(\\\"Residuals Description\\\")\\nprint(model_fit.resid.describe())\";\n",
       "                var nbb_formatted_code = \"# generating ARIMA models\\nmodel = ARIMA(df.UNRATE, order=(0, 1, 1))\\nmodel_fit = model.fit()\\nprint(model_fit.summary())\\nprint(\\\"Residuals Description\\\")\\nprint(model_fit.resid.describe())\";\n",
       "                var nbb_cells = Jupyter.notebook.get_cells();\n",
       "                for (var i = 0; i < nbb_cells.length; ++i) {\n",
       "                    if (nbb_cells[i].input_prompt_number == nbb_cell_id) {\n",
       "                        if (nbb_cells[i].get_text() == nbb_unformatted_code) {\n",
       "                             nbb_cells[i].set_text(nbb_formatted_code);\n",
       "                        }\n",
       "                        break;\n",
       "                    }\n",
       "                }\n",
       "            }, 500);\n",
       "            "
      ],
      "text/plain": [
       "<IPython.core.display.Javascript object>"
      ]
     },
     "metadata": {},
     "output_type": "display_data"
    },
    {
     "data": {
      "application/javascript": [
       "\n",
       "            setTimeout(function() {\n",
       "                var nbb_cell_id = 34;\n",
       "                var nbb_unformatted_code = \"# generating ARIMA models\\nmodel = ARIMA(df.UNRATE, order=(0, 1, 1))\\nmodel_fit = model.fit()\\nprint(model_fit.summary())\\nprint(\\\"Residuals Description\\\")\\nprint(model_fit.resid.describe())\";\n",
       "                var nbb_formatted_code = \"# generating ARIMA models\\nmodel = ARIMA(df.UNRATE, order=(0, 1, 1))\\nmodel_fit = model.fit()\\nprint(model_fit.summary())\\nprint(\\\"Residuals Description\\\")\\nprint(model_fit.resid.describe())\";\n",
       "                var nbb_cells = Jupyter.notebook.get_cells();\n",
       "                for (var i = 0; i < nbb_cells.length; ++i) {\n",
       "                    if (nbb_cells[i].input_prompt_number == nbb_cell_id) {\n",
       "                        if (nbb_cells[i].get_text() == nbb_unformatted_code) {\n",
       "                             nbb_cells[i].set_text(nbb_formatted_code);\n",
       "                        }\n",
       "                        break;\n",
       "                    }\n",
       "                }\n",
       "            }, 500);\n",
       "            "
      ],
      "text/plain": [
       "<IPython.core.display.Javascript object>"
      ]
     },
     "metadata": {},
     "output_type": "display_data"
    },
    {
     "data": {
      "application/javascript": [
       "\n",
       "            setTimeout(function() {\n",
       "                var nbb_cell_id = 34;\n",
       "                var nbb_unformatted_code = \"# generating ARIMA models\\nmodel = ARIMA(df.UNRATE, order=(0, 1, 1))\\nmodel_fit = model.fit()\\nprint(model_fit.summary())\\nprint(\\\"Residuals Description\\\")\\nprint(model_fit.resid.describe())\";\n",
       "                var nbb_formatted_code = \"# generating ARIMA models\\nmodel = ARIMA(df.UNRATE, order=(0, 1, 1))\\nmodel_fit = model.fit()\\nprint(model_fit.summary())\\nprint(\\\"Residuals Description\\\")\\nprint(model_fit.resid.describe())\";\n",
       "                var nbb_cells = Jupyter.notebook.get_cells();\n",
       "                for (var i = 0; i < nbb_cells.length; ++i) {\n",
       "                    if (nbb_cells[i].input_prompt_number == nbb_cell_id) {\n",
       "                        if (nbb_cells[i].get_text() == nbb_unformatted_code) {\n",
       "                             nbb_cells[i].set_text(nbb_formatted_code);\n",
       "                        }\n",
       "                        break;\n",
       "                    }\n",
       "                }\n",
       "            }, 500);\n",
       "            "
      ],
      "text/plain": [
       "<IPython.core.display.Javascript object>"
      ]
     },
     "metadata": {},
     "output_type": "display_data"
    },
    {
     "data": {
      "application/javascript": [
       "\n",
       "            setTimeout(function() {\n",
       "                var nbb_cell_id = 34;\n",
       "                var nbb_unformatted_code = \"# generating ARIMA models\\nmodel = ARIMA(df.UNRATE, order=(0, 1, 1))\\nmodel_fit = model.fit()\\nprint(model_fit.summary())\\nprint(\\\"Residuals Description\\\")\\nprint(model_fit.resid.describe())\";\n",
       "                var nbb_formatted_code = \"# generating ARIMA models\\nmodel = ARIMA(df.UNRATE, order=(0, 1, 1))\\nmodel_fit = model.fit()\\nprint(model_fit.summary())\\nprint(\\\"Residuals Description\\\")\\nprint(model_fit.resid.describe())\";\n",
       "                var nbb_cells = Jupyter.notebook.get_cells();\n",
       "                for (var i = 0; i < nbb_cells.length; ++i) {\n",
       "                    if (nbb_cells[i].input_prompt_number == nbb_cell_id) {\n",
       "                        if (nbb_cells[i].get_text() == nbb_unformatted_code) {\n",
       "                             nbb_cells[i].set_text(nbb_formatted_code);\n",
       "                        }\n",
       "                        break;\n",
       "                    }\n",
       "                }\n",
       "            }, 500);\n",
       "            "
      ],
      "text/plain": [
       "<IPython.core.display.Javascript object>"
      ]
     },
     "metadata": {},
     "output_type": "display_data"
    },
    {
     "data": {
      "application/javascript": [
       "\n",
       "            setTimeout(function() {\n",
       "                var nbb_cell_id = 34;\n",
       "                var nbb_unformatted_code = \"# generating ARIMA models\\nmodel = ARIMA(df.UNRATE, order=(0, 1, 1))\\nmodel_fit = model.fit()\\nprint(model_fit.summary())\\nprint(\\\"Residuals Description\\\")\\nprint(model_fit.resid.describe())\";\n",
       "                var nbb_formatted_code = \"# generating ARIMA models\\nmodel = ARIMA(df.UNRATE, order=(0, 1, 1))\\nmodel_fit = model.fit()\\nprint(model_fit.summary())\\nprint(\\\"Residuals Description\\\")\\nprint(model_fit.resid.describe())\";\n",
       "                var nbb_cells = Jupyter.notebook.get_cells();\n",
       "                for (var i = 0; i < nbb_cells.length; ++i) {\n",
       "                    if (nbb_cells[i].input_prompt_number == nbb_cell_id) {\n",
       "                        if (nbb_cells[i].get_text() == nbb_unformatted_code) {\n",
       "                             nbb_cells[i].set_text(nbb_formatted_code);\n",
       "                        }\n",
       "                        break;\n",
       "                    }\n",
       "                }\n",
       "            }, 500);\n",
       "            "
      ],
      "text/plain": [
       "<IPython.core.display.Javascript object>"
      ]
     },
     "metadata": {},
     "output_type": "display_data"
    },
    {
     "data": {
      "application/javascript": [
       "\n",
       "            setTimeout(function() {\n",
       "                var nbb_cell_id = 34;\n",
       "                var nbb_unformatted_code = \"# generating ARIMA models\\nmodel = ARIMA(df.UNRATE, order=(0, 1, 1))\\nmodel_fit = model.fit()\\nprint(model_fit.summary())\\nprint(\\\"Residuals Description\\\")\\nprint(model_fit.resid.describe())\";\n",
       "                var nbb_formatted_code = \"# generating ARIMA models\\nmodel = ARIMA(df.UNRATE, order=(0, 1, 1))\\nmodel_fit = model.fit()\\nprint(model_fit.summary())\\nprint(\\\"Residuals Description\\\")\\nprint(model_fit.resid.describe())\";\n",
       "                var nbb_cells = Jupyter.notebook.get_cells();\n",
       "                for (var i = 0; i < nbb_cells.length; ++i) {\n",
       "                    if (nbb_cells[i].input_prompt_number == nbb_cell_id) {\n",
       "                        if (nbb_cells[i].get_text() == nbb_unformatted_code) {\n",
       "                             nbb_cells[i].set_text(nbb_formatted_code);\n",
       "                        }\n",
       "                        break;\n",
       "                    }\n",
       "                }\n",
       "            }, 500);\n",
       "            "
      ],
      "text/plain": [
       "<IPython.core.display.Javascript object>"
      ]
     },
     "metadata": {},
     "output_type": "display_data"
    }
   ],
   "source": [
    "# generating ARIMA models\n",
    "model = ARIMA(df.UNRATE, order=(0, 1, 1))\n",
    "model_fit = model.fit()\n",
    "print(model_fit.summary())\n",
    "print(\"Residuals Description\")\n",
    "print(model_fit.resid.describe())"
   ]
  },
  {
   "cell_type": "code",
   "execution_count": 35,
   "metadata": {},
   "outputs": [
    {
     "name": "stdout",
     "output_type": "stream",
     "text": [
      "                             ARIMA Model Results                              \n",
      "==============================================================================\n",
      "Dep. Variable:               D.UNRATE   No. Observations:                  868\n",
      "Model:                 ARIMA(1, 1, 1)   Log Likelihood                -455.029\n",
      "Method:                       css-mle   S.D. of innovations              0.409\n",
      "Date:                Wed, 17 Jun 2020   AIC                            918.059\n",
      "Time:                        15:01:17   BIC                            937.123\n",
      "Sample:                             1   HQIC                           925.354\n",
      "                                                                              \n",
      "==================================================================================\n",
      "                     coef    std err          z      P>|z|      [0.025      0.975]\n",
      "----------------------------------------------------------------------------------\n",
      "const              0.0153      0.020      0.770      0.442      -0.024       0.054\n",
      "ar.L1.D.UNRATE     0.8731      0.067     13.072      0.000       0.742       1.004\n",
      "ma.L1.D.UNRATE    -0.8199      0.072    -11.366      0.000      -0.961      -0.678\n",
      "                                    Roots                                    \n",
      "=============================================================================\n",
      "                  Real          Imaginary           Modulus         Frequency\n",
      "-----------------------------------------------------------------------------\n",
      "AR.1            1.1454           +0.0000j            1.1454            0.0000\n",
      "MA.1            1.2197           +0.0000j            1.2197            0.0000\n",
      "-----------------------------------------------------------------------------\n",
      "Residuals Description\n",
      "count    868.000000\n",
      "mean      -0.000188\n",
      "std        0.408957\n",
      "min       -1.993832\n",
      "25%       -0.110841\n",
      "50%       -0.007595\n",
      "75%        0.101020\n",
      "max       10.246515\n",
      "dtype: float64\n"
     ]
    },
    {
     "data": {
      "application/javascript": [
       "\n",
       "            setTimeout(function() {\n",
       "                var nbb_cell_id = 35;\n",
       "                var nbb_unformatted_code = \"# generating ARIMA models\\nmodel = ARIMA(df.UNRATE, order=(1, 1, 1))\\nmodel_fit = model.fit()\\nprint(model_fit.summary())\\nprint(\\\"Residuals Description\\\")\\nprint(model_fit.resid.describe())\";\n",
       "                var nbb_formatted_code = \"# generating ARIMA models\\nmodel = ARIMA(df.UNRATE, order=(1, 1, 1))\\nmodel_fit = model.fit()\\nprint(model_fit.summary())\\nprint(\\\"Residuals Description\\\")\\nprint(model_fit.resid.describe())\";\n",
       "                var nbb_cells = Jupyter.notebook.get_cells();\n",
       "                for (var i = 0; i < nbb_cells.length; ++i) {\n",
       "                    if (nbb_cells[i].input_prompt_number == nbb_cell_id) {\n",
       "                        if (nbb_cells[i].get_text() == nbb_unformatted_code) {\n",
       "                             nbb_cells[i].set_text(nbb_formatted_code);\n",
       "                        }\n",
       "                        break;\n",
       "                    }\n",
       "                }\n",
       "            }, 500);\n",
       "            "
      ],
      "text/plain": [
       "<IPython.core.display.Javascript object>"
      ]
     },
     "metadata": {},
     "output_type": "display_data"
    },
    {
     "data": {
      "application/javascript": [
       "\n",
       "            setTimeout(function() {\n",
       "                var nbb_cell_id = 35;\n",
       "                var nbb_unformatted_code = \"# generating ARIMA models\\nmodel = ARIMA(df.UNRATE, order=(1, 1, 1))\\nmodel_fit = model.fit()\\nprint(model_fit.summary())\\nprint(\\\"Residuals Description\\\")\\nprint(model_fit.resid.describe())\";\n",
       "                var nbb_formatted_code = \"# generating ARIMA models\\nmodel = ARIMA(df.UNRATE, order=(1, 1, 1))\\nmodel_fit = model.fit()\\nprint(model_fit.summary())\\nprint(\\\"Residuals Description\\\")\\nprint(model_fit.resid.describe())\";\n",
       "                var nbb_cells = Jupyter.notebook.get_cells();\n",
       "                for (var i = 0; i < nbb_cells.length; ++i) {\n",
       "                    if (nbb_cells[i].input_prompt_number == nbb_cell_id) {\n",
       "                        if (nbb_cells[i].get_text() == nbb_unformatted_code) {\n",
       "                             nbb_cells[i].set_text(nbb_formatted_code);\n",
       "                        }\n",
       "                        break;\n",
       "                    }\n",
       "                }\n",
       "            }, 500);\n",
       "            "
      ],
      "text/plain": [
       "<IPython.core.display.Javascript object>"
      ]
     },
     "metadata": {},
     "output_type": "display_data"
    },
    {
     "data": {
      "application/javascript": [
       "\n",
       "            setTimeout(function() {\n",
       "                var nbb_cell_id = 35;\n",
       "                var nbb_unformatted_code = \"# generating ARIMA models\\nmodel = ARIMA(df.UNRATE, order=(1, 1, 1))\\nmodel_fit = model.fit()\\nprint(model_fit.summary())\\nprint(\\\"Residuals Description\\\")\\nprint(model_fit.resid.describe())\";\n",
       "                var nbb_formatted_code = \"# generating ARIMA models\\nmodel = ARIMA(df.UNRATE, order=(1, 1, 1))\\nmodel_fit = model.fit()\\nprint(model_fit.summary())\\nprint(\\\"Residuals Description\\\")\\nprint(model_fit.resid.describe())\";\n",
       "                var nbb_cells = Jupyter.notebook.get_cells();\n",
       "                for (var i = 0; i < nbb_cells.length; ++i) {\n",
       "                    if (nbb_cells[i].input_prompt_number == nbb_cell_id) {\n",
       "                        if (nbb_cells[i].get_text() == nbb_unformatted_code) {\n",
       "                             nbb_cells[i].set_text(nbb_formatted_code);\n",
       "                        }\n",
       "                        break;\n",
       "                    }\n",
       "                }\n",
       "            }, 500);\n",
       "            "
      ],
      "text/plain": [
       "<IPython.core.display.Javascript object>"
      ]
     },
     "metadata": {},
     "output_type": "display_data"
    },
    {
     "data": {
      "application/javascript": [
       "\n",
       "            setTimeout(function() {\n",
       "                var nbb_cell_id = 35;\n",
       "                var nbb_unformatted_code = \"# generating ARIMA models\\nmodel = ARIMA(df.UNRATE, order=(1, 1, 1))\\nmodel_fit = model.fit()\\nprint(model_fit.summary())\\nprint(\\\"Residuals Description\\\")\\nprint(model_fit.resid.describe())\";\n",
       "                var nbb_formatted_code = \"# generating ARIMA models\\nmodel = ARIMA(df.UNRATE, order=(1, 1, 1))\\nmodel_fit = model.fit()\\nprint(model_fit.summary())\\nprint(\\\"Residuals Description\\\")\\nprint(model_fit.resid.describe())\";\n",
       "                var nbb_cells = Jupyter.notebook.get_cells();\n",
       "                for (var i = 0; i < nbb_cells.length; ++i) {\n",
       "                    if (nbb_cells[i].input_prompt_number == nbb_cell_id) {\n",
       "                        if (nbb_cells[i].get_text() == nbb_unformatted_code) {\n",
       "                             nbb_cells[i].set_text(nbb_formatted_code);\n",
       "                        }\n",
       "                        break;\n",
       "                    }\n",
       "                }\n",
       "            }, 500);\n",
       "            "
      ],
      "text/plain": [
       "<IPython.core.display.Javascript object>"
      ]
     },
     "metadata": {},
     "output_type": "display_data"
    },
    {
     "data": {
      "application/javascript": [
       "\n",
       "            setTimeout(function() {\n",
       "                var nbb_cell_id = 35;\n",
       "                var nbb_unformatted_code = \"# generating ARIMA models\\nmodel = ARIMA(df.UNRATE, order=(1, 1, 1))\\nmodel_fit = model.fit()\\nprint(model_fit.summary())\\nprint(\\\"Residuals Description\\\")\\nprint(model_fit.resid.describe())\";\n",
       "                var nbb_formatted_code = \"# generating ARIMA models\\nmodel = ARIMA(df.UNRATE, order=(1, 1, 1))\\nmodel_fit = model.fit()\\nprint(model_fit.summary())\\nprint(\\\"Residuals Description\\\")\\nprint(model_fit.resid.describe())\";\n",
       "                var nbb_cells = Jupyter.notebook.get_cells();\n",
       "                for (var i = 0; i < nbb_cells.length; ++i) {\n",
       "                    if (nbb_cells[i].input_prompt_number == nbb_cell_id) {\n",
       "                        if (nbb_cells[i].get_text() == nbb_unformatted_code) {\n",
       "                             nbb_cells[i].set_text(nbb_formatted_code);\n",
       "                        }\n",
       "                        break;\n",
       "                    }\n",
       "                }\n",
       "            }, 500);\n",
       "            "
      ],
      "text/plain": [
       "<IPython.core.display.Javascript object>"
      ]
     },
     "metadata": {},
     "output_type": "display_data"
    },
    {
     "data": {
      "application/javascript": [
       "\n",
       "            setTimeout(function() {\n",
       "                var nbb_cell_id = 35;\n",
       "                var nbb_unformatted_code = \"# generating ARIMA models\\nmodel = ARIMA(df.UNRATE, order=(1, 1, 1))\\nmodel_fit = model.fit()\\nprint(model_fit.summary())\\nprint(\\\"Residuals Description\\\")\\nprint(model_fit.resid.describe())\";\n",
       "                var nbb_formatted_code = \"# generating ARIMA models\\nmodel = ARIMA(df.UNRATE, order=(1, 1, 1))\\nmodel_fit = model.fit()\\nprint(model_fit.summary())\\nprint(\\\"Residuals Description\\\")\\nprint(model_fit.resid.describe())\";\n",
       "                var nbb_cells = Jupyter.notebook.get_cells();\n",
       "                for (var i = 0; i < nbb_cells.length; ++i) {\n",
       "                    if (nbb_cells[i].input_prompt_number == nbb_cell_id) {\n",
       "                        if (nbb_cells[i].get_text() == nbb_unformatted_code) {\n",
       "                             nbb_cells[i].set_text(nbb_formatted_code);\n",
       "                        }\n",
       "                        break;\n",
       "                    }\n",
       "                }\n",
       "            }, 500);\n",
       "            "
      ],
      "text/plain": [
       "<IPython.core.display.Javascript object>"
      ]
     },
     "metadata": {},
     "output_type": "display_data"
    }
   ],
   "source": [
    "# generating ARIMA models\n",
    "model = ARIMA(df.UNRATE, order=(1, 1, 1))\n",
    "model_fit = model.fit()\n",
    "print(model_fit.summary())\n",
    "print(\"Residuals Description\")\n",
    "print(model_fit.resid.describe())"
   ]
  },
  {
   "cell_type": "code",
   "execution_count": 36,
   "metadata": {},
   "outputs": [
    {
     "name": "stdout",
     "output_type": "stream",
     "text": [
      "                             ARIMA Model Results                              \n",
      "==============================================================================\n",
      "Dep. Variable:              D2.UNRATE   No. Observations:                  867\n",
      "Model:                 ARIMA(1, 2, 1)   Log Likelihood                -454.428\n",
      "Method:                       css-mle   S.D. of innovations              0.408\n",
      "Date:                Wed, 17 Jun 2020   AIC                            916.856\n",
      "Time:                        15:01:34   BIC                            935.916\n",
      "Sample:                             2   HQIC                           924.150\n",
      "                                                                              \n",
      "===================================================================================\n",
      "                      coef    std err          z      P>|z|      [0.025      0.975]\n",
      "-----------------------------------------------------------------------------------\n",
      "const               0.0022      0.003      0.776      0.438      -0.003       0.008\n",
      "ar.L1.D2.UNRATE    -0.2902      0.070     -4.145      0.000      -0.427      -0.153\n",
      "ma.L1.D2.UNRATE    -0.7418      0.059    -12.566      0.000      -0.857      -0.626\n",
      "                                    Roots                                    \n",
      "=============================================================================\n",
      "                  Real          Imaginary           Modulus         Frequency\n",
      "-----------------------------------------------------------------------------\n",
      "AR.1           -3.4457           +0.0000j            3.4457            0.5000\n",
      "MA.1            1.3481           +0.0000j            1.3481            0.0000\n",
      "-----------------------------------------------------------------------------\n",
      "Residuals Description\n",
      "count    867.000000\n",
      "mean      -0.000894\n",
      "std        0.408780\n",
      "min       -1.641196\n",
      "25%       -0.119850\n",
      "50%       -0.008415\n",
      "75%        0.097443\n",
      "max       10.340331\n",
      "dtype: float64\n"
     ]
    },
    {
     "data": {
      "application/javascript": [
       "\n",
       "            setTimeout(function() {\n",
       "                var nbb_cell_id = 36;\n",
       "                var nbb_unformatted_code = \"# generating ARIMA models\\nmodel = ARIMA(df.UNRATE, order=(1, 2, 1))\\nmodel_fit = model.fit()\\nprint(model_fit.summary())\\nprint(\\\"Residuals Description\\\")\\nprint(model_fit.resid.describe())\";\n",
       "                var nbb_formatted_code = \"# generating ARIMA models\\nmodel = ARIMA(df.UNRATE, order=(1, 2, 1))\\nmodel_fit = model.fit()\\nprint(model_fit.summary())\\nprint(\\\"Residuals Description\\\")\\nprint(model_fit.resid.describe())\";\n",
       "                var nbb_cells = Jupyter.notebook.get_cells();\n",
       "                for (var i = 0; i < nbb_cells.length; ++i) {\n",
       "                    if (nbb_cells[i].input_prompt_number == nbb_cell_id) {\n",
       "                        if (nbb_cells[i].get_text() == nbb_unformatted_code) {\n",
       "                             nbb_cells[i].set_text(nbb_formatted_code);\n",
       "                        }\n",
       "                        break;\n",
       "                    }\n",
       "                }\n",
       "            }, 500);\n",
       "            "
      ],
      "text/plain": [
       "<IPython.core.display.Javascript object>"
      ]
     },
     "metadata": {},
     "output_type": "display_data"
    },
    {
     "data": {
      "application/javascript": [
       "\n",
       "            setTimeout(function() {\n",
       "                var nbb_cell_id = 36;\n",
       "                var nbb_unformatted_code = \"# generating ARIMA models\\nmodel = ARIMA(df.UNRATE, order=(1, 2, 1))\\nmodel_fit = model.fit()\\nprint(model_fit.summary())\\nprint(\\\"Residuals Description\\\")\\nprint(model_fit.resid.describe())\";\n",
       "                var nbb_formatted_code = \"# generating ARIMA models\\nmodel = ARIMA(df.UNRATE, order=(1, 2, 1))\\nmodel_fit = model.fit()\\nprint(model_fit.summary())\\nprint(\\\"Residuals Description\\\")\\nprint(model_fit.resid.describe())\";\n",
       "                var nbb_cells = Jupyter.notebook.get_cells();\n",
       "                for (var i = 0; i < nbb_cells.length; ++i) {\n",
       "                    if (nbb_cells[i].input_prompt_number == nbb_cell_id) {\n",
       "                        if (nbb_cells[i].get_text() == nbb_unformatted_code) {\n",
       "                             nbb_cells[i].set_text(nbb_formatted_code);\n",
       "                        }\n",
       "                        break;\n",
       "                    }\n",
       "                }\n",
       "            }, 500);\n",
       "            "
      ],
      "text/plain": [
       "<IPython.core.display.Javascript object>"
      ]
     },
     "metadata": {},
     "output_type": "display_data"
    },
    {
     "data": {
      "application/javascript": [
       "\n",
       "            setTimeout(function() {\n",
       "                var nbb_cell_id = 36;\n",
       "                var nbb_unformatted_code = \"# generating ARIMA models\\nmodel = ARIMA(df.UNRATE, order=(1, 2, 1))\\nmodel_fit = model.fit()\\nprint(model_fit.summary())\\nprint(\\\"Residuals Description\\\")\\nprint(model_fit.resid.describe())\";\n",
       "                var nbb_formatted_code = \"# generating ARIMA models\\nmodel = ARIMA(df.UNRATE, order=(1, 2, 1))\\nmodel_fit = model.fit()\\nprint(model_fit.summary())\\nprint(\\\"Residuals Description\\\")\\nprint(model_fit.resid.describe())\";\n",
       "                var nbb_cells = Jupyter.notebook.get_cells();\n",
       "                for (var i = 0; i < nbb_cells.length; ++i) {\n",
       "                    if (nbb_cells[i].input_prompt_number == nbb_cell_id) {\n",
       "                        if (nbb_cells[i].get_text() == nbb_unformatted_code) {\n",
       "                             nbb_cells[i].set_text(nbb_formatted_code);\n",
       "                        }\n",
       "                        break;\n",
       "                    }\n",
       "                }\n",
       "            }, 500);\n",
       "            "
      ],
      "text/plain": [
       "<IPython.core.display.Javascript object>"
      ]
     },
     "metadata": {},
     "output_type": "display_data"
    },
    {
     "data": {
      "application/javascript": [
       "\n",
       "            setTimeout(function() {\n",
       "                var nbb_cell_id = 36;\n",
       "                var nbb_unformatted_code = \"# generating ARIMA models\\nmodel = ARIMA(df.UNRATE, order=(1, 2, 1))\\nmodel_fit = model.fit()\\nprint(model_fit.summary())\\nprint(\\\"Residuals Description\\\")\\nprint(model_fit.resid.describe())\";\n",
       "                var nbb_formatted_code = \"# generating ARIMA models\\nmodel = ARIMA(df.UNRATE, order=(1, 2, 1))\\nmodel_fit = model.fit()\\nprint(model_fit.summary())\\nprint(\\\"Residuals Description\\\")\\nprint(model_fit.resid.describe())\";\n",
       "                var nbb_cells = Jupyter.notebook.get_cells();\n",
       "                for (var i = 0; i < nbb_cells.length; ++i) {\n",
       "                    if (nbb_cells[i].input_prompt_number == nbb_cell_id) {\n",
       "                        if (nbb_cells[i].get_text() == nbb_unformatted_code) {\n",
       "                             nbb_cells[i].set_text(nbb_formatted_code);\n",
       "                        }\n",
       "                        break;\n",
       "                    }\n",
       "                }\n",
       "            }, 500);\n",
       "            "
      ],
      "text/plain": [
       "<IPython.core.display.Javascript object>"
      ]
     },
     "metadata": {},
     "output_type": "display_data"
    },
    {
     "data": {
      "application/javascript": [
       "\n",
       "            setTimeout(function() {\n",
       "                var nbb_cell_id = 36;\n",
       "                var nbb_unformatted_code = \"# generating ARIMA models\\nmodel = ARIMA(df.UNRATE, order=(1, 2, 1))\\nmodel_fit = model.fit()\\nprint(model_fit.summary())\\nprint(\\\"Residuals Description\\\")\\nprint(model_fit.resid.describe())\";\n",
       "                var nbb_formatted_code = \"# generating ARIMA models\\nmodel = ARIMA(df.UNRATE, order=(1, 2, 1))\\nmodel_fit = model.fit()\\nprint(model_fit.summary())\\nprint(\\\"Residuals Description\\\")\\nprint(model_fit.resid.describe())\";\n",
       "                var nbb_cells = Jupyter.notebook.get_cells();\n",
       "                for (var i = 0; i < nbb_cells.length; ++i) {\n",
       "                    if (nbb_cells[i].input_prompt_number == nbb_cell_id) {\n",
       "                        if (nbb_cells[i].get_text() == nbb_unformatted_code) {\n",
       "                             nbb_cells[i].set_text(nbb_formatted_code);\n",
       "                        }\n",
       "                        break;\n",
       "                    }\n",
       "                }\n",
       "            }, 500);\n",
       "            "
      ],
      "text/plain": [
       "<IPython.core.display.Javascript object>"
      ]
     },
     "metadata": {},
     "output_type": "display_data"
    },
    {
     "data": {
      "application/javascript": [
       "\n",
       "            setTimeout(function() {\n",
       "                var nbb_cell_id = 36;\n",
       "                var nbb_unformatted_code = \"# generating ARIMA models\\nmodel = ARIMA(df.UNRATE, order=(1, 2, 1))\\nmodel_fit = model.fit()\\nprint(model_fit.summary())\\nprint(\\\"Residuals Description\\\")\\nprint(model_fit.resid.describe())\";\n",
       "                var nbb_formatted_code = \"# generating ARIMA models\\nmodel = ARIMA(df.UNRATE, order=(1, 2, 1))\\nmodel_fit = model.fit()\\nprint(model_fit.summary())\\nprint(\\\"Residuals Description\\\")\\nprint(model_fit.resid.describe())\";\n",
       "                var nbb_cells = Jupyter.notebook.get_cells();\n",
       "                for (var i = 0; i < nbb_cells.length; ++i) {\n",
       "                    if (nbb_cells[i].input_prompt_number == nbb_cell_id) {\n",
       "                        if (nbb_cells[i].get_text() == nbb_unformatted_code) {\n",
       "                             nbb_cells[i].set_text(nbb_formatted_code);\n",
       "                        }\n",
       "                        break;\n",
       "                    }\n",
       "                }\n",
       "            }, 500);\n",
       "            "
      ],
      "text/plain": [
       "<IPython.core.display.Javascript object>"
      ]
     },
     "metadata": {},
     "output_type": "display_data"
    }
   ],
   "source": [
    "# generating ARIMA models\n",
    "model = ARIMA(df.UNRATE, order=(1, 2, 1))\n",
    "model_fit = model.fit()\n",
    "print(model_fit.summary())\n",
    "print(\"Residuals Description\")\n",
    "print(model_fit.resid.describe())"
   ]
  },
  {
   "cell_type": "code",
   "execution_count": 56,
   "metadata": {},
   "outputs": [
    {
     "name": "stdout",
     "output_type": "stream",
     "text": [
      "                             ARIMA Model Results                              \n",
      "==============================================================================\n",
      "Dep. Variable:               D.UNRATE   No. Observations:                  868\n",
      "Model:                 ARIMA(1, 1, 5)   Log Likelihood                -443.726\n",
      "Method:                       css-mle   S.D. of innovations              0.403\n",
      "Date:                Wed, 17 Jun 2020   AIC                            903.452\n",
      "Time:                        15:07:47   BIC                            941.581\n",
      "Sample:                             1   HQIC                           918.043\n",
      "                                                                              \n",
      "==================================================================================\n",
      "                     coef    std err          z      P>|z|      [0.025      0.975]\n",
      "----------------------------------------------------------------------------------\n",
      "const              0.0240      0.028      0.865      0.387      -0.030       0.078\n",
      "ar.L1.D.UNRATE     0.7098      0.122      5.820      0.000       0.471       0.949\n",
      "ma.L1.D.UNRATE    -0.7588      0.126     -5.998      0.000      -1.007      -0.511\n",
      "ma.L2.D.UNRATE     0.2023      0.080      2.538      0.011       0.046       0.359\n",
      "ma.L3.D.UNRATE     0.0540      0.092      0.583      0.560      -0.127       0.235\n",
      "ma.L4.D.UNRATE    -0.0062      0.083     -0.074      0.941      -0.170       0.157\n",
      "ma.L5.D.UNRATE     0.0893      0.093      0.961      0.337      -0.093       0.271\n",
      "                                    Roots                                    \n",
      "=============================================================================\n",
      "                  Real          Imaginary           Modulus         Frequency\n",
      "-----------------------------------------------------------------------------\n",
      "AR.1            1.4089           +0.0000j            1.4089            0.0000\n",
      "MA.1            1.1016           -0.6897j            1.2997           -0.0890\n",
      "MA.2            1.1016           +0.6897j            1.2997            0.0890\n",
      "MA.3           -1.9905           -0.0000j            1.9905           -0.5000\n",
      "MA.4           -0.0719           -1.8238j            1.8252           -0.2563\n",
      "MA.5           -0.0719           +1.8238j            1.8252            0.2563\n",
      "-----------------------------------------------------------------------------\n",
      "Residuals Description\n",
      "count    868.000000\n",
      "mean      -0.000277\n",
      "std        0.403625\n",
      "min       -1.516192\n",
      "25%       -0.115416\n",
      "50%       -0.012867\n",
      "75%        0.099223\n",
      "max       10.337534\n",
      "dtype: float64\n"
     ]
    },
    {
     "data": {
      "application/javascript": [
       "\n",
       "            setTimeout(function() {\n",
       "                var nbb_cell_id = 56;\n",
       "                var nbb_unformatted_code = \"# generating ARIMA models\\nmodel = ARIMA(df.UNRATE, order=(1, 1, 5))\\nmodel_fit = model.fit()\\nprint(model_fit.summary())\\nprint(\\\"Residuals Description\\\")\\nprint(model_fit.resid.describe())\";\n",
       "                var nbb_formatted_code = \"# generating ARIMA models\\nmodel = ARIMA(df.UNRATE, order=(1, 1, 5))\\nmodel_fit = model.fit()\\nprint(model_fit.summary())\\nprint(\\\"Residuals Description\\\")\\nprint(model_fit.resid.describe())\";\n",
       "                var nbb_cells = Jupyter.notebook.get_cells();\n",
       "                for (var i = 0; i < nbb_cells.length; ++i) {\n",
       "                    if (nbb_cells[i].input_prompt_number == nbb_cell_id) {\n",
       "                        if (nbb_cells[i].get_text() == nbb_unformatted_code) {\n",
       "                             nbb_cells[i].set_text(nbb_formatted_code);\n",
       "                        }\n",
       "                        break;\n",
       "                    }\n",
       "                }\n",
       "            }, 500);\n",
       "            "
      ],
      "text/plain": [
       "<IPython.core.display.Javascript object>"
      ]
     },
     "metadata": {},
     "output_type": "display_data"
    },
    {
     "data": {
      "application/javascript": [
       "\n",
       "            setTimeout(function() {\n",
       "                var nbb_cell_id = 56;\n",
       "                var nbb_unformatted_code = \"# generating ARIMA models\\nmodel = ARIMA(df.UNRATE, order=(1, 1, 5))\\nmodel_fit = model.fit()\\nprint(model_fit.summary())\\nprint(\\\"Residuals Description\\\")\\nprint(model_fit.resid.describe())\";\n",
       "                var nbb_formatted_code = \"# generating ARIMA models\\nmodel = ARIMA(df.UNRATE, order=(1, 1, 5))\\nmodel_fit = model.fit()\\nprint(model_fit.summary())\\nprint(\\\"Residuals Description\\\")\\nprint(model_fit.resid.describe())\";\n",
       "                var nbb_cells = Jupyter.notebook.get_cells();\n",
       "                for (var i = 0; i < nbb_cells.length; ++i) {\n",
       "                    if (nbb_cells[i].input_prompt_number == nbb_cell_id) {\n",
       "                        if (nbb_cells[i].get_text() == nbb_unformatted_code) {\n",
       "                             nbb_cells[i].set_text(nbb_formatted_code);\n",
       "                        }\n",
       "                        break;\n",
       "                    }\n",
       "                }\n",
       "            }, 500);\n",
       "            "
      ],
      "text/plain": [
       "<IPython.core.display.Javascript object>"
      ]
     },
     "metadata": {},
     "output_type": "display_data"
    },
    {
     "data": {
      "application/javascript": [
       "\n",
       "            setTimeout(function() {\n",
       "                var nbb_cell_id = 56;\n",
       "                var nbb_unformatted_code = \"# generating ARIMA models\\nmodel = ARIMA(df.UNRATE, order=(1, 1, 5))\\nmodel_fit = model.fit()\\nprint(model_fit.summary())\\nprint(\\\"Residuals Description\\\")\\nprint(model_fit.resid.describe())\";\n",
       "                var nbb_formatted_code = \"# generating ARIMA models\\nmodel = ARIMA(df.UNRATE, order=(1, 1, 5))\\nmodel_fit = model.fit()\\nprint(model_fit.summary())\\nprint(\\\"Residuals Description\\\")\\nprint(model_fit.resid.describe())\";\n",
       "                var nbb_cells = Jupyter.notebook.get_cells();\n",
       "                for (var i = 0; i < nbb_cells.length; ++i) {\n",
       "                    if (nbb_cells[i].input_prompt_number == nbb_cell_id) {\n",
       "                        if (nbb_cells[i].get_text() == nbb_unformatted_code) {\n",
       "                             nbb_cells[i].set_text(nbb_formatted_code);\n",
       "                        }\n",
       "                        break;\n",
       "                    }\n",
       "                }\n",
       "            }, 500);\n",
       "            "
      ],
      "text/plain": [
       "<IPython.core.display.Javascript object>"
      ]
     },
     "metadata": {},
     "output_type": "display_data"
    },
    {
     "data": {
      "application/javascript": [
       "\n",
       "            setTimeout(function() {\n",
       "                var nbb_cell_id = 56;\n",
       "                var nbb_unformatted_code = \"# generating ARIMA models\\nmodel = ARIMA(df.UNRATE, order=(1, 1, 5))\\nmodel_fit = model.fit()\\nprint(model_fit.summary())\\nprint(\\\"Residuals Description\\\")\\nprint(model_fit.resid.describe())\";\n",
       "                var nbb_formatted_code = \"# generating ARIMA models\\nmodel = ARIMA(df.UNRATE, order=(1, 1, 5))\\nmodel_fit = model.fit()\\nprint(model_fit.summary())\\nprint(\\\"Residuals Description\\\")\\nprint(model_fit.resid.describe())\";\n",
       "                var nbb_cells = Jupyter.notebook.get_cells();\n",
       "                for (var i = 0; i < nbb_cells.length; ++i) {\n",
       "                    if (nbb_cells[i].input_prompt_number == nbb_cell_id) {\n",
       "                        if (nbb_cells[i].get_text() == nbb_unformatted_code) {\n",
       "                             nbb_cells[i].set_text(nbb_formatted_code);\n",
       "                        }\n",
       "                        break;\n",
       "                    }\n",
       "                }\n",
       "            }, 500);\n",
       "            "
      ],
      "text/plain": [
       "<IPython.core.display.Javascript object>"
      ]
     },
     "metadata": {},
     "output_type": "display_data"
    },
    {
     "data": {
      "application/javascript": [
       "\n",
       "            setTimeout(function() {\n",
       "                var nbb_cell_id = 56;\n",
       "                var nbb_unformatted_code = \"# generating ARIMA models\\nmodel = ARIMA(df.UNRATE, order=(1, 1, 5))\\nmodel_fit = model.fit()\\nprint(model_fit.summary())\\nprint(\\\"Residuals Description\\\")\\nprint(model_fit.resid.describe())\";\n",
       "                var nbb_formatted_code = \"# generating ARIMA models\\nmodel = ARIMA(df.UNRATE, order=(1, 1, 5))\\nmodel_fit = model.fit()\\nprint(model_fit.summary())\\nprint(\\\"Residuals Description\\\")\\nprint(model_fit.resid.describe())\";\n",
       "                var nbb_cells = Jupyter.notebook.get_cells();\n",
       "                for (var i = 0; i < nbb_cells.length; ++i) {\n",
       "                    if (nbb_cells[i].input_prompt_number == nbb_cell_id) {\n",
       "                        if (nbb_cells[i].get_text() == nbb_unformatted_code) {\n",
       "                             nbb_cells[i].set_text(nbb_formatted_code);\n",
       "                        }\n",
       "                        break;\n",
       "                    }\n",
       "                }\n",
       "            }, 500);\n",
       "            "
      ],
      "text/plain": [
       "<IPython.core.display.Javascript object>"
      ]
     },
     "metadata": {},
     "output_type": "display_data"
    },
    {
     "data": {
      "application/javascript": [
       "\n",
       "            setTimeout(function() {\n",
       "                var nbb_cell_id = 56;\n",
       "                var nbb_unformatted_code = \"# generating ARIMA models\\nmodel = ARIMA(df.UNRATE, order=(1, 1, 5))\\nmodel_fit = model.fit()\\nprint(model_fit.summary())\\nprint(\\\"Residuals Description\\\")\\nprint(model_fit.resid.describe())\";\n",
       "                var nbb_formatted_code = \"# generating ARIMA models\\nmodel = ARIMA(df.UNRATE, order=(1, 1, 5))\\nmodel_fit = model.fit()\\nprint(model_fit.summary())\\nprint(\\\"Residuals Description\\\")\\nprint(model_fit.resid.describe())\";\n",
       "                var nbb_cells = Jupyter.notebook.get_cells();\n",
       "                for (var i = 0; i < nbb_cells.length; ++i) {\n",
       "                    if (nbb_cells[i].input_prompt_number == nbb_cell_id) {\n",
       "                        if (nbb_cells[i].get_text() == nbb_unformatted_code) {\n",
       "                             nbb_cells[i].set_text(nbb_formatted_code);\n",
       "                        }\n",
       "                        break;\n",
       "                    }\n",
       "                }\n",
       "            }, 500);\n",
       "            "
      ],
      "text/plain": [
       "<IPython.core.display.Javascript object>"
      ]
     },
     "metadata": {},
     "output_type": "display_data"
    }
   ],
   "source": [
    "# generating ARIMA models\n",
    "model = ARIMA(df.UNRATE, order=(1, 1, 5))\n",
    "model_fit = model.fit()\n",
    "print(model_fit.summary())\n",
    "print(\"Residuals Description\")\n",
    "print(model_fit.resid.describe())"
   ]
  },
  {
   "cell_type": "markdown",
   "metadata": {},
   "source": [
    "### 4. Finally choose one specification and make the case for that as a logical model for your dataset."
   ]
  },
  {
   "cell_type": "markdown",
   "metadata": {},
   "source": [
    "The best specification is for ARIMA(1,1,5) due to it's lowest AIC score (903.452).  The worst was for ARIMA(0,1,1) with an AIC score of 922.287.  The probability that we lost less information with the latter model is:"
   ]
  },
  {
   "cell_type": "code",
   "execution_count": 57,
   "metadata": {},
   "outputs": [
    {
     "data": {
      "text/plain": [
       "8.128898796252728e-05"
      ]
     },
     "execution_count": 57,
     "metadata": {},
     "output_type": "execute_result"
    },
    {
     "data": {
      "application/javascript": [
       "\n",
       "            setTimeout(function() {\n",
       "                var nbb_cell_id = 57;\n",
       "                var nbb_unformatted_code = \"p = np.exp((903.452 - 922.287)/2)\\np\";\n",
       "                var nbb_formatted_code = \"p = np.exp((903.452 - 922.287) / 2)\\np\";\n",
       "                var nbb_cells = Jupyter.notebook.get_cells();\n",
       "                for (var i = 0; i < nbb_cells.length; ++i) {\n",
       "                    if (nbb_cells[i].input_prompt_number == nbb_cell_id) {\n",
       "                        if (nbb_cells[i].get_text() == nbb_unformatted_code) {\n",
       "                             nbb_cells[i].set_text(nbb_formatted_code);\n",
       "                        }\n",
       "                        break;\n",
       "                    }\n",
       "                }\n",
       "            }, 500);\n",
       "            "
      ],
      "text/plain": [
       "<IPython.core.display.Javascript object>"
      ]
     },
     "metadata": {},
     "output_type": "display_data"
    },
    {
     "data": {
      "application/javascript": [
       "\n",
       "            setTimeout(function() {\n",
       "                var nbb_cell_id = 57;\n",
       "                var nbb_unformatted_code = \"p = np.exp((903.452 - 922.287)/2)\\np\";\n",
       "                var nbb_formatted_code = \"p = np.exp((903.452 - 922.287) / 2)\\np\";\n",
       "                var nbb_cells = Jupyter.notebook.get_cells();\n",
       "                for (var i = 0; i < nbb_cells.length; ++i) {\n",
       "                    if (nbb_cells[i].input_prompt_number == nbb_cell_id) {\n",
       "                        if (nbb_cells[i].get_text() == nbb_unformatted_code) {\n",
       "                             nbb_cells[i].set_text(nbb_formatted_code);\n",
       "                        }\n",
       "                        break;\n",
       "                    }\n",
       "                }\n",
       "            }, 500);\n",
       "            "
      ],
      "text/plain": [
       "<IPython.core.display.Javascript object>"
      ]
     },
     "metadata": {},
     "output_type": "display_data"
    },
    {
     "data": {
      "application/javascript": [
       "\n",
       "            setTimeout(function() {\n",
       "                var nbb_cell_id = 57;\n",
       "                var nbb_unformatted_code = \"p = np.exp((903.452 - 922.287)/2)\\np\";\n",
       "                var nbb_formatted_code = \"p = np.exp((903.452 - 922.287) / 2)\\np\";\n",
       "                var nbb_cells = Jupyter.notebook.get_cells();\n",
       "                for (var i = 0; i < nbb_cells.length; ++i) {\n",
       "                    if (nbb_cells[i].input_prompt_number == nbb_cell_id) {\n",
       "                        if (nbb_cells[i].get_text() == nbb_unformatted_code) {\n",
       "                             nbb_cells[i].set_text(nbb_formatted_code);\n",
       "                        }\n",
       "                        break;\n",
       "                    }\n",
       "                }\n",
       "            }, 500);\n",
       "            "
      ],
      "text/plain": [
       "<IPython.core.display.Javascript object>"
      ]
     },
     "metadata": {},
     "output_type": "display_data"
    },
    {
     "data": {
      "application/javascript": [
       "\n",
       "            setTimeout(function() {\n",
       "                var nbb_cell_id = 57;\n",
       "                var nbb_unformatted_code = \"p = np.exp((903.452 - 922.287)/2)\\np\";\n",
       "                var nbb_formatted_code = \"p = np.exp((903.452 - 922.287) / 2)\\np\";\n",
       "                var nbb_cells = Jupyter.notebook.get_cells();\n",
       "                for (var i = 0; i < nbb_cells.length; ++i) {\n",
       "                    if (nbb_cells[i].input_prompt_number == nbb_cell_id) {\n",
       "                        if (nbb_cells[i].get_text() == nbb_unformatted_code) {\n",
       "                             nbb_cells[i].set_text(nbb_formatted_code);\n",
       "                        }\n",
       "                        break;\n",
       "                    }\n",
       "                }\n",
       "            }, 500);\n",
       "            "
      ],
      "text/plain": [
       "<IPython.core.display.Javascript object>"
      ]
     },
     "metadata": {},
     "output_type": "display_data"
    },
    {
     "data": {
      "application/javascript": [
       "\n",
       "            setTimeout(function() {\n",
       "                var nbb_cell_id = 57;\n",
       "                var nbb_unformatted_code = \"p = np.exp((903.452 - 922.287)/2)\\np\";\n",
       "                var nbb_formatted_code = \"p = np.exp((903.452 - 922.287) / 2)\\np\";\n",
       "                var nbb_cells = Jupyter.notebook.get_cells();\n",
       "                for (var i = 0; i < nbb_cells.length; ++i) {\n",
       "                    if (nbb_cells[i].input_prompt_number == nbb_cell_id) {\n",
       "                        if (nbb_cells[i].get_text() == nbb_unformatted_code) {\n",
       "                             nbb_cells[i].set_text(nbb_formatted_code);\n",
       "                        }\n",
       "                        break;\n",
       "                    }\n",
       "                }\n",
       "            }, 500);\n",
       "            "
      ],
      "text/plain": [
       "<IPython.core.display.Javascript object>"
      ]
     },
     "metadata": {},
     "output_type": "display_data"
    },
    {
     "data": {
      "application/javascript": [
       "\n",
       "            setTimeout(function() {\n",
       "                var nbb_cell_id = 57;\n",
       "                var nbb_unformatted_code = \"p = np.exp((903.452 - 922.287)/2)\\np\";\n",
       "                var nbb_formatted_code = \"p = np.exp((903.452 - 922.287) / 2)\\np\";\n",
       "                var nbb_cells = Jupyter.notebook.get_cells();\n",
       "                for (var i = 0; i < nbb_cells.length; ++i) {\n",
       "                    if (nbb_cells[i].input_prompt_number == nbb_cell_id) {\n",
       "                        if (nbb_cells[i].get_text() == nbb_unformatted_code) {\n",
       "                             nbb_cells[i].set_text(nbb_formatted_code);\n",
       "                        }\n",
       "                        break;\n",
       "                    }\n",
       "                }\n",
       "            }, 500);\n",
       "            "
      ],
      "text/plain": [
       "<IPython.core.display.Javascript object>"
      ]
     },
     "metadata": {},
     "output_type": "display_data"
    }
   ],
   "source": [
    "p = np.exp((903.452 - 922.287) / 2)\n",
    "p"
   ]
  },
  {
   "cell_type": "markdown",
   "metadata": {},
   "source": [
    "This suggests that our best model is much better than the worst."
   ]
  }
 ],
 "metadata": {
  "kernelspec": {
   "display_name": "Python 3",
   "language": "python",
   "name": "python3"
  },
  "language_info": {
   "codemirror_mode": {
    "name": "ipython",
    "version": 3
   },
   "file_extension": ".py",
   "mimetype": "text/x-python",
   "name": "python",
   "nbconvert_exporter": "python",
   "pygments_lexer": "ipython3",
   "version": "3.7.4"
  }
 },
 "nbformat": 4,
 "nbformat_minor": 2
}
