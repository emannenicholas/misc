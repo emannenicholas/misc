{
 "cells": [
  {
   "cell_type": "code",
   "execution_count": 1,
   "metadata": {},
   "outputs": [],
   "source": [
    "import pandas as pd\n",
    "import numpy as np\n",
    "from sqlalchemy import create_engine\n",
    "import warnings"
   ]
  },
  {
   "cell_type": "code",
   "execution_count": 2,
   "metadata": {},
   "outputs": [],
   "source": [
    "postgres_user = 'dsbc_student'\n",
    "postgres_pw = '7*.8G9QH21'\n",
    "postgres_host = '142.93.121.174'\n",
    "postgres_port = '5432'\n",
    "postgres_db = 'useducation'\n",
    "\n",
    "engine = create_engine('postgresql://{}:{}@{}:{}/{}'.format(\n",
    "    postgres_user, postgres_pw, postgres_host, postgres_port, postgres_db))\n",
    "\n",
    "us_ed_df = pd.read_sql_query('select * from useducation',con=engine)\n",
    "\n",
    "# no need for an open connection, \n",
    "# as we're only doing a single query\n",
    "engine.dispose()"
   ]
  },
  {
   "cell_type": "markdown",
   "metadata": {},
   "source": [
    "1. Determine all the variable types and find the fraction of the missing values for each variable."
   ]
  },
  {
   "cell_type": "code",
   "execution_count": 3,
   "metadata": {},
   "outputs": [
    {
     "name": "stdout",
     "output_type": "stream",
     "text": [
      "<class 'pandas.core.frame.DataFrame'>\n",
      "RangeIndex: 1492 entries, 0 to 1491\n",
      "Data columns (total 25 columns):\n",
      "PRIMARY_KEY                     1492 non-null object\n",
      "STATE                           1492 non-null object\n",
      "YEAR                            1492 non-null int64\n",
      "ENROLL                          1229 non-null float64\n",
      "TOTAL_REVENUE                   1280 non-null float64\n",
      "FEDERAL_REVENUE                 1280 non-null float64\n",
      "STATE_REVENUE                   1280 non-null float64\n",
      "LOCAL_REVENUE                   1280 non-null float64\n",
      "TOTAL_EXPENDITURE               1280 non-null float64\n",
      "INSTRUCTION_EXPENDITURE         1280 non-null float64\n",
      "SUPPORT_SERVICES_EXPENDITURE    1280 non-null float64\n",
      "OTHER_EXPENDITURE               1229 non-null float64\n",
      "CAPITAL_OUTLAY_EXPENDITURE      1280 non-null float64\n",
      "GRADES_PK_G                     1319 non-null float64\n",
      "GRADES_KG_G                     1360 non-null float64\n",
      "GRADES_4_G                      1361 non-null float64\n",
      "GRADES_8_G                      1361 non-null float64\n",
      "GRADES_12_G                     1361 non-null float64\n",
      "GRADES_1_8_G                    1361 non-null float64\n",
      "GRADES_9_12_G                   1361 non-null float64\n",
      "GRADES_ALL_G                    1319 non-null float64\n",
      "AVG_MATH_4_SCORE                536 non-null float64\n",
      "AVG_MATH_8_SCORE                532 non-null float64\n",
      "AVG_READING_4_SCORE             533 non-null float64\n",
      "AVG_READING_8_SCORE             498 non-null float64\n",
      "dtypes: float64(22), int64(1), object(2)\n",
      "memory usage: 291.5+ KB\n"
     ]
    }
   ],
   "source": [
    "us_ed_df.info()"
   ]
  },
  {
   "cell_type": "code",
   "execution_count": 4,
   "metadata": {},
   "outputs": [
    {
     "data": {
      "text/plain": [
       "PRIMARY_KEY                     0.000000\n",
       "STATE                           0.000000\n",
       "YEAR                            0.000000\n",
       "ENROLL                          0.176273\n",
       "TOTAL_REVENUE                   0.142091\n",
       "FEDERAL_REVENUE                 0.142091\n",
       "STATE_REVENUE                   0.142091\n",
       "LOCAL_REVENUE                   0.142091\n",
       "TOTAL_EXPENDITURE               0.142091\n",
       "INSTRUCTION_EXPENDITURE         0.142091\n",
       "SUPPORT_SERVICES_EXPENDITURE    0.142091\n",
       "OTHER_EXPENDITURE               0.176273\n",
       "CAPITAL_OUTLAY_EXPENDITURE      0.142091\n",
       "GRADES_PK_G                     0.115952\n",
       "GRADES_KG_G                     0.088472\n",
       "GRADES_4_G                      0.087802\n",
       "GRADES_8_G                      0.087802\n",
       "GRADES_12_G                     0.087802\n",
       "GRADES_1_8_G                    0.087802\n",
       "GRADES_9_12_G                   0.087802\n",
       "GRADES_ALL_G                    0.115952\n",
       "AVG_MATH_4_SCORE                0.640751\n",
       "AVG_MATH_8_SCORE                0.643432\n",
       "AVG_READING_4_SCORE             0.642761\n",
       "AVG_READING_8_SCORE             0.666220\n",
       "dtype: float64"
      ]
     },
     "execution_count": 4,
     "metadata": {},
     "output_type": "execute_result"
    }
   ],
   "source": [
    "us_ed_df.isna().mean()"
   ]
  },
  {
   "cell_type": "markdown",
   "metadata": {},
   "source": [
    "Question 2. Notice that the data has a time dimension (year). For this assignment, forget about time and treat all the observations as if they're from the same year. Choose a strategy to deal with the missing values for each variables. For which variables would filling in the missing values with some value make sense? For which might tossing out the records entirely make sense?\n",
    "\n",
    "Answer: Because the time dimension has been removed, we cannot interpolate the missing values.  The reading and math scores are missing at a very high percentage, so those columns need to be excluded from our analysis.  Grades are missing at a low percentage, so we might just imputate those with a median value.  Expenditure and revenue columns are missing at a higher percentage, so multi-imputation might be the best approach.  However, because we haven't covered how to do that, let's just replace missing values with the mean for fun!"
   ]
  },
  {
   "cell_type": "code",
   "execution_count": 5,
   "metadata": {},
   "outputs": [],
   "source": [
    "us_ed_df2 = us_ed_df.copy()\n",
    "\n",
    "cols = [col for col in us_ed_df2.columns if col not in ['PRIMARY_KEY', 'STATE']]\n",
    "\n",
    "for col in cols:\n",
    "    us_ed_df2.loc[:,col] = us_ed_df2.loc[:,col].fillna(us_ed_df2.loc[:,col].mean())\n",
    "    "
   ]
  },
  {
   "cell_type": "code",
   "execution_count": 6,
   "metadata": {},
   "outputs": [
    {
     "data": {
      "text/plain": [
       "PRIMARY_KEY                     0.0\n",
       "STATE                           0.0\n",
       "YEAR                            0.0\n",
       "ENROLL                          0.0\n",
       "TOTAL_REVENUE                   0.0\n",
       "FEDERAL_REVENUE                 0.0\n",
       "STATE_REVENUE                   0.0\n",
       "LOCAL_REVENUE                   0.0\n",
       "TOTAL_EXPENDITURE               0.0\n",
       "INSTRUCTION_EXPENDITURE         0.0\n",
       "SUPPORT_SERVICES_EXPENDITURE    0.0\n",
       "OTHER_EXPENDITURE               0.0\n",
       "CAPITAL_OUTLAY_EXPENDITURE      0.0\n",
       "GRADES_PK_G                     0.0\n",
       "GRADES_KG_G                     0.0\n",
       "GRADES_4_G                      0.0\n",
       "GRADES_8_G                      0.0\n",
       "GRADES_12_G                     0.0\n",
       "GRADES_1_8_G                    0.0\n",
       "GRADES_9_12_G                   0.0\n",
       "GRADES_ALL_G                    0.0\n",
       "AVG_MATH_4_SCORE                0.0\n",
       "AVG_MATH_8_SCORE                0.0\n",
       "AVG_READING_4_SCORE             0.0\n",
       "AVG_READING_8_SCORE             0.0\n",
       "dtype: float64"
      ]
     },
     "execution_count": 6,
     "metadata": {},
     "output_type": "execute_result"
    }
   ],
   "source": [
    "#Checking to make sure values were filled with mean\n",
    "us_ed_df2.isna().mean()"
   ]
  },
  {
   "cell_type": "markdown",
   "metadata": {},
   "source": [
    "3. Now, take into account the time factor. Replicate your second answer but this time fill in the missing values by using a statistic that is calculated within the year of the observation. For example, if you want to fill a missing value for a variable with the mean of that variable, calculate the mean by using only the observations for that specific year."
   ]
  },
  {
   "cell_type": "code",
   "execution_count": 9,
   "metadata": {},
   "outputs": [],
   "source": [
    "us_ed_df3 = us_ed_df.copy()\n",
    "\n",
    "cols = [col for col in us_ed_df.columns if col not in ['PRIMARY_KEY', 'STATE']]\n",
    "years = us_ed_df3['YEAR'].unique()\n",
    "\n",
    "for col in cols:\n",
    "    for year in years:\n",
    "        us_ed_df3.loc[us_ed_df3['YEAR'] == year,col] = us_ed_df3.loc[us_ed_df3['YEAR'] == year,col].fillna(us_ed_df3[us_ed_df3['YEAR'] == year][col].mean()) \n",
    "        #education3_df.loc[education3_df[\"YEAR\"] == year, col] = education3_df.loc[education3_df[\"YEAR\"] == year, col].fillna(education3_df[education3_df[\"YEAR\"] == year][col].mean())\n"
   ]
  },
  {
   "cell_type": "code",
   "execution_count": 10,
   "metadata": {},
   "outputs": [
    {
     "data": {
      "text/plain": [
       "PRIMARY_KEY                     0.000000\n",
       "STATE                           0.000000\n",
       "YEAR                            0.000000\n",
       "ENROLL                          0.071716\n",
       "TOTAL_REVENUE                   0.034182\n",
       "FEDERAL_REVENUE                 0.034182\n",
       "STATE_REVENUE                   0.034182\n",
       "LOCAL_REVENUE                   0.034182\n",
       "TOTAL_EXPENDITURE               0.034182\n",
       "INSTRUCTION_EXPENDITURE         0.034182\n",
       "SUPPORT_SERVICES_EXPENDITURE    0.034182\n",
       "OTHER_EXPENDITURE               0.071716\n",
       "CAPITAL_OUTLAY_EXPENDITURE      0.034182\n",
       "GRADES_PK_G                     0.068365\n",
       "GRADES_KG_G                     0.068365\n",
       "GRADES_4_G                      0.068365\n",
       "GRADES_8_G                      0.068365\n",
       "GRADES_12_G                     0.068365\n",
       "GRADES_1_8_G                    0.068365\n",
       "GRADES_9_12_G                   0.068365\n",
       "GRADES_ALL_G                    0.068365\n",
       "AVG_MATH_4_SCORE                0.576408\n",
       "AVG_MATH_8_SCORE                0.576408\n",
       "AVG_READING_4_SCORE             0.576408\n",
       "AVG_READING_8_SCORE             0.576408\n",
       "dtype: float64"
      ]
     },
     "execution_count": 10,
     "metadata": {},
     "output_type": "execute_result"
    }
   ],
   "source": [
    "us_ed_df3.isna().mean()"
   ]
  },
  {
   "cell_type": "markdown",
   "metadata": {},
   "source": [
    "4. This time, fill in the missing values using interpolation (extrapolation)."
   ]
  },
  {
   "cell_type": "code",
   "execution_count": 12,
   "metadata": {},
   "outputs": [],
   "source": [
    "us_ed_df4 = us_ed_df.copy()\n",
    "cols = [col for col in us_ed_df.columns if col not in ['PRIMARY_KEY', 'STATE']]\n",
    "\n",
    "for col in cols:\n",
    "    us_ed_df4.loc[:,col] = us_ed_df4.loc[:,col].interpolate(limit_direction='both')"
   ]
  },
  {
   "cell_type": "code",
   "execution_count": 13,
   "metadata": {},
   "outputs": [
    {
     "data": {
      "text/plain": [
       "PRIMARY_KEY                     0.0\n",
       "STATE                           0.0\n",
       "YEAR                            0.0\n",
       "ENROLL                          0.0\n",
       "TOTAL_REVENUE                   0.0\n",
       "FEDERAL_REVENUE                 0.0\n",
       "STATE_REVENUE                   0.0\n",
       "LOCAL_REVENUE                   0.0\n",
       "TOTAL_EXPENDITURE               0.0\n",
       "INSTRUCTION_EXPENDITURE         0.0\n",
       "SUPPORT_SERVICES_EXPENDITURE    0.0\n",
       "OTHER_EXPENDITURE               0.0\n",
       "CAPITAL_OUTLAY_EXPENDITURE      0.0\n",
       "GRADES_PK_G                     0.0\n",
       "GRADES_KG_G                     0.0\n",
       "GRADES_4_G                      0.0\n",
       "GRADES_8_G                      0.0\n",
       "GRADES_12_G                     0.0\n",
       "GRADES_1_8_G                    0.0\n",
       "GRADES_9_12_G                   0.0\n",
       "GRADES_ALL_G                    0.0\n",
       "AVG_MATH_4_SCORE                0.0\n",
       "AVG_MATH_8_SCORE                0.0\n",
       "AVG_READING_4_SCORE             0.0\n",
       "AVG_READING_8_SCORE             0.0\n",
       "dtype: float64"
      ]
     },
     "execution_count": 13,
     "metadata": {},
     "output_type": "execute_result"
    }
   ],
   "source": [
    "us_ed_df4.isna().mean()"
   ]
  },
  {
   "cell_type": "markdown",
   "metadata": {},
   "source": [
    "5. Compare your results for the 2nd, 3rd, and 4th questions. Do you find any meaningful differences?"
   ]
  },
  {
   "cell_type": "code",
   "execution_count": 18,
   "metadata": {},
   "outputs": [
    {
     "name": "stdout",
     "output_type": "stream",
     "text": [
      "ENROLL    648313.0\n",
      "ENROLL    820414.0\n",
      "ENROLL    737401.0\n",
      "ENROLL    737393.5\n",
      "dtype: float64\n",
      "TOTAL_REVENUE    5079546.0\n",
      "TOTAL_REVENUE    6359310.5\n",
      "TOTAL_REVENUE    5778507.0\n",
      "TOTAL_REVENUE    6351759.5\n",
      "dtype: float64\n",
      "FEDERAL_REVENUE    403376.5\n",
      "FEDERAL_REVENUE    516741.0\n",
      "FEDERAL_REVENUE    446180.0\n",
      "FEDERAL_REVENUE    516519.0\n",
      "dtype: float64\n",
      "STATE_REVENUE    2537073.5\n",
      "STATE_REVENUE    3127639.0\n",
      "STATE_REVENUE    2857497.0\n",
      "STATE_REVENUE    3119414.5\n",
      "dtype: float64\n",
      "LOCAL_REVENUE    2055780.5\n",
      "LOCAL_REVENUE    2697257.0\n",
      "LOCAL_REVENUE    2398344.0\n",
      "LOCAL_REVENUE    2650904.0\n",
      "dtype: float64\n",
      "TOTAL_EXPENDITURE    5234505.5\n",
      "TOTAL_EXPENDITURE    6520223.5\n",
      "TOTAL_EXPENDITURE    5858385.0\n",
      "TOTAL_EXPENDITURE    6499891.0\n",
      "dtype: float64\n",
      "INSTRUCTION_EXPENDITURE    2657452.0\n",
      "INSTRUCTION_EXPENDITURE    3358141.5\n",
      "INSTRUCTION_EXPENDITURE    3033016.0\n",
      "INSTRUCTION_EXPENDITURE    3318777.5\n",
      "dtype: float64\n",
      "SUPPORT_SERVICES_EXPENDITURE    1525405.5\n",
      "SUPPORT_SERVICES_EXPENDITURE    1913843.5\n",
      "SUPPORT_SERVICES_EXPENDITURE    1720824.0\n",
      "SUPPORT_SERVICES_EXPENDITURE    1910412.5\n",
      "dtype: float64\n",
      "OTHER_EXPENDITURE    271596.0\n",
      "OTHER_EXPENDITURE    367233.5\n",
      "OTHER_EXPENDITURE    307022.0\n",
      "OTHER_EXPENDITURE    330126.0\n",
      "dtype: float64\n",
      "CAPITAL_OUTLAY_EXPENDITURE    510259.5\n",
      "CAPITAL_OUTLAY_EXPENDITURE    648217.5\n",
      "CAPITAL_OUTLAY_EXPENDITURE    580934.0\n",
      "CAPITAL_OUTLAY_EXPENDITURE    643623.5\n",
      "dtype: float64\n",
      "GRADES_PK_G     8106.0\n",
      "GRADES_PK_G    10505.0\n",
      "GRADES_PK_G     9066.5\n",
      "GRADES_PK_G     5910.5\n",
      "dtype: float64\n",
      "GRADES_KG_G    41597.5\n",
      "GRADES_KG_G    48897.0\n",
      "GRADES_KG_G    42968.0\n",
      "GRADES_KG_G    38507.0\n",
      "dtype: float64\n",
      "GRADES_4_G    43272.0\n",
      "GRADES_4_G    49884.5\n",
      "GRADES_4_G    44909.5\n",
      "GRADES_4_G    38280.5\n",
      "dtype: float64\n",
      "GRADES_8_G    43339.0\n",
      "GRADES_8_G    49571.0\n",
      "GRADES_8_G    44756.5\n",
      "GRADES_8_G    38114.5\n",
      "dtype: float64\n",
      "GRADES_12_G    36735.0\n",
      "GRADES_12_G    39566.0\n",
      "GRADES_12_G    37541.5\n",
      "GRADES_12_G    33279.0\n",
      "dtype: float64\n",
      "GRADES_1_8_G    345775.0\n",
      "GRADES_1_8_G    401586.5\n",
      "GRADES_1_8_G    361170.5\n",
      "GRADES_1_8_G    309734.0\n",
      "dtype: float64\n",
      "GRADES_9_12_G    164260.0\n",
      "GRADES_9_12_G    181701.0\n",
      "GRADES_9_12_G    170652.5\n",
      "GRADES_9_12_G    147235.5\n",
      "dtype: float64\n",
      "GRADES_ALL_G    550342.0\n",
      "GRADES_ALL_G    647326.0\n",
      "GRADES_ALL_G    598392.0\n",
      "GRADES_ALL_G    459124.8\n",
      "dtype: float64\n",
      "AVG_MATH_4_SCORE    237.238552\n",
      "AVG_MATH_4_SCORE    234.768293\n",
      "AVG_MATH_4_SCORE    236.867138\n",
      "AVG_MATH_4_SCORE    234.226904\n",
      "dtype: float64\n",
      "AVG_MATH_8_SCORE    280.618803\n",
      "AVG_MATH_8_SCORE    278.414711\n",
      "AVG_MATH_8_SCORE    279.735763\n",
      "AVG_MATH_8_SCORE    275.711254\n",
      "dtype: float64\n",
      "AVG_READING_4_SCORE    220.416034\n",
      "AVG_READING_4_SCORE    218.866154\n",
      "AVG_READING_4_SCORE    219.799644\n",
      "AVG_READING_4_SCORE    219.771325\n",
      "dtype: float64\n",
      "AVG_READING_8_SCORE    265.010912\n",
      "AVG_READING_8_SCORE    263.661132\n",
      "AVG_READING_8_SCORE    263.363933\n",
      "AVG_READING_8_SCORE    262.615528\n",
      "dtype: float64\n"
     ]
    }
   ],
   "source": [
    "cols = [col for col in us_ed_df.columns if col not in ['PRIMARY_KEY', 'STATE','YEAR']]\n",
    "\n",
    "for col in cols:\n",
    "    temp_df = pd.concat([us_ed_df[col],us_ed_df2[col],us_ed_df3[col],us_ed_df4[col]],axis=1)\n",
    "    print(temp_df.median())\n",
    "    "
   ]
  },
  {
   "cell_type": "markdown",
   "metadata": {},
   "source": [
    "Yes, there do seem to be significant differences between the methods."
   ]
  },
  {
   "cell_type": "code",
   "execution_count": null,
   "metadata": {},
   "outputs": [],
   "source": []
  }
 ],
 "metadata": {
  "kernelspec": {
   "display_name": "Python 3",
   "language": "python",
   "name": "python3"
  },
  "language_info": {
   "codemirror_mode": {
    "name": "ipython",
    "version": 3
   },
   "file_extension": ".py",
   "mimetype": "text/x-python",
   "name": "python",
   "nbconvert_exporter": "python",
   "pygments_lexer": "ipython3",
   "version": "3.7.4"
  }
 },
 "nbformat": 4,
 "nbformat_minor": 2
}
