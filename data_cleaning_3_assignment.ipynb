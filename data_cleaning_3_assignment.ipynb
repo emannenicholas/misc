{
 "cells": [
  {
   "cell_type": "code",
   "execution_count": 20,
   "metadata": {},
   "outputs": [
    {
     "name": "stdout",
     "output_type": "stream",
     "text": [
      "The nb_black extension is already loaded. To reload it, use:\n",
      "  %reload_ext nb_black\n"
     ]
    },
    {
     "data": {
      "application/javascript": [
       "\n",
       "            setTimeout(function() {\n",
       "                var nbb_cell_id = 20;\n",
       "                var nbb_unformatted_code = \"import pandas as pd\\nimport numpy as np\\nfrom scipy.stats import zscore\\n\\nimport matplotlib.pyplot as plt\\n\\n%matplotlib inline\\n\\nfrom sqlalchemy import create_engine\\nimport warnings\\n\\n%load_ext nb_black\";\n",
       "                var nbb_formatted_code = \"import pandas as pd\\nimport numpy as np\\nfrom scipy.stats import zscore\\n\\nimport matplotlib.pyplot as plt\\n\\n%matplotlib inline\\n\\nfrom sqlalchemy import create_engine\\nimport warnings\\n\\n%load_ext nb_black\";\n",
       "                var nbb_cells = Jupyter.notebook.get_cells();\n",
       "                for (var i = 0; i < nbb_cells.length; ++i) {\n",
       "                    if (nbb_cells[i].input_prompt_number == nbb_cell_id) {\n",
       "                        if (nbb_cells[i].get_text() == nbb_unformatted_code) {\n",
       "                             nbb_cells[i].set_text(nbb_formatted_code);\n",
       "                        }\n",
       "                        break;\n",
       "                    }\n",
       "                }\n",
       "            }, 500);\n",
       "            "
      ],
      "text/plain": [
       "<IPython.core.display.Javascript object>"
      ]
     },
     "metadata": {},
     "output_type": "display_data"
    }
   ],
   "source": [
    "import pandas as pd\n",
    "import numpy as np\n",
    "from scipy.stats import zscore\n",
    "\n",
    "import matplotlib.pyplot as plt\n",
    "\n",
    "%matplotlib inline\n",
    "\n",
    "from sqlalchemy import create_engine\n",
    "import warnings\n",
    "\n",
    "%load_ext nb_black"
   ]
  },
  {
   "cell_type": "code",
   "execution_count": 2,
   "metadata": {},
   "outputs": [
    {
     "data": {
      "application/javascript": [
       "\n",
       "            setTimeout(function() {\n",
       "                var nbb_cell_id = 2;\n",
       "                var nbb_unformatted_code = \"postgres_user = \\\"dsbc_student\\\"\\npostgres_pw = \\\"7*.8G9QH21\\\"\\npostgres_host = \\\"142.93.121.174\\\"\\npostgres_port = \\\"5432\\\"\\npostgres_db = \\\"useducation\\\"\\n\\nengine = create_engine(\\n    \\\"postgresql://{}:{}@{}:{}/{}\\\".format(\\n        postgres_user, postgres_pw, postgres_host, postgres_port, postgres_db\\n    )\\n)\\n\\ned_df = pd.read_sql_query(\\\"select * from useducation\\\", con=engine)\\n\\n# no need for an open connection,\\n# as we're only doing a single query\\nengine.dispose()\";\n",
       "                var nbb_formatted_code = \"postgres_user = \\\"dsbc_student\\\"\\npostgres_pw = \\\"7*.8G9QH21\\\"\\npostgres_host = \\\"142.93.121.174\\\"\\npostgres_port = \\\"5432\\\"\\npostgres_db = \\\"useducation\\\"\\n\\nengine = create_engine(\\n    \\\"postgresql://{}:{}@{}:{}/{}\\\".format(\\n        postgres_user, postgres_pw, postgres_host, postgres_port, postgres_db\\n    )\\n)\\n\\ned_df = pd.read_sql_query(\\\"select * from useducation\\\", con=engine)\\n\\n# no need for an open connection,\\n# as we're only doing a single query\\nengine.dispose()\";\n",
       "                var nbb_cells = Jupyter.notebook.get_cells();\n",
       "                for (var i = 0; i < nbb_cells.length; ++i) {\n",
       "                    if (nbb_cells[i].input_prompt_number == nbb_cell_id) {\n",
       "                        if (nbb_cells[i].get_text() == nbb_unformatted_code) {\n",
       "                             nbb_cells[i].set_text(nbb_formatted_code);\n",
       "                        }\n",
       "                        break;\n",
       "                    }\n",
       "                }\n",
       "            }, 500);\n",
       "            "
      ],
      "text/plain": [
       "<IPython.core.display.Javascript object>"
      ]
     },
     "metadata": {},
     "output_type": "display_data"
    }
   ],
   "source": [
    "postgres_user = \"dsbc_student\"\n",
    "postgres_pw = \"7*.8G9QH21\"\n",
    "postgres_host = \"142.93.121.174\"\n",
    "postgres_port = \"5432\"\n",
    "postgres_db = \"useducation\"\n",
    "\n",
    "engine = create_engine(\n",
    "    \"postgresql://{}:{}@{}:{}/{}\".format(\n",
    "        postgres_user, postgres_pw, postgres_host, postgres_port, postgres_db\n",
    "    )\n",
    ")\n",
    "\n",
    "ed_df = pd.read_sql_query(\"select * from useducation\", con=engine)\n",
    "\n",
    "# no need for an open connection,\n",
    "# as we're only doing a single query\n",
    "engine.dispose()"
   ]
  },
  {
   "cell_type": "code",
   "execution_count": 67,
   "metadata": {},
   "outputs": [
    {
     "data": {
      "text/html": [
       "<div>\n",
       "<style scoped>\n",
       "    .dataframe tbody tr th:only-of-type {\n",
       "        vertical-align: middle;\n",
       "    }\n",
       "\n",
       "    .dataframe tbody tr th {\n",
       "        vertical-align: top;\n",
       "    }\n",
       "\n",
       "    .dataframe thead th {\n",
       "        text-align: right;\n",
       "    }\n",
       "</style>\n",
       "<table border=\"1\" class=\"dataframe\">\n",
       "  <thead>\n",
       "    <tr style=\"text-align: right;\">\n",
       "      <th></th>\n",
       "      <th>PRIMARY_KEY</th>\n",
       "      <th>STATE</th>\n",
       "      <th>YEAR</th>\n",
       "      <th>ENROLL</th>\n",
       "      <th>TOTAL_REVENUE</th>\n",
       "      <th>FEDERAL_REVENUE</th>\n",
       "      <th>STATE_REVENUE</th>\n",
       "      <th>LOCAL_REVENUE</th>\n",
       "      <th>TOTAL_EXPENDITURE</th>\n",
       "      <th>INSTRUCTION_EXPENDITURE</th>\n",
       "      <th>...</th>\n",
       "      <th>GRADES_4_G</th>\n",
       "      <th>GRADES_8_G</th>\n",
       "      <th>GRADES_12_G</th>\n",
       "      <th>GRADES_1_8_G</th>\n",
       "      <th>GRADES_9_12_G</th>\n",
       "      <th>GRADES_ALL_G</th>\n",
       "      <th>AVG_MATH_4_SCORE</th>\n",
       "      <th>AVG_MATH_8_SCORE</th>\n",
       "      <th>AVG_READING_4_SCORE</th>\n",
       "      <th>AVG_READING_8_SCORE</th>\n",
       "    </tr>\n",
       "  </thead>\n",
       "  <tbody>\n",
       "    <tr>\n",
       "      <td>0</td>\n",
       "      <td>1992_ALABAMA</td>\n",
       "      <td>ALABAMA</td>\n",
       "      <td>1992</td>\n",
       "      <td>NaN</td>\n",
       "      <td>2678885.0</td>\n",
       "      <td>304177.0</td>\n",
       "      <td>1659028.0</td>\n",
       "      <td>715680.0</td>\n",
       "      <td>2653798.0</td>\n",
       "      <td>1481703.0</td>\n",
       "      <td>...</td>\n",
       "      <td>57948.0</td>\n",
       "      <td>58025.0</td>\n",
       "      <td>41167.0</td>\n",
       "      <td>471564.0</td>\n",
       "      <td>196386.0</td>\n",
       "      <td>676174.0</td>\n",
       "      <td>208.327876</td>\n",
       "      <td>252.187522</td>\n",
       "      <td>207.963517</td>\n",
       "      <td>NaN</td>\n",
       "    </tr>\n",
       "    <tr>\n",
       "      <td>1</td>\n",
       "      <td>1992_ALASKA</td>\n",
       "      <td>ALASKA</td>\n",
       "      <td>1992</td>\n",
       "      <td>NaN</td>\n",
       "      <td>1049591.0</td>\n",
       "      <td>106780.0</td>\n",
       "      <td>720711.0</td>\n",
       "      <td>222100.0</td>\n",
       "      <td>972488.0</td>\n",
       "      <td>498362.0</td>\n",
       "      <td>...</td>\n",
       "      <td>9748.0</td>\n",
       "      <td>8789.0</td>\n",
       "      <td>6714.0</td>\n",
       "      <td>79117.0</td>\n",
       "      <td>30847.0</td>\n",
       "      <td>112335.0</td>\n",
       "      <td>NaN</td>\n",
       "      <td>NaN</td>\n",
       "      <td>NaN</td>\n",
       "      <td>258.859712</td>\n",
       "    </tr>\n",
       "    <tr>\n",
       "      <td>2</td>\n",
       "      <td>1992_ARIZONA</td>\n",
       "      <td>ARIZONA</td>\n",
       "      <td>1992</td>\n",
       "      <td>NaN</td>\n",
       "      <td>3258079.0</td>\n",
       "      <td>297888.0</td>\n",
       "      <td>1369815.0</td>\n",
       "      <td>1590376.0</td>\n",
       "      <td>3401580.0</td>\n",
       "      <td>1435908.0</td>\n",
       "      <td>...</td>\n",
       "      <td>55433.0</td>\n",
       "      <td>49081.0</td>\n",
       "      <td>37410.0</td>\n",
       "      <td>437127.0</td>\n",
       "      <td>175210.0</td>\n",
       "      <td>614881.0</td>\n",
       "      <td>215.253932</td>\n",
       "      <td>265.366278</td>\n",
       "      <td>206.212716</td>\n",
       "      <td>262.169895</td>\n",
       "    </tr>\n",
       "    <tr>\n",
       "      <td>3</td>\n",
       "      <td>1992_ARKANSAS</td>\n",
       "      <td>ARKANSAS</td>\n",
       "      <td>1992</td>\n",
       "      <td>NaN</td>\n",
       "      <td>1711959.0</td>\n",
       "      <td>178571.0</td>\n",
       "      <td>958785.0</td>\n",
       "      <td>574603.0</td>\n",
       "      <td>1743022.0</td>\n",
       "      <td>964323.0</td>\n",
       "      <td>...</td>\n",
       "      <td>34632.0</td>\n",
       "      <td>36011.0</td>\n",
       "      <td>27651.0</td>\n",
       "      <td>281338.0</td>\n",
       "      <td>123113.0</td>\n",
       "      <td>405259.0</td>\n",
       "      <td>210.206028</td>\n",
       "      <td>256.312090</td>\n",
       "      <td>208.634458</td>\n",
       "      <td>264.619665</td>\n",
       "    </tr>\n",
       "    <tr>\n",
       "      <td>4</td>\n",
       "      <td>1992_CALIFORNIA</td>\n",
       "      <td>CALIFORNIA</td>\n",
       "      <td>1992</td>\n",
       "      <td>NaN</td>\n",
       "      <td>26260025.0</td>\n",
       "      <td>2072470.0</td>\n",
       "      <td>16546514.0</td>\n",
       "      <td>7641041.0</td>\n",
       "      <td>27138832.0</td>\n",
       "      <td>14358922.0</td>\n",
       "      <td>...</td>\n",
       "      <td>418418.0</td>\n",
       "      <td>363296.0</td>\n",
       "      <td>270675.0</td>\n",
       "      <td>3286034.0</td>\n",
       "      <td>1372011.0</td>\n",
       "      <td>4717112.0</td>\n",
       "      <td>208.398961</td>\n",
       "      <td>260.892247</td>\n",
       "      <td>196.764414</td>\n",
       "      <td>NaN</td>\n",
       "    </tr>\n",
       "  </tbody>\n",
       "</table>\n",
       "<p>5 rows × 25 columns</p>\n",
       "</div>"
      ],
      "text/plain": [
       "       PRIMARY_KEY       STATE  YEAR  ENROLL  TOTAL_REVENUE  FEDERAL_REVENUE  \\\n",
       "0     1992_ALABAMA     ALABAMA  1992     NaN      2678885.0         304177.0   \n",
       "1      1992_ALASKA      ALASKA  1992     NaN      1049591.0         106780.0   \n",
       "2     1992_ARIZONA     ARIZONA  1992     NaN      3258079.0         297888.0   \n",
       "3    1992_ARKANSAS    ARKANSAS  1992     NaN      1711959.0         178571.0   \n",
       "4  1992_CALIFORNIA  CALIFORNIA  1992     NaN     26260025.0        2072470.0   \n",
       "\n",
       "   STATE_REVENUE  LOCAL_REVENUE  TOTAL_EXPENDITURE  INSTRUCTION_EXPENDITURE  \\\n",
       "0      1659028.0       715680.0          2653798.0                1481703.0   \n",
       "1       720711.0       222100.0           972488.0                 498362.0   \n",
       "2      1369815.0      1590376.0          3401580.0                1435908.0   \n",
       "3       958785.0       574603.0          1743022.0                 964323.0   \n",
       "4     16546514.0      7641041.0         27138832.0               14358922.0   \n",
       "\n",
       "   ...  GRADES_4_G  GRADES_8_G  GRADES_12_G  GRADES_1_8_G  GRADES_9_12_G  \\\n",
       "0  ...     57948.0     58025.0      41167.0      471564.0       196386.0   \n",
       "1  ...      9748.0      8789.0       6714.0       79117.0        30847.0   \n",
       "2  ...     55433.0     49081.0      37410.0      437127.0       175210.0   \n",
       "3  ...     34632.0     36011.0      27651.0      281338.0       123113.0   \n",
       "4  ...    418418.0    363296.0     270675.0     3286034.0      1372011.0   \n",
       "\n",
       "   GRADES_ALL_G  AVG_MATH_4_SCORE  AVG_MATH_8_SCORE  AVG_READING_4_SCORE  \\\n",
       "0      676174.0        208.327876        252.187522           207.963517   \n",
       "1      112335.0               NaN               NaN                  NaN   \n",
       "2      614881.0        215.253932        265.366278           206.212716   \n",
       "3      405259.0        210.206028        256.312090           208.634458   \n",
       "4     4717112.0        208.398961        260.892247           196.764414   \n",
       "\n",
       "   AVG_READING_8_SCORE  \n",
       "0                  NaN  \n",
       "1           258.859712  \n",
       "2           262.169895  \n",
       "3           264.619665  \n",
       "4                  NaN  \n",
       "\n",
       "[5 rows x 25 columns]"
      ]
     },
     "execution_count": 67,
     "metadata": {},
     "output_type": "execute_result"
    },
    {
     "data": {
      "application/javascript": [
       "\n",
       "            setTimeout(function() {\n",
       "                var nbb_cell_id = 67;\n",
       "                var nbb_unformatted_code = \"ed_df.head()\";\n",
       "                var nbb_formatted_code = \"ed_df.head()\";\n",
       "                var nbb_cells = Jupyter.notebook.get_cells();\n",
       "                for (var i = 0; i < nbb_cells.length; ++i) {\n",
       "                    if (nbb_cells[i].input_prompt_number == nbb_cell_id) {\n",
       "                        if (nbb_cells[i].get_text() == nbb_unformatted_code) {\n",
       "                             nbb_cells[i].set_text(nbb_formatted_code);\n",
       "                        }\n",
       "                        break;\n",
       "                    }\n",
       "                }\n",
       "            }, 500);\n",
       "            "
      ],
      "text/plain": [
       "<IPython.core.display.Javascript object>"
      ]
     },
     "metadata": {},
     "output_type": "display_data"
    }
   ],
   "source": [
    "ed_df.head()"
   ]
  },
  {
   "cell_type": "code",
   "execution_count": 3,
   "metadata": {},
   "outputs": [
    {
     "name": "stdout",
     "output_type": "stream",
     "text": [
      "<class 'pandas.core.frame.DataFrame'>\n",
      "RangeIndex: 1492 entries, 0 to 1491\n",
      "Data columns (total 25 columns):\n",
      "PRIMARY_KEY                     1492 non-null object\n",
      "STATE                           1492 non-null object\n",
      "YEAR                            1492 non-null int64\n",
      "ENROLL                          1229 non-null float64\n",
      "TOTAL_REVENUE                   1280 non-null float64\n",
      "FEDERAL_REVENUE                 1280 non-null float64\n",
      "STATE_REVENUE                   1280 non-null float64\n",
      "LOCAL_REVENUE                   1280 non-null float64\n",
      "TOTAL_EXPENDITURE               1280 non-null float64\n",
      "INSTRUCTION_EXPENDITURE         1280 non-null float64\n",
      "SUPPORT_SERVICES_EXPENDITURE    1280 non-null float64\n",
      "OTHER_EXPENDITURE               1229 non-null float64\n",
      "CAPITAL_OUTLAY_EXPENDITURE      1280 non-null float64\n",
      "GRADES_PK_G                     1319 non-null float64\n",
      "GRADES_KG_G                     1360 non-null float64\n",
      "GRADES_4_G                      1361 non-null float64\n",
      "GRADES_8_G                      1361 non-null float64\n",
      "GRADES_12_G                     1361 non-null float64\n",
      "GRADES_1_8_G                    1361 non-null float64\n",
      "GRADES_9_12_G                   1361 non-null float64\n",
      "GRADES_ALL_G                    1319 non-null float64\n",
      "AVG_MATH_4_SCORE                536 non-null float64\n",
      "AVG_MATH_8_SCORE                532 non-null float64\n",
      "AVG_READING_4_SCORE             533 non-null float64\n",
      "AVG_READING_8_SCORE             498 non-null float64\n",
      "dtypes: float64(22), int64(1), object(2)\n",
      "memory usage: 291.5+ KB\n"
     ]
    },
    {
     "data": {
      "application/javascript": [
       "\n",
       "            setTimeout(function() {\n",
       "                var nbb_cell_id = 3;\n",
       "                var nbb_unformatted_code = \"ed_df.info()\";\n",
       "                var nbb_formatted_code = \"ed_df.info()\";\n",
       "                var nbb_cells = Jupyter.notebook.get_cells();\n",
       "                for (var i = 0; i < nbb_cells.length; ++i) {\n",
       "                    if (nbb_cells[i].input_prompt_number == nbb_cell_id) {\n",
       "                        if (nbb_cells[i].get_text() == nbb_unformatted_code) {\n",
       "                             nbb_cells[i].set_text(nbb_formatted_code);\n",
       "                        }\n",
       "                        break;\n",
       "                    }\n",
       "                }\n",
       "            }, 500);\n",
       "            "
      ],
      "text/plain": [
       "<IPython.core.display.Javascript object>"
      ]
     },
     "metadata": {},
     "output_type": "display_data"
    }
   ],
   "source": [
    "ed_df.info()"
   ]
  },
  {
   "cell_type": "markdown",
   "metadata": {},
   "source": [
    "### 1. Consider the two variables: TOTAL_REVENUE and TOTAL_EXPENDITURE. Do these variables have outlier values?"
   ]
  },
  {
   "cell_type": "markdown",
   "metadata": {},
   "source": [
    "In order to detect outliers, let's first make sure we don't have any missing data, and drop it if we do.  (Even though we have time series data, and so might want to interpolate the missing value, it would not be prudent to do so without investigating how the missing data is distributed.  Because that's not the point of this problem set, I decided to drop the missing values instead to be safe.). Then visualize the data with boxplot and histogram.  Last, we detect the outliers with statistical methods (Z score and Tukey's Method)."
   ]
  },
  {
   "cell_type": "code",
   "execution_count": 69,
   "metadata": {},
   "outputs": [
    {
     "name": "stdout",
     "output_type": "stream",
     "text": [
      "Dropping the missing 14.21% of total revenue data\n",
      "Dropping the missing 14.21% of total expenditure data\n"
     ]
    },
    {
     "data": {
      "application/javascript": [
       "\n",
       "            setTimeout(function() {\n",
       "                var nbb_cell_id = 69;\n",
       "                var nbb_unformatted_code = \"missing_perc_rev = ed_df[\\\"TOTAL_REVENUE\\\"].isna().mean() * 100\\nprint(f\\\"Dropping the missing {missing_perc_rev:.2f}% of total revenue data\\\")\\n\\nmissing_perc_exp = ed_df[\\\"TOTAL_EXPENDITURE\\\"].isna().mean() * 100\\nprint(f\\\"Dropping the missing {missing_perc_exp:.2f}% of total expenditure data\\\")\\n\\ndropped_rev = ed_df[\\\"TOTAL_REVENUE\\\"].dropna()\\ndropped_exp = ed_df[\\\"TOTAL_EXPENDITURE\\\"].dropna()\";\n",
       "                var nbb_formatted_code = \"missing_perc_rev = ed_df[\\\"TOTAL_REVENUE\\\"].isna().mean() * 100\\nprint(f\\\"Dropping the missing {missing_perc_rev:.2f}% of total revenue data\\\")\\n\\nmissing_perc_exp = ed_df[\\\"TOTAL_EXPENDITURE\\\"].isna().mean() * 100\\nprint(f\\\"Dropping the missing {missing_perc_exp:.2f}% of total expenditure data\\\")\\n\\ndropped_rev = ed_df[\\\"TOTAL_REVENUE\\\"].dropna()\\ndropped_exp = ed_df[\\\"TOTAL_EXPENDITURE\\\"].dropna()\";\n",
       "                var nbb_cells = Jupyter.notebook.get_cells();\n",
       "                for (var i = 0; i < nbb_cells.length; ++i) {\n",
       "                    if (nbb_cells[i].input_prompt_number == nbb_cell_id) {\n",
       "                        if (nbb_cells[i].get_text() == nbb_unformatted_code) {\n",
       "                             nbb_cells[i].set_text(nbb_formatted_code);\n",
       "                        }\n",
       "                        break;\n",
       "                    }\n",
       "                }\n",
       "            }, 500);\n",
       "            "
      ],
      "text/plain": [
       "<IPython.core.display.Javascript object>"
      ]
     },
     "metadata": {},
     "output_type": "display_data"
    }
   ],
   "source": [
    "missing_perc_rev = ed_df[\"TOTAL_REVENUE\"].isna().mean() * 100\n",
    "print(f\"Dropping the missing {missing_perc_rev:.2f}% of total revenue data\")\n",
    "\n",
    "missing_perc_exp = ed_df[\"TOTAL_EXPENDITURE\"].isna().mean() * 100\n",
    "print(f\"Dropping the missing {missing_perc_exp:.2f}% of total expenditure data\")\n",
    "\n",
    "dropped_rev = ed_df[\"TOTAL_REVENUE\"].dropna()\n",
    "dropped_exp = ed_df[\"TOTAL_EXPENDITURE\"].dropna()"
   ]
  },
  {
   "cell_type": "code",
   "execution_count": 13,
   "metadata": {},
   "outputs": [
    {
     "data": {
      "image/png": "[encoded data removed]",
      "text/plain": [
       "<Figure size 720x432 with 1 Axes>"
      ]
     },
     "metadata": {
      "needs_background": "light"
     },
     "output_type": "display_data"
    },
    {
     "data": {
      "application/javascript": [
       "\n",
       "            setTimeout(function() {\n",
       "                var nbb_cell_id = 13;\n",
       "                var nbb_unformatted_code = \"fig, ax1 = plt.subplots(figsize=(10, 6))\\nax1.boxplot([dropped_rev, dropped_exp])\\nplt.title(\\\"Total Revenue and Total Expenditure\\\")\\nax1.set_xticklabels((\\\"Total Revenue\\\", \\\"Total Expenditure\\\"), rotation=45, fontsize=10)\\nplt.show()\";\n",
       "                var nbb_formatted_code = \"fig, ax1 = plt.subplots(figsize=(10, 6))\\nax1.boxplot([dropped_rev, dropped_exp])\\nplt.title(\\\"Total Revenue and Total Expenditure\\\")\\nax1.set_xticklabels((\\\"Total Revenue\\\", \\\"Total Expenditure\\\"), rotation=45, fontsize=10)\\nplt.show()\";\n",
       "                var nbb_cells = Jupyter.notebook.get_cells();\n",
       "                for (var i = 0; i < nbb_cells.length; ++i) {\n",
       "                    if (nbb_cells[i].input_prompt_number == nbb_cell_id) {\n",
       "                        if (nbb_cells[i].get_text() == nbb_unformatted_code) {\n",
       "                             nbb_cells[i].set_text(nbb_formatted_code);\n",
       "                        }\n",
       "                        break;\n",
       "                    }\n",
       "                }\n",
       "            }, 500);\n",
       "            "
      ],
      "text/plain": [
       "<IPython.core.display.Javascript object>"
      ]
     },
     "metadata": {},
     "output_type": "display_data"
    }
   ],
   "source": [
    "fig, ax1 = plt.subplots(figsize=(10, 6))\n",
    "ax1.boxplot([dropped_rev, dropped_exp])\n",
    "plt.title(\"Total Revenue and Total Expenditure\")\n",
    "ax1.set_xticklabels((\"Total Revenue\", \"Total Expenditure\"), rotation=45, fontsize=10)\n",
    "plt.show()"
   ]
  },
  {
   "cell_type": "code",
   "execution_count": 19,
   "metadata": {},
   "outputs": [
    {
     "data": {
      "image/png": "[encoded data removed]",
      "text/plain": [
       "<Figure size 720x432 with 1 Axes>"
      ]
     },
     "metadata": {
      "needs_background": "light"
     },
     "output_type": "display_data"
    },
    {
     "data": {
      "application/javascript": [
       "\n",
       "            setTimeout(function() {\n",
       "                var nbb_cell_id = 19;\n",
       "                var nbb_unformatted_code = \"fig, ax1 = plt.subplots(figsize=(10, 6))\\nax1.hist([dropped_rev, dropped_exp])\\nplt.title(\\\"Total Revenue and Total Expenditure\\\")\\nplt.legend(('Total Revenue','Total Expenditure'))\\nplt.show()\";\n",
       "                var nbb_formatted_code = \"fig, ax1 = plt.subplots(figsize=(10, 6))\\nax1.hist([dropped_rev, dropped_exp])\\nplt.title(\\\"Total Revenue and Total Expenditure\\\")\\nplt.legend((\\\"Total Revenue\\\", \\\"Total Expenditure\\\"))\\nplt.show()\";\n",
       "                var nbb_cells = Jupyter.notebook.get_cells();\n",
       "                for (var i = 0; i < nbb_cells.length; ++i) {\n",
       "                    if (nbb_cells[i].input_prompt_number == nbb_cell_id) {\n",
       "                        if (nbb_cells[i].get_text() == nbb_unformatted_code) {\n",
       "                             nbb_cells[i].set_text(nbb_formatted_code);\n",
       "                        }\n",
       "                        break;\n",
       "                    }\n",
       "                }\n",
       "            }, 500);\n",
       "            "
      ],
      "text/plain": [
       "<IPython.core.display.Javascript object>"
      ]
     },
     "metadata": {},
     "output_type": "display_data"
    }
   ],
   "source": [
    "fig, ax1 = plt.subplots(figsize=(10, 6))\n",
    "ax1.hist([dropped_rev, dropped_exp])\n",
    "plt.title(\"Total Revenue and Total Expenditure\")\n",
    "plt.legend((\"Total Revenue\", \"Total Expenditure\"))\n",
    "plt.show()"
   ]
  },
  {
   "cell_type": "markdown",
   "metadata": {},
   "source": [
    "Above we see many potential outliers on the high end of distribution.  Really, this just looks logarithmically distributed to me...but let's see what the stats say:"
   ]
  },
  {
   "cell_type": "code",
   "execution_count": 21,
   "metadata": {},
   "outputs": [
    {
     "name": "stdout",
     "output_type": "stream",
     "text": [
      "The score threshold is: 1\n",
      "The indices of the outliers:\n",
      "(array([   4,   32,   56,   85,  108,  137,  150,  161,  190,  213,  241,\n",
      "        252,  264,  292,  304,  316,  344,  355,  367,  395,  406,  419,\n",
      "        448,  459,  471,  480,  500,  511,  523,  551,  563,  575,  603,\n",
      "        614,  626,  631,  635,  652,  654,  660,  666,  678,  683,  687,\n",
      "        704,  706,  712,  717,  729,  735,  739,  756,  758,  761,  764,\n",
      "        769,  782,  787,  791,  809,  811,  814,  817,  822,  834,  840,\n",
      "        844,  861,  863,  866,  869,  874,  889,  895,  899,  916,  918,\n",
      "        921,  924,  929,  941,  947,  951,  968,  970,  973,  976,  981,\n",
      "        993,  998, 1002, 1019, 1021, 1024, 1027, 1032, 1044, 1049, 1053,\n",
      "       1070, 1072, 1075, 1078, 1083, 1095, 1100, 1104, 1121, 1123, 1126,\n",
      "       1129, 1134, 1146, 1151, 1155, 1172, 1174, 1177, 1180, 1185, 1197,\n",
      "       1202, 1206, 1223, 1225, 1228, 1231, 1236, 1248, 1253, 1257, 1274,\n",
      "       1276, 1279]),)\n",
      "Number of outliers is: 134\n",
      "The score threshold is: 2\n",
      "The indices of the outliers:\n",
      "(array([ 264,  316,  367,  419,  471,  480,  500,  523,  551,  563,  575,\n",
      "        603,  614,  626,  654,  666,  678,  706,  717,  729,  758,  769,\n",
      "        782,  811,  822,  834,  863,  874,  889,  918,  929,  941,  970,\n",
      "        981,  993, 1021, 1032, 1044, 1072, 1083, 1095, 1123, 1134, 1146,\n",
      "       1174, 1185, 1197, 1225, 1236, 1248, 1257, 1276]),)\n",
      "Number of outliers is: 52\n",
      "The score threshold is: 3\n",
      "The indices of the outliers:\n",
      "(array([ 419,  471,  480,  523,  575,  626,  678,  729,  758,  782,  811,\n",
      "        822,  834,  863,  874,  889,  918,  929,  941,  970,  981,  993,\n",
      "       1021, 1032, 1044, 1072, 1083, 1095, 1123, 1134, 1146, 1174, 1185,\n",
      "       1197, 1225, 1236, 1248, 1276]),)\n",
      "Number of outliers is: 38\n",
      "The score threshold is: 4\n",
      "The indices of the outliers:\n",
      "(array([ 480,  575,  626,  678,  729,  782,  834,  889,  941,  993, 1021,\n",
      "       1044, 1072, 1095, 1123, 1146, 1174, 1197, 1225, 1248, 1276]),)\n",
      "Number of outliers is: 21\n"
     ]
    },
    {
     "data": {
      "application/javascript": [
       "\n",
       "            setTimeout(function() {\n",
       "                var nbb_cell_id = 21;\n",
       "                var nbb_unformatted_code = \"z_scores = zscore(dropped_rev)\\nfor threshold in range(1,5):\\n    print(\\\"The score threshold is: {}\\\".format(threshold))\\n    print(\\\"The indices of the outliers:\\\")\\n    print(np.where(z_scores > threshold))\\n    print(\\\"Number of outliers is: {}\\\".format(len((np.where(z_scores > threshold)[0]))))\";\n",
       "                var nbb_formatted_code = \"z_scores = zscore(dropped_rev)\\nfor threshold in range(1, 5):\\n    print(\\\"The score threshold is: {}\\\".format(threshold))\\n    print(\\\"The indices of the outliers:\\\")\\n    print(np.where(z_scores > threshold))\\n    print(\\\"Number of outliers is: {}\\\".format(len((np.where(z_scores > threshold)[0]))))\";\n",
       "                var nbb_cells = Jupyter.notebook.get_cells();\n",
       "                for (var i = 0; i < nbb_cells.length; ++i) {\n",
       "                    if (nbb_cells[i].input_prompt_number == nbb_cell_id) {\n",
       "                        if (nbb_cells[i].get_text() == nbb_unformatted_code) {\n",
       "                             nbb_cells[i].set_text(nbb_formatted_code);\n",
       "                        }\n",
       "                        break;\n",
       "                    }\n",
       "                }\n",
       "            }, 500);\n",
       "            "
      ],
      "text/plain": [
       "<IPython.core.display.Javascript object>"
      ]
     },
     "metadata": {},
     "output_type": "display_data"
    }
   ],
   "source": [
    "#calculate differnt total revenue Z-score thresholds\n",
    "#Note: taken directly from the reading\n",
    "z_scores = zscore(dropped_rev)\n",
    "for threshold in range(1, 5):\n",
    "    print(\"The score threshold is: {}\".format(threshold))\n",
    "    print(\"The indices of the outliers:\")\n",
    "    print(np.where(z_scores > threshold))\n",
    "    print(\"Number of outliers is: {}\".format(len((np.where(z_scores > threshold)[0]))))"
   ]
  },
  {
   "cell_type": "code",
   "execution_count": 22,
   "metadata": {},
   "outputs": [
    {
     "name": "stdout",
     "output_type": "stream",
     "text": [
      "The score threshold is: 1\n",
      "The indices of the outliers:\n",
      "(array([   4,   32,   56,   85,  108,  137,  150,  161,  190,  213,  241,\n",
      "        252,  264,  292,  304,  316,  344,  355,  367,  395,  406,  419,\n",
      "        448,  459,  471,  480,  500,  511,  523,  551,  563,  575,  584,\n",
      "        603,  614,  626,  631,  635,  652,  654,  660,  666,  678,  683,\n",
      "        687,  704,  706,  712,  717,  729,  735,  739,  756,  758,  764,\n",
      "        769,  782,  787,  791,  809,  811,  814,  817,  822,  834,  840,\n",
      "        844,  861,  863,  866,  869,  874,  889,  895,  899,  916,  918,\n",
      "        921,  924,  929,  941,  947,  951,  968,  970,  973,  976,  981,\n",
      "        993,  998, 1002, 1019, 1021, 1024, 1027, 1032, 1044, 1049, 1053,\n",
      "       1070, 1072, 1075, 1078, 1083, 1095, 1100, 1104, 1121, 1123, 1126,\n",
      "       1129, 1134, 1146, 1151, 1155, 1172, 1174, 1177, 1180, 1185, 1197,\n",
      "       1202, 1206, 1223, 1225, 1228, 1231, 1236, 1248, 1253, 1257, 1274,\n",
      "       1276, 1279]),)\n",
      "Number of outliers is: 134\n",
      "The score threshold is: 2\n",
      "The indices of the outliers:\n",
      "(array([ 264,  316,  367,  419,  448,  471,  480,  500,  511,  523,  551,\n",
      "        563,  575,  603,  614,  626,  654,  666,  678,  706,  717,  729,\n",
      "        758,  769,  782,  811,  822,  834,  863,  874,  889,  918,  929,\n",
      "        941,  970,  981,  993, 1021, 1032, 1044, 1072, 1083, 1095, 1123,\n",
      "       1134, 1146, 1174, 1185, 1197, 1225, 1236, 1248, 1276]),)\n",
      "Number of outliers is: 53\n",
      "The score threshold is: 3\n",
      "The indices of the outliers:\n",
      "(array([ 419,  471,  480,  523,  575,  626,  678,  729,  758,  782,  811,\n",
      "        822,  834,  863,  874,  889,  918,  929,  941,  970,  981,  993,\n",
      "       1021, 1032, 1044, 1072, 1083, 1095, 1123, 1134, 1146, 1174, 1185,\n",
      "       1197, 1225, 1236, 1248, 1276]),)\n",
      "Number of outliers is: 38\n",
      "The score threshold is: 4\n",
      "The indices of the outliers:\n",
      "(array([ 480,  575,  626,  678,  729,  782,  834,  889,  918,  941,  970,\n",
      "        993, 1021, 1044, 1072, 1095, 1123, 1146, 1174, 1197, 1225, 1248,\n",
      "       1276]),)\n",
      "Number of outliers is: 23\n"
     ]
    },
    {
     "data": {
      "application/javascript": [
       "\n",
       "            setTimeout(function() {\n",
       "                var nbb_cell_id = 22;\n",
       "                var nbb_unformatted_code = \"#calculate differnt total revenue Z-score thresholds\\n#Note: taken directly from the reading\\nz_scores = zscore(dropped_exp)\\nfor threshold in range(1, 5):\\n    print(\\\"The score threshold is: {}\\\".format(threshold))\\n    print(\\\"The indices of the outliers:\\\")\\n    print(np.where(z_scores > threshold))\\n    print(\\\"Number of outliers is: {}\\\".format(len((np.where(z_scores > threshold)[0]))))\";\n",
       "                var nbb_formatted_code = \"# calculate differnt total revenue Z-score thresholds\\n# Note: taken directly from the reading\\nz_scores = zscore(dropped_exp)\\nfor threshold in range(1, 5):\\n    print(\\\"The score threshold is: {}\\\".format(threshold))\\n    print(\\\"The indices of the outliers:\\\")\\n    print(np.where(z_scores > threshold))\\n    print(\\\"Number of outliers is: {}\\\".format(len((np.where(z_scores > threshold)[0]))))\";\n",
       "                var nbb_cells = Jupyter.notebook.get_cells();\n",
       "                for (var i = 0; i < nbb_cells.length; ++i) {\n",
       "                    if (nbb_cells[i].input_prompt_number == nbb_cell_id) {\n",
       "                        if (nbb_cells[i].get_text() == nbb_unformatted_code) {\n",
       "                             nbb_cells[i].set_text(nbb_formatted_code);\n",
       "                        }\n",
       "                        break;\n",
       "                    }\n",
       "                }\n",
       "            }, 500);\n",
       "            "
      ],
      "text/plain": [
       "<IPython.core.display.Javascript object>"
      ]
     },
     "metadata": {},
     "output_type": "display_data"
    }
   ],
   "source": [
    "# calculate differnt total expenditure Z-score thresholds\n",
    "# Note: taken directly from the reading\n",
    "z_scores = zscore(dropped_exp)\n",
    "for threshold in range(1, 5):\n",
    "    print(\"The score threshold is: {}\".format(threshold))\n",
    "    print(\"The indices of the outliers:\")\n",
    "    print(np.where(z_scores > threshold))\n",
    "    print(\"Number of outliers is: {}\".format(len((np.where(z_scores > threshold)[0]))))"
   ]
  },
  {
   "cell_type": "code",
   "execution_count": 43,
   "metadata": {},
   "outputs": [
    {
     "name": "stdout",
     "output_type": "stream",
     "text": [
      "Printing score thresholds and number of outliers for Total Revenue:\n",
      "\n",
      "\n",
      "\t The score threshold is: 1.0\n",
      "\t Number of outliers is: 146\n",
      "\n",
      "\n",
      "\t The score threshold is: 1.5\n",
      "\t Number of outliers is: 110\n",
      "\n",
      "\n",
      "\t The score threshold is: 2.0\n",
      "\t Number of outliers is: 74\n",
      "\n",
      "\n",
      "\t The score threshold is: 2.5\n",
      "\t Number of outliers is: 52\n",
      "\n",
      "\n",
      "\t The score threshold is: 3.0\n",
      "\t Number of outliers is: 45\n",
      "\n",
      "\n",
      "\t The score threshold is: 3.5\n",
      "\t Number of outliers is: 40\n",
      "\n",
      "\n",
      "\t The score threshold is: 4.0\n",
      "\t Number of outliers is: 37\n",
      "\n",
      "\n",
      "\t The score threshold is: 4.5\n",
      "\t Number of outliers is: 32\n",
      "\n",
      "\n",
      "\n",
      "\n",
      "Printing score thresholds and number of outliers for Total Expenditure:\n",
      "\n",
      "\n",
      "\t The score threshold is: 1.0\n",
      "\t Number of outliers is: 152\n",
      "\n",
      "\n",
      "\t The score threshold is: 1.5\n",
      "\t Number of outliers is: 111\n",
      "\n",
      "\n",
      "\t The score threshold is: 2.0\n",
      "\t Number of outliers is: 80\n",
      "\n",
      "\n",
      "\t The score threshold is: 2.5\n",
      "\t Number of outliers is: 55\n",
      "\n",
      "\n",
      "\t The score threshold is: 3.0\n",
      "\t Number of outliers is: 49\n",
      "\n",
      "\n",
      "\t The score threshold is: 3.5\n",
      "\t Number of outliers is: 43\n",
      "\n",
      "\n",
      "\t The score threshold is: 4.0\n",
      "\t Number of outliers is: 39\n",
      "\n",
      "\n",
      "\t The score threshold is: 4.5\n",
      "\t Number of outliers is: 35\n",
      "\n",
      "\n",
      "\n",
      "\n"
     ]
    },
    {
     "data": {
      "application/javascript": [
       "\n",
       "            setTimeout(function() {\n",
       "                var nbb_cell_id = 43;\n",
       "                var nbb_unformatted_code = \"# Tukey's Method applied to total revenue\\n# at different thresholds\\n# note: taken directly from reading\\ndatasets = [dropped_rev, dropped_exp]\\ndataset_names = ['Total Revenue', \\\"Total Expenditure\\\"]\\n\\nfor i, dataset in enumerate(datasets):\\n    print(f'Printing score thresholds and number of outliers for {dataset_names[i]}:')\\n    print('\\\\n')\\n    q75, q25 = np.percentile(dataset, [75, 25])\\n    iqr = q75 - q25\\n    \\n    for threshold in np.arange(1, 5, 0.5):\\n        min_val = q25 - (iqr * threshold)\\n        max_val = q75 + (iqr * threshold)\\n        print('\\\\t',\\\"The score threshold is: {}\\\".format(threshold))\\n        print('\\\\t',\\n            \\\"Number of outliers is: {}\\\".format(\\n                len((np.where((dataset > max_val) | (dataset < min_val))[0]))\\n            )\\n        )\\n        print('\\\\n')\\n    print('\\\\n')\";\n",
       "                var nbb_formatted_code = \"# Tukey's Method applied to total revenue\\n# at different thresholds\\n# note: taken directly from reading\\ndatasets = [dropped_rev, dropped_exp]\\ndataset_names = [\\\"Total Revenue\\\", \\\"Total Expenditure\\\"]\\n\\nfor i, dataset in enumerate(datasets):\\n    print(f\\\"Printing score thresholds and number of outliers for {dataset_names[i]}:\\\")\\n    print(\\\"\\\\n\\\")\\n    q75, q25 = np.percentile(dataset, [75, 25])\\n    iqr = q75 - q25\\n\\n    for threshold in np.arange(1, 5, 0.5):\\n        min_val = q25 - (iqr * threshold)\\n        max_val = q75 + (iqr * threshold)\\n        print(\\\"\\\\t\\\", \\\"The score threshold is: {}\\\".format(threshold))\\n        print(\\n            \\\"\\\\t\\\",\\n            \\\"Number of outliers is: {}\\\".format(\\n                len((np.where((dataset > max_val) | (dataset < min_val))[0]))\\n            ),\\n        )\\n        print(\\\"\\\\n\\\")\\n    print(\\\"\\\\n\\\")\";\n",
       "                var nbb_cells = Jupyter.notebook.get_cells();\n",
       "                for (var i = 0; i < nbb_cells.length; ++i) {\n",
       "                    if (nbb_cells[i].input_prompt_number == nbb_cell_id) {\n",
       "                        if (nbb_cells[i].get_text() == nbb_unformatted_code) {\n",
       "                             nbb_cells[i].set_text(nbb_formatted_code);\n",
       "                        }\n",
       "                        break;\n",
       "                    }\n",
       "                }\n",
       "            }, 500);\n",
       "            "
      ],
      "text/plain": [
       "<IPython.core.display.Javascript object>"
      ]
     },
     "metadata": {},
     "output_type": "display_data"
    }
   ],
   "source": [
    "# Tukey's Method applied to total revenue\n",
    "# at different thresholds\n",
    "# note: taken directly from reading\n",
    "datasets = [dropped_rev, dropped_exp]\n",
    "dataset_names = ['Total Revenue', \"Total Expenditure\"]\n",
    "\n",
    "for i, dataset in enumerate(datasets):\n",
    "    print(f'Printing score thresholds and number of outliers for {dataset_names[i]}:')\n",
    "    print('\\n')\n",
    "    q75, q25 = np.percentile(dataset, [75, 25])\n",
    "    iqr = q75 - q25\n",
    "    \n",
    "    for threshold in np.arange(1, 5, 0.5):\n",
    "        min_val = q25 - (iqr * threshold)\n",
    "        max_val = q75 + (iqr * threshold)\n",
    "        print('\\t',\"The score threshold is: {}\".format(threshold))\n",
    "        print('\\t',\n",
    "            \"Number of outliers is: {}\".format(\n",
    "                len((np.where((dataset > max_val) | (dataset < min_val))[0]))\n",
    "            )\n",
    "        )\n",
    "        print('\\n')\n",
    "    print('\\n')\n"
   ]
  },
  {
   "cell_type": "markdown",
   "metadata": {},
   "source": [
    "So we see from the two outlier detection methods that there are outliers in both variables at the high end of the revenue and expenditure distributions, if we're not taking into account that these variables are probably logarithmically distributed, and therefore should be transformed before such outlier analysis.  In fact, let's transform these data and recalculate the outliers."
   ]
  },
  {
   "cell_type": "code",
   "execution_count": 44,
   "metadata": {},
   "outputs": [
    {
     "data": {
      "image/png": "[encoded data removed]",
      "text/plain": [
       "<Figure size 720x432 with 1 Axes>"
      ]
     },
     "metadata": {
      "needs_background": "light"
     },
     "output_type": "display_data"
    },
    {
     "data": {
      "application/javascript": [
       "\n",
       "            setTimeout(function() {\n",
       "                var nbb_cell_id = 44;\n",
       "                var nbb_unformatted_code = \"log_rev = np.log(dropped_rev)\\nlog_exp = np.log(dropped_exp)\\n\\nfig, ax1 = plt.subplots(figsize=(10, 6))\\nax1.boxplot([log_rev, log_exp])\\nplt.title(\\\"Log Total Revenue and Log Total Expenditure\\\")\\nax1.set_xticklabels((\\\"Total Revenue\\\", \\\"Total Expenditure\\\"), rotation=45, fontsize=10)\\nplt.show()\";\n",
       "                var nbb_formatted_code = \"log_rev = np.log(dropped_rev)\\nlog_exp = np.log(dropped_exp)\\n\\nfig, ax1 = plt.subplots(figsize=(10, 6))\\nax1.boxplot([log_rev, log_exp])\\nplt.title(\\\"Log Total Revenue and Log Total Expenditure\\\")\\nax1.set_xticklabels((\\\"Total Revenue\\\", \\\"Total Expenditure\\\"), rotation=45, fontsize=10)\\nplt.show()\";\n",
       "                var nbb_cells = Jupyter.notebook.get_cells();\n",
       "                for (var i = 0; i < nbb_cells.length; ++i) {\n",
       "                    if (nbb_cells[i].input_prompt_number == nbb_cell_id) {\n",
       "                        if (nbb_cells[i].get_text() == nbb_unformatted_code) {\n",
       "                             nbb_cells[i].set_text(nbb_formatted_code);\n",
       "                        }\n",
       "                        break;\n",
       "                    }\n",
       "                }\n",
       "            }, 500);\n",
       "            "
      ],
      "text/plain": [
       "<IPython.core.display.Javascript object>"
      ]
     },
     "metadata": {},
     "output_type": "display_data"
    }
   ],
   "source": [
    "log_rev = np.log(dropped_rev)\n",
    "log_exp = np.log(dropped_exp)\n",
    "\n",
    "fig, ax1 = plt.subplots(figsize=(10, 6))\n",
    "ax1.boxplot([log_rev, log_exp])\n",
    "plt.title(\"Log Total Revenue and Log Total Expenditure\")\n",
    "ax1.set_xticklabels((\"Total Revenue\", \"Total Expenditure\"), rotation=45, fontsize=10)\n",
    "plt.show()"
   ]
  },
  {
   "cell_type": "code",
   "execution_count": 45,
   "metadata": {},
   "outputs": [
    {
     "data": {
      "image/png": "[encoded data removed]",
      "text/plain": [
       "<Figure size 720x432 with 1 Axes>"
      ]
     },
     "metadata": {
      "needs_background": "light"
     },
     "output_type": "display_data"
    },
    {
     "data": {
      "application/javascript": [
       "\n",
       "            setTimeout(function() {\n",
       "                var nbb_cell_id = 45;\n",
       "                var nbb_unformatted_code = \"fig, ax1 = plt.subplots(figsize=(10, 6))\\nax1.hist([log_rev, log_exp])\\nplt.title(\\\"Log Total Revenue and Log Total Expenditure\\\")\\nplt.legend((\\\"Log Total Revenue\\\", \\\"Log Total Expenditure\\\"))\\nplt.show()\";\n",
       "                var nbb_formatted_code = \"fig, ax1 = plt.subplots(figsize=(10, 6))\\nax1.hist([log_rev, log_exp])\\nplt.title(\\\"Log Total Revenue and Log Total Expenditure\\\")\\nplt.legend((\\\"Log Total Revenue\\\", \\\"Log Total Expenditure\\\"))\\nplt.show()\";\n",
       "                var nbb_cells = Jupyter.notebook.get_cells();\n",
       "                for (var i = 0; i < nbb_cells.length; ++i) {\n",
       "                    if (nbb_cells[i].input_prompt_number == nbb_cell_id) {\n",
       "                        if (nbb_cells[i].get_text() == nbb_unformatted_code) {\n",
       "                             nbb_cells[i].set_text(nbb_formatted_code);\n",
       "                        }\n",
       "                        break;\n",
       "                    }\n",
       "                }\n",
       "            }, 500);\n",
       "            "
      ],
      "text/plain": [
       "<IPython.core.display.Javascript object>"
      ]
     },
     "metadata": {},
     "output_type": "display_data"
    }
   ],
   "source": [
    "fig, ax1 = plt.subplots(figsize=(10, 6))\n",
    "ax1.hist([log_rev, log_exp])\n",
    "plt.title(\"Log Total Revenue and Log Total Expenditure\")\n",
    "plt.legend((\"Log Total Revenue\", \"Log Total Expenditure\"))\n",
    "plt.show()"
   ]
  },
  {
   "cell_type": "code",
   "execution_count": 49,
   "metadata": {},
   "outputs": [
    {
     "name": "stdout",
     "output_type": "stream",
     "text": [
      "Thresholds and Z-scores for Log Total Revenue:\n",
      "The score threshold is: 1\n",
      "The indices of the outliers:\n",
      "(array([   4,   32,   44,   56,   85,   96,  108,  137,  148,  150,  161,\n",
      "        190,  201,  213,  241,  252,  264,  292,  299,  304,  316,  321,\n",
      "        344,  350,  355,  367,  372,  376,  385,  393,  395,  401,  406,\n",
      "        419,  424,  428,  437,  446,  448,  451,  454,  459,  471,  476,\n",
      "        480,  481,  490,  498,  500,  503,  506,  511,  523,  528,  532,\n",
      "        541,  549,  551,  554,  558,  563,  575,  580,  584,  593,  601,\n",
      "        603,  606,  609,  614,  626,  631,  635,  644,  652,  654,  657,\n",
      "        660,  663,  666,  678,  683,  687,  696,  704,  706,  709,  712,\n",
      "        717,  729,  733,  735,  736,  739,  748,  756,  758,  761,  764,\n",
      "        769,  782,  787,  788,  791,  800,  809,  811,  814,  817,  822,\n",
      "        834,  840,  841,  844,  853,  861,  863,  866,  869,  874,  889,\n",
      "        895,  896,  899,  907,  908,  916,  918,  919,  921,  924,  929,\n",
      "        932,  941,  947,  948,  951,  959,  960,  968,  970,  971,  973,\n",
      "        976,  981,  984,  993,  998,  999, 1002, 1010, 1011, 1019, 1021,\n",
      "       1024, 1027, 1032, 1044, 1049, 1050, 1053, 1061, 1062, 1070, 1072,\n",
      "       1075, 1078, 1083, 1086, 1095, 1100, 1101, 1104, 1112, 1113, 1121,\n",
      "       1123, 1126, 1129, 1134, 1137, 1146, 1151, 1152, 1155, 1163, 1164,\n",
      "       1172, 1174, 1177, 1180, 1185, 1188, 1197, 1202, 1203, 1206, 1214,\n",
      "       1215, 1223, 1225, 1228, 1231, 1236, 1239, 1248, 1253, 1254, 1257,\n",
      "       1265, 1266, 1274, 1276, 1279]),)\n",
      "Number of outliers is: 214\n",
      "The score threshold is: 2\n",
      "The indices of the outliers:\n",
      "(array([ 419,  471,  480,  523,  575,  626,  678,  706,  729,  758,  782,\n",
      "        811,  822,  834,  863,  874,  889,  918,  929,  941,  970,  981,\n",
      "        993, 1021, 1032, 1044, 1072, 1083, 1095, 1123, 1134, 1146, 1174,\n",
      "       1185, 1197, 1225, 1236, 1248, 1276]),)\n",
      "Number of outliers is: 39\n",
      "The score threshold is: 3\n",
      "The indices of the outliers:\n",
      "(array([], dtype=int64),)\n",
      "Number of outliers is: 0\n",
      "The score threshold is: 4\n",
      "The indices of the outliers:\n",
      "(array([], dtype=int64),)\n",
      "Number of outliers is: 0\n",
      "\n",
      "\n",
      "Thresholds and Z-scores for Log Total Expenditure:\n",
      "The score threshold is: 1\n",
      "The indices of the outliers:\n",
      "(array([   4,   32,   44,   56,   85,   96,  108,  137,  148,  150,  161,\n",
      "        190,  201,  213,  241,  252,  264,  292,  299,  304,  316,  321,\n",
      "        325,  344,  350,  355,  367,  372,  376,  385,  395,  401,  406,\n",
      "        419,  424,  428,  437,  446,  448,  454,  459,  471,  476,  480,\n",
      "        481,  490,  498,  500,  503,  506,  511,  523,  528,  532,  541,\n",
      "        549,  551,  554,  558,  563,  575,  580,  584,  593,  601,  603,\n",
      "        606,  609,  614,  626,  631,  635,  644,  652,  654,  657,  660,\n",
      "        663,  666,  678,  683,  687,  696,  704,  706,  709,  712,  717,\n",
      "        729,  733,  735,  736,  739,  748,  756,  758,  761,  764,  769,\n",
      "        782,  787,  788,  791,  800,  809,  811,  814,  817,  822,  834,\n",
      "        840,  841,  844,  853,  861,  863,  866,  869,  874,  877,  878,\n",
      "        880,  889,  895,  896,  899,  907,  908,  916,  918,  921,  924,\n",
      "        929,  932,  941,  947,  948,  951,  960,  968,  970,  973,  976,\n",
      "        981,  993,  998,  999, 1002, 1010, 1011, 1019, 1021, 1024, 1027,\n",
      "       1032, 1044, 1049, 1050, 1053, 1061, 1062, 1070, 1072, 1075, 1078,\n",
      "       1083, 1086, 1095, 1100, 1101, 1104, 1112, 1113, 1121, 1123, 1126,\n",
      "       1129, 1134, 1137, 1146, 1151, 1152, 1155, 1163, 1164, 1172, 1174,\n",
      "       1177, 1180, 1185, 1188, 1197, 1202, 1203, 1206, 1214, 1215, 1223,\n",
      "       1225, 1228, 1231, 1236, 1239, 1248, 1253, 1254, 1257, 1265, 1266,\n",
      "       1274, 1276, 1279]),)\n",
      "Number of outliers is: 212\n",
      "The score threshold is: 2\n",
      "The indices of the outliers:\n",
      "(array([ 419,  471,  480,  523,  575,  626,  678,  706,  729,  758,  782,\n",
      "        811,  822,  834,  863,  874,  889,  918,  929,  941,  970,  981,\n",
      "        993, 1021, 1032, 1044, 1072, 1083, 1095, 1123, 1134, 1146, 1174,\n",
      "       1185, 1197, 1225, 1236, 1248, 1276]),)\n",
      "Number of outliers is: 39\n",
      "The score threshold is: 3\n",
      "The indices of the outliers:\n",
      "(array([], dtype=int64),)\n",
      "Number of outliers is: 0\n",
      "The score threshold is: 4\n",
      "The indices of the outliers:\n",
      "(array([], dtype=int64),)\n",
      "Number of outliers is: 0\n",
      "\n",
      "\n"
     ]
    },
    {
     "data": {
      "application/javascript": [
       "\n",
       "            setTimeout(function() {\n",
       "                var nbb_cell_id = 49;\n",
       "                var nbb_unformatted_code = \"# calculate different total expenditure Z-score thresholds\\n# Note: taken directly from the reading\\n\\n\\ndatasets = [log_rev, log_exp]\\ndataset_names = [\\\"Log Total Revenue\\\", \\\"Log Total Expenditure\\\"]\\n\\nfor i, dataset in enumerate(datasets):\\n    z_scores = zscore(dataset)\\n    print(f\\\"Thresholds and Z-scores for {dataset_names[i]}:\\\")\\n    for threshold in range(1, 5):\\n        print(\\\"The score threshold is: {}\\\".format(threshold))\\n        print(\\\"The indices of the outliers:\\\")\\n        print(np.where(z_scores > threshold))\\n        print(\\n            \\\"Number of outliers is: {}\\\".format(len((np.where(z_scores > threshold)[0])))\\n        )\\n    print(\\\"\\\\n\\\")\";\n",
       "                var nbb_formatted_code = \"# calculate different total expenditure Z-score thresholds\\n# Note: taken directly from the reading\\n\\n\\ndatasets = [log_rev, log_exp]\\ndataset_names = [\\\"Log Total Revenue\\\", \\\"Log Total Expenditure\\\"]\\n\\nfor i, dataset in enumerate(datasets):\\n    z_scores = zscore(dataset)\\n    print(f\\\"Thresholds and Z-scores for {dataset_names[i]}:\\\")\\n    for threshold in range(1, 5):\\n        print(\\\"The score threshold is: {}\\\".format(threshold))\\n        print(\\\"The indices of the outliers:\\\")\\n        print(np.where(z_scores > threshold))\\n        print(\\n            \\\"Number of outliers is: {}\\\".format(len((np.where(z_scores > threshold)[0])))\\n        )\\n    print(\\\"\\\\n\\\")\";\n",
       "                var nbb_cells = Jupyter.notebook.get_cells();\n",
       "                for (var i = 0; i < nbb_cells.length; ++i) {\n",
       "                    if (nbb_cells[i].input_prompt_number == nbb_cell_id) {\n",
       "                        if (nbb_cells[i].get_text() == nbb_unformatted_code) {\n",
       "                             nbb_cells[i].set_text(nbb_formatted_code);\n",
       "                        }\n",
       "                        break;\n",
       "                    }\n",
       "                }\n",
       "            }, 500);\n",
       "            "
      ],
      "text/plain": [
       "<IPython.core.display.Javascript object>"
      ]
     },
     "metadata": {},
     "output_type": "display_data"
    }
   ],
   "source": [
    "# calculate different total expenditure Z-score thresholds\n",
    "# Note: taken directly from the reading\n",
    "\n",
    "\n",
    "datasets = [log_rev, log_exp]\n",
    "dataset_names = [\"Log Total Revenue\", \"Log Total Expenditure\"]\n",
    "\n",
    "for i, dataset in enumerate(datasets):\n",
    "    z_scores = zscore(dataset)\n",
    "    print(f\"Thresholds and Z-scores for {dataset_names[i]}:\")\n",
    "    for threshold in range(1, 5):\n",
    "        print(\"The score threshold is: {}\".format(threshold))\n",
    "        print(\"The indices of the outliers:\")\n",
    "        print(np.where(z_scores > threshold))\n",
    "        print(\n",
    "            \"Number of outliers is: {}\".format(len((np.where(z_scores > threshold)[0])))\n",
    "        )\n",
    "    print(\"\\n\")"
   ]
  },
  {
   "cell_type": "code",
   "execution_count": 50,
   "metadata": {},
   "outputs": [
    {
     "name": "stdout",
     "output_type": "stream",
     "text": [
      "Printing score thresholds and number of outliers for Total Revenue:\n",
      "\n",
      "\n",
      "\t The score threshold is: 1.0\n",
      "\t Number of outliers is: 25\n",
      "\n",
      "\n",
      "\t The score threshold is: 1.5\n",
      "\t Number of outliers is: 0\n",
      "\n",
      "\n",
      "\t The score threshold is: 2.0\n",
      "\t Number of outliers is: 0\n",
      "\n",
      "\n",
      "\t The score threshold is: 2.5\n",
      "\t Number of outliers is: 0\n",
      "\n",
      "\n",
      "\t The score threshold is: 3.0\n",
      "\t Number of outliers is: 0\n",
      "\n",
      "\n",
      "\t The score threshold is: 3.5\n",
      "\t Number of outliers is: 0\n",
      "\n",
      "\n",
      "\t The score threshold is: 4.0\n",
      "\t Number of outliers is: 0\n",
      "\n",
      "\n",
      "\t The score threshold is: 4.5\n",
      "\t Number of outliers is: 0\n",
      "\n",
      "\n",
      "\n",
      "\n",
      "Printing score thresholds and number of outliers for Total Expenditure:\n",
      "\n",
      "\n",
      "\t The score threshold is: 1.0\n",
      "\t Number of outliers is: 28\n",
      "\n",
      "\n",
      "\t The score threshold is: 1.5\n",
      "\t Number of outliers is: 0\n",
      "\n",
      "\n",
      "\t The score threshold is: 2.0\n",
      "\t Number of outliers is: 0\n",
      "\n",
      "\n",
      "\t The score threshold is: 2.5\n",
      "\t Number of outliers is: 0\n",
      "\n",
      "\n",
      "\t The score threshold is: 3.0\n",
      "\t Number of outliers is: 0\n",
      "\n",
      "\n",
      "\t The score threshold is: 3.5\n",
      "\t Number of outliers is: 0\n",
      "\n",
      "\n",
      "\t The score threshold is: 4.0\n",
      "\t Number of outliers is: 0\n",
      "\n",
      "\n",
      "\t The score threshold is: 4.5\n",
      "\t Number of outliers is: 0\n",
      "\n",
      "\n",
      "\n",
      "\n"
     ]
    },
    {
     "data": {
      "application/javascript": [
       "\n",
       "            setTimeout(function() {\n",
       "                var nbb_cell_id = 50;\n",
       "                var nbb_unformatted_code = \"# Tukey's Method applied to total revenue\\n# at different thresholds\\n# note: taken directly from reading\\ndatasets = [log_rev, log_exp]\\ndataset_names = ['Total Revenue', \\\"Total Expenditure\\\"]\\n\\nfor i, dataset in enumerate(datasets):\\n    print(f'Printing score thresholds and number of outliers for {dataset_names[i]}:')\\n    print('\\\\n')\\n    q75, q25 = np.percentile(dataset, [75, 25])\\n    iqr = q75 - q25\\n    \\n    for threshold in np.arange(1, 5, 0.5):\\n        min_val = q25 - (iqr * threshold)\\n        max_val = q75 + (iqr * threshold)\\n        print('\\\\t',\\\"The score threshold is: {}\\\".format(threshold))\\n        print('\\\\t',\\n            \\\"Number of outliers is: {}\\\".format(\\n                len((np.where((dataset > max_val) | (dataset < min_val))[0]))\\n            )\\n        )\\n        print('\\\\n')\\n    print('\\\\n')\";\n",
       "                var nbb_formatted_code = \"# Tukey's Method applied to total revenue\\n# at different thresholds\\n# note: taken directly from reading\\ndatasets = [log_rev, log_exp]\\ndataset_names = [\\\"Total Revenue\\\", \\\"Total Expenditure\\\"]\\n\\nfor i, dataset in enumerate(datasets):\\n    print(f\\\"Printing score thresholds and number of outliers for {dataset_names[i]}:\\\")\\n    print(\\\"\\\\n\\\")\\n    q75, q25 = np.percentile(dataset, [75, 25])\\n    iqr = q75 - q25\\n\\n    for threshold in np.arange(1, 5, 0.5):\\n        min_val = q25 - (iqr * threshold)\\n        max_val = q75 + (iqr * threshold)\\n        print(\\\"\\\\t\\\", \\\"The score threshold is: {}\\\".format(threshold))\\n        print(\\n            \\\"\\\\t\\\",\\n            \\\"Number of outliers is: {}\\\".format(\\n                len((np.where((dataset > max_val) | (dataset < min_val))[0]))\\n            ),\\n        )\\n        print(\\\"\\\\n\\\")\\n    print(\\\"\\\\n\\\")\";\n",
       "                var nbb_cells = Jupyter.notebook.get_cells();\n",
       "                for (var i = 0; i < nbb_cells.length; ++i) {\n",
       "                    if (nbb_cells[i].input_prompt_number == nbb_cell_id) {\n",
       "                        if (nbb_cells[i].get_text() == nbb_unformatted_code) {\n",
       "                             nbb_cells[i].set_text(nbb_formatted_code);\n",
       "                        }\n",
       "                        break;\n",
       "                    }\n",
       "                }\n",
       "            }, 500);\n",
       "            "
      ],
      "text/plain": [
       "<IPython.core.display.Javascript object>"
      ]
     },
     "metadata": {},
     "output_type": "display_data"
    }
   ],
   "source": [
    "# Tukey's Method applied to total revenue\n",
    "# at different thresholds\n",
    "# note: taken directly from reading\n",
    "datasets = [log_rev, log_exp]\n",
    "dataset_names = [\"Total Revenue\", \"Total Expenditure\"]\n",
    "\n",
    "for i, dataset in enumerate(datasets):\n",
    "    print(f\"Printing score thresholds and number of outliers for {dataset_names[i]}:\")\n",
    "    print(\"\\n\")\n",
    "    q75, q25 = np.percentile(dataset, [75, 25])\n",
    "    iqr = q75 - q25\n",
    "\n",
    "    for threshold in np.arange(1, 5, 0.5):\n",
    "        min_val = q25 - (iqr * threshold)\n",
    "        max_val = q75 + (iqr * threshold)\n",
    "        print(\"\\t\", \"The score threshold is: {}\".format(threshold))\n",
    "        print(\n",
    "            \"\\t\",\n",
    "            \"Number of outliers is: {}\".format(\n",
    "                len((np.where((dataset > max_val) | (dataset < min_val))[0]))\n",
    "            ),\n",
    "        )\n",
    "        print(\"\\n\")\n",
    "    print(\"\\n\")"
   ]
  },
  {
   "cell_type": "markdown",
   "metadata": {},
   "source": [
    "### 2. If you detect outliers in the TOTAL_REVENUE and TOTAL_EXPENDITURE variables, apply the techniques you learned in this checkpoint to eliminate them and validate that there's no outlier values after you handled them."
   ]
  },
  {
   "cell_type": "markdown",
   "metadata": {},
   "source": [
    "Total revenue and total expenditure appear to follow a log-normal distribution.  When they are logarithmically transformed, there are no outliers for both moderately low z-score and iqr method detection thresholds.  I would not choose to winsorize or drop any values instead of just applying a log transformation, unless I had reason to believe that the higher values were incorrectly reported."
   ]
  },
  {
   "cell_type": "markdown",
   "metadata": {},
   "source": [
    "### 3. Create another variable by subtracting the original TOTAL_EXPENDITURE from TOTAL_REVENUE (before you eliminated the outliers). You can think of it as a kind of budget deficit in education. Do you find any outlier values in this new variable? If so, eliminate them using the technique you think most suitable."
   ]
  },
  {
   "cell_type": "code",
   "execution_count": 56,
   "metadata": {},
   "outputs": [
    {
     "data": {
      "image/png": "[encoded data removed]",
      "text/plain": [
       "<Figure size 432x288 with 1 Axes>"
      ]
     },
     "metadata": {
      "needs_background": "light"
     },
     "output_type": "display_data"
    },
    {
     "data": {
      "image/png": "[encoded data removed]",
      "text/plain": [
       "<Figure size 432x288 with 1 Axes>"
      ]
     },
     "metadata": {
      "needs_background": "light"
     },
     "output_type": "display_data"
    },
    {
     "data": {
      "application/javascript": [
       "\n",
       "            setTimeout(function() {\n",
       "                var nbb_cell_id = 56;\n",
       "                var nbb_unformatted_code = \"budget_def = (ed_df[\\\"TOTAL_REVENUE\\\"] - ed_df[\\\"TOTAL_EXPENDITURE\\\"]).dropna()\\n\\nplt.boxplot(budget_def)\\nplt.title(\\\"Budget Deficit (USD)\\\")\\nplt.show()\\n\\nplt.hist(budget_def)\\nplt.title(\\\"Budget Deficit (USD)\\\")\\nplt.show()\";\n",
       "                var nbb_formatted_code = \"budget_def = (ed_df[\\\"TOTAL_REVENUE\\\"] - ed_df[\\\"TOTAL_EXPENDITURE\\\"]).dropna()\\n\\nplt.boxplot(budget_def)\\nplt.title(\\\"Budget Deficit (USD)\\\")\\nplt.show()\\n\\nplt.hist(budget_def)\\nplt.title(\\\"Budget Deficit (USD)\\\")\\nplt.show()\";\n",
       "                var nbb_cells = Jupyter.notebook.get_cells();\n",
       "                for (var i = 0; i < nbb_cells.length; ++i) {\n",
       "                    if (nbb_cells[i].input_prompt_number == nbb_cell_id) {\n",
       "                        if (nbb_cells[i].get_text() == nbb_unformatted_code) {\n",
       "                             nbb_cells[i].set_text(nbb_formatted_code);\n",
       "                        }\n",
       "                        break;\n",
       "                    }\n",
       "                }\n",
       "            }, 500);\n",
       "            "
      ],
      "text/plain": [
       "<IPython.core.display.Javascript object>"
      ]
     },
     "metadata": {},
     "output_type": "display_data"
    }
   ],
   "source": [
    "budget_def = (ed_df[\"TOTAL_REVENUE\"] - ed_df[\"TOTAL_EXPENDITURE\"]).dropna()\n",
    "\n",
    "plt.boxplot(budget_def)\n",
    "plt.title(\"Budget Deficit (USD)\")\n",
    "plt.show()\n",
    "\n",
    "plt.hist(budget_def)\n",
    "plt.title(\"Budget Deficit (USD)\")\n",
    "plt.show()"
   ]
  },
  {
   "cell_type": "markdown",
   "metadata": {},
   "source": [
    "### 4. Now create another variable by subtracting the TOTAL_EXPENDITURE from TOTAL_REVENUE. This time, use the outlier eliminated versions of TOTAL_EXPENDITURE from TOTAL_REVENUE. In this newly created variable, can you find any outliers? If so, eliminate them."
   ]
  },
  {
   "cell_type": "markdown",
   "metadata": {},
   "source": [
    "### 5. Compare some basic descriptive statistics of the budget variables you end up with in the 3rd and the 4th questions. Do you see any differences?"
   ]
  },
  {
   "cell_type": "markdown",
   "metadata": {},
   "source": [
    "### 6. If our variable of interest is the budget deficit variable, which method do you think is the appropriate in dealing with the outliers in this variable: the method in the 3rd question or the one in the 4th question?"
   ]
  },
  {
   "cell_type": "code",
   "execution_count": null,
   "metadata": {},
   "outputs": [],
   "source": []
  }
 ],
 "metadata": {
  "kernelspec": {
   "display_name": "Python 3",
   "language": "python",
   "name": "python3"
  },
  "language_info": {
   "codemirror_mode": {
    "name": "ipython",
    "version": 3
   },
   "file_extension": ".py",
   "mimetype": "text/x-python",
   "name": "python",
   "nbconvert_exporter": "python",
   "pygments_lexer": "ipython3",
   "version": "3.7.4"
  }
 },
 "nbformat": 4,
 "nbformat_minor": 2
}
